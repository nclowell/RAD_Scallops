{
 "cells": [
  {
   "cell_type": "markdown",
   "metadata": {
    "deletable": true,
    "editable": true
   },
   "source": [
    "# FSH 510 Walkthrough: \n",
    "### Tools for improving reproducibility and efficiency of our bioinformatics"
   ]
  },
  {
   "cell_type": "markdown",
   "metadata": {
    "deletable": true,
    "editable": true
   },
   "source": [
    "# 1. Data Integrity\n",
    "\n",
    "Data we download is the starting point for all of our analyses and conclusions. We should be concerned with its integrity, for our own work, and for reproducibility.\n",
    "\n",
    "## Check sums\n",
    "\n",
    "Although it seems improbable, the risk of data corruption during transfers is real. Check sums can be used to verify successful transfers.\n",
    "\n",
    "A **check sum** is related to a hash function - it is a function that takes a file as an input and outputs a unique character string. A small change in your file will result in a noticeable change in the check sum string.\n",
    "\n",
    "#### Example\n",
    "\n",
    "Here's a file with 1000 fastq reads. \n",
    "\n",
    "One section of the file looks like this:\n",
    "\n",
    "<img src=first_1.png>\n",
    "\n",
    "The check sum for this file is:"
   ]
  },
  {
   "cell_type": "code",
   "execution_count": 7,
   "metadata": {
    "collapsed": false
   },
   "outputs": [
    {
     "name": "stdout",
     "output_type": "stream",
     "text": [
      "1b2f963dde9bebb703d0f24e0ffe8a84  first1000.txt\r\n"
     ]
    }
   ],
   "source": [
    "!md5sum first1000.txt"
   ]
  },
  {
   "cell_type": "markdown",
   "metadata": {},
   "source": [
    "Then I went in and added an extra T. Now, the check sum for the changed file is:\n",
    "\n",
    "<img src=second_1.png>"
   ]
  },
  {
   "cell_type": "code",
   "execution_count": 9,
   "metadata": {
    "collapsed": false
   },
   "outputs": [
    {
     "name": "stdout",
     "output_type": "stream",
     "text": [
      "9191b9783d98fe7fb147f2efff1adbe4  first1000.txt\r\n"
     ]
    }
   ],
   "source": [
    "!md5sum first1000.txt"
   ]
  },
  {
   "cell_type": "markdown",
   "metadata": {},
   "source": [
    "## Using ``diff`` to find differences between files\n",
    "\n",
    "If your check sum suggests that the files are different, and you cannot retransfer the file, then you can use ``diff`` to identify regions that differ between files to, for example, fix them manually.\n",
    "\n",
    "``diff`` spits out blocks of text called \"hunks\" with the differences. Here, this is the fastq read that had the difference."
   ]
  },
  {
   "cell_type": "code",
   "execution_count": 13,
   "metadata": {
    "collapsed": false
   },
   "outputs": [
    {
     "name": "stdout",
     "output_type": "stream",
     "text": [
      "--- withT.txt\t2017-02-09 15:45:36.000000000 -0800\r\n",
      "+++ withoutT.txt\t2017-02-09 15:46:54.000000000 -0800\r\n",
      "@@ -8,7 +8,7 @@\r\n",
      " \r\n",
      " @5_1101_31375_1103_1\r\n",
      " \r\n",
      "-TGCAGGTCGGGGACTAGTAACAGAATAACTGATGTATCGTTCAGAATGTTGAAATAATCGTAGATGTGATTTAAATCATTTACTTTGCGGAACATATAAGGTCGTGATGTGTAGATTGTGTAAATCGCCACTTACGGATG\r\n",
      "+TGCAGGTCGGGGACTAGTAACAGAATAACTGATGTATCGTTCAGAATGTTGAAAAATCGTAGATGTGATTTAAATCATTTACTTTGCGGAACATATAAGGTCGTGATGTGTAGATTGTGTAAATCGCCACTTACGGATG\r\n",
      " \r\n",
      " +\r\n",
      " \r\n"
     ]
    }
   ],
   "source": [
    "!diff -u withT.txt withoutT.txt"
   ]
  },
  {
   "cell_type": "markdown",
   "metadata": {},
   "source": [
    "#### Questions for group\n",
    "\n",
    "- How many of us use check sums to verify the success of data downloads?\n",
    "- How many of us document how/when we downloaded, and check sum verification?\n",
    "\n",
    "<br>\n",
    "<br>\n",
    "<br>"
   ]
  },
  {
   "cell_type": "markdown",
   "metadata": {},
   "source": [
    "# 2. Common Python modules \n",
    "\n",
    "In our lab, many of us switch between Python, R, Bash, and Excel for evaluating outputs of steps in our Stacks pipeline or formatting files for steps in the pipeline. \n",
    "\n",
    "It would be more efficient to automate multiple steps into one program.\n",
    "\n",
    "There are Python modules for the many reasons we turn to R:\n",
    "\n",
    "- ``matplotlib`` for basic plotting\n",
    "- ``pandas`` for data frames\n",
    "- ``numpy`` & ``scipy`` for the fundamentals of math and science computing\n",
    "\n",
    "And some other cool modules we could use to beef up our code:\n",
    "\n",
    "- ``subprocess`` for running other programs from within a program\n",
    "- ``argparse`` for managing user input\n",
    "- ``time`` for time stamps and timing processes\n",
    "\n",
    "\n",
    "[examples of code and use]\n",
    "\n"
   ]
  },
  {
   "cell_type": "markdown",
   "metadata": {},
   "source": [
    "# 3. Automation\n",
    "\n",
    "\n",
    "#### Example: ``easy_ustacks.py``\n",
    "\n",
    "To run ``ustacks``, some of our lab members write bash scripts in bash, others write bash scripts in Python (as to not have to learn the syntax of bash). Then, we run the bash script from the terminal. Afterwards, many of us are interested in how many loci are retained per individual per population to decide whether to include all individuals for further analyses. Most of our lab mates then run an additional bash command to count loci, then format the output to fit into excel or R, to then plot. Some of us run ``ustacks`` overnight because we know it takes a long time, but knowing exactly how long it takes could help us make better use of time.\n",
    "\n",
    "Here, I've written a simple program that (1) writes your bash script, (2) runs your bash script, (3) plots loci per individual per population, and (4) times how long it takes to run ``ustacks``.\n",
    "\n",
    "Here's the [script](https://github.com/nclowell/RAD_Scallops/blob/master/CRAGIG_run1/Scripts/easy_ustacks.py).\n",
    "\n",
    "Here's what it looks like at the command line:\n",
    "\n",
    "[images of user input/output]\n",
    "\n",
    "It may not save huge amounts of time, but it could reduce the opportunities for human error (e.g., calling the wrong file, or not knowing there was an error in your bash script)."
   ]
  },
  {
   "cell_type": "markdown",
   "metadata": {},
   "source": [
    "# 4. GitHub\n",
    "\n",
    "GitHub is a distributed version control system written by the maker of Linux. It has a steep learning curve, but once over the hump, is great for sharing, collaborating, and version control.\n",
    "\n",
    "You can use git at the command line, which looks like this:\n",
    "\n",
    "<br>\n",
    "\n",
    "<img src=gitbash.png>\n",
    "\n",
    "<br>\n",
    "\n",
    "\n",
    "Or through the GitHub Desktop GUI if the command line freaks you out. It looks like this:\n",
    "\n",
    "\n",
    "<img src=gitdesktop.png>\n",
    "\n",
    "<br>\n",
    "\n",
    "\n",
    "Some cool things about GitHub:\n",
    "\n",
    "- makes it easy to collaborate with others, including infrastructure for controlling versions between users and communication channels like \"issues\"\n",
    "- supports markdown for pretty and clear documentation \n",
    "- great documentation for support (when trying to get over the learning curve hump)\n",
    "- because public, good for science outreach, communication, self-marketing\n",
    "\n",
    "You can make releases to package your work at a given time. For example, you could make a release when you finish one project, so that you have a record of what scripts you used.\n",
    "\n",
    "Here's what a release looks like:\n",
    "\n",
    "<img src=release.png>\n",
    "\n",
    "I go to Mary's GitHub and steal her scripts all the time...\n",
    "\n",
    "If we had a lab GitHub repository with shared scripts, there would be less reinventing the wheel and a gentler entry into bioinformatics for new students.\n",
    "\n",
    "#### Questions for the group\n",
    "\n",
    "(1) GitHub versus Evernote?\n",
    "\n",
    "- version control\n",
    "- releases\n",
    "- better communication (not just chat)\n",
    "\n",
    "(2) What do other labs use?"
   ]
  }
 ],
 "metadata": {
  "kernelspec": {
   "display_name": "Python 2",
   "language": "python",
   "name": "python2"
  },
  "language_info": {
   "codemirror_mode": {
    "name": "ipython",
    "version": 2
   },
   "file_extension": ".py",
   "mimetype": "text/x-python",
   "name": "python",
   "nbconvert_exporter": "python",
   "pygments_lexer": "ipython2",
   "version": "2.7.12"
  }
 },
 "nbformat": 4,
 "nbformat_minor": 2
}
