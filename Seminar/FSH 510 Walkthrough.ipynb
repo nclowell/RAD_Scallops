{
 "cells": [
  {
   "cell_type": "markdown",
   "metadata": {},
   "source": [
    "## 1. Data Integrity\n",
    "\n",
    "#### md5 check sums\n",
    "\n",
    "check sum example\n",
    "\n",
    "use diff to find blocks with difference\n",
    "\n",
    "#### diff\n",
    "\n",
    "## 2. Common modules in python (that our lab doesn't use)\n",
    "\n",
    "#### argparse\n",
    "#### subprocess\n",
    "#### pandas\n",
    "#### numpy\n",
    "#### matplotlib\n",
    "\n",
    "## 3. Automation - easy ustacks example\n",
    "\n",
    "## (vectors and speed?)\n",
    "\n",
    "## 4. GitHub - sharing, collaborating, version control\n"
   ]
  },
  {
   "cell_type": "markdown",
   "metadata": {},
   "source": [
    "## 1. Data Integrity\n",
    "\n",
    "Data we download is the starting point for all of our analyses and conclusions. We should be concerned with its integrity, for our own work, and for reproducibility.\n",
    "\n",
    "#### Check sums\n",
    "\n",
    "Although it seems improbable, the risk of data corruption during transfers is real. **Check sums** can be used to verify successful transfers.\n",
    "\n",
    "A check sum is related to a hash function - it is a function t\n",
    "\n"
   ]
  }
 ],
 "metadata": {
  "kernelspec": {
   "display_name": "Python 2",
   "language": "python",
   "name": "python2"
  },
  "language_info": {
   "codemirror_mode": {
    "name": "ipython",
    "version": 2
   },
   "file_extension": ".py",
   "mimetype": "text/x-python",
   "name": "python",
   "nbconvert_exporter": "python",
   "pygments_lexer": "ipython2",
   "version": "2.7.12"
  }
 },
 "nbformat": 4,
 "nbformat_minor": 2
}
