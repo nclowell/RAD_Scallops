{
 "cells": [
  {
   "cell_type": "markdown",
   "metadata": {
    "deletable": true,
    "editable": true
   },
   "source": [
    "# FSH 510 Walkthrough: \n",
    "### Basic tools for improving reproducibility and efficiency of our bioinformatics\n",
    "\n",
    "<br>\n",
    "<br>"
   ]
  },
  {
   "cell_type": "markdown",
   "metadata": {
    "deletable": true,
    "editable": true
   },
   "source": [
    "# 1. Data Integrity\n",
    "\n",
    "Data we download is the starting point for all of our analyses and conclusions. We should be concerned with its integrity, for our own work, and for reproducibility.\n",
    "\n",
    "## Check sums\n",
    "\n",
    "Although it seems improbable, the risk of data corruption during transfers is real. Check sums can be used to verify successful transfers.\n",
    "\n",
    "A **check sum** is related to a hash function - it is a function that takes a file as an input and outputs a unique character string. A small change in your file will result in a noticeable change in the check sum string.\n",
    "\n",
    "#### Example\n",
    "\n",
    "Here's a file with 1000 fastq reads. \n",
    "\n",
    "One section of the file looks like this:\n",
    "\n",
    "![image](https://github.com/nclowell/RAD_Scallops/blob/master/Seminar/images_for_notebook/first_1.png?raw=true)\n",
    "\n",
    "The check sum for this file is:"
   ]
  },
  {
   "cell_type": "code",
   "execution_count": 7,
   "metadata": {
    "collapsed": false,
    "deletable": true,
    "editable": true
   },
   "outputs": [
    {
     "name": "stdout",
     "output_type": "stream",
     "text": [
      "1b2f963dde9bebb703d0f24e0ffe8a84  first1000.txt\r\n"
     ]
    }
   ],
   "source": [
    "!md5sum first1000.txt"
   ]
  },
  {
   "cell_type": "markdown",
   "metadata": {
    "deletable": true,
    "editable": true
   },
   "source": [
    "Then I went in and added an extra T. Now, the check sum for the changed file is:\n",
    "\n",
    "![img](https://github.com/nclowell/RAD_Scallops/blob/master/Seminar/images_for_notebook/second_1.png?raw=true)"
   ]
  },
  {
   "cell_type": "code",
   "execution_count": 9,
   "metadata": {
    "collapsed": false,
    "deletable": true,
    "editable": true
   },
   "outputs": [
    {
     "name": "stdout",
     "output_type": "stream",
     "text": [
      "9191b9783d98fe7fb147f2efff1adbe4  first1000.txt\r\n"
     ]
    }
   ],
   "source": [
    "!md5sum first1000.txt"
   ]
  },
  {
   "cell_type": "markdown",
   "metadata": {
    "deletable": true,
    "editable": true
   },
   "source": [
    "## Using ``diff`` to find differences between files\n",
    "\n",
    "If your check sum suggests that the files are different, and you cannot retransfer the file, then you can use ``diff`` to identify regions that differ between files to, for example, fix them manually.\n",
    "\n",
    "``diff`` spits out blocks of text called \"hunks\" with the differences. Here, this is the fastq read that had the difference."
   ]
  },
  {
   "cell_type": "code",
   "execution_count": 13,
   "metadata": {
    "collapsed": false,
    "deletable": true,
    "editable": true
   },
   "outputs": [
    {
     "name": "stdout",
     "output_type": "stream",
     "text": [
      "--- withT.txt\t2017-02-09 15:45:36.000000000 -0800\r\n",
      "+++ withoutT.txt\t2017-02-09 15:46:54.000000000 -0800\r\n",
      "@@ -8,7 +8,7 @@\r\n",
      " \r\n",
      " @5_1101_31375_1103_1\r\n",
      " \r\n",
      "-TGCAGGTCGGGGACTAGTAACAGAATAACTGATGTATCGTTCAGAATGTTGAAATAATCGTAGATGTGATTTAAATCATTTACTTTGCGGAACATATAAGGTCGTGATGTGTAGATTGTGTAAATCGCCACTTACGGATG\r\n",
      "+TGCAGGTCGGGGACTAGTAACAGAATAACTGATGTATCGTTCAGAATGTTGAAAAATCGTAGATGTGATTTAAATCATTTACTTTGCGGAACATATAAGGTCGTGATGTGTAGATTGTGTAAATCGCCACTTACGGATG\r\n",
      " \r\n",
      " +\r\n",
      " \r\n"
     ]
    }
   ],
   "source": [
    "!diff -u withT.txt withoutT.txt"
   ]
  },
  {
   "cell_type": "markdown",
   "metadata": {
    "deletable": true,
    "editable": true
   },
   "source": [
    "#### Questions for group\n",
    "\n",
    "(1) How many of us verify the success of data downloads?\n",
    "\n",
    "(2) How many of us document how/when we downloaded and verification of successful download?\n",
    "\n",
    "<br>\n",
    "<br>\n",
    "<br>"
   ]
  },
  {
   "cell_type": "markdown",
   "metadata": {
    "deletable": true,
    "editable": true
   },
   "source": [
    "# 2. Common Python modules \n",
    "\n",
    "In our lab, many of us switch between Python, R, Bash, and Excel for evaluating outputs of steps in our Stacks pipeline or formatting files for steps in the pipeline. It could be more efficient to automate multiple steps into one program.\n",
    "\n",
    "At first, I did all dataframe work, plotting, and analyses in R because that's where I was comfortable and people told me Python wasn't great at these things. It turns out there are Python modules for the many reasons we turn to R, and they work just fine.\n",
    "\n",
    "- ``numpy`` & ``scipy`` for the fundamentals of math and science computing\n",
    "- ``matplotlib`` for basic plotting, based on MATLAB's plotting functions\n",
    "- ``pandas`` for higher level computing with dataframes\n",
    "\n",
    "\n",
    "And some other cool modules we could use to beef up our code:\n",
    "\n",
    "- ``subprocess`` for running other programs from within a program\n",
    "- ``argparse`` for managing user input\n",
    "- ``time`` for time stamps and timing processes\n",
    "\n",
    "#### ``numpy`` and ``scipy``\n",
    "\n",
    "#### ``matplotlib``\n",
    "\n",
    "Basic plotting in ``matplotlib`` isn't too different from basic plotting in R, just not built in and different syntax.\n",
    "<br>\n",
    "<br>\n",
    "\n",
    "![image](https://github.com/nclowell/RAD_Scallops/blob/master/Seminar/images_for_notebook/pyplot.png?raw=true)\n",
    "\n",
    "\n",
    "<br>\n",
    "<br>\n",
    "Example of multiple boxplots:\n",
    "\n",
    "![image](https://github.com/nclowell/RAD_Scallops/blob/master/Seminar/images_for_notebook/pyplot_fig.png?raw=true)\n",
    "\n",
    "#### ``argparse``\n",
    "\n",
    "``argparse`` allows you to define your arguments in place of sys (sys is under the hood), and in defining them, it automatically writes a help file. You can specify flags, allowing your arguments to come in any order. You can make some arguments required, causing the program to exit and printing to the screen the argument you did not name.\n",
    "\n",
    "In the script, it looks like this:\n",
    "\n",
    "<br>\n",
    "![image](https://github.com/nclowell/RAD_Scallops/blob/master/Seminar/images_for_notebook/argparse.png?raw=true)\n",
    "<br>\n",
    "\n",
    "Notice that it doesn't actually take much more code than defining with ``sys.argv`` and commenting in your script.\n",
    "\n",
    "And at the command line, the help file looks like this:\n",
    "\n",
    "<br>\n",
    "![image](https://github.com/nclowell/RAD_Scallops/blob/master/Seminar/images_for_notebook/helpfile.png?raw=true)\n",
    "<br>\n",
    "\n",
    "\n",
    "#### ``time``\n",
    "\n",
    "Here's a simple timer function:\n",
    "\n",
    "![image](https://github.com/nclowell/RAD_Scallops/blob/master/Seminar/images_for_notebook/timerfn.png?raw=true)\n",
    "\n",
    "Then, feeding in start and end times by using ``time.time()`` before and after a given process, you can print it to the screen like this:\n",
    "\n",
    "[NEED TO GET PIC]\n",
    "\n",
    "\n",
    "#### ``subprocess``\n",
    "\n",
    "I use ``subprocess`` to run scripts from within my Python script, but it there's a lot more it can do that goes over my head like managing standard output and errors.\n",
    "\n",
    "<br>\n",
    "![image](https://github.com/nclowell/RAD_Scallops/blob/master/Seminar/images_for_notebook/subprocess.png?raw=true)\n",
    "<br>\n",
    "\n",
    "#### Questions for group\n",
    "\n",
    "(1) How many languages/platforms do folks code in when running their bioinformatics pipelines?\n",
    "(2) What other modules do folks use in Python?\n",
    "(3) What packages to folks use in other languages like R? (Eleni brought this up)\n",
    "\n",
    "<br>\n",
    "<br>\n",
    "<br>\n"
   ]
  },
  {
   "cell_type": "markdown",
   "metadata": {
    "deletable": true,
    "editable": true
   },
   "source": [
    "# 3. Automation\n",
    "\n",
    "## Functions\n",
    "\n",
    "Write functions for this you're going to do over and over again. For example, I often want to verify that my code is doing what I hope it's doing, so I'd like it to pause, print something to the screen, and ask me whether the program should continue.\n",
    "\n",
    "#### Example: recursive function for yes-no-else user input\n",
    "\n",
    "![image](https://github.com/nclowell/RAD_Scallops/blob/master/Seminar/images_for_notebook/getinput.png?raw=true)\n",
    "\n",
    "## Programs \n",
    "\n",
    "#### Example: ``easy_ustacks.py``\n",
    "\n",
    "To run ``ustacks``, some of our lab members write bash scripts in bash, others write bash scripts in Python (as to not have to learn the syntax of bash). Then, we run the bash script from the terminal. Afterwards, many of us are interested in how many loci are retained per individual per population to decide whether to include all individuals for further analyses. Most of our lab mates then run an additional bash command to count loci, then format the output to fit into excel or R, to then plot. Some of us run ``ustacks`` overnight because we know it takes a long time, but knowing exactly how long it takes could help us make better use of time.\n",
    "\n",
    "Here, I've written a simple program that (1) writes your bash script, (2) runs your bash script, (3) plots loci per individual per population, and (4) times how long it takes to run ``ustacks``.\n",
    "\n",
    "Here's the [script](https://github.com/nclowell/RAD_Scallops/blob/master/CRAGIG_run1/Scripts/easy_ustacks.py).\n",
    "\n",
    "Here's what it looks like at the command line:\n",
    "\n",
    "[images of user input/output]\n",
    "\n",
    "Automating and verification of steps to user may reduce opportunities for human error."
   ]
  },
  {
   "cell_type": "markdown",
   "metadata": {
    "deletable": true,
    "editable": true
   },
   "source": [
    "# 4. GitHub\n",
    "\n",
    "GitHub is a distributed version control system written by the maker of Linux. It has a steep learning curve, but once over the hump, is great for sharing, collaborating, and version control.\n",
    "\n",
    "You can use git at the command line, which looks like this:\n",
    "\n",
    "<br>\n",
    "\n",
    "![image](https://github.com/nclowell/RAD_Scallops/blob/master/Seminar/images_for_notebook/gitbash.png?raw=true)\n",
    "\n",
    "<br>\n",
    "\n",
    "\n",
    "Or through the GitHub Desktop GUI if the command line freaks you out. It looks like this:\n",
    "\n",
    "\n",
    "![image](https://github.com/nclowell/RAD_Scallops/blob/master/Seminar/images_for_notebook/gitdesktop.png?raw=true)\n",
    "\n",
    "<br>\n",
    "\n",
    "\n",
    "Some cool things about GitHub:\n",
    "\n",
    "- makes it easy to collaborate with others, including infrastructure for controlling versions between users and communication channels like \"issues\"\n",
    "- supports markdown for pretty and clear documentation \n",
    "- great documentation for support (when trying to get over the learning curve hump)\n",
    "- because public, good for science outreach, communication, self-marketing\n",
    "\n",
    "You can make releases to package your work at a given time. For example, you could make a release when you finish one project, so that you have a record of what scripts you used.\n",
    "\n",
    "Here's what a release looks like:\n",
    "\n",
    "![image](https://github.com/nclowell/RAD_Scallops/blob/master/Seminar/images_for_notebook/release.png?raw=true)\n",
    "\n",
    "I go to Mary's GitHub and steal her scripts all the time...\n",
    "\n",
    "If we had a lab GitHub repository with shared scripts, there would be less reinventing the wheel and a more efficient entry into bioinformatics for new students.\n",
    "\n",
    "#### Questions for the group\n",
    "\n",
    "(1) GitHub versus Evernote?\n",
    "\n",
    "- version control\n",
    "- releases\n",
    "- better communication (not just chat)\n",
    "\n",
    "(2) What do other labs use?"
   ]
  }
 ],
 "metadata": {
  "kernelspec": {
   "display_name": "Python 2",
   "language": "python",
   "name": "python2"
  },
  "language_info": {
   "codemirror_mode": {
    "name": "ipython",
    "version": 2
   },
   "file_extension": ".py",
   "mimetype": "text/x-python",
   "name": "python",
   "nbconvert_exporter": "python",
   "pygments_lexer": "ipython2",
   "version": "2.7.12"
  }
 },
 "nbformat": 4,
 "nbformat_minor": 2
}
