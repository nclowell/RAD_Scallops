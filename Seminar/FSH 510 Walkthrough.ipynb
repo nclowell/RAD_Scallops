{
 "cells": [
  {
   "cell_type": "markdown",
   "metadata": {},
   "source": [
    "## 1. Data Integrity\n",
    "\n",
    "#### md5 check sums\n",
    "\n",
    "check sum example\n",
    "\n",
    "use diff to find blocks with difference\n",
    "\n",
    "#### diff\n",
    "\n",
    "## 2. Common modules in python (that our lab doesn't use)\n",
    "\n",
    "#### argparse\n",
    "#### subprocess\n",
    "#### pandas\n",
    "#### numpy\n",
    "#### matplotlib\n",
    "\n",
    "## 3. Automation - easy ustacks example\n",
    "\n",
    "## (vectors and speed?)\n",
    "\n",
    "## 4. GitHub - sharing, collaborating, version control\n"
   ]
  },
  {
   "cell_type": "markdown",
   "metadata": {},
   "source": [
    "# 1. Data Integrity\n",
    "\n",
    "Data we download is the starting point for all of our analyses and conclusions. We should be concerned with its integrity, for our own work, and for reproducibility.\n",
    "\n",
    "## Check sums\n",
    "\n",
    "Although it seems improbable, the risk of data corruption during transfers is real. Check sums can be used to verify successful transfers.\n",
    "\n",
    "A **check sum** is related to a hash function - it is a function that takes a file as an input and outputs a unique character string. A small change in your file will result in a noticeable change in the check sum string.\n",
    "\n",
    "#### Example\n",
    "\n",
    "Here's a file with 1000 fastq reads. \n",
    "\n",
    "One section of the file looks like this:\n",
    "\n",
    "<img src=first.png>\n",
    "\n",
    "The check sum for this file is:"
   ]
  },
  {
   "cell_type": "code",
   "execution_count": 7,
   "metadata": {
    "collapsed": false
   },
   "outputs": [
    {
     "name": "stdout",
     "output_type": "stream",
     "text": [
      "1b2f963dde9bebb703d0f24e0ffe8a84  first1000.txt\r\n"
     ]
    }
   ],
   "source": [
    "!md5sum first1000.txt"
   ]
  },
  {
   "cell_type": "markdown",
   "metadata": {},
   "source": [
    "Then I went in and added an extra T. Now, the check sum for the changed file is:\n",
    "\n",
    "<img src=second.png>"
   ]
  },
  {
   "cell_type": "code",
   "execution_count": 8,
   "metadata": {
    "collapsed": false
   },
   "outputs": [
    {
     "name": "stdout",
     "output_type": "stream",
     "text": [
      "1b2f963dde9bebb703d0f24e0ffe8a84  first1000.txt\r\n"
     ]
    }
   ],
   "source": [
    "!md5sum first1000.txt"
   ]
  },
  {
   "cell_type": "markdown",
   "metadata": {},
   "source": [
    "## Using ``diff`` to find differences between files\n",
    "\n",
    "If your check sum suggests that the files are different, and you cannot retransfer the file, then you can use ``diff`` to identify regions that differ between files to, for example, fix them manually.\n",
    "\n"
   ]
  }
 ],
 "metadata": {
  "kernelspec": {
   "display_name": "Python 2",
   "language": "python",
   "name": "python2"
  },
  "language_info": {
   "codemirror_mode": {
    "name": "ipython",
    "version": 2
   },
   "file_extension": ".py",
   "mimetype": "text/x-python",
   "name": "python",
   "nbconvert_exporter": "python",
   "pygments_lexer": "ipython2",
   "version": "2.7.12"
  }
 },
 "nbformat": 4,
 "nbformat_minor": 2
}
