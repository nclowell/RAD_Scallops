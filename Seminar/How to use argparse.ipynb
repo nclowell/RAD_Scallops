{
 "cells": [
  {
   "cell_type": "markdown",
   "metadata": {},
   "source": [
    "# How to use ``argparse``\n",
    "\n"
   ]
  },
  {
   "cell_type": "markdown",
   "metadata": {},
   "source": [
    "I wrote a brief script that demonstrates how arguments are managed by ``argparse``, by building a sentence and doing some basic arithemtic.\n",
    "\n",
    "### Why use ``argparse``?\n",
    "\n",
    "It has more functionality than ``sys`` and automatically builds you a help file. \n"
   ]
  },
  {
   "cell_type": "code",
   "execution_count": 11,
   "metadata": {
    "collapsed": false
   },
   "outputs": [
    {
     "name": "stdout",
     "output_type": "stream",
     "text": [
      "/mnt/hgfs/SHARED_FOLDER\n"
     ]
    }
   ],
   "source": [
    "cd /mnt/hgfs/SHARED_FOLDER"
   ]
  },
  {
   "cell_type": "markdown",
   "metadata": {},
   "source": [
    "### Basic format of using ``argparse``\n",
    "\n",
    "Use ``parser`` to make an argument parser object, and then parse the arguments with parse_args() so that you can call arguments with args.name (e.g., args.mismatch). This adds a little labor upfront, instead of simply calling arguments like ``mismatch = sys.argv[1]``, but adds some useful functionality down the line.\n",
    "\n",
    "```\n",
    "parser = argparse.ArgumentParser(description=\"A script to explain how argparse works\")\n",
    "parser.add_argument(\"-n\", \"--noun\", help=\"A noun for your example sentence, e.g., 'dog'\", type=str, required=True)\n",
    "parser.add_argument(\"-m\", \"--muahaha\", help=\"Add evil muahaha to end of sentence.\", action='store_true')\n",
    "args = parser.parse_args()\n",
    "```\n",
    "\n",
    "The actual script is [here](https://github.com/nclowell/RAD_Scallops/blob/master/Seminar/how_to_argparse.py)...\n",
    "\n",
    "### ``argparse`` automatically writes you a help file\n",
    "\n",
    "Call the helpfile with -h or --help"
   ]
  },
  {
   "cell_type": "code",
   "execution_count": 12,
   "metadata": {
    "collapsed": false
   },
   "outputs": [
    {
     "name": "stdout",
     "output_type": "stream",
     "text": [
      "usage: how_to_argparse.py [-h] -n NOUN -v VERB -a ADJECTIVE [-p PUNCTUATION]\r\n",
      "                          -x NUM1 -y NUM2 [-m]\r\n",
      "\r\n",
      "A script to explain how argparse works\r\n",
      "\r\n",
      "optional arguments:\r\n",
      "  -h, --help            show this help message and exit\r\n",
      "  -n NOUN, --noun NOUN  A noun for your example sentence, e.g., 'dog'\r\n",
      "  -v VERB, --verb VERB  A verb for your example sentence, e.g., 'walk'\r\n",
      "  -a ADJECTIVE, --adjective ADJECTIVE\r\n",
      "                        An adjective for your example sentence, e.g., 'fluffy'\r\n",
      "  -p PUNCTUATION, --punctuation PUNCTUATION\r\n",
      "                        Punctuation for the end of your example sentence,\r\n",
      "                        e.g., '!!'; default = '!'\r\n",
      "  -x NUM1, --num1 NUM1  A first integer to multiply to show you how argparse\r\n",
      "                        can take numbers\r\n",
      "  -y NUM2, --num2 NUM2  A second integer to multiply to show you how argparse\r\n",
      "                        can take numbers\r\n",
      "  -m, --muahaha         Add evil muahaha to end of sentence.\r\n"
     ]
    }
   ],
   "source": [
    "!python how_to_argparse.py -h"
   ]
  },
  {
   "cell_type": "markdown",
   "metadata": {},
   "source": [
    "Notice, you can have arguments that are optional or take inputs, and some are not required, using standard notation in the top of the help file.\n",
    "\n",
    "### Let's have the script make a sentence and do some math\n",
    "\n",
    "Just plugging in some words and numbers to show it assemble a sentence."
   ]
  },
  {
   "cell_type": "code",
   "execution_count": 18,
   "metadata": {
    "collapsed": false
   },
   "outputs": [
    {
     "name": "stdout",
     "output_type": "stream",
     "text": [
      "The chaotic cat will cackle!!!\r\n",
      "Multiplying 3 and 7 gets you 21\r\n"
     ]
    }
   ],
   "source": [
    "!python how_to_argparse.py \\\n",
    "-n cat \\\n",
    "-v cackle \\\n",
    "-a chaotic \\\n",
    "-p !!! \\\n",
    "-x 3 \\\n",
    "-y 7 \\"
   ]
  },
  {
   "cell_type": "markdown",
   "metadata": {},
   "source": [
    "Here are some different arguments:"
   ]
  },
  {
   "cell_type": "code",
   "execution_count": 19,
   "metadata": {
    "collapsed": false
   },
   "outputs": [
    {
     "name": "stdout",
     "output_type": "stream",
     "text": [
      "The sweet dog will woof.\r\n",
      "Multiplying 2 and 9 gets you 18\r\n"
     ]
    }
   ],
   "source": [
    "!python how_to_argparse.py \\\n",
    "-n dog \\\n",
    "-v woof \\\n",
    "-a sweet \\\n",
    "-p . \\\n",
    "-x 2 \\\n",
    "-y 9 \\"
   ]
  },
  {
   "cell_type": "markdown",
   "metadata": {},
   "source": [
    "Now let's add that optional argument with ``-m``. We coded it in with a simple loop:\n",
    "\n",
    "```\n",
    "endstring = \"\"\n",
    "if args.muahaha == True:\n",
    "    endstring += \" Muahaha!\"\n",
    "```"
   ]
  },
  {
   "cell_type": "code",
   "execution_count": 20,
   "metadata": {
    "collapsed": false
   },
   "outputs": [
    {
     "name": "stdout",
     "output_type": "stream",
     "text": [
      "The chaotic cat will cackle!!! Muahaha!\r\n",
      "Multiplying 3 and 7 gets you 21\r\n"
     ]
    }
   ],
   "source": [
    "!python how_to_argparse.py \\\n",
    "-n cat \\\n",
    "-v cackle \\\n",
    "-a chaotic \\\n",
    "-p !!! \\\n",
    "-x 3 \\\n",
    "-y 7 \\\n",
    "-m"
   ]
  },
  {
   "cell_type": "markdown",
   "metadata": {},
   "source": [
    "We also added a default value for punctuation, \"!\", so that if you don't specify one, the script will. We did that with a simple loop:\n",
    "\n",
    "```\n",
    "punctuation = \"\"\n",
    "if args.punctuation == None:\n",
    "    punctuation += \"!\"\n",
    "else:\n",
    "    punctuation += args.punctuation\n",
    "```\n",
    "\n",
    "So, if we take out the punctuation argument, it will add an exclamation point by default:"
   ]
  },
  {
   "cell_type": "code",
   "execution_count": 29,
   "metadata": {
    "collapsed": false
   },
   "outputs": [
    {
     "name": "stdout",
     "output_type": "stream",
     "text": [
      "The chaotic cat will cackle!\r\n",
      "Multiplying 3 and 7 gets you 21\r\n"
     ]
    }
   ],
   "source": [
    "!python how_to_argparse.py \\\n",
    "-n cat \\\n",
    "-v cackle \\\n",
    "-a chaotic \\\n",
    "-x 3 \\\n",
    "-y 7 \\"
   ]
  }
 ],
 "metadata": {
  "kernelspec": {
   "display_name": "Python 2",
   "language": "python",
   "name": "python2"
  },
  "language_info": {
   "codemirror_mode": {
    "name": "ipython",
    "version": 2
   },
   "file_extension": ".py",
   "mimetype": "text/x-python",
   "name": "python",
   "nbconvert_exporter": "python",
   "pygments_lexer": "ipython2",
   "version": "2.7.12"
  }
 },
 "nbformat": 4,
 "nbformat_minor": 2
}
