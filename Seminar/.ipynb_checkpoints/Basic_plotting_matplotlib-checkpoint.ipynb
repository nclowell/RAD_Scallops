{
 "cells": [
  {
   "cell_type": "markdown",
   "metadata": {
    "deletable": true,
    "editable": true
   },
   "source": [
    "# Basic plotting with ``matplotlib`` in Python\n",
    "\n",
    "Many of our lab mates use R for data visualization, which is great. We also work a ton in Python, for formatting and filtering loci, and it could streamline our workflow to include plots in our python scripts instead of moving outputs to R or Excel for data visualiation. ``matplotlib`` is a plotting library for Python and its numerical mathematics extension ``NumPy`` ([Wiki](https://en.wikipedia.org/wiki/Matplotlib)). It is probably the most basic, widely used plotting module in Python. Here we'll use ``matplotlib`` to plot histograms, scatter plots, and box plots, and ``numpy`` to generate random numbers, best-fit lines, and calculate correlation coefficients for our plots.\n",
    "\n",
    "You will need to install ``matplotlib`` and ``numpy`` for this tutorial. Check out the [``matplotlib`` installation page](https://matplotlib.org/users/installing.html) and the [``numpy`` isntallation page](https://scipy.org/install.html) to get them up and running."
   ]
  },
  {
   "cell_type": "markdown",
   "metadata": {
    "deletable": true,
    "editable": true
   },
   "source": [
    "Set working directory & import modules"
   ]
  },
  {
   "cell_type": "code",
   "execution_count": 11,
   "metadata": {
    "collapsed": false,
    "deletable": true,
    "editable": true
   },
   "outputs": [
    {
     "name": "stdout",
     "output_type": "stream",
     "text": [
      "/mnt/hgfs/SHARED_FOLDER/Git_repo/Seminar\n"
     ]
    }
   ],
   "source": [
    "cd /mnt/hgfs/SHARED_FOLDER/Git_repo/Seminar"
   ]
  },
  {
   "cell_type": "code",
   "execution_count": 1,
   "metadata": {
    "collapsed": true,
    "deletable": true,
    "editable": true
   },
   "outputs": [],
   "source": [
    "import matplotlib.pyplot as plt\n",
    "import numpy as np"
   ]
  },
  {
   "cell_type": "markdown",
   "metadata": {
    "deletable": true,
    "editable": true
   },
   "source": [
    "## Histograms\n",
    "\n",
    "**[1]** Make data\n",
    "\n",
    "Before making a histogram, we need to make some data. I'm going to use a function in ``numpy`` to create random numbers, called ``np.random.uniform()`` which will return random numbers from a range with a uniform distribution. The arguments are [1] the lower end of the range, [2] the upper end of the range, and [3] the number of values to return. Here, we can pretend they are allele frequencies, and save the returned array of values as ``af``."
   ]
  },
  {
   "cell_type": "code",
   "execution_count": 5,
   "metadata": {
    "collapsed": false,
    "deletable": true,
    "editable": true
   },
   "outputs": [
    {
     "name": "stdout",
     "output_type": "stream",
     "text": [
      "[ 0.94274723  0.04919576  0.29219477  0.37239849  0.95429099]\n"
     ]
    }
   ],
   "source": [
    "# make 100 random numbers between 0 and 1\n",
    "af = np.random.uniform(0,1,100)\n",
    "\n",
    "# print first 5 values in af\n",
    "print af[0:5]"
   ]
  },
  {
   "cell_type": "markdown",
   "metadata": {
    "deletable": true,
    "editable": true
   },
   "source": [
    "**[2]** Plot histogram of single distribution\n",
    "\n",
    "Plot the histogram using ``plt.hist()``, with your data (here ``af``) as the first argument. You can use the ``bins`` argument to set the bin sizes. I like to do that with ``np.arange``, which makes a list of numbers from x to y by increments of z. In addition, I like my histogram bars to be centered around the tick, which you can set by subtracting a value half the size of your increment at the end of your bins argument. Add a title with ``plt.title()``, and x and y labels with ``plt.xlabel()`` and ``plt.ylabel``. Finally, print the plot to the screen with ``plt.show()``, or save the plot to a file with ``plt.savefig()``."
   ]
  },
  {
   "cell_type": "code",
   "execution_count": 17,
   "metadata": {
    "collapsed": false,
    "deletable": true,
    "editable": true
   },
   "outputs": [
    {
     "data": {
      "image/png": "[encoded data removed]",
      "text/plain": [
       "<matplotlib.figure.Figure at 0x7f199ba34550>"
      ]
     },
     "metadata": {},
     "output_type": "display_data"
    }
   ],
   "source": [
    "# plot histogram of af data, with bins every .1 from 0 to 1, centered on ticks\n",
    "plt.hist(af, bins = np.arange(0,1,.1)-.05) \n",
    "\n",
    "# add a title\n",
    "plt.title(\"Allele frequency distribution\")\n",
    "\n",
    "# add x and y labels\n",
    "plt.xlabel(\"Allele frequency\")\n",
    "plt.ylabel(\"Frequency\")\n",
    "\n",
    "# print plot to screen\n",
    "plt.show()"
   ]
  },
  {
   "cell_type": "code",
   "execution_count": 13,
   "metadata": {
    "collapsed": true,
    "deletable": true,
    "editable": true
   },
   "outputs": [],
   "source": [
    "# save plot to file\n",
    "plt.savefig(\"myfig.png\")"
   ]
  },
  {
   "cell_type": "code",
   "execution_count": 16,
   "metadata": {
    "collapsed": false,
    "deletable": true,
    "editable": true
   },
   "outputs": [
    {
     "name": "stdout",
     "output_type": "stream",
     "text": [
      "Basic plotting with matplotlib in Python.ipynb\tHow to use argparse.ipynb\r\n",
      "FSH 510 - 20160216.ipynb\t\t\timages_for_notebook\r\n",
      "goodenough.md\t\t\t\t\tmyfig.png\r\n",
      "how_to_argparse.py\r\n"
     ]
    }
   ],
   "source": [
    "# see figure in working directory\n",
    "!ls"
   ]
  },
  {
   "cell_type": "markdown",
   "metadata": {
    "deletable": true,
    "editable": true
   },
   "source": [
    "**[3]** Make more data\n",
    "\n",
    "I'll create a second distribution of values using the random numbers function in ``numpy`` for a normal distribution, so we can compare the two on the same plot. Here, I pass the mean, the standard deviation, and the number of values I want sampled to ``np.random.normal()``."
   ]
  },
  {
   "cell_type": "code",
   "execution_count": 23,
   "metadata": {
    "collapsed": false,
    "deletable": true,
    "editable": true
   },
   "outputs": [
    {
     "name": "stdout",
     "output_type": "stream",
     "text": [
      "[ 0.56147851  0.44711411  0.52549233  0.58778666  0.75142779]\n"
     ]
    }
   ],
   "source": [
    "# get 100 values from a Gaussian distribution with mean .5 and standard deviation of .2\n",
    "af2 = np.random.normal(0.5,0.2,100)\n",
    "\n",
    "# show first five values\n",
    "print af2[0:5]"
   ]
  },
  {
   "cell_type": "markdown",
   "metadata": {
    "deletable": true,
    "editable": true
   },
   "source": [
    "**[4]** Plot histogram with both distributions\n",
    "\n",
    "Almost the same code, except I fed the histogram function a list of each data set. And, I added a legend. There are many ways to add a legend. One is to add colors and labels in the plotting function (here ``plt.hist()``) and then to call ``plt.legend()``."
   ]
  },
  {
   "cell_type": "code",
   "execution_count": 31,
   "metadata": {
    "collapsed": false,
    "deletable": true,
    "editable": true
   },
   "outputs": [
    {
     "data": {
      "image/png": "[encoded data removed]",
      "text/plain": [
       "<matplotlib.figure.Figure at 0x7f199ab06b90>"
      ]
     },
     "metadata": {},
     "output_type": "display_data"
    }
   ],
   "source": [
    "# plot histogram of af and af2 data, with bins every .1 from 0 to 1, centered on ticks\n",
    "plt.hist([af,af2], bins = np.arange(0,1,.1)-.05, color = ['blue','orange'], label = [\"af\", \"af2\"])\n",
    "\n",
    "# add title\n",
    "plt.title(\"Two distributions of allele frequencies\")\n",
    "\n",
    "# add x and y labels\n",
    "plt.xlabel(\"Allele frequency\")\n",
    "plt.ylabel(\"Frequency\")\n",
    "\n",
    "plt.legend()\n",
    "\n",
    "# print plot to screen\n",
    "plt.show()"
   ]
  },
  {
   "cell_type": "markdown",
   "metadata": {
    "deletable": true,
    "editable": true
   },
   "source": [
    "## Scatter plots"
   ]
  },
  {
   "cell_type": "markdown",
   "metadata": {
    "deletable": true,
    "editable": true
   },
   "source": [
    "**[1]** Make data\n",
    "\n",
    "Let's pretend we're looking for correlation between locus read depth and observed heterozygosity, and make up some data. I'm going to make two lists, where the indeces match (e.g., the first heterozygosity value is for the locus with the first read depth value)."
   ]
  },
  {
   "cell_type": "code",
   "execution_count": 38,
   "metadata": {
    "collapsed": true,
    "deletable": true,
    "editable": true
   },
   "outputs": [],
   "source": [
    "# make up list of read depths\n",
    "rd = [76,44,111,36,35,40,22,47,99,80,60,32,72]\n",
    "\n",
    "# make up list of heterozygosity values\n",
    "ho = [.55,.4,.9,.2,.1,.08,.1,.5,.9,.44,.31,.28,.56]"
   ]
  },
  {
   "cell_type": "markdown",
   "metadata": {
    "deletable": true,
    "editable": true
   },
   "source": [
    "**[2]** Make scatter plot\n",
    "\n",
    "Make a scatter plot with ``plt.scatter()``, then add a title and x and y labels like I did with the histogram. Print to the screen with ``plt.show()`` or save the plot to a file with ``plt.savefig()``."
   ]
  },
  {
   "cell_type": "code",
   "execution_count": 39,
   "metadata": {
    "collapsed": false,
    "deletable": true,
    "editable": true
   },
   "outputs": [
    {
     "data": {
      "image/png": "[encoded data removed]",
      "text/plain": [
       "<matplotlib.figure.Figure at 0x7f199ad62c90>"
      ]
     },
     "metadata": {},
     "output_type": "display_data"
    }
   ],
   "source": [
    "# make scatter plot with read depth as x and observed heterozygosity as y\n",
    "plt.scatter(rd, ho)\n",
    "\n",
    "# add a title\n",
    "plt.title(\"Read depth vs. observed heterozygosity\")\n",
    "\n",
    "# add x and y label\n",
    "plt.xlabel(\"Read depth\")\n",
    "plt.ylabel(\"Observed heterozygosity\")\n",
    "\n",
    "# print plot to screen\n",
    "plt.show()"
   ]
  },
  {
   "cell_type": "markdown",
   "metadata": {
    "deletable": true,
    "editable": true
   },
   "source": [
    "**[3]** Plot line on scatter plot\n",
    "\n",
    "Oh no, looks like there might be some correlation! You might want to plot a line and the correlation coefficient on the same plot. To do that, first we'll calculate the correlation coefficient using ``np.corrcoef()``. This function outputs a correlation coefficient matrix, and we're interested in the value from the first row and second column. Then we'll add a best-fit line to the plot using ``np.polyfit()`` to get slope and y intercept, and add text to the figure using ``plt.text()``"
   ]
  },
  {
   "cell_type": "code",
   "execution_count": 44,
   "metadata": {
    "collapsed": false,
    "deletable": true,
    "editable": true
   },
   "outputs": [
    {
     "name": "stdout",
     "output_type": "stream",
     "text": [
      "0.908875405318\n"
     ]
    }
   ],
   "source": [
    "# get Pearson's correlation coefficient between read depth and observed heterozygosity\n",
    "corr = np.corrcoef(rd, ho)[0,1]\n",
    "print corr"
   ]
  },
  {
   "cell_type": "code",
   "execution_count": null,
   "metadata": {
    "collapsed": true,
    "deletable": true,
    "editable": true
   },
   "outputs": [],
   "source": [
    "# get slope and y intercept of best fit line using np.polyfit()"
   ]
  },
  {
   "cell_type": "code",
   "execution_count": 48,
   "metadata": {
    "collapsed": false,
    "deletable": true,
    "editable": true
   },
   "outputs": [
    {
     "name": "stdout",
     "output_type": "stream",
     "text": [
      "0.00904427882508\n",
      "-0.115337402624\n"
     ]
    }
   ],
   "source": [
    "m,b = np.polyfit(rd, ho, 1)\n",
    "print m\n",
    "print b"
   ]
  },
  {
   "cell_type": "code",
   "execution_count": 51,
   "metadata": {
    "collapsed": false,
    "deletable": true,
    "editable": true
   },
   "outputs": [],
   "source": [
    "# use line equation to get points for best fit line\n",
    "linevals = [i*m + b for i in rd]"
   ]
  },
  {
   "cell_type": "code",
   "execution_count": 55,
   "metadata": {
    "collapsed": false,
    "deletable": true,
    "editable": true
   },
   "outputs": [
    {
     "data": {
      "image/png": "[encoded data removed]",
      "text/plain": [
       "<matplotlib.figure.Figure at 0x7f199bb87ed0>"
      ]
     },
     "metadata": {},
     "output_type": "display_data"
    }
   ],
   "source": [
    "# make scatter plot with read depth as x and observed heterozygosity as y\n",
    "plt.scatter(rd, ho)\n",
    "\n",
    "# add line of best fit\n",
    "plt.plot(rd, linevals)\n",
    "\n",
    "# add text with correlation value\n",
    "plt.text(90,.1,\"R^2 = 0.908\")\n",
    "\n",
    "# add a title\n",
    "plt.title(\"Read depth vs. observed heterozygosity\")\n",
    "\n",
    "# add x and y label\n",
    "plt.xlabel(\"Read depth\")\n",
    "plt.ylabel(\"Observed heterozygosity\")\n",
    "\n",
    "\n",
    "# print plot to screen\n",
    "plt.show()"
   ]
  },
  {
   "cell_type": "markdown",
   "metadata": {
    "deletable": true,
    "editable": true
   },
   "source": [
    "## Boxplots\n",
    "\n",
    "**[1]** Make data\n",
    "\n",
    "Let's say we want to compare the number of retained loci from several populations. Here, I'll make up some data."
   ]
  },
  {
   "cell_type": "code",
   "execution_count": 57,
   "metadata": {
    "collapsed": true,
    "deletable": true,
    "editable": true
   },
   "outputs": [],
   "source": [
    "AK = np.random.uniform(52000,59000,20)\n",
    "WA = np.random.uniform(45000,57000,20)\n",
    "CA = np.random.uniform(42000,59000,20)"
   ]
  },
  {
   "cell_type": "markdown",
   "metadata": {
    "deletable": true,
    "editable": true
   },
   "source": [
    "**[2]** Plot single boxplot\n",
    "\n",
    "Use ``plt.boxplot()`` to make a boxplot of the WA data. Then use ``plt.title()`` and ``plt.ylabel()`` to add a title and ylabel. Use ``plt.xticks()`` to rename boxplot x axis labels."
   ]
  },
  {
   "cell_type": "code",
   "execution_count": 59,
   "metadata": {
    "collapsed": false,
    "deletable": true,
    "editable": true
   },
   "outputs": [
    {
     "data": {
      "image/png": "[encoded data removed]",
      "text/plain": [
       "<matplotlib.figure.Figure at 0x7f199acec610>"
      ]
     },
     "metadata": {},
     "output_type": "display_data"
    }
   ],
   "source": [
    "# make boxplot of WA population retained loci data\n",
    "plt.boxplot(WA)\n",
    "\n",
    "# add title\n",
    "plt.title(\"Retained loci in WA population\")\n",
    "\n",
    "# add y label\n",
    "plt.ylabel(\"Retained loci\")\n",
    "\n",
    "# rename tick on x axis\n",
    "plt.xticks([1],[\"WA\"])\n",
    "\n",
    "# print plot to screen\n",
    "plt.show()"
   ]
  },
  {
   "cell_type": "markdown",
   "metadata": {
    "deletable": true,
    "editable": true
   },
   "source": [
    "**[3]** Plot boxplots together on same figure"
   ]
  },
  {
   "cell_type": "code",
   "execution_count": 61,
   "metadata": {
    "collapsed": false,
    "deletable": true,
    "editable": true
   },
   "outputs": [
    {
     "data": {
      "image/png": "[encoded data removed]",
      "text/plain": [
       "<matplotlib.figure.Figure at 0x7f199aa6f450>"
      ]
     },
     "metadata": {},
     "output_type": "display_data"
    }
   ],
   "source": [
    "# make boxplot of list of population retained loci data\n",
    "plt.boxplot([CA,WA,AK])\n",
    "\n",
    "# add title\n",
    "plt.title(\"Retained loci in three population\")\n",
    "\n",
    "# add y label\n",
    "plt.ylabel(\"Retained loci\")\n",
    "\n",
    "# rename ticks on x axis\n",
    "plt.xticks([1,2,3],[\"CA\",\"WA\",\"AK\"])\n",
    "\n",
    "# print plot to screen\n",
    "plt.show()"
   ]
  },
  {
   "cell_type": "markdown",
   "metadata": {
    "deletable": true,
    "editable": true
   },
   "source": [
    "**20170704 NL**\n",
    "<br>nclowell@uw.edu"
   ]
  }
 ],
 "metadata": {
  "kernelspec": {
   "display_name": "Python 2",
   "language": "python",
   "name": "python2"
  },
  "language_info": {
   "codemirror_mode": {
    "name": "ipython",
    "version": 2
   },
   "file_extension": ".py",
   "mimetype": "text/x-python",
   "name": "python",
   "nbconvert_exporter": "python",
   "pygments_lexer": "ipython2",
   "version": "2.7.13"
  }
 },
 "nbformat": 4,
 "nbformat_minor": 2
}
