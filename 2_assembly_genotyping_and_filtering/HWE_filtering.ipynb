{
 "cells": [
  {
   "cell_type": "markdown",
   "metadata": {},
   "source": [
    "## Visualizing and filtering for loci out of Hardy Weinberg Equilibrium\n",
    "\n",
    "**20191206** NL\n",
    "\n",
    "This notebook runs Genepop through R, then parses the output. It then plots the number of populations in which a locus is out of HWE. Using this plot, you can determine how you want to filter for HWE. Specifically, you can set the alpha to use after the FDR correction, and the number of populations that a locus must be out of HWE to be filtered out."
   ]
  },
  {
   "cell_type": "code",
   "execution_count": 1,
   "metadata": {},
   "outputs": [],
   "source": [
    "import sys\n",
    "import os\n",
    "import subprocess as sp\n",
    "import numpy as np\n",
    "import matplotlib.pyplot as plt\n",
    "import pandas as pd\n",
    "import statsmodels.stats.multitest as multitest"
   ]
  },
  {
   "cell_type": "markdown",
   "metadata": {},
   "source": [
    "#### **[1]** Name inputs"
   ]
  },
  {
   "cell_type": "code",
   "execution_count": 15,
   "metadata": {},
   "outputs": [],
   "source": [
    "gp_directory = \"/mnt/hgfs/E/dD_cragig_mox_20191205/filtering\"\n",
    "alpha = 0.05 # threshold for considering a q value significant\n",
    "xpops = 2 # if out of HWE using FDR approach in x pops or more, filter out\n",
    "gp_filename = \"primSNPs_CGmox_noINDL_mac5_mQ20_mDP10_289i_maf05_md70_inam_norep.txt\"\n",
    "corename = \"primSNPs_CGmox_noINDL_mac5_mQ20_mDP10_289i_maf05_md70_inam_norep\""
   ]
  },
  {
   "cell_type": "markdown",
   "metadata": {},
   "source": [
    "#### **[2]** Call Genepop to run Hardy Weinberg tests"
   ]
  },
  {
   "cell_type": "code",
   "execution_count": 17,
   "metadata": {},
   "outputs": [
    {
     "name": "stdout",
     "output_type": "stream",
     "text": [
      "Rscript runGP_for_HWE.r primSNPs_CGmox_noINDL_mac5_mQ20_mDP10_289i_maf05_md70_inam_norep.txt primSNPs_CGmox_noINDL_mac5_mQ20_mDP10_289i_maf05_md70_inam_norep_HWE_out.txt\n"
     ]
    },
    {
     "data": {
      "text/plain": [
       "0"
      ]
     },
     "execution_count": 17,
     "metadata": {},
     "output_type": "execute_result"
    }
   ],
   "source": [
    "# call R to run genepop to get HWE p values\n",
    "os.chdir(gp_directory)\n",
    "HWE_out_filename = corename + \"_HWE_out.txt\"\n",
    "call_R_string = \"Rscript \" + \"runGP_for_HWE.r \" \n",
    "call_R_string += gp_filename\n",
    "call_R_string += \" \" + HWE_out_filename\n",
    "print(call_R_string)\n",
    "sp.call([call_R_string],shell=True)"
   ]
  },
  {
   "cell_type": "markdown",
   "metadata": {},
   "source": [
    "#### **[3]** Parse output of Hardy Weinberg tests"
   ]
  },
  {
   "cell_type": "code",
   "execution_count": 18,
   "metadata": {},
   "outputs": [
    {
     "data": {
      "text/html": [
       "<div>\n",
       "<style scoped>\n",
       "    .dataframe tbody tr th:only-of-type {\n",
       "        vertical-align: middle;\n",
       "    }\n",
       "\n",
       "    .dataframe tbody tr th {\n",
       "        vertical-align: top;\n",
       "    }\n",
       "\n",
       "    .dataframe thead th {\n",
       "        text-align: right;\n",
       "    }\n",
       "</style>\n",
       "<table border=\"1\" class=\"dataframe\">\n",
       "  <thead>\n",
       "    <tr style=\"text-align: right;\">\n",
       "      <th></th>\n",
       "      <th>locus_name</th>\n",
       "      <th>pop_1</th>\n",
       "      <th>pop_2</th>\n",
       "      <th>pop_3</th>\n",
       "      <th>pop_4</th>\n",
       "      <th>pop_5</th>\n",
       "      <th>pop_6</th>\n",
       "      <th>pop_7</th>\n",
       "    </tr>\n",
       "  </thead>\n",
       "  <tbody>\n",
       "    <tr>\n",
       "      <th>0</th>\n",
       "      <td>dDocent_Contig_37_65</td>\n",
       "      <td>0.000</td>\n",
       "      <td>0.0004</td>\n",
       "      <td>0.0000</td>\n",
       "      <td>0.0002</td>\n",
       "      <td>0.0485</td>\n",
       "      <td>0.0000</td>\n",
       "      <td>0.0147</td>\n",
       "    </tr>\n",
       "    <tr>\n",
       "      <th>1</th>\n",
       "      <td>dDocent_Contig_37_91</td>\n",
       "      <td>1.000</td>\n",
       "      <td>1.0000</td>\n",
       "      <td>1.0000</td>\n",
       "      <td>1.0000</td>\n",
       "      <td>1.0000</td>\n",
       "      <td>1.0000</td>\n",
       "      <td>NaN</td>\n",
       "    </tr>\n",
       "    <tr>\n",
       "      <th>2</th>\n",
       "      <td>dDocent_Contig_39_52</td>\n",
       "      <td>1.000</td>\n",
       "      <td>1.0000</td>\n",
       "      <td>1.0000</td>\n",
       "      <td>1.0000</td>\n",
       "      <td>NaN</td>\n",
       "      <td>1.0000</td>\n",
       "      <td>1.0000</td>\n",
       "    </tr>\n",
       "    <tr>\n",
       "      <th>3</th>\n",
       "      <td>dDocent_Contig_39_80</td>\n",
       "      <td>1.000</td>\n",
       "      <td>1.0000</td>\n",
       "      <td>1.0000</td>\n",
       "      <td>1.0000</td>\n",
       "      <td>1.0000</td>\n",
       "      <td>0.5895</td>\n",
       "      <td>1.0000</td>\n",
       "    </tr>\n",
       "    <tr>\n",
       "      <th>4</th>\n",
       "      <td>dDocent_Contig_39_97</td>\n",
       "      <td>0.035</td>\n",
       "      <td>0.3218</td>\n",
       "      <td>0.0102</td>\n",
       "      <td>0.0416</td>\n",
       "      <td>0.0464</td>\n",
       "      <td>0.0028</td>\n",
       "      <td>0.2781</td>\n",
       "    </tr>\n",
       "  </tbody>\n",
       "</table>\n",
       "</div>"
      ],
      "text/plain": [
       "             locus_name  pop_1   pop_2   pop_3   pop_4   pop_5   pop_6   pop_7\n",
       "0  dDocent_Contig_37_65  0.000  0.0004  0.0000  0.0002  0.0485  0.0000  0.0147\n",
       "1  dDocent_Contig_37_91  1.000  1.0000  1.0000  1.0000  1.0000  1.0000     NaN\n",
       "2  dDocent_Contig_39_52  1.000  1.0000  1.0000  1.0000     NaN  1.0000  1.0000\n",
       "3  dDocent_Contig_39_80  1.000  1.0000  1.0000  1.0000  1.0000  0.5895  1.0000\n",
       "4  dDocent_Contig_39_97  0.035  0.3218  0.0102  0.0416  0.0464  0.0028  0.2781"
      ]
     },
     "execution_count": 18,
     "metadata": {},
     "output_type": "execute_result"
    }
   ],
   "source": [
    "# get relevant portion of HWE output file for parsing\n",
    "HWE_file = open(HWE_out_filename, \"r\")\n",
    "HWE_file_text = HWE_file.read()\n",
    "HWE_file_text_noheader = HWE_file_text.split(\"Results by\")[1]\n",
    "HWE_file_lines = HWE_file_text_noheader.split(\"\\n\")\n",
    "\n",
    "# iterate through lines and feed dictionary, with key locus and value a list of Pvalues for each population\n",
    "pval_dict = {}\n",
    "popnames = [] \n",
    "header_count = 2 \n",
    "last_locus = \"\" \n",
    "ordered_loci = []\n",
    "for line in HWE_file_lines:\n",
    "    if line.startswith(\"Locus \") and header_count == 2:\n",
    "        header_count = 0\n",
    "        linelist = line.strip().split()\n",
    "        locus_name = linelist[1].replace('\"','')\n",
    "        last_locus = locus_name\n",
    "        pval_dict[locus_name] = []\n",
    "        ordered_loci.append(locus_name)\n",
    "    elif header_count == 2 and len(line.strip().split()) > 1 and line.startswith(\"All\") == False and line.startswith(\" \") == False:\n",
    "        linelist = line.strip().split()\n",
    "        popname = linelist[0]\n",
    "        if popname not in popnames:\n",
    "            popnames.append(popname)\n",
    "        if linelist[1] == \"-\":\n",
    "            pval_dict[locus_name].append(\"NA\")\n",
    "        else:\n",
    "            pval_dict[locus_name].append(float(linelist[1]))\n",
    "    elif line.startswith(\"-\"):\n",
    "        header_count += 1\n",
    "HWE_file.close()\n",
    "\n",
    "# count how often population is out of HWE for a locus & store in list\n",
    "list_of_pval_lists = []\n",
    "for locus in ordered_loci:\n",
    "    this_locus_list = []\n",
    "    for pval in pval_dict[locus]:\n",
    "        this_locus_list.append(pval)\n",
    "    list_of_pval_lists.append(this_locus_list)\n",
    "sig_counts = []\n",
    "for locus_list in list_of_pval_lists:\n",
    "    count = 0\n",
    "    for x in locus_list:\n",
    "        if x != \"NA\" and x < 0.05:\n",
    "            count += 1\n",
    "    sig_counts.append(count) \n",
    "num_pops = len(this_locus_list)\n",
    "num_out_in_x_pops_list = []\n",
    "for x in range(num_pops):\n",
    "    num_out_in_x_pops = sig_counts.count(x + 1)\n",
    "    num_out_in_x_pops_list.append(num_out_in_x_pops)   \n",
    "\n",
    "# write pvals array file that can be more easily used to analyze HWE data\n",
    "pvals_array_file = open(corename + \"_HWE_pval_array.csv\", \"w\")\n",
    "pvals_array_file_header = \"locus_name\" + \",\"\n",
    "for pop in range(num_pops):\n",
    "    pvals_array_file_header += \"pop_\" + str(pop + 1) + \",\"\n",
    "pvals_array_file_header = pvals_array_file_header[:-1]\n",
    "pvals_array_file.write(pvals_array_file_header + \"\\n\")\n",
    "for locus in ordered_loci:\n",
    "    locus_vals = pval_dict[locus]\n",
    "    locus_line = locus + \",\"\n",
    "    for val in locus_vals:\n",
    "        locus_line += str(val) + \",\"\n",
    "    locus_line = locus_line[:-1]\n",
    "    pvals_array_file.write(locus_line + \"\\n\")\n",
    "pvals_array_file.close()\n",
    "\n",
    "# read in CSV file as a pandas data frame (to be shortcutted later -- currently using some old code)\n",
    "HWE_pvals_df = pd.read_csv(corename + \"_HWE_pval_array.csv\") \n",
    "# Preview the first 5 lines of the loaded data \n",
    "HWE_pvals_df.head()"
   ]
  },
  {
   "cell_type": "markdown",
   "metadata": {},
   "source": [
    "#### **[3]** Plot HWE results"
   ]
  },
  {
   "cell_type": "code",
   "execution_count": 19,
   "metadata": {},
   "outputs": [
    {
     "data": {
      "image/png": "[encoded data removed]",
      "text/plain": [
       "<Figure size 432x288 with 1 Axes>"
      ]
     },
     "metadata": {
      "needs_background": "light"
     },
     "output_type": "display_data"
    },
    {
     "data": {
      "text/html": [
       "<div>\n",
       "<style scoped>\n",
       "    .dataframe tbody tr th:only-of-type {\n",
       "        vertical-align: middle;\n",
       "    }\n",
       "\n",
       "    .dataframe tbody tr th {\n",
       "        vertical-align: top;\n",
       "    }\n",
       "\n",
       "    .dataframe thead th {\n",
       "        text-align: right;\n",
       "    }\n",
       "</style>\n",
       "<table border=\"1\" class=\"dataframe\">\n",
       "  <thead>\n",
       "    <tr style=\"text-align: right;\">\n",
       "      <th></th>\n",
       "      <th>pop_num</th>\n",
       "      <th>pop_name</th>\n",
       "    </tr>\n",
       "  </thead>\n",
       "  <tbody>\n",
       "    <tr>\n",
       "      <th>0</th>\n",
       "      <td>pop_1</td>\n",
       "      <td>CatalinaCA</td>\n",
       "    </tr>\n",
       "    <tr>\n",
       "      <th>1</th>\n",
       "      <td>pop_2</td>\n",
       "      <td>CypressIsl</td>\n",
       "    </tr>\n",
       "    <tr>\n",
       "      <th>2</th>\n",
       "      <td>pop_3</td>\n",
       "      <td>DabobBayWA</td>\n",
       "    </tr>\n",
       "    <tr>\n",
       "      <th>3</th>\n",
       "      <td>pop_4</td>\n",
       "      <td>MontereyBa</td>\n",
       "    </tr>\n",
       "    <tr>\n",
       "      <th>4</th>\n",
       "      <td>pop_5</td>\n",
       "      <td>PortGamble</td>\n",
       "    </tr>\n",
       "    <tr>\n",
       "      <th>5</th>\n",
       "      <td>pop_6</td>\n",
       "      <td>SekiuWA_FG</td>\n",
       "    </tr>\n",
       "    <tr>\n",
       "      <th>6</th>\n",
       "      <td>pop_7</td>\n",
       "      <td>SewardAK_Q</td>\n",
       "    </tr>\n",
       "  </tbody>\n",
       "</table>\n",
       "</div>"
      ],
      "text/plain": [
       "  pop_num    pop_name\n",
       "0   pop_1  CatalinaCA\n",
       "1   pop_2  CypressIsl\n",
       "2   pop_3  DabobBayWA\n",
       "3   pop_4  MontereyBa\n",
       "4   pop_5  PortGamble\n",
       "5   pop_6  SekiuWA_FG\n",
       "6   pop_7  SewardAK_Q"
      ]
     },
     "execution_count": 19,
     "metadata": {},
     "output_type": "execute_result"
    }
   ],
   "source": [
    "plt.hist(sig_counts, bins = np.arange(0,num_pops+2,1)-0.5)\n",
    "plt.ylabel(\"Frequency\", size = 15)\n",
    "plt.xlabel(\"Number of pops locus not in HWE\", size = 15)\n",
    "plt.show()\n",
    "\n",
    "popkey = pd.DataFrame(list(zip([\"pop_\" + str(x + 1) for x in range(num_pops)], popnames)), columns = ['pop_num', 'pop_name'])\n",
    "popkey"
   ]
  },
  {
   "cell_type": "markdown",
   "metadata": {},
   "source": [
    "#### **[4]** Get Q values with FDR correction"
   ]
  },
  {
   "cell_type": "code",
   "execution_count": 20,
   "metadata": {},
   "outputs": [
    {
     "data": {
      "text/html": [
       "<div>\n",
       "<style scoped>\n",
       "    .dataframe tbody tr th:only-of-type {\n",
       "        vertical-align: middle;\n",
       "    }\n",
       "\n",
       "    .dataframe tbody tr th {\n",
       "        vertical-align: top;\n",
       "    }\n",
       "\n",
       "    .dataframe thead th {\n",
       "        text-align: right;\n",
       "    }\n",
       "</style>\n",
       "<table border=\"1\" class=\"dataframe\">\n",
       "  <thead>\n",
       "    <tr style=\"text-align: right;\">\n",
       "      <th></th>\n",
       "      <th>locus_name</th>\n",
       "      <th>pop_1</th>\n",
       "      <th>pop_2</th>\n",
       "      <th>pop_3</th>\n",
       "      <th>pop_4</th>\n",
       "      <th>pop_5</th>\n",
       "      <th>pop_6</th>\n",
       "      <th>pop_7</th>\n",
       "    </tr>\n",
       "  </thead>\n",
       "  <tbody>\n",
       "    <tr>\n",
       "      <th>0</th>\n",
       "      <td>dDocent_Contig_37_65</td>\n",
       "      <td>0.000000</td>\n",
       "      <td>0.005111</td>\n",
       "      <td>0.000000</td>\n",
       "      <td>0.003786</td>\n",
       "      <td>0.280811</td>\n",
       "      <td>0.000000</td>\n",
       "      <td>0.219122</td>\n",
       "    </tr>\n",
       "    <tr>\n",
       "      <th>1</th>\n",
       "      <td>dDocent_Contig_37_91</td>\n",
       "      <td>1.000000</td>\n",
       "      <td>1.000000</td>\n",
       "      <td>1.000000</td>\n",
       "      <td>1.000000</td>\n",
       "      <td>1.000000</td>\n",
       "      <td>1.000000</td>\n",
       "      <td>NaN</td>\n",
       "    </tr>\n",
       "    <tr>\n",
       "      <th>2</th>\n",
       "      <td>dDocent_Contig_39_52</td>\n",
       "      <td>1.000000</td>\n",
       "      <td>1.000000</td>\n",
       "      <td>1.000000</td>\n",
       "      <td>1.000000</td>\n",
       "      <td>NaN</td>\n",
       "      <td>1.000000</td>\n",
       "      <td>1.000000</td>\n",
       "    </tr>\n",
       "    <tr>\n",
       "      <th>3</th>\n",
       "      <td>dDocent_Contig_39_80</td>\n",
       "      <td>1.000000</td>\n",
       "      <td>1.000000</td>\n",
       "      <td>1.000000</td>\n",
       "      <td>1.000000</td>\n",
       "      <td>1.000000</td>\n",
       "      <td>0.882033</td>\n",
       "      <td>1.000000</td>\n",
       "    </tr>\n",
       "    <tr>\n",
       "      <th>4</th>\n",
       "      <td>dDocent_Contig_39_97</td>\n",
       "      <td>0.156545</td>\n",
       "      <td>0.612854</td>\n",
       "      <td>0.050249</td>\n",
       "      <td>0.157107</td>\n",
       "      <td>0.274156</td>\n",
       "      <td>0.016885</td>\n",
       "      <td>0.741562</td>\n",
       "    </tr>\n",
       "  </tbody>\n",
       "</table>\n",
       "</div>"
      ],
      "text/plain": [
       "             locus_name     pop_1     pop_2     pop_3     pop_4     pop_5  \\\n",
       "0  dDocent_Contig_37_65  0.000000  0.005111  0.000000  0.003786  0.280811   \n",
       "1  dDocent_Contig_37_91  1.000000  1.000000  1.000000  1.000000  1.000000   \n",
       "2  dDocent_Contig_39_52  1.000000  1.000000  1.000000  1.000000       NaN   \n",
       "3  dDocent_Contig_39_80  1.000000  1.000000  1.000000  1.000000  1.000000   \n",
       "4  dDocent_Contig_39_97  0.156545  0.612854  0.050249  0.157107  0.274156   \n",
       "\n",
       "      pop_6     pop_7  \n",
       "0  0.000000  0.219122  \n",
       "1  1.000000       NaN  \n",
       "2  1.000000  1.000000  \n",
       "3  0.882033  1.000000  \n",
       "4  0.016885  0.741562  "
      ]
     },
     "execution_count": 20,
     "metadata": {},
     "output_type": "execute_result"
    }
   ],
   "source": [
    "# make a df to store qvalues, using locus names from pvals df\n",
    "HWE_qvals_df = HWE_pvals_df[['locus_name']].copy()\n",
    "\n",
    "popnums = [\"pop_\" + str(x + 1) for x in range(num_pops)]\n",
    "for pop in popnums:\n",
    "    # sort HWE pvals df by increasing pvals in column for this pop\n",
    "    all_sorted_thispop_pvals_df = HWE_pvals_df.sort_values(pop).reset_index(drop = True)\n",
    "    # get index of first NaN in this column\n",
    "    first_nan_index = pd.Index(list(all_sorted_thispop_pvals_df[pop])).get_loc(np.NaN)[0]\n",
    "    # subset dataframe for just locus names and rows with non-Nan values\n",
    "    thispop_df = all_sorted_thispop_pvals_df.iloc[0:first_nan_index-1,[0,popnums.index(pop)+1]]\n",
    "    # run fdr correction test\n",
    "    qvals = multitest.fdrcorrection(pvals = thispop_df[pop])[1]\n",
    "    thispop_qvals_df = pd.DataFrame({'locus_name': thispop_df['locus_name'], pop: qvals})\n",
    "    # merge results into qvals df\n",
    "    HWE_qvals_df = pd.merge(HWE_qvals_df, thispop_qvals_df, how = \"outer\")\n",
    "    \n",
    "# write HWE qvals df to file\n",
    "HWE_pvals_df.to_csv(corename + \"_HWE_qvals.csv\")\n",
    "\n",
    "# look at HWE qvals array\n",
    "HWE_qvals_df.head()"
   ]
  },
  {
   "cell_type": "markdown",
   "metadata": {},
   "source": [
    "#### **[5]** Write output files with loci to keep and lose based on HWE filtering threshold"
   ]
  },
  {
   "cell_type": "code",
   "execution_count": 21,
   "metadata": {},
   "outputs": [
    {
     "name": "stdout",
     "output_type": "stream",
     "text": [
      "3723  out of HWE\n",
      "11280  in HWE\n",
      "\n",
      "Output file names: \n",
      "primSNPs_CGmox_noINDL_mac5_mQ20_mDP10_289i_maf05_md70_inam_norep_HWE_loci_to_keep.txt\n",
      "primSNPs_CGmox_noINDL_mac5_mQ20_mDP10_289i_maf05_md70_inam_norep_HWE_loci_to_lose.txt\n"
     ]
    }
   ],
   "source": [
    "# fn for filtering a locus based on HWE\n",
    "def filter_HWE_fdr(row, xpops = xpops, alpha = alpha):\n",
    "    count = 0\n",
    "    indeces = [x for x in range(2, len(popnums)+2)]\n",
    "    for x in indeces:\n",
    "        value = row[x]\n",
    "        if np.isnan(value) == False:\n",
    "            if value <= alpha:\n",
    "                count += 1\n",
    "    if count >= xpops:\n",
    "        return True\n",
    "    else:\n",
    "        return False\n",
    "\n",
    "# identify loci to lose, keep based on HWE filter\n",
    "loci_to_keep = []\n",
    "loci_to_lose = []\n",
    "for row in HWE_qvals_df.itertuples():\n",
    "    if filter_HWE_fdr(row = row, alpha = alpha, xpops = xpops):\n",
    "        loci_to_lose.append(row[1])\n",
    "    else:\n",
    "        loci_to_keep.append(row[1])\n",
    "        \n",
    "# write loci lists to file\n",
    "HWE_lose_outfile = open(corename + \"_HWE_loci_to_lose.txt\", \"w\")\n",
    "for locus in loci_to_lose:\n",
    "    HWE_lose_outfile.write(locus + \"\\n\")\n",
    "HWE_lose_outfile.close()\n",
    "HWE_keep_outfile = open(corename + \"_HWE_loci_to_keep.txt\", \"w\")\n",
    "for locus in loci_to_keep:\n",
    "    HWE_keep_outfile.write(locus + \"\\n\")\n",
    "HWE_keep_outfile.close()\n",
    "\n",
    "        \n",
    "print(len(loci_to_lose), \" out of HWE\")\n",
    "print(len(loci_to_keep), \" in HWE\")\n",
    "\n",
    "print(\"\\nOutput file names: \")\n",
    "print(corename+\"_HWE_loci_to_keep.txt\")\n",
    "print(corename+\"_HWE_loci_to_lose.txt\")"
   ]
  },
  {
   "cell_type": "code",
   "execution_count": 23,
   "metadata": {},
   "outputs": [
    {
     "name": "stdout",
     "output_type": "stream",
     "text": [
      "\u001b[0m\u001b[01;32mcmdline.txt\u001b[0m*\n",
      "\u001b[01;32mprimSNPs_CGmox_noINDL_mac5_mQ20_mDP10_289i_maf05_md70_inam_norep_HWE_loci_to_keep.txt\u001b[0m\u001b[K*\n",
      "\u001b[01;32mprimSNPs_CGmox_noINDL_mac5_mQ20_mDP10_289i_maf05_md70_inam_norep_HWE_loci_to_lose.txt\u001b[0m\u001b[K*\n",
      "\u001b[01;32mprimSNPs_CGmox_noINDL_mac5_mQ20_mDP10_289i_maf05_md70_inam_norep_HWE_out.txt\u001b[0m*\n",
      "\u001b[01;32mprimSNPs_CGmox_noINDL_mac5_mQ20_mDP10_289i_maf05_md70_inam_norep.txt\u001b[0m*\n",
      "\u001b[01;32mprimSNPs_CGmox_noINDL_mac5_mQ20_mDP10_289i_maf05_md70_inam.txt\u001b[0m*\n",
      "\u001b[01;32mprimSNPs_CGmox_noINDL_mac5_mQ20_mDP10_289i_maf05_md70.txt\u001b[0m*\n"
     ]
    }
   ],
   "source": [
    "ls *.txt"
   ]
  },
  {
   "cell_type": "code",
   "execution_count": 22,
   "metadata": {},
   "outputs": [
    {
     "name": "stdout",
     "output_type": "stream",
     "text": [
      "usage: subset_GP_forloci.py [-h] -i INFILE -f FORMAT -l LOCI -o OUTFILE\n",
      "\n",
      "Filter Genepop file to include only provided locus names.\n",
      "\n",
      "optional arguments:\n",
      "  -h, --help            show this help message and exit\n",
      "  -i INFILE, --infile INFILE\n",
      "                        input Genepop file for filtering\n",
      "  -f FORMAT, --format FORMAT\n",
      "                        input Genepop header format, answer 1 if locus names\n",
      "                        are each on a line and 2 if locus names are in one\n",
      "                        line separated by commas\n",
      "  -l LOCI, --loci LOCI  text file of loci to keep, with each locus name on its\n",
      "                        own line\n",
      "  -o OUTFILE, --outfile OUTFILE\n",
      "                        filtered Genepop file\n"
     ]
    }
   ],
   "source": [
    "!python subset_GP_forloci.py -h"
   ]
  },
  {
   "cell_type": "code",
   "execution_count": 24,
   "metadata": {},
   "outputs": [],
   "source": [
    "!python subset_GP_forloci.py \\\n",
    "-i primSNPs_CGmox_noINDL_mac5_mQ20_mDP10_289i_maf05_md70_inam_norep.txt \\\n",
    "-f 1 \\\n",
    "-l primSNPs_CGmox_noINDL_mac5_mQ20_mDP10_289i_maf05_md70_inam_norep_HWE_loci_to_keep.txt \\\n",
    "-o primSNPs_CGmox_noINDL_mac5_mQ20_mDP10_289i_maf05_md70_inam_norep_HWE.gen"
   ]
  },
  {
   "cell_type": "code",
   "execution_count": 25,
   "metadata": {},
   "outputs": [
    {
     "name": "stdout",
     "output_type": "stream",
     "text": [
      "\u001b[0m\u001b[01;32mprimSNPs_CGmox_noINDL_mac5_mQ20_mDP10_289i_maf05_md70_inam_norep_HWE.gen\u001b[0m*\n"
     ]
    }
   ],
   "source": [
    "ls *gen"
   ]
  },
  {
   "cell_type": "code",
   "execution_count": null,
   "metadata": {},
   "outputs": [],
   "source": []
  }
 ],
 "metadata": {
  "kernelspec": {
   "display_name": "Python 3",
   "language": "python",
   "name": "python3"
  },
  "language_info": {
   "codemirror_mode": {
    "name": "ipython",
    "version": 3
   },
   "file_extension": ".py",
   "mimetype": "text/x-python",
   "name": "python",
   "nbconvert_exporter": "python",
   "pygments_lexer": "ipython3",
   "version": "3.7.3"
  }
 },
 "nbformat": 4,
 "nbformat_minor": 4
}
