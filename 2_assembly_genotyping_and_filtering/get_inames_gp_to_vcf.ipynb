{
 "cells": [
  {
   "cell_type": "markdown",
   "metadata": {},
   "source": [
    "## Copy informative locus names to GP file from VCF file\n",
    "\n",
    "**20191205** NL"
   ]
  },
  {
   "cell_type": "code",
   "execution_count": 1,
   "metadata": {},
   "outputs": [],
   "source": [
    "import subprocess as sp"
   ]
  },
  {
   "cell_type": "code",
   "execution_count": 2,
   "metadata": {},
   "outputs": [
    {
     "name": "stdout",
     "output_type": "stream",
     "text": [
      "\u001b[0m\u001b[01;32mprimSNPs_CGmox_noINDL_mac5_mQ20_mDP10_289i_maf05_md70.recode.vcf\u001b[0m*\n",
      "\u001b[01;32mprimSNPs_CGmox_noINDL_mac5_mQ20_mDP10_289i.recode.vcf\u001b[0m*\n",
      "\u001b[01;32mprimSNPs_CGmox_noINDL_mac5_mQ20_mDP10.recode.vcf\u001b[0m*\n",
      "\u001b[01;32mprimSNPs_CGmox_noINDL.vcf\u001b[0m*\n",
      "\u001b[01;32mTotalRawSNPs_CGmox_noINDL.recode.vcf\u001b[0m*\n",
      "\u001b[01;32mTotalRawSNPs_CGmox.vcf\u001b[0m*\n"
     ]
    }
   ],
   "source": [
    "ls *vcf"
   ]
  },
  {
   "cell_type": "code",
   "execution_count": 5,
   "metadata": {},
   "outputs": [
    {
     "name": "stdout",
     "output_type": "stream",
     "text": [
      "\u001b[0m\u001b[01;32mprimSNPs_CGmox_noINDL_mac5_mQ20_mDP10_289i_maf05_md70.txt\u001b[0m*\n"
     ]
    }
   ],
   "source": [
    "ls *txt"
   ]
  },
  {
   "cell_type": "code",
   "execution_count": 6,
   "metadata": {},
   "outputs": [
    {
     "name": "stdout",
     "output_type": "stream",
     "text": [
      "ls: cannot access '*gen': No such file or directory\n"
     ]
    }
   ],
   "source": [
    "ls *gen"
   ]
  },
  {
   "cell_type": "code",
   "execution_count": 7,
   "metadata": {},
   "outputs": [],
   "source": [
    "# change this cell\n",
    "vcf_filename = \"primSNPs_CGmox_noINDL_mac5_mQ20_mDP10_289i_maf05_md70.recode.vcf\"\n",
    "old_gp_filename = \"primSNPs_CGmox_noINDL_mac5_mQ20_mDP10_289i_maf05_md70.txt\" # doesn't yet have inames\n",
    "new_gp_filename = \"primSNPs_CGmox_noINDL_mac5_mQ20_mDP10_289i_maf05_md70_inam.txt\" # will have inames"
   ]
  },
  {
   "cell_type": "code",
   "execution_count": 8,
   "metadata": {},
   "outputs": [],
   "source": [
    "vcf_file = open(vcf_filename, \"r\")\n",
    "inames = []\n",
    "for line in vcf_file:\n",
    "    if line.startswith(\"#\") == False:\n",
    "        linelist = line.strip().split()\n",
    "        iname = linelist[0] +\"_\"+ linelist[1]\n",
    "        inames.append(iname)\n",
    "vcf_file.close()"
   ]
  },
  {
   "cell_type": "code",
   "execution_count": 9,
   "metadata": {},
   "outputs": [
    {
     "data": {
      "text/plain": [
       "['dDocent_Contig_37_65',\n",
       " 'dDocent_Contig_37_91',\n",
       " 'dDocent_Contig_39_52',\n",
       " 'dDocent_Contig_39_80',\n",
       " 'dDocent_Contig_39_97']"
      ]
     },
     "execution_count": 9,
     "metadata": {},
     "output_type": "execute_result"
    }
   ],
   "source": [
    "inames[0:5]"
   ]
  },
  {
   "cell_type": "code",
   "execution_count": 10,
   "metadata": {},
   "outputs": [
    {
     "data": {
      "text/plain": [
       "15003"
      ]
     },
     "execution_count": 10,
     "metadata": {},
     "output_type": "execute_result"
    }
   ],
   "source": [
    "len(inames)"
   ]
  },
  {
   "cell_type": "code",
   "execution_count": 11,
   "metadata": {},
   "outputs": [],
   "source": [
    "old_gp_file = open(old_gp_filename, \"r\")\n",
    "new_gp_file = open(new_gp_filename, \"w\")\n",
    "\n",
    "foundpop = False\n",
    "snp_index = 0\n",
    "\n",
    "firstline = old_gp_file.readline()\n",
    "if firstline.startswith(\"#\"):\n",
    "    new_gp_file.write(firstline.strip() + \"; added inames manually\\n\")\n",
    "for iname in inames:\n",
    "    new_gp_file.write(iname+\"\\n\")\n",
    "for line in old_gp_file:\n",
    "    if foundpop == True or line.strip() in [\"Pop\", \"pop\"]:\n",
    "        foundpop = True\n",
    "        new_gp_file.write(line)\n",
    "old_gp_file.close()\n",
    "new_gp_file.close()"
   ]
  },
  {
   "cell_type": "code",
   "execution_count": 12,
   "metadata": {},
   "outputs": [
    {
     "name": "stdout",
     "output_type": "stream",
     "text": [
      "['dDocent_Contig_37_65\\n', 'dDocent_Contig_37_91\\n', 'dDocent_Contig_39_52\\n', 'dDocent_Contig_39_80\\n', 'dDocent_Contig_39_97\\n', 'dDocent_Contig_39_117\\n', 'dDocent_Contig_49_24\\n', 'dDocent_Contig_49_26\\n', 'dDocent_Contig_49_90\\n', 'dDocent_Contig_55_22\\n']\n"
     ]
    }
   ],
   "source": [
    "with open(new_gp_filename) as myfile:\n",
    "    head = [next(myfile) for x in range(10)]\n",
    "print(head)"
   ]
  },
  {
   "cell_type": "code",
   "execution_count": null,
   "metadata": {},
   "outputs": [],
   "source": []
  }
 ],
 "metadata": {
  "kernelspec": {
   "display_name": "Python 3",
   "language": "python",
   "name": "python3"
  },
  "language_info": {
   "codemirror_mode": {
    "name": "ipython",
    "version": 3
   },
   "file_extension": ".py",
   "mimetype": "text/x-python",
   "name": "python",
   "nbconvert_exporter": "python",
   "pygments_lexer": "ipython3",
   "version": "3.7.3"
  }
 },
 "nbformat": 4,
 "nbformat_minor": 4
}
