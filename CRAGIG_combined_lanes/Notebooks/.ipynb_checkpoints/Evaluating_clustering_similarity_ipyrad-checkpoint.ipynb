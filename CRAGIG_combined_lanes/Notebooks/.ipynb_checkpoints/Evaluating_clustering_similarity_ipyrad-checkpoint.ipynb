{
 "cells": [
  {
   "cell_type": "markdown",
   "metadata": {},
   "source": [
    "## Evaluating clustering similarity in ipyrad on scallop data\n",
    "\n",
    "**20170707**\n",
    "\n",
    "I didn't do a super thorough job evaluating the effects of different clustering similarity thresholds in ipyrad, so now's the time. It's the time because I'm not getting tons of loci through the assembly, there's a ton of missing data, and heterozygosity is lower than I'd expect for bivalves. I'm wondering if this is a consequence of how I'm clustering my loci. So here were are.\n",
    "\n",
    "I'm going to set up a bash script that will run assemblies over the weekend. I'll run them on 25 scallop samples, at 10 different clustering similarity thresholds. Ultimately I'd like to make plots from that paper Luke sent me a while back, which helps one pick a clustering similarity threshold that best minimizes both over and under splitting loci.\n",
    "\n",
    "Clustering similarity thresholds for evaluation:\n",
    "- 0.76\n",
    "- 0.78\n",
    "- 0.80\n",
    "- 0.82\n",
    "- 0.84\n",
    "- 0.86\n",
    "- 0.88\n",
    "- 0.90\n",
    "- 0.92\n",
    "- 0.94\n",
    "\n",
    "First, set up the params files. Then make a bash script to run ipyrad through all ten. I manually changed the clustering similarity thresholds in a text editor."
   ]
  },
  {
   "cell_type": "code",
   "execution_count": 3,
   "metadata": {
    "collapsed": false
   },
   "outputs": [
    {
     "name": "stdout",
     "output_type": "stream",
     "text": [
      "/mnt/hgfs/SHARED_FOLDER/Learn_iPyrad/CRAGIG_RUNS_12_py\n"
     ]
    }
   ],
   "source": [
    "cd /mnt/hgfs/SHARED_FOLDER/Learn_iPyrad/CRAGIG_RUNS_12_py"
   ]
  },
  {
   "cell_type": "code",
   "execution_count": 6,
   "metadata": {
    "collapsed": false
   },
   "outputs": [
    {
     "name": "stdout",
     "output_type": "stream",
     "text": [
      "\n",
      " -------------------------------------------------------------\n",
      "  ipyrad [v.0.6.20]\n",
      "  Interactive assembly and analysis of RAD-seq data\n",
      " -------------------------------------------------------------\n",
      "\n",
      "  A new version of ipyrad is available (v.0.7.1). To upgrade run:\n",
      "\n",
      "    conda install -c ipyrad ipyrad\n",
      "\n",
      "\n",
      "  loading Assembly: cragig_lane1_001\n",
      "  from saved path: /mnt/hgfs/SHARED_FOLDER/Learn_iPyrad/CRAGIG_RUNS_12_py/cragig_lane1_001.json\n",
      "  creating a new branch called 'cragig_l1_25_c76' with 25 Samples\n",
      "  writing new params file to params-cragig_l1_25_c76.txt\n",
      "\n"
     ]
    }
   ],
   "source": [
    "!ipyrad -p params-cragig_lane1_001.txt -b cragig_l1_25_c76 25scallops.txt"
   ]
  },
  {
   "cell_type": "code",
   "execution_count": 7,
   "metadata": {
    "collapsed": false
   },
   "outputs": [
    {
     "name": "stdout",
     "output_type": "stream",
     "text": [
      "\n",
      " -------------------------------------------------------------\n",
      "  ipyrad [v.0.6.20]\n",
      "  Interactive assembly and analysis of RAD-seq data\n",
      " -------------------------------------------------------------\n",
      "\n",
      "  A new version of ipyrad is available (v.0.7.1). To upgrade run:\n",
      "\n",
      "    conda install -c ipyrad ipyrad\n",
      "\n",
      "\n",
      "  loading Assembly: cragig_l1_25_c76\n",
      "  from saved path: /mnt/hgfs/SHARED_FOLDER/Learn_iPyrad/CRAGIG_RUNS_12_py/cragig_l1_25_c76.json\n",
      "  creating a new branch called 'cragig_l1_25_c78' with 25 Samples\n",
      "  writing new params file to params-cragig_l1_25_c78.txt\n",
      "\n"
     ]
    }
   ],
   "source": [
    "!ipyrad -p params-cragig_l1_25_c76.txt -b cragig_l1_25_c78"
   ]
  },
  {
   "cell_type": "code",
   "execution_count": 8,
   "metadata": {
    "collapsed": false
   },
   "outputs": [
    {
     "name": "stdout",
     "output_type": "stream",
     "text": [
      "\n",
      " -------------------------------------------------------------\n",
      "  ipyrad [v.0.6.20]\n",
      "  Interactive assembly and analysis of RAD-seq data\n",
      " -------------------------------------------------------------\n",
      "\n",
      "  A new version of ipyrad is available (v.0.7.1). To upgrade run:\n",
      "\n",
      "    conda install -c ipyrad ipyrad\n",
      "\n",
      "\n",
      "  loading Assembly: cragig_l1_25_c76\n",
      "  from saved path: /mnt/hgfs/SHARED_FOLDER/Learn_iPyrad/CRAGIG_RUNS_12_py/cragig_l1_25_c76.json\n",
      "  creating a new branch called 'cragig_l1_25_c80' with 25 Samples\n",
      "  writing new params file to params-cragig_l1_25_c80.txt\n",
      "\n"
     ]
    }
   ],
   "source": [
    "!ipyrad -p params-cragig_l1_25_c76.txt -b cragig_l1_25_c80"
   ]
  },
  {
   "cell_type": "code",
   "execution_count": 9,
   "metadata": {
    "collapsed": false
   },
   "outputs": [
    {
     "name": "stdout",
     "output_type": "stream",
     "text": [
      "\n",
      " -------------------------------------------------------------\n",
      "  ipyrad [v.0.6.20]\n",
      "  Interactive assembly and analysis of RAD-seq data\n",
      " -------------------------------------------------------------\n",
      "\n",
      "  A new version of ipyrad is available (v.0.7.1). To upgrade run:\n",
      "\n",
      "    conda install -c ipyrad ipyrad\n",
      "\n",
      "\n",
      "  loading Assembly: cragig_l1_25_c76\n",
      "  from saved path: /mnt/hgfs/SHARED_FOLDER/Learn_iPyrad/CRAGIG_RUNS_12_py/cragig_l1_25_c76.json\n",
      "  creating a new branch called 'cragig_l1_25_c82' with 25 Samples\n",
      "  writing new params file to params-cragig_l1_25_c82.txt\n",
      "\n"
     ]
    }
   ],
   "source": [
    "!ipyrad -p params-cragig_l1_25_c76.txt -b cragig_l1_25_c82"
   ]
  },
  {
   "cell_type": "code",
   "execution_count": 10,
   "metadata": {
    "collapsed": false
   },
   "outputs": [
    {
     "name": "stdout",
     "output_type": "stream",
     "text": [
      "\n",
      " -------------------------------------------------------------\n",
      "  ipyrad [v.0.6.20]\n",
      "  Interactive assembly and analysis of RAD-seq data\n",
      " -------------------------------------------------------------\n",
      "\n",
      "  A new version of ipyrad is available (v.0.7.1). To upgrade run:\n",
      "\n",
      "    conda install -c ipyrad ipyrad\n",
      "\n",
      "\n",
      "  loading Assembly: cragig_l1_25_c76\n",
      "  from saved path: /mnt/hgfs/SHARED_FOLDER/Learn_iPyrad/CRAGIG_RUNS_12_py/cragig_l1_25_c76.json\n",
      "  creating a new branch called 'cragig_l1_25_c84' with 25 Samples\n",
      "  writing new params file to params-cragig_l1_25_c84.txt\n",
      "\n"
     ]
    }
   ],
   "source": [
    "!ipyrad -p params-cragig_l1_25_c76.txt -b cragig_l1_25_c84"
   ]
  },
  {
   "cell_type": "code",
   "execution_count": 11,
   "metadata": {
    "collapsed": false
   },
   "outputs": [
    {
     "name": "stdout",
     "output_type": "stream",
     "text": [
      "\n",
      " -------------------------------------------------------------\n",
      "  ipyrad [v.0.6.20]\n",
      "  Interactive assembly and analysis of RAD-seq data\n",
      " -------------------------------------------------------------\n",
      "\n",
      "  A new version of ipyrad is available (v.0.7.1). To upgrade run:\n",
      "\n",
      "    conda install -c ipyrad ipyrad\n",
      "\n",
      "\n",
      "  loading Assembly: cragig_l1_25_c76\n",
      "  from saved path: /mnt/hgfs/SHARED_FOLDER/Learn_iPyrad/CRAGIG_RUNS_12_py/cragig_l1_25_c76.json\n",
      "  creating a new branch called 'cragig_l1_25_c86' with 25 Samples\n",
      "  writing new params file to params-cragig_l1_25_c86.txt\n",
      "\n"
     ]
    }
   ],
   "source": [
    "!ipyrad -p params-cragig_l1_25_c76.txt -b cragig_l1_25_c86"
   ]
  },
  {
   "cell_type": "code",
   "execution_count": 12,
   "metadata": {
    "collapsed": false
   },
   "outputs": [
    {
     "name": "stdout",
     "output_type": "stream",
     "text": [
      "\n",
      " -------------------------------------------------------------\n",
      "  ipyrad [v.0.6.20]\n",
      "  Interactive assembly and analysis of RAD-seq data\n",
      " -------------------------------------------------------------\n",
      "\n",
      "  A new version of ipyrad is available (v.0.7.1). To upgrade run:\n",
      "\n",
      "    conda install -c ipyrad ipyrad\n",
      "\n",
      "\n",
      "  loading Assembly: cragig_l1_25_c76\n",
      "  from saved path: /mnt/hgfs/SHARED_FOLDER/Learn_iPyrad/CRAGIG_RUNS_12_py/cragig_l1_25_c76.json\n",
      "  creating a new branch called 'cragig_l1_25_c88' with 25 Samples\n",
      "  writing new params file to params-cragig_l1_25_c88.txt\n",
      "\n"
     ]
    }
   ],
   "source": [
    "!ipyrad -p params-cragig_l1_25_c76.txt -b cragig_l1_25_c88"
   ]
  },
  {
   "cell_type": "code",
   "execution_count": 13,
   "metadata": {
    "collapsed": false
   },
   "outputs": [
    {
     "name": "stdout",
     "output_type": "stream",
     "text": [
      "\n",
      " -------------------------------------------------------------\n",
      "  ipyrad [v.0.6.20]\n",
      "  Interactive assembly and analysis of RAD-seq data\n",
      " -------------------------------------------------------------\n",
      "\n",
      "  A new version of ipyrad is available (v.0.7.1). To upgrade run:\n",
      "\n",
      "    conda install -c ipyrad ipyrad\n",
      "\n",
      "\n",
      "  loading Assembly: cragig_l1_25_c76\n",
      "  from saved path: /mnt/hgfs/SHARED_FOLDER/Learn_iPyrad/CRAGIG_RUNS_12_py/cragig_l1_25_c76.json\n",
      "  creating a new branch called 'cragig_l1_25_c90' with 25 Samples\n",
      "  writing new params file to params-cragig_l1_25_c90.txt\n",
      "\n"
     ]
    }
   ],
   "source": [
    "!ipyrad -p params-cragig_l1_25_c76.txt -b cragig_l1_25_c90"
   ]
  },
  {
   "cell_type": "code",
   "execution_count": 14,
   "metadata": {
    "collapsed": false
   },
   "outputs": [
    {
     "name": "stdout",
     "output_type": "stream",
     "text": [
      "\n",
      " -------------------------------------------------------------\n",
      "  ipyrad [v.0.6.20]\n",
      "  Interactive assembly and analysis of RAD-seq data\n",
      " -------------------------------------------------------------\n",
      "\n",
      "  A new version of ipyrad is available (v.0.7.1). To upgrade run:\n",
      "\n",
      "    conda install -c ipyrad ipyrad\n",
      "\n",
      "\n",
      "  loading Assembly: cragig_l1_25_c76\n",
      "  from saved path: /mnt/hgfs/SHARED_FOLDER/Learn_iPyrad/CRAGIG_RUNS_12_py/cragig_l1_25_c76.json\n",
      "  creating a new branch called 'cragig_l1_25_c92' with 25 Samples\n",
      "  writing new params file to params-cragig_l1_25_c92.txt\n",
      "\n"
     ]
    }
   ],
   "source": [
    "!ipyrad -p params-cragig_l1_25_c76.txt -b cragig_l1_25_c92"
   ]
  },
  {
   "cell_type": "code",
   "execution_count": 15,
   "metadata": {
    "collapsed": false
   },
   "outputs": [
    {
     "name": "stdout",
     "output_type": "stream",
     "text": [
      "\n",
      " -------------------------------------------------------------\n",
      "  ipyrad [v.0.6.20]\n",
      "  Interactive assembly and analysis of RAD-seq data\n",
      " -------------------------------------------------------------\n",
      "\n",
      "  A new version of ipyrad is available (v.0.7.1). To upgrade run:\n",
      "\n",
      "    conda install -c ipyrad ipyrad\n",
      "\n",
      "\n",
      "  loading Assembly: cragig_l1_25_c76\n",
      "  from saved path: /mnt/hgfs/SHARED_FOLDER/Learn_iPyrad/CRAGIG_RUNS_12_py/cragig_l1_25_c76.json\n",
      "  creating a new branch called 'cragig_l1_25_c94' with 25 Samples\n",
      "  writing new params file to params-cragig_l1_25_c94.txt\n",
      "\n"
     ]
    }
   ],
   "source": [
    "!ipyrad -p params-cragig_l1_25_c76.txt -b cragig_l1_25_c94"
   ]
  },
  {
   "cell_type": "markdown",
   "metadata": {},
   "source": [
    "Params files are all identical except for the clustering similarity threshold parameter.\n",
    "\n",
    "Example params file:"
   ]
  },
  {
   "cell_type": "code",
   "execution_count": 17,
   "metadata": {
    "collapsed": false,
    "scrolled": true
   },
   "outputs": [
    {
     "name": "stdout",
     "output_type": "stream",
     "text": [
      "------- ipyrad params file (v.0.6.20)-------------------------------------------\r\n",
      "cragig_l1_25_c76               ## [0] [assembly_name]: Assembly name. Used to name output directories for assembly steps\r\n",
      "/mnt/hgfs/SHARED_FOLDER/Learn_iPyrad/CRAGIG_RUNS_12_py ## [1] [project_dir]: Project dir (made in curdir if not present)\r\n",
      "/mnt/hgfs/Data/CRAGIG_RUN1/CRAGIG_RUN1_raw_data/161228_I137_FCHCYV5BBXX_L5_CHKPE85216120009_1.fq.gz ## [2] [raw_fastq_path]: Location of raw non-demultiplexed fastq files\r\n",
      "/mnt/hgfs/SHARED_FOLDER/Learn_iPyrad/CRAGIG_RUNS_12_py/barcodes_cragigrun1_sansAs.txt ## [3] [barcodes_path]: Location of barcodes file\r\n",
      "                               ## [4] [sorted_fastq_path]: Location of demultiplexed/sorted fastq files\r\n",
      "denovo                         ## [5] [assembly_method]: Assembly method (denovo, reference, denovo+reference, denovo-reference)\r\n",
      "                               ## [6] [reference_sequence]: Location of reference sequence file\r\n",
      "rad                            ## [7] [datatype]: Datatype (see docs): rad, gbs, ddrad, etc.\r\n",
      "TGCAGG,                        ## [8] [restriction_overhang]: Restriction overhang (cut1,) or (cut1, cut2)\r\n",
      "5                              ## [9] [max_low_qual_bases]: Max low quality base calls (Q<20) in a read\r\n",
      "33                             ## [10] [phred_Qscore_offset]: phred Q score offset (33 is default and very standard)\r\n",
      "10                             ## [11] [mindepth_statistical]: Min depth for statistical base calling\r\n",
      "10                             ## [12] [mindepth_majrule]: Min depth for majority-rule base calling\r\n",
      "2000                           ## [13] [maxdepth]: Max cluster depth within samples\r\n",
      "0.76                           ## [14] [clust_threshold]: Clustering threshold for de novo assembly\r\n",
      "0                              ## [15] [max_barcode_mismatch]: Max number of allowable mismatches in barcodes\r\n",
      "2                              ## [16] [filter_adapters]: Filter for adapters/primers (1 or 2=stricter)\r\n",
      "35                             ## [17] [filter_min_trim_len]: Min length of reads after adapter trim\r\n",
      "2                              ## [18] [max_alleles_consens]: Max alleles per site in consensus sequences\r\n",
      "5, 5                           ## [19] [max_Ns_consens]: Max N's (uncalled bases) in consensus (R1, R2)\r\n",
      "8, 8                           ## [20] [max_Hs_consens]: Max Hs (heterozygotes) in consensus (R1, R2)\r\n",
      "12                             ## [21] [min_samples_locus]: Min # samples per locus for output\r\n",
      "20, 20                         ## [22] [max_SNPs_locus]: Max # SNPs per locus (R1, R2)\r\n",
      "8, 8                           ## [23] [max_Indels_locus]: Max # of indels per locus (R1, R2)\r\n",
      "1                            ## [24] [max_shared_Hs_locus]: Max # heterozygous sites per locus (R1, R2)\r\n",
      "0, 0, 0, 0                     ## [25] [trim_reads]: Trim raw read edges (R1>, <R1, R2>, <R2) (see docs)\r\n",
      "0, 0, 0, 0                     ## [26] [trim_loci]: Trim locus edges (see docs) (R1>, <R1, R2>, <R2)\r\n",
      "G, a, g, k, m, l, n, p, s, u, t, v ## [27] [output_formats]: Output formats (see docs)\r\n"
     ]
    }
   ],
   "source": [
    "!head params-cragig_l1_25_c76.txt -n 31"
   ]
  },
  {
   "cell_type": "markdown",
   "metadata": {},
   "source": [
    "Bash script to run these overnight looks like this:"
   ]
  },
  {
   "cell_type": "code",
   "execution_count": 18,
   "metadata": {
    "collapsed": false
   },
   "outputs": [
    {
     "name": "stdout",
     "output_type": "stream",
     "text": [
      "#!/bin/bash\r\n",
      "ipyrad -p params-cragig_l1_25_c76.txt -s 34567\r\n",
      "ipyrad -p params-cragig_l1_25_c78.txt -s 34567\r\n",
      "ipyrad -p params-cragig_l1_25_c80.txt -s 34567\r\n",
      "ipyrad -p params-cragig_l1_25_c82.txt -s 34567\r\n",
      "ipyrad -p params-cragig_l1_25_c84.txt -s 34567\r\n",
      "ipyrad -p params-cragig_l1_25_c86.txt -s 34567\r\n",
      "ipyrad -p params-cragig_l1_25_c88.txt -s 34567\r\n",
      "ipyrad -p params-cragig_l1_25_c90.txt -s 34567\r\n",
      "ipyrad -p params-cragig_l1_25_c92.txt -s 34567\r\n",
      "ipyrad -p params-cragig_l1_25_c94.txt -s 34567\r\n"
     ]
    }
   ],
   "source": [
    "!head clust_test_25scallops.sh -n 12"
   ]
  },
  {
   "cell_type": "code",
   "execution_count": null,
   "metadata": {
    "collapsed": true
   },
   "outputs": [],
   "source": []
  }
 ],
 "metadata": {
  "kernelspec": {
   "display_name": "Python 2",
   "language": "python",
   "name": "python2"
  },
  "language_info": {
   "codemirror_mode": {
    "name": "ipython",
    "version": 2
   },
   "file_extension": ".py",
   "mimetype": "text/x-python",
   "name": "python",
   "nbconvert_exporter": "python",
   "pygments_lexer": "ipython2",
   "version": "2.7.13"
  }
 },
 "nbformat": 4,
 "nbformat_minor": 2
}
