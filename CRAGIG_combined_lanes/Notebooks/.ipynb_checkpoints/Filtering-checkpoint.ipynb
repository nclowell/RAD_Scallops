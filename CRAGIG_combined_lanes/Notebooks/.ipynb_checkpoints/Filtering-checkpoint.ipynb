{
 "cells": [
  {
   "cell_type": "markdown",
   "metadata": {},
   "source": [
    "## Filtering\n",
    "\n",
    "This notebook is for streamlining the filtering process that occurs after ipyrad. This way, I can rerun the notebook with different filenames instead of do it from scratch each time."
   ]
  },
  {
   "cell_type": "markdown",
   "metadata": {},
   "source": [
    "**[1]** Change working directory to assembly outfiles"
   ]
  },
  {
   "cell_type": "code",
   "execution_count": 6,
   "metadata": {
    "collapsed": false
   },
   "outputs": [
    {
     "name": "stdout",
     "output_type": "stream",
     "text": [
      "/mnt/hgfs/SHARED_FOLDER/Learn_iPyrad/CRAGIG_RUNS_12_py/cragig_lanes_12_002_outfiles\n"
     ]
    }
   ],
   "source": [
    "cd /mnt/hgfs/SHARED_FOLDER/Learn_iPyrad/CRAGIG_RUNS_12_py/cragig_lanes_12_002_outfiles"
   ]
  },
  {
   "cell_type": "markdown",
   "metadata": {},
   "source": [
    "**[2]** Make directory for new/edited outfiles from ipyrad, called ``new_outfiles``."
   ]
  },
  {
   "cell_type": "code",
   "execution_count": 7,
   "metadata": {
    "collapsed": true
   },
   "outputs": [],
   "source": [
    "!mkdir new_outfiles"
   ]
  },
  {
   "cell_type": "markdown",
   "metadata": {},
   "source": [
    "**[3]** Use ``vcftools`` to filter for biallelic loci and minor allele frequency. Manual [here](http://vcftools.sourceforge.net/man_latest.html).\n",
    "\n",
    "Be sure to change:\n",
    "- name of input vcf file\n",
    "- name of output vcf file"
   ]
  },
  {
   "cell_type": "code",
   "execution_count": 8,
   "metadata": {
    "collapsed": false
   },
   "outputs": [
    {
     "name": "stdout",
     "output_type": "stream",
     "text": [
      "\n",
      "VCFtools - UNKNOWN\n",
      "(C) Adam Auton and Anthony Marcketta 2009\n",
      "\n",
      "Parameters as interpreted:\n",
      "\t--vcf cragig_lanes_12_002.vcf\n",
      "\t--maf 0.05\n",
      "\t--max-alleles 2\n",
      "\t--min-alleles 2\n",
      "\t--out new_outfiles/cragig_lanes_12_002_biall_maf\n",
      "\t--recode\n",
      "\n",
      "After filtering, kept 138 out of 138 Individuals\n",
      "Outputting VCF file...\n",
      "After filtering, kept 3254 out of a possible 17479 Sites\n",
      "Run Time = 1.00 seconds\n"
     ]
    }
   ],
   "source": [
    "!vcftools --vcf cragig_lanes_12_002.vcf \\ # change!\n",
    "--min-alleles 2 --max-alleles 2 \\\n",
    "--maf .05 \\\n",
    "--out new_outfiles/cragig_lanes_12_002_biall_maf \\ # change!\n",
    "--recode"
   ]
  },
  {
   "cell_type": "markdown",
   "metadata": {},
   "source": [
    "**[4]** Make dictionary for translating STR file locus names to VCF file locus names\n",
    "\n",
    "In a few steps, we will use [PGD Spider](http://www.cmpg.unibe.ch/software/PGDSpider/) to convert the filtered VCF file into a STR file, which can be read into ``adegenet`` for population genetic statistics. However, PGD Spider will give loci arbitrary names: SNP_1, SNP_2, SNP_3, etc. So, we will need to give them informative names based on the locus number and position in the VCF file."
   ]
  },
  {
   "cell_type": "code",
   "execution_count": null,
   "metadata": {
    "collapsed": true
   },
   "outputs": [],
   "source": []
  },
  {
   "cell_type": "code",
   "execution_count": null,
   "metadata": {
    "collapsed": true
   },
   "outputs": [],
   "source": []
  },
  {
   "cell_type": "code",
   "execution_count": null,
   "metadata": {
    "collapsed": true
   },
   "outputs": [],
   "source": []
  }
 ],
 "metadata": {
  "kernelspec": {
   "display_name": "Python 2",
   "language": "python",
   "name": "python2"
  },
  "language_info": {
   "codemirror_mode": {
    "name": "ipython",
    "version": 2
   },
   "file_extension": ".py",
   "mimetype": "text/x-python",
   "name": "python",
   "nbconvert_exporter": "python",
   "pygments_lexer": "ipython2",
   "version": "2.7.13"
  }
 },
 "nbformat": 4,
 "nbformat_minor": 2
}
