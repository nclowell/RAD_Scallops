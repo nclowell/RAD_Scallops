{
 "cells": [
  {
   "cell_type": "markdown",
   "metadata": {},
   "source": [
    "## FASTA from alleles.loci file in ipyrad\n",
    "\n",
    "I want to make a tree of my loci to get a ballpark idea of how similar they are and see if it can inform how I pick a clustering similarity threshold, as for now it seems somewhat arbitrary.\n",
    "\n",
    "Because there isn't a consensus file, and I'm winging it, just thought I'd  use the alleles.loci files, pick the first 130 bp of a random draw to make into a fasta file."
   ]
  },
  {
   "cell_type": "code",
   "execution_count": 3,
   "metadata": {
    "collapsed": false
   },
   "outputs": [
    {
     "name": "stdout",
     "output_type": "stream",
     "text": [
      "/mnt/hgfs/SHARED_FOLDER/Learn_iPyrad/CRAGIG_RUNS_12_py/cragig_lanes_12_002_outfiles\n"
     ]
    }
   ],
   "source": [
    "cd /mnt/hgfs/SHARED_FOLDER/Learn_iPyrad/CRAGIG_RUNS_12_py/cragig_lanes_12_002_outfiles"
   ]
  },
  {
   "cell_type": "code",
   "execution_count": 13,
   "metadata": {
    "collapsed": false
   },
   "outputs": [],
   "source": [
    "f = open('cragig_lanes_12_002.alleles.loci')\n",
    "\n",
    "blocks = []\n",
    "b = []\n",
    "locus_list = []\n",
    "\n",
    "\n",
    "for line in f:\n",
    "    if line.startswith('//'):\n",
    "        linelist = line.split(\"|\")\n",
    "        locus_list.append(linelist[1])\n",
    "        if len(b) > 0:\n",
    "            blocks.append(b)\n",
    "            b = []\n",
    "    else:\n",
    "        b.append(line)\n",
    "            \n",
    "f.close()"
   ]
  },
  {
   "cell_type": "code",
   "execution_count": 39,
   "metadata": {
    "collapsed": false
   },
   "outputs": [],
   "source": [
    "fasta_dict = {}\n",
    "loci_in_dict = []\n",
    "counta = 0\n",
    "countb = 0\n",
    "\n",
    "for locus in locus_list:\n",
    "    index = locus_list.index(locus)\n",
    "    block = blocks[index]\n",
    "    firstblockline = block[0]\n",
    "    firstblockline_list = firstblockline.split()\n",
    "    seq = firstblockline_list[1]\n",
    "    seq = seq.replace(\"-\",\"\").replace(\"\\\\n\",\"\")\n",
    "    seq130 = seq[:130]\n",
    "    if len(seq130) == 130:\n",
    "        fasta_dict[locus] = seq130\n",
    "        loci_in_dict.append(locus)\n",
    "        counta += 1\n",
    "    else:\n",
    "        countb += 1"
   ]
  },
  {
   "cell_type": "code",
   "execution_count": 40,
   "metadata": {
    "collapsed": false
   },
   "outputs": [
    {
     "name": "stdout",
     "output_type": "stream",
     "text": [
      "1522\n",
      "1\n"
     ]
    }
   ],
   "source": [
    "print counta\n",
    "print countb"
   ]
  },
  {
   "cell_type": "code",
   "execution_count": 41,
   "metadata": {
    "collapsed": false
   },
   "outputs": [],
   "source": [
    "fastafile = open(\"cragig_lanes_12_002_edited_outfiles_and_suppl_stats/fasta_of_loci.fa\",\"w\")\n",
    "for locus in loci_in_dict:\n",
    "    fastafile.write(\">\" + locus + \"\\n\" + fasta_dict[locus] + \"\\n\")\n",
    "fastafile.close()"
   ]
  },
  {
   "cell_type": "code",
   "execution_count": 42,
   "metadata": {
    "collapsed": false
   },
   "outputs": [
    {
     "name": "stdout",
     "output_type": "stream",
     "text": [
      "/mnt/hgfs/SHARED_FOLDER/Learn_iPyrad/CRAGIG_RUNS_12_py/cragig_lanes_12_002_outfiles/cragig_lanes_12_002_edited_outfiles_and_suppl_stats\n"
     ]
    }
   ],
   "source": [
    "cd cragig_lanes_12_002_edited_outfiles_and_suppl_stats/"
   ]
  },
  {
   "cell_type": "code",
   "execution_count": 43,
   "metadata": {
    "collapsed": false
   },
   "outputs": [
    {
     "name": "stdout",
     "output_type": "stream",
     "text": [
      ">47\r\n",
      "GGACACATAATGACACTGTCCACATTTGATTGAGGTGTATATAACCTTTAGTGATCAATGATACAAACAGATTTTGTGCGTCTGAATAGATACACACAACATACCCAATGTATACAGGATCATTTTCACT\r\n",
      ">145\r\n",
      "GTCCAGGCTTGCCAGAAGCCCCTTTTGGCCCAGACCGACCAGGTCGGCCTTTCTTTCCTTTCTTACCCTAAAGTGGTAAACAGACAGTAAGTAGAATTGTATACTAAGTAAATCGAATGAGATTGTAAAG\r\n",
      ">313\r\n",
      "TATTTTGTAAACACCTCTTAAATTCATATAATAGTACCATTTCAGAATAACATACAACAATTGAAGTTCAATAGAGATTAGTCAGATGACCGTAAAGGCCAATGGGTCTCTTATTTTTATGAAATATCGC\r\n",
      ">499\r\n",
      "AGTAAGAAACAAAATAAGCGATACAAAATTTCACCATTAAGCAATATATATATCAATTTATTTAGACTAACAAGAAAGATTCTTCGGTTATCTACATGGCAGCTGCTTGGTTAATTCTTTTTTATTGTTC\r\n",
      ">610\r\n",
      "GAAAGGTGGTATGCATGGTTTTGTCATATATACATGCAAAGAGGTAAGTGCATCACAAGGCAACGAAATAAGGTGCTCCTTATTCTTTTCCTGCTTCTTCTGAACATTTGAAAAGAGTGTTAAGTTACTG\r\n",
      ">662\r\n",
      "TTATATAGGTAAACTCAGGCTTTACATAAAGGATTATTGGACAGATACATTTTATTAAGTTTGCTATTTTATAACTATTTATTTTTAGGATTAATAGCTATAAATCGAAGTTATTAGCAGTCAAGAGCAA\r\n",
      ">827\r\n",
      "TTTTGTCTCTGTAATTGTCGGAGTGACGTATTCTAACTAGCTGTATTGTCTGTAACTTTAATCAAACATATTTTTTACAGATCATAAGAAGTCTAGGACCCGTATTCATGTAGCAGACCTCATGCTCAAG\r\n",
      ">897\r\n",
      "TATGTGACAACAGCAATTTAAATTGTCATTAGAAATTGGGTACCCTTAGTTTTTGATTAACTGCAAATTATTTTTCATATTCAATCTTTATTCATTTTTCAGATAAGCAAAATGCTTCGGCTGTGGCCGA\r\n",
      ">922\r\n",
      "AAAGAACTCGTCCCGAGGTTTCCCGGGCCAAAGTATACAGCGATTCTTGTGAAAGTATCGCTGAGGTTTTCTCAATATTTCCCCGGGTCCCTATGTGGGCGCCAATGTAACATAAGCCACTTTTTCTTTT\r\n",
      ">996\r\n",
      "GGAATTGTTTTTACAACCCTATTGGAAAATCAGAGAAAAAGATTTATGACTGCATCACAATACTATGACCAGTAAAAGGATAATATTTCTTACCTGTAAATAACGCTATGTTAGTTATATATATATATTT\r\n"
     ]
    }
   ],
   "source": [
    "!head -n 20 fasta_of_loci.fa"
   ]
  },
  {
   "cell_type": "code",
   "execution_count": 45,
   "metadata": {
    "collapsed": false
   },
   "outputs": [
    {
     "name": "stdout",
     "output_type": "stream",
     "text": [
      "Settings:\n",
      "  Output files: \"cragig_lanes12_002.*.bt2\"\n",
      "  Line rate: 6 (line is 64 bytes)\n",
      "  Lines per side: 1 (side is 64 bytes)\n",
      "  Offset rate: 4 (one in 16)\n",
      "  FTable chars: 10\n",
      "  Strings: unpacked\n",
      "  Max bucket size: default\n",
      "  Max bucket size, sqrt multiplier: default\n",
      "  Max bucket size, len divisor: 4\n",
      "  Difference-cover sample period: 1024\n",
      "  Endianness: little\n",
      "  Actual local endianness: little\n",
      "  Sanity checking: disabled\n",
      "  Assertions: disabled\n",
      "  Random seed: 0\n",
      "  Sizeofs: void*:8, int:4, long:8, size_t:8\n",
      "Input files DNA, FASTA:\n",
      "  fasta_of_loci.fa\n",
      "Building a SMALL index\n",
      "Reading reference sizes\n",
      "  Time reading reference sizes: 00:00:00\n",
      "Calculating joined length\n",
      "Writing header\n",
      "Reserving space for joined string\n",
      "Joining reference sequences\n",
      "  Time to join reference sequences: 00:00:00\n",
      "bmax according to bmaxDivN setting: 49465\n",
      "Using parameters --bmax 37099 --dcv 1024\n",
      "  Doing ahead-of-time memory usage test\n",
      "  Passed!  Constructing with these parameters: --bmax 37099 --dcv 1024\n",
      "Constructing suffix-array element generator\n",
      "Building DifferenceCoverSample\n",
      "  Building sPrime\n",
      "  Building sPrimeOrder\n",
      "  V-Sorting samples\n",
      "  V-Sorting samples time: 00:00:00\n",
      "  Allocating rank array\n",
      "  Ranking v-sort output\n",
      "  Ranking v-sort output time: 00:00:00\n",
      "  Invoking Larsson-Sadakane on ranks\n",
      "  Invoking Larsson-Sadakane on ranks time: 00:00:00\n",
      "  Sanity-checking and returning\n",
      "Building samples\n",
      "Reserving space for 12 sample suffixes\n",
      "Generating random suffixes\n",
      "QSorting 12 sample offsets, eliminating duplicates\n",
      "QSorting sample offsets, eliminating duplicates time: 00:00:00\n",
      "Multikey QSorting 12 samples\n",
      "  (Using difference cover)\n",
      "  Multikey QSorting samples time: 00:00:00\n",
      "Calculating bucket sizes\n",
      "  Binary sorting into buckets\n",
      "  10%\n",
      "  20%\n",
      "  30%\n",
      "  40%\n",
      "  50%\n",
      "  60%\n",
      "  70%\n",
      "  80%\n",
      "  90%\n",
      "  100%\n",
      "  Binary sorting into buckets time: 00:00:00\n",
      "Splitting and merging\n",
      "  Splitting and merging time: 00:00:00\n",
      "Split 1, merged 6; iterating...\n",
      "  Binary sorting into buckets\n",
      "  10%\n",
      "  20%\n",
      "  30%\n",
      "  40%\n",
      "  50%\n",
      "  60%\n",
      "  70%\n",
      "  80%\n",
      "  90%\n",
      "  100%\n",
      "  Binary sorting into buckets time: 00:00:00\n",
      "Splitting and merging\n",
      "  Splitting and merging time: 00:00:00\n",
      "Avg bucket size: 28264.9 (target: 37098)\n",
      "Converting suffix-array elements to index image\n",
      "Allocating ftab, absorbFtab\n",
      "Entering Ebwt loop\n",
      "Getting block 1 of 7\n",
      "  Reserving size (37099) for bucket\n",
      "  Calculating Z arrays\n",
      "  Calculating Z arrays time: 00:00:00\n",
      "  Entering block accumulator loop:\n",
      "  10%\n",
      "  20%\n",
      "  30%\n",
      "  40%\n",
      "  50%\n",
      "  60%\n",
      "  70%\n",
      "  80%\n",
      "  90%\n",
      "  100%\n",
      "  Block accumulator loop time: 00:00:00\n",
      "  Sorting block of length 29400\n",
      "  (Using difference cover)\n",
      "  Sorting block time: 00:00:00\n",
      "Returning block of 29401\n",
      "Getting block 2 of 7\n",
      "  Reserving size (37099) for bucket\n",
      "  Calculating Z arrays\n",
      "  Calculating Z arrays time: 00:00:00\n",
      "  Entering block accumulator loop:\n",
      "  10%\n",
      "  20%\n",
      "  30%\n",
      "  40%\n",
      "  50%\n",
      "  60%\n",
      "  70%\n",
      "  80%\n",
      "  90%\n",
      "  100%\n",
      "  Block accumulator loop time: 00:00:00\n",
      "  Sorting block of length 31859\n",
      "  (Using difference cover)\n",
      "  Sorting block time: 00:00:00\n",
      "Returning block of 31860\n",
      "Getting block 3 of 7\n",
      "  Reserving size (37099) for bucket\n",
      "  Calculating Z arrays\n",
      "  Calculating Z arrays time: 00:00:00\n",
      "  Entering block accumulator loop:\n",
      "  10%\n",
      "  20%\n",
      "  30%\n",
      "  40%\n",
      "  50%\n",
      "  60%\n",
      "  70%\n",
      "  80%\n",
      "  90%\n",
      "  100%\n",
      "  Block accumulator loop time: 00:00:00\n",
      "  Sorting block of length 19193\n",
      "  (Using difference cover)\n",
      "  Sorting block time: 00:00:00\n",
      "Returning block of 19194\n",
      "Getting block 4 of 7\n",
      "  Reserving size (37099) for bucket\n",
      "  Calculating Z arrays\n",
      "  Calculating Z arrays time: 00:00:00\n",
      "  Entering block accumulator loop:\n",
      "  10%\n",
      "  20%\n",
      "  30%\n",
      "  40%\n",
      "  50%\n",
      "  60%\n",
      "  70%\n",
      "  80%\n",
      "  90%\n",
      "  100%\n",
      "  Block accumulator loop time: 00:00:00\n",
      "  Sorting block of length 36171\n",
      "  (Using difference cover)\n",
      "  Sorting block time: 00:00:00\n",
      "Returning block of 36172\n",
      "Getting block 5 of 7\n",
      "  Reserving size (37099) for bucket\n",
      "  Calculating Z arrays\n",
      "  Calculating Z arrays time: 00:00:00\n",
      "  Entering block accumulator loop:\n",
      "  10%\n",
      "  20%\n",
      "  30%\n",
      "  40%\n",
      "  50%\n",
      "  60%\n",
      "  70%\n",
      "  80%\n",
      "  90%\n",
      "  100%\n",
      "  Block accumulator loop time: 00:00:00\n",
      "  Sorting block of length 15791\n",
      "  (Using difference cover)\n",
      "  Sorting block time: 00:00:00\n",
      "Returning block of 15792\n",
      "Getting block 6 of 7\n",
      "  Reserving size (37099) for bucket\n",
      "  Calculating Z arrays\n",
      "  Calculating Z arrays time: 00:00:00\n",
      "  Entering block accumulator loop:\n",
      "  10%\n",
      "  20%\n",
      "  30%\n",
      "  40%\n",
      "  50%\n",
      "  60%\n",
      "  70%\n",
      "  80%\n",
      "  90%\n",
      "  100%\n",
      "  Block accumulator loop time: 00:00:00\n",
      "  Sorting block of length 29611\n",
      "  (Using difference cover)\n",
      "  Sorting block time: 00:00:00\n",
      "Returning block of 29612\n",
      "Getting block 7 of 7\n",
      "  Reserving size (37099) for bucket\n",
      "  Calculating Z arrays\n",
      "  Calculating Z arrays time: 00:00:00\n",
      "  Entering block accumulator loop:\n",
      "  10%\n",
      "  20%\n",
      "  30%\n",
      "  40%\n",
      "  50%\n",
      "  60%\n",
      "  70%\n",
      "  80%\n",
      "  90%\n",
      "  100%\n",
      "  Block accumulator loop time: 00:00:00\n",
      "  Sorting block of length 35829\n",
      "  (Using difference cover)\n",
      "  Sorting block time: 00:00:00\n",
      "Returning block of 35830\n",
      "Exited Ebwt loop\n",
      "fchr[A]: 0\n",
      "fchr[C]: 61299\n",
      "fchr[G]: 98396\n",
      "fchr[T]: 137245\n",
      "fchr[$]: 197860\n",
      "Exiting Ebwt::buildToDisk()\n",
      "Returning from initFromVector\n",
      "Wrote 4293735 bytes to primary EBWT file: cragig_lanes12_002.1.bt2\n",
      "Wrote 49472 bytes to secondary EBWT file: cragig_lanes12_002.2.bt2\n",
      "Re-opening _in1 and _in2 as input streams\n",
      "Returning from Ebwt constructor\n",
      "Headers:\n",
      "    len: 197860\n",
      "    bwtLen: 197861\n",
      "    sz: 49465\n",
      "    bwtSz: 49466\n",
      "    lineRate: 6\n",
      "    offRate: 4\n",
      "    offMask: 0xfffffff0\n",
      "    ftabChars: 10\n",
      "    eftabLen: 20\n",
      "    eftabSz: 80\n",
      "    ftabLen: 1048577\n",
      "    ftabSz: 4194308\n",
      "    offsLen: 12367\n",
      "    offsSz: 49468\n",
      "    lineSz: 64\n",
      "    sideSz: 64\n",
      "    sideBwtSz: 48\n",
      "    sideBwtLen: 192\n",
      "    numSides: 1031\n",
      "    numLines: 1031\n",
      "    ebwtTotLen: 65984\n",
      "    ebwtTotSz: 65984\n",
      "    color: 0\n",
      "    reverse: 0\n",
      "Total time for call to driver() for forward index: 00:00:00\n",
      "Reading reference sizes\n",
      "  Time reading reference sizes: 00:00:00\n",
      "Calculating joined length\n",
      "Writing header\n",
      "Reserving space for joined string\n",
      "Joining reference sequences\n",
      "  Time to join reference sequences: 00:00:00\n",
      "  Time to reverse reference sequence: 00:00:00\n",
      "bmax according to bmaxDivN setting: 49465\n",
      "Using parameters --bmax 37099 --dcv 1024\n",
      "  Doing ahead-of-time memory usage test\n",
      "  Passed!  Constructing with these parameters: --bmax 37099 --dcv 1024\n",
      "Constructing suffix-array element generator\n",
      "Building DifferenceCoverSample\n",
      "  Building sPrime\n",
      "  Building sPrimeOrder\n",
      "  V-Sorting samples\n",
      "  V-Sorting samples time: 00:00:00\n",
      "  Allocating rank array\n",
      "  Ranking v-sort output\n",
      "  Ranking v-sort output time: 00:00:00\n",
      "  Invoking Larsson-Sadakane on ranks\n",
      "  Invoking Larsson-Sadakane on ranks time: 00:00:00\n",
      "  Sanity-checking and returning\n",
      "Building samples\n",
      "Reserving space for 12 sample suffixes\n",
      "Generating random suffixes\n",
      "QSorting 12 sample offsets, eliminating duplicates\n",
      "QSorting sample offsets, eliminating duplicates time: 00:00:00\n",
      "Multikey QSorting 12 samples\n",
      "  (Using difference cover)\n",
      "  Multikey QSorting samples time: 00:00:00\n",
      "Calculating bucket sizes\n",
      "  Binary sorting into buckets\n",
      "  10%\n",
      "  20%\n",
      "  30%\n",
      "  40%\n",
      "  50%\n",
      "  60%\n",
      "  70%\n",
      "  80%\n",
      "  90%\n",
      "  100%\n",
      "  Binary sorting into buckets time: 00:00:00\n",
      "Splitting and merging\n",
      "  Splitting and merging time: 00:00:00\n",
      "Split 1, merged 5; iterating...\n",
      "  Binary sorting into buckets\n",
      "  10%\n",
      "  20%\n",
      "  30%\n",
      "  40%\n",
      "  50%\n",
      "  60%\n",
      "  70%\n",
      "  80%\n",
      "  90%\n",
      "  100%\n",
      "  Binary sorting into buckets time: 00:00:00\n",
      "Splitting and merging\n",
      "  Splitting and merging time: 00:00:00\n",
      "Split 1, merged 1; iterating...\n",
      "  Binary sorting into buckets\n",
      "  10%\n",
      "  20%\n",
      "  30%\n",
      "  40%\n",
      "  50%\n",
      "  60%\n",
      "  70%\n",
      "  80%\n",
      "  90%\n",
      "  100%\n",
      "  Binary sorting into buckets time: 00:00:00\n",
      "Splitting and merging\n",
      "  Splitting and merging time: 00:00:00\n",
      "Split 1, merged 1; iterating...\n",
      "  Binary sorting into buckets\n",
      "  10%\n",
      "  20%\n",
      "  30%\n",
      "  40%\n",
      "  50%\n",
      "  60%\n",
      "  70%\n",
      "  80%\n",
      "  90%\n",
      "  100%\n",
      "  Binary sorting into buckets time: 00:00:00\n",
      "Splitting and merging\n",
      "  Splitting and merging time: 00:00:00\n",
      "Avg bucket size: 24731.6 (target: 37098)\n",
      "Converting suffix-array elements to index image\n",
      "Allocating ftab, absorbFtab\n",
      "Entering Ebwt loop\n",
      "Getting block 1 of 8\n",
      "  Reserving size (37099) for bucket\n",
      "  Calculating Z arrays\n",
      "  Calculating Z arrays time: 00:00:00\n",
      "  Entering block accumulator loop:\n",
      "  10%\n",
      "  20%\n",
      "  30%\n",
      "  40%\n",
      "  50%\n",
      "  60%\n",
      "  70%\n",
      "  80%\n",
      "  90%\n",
      "  100%\n",
      "  Block accumulator loop time: 00:00:00\n",
      "  Sorting block of length 22132\n",
      "  (Using difference cover)\n",
      "  Sorting block time: 00:00:00\n",
      "Returning block of 22133\n",
      "Getting block 2 of 8\n",
      "  Reserving size (37099) for bucket\n",
      "  Calculating Z arrays\n",
      "  Calculating Z arrays time: 00:00:00\n",
      "  Entering block accumulator loop:\n",
      "  10%\n",
      "  20%\n",
      "  30%\n",
      "  40%\n",
      "  50%\n",
      "  60%\n",
      "  70%\n",
      "  80%\n",
      "  90%\n",
      "  100%\n",
      "  Block accumulator loop time: 00:00:00\n",
      "  Sorting block of length 19519\n",
      "  (Using difference cover)\n",
      "  Sorting block time: 00:00:00\n",
      "Returning block of 19520\n",
      "Getting block 3 of 8\n",
      "  Reserving size (37099) for bucket\n",
      "  Calculating Z arrays\n",
      "  Calculating Z arrays time: 00:00:00\n",
      "  Entering block accumulator loop:\n",
      "  10%\n",
      "  20%\n",
      "  30%\n",
      "  40%\n",
      "  50%\n",
      "  60%\n",
      "  70%\n",
      "  80%\n",
      "  90%\n",
      "  100%\n",
      "  Block accumulator loop time: 00:00:00\n",
      "  Sorting block of length 27245\n",
      "  (Using difference cover)\n",
      "  Sorting block time: 00:00:00\n",
      "Returning block of 27246\n",
      "Getting block 4 of 8\n",
      "  Reserving size (37099) for bucket\n",
      "  Calculating Z arrays\n",
      "  Calculating Z arrays time: 00:00:00\n",
      "  Entering block accumulator loop:\n",
      "  10%\n",
      "  20%\n",
      "  30%\n",
      "  40%\n",
      "  50%\n",
      "  60%\n",
      "  70%\n",
      "  80%\n",
      "  90%\n",
      "  100%\n",
      "  Block accumulator loop time: 00:00:00\n",
      "  Sorting block of length 32230\n",
      "  (Using difference cover)\n",
      "  Sorting block time: 00:00:01\n",
      "Returning block of 32231\n",
      "Getting block 5 of 8\n",
      "  Reserving size (37099) for bucket\n",
      "  Calculating Z arrays\n",
      "  Calculating Z arrays time: 00:00:00\n",
      "  Entering block accumulator loop:\n",
      "  10%\n",
      "  20%\n",
      "  30%\n",
      "  40%\n",
      "  50%\n",
      "  60%\n",
      "  70%\n",
      "  80%\n",
      "  90%\n",
      "  100%\n",
      "  Block accumulator loop time: 00:00:00\n",
      "  Sorting block of length 28557\n",
      "  (Using difference cover)\n",
      "  Sorting block time: 00:00:00\n",
      "Returning block of 28558\n",
      "Getting block 6 of 8\n",
      "  Reserving size (37099) for bucket\n",
      "  Calculating Z arrays\n",
      "  Calculating Z arrays time: 00:00:00\n",
      "  Entering block accumulator loop:\n",
      "  10%\n",
      "  20%\n",
      "  30%\n",
      "  40%\n",
      "  50%\n",
      "  60%\n",
      "  70%\n",
      "  80%\n",
      "  90%\n",
      "  100%\n",
      "  Block accumulator loop time: 00:00:00\n",
      "  Sorting block of length 25418\n",
      "  (Using difference cover)\n",
      "  Sorting block time: 00:00:00\n",
      "Returning block of 25419\n",
      "Getting block 7 of 8\n",
      "  Reserving size (37099) for bucket\n",
      "  Calculating Z arrays\n",
      "  Calculating Z arrays time: 00:00:00\n",
      "  Entering block accumulator loop:\n",
      "  10%\n",
      "  20%\n",
      "  30%\n",
      "  40%\n",
      "  50%\n",
      "  60%\n",
      "  70%\n",
      "  80%\n",
      "  90%\n",
      "  100%\n",
      "  Block accumulator loop time: 00:00:00\n",
      "  Sorting block of length 22064\n",
      "  (Using difference cover)\n",
      "  Sorting block time: 00:00:00\n",
      "Returning block of 22065\n",
      "Getting block 8 of 8\n",
      "  Reserving size (37099) for bucket\n",
      "  Calculating Z arrays\n",
      "  Calculating Z arrays time: 00:00:00\n",
      "  Entering block accumulator loop:\n",
      "  10%\n",
      "  20%\n",
      "  30%\n",
      "  40%\n",
      "  50%\n",
      "  60%\n",
      "  70%\n",
      "  80%\n",
      "  90%\n",
      "  100%\n",
      "  Block accumulator loop time: 00:00:00\n",
      "  Sorting block of length 20688\n",
      "  (Using difference cover)\n",
      "  Sorting block time: 00:00:00\n",
      "Returning block of 20689\n",
      "Exited Ebwt loop\n",
      "fchr[A]: 0\n",
      "fchr[C]: 61299\n",
      "fchr[G]: 98396\n",
      "fchr[T]: 137245\n",
      "fchr[$]: 197860\n",
      "Exiting Ebwt::buildToDisk()\n",
      "Returning from initFromVector\n",
      "Wrote 4293735 bytes to primary EBWT file: cragig_lanes12_002.rev.1.bt2\n",
      "Wrote 49472 bytes to secondary EBWT file: cragig_lanes12_002.rev.2.bt2\n",
      "Re-opening _in1 and _in2 as input streams\n",
      "Returning from Ebwt constructor\n",
      "Headers:\n",
      "    len: 197860\n",
      "    bwtLen: 197861\n",
      "    sz: 49465\n",
      "    bwtSz: 49466\n",
      "    lineRate: 6\n",
      "    offRate: 4\n",
      "    offMask: 0xfffffff0\n",
      "    ftabChars: 10\n",
      "    eftabLen: 20\n",
      "    eftabSz: 80\n",
      "    ftabLen: 1048577\n",
      "    ftabSz: 4194308\n",
      "    offsLen: 12367\n",
      "    offsSz: 49468\n",
      "    lineSz: 64\n",
      "    sideSz: 64\n",
      "    sideBwtSz: 48\n",
      "    sideBwtLen: 192\n",
      "    numSides: 1031\n",
      "    numLines: 1031\n",
      "    ebwtTotLen: 65984\n",
      "    ebwtTotSz: 65984\n",
      "    color: 0\n",
      "    reverse: 1\n",
      "Total time for backward call to driver() for mirror index: 00:00:01\n"
     ]
    }
   ],
   "source": [
    "!bowtie2-build fasta_of_loci.fa cragig_lanes12_002"
   ]
  },
  {
   "cell_type": "code",
   "execution_count": 46,
   "metadata": {
    "collapsed": false
   },
   "outputs": [
    {
     "name": "stdout",
     "output_type": "stream",
     "text": [
      "1522 reads; of these:\r\n",
      "  1522 (100.00%) were unpaired; of these:\r\n",
      "    0 (0.00%) aligned 0 times\r\n",
      "    1522 (100.00%) aligned exactly 1 time\r\n",
      "    0 (0.00%) aligned >1 times\r\n",
      "100.00% overall alignment rate\r\n"
     ]
    }
   ],
   "source": [
    "!bowtie2 -f \\\n",
    "-x cragig_lanes12_002 \\\n",
    "-U fasta_of_loci.fa \\\n",
    "-S loci_self_almnt.sam \\\n",
    "-k 10"
   ]
  },
  {
   "cell_type": "markdown",
   "metadata": {},
   "source": [
    "I made a tree in MEGA and started looking at sequences that could be pretty similar, to see if I can glean anything about whether I'm over or under splitting loci. Here are some examples of pairs that were close together branch distance-wise.\n",
    "\n",
    "\n",
    "[1]"
   ]
  },
  {
   "cell_type": "code",
   "execution_count": 47,
   "metadata": {
    "collapsed": false
   },
   "outputs": [
    {
     "data": {
      "text/plain": [
       "'TGGGAGATCGGGAAAAGAATACACCTGCTGTTACCCACTGGATGTATCGTAGGAAACGACTAATGTGGGAACATCCAGCAGAATTAGGGATTTGCTTTGGTGTCCTCTACTTCTGACTACAGTTTATTTC'"
      ]
     },
     "execution_count": 47,
     "metadata": {},
     "output_type": "execute_result"
    }
   ],
   "source": [
    "fasta_dict['46912']"
   ]
  },
  {
   "cell_type": "code",
   "execution_count": 48,
   "metadata": {
    "collapsed": false
   },
   "outputs": [
    {
     "data": {
      "text/plain": [
       "'TGGGAGGTCTGGAAAAGAATATACCTGCTGTTTCCCACTGCACGTATCGTGGGAGGCGATGAATGTTGGAACCCCGTGCAGAACTGGGGATTTGCTTTGGTGTCCACAAAAGTGGCCAAAAGAATATACT'"
      ]
     },
     "execution_count": 48,
     "metadata": {},
     "output_type": "execute_result"
    }
   ],
   "source": [
    "fasta_dict['68168']"
   ]
  },
  {
   "cell_type": "markdown",
   "metadata": {},
   "source": [
    "[2]"
   ]
  },
  {
   "cell_type": "code",
   "execution_count": 49,
   "metadata": {
    "collapsed": false
   },
   "outputs": [
    {
     "data": {
      "text/plain": [
       "'TAGGGCGTAATAATTGTACCTGCTGCACCCATTGCATAATAATAAGAGGCGACTGAATTTGGGATTTTATCTTTTCTGTTCTTTCTAAACAACTTTCTTCCCTTTCTTTAACTTTAATGTCTCCCTTGAC'"
      ]
     },
     "execution_count": 49,
     "metadata": {},
     "output_type": "execute_result"
    }
   ],
   "source": [
    "fasta_dict['17469']"
   ]
  },
  {
   "cell_type": "code",
   "execution_count": 50,
   "metadata": {
    "collapsed": false
   },
   "outputs": [
    {
     "data": {
      "text/plain": [
       "'TAGGGCGCAAGAGTTGTACCTGCTGACCCGATTGCATGATCGTAAGAGGCGACTAAATTTGGGATCTTATATTTTCTCTTCTTTGTAAAGAACTTTCTTCTCTTTAATGTCTCGCTTAATAACTTAATAA'"
      ]
     },
     "execution_count": 50,
     "metadata": {},
     "output_type": "execute_result"
    }
   ],
   "source": [
    "fasta_dict['32092']"
   ]
  },
  {
   "cell_type": "markdown",
   "metadata": {},
   "source": [
    "[3]"
   ]
  },
  {
   "cell_type": "code",
   "execution_count": 51,
   "metadata": {
    "collapsed": false
   },
   "outputs": [
    {
     "data": {
      "text/plain": [
       "'GAGATATGATATTTTATCTCCCTGTCATGTGATCTACCCCCAAGATCATGAAACAATCTTAAGTCTGAAATTGTCTTAGAAAGTCTGATATTGTCTTAAGATTTGACATAGCAAATCACAAATAACATTA'"
      ]
     },
     "execution_count": 51,
     "metadata": {},
     "output_type": "execute_result"
    }
   ],
   "source": [
    "fasta_dict['25778']"
   ]
  },
  {
   "cell_type": "code",
   "execution_count": 53,
   "metadata": {
    "collapsed": false
   },
   "outputs": [
    {
     "data": {
      "text/plain": [
       "'GAGATATGATATTTTATCTCCCTGTTATGTGATCTACCCCCGAGATCATGAAACAGTCTTAAGTCTGAAATTGTCTTAAGATTTGACATAGCAAATCACAAATATCATTAGGAAATATGACGTCGGACGT'"
      ]
     },
     "execution_count": 53,
     "metadata": {},
     "output_type": "execute_result"
    }
   ],
   "source": [
    "fasta_dict['30827']"
   ]
  },
  {
   "cell_type": "markdown",
   "metadata": {},
   "source": [
    "[4]"
   ]
  },
  {
   "cell_type": "code",
   "execution_count": 54,
   "metadata": {
    "collapsed": false
   },
   "outputs": [
    {
     "data": {
      "text/plain": [
       "'GACGGTGTAAAGGTAAACTCTCGATTGACTTGCATATTCAATCAGCCCTGTTGTCTTTGTGTTTAGTTATGATTTATTCAATGGAAATAAATGGCATTTTTCTCGATAATAGTGAATACACGGATACTTC'"
      ]
     },
     "execution_count": 54,
     "metadata": {},
     "output_type": "execute_result"
    }
   ],
   "source": [
    "fasta_dict['40172']"
   ]
  },
  {
   "cell_type": "code",
   "execution_count": 55,
   "metadata": {
    "collapsed": false
   },
   "outputs": [
    {
     "data": {
      "text/plain": [
       "'GACGGTGTAAAGGTAGACTCTCGATTGATTTGCATATTCAATCAGCCCTGTTGGCTTTGTGTTTAGATATGATTTATTCAATGTAAATAAATGGCATTTTTATGGAGGTTTGAAACATTTTCTGACATTT'"
      ]
     },
     "execution_count": 55,
     "metadata": {},
     "output_type": "execute_result"
    }
   ],
   "source": [
    "fasta_dict['50977']"
   ]
  },
  {
   "cell_type": "markdown",
   "metadata": {},
   "source": [
    "[5]"
   ]
  },
  {
   "cell_type": "code",
   "execution_count": 56,
   "metadata": {
    "collapsed": false
   },
   "outputs": [
    {
     "data": {
      "text/plain": [
       "'AGCAGTTTAGGGAGTAATGGTGTAACAGCAGTCTATTAAATTTGATTATTTTTTGTTAATTAAACATTTTTTTCCTTCTTGTAACAATAATTTGAAATCATTTTCACCAACTGTTGATCTACTGTATTAC'"
      ]
     },
     "execution_count": 56,
     "metadata": {},
     "output_type": "execute_result"
    }
   ],
   "source": [
    "fasta_dict['60398']"
   ]
  },
  {
   "cell_type": "code",
   "execution_count": 57,
   "metadata": {
    "collapsed": false
   },
   "outputs": [
    {
     "data": {
      "text/plain": [
       "'AGCAGTTTAGGAAGTACTGGTGTAACGCCAGTCGTATTGAATTTCTTACTAAAACAGATTGTTTTCTTCTCTCATTTTGTGTAACAATAATTTGAAATCATTTTCAACAGCTGTTGGTCTATTAACTAAT'"
      ]
     },
     "execution_count": 57,
     "metadata": {},
     "output_type": "execute_result"
    }
   ],
   "source": [
    "fasta_dict['65970']"
   ]
  },
  {
   "cell_type": "code",
   "execution_count": null,
   "metadata": {
    "collapsed": true
   },
   "outputs": [],
   "source": []
  }
 ],
 "metadata": {
  "kernelspec": {
   "display_name": "Python 2",
   "language": "python",
   "name": "python2"
  },
  "language_info": {
   "codemirror_mode": {
    "name": "ipython",
    "version": 2
   },
   "file_extension": ".py",
   "mimetype": "text/x-python",
   "name": "python",
   "nbconvert_exporter": "python",
   "pygments_lexer": "ipython2",
   "version": "2.7.13"
  }
 },
 "nbformat": 4,
 "nbformat_minor": 2
}
