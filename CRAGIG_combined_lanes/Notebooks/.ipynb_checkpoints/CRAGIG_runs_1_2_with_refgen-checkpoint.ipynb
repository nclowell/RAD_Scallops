{
 "cells": [
  {
   "cell_type": "markdown",
   "metadata": {
    "deletable": true,
    "editable": true
   },
   "source": [
    "## CRAGIG Runs 1 & 2 with reference genome\n",
    "\n",
    "**20170819**\n",
    "\n",
    "I need to analyze my preliminary data for PCSGA, and I'm going to use a reference genome because my second lane doesn't appear to have sequenced as well (little lower read depth, little lower percentage of reads with sbf1 sequence). So, it could be helpful to use a reference genome to retain as much useful information as possible and also it will be computationally easier to do so. For now, I'll use the reference genome I built with 25 scallops, 5 from each of my 5 populations, with the clustering similarity parameter set to 80%. More on the reference genome [here](https://github.com/nclowell/RAD_Scallops/blob/master/CRAGIG_combined_lanes/Notebooks/Simulating_alignments_of_100bp_reads_from_150bp_reads.ipynb).\n",
    "\n",
    "**Steps:**\n",
    "1. Make params file for lane 1\n",
    "2. Make params file for lane 2\n",
    "3. Make merged params file for both lanes\n",
    "4. Run merged assembly"
   ]
  },
  {
   "cell_type": "code",
   "execution_count": 3,
   "metadata": {
    "collapsed": false,
    "deletable": true,
    "editable": true
   },
   "outputs": [
    {
     "name": "stdout",
     "output_type": "stream",
     "text": [
      "/mnt/hgfs/Moved_bioinformatics_files/CRAGIG_RUNS_12_py\n"
     ]
    }
   ],
   "source": [
    "cd /mnt/hgfs/Moved_bioinformatics_files/CRAGIG_RUNS_12_py/"
   ]
  },
  {
   "cell_type": "code",
   "execution_count": 5,
   "metadata": {
    "collapsed": false,
    "deletable": true,
    "editable": true
   },
   "outputs": [
    {
     "name": "stdout",
     "output_type": "stream",
     "text": [
      "\r\n",
      " -------------------------------------------------------------\r\n",
      "  ipyrad [v.0.6.20]\r\n",
      "  Interactive assembly and analysis of RAD-seq data\r\n",
      " -------------------------------------------------------------\r\n",
      "\r\n",
      "  A new version of ipyrad is available (v.0.7.11). To upgrade run:\r\n",
      "\r\n",
      "    conda install -c ipyrad ipyrad\r\n",
      "\r\n",
      "\r\n",
      "  New file 'params-CG_L1_refgen_001.txt' created in /mnt/hgfs/Moved_bioinformatics_files/CRAGIG_RUNS_12_py\r\n",
      "\r\n"
     ]
    }
   ],
   "source": [
    "!ipyrad -n CG_L1_refgen_001"
   ]
  },
  {
   "cell_type": "code",
   "execution_count": 6,
   "metadata": {
    "collapsed": false,
    "deletable": true,
    "editable": true
   },
   "outputs": [
    {
     "name": "stdout",
     "output_type": "stream",
     "text": [
      "\r\n",
      " -------------------------------------------------------------\r\n",
      "  ipyrad [v.0.6.20]\r\n",
      "  Interactive assembly and analysis of RAD-seq data\r\n",
      " -------------------------------------------------------------\r\n",
      "\r\n",
      "  A new version of ipyrad is available (v.0.7.11). To upgrade run:\r\n",
      "\r\n",
      "    conda install -c ipyrad ipyrad\r\n",
      "\r\n",
      "\r\n",
      "  New file 'params-CG_L2_refgen_001.txt' created in /mnt/hgfs/Moved_bioinformatics_files/CRAGIG_RUNS_12_py\r\n",
      "\r\n"
     ]
    }
   ],
   "source": [
    "!ipyrad -n CG_L2_refgen_001"
   ]
  },
  {
   "cell_type": "markdown",
   "metadata": {
    "deletable": true,
    "editable": true
   },
   "source": [
    "Updated the params file with what I've learned re: optimizing parameters for this data. Here are the params files, which are pretty much identical, except for location of fastq & barcodes file."
   ]
  },
  {
   "cell_type": "code",
   "execution_count": 11,
   "metadata": {
    "collapsed": false,
    "deletable": true,
    "editable": true
   },
   "outputs": [
    {
     "name": "stdout",
     "output_type": "stream",
     "text": [
      "------- ipyrad params file (v.0.6.20)-------------------------------------------\r\n",
      "CG_L1_refgen_001               ## [0] [assembly_name]: Assembly name. Used to name output directories for assembly steps\r\n",
      "./                             ## [1] [project_dir]: Project dir (made in curdir if not present)\r\n",
      "/mnt/hgfs/Data/CRAGIG/CRAGIG_RUN1/CRAGIG_RUN1_raw_data/161228_I137_FCHCYV5BBXX_L5_CHKPE85216120009_1.fq.gz ## [2] [raw_fastq_path]: Location of raw non-demultiplexed fastq files\r\n",
      "./barcodes_cragigrun1_sansAs.txt   ## [3] [barcodes_path]: Location of barcodes file\r\n",
      "                               ## [4] [sorted_fastq_path]: Location of demultiplexed/sorted fastq files\r\n",
      "reference                      ## [5] [assembly_method]: Assembly method (denovo, reference, denovo+reference, denovo-reference)\r\n",
      "./cragig_c80_refgen_20170816.fa  ## [6] [reference_sequence]: Location of reference sequence file\r\n",
      "rad                            ## [7] [datatype]: Datatype (see docs): rad, gbs, ddrad, etc.\r\n",
      "TGCAGG,                         ## [8] [restriction_overhang]: Restriction overhang (cut1,) or (cut1, cut2)\r\n",
      "5                              ## [9] [max_low_qual_bases]: Max low quality base calls (Q<20) in a read\r\n",
      "33                             ## [10] [phred_Qscore_offset]: phred Q score offset (33 is default and very standard)\r\n",
      "10                              ## [11] [mindepth_statistical]: Min depth for statistical base calling\r\n",
      "10                              ## [12] [mindepth_majrule]: Min depth for majority-rule base calling\r\n",
      "2000                          ## [13] [maxdepth]: Max cluster depth within samples\r\n",
      "0.8                          ## [14] [clust_threshold]: Clustering threshold for de novo assembly\r\n",
      "0                              ## [15] [max_barcode_mismatch]: Max number of allowable mismatches in barcodes\r\n",
      "2                              ## [16] [filter_adapters]: Filter for adapters/primers (1 or 2=stricter)\r\n",
      "35                             ## [17] [filter_min_trim_len]: Min length of reads after adapter trim\r\n",
      "2                              ## [18] [max_alleles_consens]: Max alleles per site in consensus sequences\r\n",
      "5, 5                           ## [19] [max_Ns_consens]: Max N's (uncalled bases) in consensus (R1, R2)\r\n",
      "100, 100                           ## [20] [max_Hs_consens]: Max Hs (heterozygotes) in consensus (R1, R2)\r\n",
      "10                              ## [21] [min_samples_locus]: Min # samples per locus for output\r\n",
      "20, 20                         ## [22] [max_SNPs_locus]: Max # SNPs per locus (R1, R2)\r\n",
      "8, 8                           ## [23] [max_Indels_locus]: Max # of indels per locus (R1, R2)\r\n",
      "1.0                            ## [24] [max_shared_Hs_locus]: Max # heterozygous sites per locus (R1, R2)\r\n",
      "0, 0, 0, 0                     ## [25] [trim_reads]: Trim raw read edges (R1>, <R1, R2>, <R2) (see docs)\r\n",
      "0, 0, 0, 0                     ## [26] [trim_loci]: Trim locus edges (see docs) (R1>, <R1, R2>, <R2)\r\n",
      "p, s, v                        ## [27] [output_formats]: Output formats (see docs)\r\n"
     ]
    }
   ],
   "source": [
    "!head params-CG_L1_refgen_001.txt -n 30"
   ]
  },
  {
   "cell_type": "code",
   "execution_count": 13,
   "metadata": {
    "collapsed": false,
    "deletable": true,
    "editable": true
   },
   "outputs": [
    {
     "name": "stdout",
     "output_type": "stream",
     "text": [
      "------- ipyrad params file (v.0.6.20)-------------------------------------------\r\n",
      "CG_L2_refgen_001               ## [0] [assembly_name]: Assembly name. Used to name output directories for assembly steps\r\n",
      "./                             ## [1] [project_dir]: Project dir (made in curdir if not present)\r\n",
      "/mnt/hgfs/Data/CRAGIG/CRAGIG_RUN2/CRAGIG_RUN2_rawdata/CRAGIG_RUN2_1.fq.gz ## [2] [raw_fastq_path]: Location of raw non-demultiplexed fastq files\r\n",
      "./barcodes_cragigrun2.txt                             ## [3] [barcodes_path]: Location of barcodes file\r\n",
      "                                ## [4] [sorted_fastq_path]: Location of demultiplexed/sorted fastq files\r\n",
      "reference                      ## [5] [assembly_method]: Assembly method (denovo, reference, denovo+reference, denovo-reference)\r\n",
      "./cragig_c80_refgen_20170816.fa ## [6] [reference_sequence]: Location of reference sequence file\r\n",
      "rad                            ## [7] [datatype]: Datatype (see docs): rad, gbs, ddrad, etc.\r\n",
      "TGCAGG,                         ## [8] [restriction_overhang]: Restriction overhang (cut1,) or (cut1, cut2)\r\n",
      "5                              ## [9] [max_low_qual_bases]: Max low quality base calls (Q<20) in a read\r\n",
      "33                             ## [10] [phred_Qscore_offset]: phred Q score offset (33 is default and very standard)\r\n",
      "10                              ## [11] [mindepth_statistical]: Min depth for statistical base calling\r\n",
      "10                              ## [12] [mindepth_majrule]: Min depth for majority-rule base calling\r\n",
      "2000                          ## [13] [maxdepth]: Max cluster depth within samples\r\n",
      "0.8                           ## [14] [clust_threshold]: Clustering threshold for de novo assembly\r\n",
      "0                              ## [15] [max_barcode_mismatch]: Max number of allowable mismatches in barcodes\r\n",
      "2                              ## [16] [filter_adapters]: Filter for adapters/primers (1 or 2=stricter)\r\n",
      "35                             ## [17] [filter_min_trim_len]: Min length of reads after adapter trim\r\n",
      "2                              ## [18] [max_alleles_consens]: Max alleles per site in consensus sequences\r\n",
      "5, 5                           ## [19] [max_Ns_consens]: Max N's (uncalled bases) in consensus (R1, R2)\r\n",
      "100, 100                           ## [20] [max_Hs_consens]: Max Hs (heterozygotes) in consensus (R1, R2)\r\n",
      "10                              ## [21] [min_samples_locus]: Min # samples per locus for output\r\n",
      "20, 20                         ## [22] [max_SNPs_locus]: Max # SNPs per locus (R1, R2)\r\n",
      "8, 8                           ## [23] [max_Indels_locus]: Max # of indels per locus (R1, R2)\r\n",
      "1.0                            ## [24] [max_shared_Hs_locus]: Max # heterozygous sites per locus (R1, R2)\r\n",
      "0, 0, 0, 0                     ## [25] [trim_reads]: Trim raw read edges (R1>, <R1, R2>, <R2) (see docs)\r\n",
      "0, 0, 0, 0                     ## [26] [trim_loci]: Trim locus edges (see docs) (R1>, <R1, R2>, <R2)\r\n",
      "p, s, v                        ## [27] [output_formats]: Output formats (see docs)\r\n"
     ]
    }
   ],
   "source": [
    "!head params-CG_L2_refgen_001.txt -n 30"
   ]
  },
  {
   "cell_type": "markdown",
   "metadata": {
    "deletable": true,
    "editable": true
   },
   "source": [
    "I made a bash script to demultiplex the two assembles separately, them merge them into one, then run through complete assembly. Bash script below, and running outside the notebook."
   ]
  },
  {
   "cell_type": "code",
   "execution_count": 10,
   "metadata": {
    "collapsed": false,
    "deletable": true,
    "editable": true
   },
   "outputs": [
    {
     "name": "stdout",
     "output_type": "stream",
     "text": [
      "#!/bin/bash\r\n",
      "ipyrad -p params-CG_L1_refgen_001.txt -s 1\r\n",
      "ipyrad -p params-CG_L2_refgen_001.txt -s 1\r\n",
      "ipyrad -m CG_L1_L2_refgen_001 params-CG_L1_refgen_001.txt params-CG_L2_refgen_001.txt\r\n",
      "ipyrad -p params-CG_L1_L2_refgen_001.txt -s 234567 -f\r\n"
     ]
    }
   ],
   "source": [
    "!head CG_L1_L2_refgen.sh -n 5"
   ]
  },
  {
   "cell_type": "markdown",
   "metadata": {
    "collapsed": true,
    "deletable": true,
    "editable": true
   },
   "source": [
    "All ran fine, but they were few loci out the end (a bummer!). I'm going to work with it because I need preliminary results for PCSGA. Going to use the working notebook for filtering for MAF of o.05 and for only biallelic loci. Notebook [here](https://github.com/nclowell/SeaCukes/blob/master/Notebooks/Filtering_and_Plots_Streamline.ipynb.Notebook). "
   ]
  },
  {
   "cell_type": "markdown",
   "metadata": {
    "deletable": true,
    "editable": true
   },
   "source": [
    "#### Naming of chromosomes and loci strange with reference genome assembly\n",
    "\n",
    "**20170829** \n",
    "\n",
    "Not sure why, but in this assembly, my first with a reference genome, all of my loci have the same name (10_0), which makes no sense to me. Going to check that it's not the reference genome.\n",
    "\n",
    "![img](https://github.com/nclowell/RAD_Scallops/blob/master/CRAGIG_combined_lanes/Notebooks/imgs_for_notebooks/weird_vcf1.png?raw=true)\n"
   ]
  },
  {
   "cell_type": "code",
   "execution_count": 2,
   "metadata": {
    "collapsed": false,
    "deletable": true,
    "editable": true
   },
   "outputs": [
    {
     "name": "stdout",
     "output_type": "stream",
     "text": [
      "/mnt/hgfs/Moved_bioinformatics_files/CRAGIG_RUNS_12_py\n"
     ]
    }
   ],
   "source": [
    "cd /mnt/hgfs/Moved_bioinformatics_files/CRAGIG_RUNS_12_py"
   ]
  },
  {
   "cell_type": "code",
   "execution_count": 10,
   "metadata": {
    "collapsed": false,
    "deletable": true,
    "editable": true
   },
   "outputs": [
    {
     "name": "stdout",
     "output_type": "stream",
     "text": [
      "cragig_c80_refgen_20170816.fa\r\n"
     ]
    }
   ],
   "source": [
    "!ls *.fa"
   ]
  },
  {
   "cell_type": "code",
   "execution_count": 13,
   "metadata": {
    "collapsed": false,
    "deletable": true,
    "editable": true
   },
   "outputs": [
    {
     "name": "stdout",
     "output_type": "stream",
     "text": [
      ">10\r\n",
      "AGACGAAGTTACTCACTTGCTGAACAGATATGCTTTCTATCCACCTGGAACTATTTAAGCCACACATTCTAGGGACAAAACATGTTCTCTTTCCGAAGATTTCTCTATCATTGCTAAGGAGTCGTTCGTATCTTAGCA\r\n",
      ">11\r\n",
      "TCTGATATTAAGAATAGAATACACATGCTGTTGCCCCACTGCATGTACAATAAAATGCGACTAATGTGGGACACCTCCTGCAGAATTGGGGATTTATTTTTGTAACTTCTACTCGAAGGACAAAAAGAAGCGATGAAA\r\n",
      ">14\r\n",
      "GACGAATGAATACTTCGAACAAGTATTAGAAATTGATTTACAATTGAATGTAAGCTAACCTTTACACATTTTTTATTTGTACAGAAAAGACTTTGACAAGTAGTAAACAAGAAGTTATTACAGTAAGGCAAGTACAAT\r\n",
      ">19\r\n",
      "AACCCTAACTTGTACAATCTCTTCATCACTTGTGAAGAAGATACCACGTAGGTACTGATCCACAGAGATTTCAGGTAGTTCCTGTTTAGTTCCACAAGTTGTCCTCAAGTTGTATTGAATCACTACCTGTAAGTCTAC\r\n",
      ">32\r\n",
      "AACGACACTGCACTGCGATTACAGTGCTGGGTAATAATATCATCGTCGGATACCCACGAATGATTTCACCCATCAAATCAACTGTGGGTCACGTTTATTACCGCGATGTTATGGAATGAAGTCCGGATAGAATCGCGC\r\n",
      ">33\r\n",
      "TATGTGGGGGATTGATTGTTTATTACAGCGTCGTCAGACCTTGTAATACAACGATGTTGCAAACGTAGATGGGTTTTAATCATTGATCAAACGAGGATTGCTTAGGTATAACTGACCTAATAAAGTTGGTATCCTACC\r\n",
      ">35\r\n",
      "TGTGATGATACAGATGATGATTTCCTCTGACTCAATGTTTACTGCAGCTGAAATAAAACAACTGTTGATGTTGTTACGACTTCCCTCGCCCCGGGGCATCGAGATTGAAGAACTGGGCCTGGGATAAAATCGGGGGGT\r\n",
      ">36\r\n",
      "TTGCATGTTGATATAAAAACCACGGCCTGTGCTGCCGAAGCAGAAAGAAAGAATAAACTATAACGAGACAATTAAACTGATCACGTGATAAAGGAGCAGTTTATAAAATTTATATATTACTGGTCAGGCAAAAATCAT\r\n",
      ">42\r\n",
      "GACTCCTTCTTAACAACTTTCTTCCTAATATATCCCTTGACAATGCCTCATTTCTGGCGTTTAGTTGAGCGTTCGTTCTTGCGAGGAAGGGTTTTTGTTCTGTCCCCTGGCCAAGGCAAAAAATATTCTGTAAAAATG\r\n",
      ">54\r\n",
      "TGTTTTATTAGAAATGACAAAATTTTCAATAACTGGGGCCACCACTTTTCTGGACACAAAAGGCCTAGAGGGCCTGTTTTGCTCAACTAATATTATGACTCTATTTTTCTCTTTAAGCTATGTTTATGGGATGGGATC\r\n"
     ]
    }
   ],
   "source": [
    "!head cragig_c80_refgen_20170816.fa -n 20"
   ]
  },
  {
   "cell_type": "markdown",
   "metadata": {
    "deletable": true,
    "editable": true
   },
   "source": [
    "Appears normal. Must be during the production of the VCF file in ipyrad.\n",
    "\n",
    "Just heard from a peer that it might be due to a bug in ipyrad that got fixed. Just updated to the newest version (on 20170829)."
   ]
  },
  {
   "cell_type": "code",
   "execution_count": 10,
   "metadata": {
    "collapsed": false,
    "deletable": true,
    "editable": true
   },
   "outputs": [
    {
     "name": "stdout",
     "output_type": "stream",
     "text": [
      "ipyrad 0.7.12\r\n"
     ]
    }
   ],
   "source": [
    "!ipyrad -v"
   ]
  },
  {
   "cell_type": "markdown",
   "metadata": {
    "collapsed": true,
    "deletable": true,
    "editable": true
   },
   "source": [
    "Adding arbitrary names worked, but also, Jay thinks it's an ipyrad version problem so I'm rerunning the assembly with the new version over night.\n",
    "\n",
    "**20170830**\n",
    "\n",
    "Ha! Updating the newest version solved the problem!\n",
    "\n",
    "Ha, new problem.\n",
    "\n",
    "![img](https://media1.giphy.com/media/zvBuF2oYRErVS/200.webp#3-grid1)\n",
    "\n",
    "The R script isn't running correctly, so I tried running it manually in R Studio and I get an error like this:\n",
    "\n",
    "```\n",
    "length of 'dimnames' [2] not equal to array extent\n",
    "```\n",
    "\n",
    "Which I think means that the number of locus names is different to the number of columns in the structure file. Going to check that manually now..."
   ]
  },
  {
   "cell_type": "code",
   "execution_count": 3,
   "metadata": {
    "collapsed": false,
    "deletable": true,
    "editable": true
   },
   "outputs": [
    {
     "name": "stdout",
     "output_type": "stream",
     "text": [
      "/mnt/hgfs/Moved_bioinformatics_files/CRAGIG_RUNS_12_py/CG_L1_L2_refgen_001_outfiles/new_outfiles\n"
     ]
    }
   ],
   "source": [
    "cd /mnt/hgfs/Moved_bioinformatics_files/CRAGIG_RUNS_12_py/CG_L1_L2_refgen_001_outfiles/new_outfiles"
   ]
  },
  {
   "cell_type": "code",
   "execution_count": 4,
   "metadata": {
    "collapsed": true
   },
   "outputs": [],
   "source": [
    "structure = open(\"CG_L1_L2_refgen_001_arbnames_biall_NOmaf_oneSNP_inames_fpop.str\",\"r\")\n",
    "str_lines = structure.readlines()\n",
    "\n",
    "str_header = str_lines[0]\n",
    "str_genlines = str_lines[1:]\n",
    "\n",
    "structure.close()"
   ]
  },
  {
   "cell_type": "code",
   "execution_count": 6,
   "metadata": {
    "collapsed": false
   },
   "outputs": [
    {
     "name": "stdout",
     "output_type": "stream",
     "text": [
      "Header has 11388 loci in the header\n"
     ]
    }
   ],
   "source": [
    "print \"Header has \" + str(len(str_header.strip().split())) + \" loci in the header\""
   ]
  },
  {
   "cell_type": "code",
   "execution_count": 8,
   "metadata": {
    "collapsed": false
   },
   "outputs": [
    {
     "name": "stdout",
     "output_type": "stream",
     "text": [
      "The file has 11386 gneotypes\n"
     ]
    }
   ],
   "source": [
    "print \"The file has \" + str((len(str_header.strip().split()))-2) + \" gneotypes\""
   ]
  },
  {
   "cell_type": "markdown",
   "metadata": {},
   "source": [
    "Ahh. Just realized it was reading an old input file. I deleted all the old ones, reran, and now all makes sense. Now I need to add population ID numbers to the structure file. Writing a script to do that now. Testing the script below."
   ]
  },
  {
   "cell_type": "code",
   "execution_count": 13,
   "metadata": {
    "collapsed": false
   },
   "outputs": [
    {
     "name": "stdout",
     "output_type": "stream",
     "text": [
      "/mnt/hgfs/SHARED_FOLDER/Git_repo/CRAGIG_combined_lanes/Scripts\n"
     ]
    }
   ],
   "source": [
    "cd /mnt/hgfs/SHARED_FOLDER/Git_repo/CRAGIG_combined_lanes/Scripts"
   ]
  },
  {
   "cell_type": "code",
   "execution_count": 14,
   "metadata": {
    "collapsed": false
   },
   "outputs": [
    {
     "name": "stdout",
     "output_type": "stream",
     "text": [
      "usage: add_popIDs_to_str_files.py [-h] -i INFILE -p POPFILE -o OUTFILE\r\n",
      "\r\n",
      "Add population numbers to structure files from ipyrad\r\n",
      "\r\n",
      "optional arguments:\r\n",
      "  -h, --help            show this help message and exit\r\n",
      "  -i INFILE, --infile INFILE\r\n",
      "                        input structure file that needs population numbers\r\n",
      "                        intsead of arbitrary 1s in second column\r\n",
      "  -p POPFILE, --popfile POPFILE\r\n",
      "                        population assignment file from ipyrad\r\n",
      "  -o OUTFILE, --outfile OUTFILE\r\n",
      "                        new structure file with population numbers in second\r\n",
      "                        column\r\n"
     ]
    }
   ],
   "source": [
    "!python add_popIDs_to_str_files.py -h"
   ]
  },
  {
   "cell_type": "code",
   "execution_count": 16,
   "metadata": {
    "collapsed": false
   },
   "outputs": [],
   "source": [
    "!python add_popIDs_to_str_files.py -i ../../../../Moved_bioinformatics_files/CRAGIG_RUNS_12_py/CG_L1_L2_refgen_001_outfiles/new_outfiles/CG_L1_L2_refgen_001_biall_NOmaf_oneSNP_inames.str \\\n",
    "-o ../../../../Moved_bioinformatics_files/CRAGIG_RUNS_12_py/CG_L1_L2_refgen_001_outfiles/new_outfiles/CG_L1_L2_refgen_001_biall_NOmaf_oneSNP_inames_pops.str \\\n",
    "-p ../../../../Moved_bioinformatics_files/CRAGIG_RUNS_12_py/popmap_cragig012.txt"
   ]
  },
  {
   "cell_type": "markdown",
   "metadata": {},
   "source": [
    "It worked!\n",
    "\n",
    "Now to try and run the DAPC code."
   ]
  },
  {
   "cell_type": "code",
   "execution_count": null,
   "metadata": {
    "collapsed": true
   },
   "outputs": [],
   "source": []
  }
 ],
 "metadata": {
  "kernelspec": {
   "display_name": "Python 2",
   "language": "python",
   "name": "python2"
  },
  "language_info": {
   "codemirror_mode": {
    "name": "ipython",
    "version": 2
   },
   "file_extension": ".py",
   "mimetype": "text/x-python",
   "name": "python",
   "nbconvert_exporter": "python",
   "pygments_lexer": "ipython2",
   "version": "2.7.13"
  }
 },
 "nbformat": 4,
 "nbformat_minor": 2
}
