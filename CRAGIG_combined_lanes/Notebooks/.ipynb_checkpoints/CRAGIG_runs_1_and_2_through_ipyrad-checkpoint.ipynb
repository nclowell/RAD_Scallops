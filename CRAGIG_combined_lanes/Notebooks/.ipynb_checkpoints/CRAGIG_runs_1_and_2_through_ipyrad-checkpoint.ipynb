{
 "cells": [
  {
   "cell_type": "markdown",
   "metadata": {
    "deletable": true,
    "editable": true
   },
   "source": [
    "## CRAGIG Runs 1 and 2 through ipyrad\n",
    "\n",
    "**20170605**\n",
    "\n",
    "I'm going to run all my current scallop RAD data through the ipyrad pipeline because as of yet I have only run it on ten samples at a time to get the hang of it and to see preliminary differences between Stacks and ipyrad.\n",
    "\n",
    "First, I need to demultiplex my two lanes of data. For each, I'll make a unique params file for each library and then I'll merge them together.\n",
    "\n",
    "The two params files will differ only in the location of the raw data fastq file and the barcodes files.\n",
    "\n",
    "cragig007 will be for CRAGIG_run1 and cragig008 will be for CRAGIG_run2\n",
    "\n",
    "This is what's in cragig007:"
   ]
  },
  {
   "cell_type": "code",
   "execution_count": 2,
   "metadata": {
    "collapsed": false,
    "deletable": true,
    "editable": true
   },
   "outputs": [
    {
     "name": "stdout",
     "output_type": "stream",
     "text": [
      "/mnt/hgfs/SHARED_FOLDER/Learn_iPyrad/CRAGIG_RUNS_12_py\n"
     ]
    }
   ],
   "source": [
    "cd /mnt/hgfs/SHARED_FOLDER/Learn_iPyrad/CRAGIG_RUNS_12_py"
   ]
  },
  {
   "cell_type": "code",
   "execution_count": 8,
   "metadata": {
    "collapsed": false,
    "deletable": true,
    "editable": true
   },
   "outputs": [
    {
     "name": "stdout",
     "output_type": "stream",
     "text": [
      "\u001b[0m\u001b[01;32mbarcodes_cragigrun1.txt\u001b[0m*  \u001b[01;32mparams-cragig007.txt\u001b[0m*\r\n",
      "\u001b[01;32mbarcodes_cragigrun2.txt\u001b[0m*  \u001b[01;32mpopmap_cragig007.txt\u001b[0m*\r\n"
     ]
    }
   ],
   "source": [
    "ls"
   ]
  },
  {
   "cell_type": "code",
   "execution_count": 11,
   "metadata": {
    "collapsed": false,
    "deletable": true,
    "editable": true,
    "scrolled": true
   },
   "outputs": [
    {
     "name": "stdout",
     "output_type": "stream",
     "text": [
      "------- ipyrad params file (v.0.6.20)-------------------------------------------\r\n",
      "cragig007                      ## [0] [assembly_name]: Assembly name. Used to name output directories for assembly steps\r\n",
      "./                             ## [1] [project_dir]: Project dir (made in curdir if not present)\r\n",
      "../../../Data/CRAGIG_RUN1_rawdata/161228_I137_FCHCYV5BBXX_L5_CHKPE85216120009_2.fq.gz                               ## [2] [raw_fastq_path]: Location of raw non-demultiplexed fastq files\r\n",
      "./barcodes_cragigrun1.txt     ## [3] [barcodes_path]: Location of barcodes file\r\n",
      "                              ## [4] [sorted_fastq_path]: Location of demultiplexed/sorted fastq files\r\n",
      "denovo                         ## [5] [assembly_method]: Assembly method (denovo, reference, denovo+reference, denovo-reference)\r\n",
      "                               ## [6] [reference_sequence]: Location of reference sequence file\r\n",
      "rad                            ## [7] [datatype]: Datatype (see docs): rad, gbs, ddrad, etc.\r\n",
      "TGCAGG,                         ## [8] [restriction_overhang]: Restriction overhang (cut1,) sbf1\r\n",
      "5                              ## [9] [max_low_qual_bases]: Max low quality base calls (Q<20) in a read\r\n",
      "33                             ## [10] [phred_Qscore_offset]: phred Q score offset (33 is default and very standard)\r\n",
      "10                              ## [11] [mindepth_statistical]: Min depth for statistical base calling\r\n",
      "10                              ## [12] [mindepth_majrule]: Min depth for majority-rule base calling\r\n",
      "5000                          ## [13] [maxdepth]: Max cluster depth within samples\r\n",
      "0.85                           ## [14] [clust_threshold]: Clustering threshold for de novo assembly\r\n",
      "0                              ## [15] [max_barcode_mismatch]: Max number of allowable mismatches in barcodes\r\n",
      "2                              ## [16] [filter_adapters]: Filter for adapters/primers (1 or 2=stricter)\r\n",
      "40                             ## [17] [filter_min_trim_len]: Min length of reads after adapter trim\r\n",
      "2                              ## [18] [max_alleles_consens]: Max alleles per site in consensus sequences\r\n",
      "5, 5                           ## [19] [max_Ns_consens]: Max N's (uncalled bases) in consensus (R1, R2)\r\n",
      "8, 8                           ## [20] [max_Hs_consens]: Max Hs (heterozygotes) in consensus (R1, R2)\r\n",
      "70                              ## [21] [min_samples_locus]: Min # samples per locus for output (total samples in run = 143)\r\n",
      "20, 20                         ## [22] [max_SNPs_locus]: Max # SNPs per locus (R1, R2)\r\n",
      "8, 8                           ## [23] [max_Indels_locus]: Max # of indels per locus (R1, R2)\r\n",
      "0.9                            ## [24] [max_shared_Hs_locus]: Max # heterozygous sites per locus (R1, R2)\r\n",
      "0, 0, 0, 0                     ## [25] [trim_reads]: Trim raw read edges (R1>, <R1, R2>, <R2) (see docs)\r\n",
      "0, 0, 0, 0                     ## [26] [trim_loci]: Trim locus edges (see docs) (R1>, <R1, R2>, <R2)\r\n",
      "*                              ## [27] [output_formats]: Output formats (see docs)\r\n",
      "/mnt/hgfs/SHARED_FOLDER/Learn_iPyrad/CRAGIG_RUN1_py/popmap_cragig007.txt                         ## [28] [pop_assign_file]: Path to population assignment file\r\n"
     ]
    }
   ],
   "source": [
    "!head -n 30 params-cragig007.txt"
   ]
  },
  {
   "cell_type": "code",
   "execution_count": 17,
   "metadata": {
    "collapsed": false,
    "deletable": true,
    "editable": true,
    "scrolled": true
   },
   "outputs": [
    {
     "name": "stdout",
     "output_type": "stream",
     "text": [
      "\n",
      " -------------------------------------------------------------\n",
      "  ipyrad [v.0.6.20]\n",
      "  Interactive assembly and analysis of RAD-seq data\n",
      " -------------------------------------------------------------\n",
      "\n",
      "  A new version of ipyrad is available (v.0.6.27). To upgrade run:\n",
      "\n",
      "    conda install -c ipyrad ipyrad\n",
      "\n",
      "\n",
      " -------------------------------------------------------------\n",
      "  ipyrad [v.0.6.20]\n",
      "  Interactive assembly and analysis of RAD-seq data\n",
      " -------------------------------------------------------------\n",
      "  New Assembly: cragig007\n",
      "  host compute node: [6 cores] on ubuntu\n",
      "\n",
      "  Step 1: Demultiplexing fastq data to Samples\n",
      "  [####################] 100%  sorting reads         | 1:26:47  es  | 0:25:59  \n",
      "  [####################] 100%  writing/compressing   | 0:37:57  \n",
      "\n"
     ]
    }
   ],
   "source": [
    "!ipyrad -p params-cragig007.txt -s 1"
   ]
  },
  {
   "cell_type": "code",
   "execution_count": null,
   "metadata": {
    "collapsed": false,
    "deletable": true,
    "editable": true
   },
   "outputs": [
    {
     "name": "stdout",
     "output_type": "stream",
     "text": [
      "\n",
      " -------------------------------------------------------------\n",
      "  ipyrad [v.0.6.20]\n",
      "  Interactive assembly and analysis of RAD-seq data\n",
      " -------------------------------------------------------------\n",
      "\n",
      "  A new version of ipyrad is available (v.0.6.27). To upgrade run:\n",
      "\n",
      "    conda install -c ipyrad ipyrad\n",
      "\n",
      "\n",
      " -------------------------------------------------------------\n",
      "  ipyrad [v.0.6.20]\n",
      "  Interactive assembly and analysis of RAD-seq data\n",
      " -------------------------------------------------------------\n",
      "  New Assembly: cragig008\n",
      "  host compute node: [6 cores] on ubuntu\n",
      "\n",
      "  Step 1: Demultiplexing fastq data to Samples\n",
      "  [##################  ]  92%  sorting reads         | 0:39:39  "
     ]
    }
   ],
   "source": [
    "!ipyrad -p params-cragig008.txt -s 1"
   ]
  },
  {
   "cell_type": "markdown",
   "metadata": {
    "deletable": true,
    "editable": true
   },
   "source": [
    "It kept crashing the jupyter notebook so I'm starting to run these outside the terminal. For some reason, even though I merged assemblies, it only ran on the first 71 samples. Here's what the params file looked like:"
   ]
  },
  {
   "cell_type": "code",
   "execution_count": 2,
   "metadata": {
    "collapsed": false,
    "deletable": true,
    "editable": true
   },
   "outputs": [
    {
     "name": "stdout",
     "output_type": "stream",
     "text": [
      "------- ipyrad params file (v.0.6.20)-------------------------------------------\r\n",
      "cragig009                      ## [0] [assembly_name]: Assembly name. Used to name output directories for assembly steps\r\n",
      "/mnt/hgfs/SHARED_FOLDER/Learn_iPyrad/CRAGIG_RUNS_12_py ## [1] [project_dir]: Project dir (made in curdir if not present)\r\n",
      "Merged: cragig007, cragig008   ## [2] [raw_fastq_path]: Location of raw non-demultiplexed fastq files\r\n",
      "Merged: cragig007, cragig008   ## [3] [barcodes_path]: Location of barcodes file\r\n",
      "Merged: cragig007, cragig008   ## [4] [sorted_fastq_path]: Location of demultiplexed/sorted fastq files\r\n",
      "denovo                         ## [5] [assembly_method]: Assembly method (denovo, reference, denovo+reference, denovo-reference)\r\n",
      "                               ## [6] [reference_sequence]: Location of reference sequence file\r\n",
      "rad                            ## [7] [datatype]: Datatype (see docs): rad, gbs, ddrad, etc.\r\n",
      "TGCAGG,                        ## [8] [restriction_overhang]: Restriction overhang (cut1,) or (cut1, cut2)\r\n",
      "5                              ## [9] [max_low_qual_bases]: Max low quality base calls (Q<20) in a read\r\n",
      "33                             ## [10] [phred_Qscore_offset]: phred Q score offset (33 is default and very standard)\r\n",
      "10                             ## [11] [mindepth_statistical]: Min depth for statistical base calling\r\n",
      "10                             ## [12] [mindepth_majrule]: Min depth for majority-rule base calling\r\n",
      "5000                           ## [13] [maxdepth]: Max cluster depth within samples\r\n",
      "0.85                           ## [14] [clust_threshold]: Clustering threshold for de novo assembly\r\n",
      "0                              ## [15] [max_barcode_mismatch]: Max number of allowable mismatches in barcodes\r\n",
      "2                              ## [16] [filter_adapters]: Filter for adapters/primers (1 or 2=stricter)\r\n",
      "40                             ## [17] [filter_min_trim_len]: Min length of reads after adapter trim\r\n",
      "2                              ## [18] [max_alleles_consens]: Max alleles per site in consensus sequences\r\n",
      "5, 5                           ## [19] [max_Ns_consens]: Max N's (uncalled bases) in consensus (R1, R2)\r\n",
      "8, 8                           ## [20] [max_Hs_consens]: Max Hs (heterozygotes) in consensus (R1, R2)\r\n",
      "70                             ## [21] [min_samples_locus]: Min # samples per locus for output\r\n",
      "20, 20                         ## [22] [max_SNPs_locus]: Max # SNPs per locus (R1, R2)\r\n",
      "8, 8                           ## [23] [max_Indels_locus]: Max # of indels per locus (R1, R2)\r\n",
      "0.9                            ## [24] [max_shared_Hs_locus]: Max # heterozygous sites per locus (R1, R2)\r\n",
      "0, 0, 0, 0                     ## [25] [trim_reads]: Trim raw read edges (R1>, <R1, R2>, <R2) (see docs)\r\n",
      "0, 0, 0, 0                     ## [26] [trim_loci]: Trim locus edges (see docs) (R1>, <R1, R2>, <R2)\r\n",
      "G, a, g, k, m, l, n, p, s, u, t, v ## [27] [output_formats]: Output formats (see docs)\r\n",
      "/mnt/hgfs/SHARED_FOLDER/Learn_iPyrad/CRAGIG_RUNS_12_py/popmap_cragig007.txt ## [28] [pop_assign_file]: Path to population assignment file"
     ]
    }
   ],
   "source": [
    "!head -n 30 params-cragig009.txt"
   ]
  },
  {
   "cell_type": "markdown",
   "metadata": {
    "deletable": true,
    "editable": true
   },
   "source": [
    "## Trouble!\n",
    "\n",
    "**20170608**\n",
    "\n",
    "Aw bummer. It looks like the fastsq files for both cragig007 and cragig0008 are the same, so I might have goofed in what files I fed it. Double-checking the params files now... Found it! I didn't use the correct barcodes file (I used the one for CRAGIG_run1 for both cragig007 and cragig008). Going to double-check the params files and rerun.\n",
    "\n",
    "Watching it rerun and ipyrad knows to delete all old files when I force the step to rewrite over the previous version. That's pretty cool!\n",
    "\n",
    "I'm not totally sure that I know how to use the merge operation well yet, as it spit out an error during Step 2:\n",
    "```\n",
    "ERROR \tIPyradError(error in: ['cat', '/mnt/hgfs/SHARED_FOLDER/Learn_iPyrad/CRAGIG_RUNS_12_py/cragig007_fastqs/FG034_R1_.fastq.gz', '/mnt/hgfs/SHARED_FOLDER/Learn_iPyrad/CRAGIG_RUNS_12_py/cragig008_fastqs/FG034_R1_.fastq.gz'], None)\n",
    "```\n",
    "\n",
    "I'm going to rerun evertyhing from the start, and double-check I have the merge function well understood.\n",
    "\n",
    "**20170609**\n",
    "\n",
    "I read the documentation more carefully and indeed I understand everything right. My mistake was that I accidentally used the same barcodes file, which meant ipyrad thought that I wanted to concatenate data from different fastq files into the same sample. Then, when it couldn't find things to concatenate, it got confused. The command to merge multiple libraries from multiple lanes is the same as one library in multiple lanes, it just results in a different outcome. Running now!\n",
    "\n",
    "**20170612**\n",
    "\n",
    "The pipeline ran totally fine except during Step 7 I got this error message:\n",
    "\n",
    "```\n",
    "ERROR:ipyrad.core.assembly:IPyradWarningExit: \n",
    "    Exception: empty varcounts array. This could be because no samples \n",
    "    passed filtering, or it could be because you have overzealous filtering.\n",
    "    Check the values for `trim_loci` and make sure you are not trimming the\n",
    "    edge too far\n",
    "\n",
    "```\n",
    "\n",
    "I checked the ``trim_loci`` parameter, and I have it set to 0,0,0,0 which means it doesn't trim edges at all, so I don't think that the values for ``trim_loci`` were the problem.\n",
    "\n",
    "I made a list of all the parameters that affect Step 7 to see if I could check each one/trouble-shoot.\n",
    "\n",
    "- 18 - max alleles consens\n",
    "- 21 - min samples locus\n",
    "- 22 - max SNPs locus\n",
    "- 23 - max indels locus\n",
    "- 24 - max shared Hs locus\n",
    "- 26 - trim loci\n",
    "- 27 - output formats\n",
    "- 28 - pop assign file\n",
    "\n",
    "I went through the stats output files for each step to see if it's obvious where the samples are getting filtered out. Here, I'll compare to the params file from my test run of ipyrad on 10 scallops and that assembly's output stats files.\n",
    "\n",
    "## Trouble-shooting\n",
    "\n",
    "### Comparing params files of cragig009 and test run that worked fine\n",
    "\n",
    "Parameters from the list above that differed:\n",
    "* **21 - min samples locus**: was set to 4 (4 samples per locus required to report to output) in cragig004 and to 70 for cragig009. But, cragig004 only had 10 samples so 4/10 = 40% and cragig009 had 143 samples, so 70/143 = 49%, which isn't that different. I have trouble believing this would be the culprit for the difference in outcomes, but it'd be worth a shot to reduce it. \n",
    "\n",
    "Aaand that's the only paramter that's different from the list. Weird! I just chatted with some lab mates who don't think that that should have created the result that I'm seeing (no samples making it through filtering).\n",
    "\n",
    "Let's try the infamous \"Have you tried powering it off, and back on again?\" and forcing to rerun Step 7.\n",
    "\n",
    "Bummer - got the same error message.\n",
    "\n",
    "Now I'm going to try lowering the value for parameter 21 from 70 to 25 and then seeing if that changes anything. I'll do this through a branching assembly and naming the branch cragig010. Now running Step 7 of cragig010...\n",
    "\n",
    "Oh no! I got the same exact error message. This makes me think that it's not parameter 21, although just to be doubly sure, I'm going to make cragig011 and set the value to 4 as it was in cragig004. And, I got the same error message again. It's not that parameter. I'm now going to compare the stats output files from the test run (cragig004) and cragig009 to see which step before Step 7 could have caused this issue."
   ]
  },
  {
   "cell_type": "markdown",
   "metadata": {
    "collapsed": true,
    "deletable": true,
    "editable": true
   },
   "source": [
    "### Comparing output stats files from different steps in cragig009 and test run that worked fine\n",
    "\n",
    "I have no good way of looking at any singular stats output file and discerning whether the step is overzealous in it's filtering, or causing some issue. But, cragig004-006 all produced a normal seeming number of loci, and all samples made it through filtering steps with pretty much the same parameters. So I'm going to compare those to see if I can pinpoint what is different between cragig004-006 and cragig009 that may have caused this issue.\n",
    "\n",
    "#### s3_cluster_stats.txt\n",
    "\n",
    "Visually, these files seem to have really similar values. \n",
    "\n",
    "![img](https://github.com/nclowell/RAD_Scallops/blob/master/CRAGIG_combined_lanes/Notebooks/imgs_for_notebooks/comp_s3_cragig004_009.png?raw=true)\n",
    "\n",
    "Below, I practiced using Kolmogorov–Smirnov test from ``scipy`` which said the distributions are different, and I'm not sure why that is when visually they look so similar. I wonder if it just as to do with sample size, as cragig009 has 14x as many samples as cragig004.\n",
    "\n"
   ]
  },
  {
   "cell_type": "code",
   "execution_count": 6,
   "metadata": {
    "collapsed": true,
    "deletable": true,
    "editable": true
   },
   "outputs": [],
   "source": [
    "from scipy.stats import ks_2samp"
   ]
  },
  {
   "cell_type": "code",
   "execution_count": 9,
   "metadata": {
    "collapsed": false,
    "deletable": true,
    "editable": true
   },
   "outputs": [
    {
     "name": "stdout",
     "output_type": "stream",
     "text": [
      "/mnt/hgfs/SHARED_FOLDER/Learn_iPyrad/CRAGIG_RUNS_12_py\n"
     ]
    }
   ],
   "source": [
    "cd /mnt/hgfs/SHARED_FOLDER/Learn_iPyrad/CRAGIG_RUNS_12_py"
   ]
  },
  {
   "cell_type": "code",
   "execution_count": 11,
   "metadata": {
    "collapsed": false,
    "deletable": true,
    "editable": true
   },
   "outputs": [],
   "source": [
    "s3_009 = open(\"cragig009_clust_0.85/s3_cluster_stats.txt\",\"r\")\n",
    "s3_009_lines = s3_009.readlines()\n",
    "s3_009.close()\n",
    "\n",
    "clusters_total_009 = []\n",
    "clusters_hidepth_min_009 = []\n",
    "avg_depth_total_009 = []\n",
    "avg_depth_mj_009 = []\n",
    "sd_depth_total_009 = []\n",
    "sd_depth_mj_009 = []\n",
    "\n",
    "for line in s3_009_lines[1:]: # iterate over lines, exclude header\n",
    "    linelist = line.strip().split()\n",
    "    clusters_total_009.append(float(linelist[1]))\n",
    "    clusters_hidepth_min_009.append(float(linelist[3])) \n",
    "    avg_depth_total_009.append(float(linelist[4]))\n",
    "    avg_depth_mj_009.append(float(linelist[5]))\n",
    "    sd_depth_total_009.append(float(linelist[7]))\n",
    "    sd_depth_mj_009.append(float(linelist[8]))"
   ]
  },
  {
   "cell_type": "code",
   "execution_count": 15,
   "metadata": {
    "collapsed": false,
    "deletable": true,
    "editable": true
   },
   "outputs": [
    {
     "name": "stdout",
     "output_type": "stream",
     "text": [
      "/mnt/hgfs/SHARED_FOLDER/Learn_iPyrad/CRAGIG_RUN1_py\n"
     ]
    }
   ],
   "source": [
    "cd /mnt/hgfs/SHARED_FOLDER/Learn_iPyrad/CRAGIG_RUN1_py"
   ]
  },
  {
   "cell_type": "code",
   "execution_count": 17,
   "metadata": {
    "collapsed": false,
    "deletable": true,
    "editable": true
   },
   "outputs": [],
   "source": [
    "s3_004 = open(\"cragig004_clust_0.85/s3_cluster_stats.txt\",\"r\")\n",
    "s3_004_lines = s3_004.readlines()\n",
    "s3_004.close()\n",
    "\n",
    "clusters_total_004 = []\n",
    "clusters_hidepth_min_004 = []\n",
    "avg_depth_total_004 = []\n",
    "avg_depth_mj_004 = []\n",
    "sd_depth_total_004 = []\n",
    "sd_depth_mj_004 = []\n",
    "\n",
    "for line in s3_004_lines[1:]: # iterate over lines, exclude header\n",
    "    linelist = line.strip().split()\n",
    "    clusters_total_004.append(float(linelist[1]))\n",
    "    clusters_hidepth_min_004.append(float(linelist[3])) \n",
    "    avg_depth_total_004.append(float(linelist[4]))\n",
    "    avg_depth_mj_004.append(float(linelist[5]))\n",
    "    sd_depth_total_004.append(float(linelist[7]))\n",
    "    sd_depth_mj_004.append(float(linelist[8]))"
   ]
  },
  {
   "cell_type": "code",
   "execution_count": 19,
   "metadata": {
    "collapsed": false,
    "deletable": true,
    "editable": true
   },
   "outputs": [
    {
     "data": {
      "text/plain": [
       "Ks_2sampResult(statistic=0.51118881118881121, pvalue=0.009070706460590371)"
      ]
     },
     "execution_count": 19,
     "metadata": {},
     "output_type": "execute_result"
    }
   ],
   "source": [
    "ks_2samp(clusters_total_004,clusters_total_009)"
   ]
  },
  {
   "cell_type": "code",
   "execution_count": 20,
   "metadata": {
    "collapsed": false,
    "deletable": true,
    "editable": true
   },
   "outputs": [
    {
     "data": {
      "text/plain": [
       "Ks_2sampResult(statistic=0.41118881118881118, pvalue=0.060924309190217511)"
      ]
     },
     "execution_count": 20,
     "metadata": {},
     "output_type": "execute_result"
    }
   ],
   "source": [
    "ks_2samp(clusters_hidepth_min_004,clusters_hidepth_min_009)"
   ]
  },
  {
   "cell_type": "code",
   "execution_count": 21,
   "metadata": {
    "collapsed": false,
    "deletable": true,
    "editable": true
   },
   "outputs": [
    {
     "data": {
      "text/plain": [
       "Ks_2sampResult(statistic=0.49020979020979022, pvalue=0.01399709655173435)"
      ]
     },
     "execution_count": 21,
     "metadata": {},
     "output_type": "execute_result"
    }
   ],
   "source": [
    "ks_2samp(avg_depth_total_004,avg_depth_total_009)"
   ]
  },
  {
   "cell_type": "code",
   "execution_count": 22,
   "metadata": {
    "collapsed": false,
    "deletable": true,
    "editable": true
   },
   "outputs": [
    {
     "data": {
      "text/plain": [
       "Ks_2sampResult(statistic=0.4972027972027972, pvalue=0.012137132869640509)"
      ]
     },
     "execution_count": 22,
     "metadata": {},
     "output_type": "execute_result"
    }
   ],
   "source": [
    "ks_2samp(avg_depth_mj_004,avg_depth_mj_009)"
   ]
  },
  {
   "cell_type": "code",
   "execution_count": 23,
   "metadata": {
    "collapsed": false,
    "deletable": true,
    "editable": true
   },
   "outputs": [
    {
     "data": {
      "text/plain": [
       "Ks_2sampResult(statistic=0.68321678321678325, pvalue=0.00013032710397125613)"
      ]
     },
     "execution_count": 23,
     "metadata": {},
     "output_type": "execute_result"
    }
   ],
   "source": [
    "ks_2samp(sd_depth_total_004,sd_depth_total_009)"
   ]
  },
  {
   "cell_type": "code",
   "execution_count": 24,
   "metadata": {
    "collapsed": false,
    "deletable": true,
    "editable": true
   },
   "outputs": [
    {
     "data": {
      "text/plain": [
       "Ks_2sampResult(statistic=0.65524475524475523, pvalue=0.00028234576079832346)"
      ]
     },
     "execution_count": 24,
     "metadata": {},
     "output_type": "execute_result"
    }
   ],
   "source": [
    "ks_2samp(sd_depth_mj_004,sd_depth_mj_009)"
   ]
  },
  {
   "cell_type": "markdown",
   "metadata": {
    "deletable": true,
    "editable": true
   },
   "source": [
    "#### s4_joint_estimate.txt\n",
    "\n",
    "Visually, the joint estimates of error and heterozygosity also don't look dramatically different:\n",
    "\n",
    "![img](https://github.com/nclowell/RAD_Scallops/blob/master/CRAGIG_combined_lanes/Notebooks/imgs_for_notebooks/comp_s4_cragig004-009.png?raw=true)"
   ]
  },
  {
   "cell_type": "markdown",
   "metadata": {
    "deletable": true,
    "editable": true
   },
   "source": [
    "#### s5_consens_stats.txt\n",
    "\n",
    "Visually, the consensus base calling results don't look dramatically different either:\n",
    "\n",
    "![img](https://github.com/nclowell/RAD_Scallops/blob/master/CRAGIG_combined_lanes/Notebooks/imgs_for_notebooks/comp_s5_cragig004-009.png?raw=true)"
   ]
  },
  {
   "cell_type": "markdown",
   "metadata": {
    "deletable": true,
    "editable": true
   },
   "source": [
    "#### s6_cluster_stats.txt\n",
    "\n",
    "Visually, the results from clustering consensus sequences do look a a little different, although it could be due to sample size. I'll need to be sure I understand each part well before I pass judgement.\n",
    "\n",
    "![imge](https://github.com/nclowell/RAD_Scallops/blob/master/CRAGIG_combined_lanes/Notebooks/imgs_for_notebooks/comp_s6_cragig004_009.png?raw=true)\n"
   ]
  },
  {
   "cell_type": "markdown",
   "metadata": {
    "deletable": true,
    "editable": true
   },
   "source": [
    "For example, the number of clusters of consensus sequences was 434,306 (Size min 1, max 7475, avg 7.0) for cragig009 and 76,218 (Size min 1, max 424, avg 2.8), but I'd think that's just the result of differences in sample size. If I understand this step, it's behaving like cstacks and clustering consensus sequences between samples. So, we'd assume that with more samples we'd have more consensus sequences that could be different.\n",
    "\n",
    "The number of singletons was 339,823 (11.2% of seqs, 78.2% of clusters) for cragig009 and 50,939 (23.6% of seqs, 66.8% of clusters). I imagine that that also has to do with sample size. I interpret a singleton here to mean that some consensus sequences only appear once across samples. But I'm not sure about the distinction between % sequences and % clusters.\n"
   ]
  },
  {
   "cell_type": "markdown",
   "metadata": {
    "deletable": true,
    "editable": true
   },
   "source": [
    "### Troubleshooting After Communication with Developers + Peers\n",
    "\n",
    "**20170613**\n",
    "\n",
    "Messaged the ipyrad authors and they said that the last line in the population map specifies the minimum number of individuals in a population that a locus must appear in in order to be retained, and that this overrides the min sample param21. So, they advised that I remove the population map and set the min sample param21 pretty low, and let that inform me how high I should set the per population values.\n",
    "\n",
    "I made a new branch called **cragig012** where I made a new population assignment file and lowered each population number down to 1, and min samples down to 3. This time, Step 7 ran to completion without the error! Looks like there's few loci retained though, on the order of 2000ish per sample.\n",
    "\n",
    "Ok now - I'll make **cragig013** where I exclude the population assignment file and try 25 for min sample number. Oh no! I got the same error again >.< What a bummer.\n",
    "\n",
    "I'm going to try **cragig014** where I exclude the population assignment file and also lower min sample number to 10. Huh! None made it through this time either.\n",
    "\n",
    "As part of this trouble-shooting, it occurred to me that when I ran cragig004-006, that I had a population assignment file with the max number of individuals per population, and it still didn't filter out all my loci (which doesn't make sense to me). I'm curious about what will happen if I remove the population assignment file, and set the min samples locus param21 to 5 (has to be in half the scallops, doesn't matter what population). This will be **cragig015**. That worked, and produced 4773 loci per sample. What about if I lower param21 to 3? Does it affect retained loci predictably? Will do in **cragig016**. Not really - the number of retained loci was almost identical, at 4770 loci per sample.\n",
    "\n",
    "I'm still confused because when I work with the subset (10 scallops), I can set param21 to half the number of individuals and I still keep 4770 loci, but if I set param21 to 10 out of 143 for the total set of samples, I retain no individuals.\n",
    "\n",
    "Ok next thing to try - remove FG100_A, which had no retained loci, and see if assembly works fine after that. I manually moved the fastq out of that folder into the directory above it, and then I'm going to make a params file (**cragig017**) that is like cragig009 except I'll set param21 to 10 and exclude a population assignment file. I'm not sure if excluding samples is just a matter of moving fastq files, or if ipyrad calls individuals using the barcodes file or the population assignment file. So trying the fastq file removal idea first. Ugh, same error. Let me see in the stats file if it at least excluded FG100_A. Doesn't look like it got removed.\n",
    "\n",
    "I got some ubuntu error while **cragig018** was running overnight. I also realized that demutliplexing didn't overwrite my original fastqs, and there was something else I wanted to test before trying demultiplexing again in order to exclude FG100_A, and that was removing whatever file's step 7 must take from (the consensus files of steps 5-6?). Going to poke around the directory structure now.\n",
    "\n",
    "Worth removing FG100_A files from consens folder and rerunning step 7, although I have a feeling if FG100A messed up the process, that I'd need to repeat all steps that work between samples (at least steps 5 & 6). Ran: ``ipyrad -p params-cragig013.txt -s 7 -f``. Oh no! It didn't work either. Gonna look at the stats out file from step 7 to see whether there were 143 samples in the run (as in, did removing the consens files for FG100A actually remove it from the assembly). Ah! Still 143 samples, so it didn't actually remove FG100A.\n",
    "\n",
    "This is getting really messy and I'm not getting very far in sorting out what's causing all my samples to get filtered out. Also, I'm going to try rerunning **cragig018** now and getting some dumb error about the temp chunks folder for cragig018 being not empty (even though it looks empty?) so I made **cragig020**, which also excluded the pop assignment file and used barcodes sans replicates. Sweet! That worked. Now I have **cragig021** as the merged assembly. Going to go in and make the rest of the parameters just like **cragig004** (which worked) aka set param13 to 2000, param17 to 35. Also removed population assignment file, and set param21 to 10. Because I still think that's super liberal!\n",
    "\n",
    "A new error message altogether! **cragig021** ran through step 6 fine, and then in step 7 spit out this error message:\n",
    "```\n",
    "  Encountered an unexpected error (see ./ipyrad_log.txt)\n",
    "  Error message is below -------------------------------\n",
    "'FG102_A'\n",
    "```\n",
    "What's weird is FG102_A isn't the name of any of the samples in this run. However, in **cragig008**, I did use a population assignment file that included that sample, so maybe I just don't know how ipyrad works, and it's confused why there's a sample in the population assignment file and not in the fastqs, consens files, etc. I'm going to try a nifty trick Katherine told me about. You can remove samples from assembly by making a branch and calling:\n",
    "\n",
    "``ipyrad -p params-file.txt -b branchname - sample1 sample2 sample3``\n",
    "\n",
    "So, here, I'm running:\n",
    "\n",
    "``ipyrad -p params-cragig021.txt -b cragig021_sansreps.txt - FG100_A FG100_B FG101_A FG101_B FG102_A FG102_B FG103_A FG103_B FG104_A FG105_B``\n",
    "\n",
    "Ugh. It says it doesn't know what those sample names are, which is a surprise because it spit out 'FG102_A' as an error. That makes me think that it's using the population assignment file in step 7 to call samples, but there are no files named FG102_A so it's confused. Going to try deleting the population assignment file out of **cragig008** and rerunning step 7 of **cragig021**. Crap. That didn't solve the problem either. Then I tried using the subdata branching thing, where I can specify a list of samples to use in a branch, and I excluded any reps (with As and Bs), and I still got the same error about FG102_A! \n",
    "\n",
    "If Katherine doesn't have an easy fix for this, then I'm going to rerun something over the weekend, knowing more now than I did a week ago.\n",
    "\n",
    "Alright! Decided to just restart from the beginning. Here are the params files."
   ]
  },
  {
   "cell_type": "code",
   "execution_count": 3,
   "metadata": {
    "collapsed": false,
    "deletable": true,
    "editable": true
   },
   "outputs": [
    {
     "name": "stdout",
     "output_type": "stream",
     "text": [
      "------- ipyrad params file (v.0.6.20)-------------------------------------------\r\n",
      "cragig_lane1_001               ## [0] [assembly_name]: Assembly name. Used to name output directories for assembly steps\r\n",
      "./                             ## [1] [project_dir]: Project dir (made in curdir if not present)\r\n",
      "/mnt/hgfs/Data/CRAGIG_RUN1/CRAGIG_RUN1_raw_data/161228_I137_FCHCYV5BBXX_L5_CHKPE85216120009_1.fq.gz                              ## [2] [raw_fastq_path]: Location of raw non-demultiplexed fastq files\r\n",
      "./barcodes_cragigrun1_sansAs.txt   ## [3] [barcodes_path]: Location of barcodes file\r\n",
      "                               ## [4] [sorted_fastq_path]: Location of demultiplexed/sorted fastq files\r\n",
      "denovo                         ## [5] [assembly_method]: Assembly method (denovo, reference, denovo+reference, denovo-reference)\r\n",
      "                               ## [6] [reference_sequence]: Location of reference sequence file\r\n",
      "rad                            ## [7] [datatype]: Datatype (see docs): rad, gbs, ddrad, etc.\r\n",
      "TGCAGG,                        ## [8] [restriction_overhang]: Restriction overhang (cut1,) or (cut1, cut2)\r\n",
      "5                              ## [9] [max_low_qual_bases]: Max low quality base calls (Q<20) in a read\r\n",
      "33                             ## [10] [phred_Qscore_offset]: phred Q score offset (33 is default and very standard)\r\n",
      "10                             ## [11] [mindepth_statistical]: Min depth for statistical base calling\r\n",
      "10                             ## [12] [mindepth_majrule]: Min depth for majority-rule base calling\r\n",
      "2000                           ## [13] [maxdepth]: Max cluster depth within samples\r\n",
      "0.85                           ## [14] [clust_threshold]: Clustering threshold for de novo assembly\r\n",
      "0                              ## [15] [max_barcode_mismatch]: Max number of allowable mismatches in barcodes\r\n",
      "2                              ## [16] [filter_adapters]: Filter for adapters/primers (1 or 2=stricter)\r\n",
      "35                             ## [17] [filter_min_trim_len]: Min length of reads after adapter trim\r\n",
      "2                              ## [18] [max_alleles_consens]: Max alleles per site in consensus sequences\r\n",
      "5, 5                           ## [19] [max_Ns_consens]: Max N's (uncalled bases) in consensus (R1, R2)\r\n",
      "8, 8                           ## [20] [max_Hs_consens]: Max Hs (heterozygotes) in consensus (R1, R2)\r\n",
      "10                             ## [21] [min_samples_locus]: Min # samples per locus for output\r\n",
      "20, 20                         ## [22] [max_SNPs_locus]: Max # SNPs per locus (R1, R2)\r\n",
      "8, 8                           ## [23] [max_Indels_locus]: Max # of indels per locus (R1, R2)\r\n",
      "0.9                            ## [24] [max_shared_Hs_locus]: Max # heterozygous sites per locus (R1, R2)\r\n",
      "0, 0, 0, 0                     ## [25] [trim_reads]: Trim raw read edges (R1>, <R1, R2>, <R2) (see docs)\r\n",
      "0, 0, 0, 0                     ## [26] [trim_loci]: Trim locus edges (see docs) (R1>, <R1, R2>, <R2)\r\n",
      "*                              ## [27] [output_formats]: Output formats (see docs)"
     ]
    }
   ],
   "source": [
    "!head -n 30 params-cragig_lane1_001.txt"
   ]
  },
  {
   "cell_type": "code",
   "execution_count": 4,
   "metadata": {
    "collapsed": false,
    "deletable": true,
    "editable": true
   },
   "outputs": [
    {
     "name": "stdout",
     "output_type": "stream",
     "text": [
      "------- ipyrad params file (v.0.6.20)-------------------------------------------\r\n",
      "cragig_lane2_001               ## [0] [assembly_name]: Assembly name. Used to name output directories for assembly steps\r\n",
      "./                             ## [1] [project_dir]: Project dir (made in curdir if not present)\r\n",
      "/mnt/hgfs/Data/CRAGIG_RUN2/CRAGIG_RUN2_rawdata/CRAGIG_RUN2_1.fq.gz ## [2] [raw_fastq_path]: Location of raw non-demultiplexed fastq files\r\n",
      "./barcodes_cragigrun2.txt      ## [3] [barcodes_path]: Location of barcodes file\r\n",
      "                               ## [4] [sorted_fastq_path]: Location of demultiplexed/sorted fastq files\r\n",
      "denovo                         ## [5] [assembly_method]: Assembly method (denovo, reference, denovo+reference, denovo-reference)\r\n",
      "                               ## [6] [reference_sequence]: Location of reference sequence file\r\n",
      "rad                            ## [7] [datatype]: Datatype (see docs): rad, gbs, ddrad, etc.\r\n",
      "TGCAGG,                        ## [8] [restriction_overhang]: Restriction overhang (cut1,) or (cut1, cut2)\r\n",
      "5                              ## [9] [max_low_qual_bases]: Max low quality base calls (Q<20) in a read\r\n",
      "33                             ## [10] [phred_Qscore_offset]: phred Q score offset (33 is default and very standard)\r\n",
      "10                             ## [11] [mindepth_statistical]: Min depth for statistical base calling\r\n",
      "10                             ## [12] [mindepth_majrule]: Min depth for majority-rule base calling\r\n",
      "2000                           ## [13] [maxdepth]: Max cluster depth within samples\r\n",
      "0.85                           ## [14] [clust_threshold]: Clustering threshold for de novo assembly\r\n",
      "0                              ## [15] [max_barcode_mismatch]: Max number of allowable mismatches in barcodes\r\n",
      "2                              ## [16] [filter_adapters]: Filter for adapters/primers (1 or 2=stricter)\r\n",
      "35                             ## [17] [filter_min_trim_len]: Min length of reads after adapter trim\r\n",
      "2                              ## [18] [max_alleles_consens]: Max alleles per site in consensus sequences\r\n",
      "5, 5                           ## [19] [max_Ns_consens]: Max N's (uncalled bases) in consensus (R1, R2)\r\n",
      "8, 8                           ## [20] [max_Hs_consens]: Max Hs (heterozygotes) in consensus (R1, R2)\r\n",
      "10                             ## [21] [min_samples_locus]: Min # samples per locus for output\r\n",
      "20, 20                         ## [22] [max_SNPs_locus]: Max # SNPs per locus (R1, R2)\r\n",
      "8, 8                           ## [23] [max_Indels_locus]: Max # of indels per locus (R1, R2)\r\n",
      "0.9                            ## [24] [max_shared_Hs_locus]: Max # heterozygous sites per locus (R1, R2)\r\n",
      "0, 0, 0, 0                     ## [25] [trim_reads]: Trim raw read edges (R1>, <R1, R2>, <R2) (see docs)\r\n",
      "0, 0, 0, 0                     ## [26] [trim_loci]: Trim locus edges (see docs) (R1>, <R1, R2>, <R2)\r\n",
      "*                              ## [27] [output_formats]: Output formats (see docs)"
     ]
    }
   ],
   "source": [
    "!head -n 30 params-cragig_lane2_001.txt"
   ]
  },
  {
   "cell_type": "markdown",
   "metadata": {
    "deletable": true,
    "editable": true
   },
   "source": [
    "Then I merged these two assembles into the following:"
   ]
  },
  {
   "cell_type": "code",
   "execution_count": 5,
   "metadata": {
    "collapsed": false,
    "deletable": true,
    "editable": true
   },
   "outputs": [
    {
     "name": "stdout",
     "output_type": "stream",
     "text": [
      "------- ipyrad params file (v.0.6.20)-------------------------------------------\r\n",
      "cragig_lanes_12_001            ## [0] [assembly_name]: Assembly name. Used to name output directories for assembly steps\r\n",
      "/mnt/hgfs/SHARED_FOLDER/Learn_iPyrad/CRAGIG_RUNS_12_py ## [1] [project_dir]: Project dir (made in curdir if not present)\r\n",
      "Merged: cragig_lane1_001, cragig_lane2_001 ## [2] [raw_fastq_path]: Location of raw non-demultiplexed fastq files\r\n",
      "Merged: cragig_lane1_001, cragig_lane2_001 ## [3] [barcodes_path]: Location of barcodes file\r\n",
      "Merged: cragig_lane1_001, cragig_lane2_001 ## [4] [sorted_fastq_path]: Location of demultiplexed/sorted fastq files\r\n",
      "denovo                         ## [5] [assembly_method]: Assembly method (denovo, reference, denovo+reference, denovo-reference)\r\n",
      "                               ## [6] [reference_sequence]: Location of reference sequence file\r\n",
      "rad                            ## [7] [datatype]: Datatype (see docs): rad, gbs, ddrad, etc.\r\n",
      "TGCAGG,                        ## [8] [restriction_overhang]: Restriction overhang (cut1,) or (cut1, cut2)\r\n",
      "5                              ## [9] [max_low_qual_bases]: Max low quality base calls (Q<20) in a read\r\n",
      "33                             ## [10] [phred_Qscore_offset]: phred Q score offset (33 is default and very standard)\r\n",
      "10                             ## [11] [mindepth_statistical]: Min depth for statistical base calling\r\n",
      "10                             ## [12] [mindepth_majrule]: Min depth for majority-rule base calling\r\n",
      "2000                           ## [13] [maxdepth]: Max cluster depth within samples\r\n",
      "0.85                           ## [14] [clust_threshold]: Clustering threshold for de novo assembly\r\n",
      "0                              ## [15] [max_barcode_mismatch]: Max number of allowable mismatches in barcodes\r\n",
      "2                              ## [16] [filter_adapters]: Filter for adapters/primers (1 or 2=stricter)\r\n",
      "35                             ## [17] [filter_min_trim_len]: Min length of reads after adapter trim\r\n",
      "2                              ## [18] [max_alleles_consens]: Max alleles per site in consensus sequences\r\n",
      "5, 5                           ## [19] [max_Ns_consens]: Max N's (uncalled bases) in consensus (R1, R2)\r\n",
      "8, 8                           ## [20] [max_Hs_consens]: Max Hs (heterozygotes) in consensus (R1, R2)\r\n",
      "10                             ## [21] [min_samples_locus]: Min # samples per locus for output\r\n",
      "20, 20                         ## [22] [max_SNPs_locus]: Max # SNPs per locus (R1, R2)\r\n",
      "8, 8                           ## [23] [max_Indels_locus]: Max # of indels per locus (R1, R2)\r\n",
      "0.9                            ## [24] [max_shared_Hs_locus]: Max # heterozygous sites per locus (R1, R2)\r\n",
      "0, 0, 0, 0                     ## [25] [trim_reads]: Trim raw read edges (R1>, <R1, R2>, <R2) (see docs)\r\n",
      "0, 0, 0, 0                     ## [26] [trim_loci]: Trim locus edges (see docs) (R1>, <R1, R2>, <R2)\r\n",
      "G, a, g, k, m, l, n, p, s, u, t, v ## [27] [output_formats]: Output formats (see docs)\r\n",
      "                               ## [28] [pop_assign_file]: Path to population assignment file"
     ]
    }
   ],
   "source": [
    "!head -n 30 params-cragig_lanes_12_001.txt"
   ]
  },
  {
   "cell_type": "markdown",
   "metadata": {
    "collapsed": true,
    "deletable": true,
    "editable": true
   },
   "source": [
    "## Successful merged assembly of ipyrad\n",
    "\n",
    "**20170617**\n",
    "\n",
    "Starting over from the beginning totally worked! Now tto make a branch so I can add a population assignment file for Step 7's output structure file, to read into adegenet and use hierfstat to calculate basic statistics. That branch is called **cragig_lanes_12_002**.\n",
    "\n",
    "#### Use vcftools to filter for biallelic loci."
   ]
  },
  {
   "cell_type": "code",
   "execution_count": 1,
   "metadata": {
    "collapsed": false,
    "deletable": true,
    "editable": true
   },
   "outputs": [
    {
     "name": "stdout",
     "output_type": "stream",
     "text": [
      "/mnt/hgfs/SHARED_FOLDER/Learn_iPyrad/CRAGIG_RUNS_12_py\n"
     ]
    }
   ],
   "source": [
    "cd /mnt/hgfs/SHARED_FOLDER/Learn_iPyrad/CRAGIG_RUNS_12_py/"
   ]
  },
  {
   "cell_type": "code",
   "execution_count": 2,
   "metadata": {
    "collapsed": false,
    "deletable": true,
    "editable": true
   },
   "outputs": [
    {
     "name": "stdout",
     "output_type": "stream",
     "text": [
      "\n",
      "VCFtools - UNKNOWN\n",
      "(C) Adam Auton and Anthony Marcketta 2009\n",
      "\n",
      "Parameters as interpreted:\n",
      "\t--vcf cragig_lanes_12_002_outfiles/cragig_lanes_12_002.vcf\n",
      "\t--max-alleles 2\n",
      "\t--min-alleles 2\n",
      "\t--out cragig_lanes_12_002_outfiles/cragig_lanes_12_002_biall\n",
      "\t--recode\n",
      "\n",
      "After filtering, kept 138 out of 138 Individuals\n",
      "Outputting VCF file...\n",
      "After filtering, kept 16473 out of a possible 17479 Sites\n",
      "Run Time = 3.00 seconds\n"
     ]
    }
   ],
   "source": [
    "!vcftools --vcf cragig_lanes_12_002_outfiles/cragig_lanes_12_002.vcf \\\n",
    "--min-alleles 2 --max-alleles 2 \\\n",
    "--out cragig_lanes_12_002_outfiles/cragig_lanes_12_002_biall --recode"
   ]
  },
  {
   "cell_type": "markdown",
   "metadata": {
    "deletable": true,
    "editable": true
   },
   "source": [
    "#### Use pgdspider to make structure file out of biallelic vcf file\n",
    "\n",
    "Did through the GUI.\n",
    "\n",
    "#### Get number of loci\n",
    "\n",
    "Used number of loci reported in vcftools above, so, 16473\n",
    "\n",
    "#### Add population information to structure file\n",
    "\n",
    "Just noticed that ipyrad doesn't code population information into the structure files, despite having a population assignment file. Bummer. Going to do that manually here."
   ]
  },
  {
   "cell_type": "code",
   "execution_count": 5,
   "metadata": {
    "collapsed": false,
    "deletable": true,
    "editable": true
   },
   "outputs": [
    {
     "name": "stdout",
     "output_type": "stream",
     "text": [
      "/mnt/hgfs/SHARED_FOLDER/Learn_iPyrad/CRAGIG_RUNS_12_py/cragig_lanes_12_002_outfiles\n"
     ]
    }
   ],
   "source": [
    "cd /mnt/hgfs/SHARED_FOLDER/Learn_iPyrad/CRAGIG_RUNS_12_py/cragig_lanes_12_002_outfiles"
   ]
  },
  {
   "cell_type": "code",
   "execution_count": 6,
   "metadata": {
    "collapsed": true,
    "deletable": true,
    "editable": true
   },
   "outputs": [],
   "source": [
    "infile = open(\"add_pop_assignment.str\", \"r\")\n",
    "infile_lines = infile.readlines()\n",
    "infile.close()"
   ]
  },
  {
   "cell_type": "code",
   "execution_count": 7,
   "metadata": {
    "collapsed": true,
    "deletable": true,
    "editable": true
   },
   "outputs": [],
   "source": [
    "popfile = open(\"../popmap_cragig_sansAs.txt\",\"r\")\n",
    "popfile_lines = popfile.readlines()\n",
    "popfile.close()"
   ]
  },
  {
   "cell_type": "code",
   "execution_count": 9,
   "metadata": {
    "collapsed": false,
    "deletable": true,
    "editable": true
   },
   "outputs": [
    {
     "data": {
      "text/plain": [
       "['FG009\\tpop1\\n',\n",
       " 'FG001\\tpop1\\n',\n",
       " 'FG004\\tpop1\\n',\n",
       " 'FG011\\tpop1\\n',\n",
       " 'FG003\\tpop1\\n']"
      ]
     },
     "execution_count": 9,
     "metadata": {},
     "output_type": "execute_result"
    }
   ],
   "source": [
    "popfile_lines[0:5]"
   ]
  },
  {
   "cell_type": "code",
   "execution_count": 10,
   "metadata": {
    "collapsed": false,
    "deletable": true,
    "editable": true
   },
   "outputs": [
    {
     "data": {
      "text/plain": [
       "['Q248  pop3\\n',\n",
       " 'Q303  pop4\\n',\n",
       " 'Q307  pop4\\n',\n",
       " 'Q357  pop5\\n',\n",
       " 'Q358  pop3\\n']"
      ]
     },
     "execution_count": 10,
     "metadata": {},
     "output_type": "execute_result"
    }
   ],
   "source": [
    "popfile_lines[80:85]"
   ]
  },
  {
   "cell_type": "code",
   "execution_count": 14,
   "metadata": {
    "collapsed": true,
    "deletable": true,
    "editable": true
   },
   "outputs": [],
   "source": [
    "pop_dict = {}\n",
    "sample_list = []\n",
    "\n",
    "for line in popfile_lines:\n",
    "    linelist = line.strip().split()\n",
    "    sample = linelist[0]\n",
    "    sample_list.append(sample)\n",
    "    popnum = linelist[1][-1]\n",
    "    pop_dict[sample] = popnum"
   ]
  },
  {
   "cell_type": "code",
   "execution_count": 15,
   "metadata": {
    "collapsed": false,
    "deletable": true,
    "editable": true
   },
   "outputs": [
    {
     "data": {
      "text/plain": [
       "'4'"
      ]
     },
     "execution_count": 15,
     "metadata": {},
     "output_type": "execute_result"
    }
   ],
   "source": [
    "# test to see if worked\n",
    "pop_dict['Q307']"
   ]
  },
  {
   "cell_type": "code",
   "execution_count": 16,
   "metadata": {
    "collapsed": true,
    "deletable": true,
    "editable": true
   },
   "outputs": [],
   "source": [
    "lines_for_file = []\n",
    "lines_for_file.append(infile_lines[0])\n",
    "\n",
    "for line in infile_lines[1:]: # exclude header\n",
    "    linelist = line.strip().split()\n",
    "    samplename = linelist[0]\n",
    "    newpopnum = pop_dict[samplename]\n",
    "    genotypes = \"\"\n",
    "    for genotype in linelist[2:]: # exclude sample name and pop id columns\n",
    "        genotypes += genotype + \" \"\n",
    "    genotypes = genotypes[:-1] # get rid of last space\n",
    "    newline = samplename + \"\\t\" + newpopnum + \"\\t\" + genotypes + \"\\n\"\n",
    "    lines_for_file.append(newline)"
   ]
  },
  {
   "cell_type": "code",
   "execution_count": 17,
   "metadata": {
    "collapsed": true,
    "deletable": true,
    "editable": true
   },
   "outputs": [],
   "source": [
    "outfile = open(\"str_w_pop_assignment.str\",\"w\")\n",
    "for line in lines_for_file:\n",
    "    outfile.write(line)\n",
    "outfile.close()"
   ]
  },
  {
   "cell_type": "markdown",
   "metadata": {
    "deletable": true,
    "editable": true
   },
   "source": [
    "#### Fis\n",
    "\n",
    "Awesome! I used adegent and hierfstat to read in the structure file as one population and as multiple, and now need to plot Fis."
   ]
  },
  {
   "cell_type": "code",
   "execution_count": 21,
   "metadata": {
    "collapsed": false,
    "deletable": true,
    "editable": true
   },
   "outputs": [
    {
     "name": "stdout",
     "output_type": "stream",
     "text": [
      "/mnt/hgfs/SHARED_FOLDER/Learn_iPyrad/CRAGIG_RUNS_12_py/cragig_lanes_12_002_outfiles/cragig_lanes_12_002_edited_outfiles_and_suppl_stats\n"
     ]
    }
   ],
   "source": [
    "cd /mnt/hgfs/SHARED_FOLDER/Learn_iPyrad/CRAGIG_RUNS_12_py/cragig_lanes_12_002_outfiles/cragig_lanes_12_002_edited_outfiles_and_suppl_stats"
   ]
  },
  {
   "cell_type": "code",
   "execution_count": 22,
   "metadata": {
    "collapsed": true,
    "deletable": true,
    "editable": true
   },
   "outputs": [],
   "source": [
    "fis_file = open(\"Fis_cragig_lanes_12_002_20170619_asonepop.txt\", \"r\")\n",
    "fis_file_lines = fis_file.readlines()\n",
    "fis_file.close()"
   ]
  },
  {
   "cell_type": "code",
   "execution_count": 26,
   "metadata": {
    "collapsed": true,
    "deletable": true,
    "editable": true
   },
   "outputs": [],
   "source": [
    "onepop_fis = []\n",
    "\n",
    "for line in fis_file_lines[1:]: # exclude header\n",
    "    linelist = line.strip().split()\n",
    "    fis = linelist[1]\n",
    "    if fis != \"NA\":\n",
    "        onepop_fis.append(float(fis))"
   ]
  },
  {
   "cell_type": "code",
   "execution_count": 26,
   "metadata": {
    "collapsed": true,
    "deletable": true,
    "editable": true
   },
   "outputs": [],
   "source": [
    "import matplotlib.pyplot as plt\n",
    "import numpy as np"
   ]
  },
  {
   "cell_type": "code",
   "execution_count": 29,
   "metadata": {
    "collapsed": false,
    "deletable": true,
    "editable": true
   },
   "outputs": [
    {
     "data": {
      "image/png": "[encoded data removed]",
      "text/plain": [
       "<matplotlib.figure.Figure at 0x7f54f55b4210>"
      ]
     },
     "metadata": {},
     "output_type": "display_data"
    }
   ],
   "source": [
    "plt.hist(onepop_fis, bins = np.arange(-1,1,.05)-.025)\n",
    "plt.suptitle(\"Fis distribution across 138 scallops\")\n",
    "plt.xlabel(\"Fis\")\n",
    "plt.ylabel(\"Frequency\")\n",
    "plt.show()"
   ]
  },
  {
   "cell_type": "markdown",
   "metadata": {
    "deletable": true,
    "editable": true
   },
   "source": [
    "That looks SO much better than when I did the same thing through Stacks. That's a relief. Next steps would be to plot those exploratory plots that compare read depth, heterozygosity, Fis, etc., and essentially find several ways to trust my data. From there, I can actually try to find loci for Molly's parentage panel."
   ]
  },
  {
   "cell_type": "markdown",
   "metadata": {},
   "source": [
    "## One SNP per RAD tag\n",
    "\n",
    "I want to make some exploratory plots, but first I should filter to just have one SNP per RAD tag. Going to pull the u.str file from the outfiles, convert it to VCF in PGD Spider, then use VCF tools to filter for only biallelic, and then transfer back to .str format.\n",
    "\n",
    "Need to get number of loci for PGD Spider."
   ]
  },
  {
   "cell_type": "code",
   "execution_count": 13,
   "metadata": {
    "collapsed": false
   },
   "outputs": [
    {
     "name": "stdout",
     "output_type": "stream",
     "text": [
      "/mnt/hgfs/SHARED_FOLDER/Learn_iPyrad/CRAGIG_RUNS_12_py/cragig_lanes_12_002_outfiles\n"
     ]
    }
   ],
   "source": [
    "cd /mnt/hgfs/SHARED_FOLDER/Learn_iPyrad/CRAGIG_RUNS_12_py/cragig_lanes_12_002_outfiles/"
   ]
  },
  {
   "cell_type": "code",
   "execution_count": 8,
   "metadata": {
    "collapsed": false
   },
   "outputs": [],
   "source": [
    "ustr_file = open(\"cragig_lanes_12_002.ustr\", \"r\")\n",
    "ustr_lines = ustr_file.readlines()\n",
    "ustr_file.close()"
   ]
  },
  {
   "cell_type": "code",
   "execution_count": 12,
   "metadata": {
    "collapsed": false
   },
   "outputs": [
    {
     "name": "stdout",
     "output_type": "stream",
     "text": [
      "Your u.str file has 1516 SNPs\n"
     ]
    }
   ],
   "source": [
    "firstline = ustr_lines[0]\n",
    "firstline_list = firstline.strip().split()\n",
    "print \"Your u.str file has \" + str(len(firstline_list)-1) + \" SNPs\""
   ]
  },
  {
   "cell_type": "code",
   "execution_count": 17,
   "metadata": {
    "collapsed": false
   },
   "outputs": [
    {
     "name": "stdout",
     "output_type": "stream",
     "text": [
      "/mnt/hgfs/SHARED_FOLDER/Learn_iPyrad/CRAGIG_RUNS_12_py/cragig_lanes_12_002_outfiles/cragig_lanes_12_002_edited_outfiles_and_suppl_stats\n"
     ]
    }
   ],
   "source": [
    "cd /mnt/hgfs/SHARED_FOLDER/Learn_iPyrad/CRAGIG_RUNS_12_py/cragig_lanes_12_002_outfiles/cragig_lanes_12_002_edited_outfiles_and_suppl_stats"
   ]
  },
  {
   "cell_type": "code",
   "execution_count": 18,
   "metadata": {
    "collapsed": false
   },
   "outputs": [
    {
     "name": "stdout",
     "output_type": "stream",
     "text": [
      "\r\n",
      "VCFtools - UNKNOWN\r\n",
      "(C) Adam Auton and Anthony Marcketta 2009\r\n",
      "\r\n",
      "Parameters as interpreted:\r\n",
      "\t--vcf cragig_lanes_12_002_ustr_as_vcf.vcf\r\n",
      "\t--max-alleles 2\r\n",
      "\t--min-alleles 2\r\n",
      "\t--out cragig_lanes_12_002_ustr_as_vcf_biall.vcf\r\n",
      "\t--recode\r\n",
      "\r\n",
      "After filtering, kept 0 out of 0 Individuals\r\n",
      "Outputting VCF file...\r\n",
      "After filtering, kept 0 out of a possible 0 Sites\r\n",
      "File does not contain any sites\r\n",
      "Run Time = 0.00 seconds\r\n"
     ]
    }
   ],
   "source": [
    "# vcf tools to filter for biallelic loci only\n",
    "!vcftools --vcf cragig_lanes_12_002_ustr_as_vcf.vcf \\\n",
    "--min-alleles 2 --max-alleles 2 \\\n",
    "--out cragig_lanes_12_002_ustr_as_vcf_biall.vcf --recode"
   ]
  },
  {
   "cell_type": "markdown",
   "metadata": {},
   "source": [
    "That's not working as expected. I think I'd want the first SNP in each RAD tag anyway, so maybe it'd be possible for me to do that using vcftools filtering, after making a list of SNPs to keep. From the [manual](http://vcftools.sourceforge.net/man_latest.html):\n",
    "\n",
    "![img](https://github.com/nclowell/RAD_Scallops/blob/master/CRAGIG_combined_lanes/Notebooks/imgs_for_notebooks/vcftools_snpfilter.png?raw=true)"
   ]
  },
  {
   "cell_type": "code",
   "execution_count": 21,
   "metadata": {
    "collapsed": false
   },
   "outputs": [
    {
     "name": "stdout",
     "output_type": "stream",
     "text": [
      "/mnt/hgfs/SHARED_FOLDER/Learn_iPyrad/CRAGIG_RUNS_12_py/cragig_lanes_12_002_outfiles\n"
     ]
    }
   ],
   "source": [
    "cd /mnt/hgfs/SHARED_FOLDER/Learn_iPyrad/CRAGIG_RUNS_12_py/cragig_lanes_12_002_outfiles"
   ]
  },
  {
   "cell_type": "code",
   "execution_count": 22,
   "metadata": {
    "collapsed": true
   },
   "outputs": [],
   "source": [
    "snp_map = open(\"cragig_lanes_12_002.snps.map\",\"r\")\n",
    "snp_map_lines = snp_map.readlines()\n",
    "snp_map.close()"
   ]
  },
  {
   "cell_type": "code",
   "execution_count": 51,
   "metadata": {
    "collapsed": false
   },
   "outputs": [],
   "source": [
    "locus_nums = []\n",
    "snp_nums = []\n",
    "first_snps = []\n",
    "snp_count_dict = {}\n",
    "\n",
    "for line in snp_map_lines:\n",
    "    linelist = line.strip().split()\n",
    "    locus_num = linelist[0]\n",
    "    snp_num = linelist[3]\n",
    "    if locus_num not in locus_nums:\n",
    "        locus_nums.append(locus_num)\n",
    "        snp_count_dict[locus_num] = 1\n",
    "        first_snps.append(snp_num)\n",
    "    else:\n",
    "        snp_count_dict[locus_num] += 1"
   ]
  },
  {
   "cell_type": "code",
   "execution_count": 52,
   "metadata": {
    "collapsed": false
   },
   "outputs": [
    {
     "data": {
      "text/plain": [
       "['1', '11', '30', '41', '61', '71', '83', '89', '92']"
      ]
     },
     "execution_count": 52,
     "metadata": {},
     "output_type": "execute_result"
    }
   ],
   "source": [
    "first_snps[0:9] # check worked"
   ]
  },
  {
   "cell_type": "code",
   "execution_count": 25,
   "metadata": {
    "collapsed": false
   },
   "outputs": [
    {
     "data": {
      "text/plain": [
       "20"
      ]
     },
     "execution_count": 25,
     "metadata": {},
     "output_type": "execute_result"
    }
   ],
   "source": [
    "snp_count_dict['4'] # check worked"
   ]
  },
  {
   "cell_type": "markdown",
   "metadata": {},
   "source": [
    "In vcf files, "
   ]
  },
  {
   "cell_type": "code",
   "execution_count": 70,
   "metadata": {
    "collapsed": false
   },
   "outputs": [
    {
     "name": "stdout",
     "output_type": "stream",
     "text": [
      "/mnt/hgfs/SHARED_FOLDER/Learn_iPyrad/CRAGIG_RUNS_12_py/cragig_lanes_12_002_outfiles\n"
     ]
    }
   ],
   "source": [
    "cd /mnt/hgfs/SHARED_FOLDER/Learn_iPyrad/CRAGIG_RUNS_12_py/cragig_lanes_12_002_outfiles"
   ]
  },
  {
   "cell_type": "code",
   "execution_count": 71,
   "metadata": {
    "collapsed": false
   },
   "outputs": [],
   "source": [
    "# write file w names of SNPs to keep on each line\n",
    "first_snps_outfile = open(\"cragig_lanes_12_002_edited_outfiles_and_suppl_stats/first_snps_list.txt\",\"w\")\n",
    "for snp in first_snps:\n",
    "    first_snps_outfile.write(\"SNP_\" + snp + \"\\n\")\n",
    "first_snps_outfile.close()"
   ]
  },
  {
   "cell_type": "code",
   "execution_count": 72,
   "metadata": {
    "collapsed": false
   },
   "outputs": [
    {
     "name": "stdout",
     "output_type": "stream",
     "text": [
      "SNP_1\r\n",
      "SNP_11\r\n",
      "SNP_30\r\n",
      "SNP_41\r\n",
      "SNP_61\r\n",
      "SNP_71\r\n",
      "SNP_83\r\n",
      "SNP_89\r\n",
      "SNP_92\r\n",
      "SNP_97\r\n",
      "SNP_102\r\n",
      "SNP_118\r\n",
      "SNP_136\r\n",
      "SNP_151\r\n",
      "SNP_158\r\n",
      "SNP_167\r\n",
      "SNP_186\r\n",
      "SNP_203\r\n",
      "SNP_216\r\n",
      "SNP_218\r\n"
     ]
    }
   ],
   "source": [
    "# check \n",
    "!head cragig_lanes_12_002_edited_outfiles_and_suppl_stats/first_snps_list.txt -n 20"
   ]
  },
  {
   "cell_type": "code",
   "execution_count": 66,
   "metadata": {
    "collapsed": false
   },
   "outputs": [
    {
     "name": "stdout",
     "output_type": "stream",
     "text": [
      "/mnt/hgfs/SHARED_FOLDER/Learn_iPyrad/CRAGIG_RUNS_12_py/cragig_lanes_12_002_outfiles/cragig_lanes_12_002_edited_outfiles_and_suppl_stats\n"
     ]
    }
   ],
   "source": [
    "cd /mnt/hgfs/SHARED_FOLDER/Learn_iPyrad/CRAGIG_RUNS_12_py/cragig_lanes_12_002_outfiles/cragig_lanes_12_002_edited_outfiles_and_suppl_stats"
   ]
  },
  {
   "cell_type": "code",
   "execution_count": 68,
   "metadata": {
    "collapsed": false
   },
   "outputs": [
    {
     "name": "stdout",
     "output_type": "stream",
     "text": [
      "\n",
      "VCFtools - UNKNOWN\n",
      "(C) Adam Auton and Anthony Marcketta 2009\n",
      "\n",
      "Parameters as interpreted:\n",
      "\t--vcf cragig_lanes_12_002_biall_recode.vcf\n",
      "\t--out cragig_lanes_12_002_firstsnps_biall.vcf\n",
      "\t--recode\n",
      "\t--snps first_snps_list.txt\n",
      "\n",
      "After filtering, kept 138 out of 138 Individuals\n",
      "Outputting VCF file...\n",
      "After filtering, kept 0 out of a possible 16473 Sites\n",
      "No data left for analysis!\n",
      "Run Time = 0.00 seconds\n"
     ]
    }
   ],
   "source": [
    "# vcf tools to filter for just first SNP per RAD tag\n",
    "!vcftools --vcf cragig_lanes_12_002_biall_recode.vcf \\\n",
    "--snps first_snps_list.txt \\\n",
    "--out cragig_lanes_12_002_firstsnps_biall.vcf --recode"
   ]
  },
  {
   "cell_type": "markdown",
   "metadata": {},
   "source": [
    "Well that didn't work as well as I'd hoped! I realize now that PGD Spider must be the one naming the SNPs like 'SNP_1','SNP_2', etc., and so a list like the one I made is probably not the format required by vcftools. However, I could use it to filter through the structure file I made after filtering for biallelic."
   ]
  },
  {
   "cell_type": "code",
   "execution_count": 73,
   "metadata": {
    "collapsed": true
   },
   "outputs": [],
   "source": [
    "import pandas as pd"
   ]
  },
  {
   "cell_type": "code",
   "execution_count": 93,
   "metadata": {
    "collapsed": false
   },
   "outputs": [],
   "source": [
    "# read file in as data frame\n",
    "data = pd.read_csv('cragig_lanes_12_002_edited_outfiles_and_suppl_stats/cragig_lanes_12_002_biall_asonepop_forpandas.txt', delim_whitespace=True)"
   ]
  },
  {
   "cell_type": "code",
   "execution_count": 94,
   "metadata": {
    "collapsed": false
   },
   "outputs": [
    {
     "data": {
      "text/html": [
       "<div>\n",
       "<style>\n",
       "    .dataframe thead tr:only-child th {\n",
       "        text-align: right;\n",
       "    }\n",
       "\n",
       "    .dataframe thead th {\n",
       "        text-align: left;\n",
       "    }\n",
       "\n",
       "    .dataframe tbody tr th {\n",
       "        vertical-align: top;\n",
       "    }\n",
       "</style>\n",
       "<table border=\"1\" class=\"dataframe\">\n",
       "  <thead>\n",
       "    <tr style=\"text-align: right;\">\n",
       "      <th></th>\n",
       "      <th>Sample</th>\n",
       "      <th>Pop</th>\n",
       "      <th>SNP_1</th>\n",
       "      <th>SNP_2</th>\n",
       "      <th>SNP_3</th>\n",
       "      <th>SNP_4</th>\n",
       "      <th>SNP_5</th>\n",
       "      <th>SNP_6</th>\n",
       "      <th>SNP_7</th>\n",
       "    </tr>\n",
       "  </thead>\n",
       "  <tbody>\n",
       "    <tr>\n",
       "      <th>0</th>\n",
       "      <td>FG001</td>\n",
       "      <td>1</td>\n",
       "      <td>3</td>\n",
       "      <td>1</td>\n",
       "      <td>3</td>\n",
       "      <td>4</td>\n",
       "      <td>2</td>\n",
       "      <td>4</td>\n",
       "      <td>4</td>\n",
       "    </tr>\n",
       "    <tr>\n",
       "      <th>1</th>\n",
       "      <td>FG001</td>\n",
       "      <td>1</td>\n",
       "      <td>3</td>\n",
       "      <td>1</td>\n",
       "      <td>3</td>\n",
       "      <td>4</td>\n",
       "      <td>2</td>\n",
       "      <td>1</td>\n",
       "      <td>4</td>\n",
       "    </tr>\n",
       "    <tr>\n",
       "      <th>2</th>\n",
       "      <td>FG002</td>\n",
       "      <td>1</td>\n",
       "      <td>3</td>\n",
       "      <td>1</td>\n",
       "      <td>3</td>\n",
       "      <td>4</td>\n",
       "      <td>2</td>\n",
       "      <td>4</td>\n",
       "      <td>4</td>\n",
       "    </tr>\n",
       "    <tr>\n",
       "      <th>3</th>\n",
       "      <td>FG002</td>\n",
       "      <td>1</td>\n",
       "      <td>3</td>\n",
       "      <td>1</td>\n",
       "      <td>3</td>\n",
       "      <td>4</td>\n",
       "      <td>2</td>\n",
       "      <td>1</td>\n",
       "      <td>4</td>\n",
       "    </tr>\n",
       "    <tr>\n",
       "      <th>4</th>\n",
       "      <td>FG003</td>\n",
       "      <td>1</td>\n",
       "      <td>3</td>\n",
       "      <td>1</td>\n",
       "      <td>3</td>\n",
       "      <td>4</td>\n",
       "      <td>2</td>\n",
       "      <td>4</td>\n",
       "      <td>4</td>\n",
       "    </tr>\n",
       "    <tr>\n",
       "      <th>5</th>\n",
       "      <td>FG003</td>\n",
       "      <td>1</td>\n",
       "      <td>3</td>\n",
       "      <td>1</td>\n",
       "      <td>3</td>\n",
       "      <td>4</td>\n",
       "      <td>2</td>\n",
       "      <td>1</td>\n",
       "      <td>4</td>\n",
       "    </tr>\n",
       "    <tr>\n",
       "      <th>6</th>\n",
       "      <td>FG004</td>\n",
       "      <td>1</td>\n",
       "      <td>3</td>\n",
       "      <td>1</td>\n",
       "      <td>3</td>\n",
       "      <td>4</td>\n",
       "      <td>2</td>\n",
       "      <td>4</td>\n",
       "      <td>4</td>\n",
       "    </tr>\n",
       "    <tr>\n",
       "      <th>7</th>\n",
       "      <td>FG004</td>\n",
       "      <td>1</td>\n",
       "      <td>3</td>\n",
       "      <td>1</td>\n",
       "      <td>3</td>\n",
       "      <td>4</td>\n",
       "      <td>2</td>\n",
       "      <td>1</td>\n",
       "      <td>4</td>\n",
       "    </tr>\n",
       "    <tr>\n",
       "      <th>8</th>\n",
       "      <td>FG005</td>\n",
       "      <td>1</td>\n",
       "      <td>3</td>\n",
       "      <td>1</td>\n",
       "      <td>3</td>\n",
       "      <td>4</td>\n",
       "      <td>2</td>\n",
       "      <td>4</td>\n",
       "      <td>4</td>\n",
       "    </tr>\n",
       "  </tbody>\n",
       "</table>\n",
       "</div>"
      ],
      "text/plain": [
       "  Sample  Pop  SNP_1  SNP_2  SNP_3  SNP_4  SNP_5  SNP_6  SNP_7\n",
       "0  FG001    1      3      1      3      4      2      4      4\n",
       "1  FG001    1      3      1      3      4      2      1      4\n",
       "2  FG002    1      3      1      3      4      2      4      4\n",
       "3  FG002    1      3      1      3      4      2      1      4\n",
       "4  FG003    1      3      1      3      4      2      4      4\n",
       "5  FG003    1      3      1      3      4      2      1      4\n",
       "6  FG004    1      3      1      3      4      2      4      4\n",
       "7  FG004    1      3      1      3      4      2      1      4\n",
       "8  FG005    1      3      1      3      4      2      4      4"
      ]
     },
     "execution_count": 94,
     "metadata": {},
     "output_type": "execute_result"
    }
   ],
   "source": [
    "data.iloc[0:9,0:9] # check working"
   ]
  },
  {
   "cell_type": "markdown",
   "metadata": {},
   "source": [
    "Now get indeces for which first SNPs occur in header, then slice data frame accordingly."
   ]
  },
  {
   "cell_type": "code",
   "execution_count": 106,
   "metadata": {
    "collapsed": false
   },
   "outputs": [
    {
     "data": {
      "text/plain": [
       "['Sample',\n",
       " 'Pop',\n",
       " 'SNP_1',\n",
       " 'SNP_2',\n",
       " 'SNP_3',\n",
       " 'SNP_4',\n",
       " 'SNP_5',\n",
       " 'SNP_6',\n",
       " 'SNP_7']"
      ]
     },
     "execution_count": 106,
     "metadata": {},
     "output_type": "execute_result"
    }
   ],
   "source": [
    "header = list(data)\n",
    "header[0:9]"
   ]
  },
  {
   "cell_type": "code",
   "execution_count": 113,
   "metadata": {
    "collapsed": false
   },
   "outputs": [
    {
     "data": {
      "text/plain": [
       "['SNP_1', 'SNP_11', 'SNP_30', 'SNP_41', 'SNP_61']"
      ]
     },
     "execution_count": 113,
     "metadata": {},
     "output_type": "execute_result"
    }
   ],
   "source": [
    "first_snps_names = []\n",
    "for snp in first_snps:\n",
    "    first_snps_names.append(\"SNP_\" + snp)\n",
    "first_snps_names[0:5] # check worked"
   ]
  },
  {
   "cell_type": "code",
   "execution_count": 124,
   "metadata": {
    "collapsed": false
   },
   "outputs": [],
   "source": [
    "first_snps_header_indeces = [i for i, x in enumerate(header) if x in first_snps_names]\n",
    "first_snps_header_indeces[0:9] # check\n",
    "first_snps_header_indeces_andsamps = [0] + [1] + first_snps_header_indeces"
   ]
  },
  {
   "cell_type": "code",
   "execution_count": 125,
   "metadata": {
    "collapsed": true
   },
   "outputs": [],
   "source": [
    "sliced_df = data.iloc[:,first_snps_header_indeces_andsamps]"
   ]
  },
  {
   "cell_type": "code",
   "execution_count": 126,
   "metadata": {
    "collapsed": false
   },
   "outputs": [
    {
     "data": {
      "text/html": [
       "<div>\n",
       "<style>\n",
       "    .dataframe thead tr:only-child th {\n",
       "        text-align: right;\n",
       "    }\n",
       "\n",
       "    .dataframe thead th {\n",
       "        text-align: left;\n",
       "    }\n",
       "\n",
       "    .dataframe tbody tr th {\n",
       "        vertical-align: top;\n",
       "    }\n",
       "</style>\n",
       "<table border=\"1\" class=\"dataframe\">\n",
       "  <thead>\n",
       "    <tr style=\"text-align: right;\">\n",
       "      <th></th>\n",
       "      <th>Sample</th>\n",
       "      <th>Pop</th>\n",
       "      <th>SNP_1</th>\n",
       "      <th>SNP_11</th>\n",
       "      <th>SNP_30</th>\n",
       "    </tr>\n",
       "  </thead>\n",
       "  <tbody>\n",
       "    <tr>\n",
       "      <th>0</th>\n",
       "      <td>FG001</td>\n",
       "      <td>1</td>\n",
       "      <td>3</td>\n",
       "      <td>3</td>\n",
       "      <td>4</td>\n",
       "    </tr>\n",
       "    <tr>\n",
       "      <th>1</th>\n",
       "      <td>FG001</td>\n",
       "      <td>1</td>\n",
       "      <td>3</td>\n",
       "      <td>3</td>\n",
       "      <td>4</td>\n",
       "    </tr>\n",
       "    <tr>\n",
       "      <th>2</th>\n",
       "      <td>FG002</td>\n",
       "      <td>1</td>\n",
       "      <td>3</td>\n",
       "      <td>3</td>\n",
       "      <td>4</td>\n",
       "    </tr>\n",
       "    <tr>\n",
       "      <th>3</th>\n",
       "      <td>FG002</td>\n",
       "      <td>1</td>\n",
       "      <td>3</td>\n",
       "      <td>1</td>\n",
       "      <td>4</td>\n",
       "    </tr>\n",
       "    <tr>\n",
       "      <th>4</th>\n",
       "      <td>FG003</td>\n",
       "      <td>1</td>\n",
       "      <td>3</td>\n",
       "      <td>3</td>\n",
       "      <td>4</td>\n",
       "    </tr>\n",
       "  </tbody>\n",
       "</table>\n",
       "</div>"
      ],
      "text/plain": [
       "  Sample  Pop  SNP_1  SNP_11  SNP_30\n",
       "0  FG001    1      3       3       4\n",
       "1  FG001    1      3       3       4\n",
       "2  FG002    1      3       3       4\n",
       "3  FG002    1      3       1       4\n",
       "4  FG003    1      3       3       4"
      ]
     },
     "execution_count": 126,
     "metadata": {},
     "output_type": "execute_result"
    }
   ],
   "source": [
    "sliced_df.iloc[0:5,0:5]"
   ]
  },
  {
   "cell_type": "code",
   "execution_count": 127,
   "metadata": {
    "collapsed": false
   },
   "outputs": [],
   "source": [
    "sliced_df.to_csv('test.txt', sep=\" \", index=False)"
   ]
  },
  {
   "cell_type": "markdown",
   "metadata": {},
   "source": [
    "I thought it would be easy to format correctly in a text editor, but it wasn't. Going to do that here!"
   ]
  },
  {
   "cell_type": "code",
   "execution_count": 128,
   "metadata": {
    "collapsed": true
   },
   "outputs": [],
   "source": [
    "test_text = open('test.txt', 'r')\n",
    "test_text_lines = test_text.readlines()\n",
    "test_text.close()"
   ]
  },
  {
   "cell_type": "code",
   "execution_count": 129,
   "metadata": {
    "collapsed": true
   },
   "outputs": [],
   "source": [
    "string_for_file = \"\"\n",
    "\n",
    "for line in test_text_lines:\n",
    "    linelist = line.strip().split()\n",
    "    thisline = \"\"\n",
    "    thisline += linelist[0] + \"\\t\" + linelist[1] + \"\\t\" # stick sample and pop name back in\n",
    "    for item in linelist[2:]:\n",
    "        thisline += item + \" \" # stick genotypes in\n",
    "    thisline = thisline[:-1] # remove last space\n",
    "    string_for_file += thisline + \"\\n\"\n",
    "\n",
    "ftest = open(\"full_formatted_test.txt\",\"w\")\n",
    "ftest.write(string_for_file)\n",
    "ftest.close()"
   ]
  },
  {
   "cell_type": "markdown",
   "metadata": {},
   "source": [
    "Then I manually pulled out \"sample\" and \"pop\" from the header in a text editor, and it's fully formated back to Structure format!\n",
    "\n",
    "Also, I haven't yet filtered for minor allele frequency. I wonder how easy that would be in pandas, since it operates by column. Let's find out!"
   ]
  },
  {
   "cell_type": "code",
   "execution_count": 131,
   "metadata": {
    "collapsed": false
   },
   "outputs": [
    {
     "data": {
      "text/html": [
       "<div>\n",
       "<style>\n",
       "    .dataframe thead tr:only-child th {\n",
       "        text-align: right;\n",
       "    }\n",
       "\n",
       "    .dataframe thead th {\n",
       "        text-align: left;\n",
       "    }\n",
       "\n",
       "    .dataframe tbody tr th {\n",
       "        vertical-align: top;\n",
       "    }\n",
       "</style>\n",
       "<table border=\"1\" class=\"dataframe\">\n",
       "  <thead>\n",
       "    <tr style=\"text-align: right;\">\n",
       "      <th></th>\n",
       "      <th>Sample</th>\n",
       "      <th>Pop</th>\n",
       "      <th>SNP_1</th>\n",
       "      <th>SNP_11</th>\n",
       "      <th>SNP_30</th>\n",
       "      <th>SNP_41</th>\n",
       "      <th>SNP_61</th>\n",
       "      <th>SNP_71</th>\n",
       "      <th>SNP_83</th>\n",
       "    </tr>\n",
       "  </thead>\n",
       "  <tbody>\n",
       "    <tr>\n",
       "      <th>0</th>\n",
       "      <td>FG001</td>\n",
       "      <td>1</td>\n",
       "      <td>3</td>\n",
       "      <td>3</td>\n",
       "      <td>4</td>\n",
       "      <td>1</td>\n",
       "      <td>3</td>\n",
       "      <td>2</td>\n",
       "      <td>4</td>\n",
       "    </tr>\n",
       "    <tr>\n",
       "      <th>1</th>\n",
       "      <td>FG001</td>\n",
       "      <td>1</td>\n",
       "      <td>3</td>\n",
       "      <td>3</td>\n",
       "      <td>4</td>\n",
       "      <td>1</td>\n",
       "      <td>3</td>\n",
       "      <td>2</td>\n",
       "      <td>4</td>\n",
       "    </tr>\n",
       "    <tr>\n",
       "      <th>2</th>\n",
       "      <td>FG002</td>\n",
       "      <td>1</td>\n",
       "      <td>3</td>\n",
       "      <td>3</td>\n",
       "      <td>4</td>\n",
       "      <td>1</td>\n",
       "      <td>3</td>\n",
       "      <td>2</td>\n",
       "      <td>4</td>\n",
       "    </tr>\n",
       "    <tr>\n",
       "      <th>3</th>\n",
       "      <td>FG002</td>\n",
       "      <td>1</td>\n",
       "      <td>3</td>\n",
       "      <td>1</td>\n",
       "      <td>4</td>\n",
       "      <td>1</td>\n",
       "      <td>3</td>\n",
       "      <td>2</td>\n",
       "      <td>4</td>\n",
       "    </tr>\n",
       "    <tr>\n",
       "      <th>4</th>\n",
       "      <td>FG003</td>\n",
       "      <td>1</td>\n",
       "      <td>3</td>\n",
       "      <td>3</td>\n",
       "      <td>4</td>\n",
       "      <td>1</td>\n",
       "      <td>3</td>\n",
       "      <td>2</td>\n",
       "      <td>4</td>\n",
       "    </tr>\n",
       "    <tr>\n",
       "      <th>5</th>\n",
       "      <td>FG003</td>\n",
       "      <td>1</td>\n",
       "      <td>3</td>\n",
       "      <td>3</td>\n",
       "      <td>4</td>\n",
       "      <td>1</td>\n",
       "      <td>3</td>\n",
       "      <td>2</td>\n",
       "      <td>4</td>\n",
       "    </tr>\n",
       "    <tr>\n",
       "      <th>6</th>\n",
       "      <td>FG004</td>\n",
       "      <td>1</td>\n",
       "      <td>3</td>\n",
       "      <td>3</td>\n",
       "      <td>4</td>\n",
       "      <td>1</td>\n",
       "      <td>3</td>\n",
       "      <td>2</td>\n",
       "      <td>4</td>\n",
       "    </tr>\n",
       "    <tr>\n",
       "      <th>7</th>\n",
       "      <td>FG004</td>\n",
       "      <td>1</td>\n",
       "      <td>3</td>\n",
       "      <td>1</td>\n",
       "      <td>1</td>\n",
       "      <td>1</td>\n",
       "      <td>3</td>\n",
       "      <td>2</td>\n",
       "      <td>4</td>\n",
       "    </tr>\n",
       "    <tr>\n",
       "      <th>8</th>\n",
       "      <td>FG005</td>\n",
       "      <td>1</td>\n",
       "      <td>3</td>\n",
       "      <td>3</td>\n",
       "      <td>4</td>\n",
       "      <td>1</td>\n",
       "      <td>3</td>\n",
       "      <td>-9</td>\n",
       "      <td>-9</td>\n",
       "    </tr>\n",
       "  </tbody>\n",
       "</table>\n",
       "</div>"
      ],
      "text/plain": [
       "  Sample  Pop  SNP_1  SNP_11  SNP_30  SNP_41  SNP_61  SNP_71  SNP_83\n",
       "0  FG001    1      3       3       4       1       3       2       4\n",
       "1  FG001    1      3       3       4       1       3       2       4\n",
       "2  FG002    1      3       3       4       1       3       2       4\n",
       "3  FG002    1      3       1       4       1       3       2       4\n",
       "4  FG003    1      3       3       4       1       3       2       4\n",
       "5  FG003    1      3       3       4       1       3       2       4\n",
       "6  FG004    1      3       3       4       1       3       2       4\n",
       "7  FG004    1      3       1       1       1       3       2       4\n",
       "8  FG005    1      3       3       4       1       3      -9      -9"
      ]
     },
     "execution_count": 131,
     "metadata": {},
     "output_type": "execute_result"
    }
   ],
   "source": [
    "sliced_df.iloc[0:9,0:9]"
   ]
  },
  {
   "cell_type": "code",
   "execution_count": 151,
   "metadata": {
    "collapsed": false
   },
   "outputs": [
    {
     "name": "stdout",
     "output_type": "stream",
     "text": [
      "SNP_1\n",
      "SNP_11\n",
      "SNP_30\n",
      "SNP_41\n",
      "SNP_61\n",
      "SNP_71\n",
      "SNP_83\n",
      "SNP_89\n",
      "SNP_92\n",
      "SNP_97\n",
      "SNP_102\n",
      "SNP_118\n",
      "SNP_136\n",
      "SNP_151\n",
      "SNP_158\n",
      "SNP_167\n",
      "SNP_186\n",
      "SNP_203\n",
      "SNP_216\n",
      "SNP_218\n",
      "SNP_232\n",
      "SNP_250\n",
      "SNP_255\n",
      "SNP_258\n",
      "SNP_277\n",
      "SNP_294\n",
      "SNP_298\n",
      "SNP_317\n",
      "SNP_325\n",
      "SNP_342\n",
      "SNP_352\n",
      "SNP_366\n",
      "SNP_386\n",
      "SNP_390\n",
      "SNP_398\n",
      "SNP_403\n",
      "SNP_413\n",
      "SNP_429\n",
      "SNP_444\n",
      "SNP_453\n",
      "SNP_462\n",
      "SNP_472\n",
      "SNP_480\n",
      "SNP_487\n",
      "SNP_498\n",
      "SNP_516\n",
      "SNP_520\n",
      "SNP_525\n",
      "SNP_527\n",
      "SNP_538\n",
      "SNP_551\n",
      "SNP_565\n",
      "SNP_570\n",
      "SNP_588\n",
      "SNP_604\n",
      "SNP_615\n",
      "SNP_627\n",
      "SNP_644\n",
      "SNP_649\n",
      "SNP_664\n",
      "SNP_680\n",
      "SNP_686\n",
      "SNP_701\n",
      "SNP_717\n",
      "SNP_726\n",
      "SNP_743\n",
      "SNP_762\n",
      "SNP_781\n",
      "SNP_788\n",
      "SNP_804\n",
      "SNP_818\n",
      "SNP_832\n",
      "SNP_849\n",
      "SNP_854\n",
      "SNP_863\n",
      "SNP_871\n",
      "SNP_887\n",
      "SNP_900\n",
      "SNP_915\n",
      "SNP_925\n",
      "SNP_944\n",
      "SNP_960\n",
      "SNP_970\n",
      "SNP_974\n",
      "SNP_982\n",
      "SNP_992\n",
      "SNP_999\n",
      "SNP_1010\n",
      "SNP_1022\n",
      "SNP_1038\n",
      "SNP_1045\n",
      "SNP_1051\n",
      "SNP_1058\n",
      "SNP_1068\n",
      "SNP_1072\n",
      "SNP_1089\n",
      "SNP_1104\n",
      "SNP_1106\n",
      "SNP_1116\n",
      "SNP_1132\n",
      "SNP_1147\n",
      "SNP_1150\n",
      "SNP_1158\n",
      "SNP_1177\n",
      "SNP_1192\n",
      "SNP_1198\n",
      "SNP_1217\n",
      "SNP_1224\n",
      "SNP_1237\n",
      "SNP_1245\n",
      "SNP_1254\n",
      "SNP_1267\n",
      "SNP_1286\n",
      "SNP_1297\n",
      "SNP_1300\n",
      "SNP_1310\n",
      "SNP_1326\n",
      "SNP_1342\n",
      "SNP_1349\n",
      "SNP_1350\n",
      "SNP_1355\n",
      "SNP_1365\n",
      "SNP_1378\n",
      "SNP_1391\n",
      "SNP_1395\n",
      "SNP_1398\n",
      "SNP_1405\n",
      "SNP_1425\n",
      "SNP_1439\n",
      "SNP_1451\n",
      "SNP_1465\n",
      "SNP_1484\n",
      "SNP_1485\n",
      "SNP_1501\n",
      "SNP_1513\n",
      "SNP_1524\n",
      "SNP_1531\n",
      "SNP_1541\n",
      "SNP_1558\n",
      "SNP_1575\n",
      "SNP_1594\n",
      "SNP_1595\n",
      "SNP_1613\n",
      "SNP_1631\n",
      "SNP_1647\n",
      "SNP_1657\n",
      "SNP_1664\n",
      "SNP_1684\n",
      "SNP_1698\n",
      "SNP_1713\n",
      "SNP_1720\n",
      "SNP_1740\n",
      "SNP_1747\n",
      "SNP_1764\n",
      "SNP_1779\n",
      "SNP_1793\n",
      "SNP_1798\n",
      "SNP_1805\n",
      "SNP_1817\n",
      "SNP_1836\n",
      "SNP_1845\n",
      "SNP_1862\n",
      "SNP_1865\n",
      "SNP_1876\n",
      "SNP_1887\n",
      "SNP_1903\n",
      "SNP_1906\n",
      "SNP_1920\n",
      "SNP_1930\n",
      "SNP_1935\n",
      "SNP_1954\n",
      "SNP_1972\n",
      "SNP_1991\n",
      "SNP_2003\n",
      "SNP_2007\n",
      "SNP_2025\n",
      "SNP_2033\n",
      "SNP_2043\n",
      "SNP_2056\n",
      "SNP_2076\n",
      "SNP_2091\n",
      "SNP_2096\n",
      "SNP_2109\n",
      "SNP_2126\n",
      "SNP_2135\n",
      "SNP_2144\n",
      "SNP_2160\n",
      "SNP_2172\n",
      "SNP_2182\n",
      "SNP_2189\n",
      "SNP_2208\n",
      "SNP_2223\n",
      "SNP_2243\n",
      "SNP_2263\n",
      "SNP_2266\n",
      "SNP_2280\n",
      "SNP_2300\n",
      "SNP_2313\n",
      "SNP_2333\n",
      "SNP_2352\n",
      "SNP_2368\n",
      "SNP_2379\n",
      "SNP_2394\n",
      "SNP_2404\n",
      "SNP_2424\n",
      "SNP_2432\n",
      "SNP_2444\n",
      "SNP_2453\n",
      "SNP_2456\n",
      "SNP_2472\n",
      "SNP_2489\n",
      "SNP_2493\n",
      "SNP_2501\n",
      "SNP_2520\n",
      "SNP_2523\n",
      "SNP_2536\n",
      "SNP_2555\n",
      "SNP_2570\n",
      "SNP_2583\n",
      "SNP_2602\n",
      "SNP_2616\n",
      "SNP_2628\n",
      "SNP_2647\n",
      "SNP_2650\n",
      "SNP_2669\n",
      "SNP_2680\n",
      "SNP_2686\n",
      "SNP_2700\n",
      "SNP_2704\n",
      "SNP_2710\n",
      "SNP_2729\n",
      "SNP_2736\n",
      "SNP_2749\n",
      "SNP_2767\n",
      "SNP_2786\n",
      "SNP_2800\n",
      "SNP_2807\n",
      "SNP_2809\n",
      "SNP_2827\n",
      "SNP_2837\n",
      "SNP_2855\n",
      "SNP_2864\n",
      "SNP_2872\n",
      "SNP_2884\n",
      "SNP_2892\n",
      "SNP_2897\n",
      "SNP_2904\n",
      "SNP_2905\n",
      "SNP_2907\n",
      "SNP_2916\n",
      "SNP_2921\n",
      "SNP_2929\n",
      "SNP_2932\n",
      "SNP_2940\n",
      "SNP_2958\n",
      "SNP_2977\n",
      "SNP_2983\n",
      "SNP_2988\n",
      "SNP_3001\n",
      "SNP_3015\n",
      "SNP_3026\n",
      "SNP_3046\n",
      "SNP_3056\n",
      "SNP_3066\n",
      "SNP_3081\n",
      "SNP_3096\n",
      "SNP_3112\n",
      "SNP_3125\n",
      "SNP_3140\n",
      "SNP_3152\n",
      "SNP_3164\n",
      "SNP_3179\n",
      "SNP_3192\n",
      "SNP_3207\n",
      "SNP_3214\n",
      "SNP_3229\n",
      "SNP_3241\n",
      "SNP_3253\n",
      "SNP_3259\n",
      "SNP_3263\n",
      "SNP_3281\n",
      "SNP_3284\n",
      "SNP_3292\n",
      "SNP_3307\n",
      "SNP_3325\n",
      "SNP_3328\n",
      "SNP_3333\n",
      "SNP_3349\n",
      "SNP_3367\n",
      "SNP_3381\n",
      "SNP_3401\n",
      "SNP_3411\n",
      "SNP_3427\n",
      "SNP_3436\n",
      "SNP_3443\n",
      "SNP_3448\n",
      "SNP_3465\n",
      "SNP_3477\n",
      "SNP_3482\n",
      "SNP_3483\n",
      "SNP_3503\n",
      "SNP_3505\n",
      "SNP_3510\n",
      "SNP_3516\n",
      "SNP_3528\n",
      "SNP_3543\n",
      "SNP_3561\n",
      "SNP_3581\n",
      "SNP_3590\n",
      "SNP_3602\n",
      "SNP_3615\n",
      "SNP_3635\n",
      "SNP_3643\n",
      "SNP_3658\n",
      "SNP_3671\n",
      "SNP_3691\n",
      "SNP_3704\n",
      "SNP_3712\n",
      "SNP_3724\n",
      "SNP_3742\n",
      "SNP_3753\n",
      "SNP_3767\n",
      "SNP_3783\n",
      "SNP_3803\n",
      "SNP_3814\n",
      "SNP_3822\n",
      "SNP_3832\n",
      "SNP_3851\n",
      "SNP_3866\n",
      "SNP_3869\n",
      "SNP_3884\n",
      "SNP_3899\n",
      "SNP_3906\n",
      "SNP_3917\n",
      "SNP_3926\n",
      "SNP_3934\n",
      "SNP_3945\n",
      "SNP_3961\n",
      "SNP_3977\n",
      "SNP_3996\n",
      "SNP_3998\n",
      "SNP_4003\n",
      "SNP_4021\n",
      "SNP_4041\n",
      "SNP_4053\n",
      "SNP_4055\n",
      "SNP_4064\n",
      "SNP_4080\n",
      "SNP_4088\n",
      "SNP_4095\n",
      "SNP_4108\n",
      "SNP_4126\n",
      "SNP_4143\n",
      "SNP_4162\n",
      "SNP_4176\n",
      "SNP_4185\n",
      "SNP_4202\n",
      "SNP_4222\n",
      "SNP_4240\n",
      "SNP_4257\n",
      "SNP_4267\n",
      "SNP_4279\n",
      "SNP_4292\n",
      "SNP_4310\n",
      "SNP_4320\n",
      "SNP_4335\n",
      "SNP_4343\n",
      "SNP_4352\n",
      "SNP_4362\n",
      "SNP_4378\n",
      "SNP_4393\n",
      "SNP_4399\n",
      "SNP_4406\n",
      "SNP_4416\n",
      "SNP_4425\n",
      "SNP_4433\n",
      "SNP_4446\n",
      "SNP_4459\n",
      "SNP_4466\n",
      "SNP_4481\n",
      "SNP_4501\n",
      "SNP_4513\n",
      "SNP_4517\n",
      "SNP_4520\n",
      "SNP_4535\n",
      "SNP_4543\n",
      "SNP_4555\n",
      "SNP_4568\n",
      "SNP_4587\n",
      "SNP_4588\n",
      "SNP_4593\n",
      "SNP_4599\n",
      "SNP_4611\n",
      "SNP_4622\n",
      "SNP_4639\n",
      "SNP_4647\n",
      "SNP_4649\n",
      "SNP_4652\n",
      "SNP_4664\n",
      "SNP_4677\n",
      "SNP_4683\n",
      "SNP_4695\n",
      "SNP_4713\n",
      "SNP_4720\n",
      "SNP_4736\n",
      "SNP_4751\n",
      "SNP_4769\n",
      "SNP_4787\n",
      "SNP_4793\n",
      "SNP_4800\n",
      "SNP_4818\n",
      "SNP_4829\n",
      "SNP_4839\n",
      "SNP_4841\n",
      "SNP_4849\n",
      "SNP_4860\n",
      "SNP_4879\n",
      "SNP_4883\n",
      "SNP_4893\n",
      "SNP_4912\n",
      "SNP_4925\n",
      "SNP_4945\n",
      "SNP_4964\n",
      "SNP_4974\n",
      "SNP_4983\n",
      "SNP_4989\n",
      "SNP_4994\n",
      "SNP_5007\n",
      "SNP_5014\n",
      "SNP_5025\n",
      "SNP_5039\n",
      "SNP_5057\n",
      "SNP_5070\n",
      "SNP_5082\n",
      "SNP_5099\n",
      "SNP_5110\n",
      "SNP_5126\n",
      "SNP_5136\n",
      "SNP_5144\n",
      "SNP_5153\n",
      "SNP_5160\n",
      "SNP_5173\n",
      "SNP_5190\n",
      "SNP_5201\n",
      "SNP_5212\n",
      "SNP_5216\n",
      "SNP_5222\n",
      "SNP_5231\n",
      "SNP_5250\n",
      "SNP_5270\n",
      "SNP_5277\n",
      "SNP_5292\n",
      "SNP_5298\n",
      "SNP_5303\n",
      "SNP_5304\n",
      "SNP_5313\n",
      "SNP_5319\n",
      "SNP_5337\n",
      "SNP_5347\n",
      "SNP_5349\n",
      "SNP_5357\n",
      "SNP_5362\n",
      "SNP_5380\n",
      "SNP_5388\n",
      "SNP_5406\n",
      "SNP_5415\n",
      "SNP_5425\n",
      "SNP_5439\n",
      "SNP_5447\n",
      "SNP_5460\n",
      "SNP_5462\n",
      "SNP_5474\n",
      "SNP_5482\n",
      "SNP_5494\n",
      "SNP_5504\n",
      "SNP_5518\n",
      "SNP_5536\n",
      "SNP_5547\n",
      "SNP_5567\n",
      "SNP_5575\n",
      "SNP_5595\n",
      "SNP_5605\n",
      "SNP_5621\n",
      "SNP_5635\n",
      "SNP_5647\n",
      "SNP_5655\n",
      "SNP_5663\n",
      "SNP_5681\n",
      "SNP_5687\n",
      "SNP_5696\n",
      "SNP_5705\n",
      "SNP_5709\n",
      "SNP_5711\n",
      "SNP_5724\n",
      "SNP_5741\n",
      "SNP_5751\n",
      "SNP_5758\n",
      "SNP_5771\n",
      "SNP_5780\n",
      "SNP_5784\n",
      "SNP_5802\n",
      "SNP_5807\n",
      "SNP_5823\n",
      "SNP_5841\n",
      "SNP_5845\n",
      "SNP_5851\n",
      "SNP_5856\n",
      "SNP_5867\n",
      "SNP_5873\n",
      "SNP_5878\n",
      "SNP_5889\n",
      "SNP_5896\n",
      "SNP_5911\n",
      "SNP_5923\n",
      "SNP_5934\n",
      "SNP_5937\n",
      "SNP_5955\n",
      "SNP_5962\n",
      "SNP_5974\n",
      "SNP_5984\n",
      "SNP_5995\n",
      "SNP_6005\n",
      "SNP_6018\n",
      "SNP_6032\n",
      "SNP_6045\n",
      "SNP_6053\n",
      "SNP_6063\n",
      "SNP_6071\n",
      "SNP_6086\n",
      "SNP_6088\n",
      "SNP_6096\n",
      "SNP_6113\n",
      "SNP_6128\n",
      "SNP_6138\n",
      "SNP_6146\n",
      "SNP_6165\n",
      "SNP_6177\n",
      "SNP_6192\n",
      "SNP_6200\n",
      "SNP_6207\n",
      "SNP_6226\n",
      "SNP_6234\n",
      "SNP_6251\n",
      "SNP_6257\n",
      "SNP_6267\n",
      "SNP_6272\n",
      "SNP_6273\n",
      "SNP_6290\n",
      "SNP_6307\n",
      "SNP_6320\n",
      "SNP_6336\n",
      "SNP_6340\n",
      "SNP_6357\n",
      "SNP_6362\n",
      "SNP_6380\n",
      "SNP_6390\n",
      "SNP_6408\n",
      "SNP_6421\n",
      "SNP_6440\n",
      "SNP_6459\n",
      "SNP_6475\n",
      "SNP_6476\n",
      "SNP_6483\n",
      "SNP_6493\n",
      "SNP_6508\n",
      "SNP_6527\n",
      "SNP_6535\n",
      "SNP_6538\n",
      "SNP_6553\n",
      "SNP_6558\n",
      "SNP_6564\n",
      "SNP_6570\n",
      "SNP_6582\n",
      "SNP_6594\n",
      "SNP_6608\n",
      "SNP_6618\n",
      "SNP_6620\n",
      "SNP_6623\n",
      "SNP_6641\n",
      "SNP_6647\n",
      "SNP_6655\n",
      "SNP_6669\n",
      "SNP_6672\n",
      "SNP_6686\n",
      "SNP_6690\n",
      "SNP_6703\n",
      "SNP_6719\n",
      "SNP_6737\n",
      "SNP_6755\n",
      "SNP_6769\n",
      "SNP_6777\n",
      "SNP_6781\n",
      "SNP_6800\n",
      "SNP_6814\n",
      "SNP_6817\n",
      "SNP_6836\n",
      "SNP_6843\n",
      "SNP_6856\n",
      "SNP_6869\n",
      "SNP_6886\n",
      "SNP_6905\n",
      "SNP_6924\n",
      "SNP_6939\n",
      "SNP_6947\n",
      "SNP_6955\n",
      "SNP_6962\n",
      "SNP_6976\n",
      "SNP_6989\n",
      "SNP_7006\n",
      "SNP_7015\n",
      "SNP_7029\n",
      "SNP_7037\n",
      "SNP_7041\n",
      "SNP_7051\n",
      "SNP_7063\n",
      "SNP_7082\n",
      "SNP_7096\n",
      "SNP_7101\n",
      "SNP_7115\n",
      "SNP_7123\n",
      "SNP_7128\n",
      "SNP_7134\n",
      "SNP_7154\n",
      "SNP_7169\n",
      "SNP_7180\n",
      "SNP_7193\n",
      "SNP_7212\n",
      "SNP_7229\n",
      "SNP_7237\n",
      "SNP_7253\n",
      "SNP_7257\n",
      "SNP_7258\n",
      "SNP_7277\n",
      "SNP_7289\n",
      "SNP_7301\n",
      "SNP_7306\n",
      "SNP_7311\n",
      "SNP_7328\n",
      "SNP_7329\n",
      "SNP_7345\n",
      "SNP_7351\n",
      "SNP_7362\n",
      "SNP_7374\n",
      "SNP_7378\n",
      "SNP_7390\n",
      "SNP_7397\n",
      "SNP_7407\n",
      "SNP_7415\n",
      "SNP_7427\n",
      "SNP_7438\n",
      "SNP_7443\n",
      "SNP_7456\n",
      "SNP_7460\n",
      "SNP_7469\n",
      "SNP_7477\n",
      "SNP_7481\n",
      "SNP_7487\n",
      "SNP_7501\n",
      "SNP_7515\n",
      "SNP_7534\n",
      "SNP_7554\n",
      "SNP_7566\n",
      "SNP_7572\n",
      "SNP_7589\n",
      "SNP_7600\n",
      "SNP_7615\n",
      "SNP_7628\n",
      "SNP_7646\n",
      "SNP_7652\n",
      "SNP_7666\n",
      "SNP_7672\n",
      "SNP_7692\n",
      "SNP_7704\n",
      "SNP_7723\n",
      "SNP_7735\n",
      "SNP_7754\n",
      "SNP_7756\n",
      "SNP_7767\n",
      "SNP_7785\n",
      "SNP_7797\n",
      "SNP_7810\n",
      "SNP_7829\n",
      "SNP_7847\n",
      "SNP_7860\n",
      "SNP_7862\n",
      "SNP_7881\n",
      "SNP_7889\n",
      "SNP_7907\n",
      "SNP_7926\n",
      "SNP_7943\n",
      "SNP_7945\n",
      "SNP_7948\n",
      "SNP_7951\n",
      "SNP_7970\n",
      "SNP_7978\n",
      "SNP_7997\n",
      "SNP_8003\n",
      "SNP_8020\n",
      "SNP_8028\n",
      "SNP_8043\n",
      "SNP_8063\n",
      "SNP_8077\n",
      "SNP_8088\n",
      "SNP_8092\n",
      "SNP_8106\n",
      "SNP_8126\n",
      "SNP_8136\n",
      "SNP_8138\n",
      "SNP_8153\n",
      "SNP_8164\n",
      "SNP_8170\n",
      "SNP_8185\n",
      "SNP_8203\n",
      "SNP_8206\n",
      "SNP_8219\n",
      "SNP_8230\n",
      "SNP_8242\n",
      "SNP_8259\n",
      "SNP_8263\n",
      "SNP_8274\n",
      "SNP_8294\n",
      "SNP_8310\n",
      "SNP_8320\n",
      "SNP_8337\n",
      "SNP_8338\n",
      "SNP_8342\n",
      "SNP_8361\n",
      "SNP_8373\n",
      "SNP_8379\n",
      "SNP_8396\n",
      "SNP_8403\n",
      "SNP_8423\n",
      "SNP_8430\n",
      "SNP_8448\n",
      "SNP_8456\n",
      "SNP_8466\n",
      "SNP_8484\n",
      "SNP_8495\n",
      "SNP_8503\n",
      "SNP_8513\n",
      "SNP_8529\n",
      "SNP_8532\n",
      "SNP_8535\n",
      "SNP_8543\n",
      "SNP_8548\n",
      "SNP_8563\n",
      "SNP_8583\n",
      "SNP_8590\n",
      "SNP_8606\n",
      "SNP_8618\n",
      "SNP_8630\n",
      "SNP_8635\n",
      "SNP_8653\n",
      "SNP_8669\n",
      "SNP_8688\n",
      "SNP_8707\n",
      "SNP_8725\n",
      "SNP_8731\n",
      "SNP_8750\n",
      "SNP_8768\n",
      "SNP_8784\n",
      "SNP_8790\n",
      "SNP_8796\n",
      "SNP_8811\n",
      "SNP_8829\n",
      "SNP_8836\n",
      "SNP_8846\n",
      "SNP_8861\n",
      "SNP_8878\n",
      "SNP_8888\n",
      "SNP_8893\n",
      "SNP_8912\n",
      "SNP_8919\n",
      "SNP_8927\n",
      "SNP_8932\n",
      "SNP_8951\n",
      "SNP_8969\n",
      "SNP_8983\n",
      "SNP_8994\n",
      "SNP_9004\n",
      "SNP_9010\n",
      "SNP_9018\n",
      "SNP_9027\n",
      "SNP_9039\n",
      "SNP_9049\n",
      "SNP_9059\n",
      "SNP_9075\n",
      "SNP_9088\n",
      "SNP_9106\n",
      "SNP_9122\n",
      "SNP_9129\n",
      "SNP_9143\n",
      "SNP_9151\n",
      "SNP_9158\n",
      "SNP_9163\n",
      "SNP_9174\n",
      "SNP_9184\n",
      "SNP_9190\n",
      "SNP_9191\n",
      "SNP_9210\n",
      "SNP_9226\n",
      "SNP_9238\n",
      "SNP_9246\n",
      "SNP_9265\n",
      "SNP_9281\n",
      "SNP_9283\n",
      "SNP_9301\n",
      "SNP_9318\n",
      "SNP_9329\n",
      "SNP_9346\n",
      "SNP_9364\n",
      "SNP_9370\n",
      "SNP_9372\n",
      "SNP_9381\n",
      "SNP_9391\n",
      "SNP_9401\n",
      "SNP_9408\n",
      "SNP_9417\n",
      "SNP_9423\n",
      "SNP_9429\n",
      "SNP_9439\n",
      "SNP_9454\n",
      "SNP_9459\n",
      "SNP_9471\n",
      "SNP_9487\n",
      "SNP_9491\n",
      "SNP_9502\n",
      "SNP_9510\n",
      "SNP_9527\n",
      "SNP_9539\n",
      "SNP_9551\n",
      "SNP_9567\n",
      "SNP_9577\n",
      "SNP_9589\n",
      "SNP_9604\n",
      "SNP_9613\n",
      "SNP_9621\n",
      "SNP_9624\n",
      "SNP_9644\n",
      "SNP_9664\n",
      "SNP_9678\n",
      "SNP_9694\n",
      "SNP_9709\n",
      "SNP_9725\n",
      "SNP_9743\n",
      "SNP_9755\n",
      "SNP_9771\n",
      "SNP_9775\n",
      "SNP_9782\n",
      "SNP_9792\n",
      "SNP_9798\n",
      "SNP_9816\n",
      "SNP_9834\n",
      "SNP_9853\n",
      "SNP_9857\n",
      "SNP_9866\n",
      "SNP_9877\n",
      "SNP_9894\n",
      "SNP_9906\n",
      "SNP_9925\n",
      "SNP_9936\n",
      "SNP_9944\n",
      "SNP_9958\n",
      "SNP_9970\n",
      "SNP_9989\n",
      "SNP_9998\n",
      "SNP_10011\n",
      "SNP_10027\n",
      "SNP_10035\n",
      "SNP_10046\n",
      "SNP_10058\n",
      "SNP_10068\n",
      "SNP_10088\n",
      "SNP_10102\n",
      "SNP_10113\n",
      "SNP_10118\n",
      "SNP_10127\n",
      "SNP_10146\n",
      "SNP_10165\n",
      "SNP_10182\n",
      "SNP_10195\n",
      "SNP_10208\n",
      "SNP_10224\n",
      "SNP_10229\n",
      "SNP_10230\n",
      "SNP_10248\n",
      "SNP_10264\n",
      "SNP_10268\n",
      "SNP_10285\n",
      "SNP_10299\n",
      "SNP_10312\n",
      "SNP_10324\n",
      "SNP_10335\n",
      "SNP_10347\n",
      "SNP_10355\n",
      "SNP_10363\n",
      "SNP_10372\n",
      "SNP_10381\n",
      "SNP_10388\n",
      "SNP_10407\n",
      "SNP_10411\n",
      "SNP_10428\n",
      "SNP_10448\n",
      "SNP_10467\n",
      "SNP_10474\n",
      "SNP_10484\n",
      "SNP_10503\n",
      "SNP_10518\n",
      "SNP_10535\n",
      "SNP_10540\n",
      "SNP_10549\n",
      "SNP_10561\n",
      "SNP_10576\n",
      "SNP_10595\n",
      "SNP_10598\n",
      "SNP_10605\n",
      "SNP_10620\n",
      "SNP_10633\n",
      "SNP_10649\n",
      "SNP_10664\n",
      "SNP_10673\n",
      "SNP_10682\n",
      "SNP_10700\n",
      "SNP_10718\n",
      "SNP_10733\n",
      "SNP_10744\n",
      "SNP_10750\n",
      "SNP_10753\n",
      "SNP_10758\n",
      "SNP_10765\n",
      "SNP_10776\n",
      "SNP_10791\n",
      "SNP_10806\n",
      "SNP_10814\n",
      "SNP_10819\n",
      "SNP_10831\n",
      "SNP_10834\n",
      "SNP_10854\n",
      "SNP_10871\n",
      "SNP_10887\n",
      "SNP_10898\n",
      "SNP_10917\n",
      "SNP_10925\n",
      "SNP_10940\n",
      "SNP_10948\n",
      "SNP_10962\n",
      "SNP_10975\n",
      "SNP_10984\n",
      "SNP_10989\n",
      "SNP_10993\n",
      "SNP_11006\n",
      "SNP_11024\n",
      "SNP_11039\n",
      "SNP_11050\n",
      "SNP_11062\n",
      "SNP_11075\n",
      "SNP_11085\n",
      "SNP_11096\n",
      "SNP_11107\n",
      "SNP_11119\n",
      "SNP_11127\n",
      "SNP_11130\n",
      "SNP_11145\n",
      "SNP_11165\n",
      "SNP_11172\n",
      "SNP_11181\n",
      "SNP_11195\n",
      "SNP_11198\n",
      "SNP_11210\n",
      "SNP_11218\n",
      "SNP_11232\n",
      "SNP_11244\n",
      "SNP_11264\n",
      "SNP_11274\n",
      "SNP_11284\n",
      "SNP_11301\n",
      "SNP_11316\n",
      "SNP_11326\n",
      "SNP_11343\n",
      "SNP_11344\n",
      "SNP_11356\n",
      "SNP_11362\n",
      "SNP_11382\n",
      "SNP_11389\n",
      "SNP_11406\n",
      "SNP_11414\n",
      "SNP_11419\n",
      "SNP_11432\n",
      "SNP_11447\n",
      "SNP_11453\n",
      "SNP_11473\n",
      "SNP_11478\n",
      "SNP_11494\n",
      "SNP_11507\n",
      "SNP_11523\n",
      "SNP_11534\n",
      "SNP_11545\n",
      "SNP_11559\n",
      "SNP_11571\n",
      "SNP_11584\n",
      "SNP_11594\n",
      "SNP_11595\n",
      "SNP_11608\n",
      "SNP_11615\n",
      "SNP_11619\n",
      "SNP_11637\n",
      "SNP_11645\n",
      "SNP_11653\n",
      "SNP_11659\n",
      "SNP_11672\n",
      "SNP_11683\n",
      "SNP_11690\n",
      "SNP_11706\n",
      "SNP_11709\n",
      "SNP_11721\n",
      "SNP_11735\n",
      "SNP_11754\n",
      "SNP_11764\n",
      "SNP_11770\n",
      "SNP_11774\n",
      "SNP_11787\n",
      "SNP_11793\n",
      "SNP_11803\n",
      "SNP_11815\n",
      "SNP_11826\n",
      "SNP_11830\n",
      "SNP_11841\n",
      "SNP_11852\n",
      "SNP_11870\n",
      "SNP_11889\n",
      "SNP_11908\n",
      "SNP_11927\n",
      "SNP_11940\n",
      "SNP_11947\n",
      "SNP_11951\n",
      "SNP_11969\n",
      "SNP_11974\n",
      "SNP_11986\n",
      "SNP_11998\n",
      "SNP_12015\n",
      "SNP_12035\n",
      "SNP_12045\n",
      "SNP_12057\n",
      "SNP_12058\n",
      "SNP_12076\n",
      "SNP_12094\n",
      "SNP_12109\n",
      "SNP_12123\n",
      "SNP_12128\n",
      "SNP_12145\n",
      "SNP_12154\n",
      "SNP_12169\n",
      "SNP_12186\n",
      "SNP_12205\n",
      "SNP_12216\n",
      "SNP_12222\n",
      "SNP_12229\n",
      "SNP_12246\n",
      "SNP_12255\n",
      "SNP_12268\n",
      "SNP_12284\n",
      "SNP_12293\n",
      "SNP_12300\n",
      "SNP_12316\n",
      "SNP_12335\n",
      "SNP_12351\n",
      "SNP_12365\n",
      "SNP_12378\n",
      "SNP_12393\n",
      "SNP_12399\n",
      "SNP_12408\n",
      "SNP_12422\n",
      "SNP_12442\n",
      "SNP_12455\n",
      "SNP_12457\n",
      "SNP_12469\n",
      "SNP_12478\n",
      "SNP_12486\n",
      "SNP_12495\n",
      "SNP_12511\n",
      "SNP_12530\n",
      "SNP_12545\n",
      "SNP_12557\n",
      "SNP_12565\n",
      "SNP_12585\n",
      "SNP_12600\n",
      "SNP_12613\n",
      "SNP_12623\n",
      "SNP_12642\n",
      "SNP_12648\n",
      "SNP_12663\n",
      "SNP_12667\n",
      "SNP_12686\n",
      "SNP_12703\n",
      "SNP_12720\n",
      "SNP_12731\n",
      "SNP_12739\n",
      "SNP_12744\n",
      "SNP_12759\n",
      "SNP_12779\n",
      "SNP_12795\n",
      "SNP_12798\n",
      "SNP_12814\n",
      "SNP_12823\n",
      "SNP_12825\n",
      "SNP_12833\n",
      "SNP_12844\n",
      "SNP_12859\n",
      "SNP_12868\n",
      "SNP_12882\n",
      "SNP_12888\n",
      "SNP_12907\n",
      "SNP_12924\n",
      "SNP_12935\n",
      "SNP_12945\n",
      "SNP_12953\n",
      "SNP_12968\n",
      "SNP_12975\n",
      "SNP_12986\n",
      "SNP_12993\n",
      "SNP_13002\n",
      "SNP_13011\n",
      "SNP_13016\n",
      "SNP_13034\n",
      "SNP_13040\n",
      "SNP_13043\n",
      "SNP_13051\n",
      "SNP_13057\n",
      "SNP_13072\n",
      "SNP_13079\n",
      "SNP_13080\n",
      "SNP_13090\n",
      "SNP_13098\n",
      "SNP_13104\n",
      "SNP_13119\n",
      "SNP_13131\n",
      "SNP_13143\n",
      "SNP_13154\n",
      "SNP_13171\n",
      "SNP_13184\n",
      "SNP_13202\n",
      "SNP_13214\n",
      "SNP_13230\n",
      "SNP_13239\n",
      "SNP_13257\n",
      "SNP_13277\n",
      "SNP_13292\n",
      "SNP_13311\n",
      "SNP_13315\n",
      "SNP_13329\n",
      "SNP_13338\n",
      "SNP_13346\n",
      "SNP_13355\n",
      "SNP_13370\n",
      "SNP_13371\n",
      "SNP_13383\n",
      "SNP_13400\n",
      "SNP_13406\n",
      "SNP_13411\n",
      "SNP_13422\n",
      "SNP_13427\n",
      "SNP_13443\n",
      "SNP_13454\n",
      "SNP_13466\n",
      "SNP_13476\n",
      "SNP_13487\n",
      "SNP_13504\n",
      "SNP_13507\n",
      "SNP_13519\n",
      "SNP_13526\n",
      "SNP_13538\n",
      "SNP_13552\n",
      "SNP_13568\n",
      "SNP_13572\n",
      "SNP_13590\n",
      "SNP_13605\n",
      "SNP_13606\n",
      "SNP_13622\n",
      "SNP_13624\n",
      "SNP_13630\n",
      "SNP_13634\n",
      "SNP_13640\n",
      "SNP_13654\n",
      "SNP_13670\n",
      "SNP_13673\n",
      "SNP_13686\n",
      "SNP_13688\n",
      "SNP_13690\n",
      "SNP_13703\n",
      "SNP_13713\n",
      "SNP_13729\n",
      "SNP_13743\n",
      "SNP_13746\n",
      "SNP_13757\n",
      "SNP_13763\n",
      "SNP_13766\n",
      "SNP_13769\n",
      "SNP_13789\n",
      "SNP_13801\n",
      "SNP_13808\n",
      "SNP_13810\n",
      "SNP_13820\n",
      "SNP_13838\n",
      "SNP_13847\n",
      "SNP_13849\n",
      "SNP_13851\n",
      "SNP_13867\n",
      "SNP_13873\n",
      "SNP_13891\n",
      "SNP_13901\n",
      "SNP_13919\n",
      "SNP_13938\n",
      "SNP_13942\n",
      "SNP_13949\n",
      "SNP_13952\n",
      "SNP_13955\n",
      "SNP_13963\n",
      "SNP_13982\n",
      "SNP_14000\n",
      "SNP_14012\n",
      "SNP_14026\n",
      "SNP_14032\n",
      "SNP_14034\n",
      "SNP_14042\n",
      "SNP_14045\n",
      "SNP_14046\n",
      "SNP_14052\n",
      "SNP_14064\n",
      "SNP_14073\n",
      "SNP_14082\n",
      "SNP_14101\n",
      "SNP_14105\n",
      "SNP_14124\n",
      "SNP_14141\n",
      "SNP_14155\n",
      "SNP_14161\n",
      "SNP_14172\n",
      "SNP_14190\n",
      "SNP_14203\n",
      "SNP_14211\n",
      "SNP_14227\n",
      "SNP_14242\n",
      "SNP_14248\n",
      "SNP_14256\n",
      "SNP_14265\n",
      "SNP_14270\n",
      "SNP_14289\n",
      "SNP_14304\n",
      "SNP_14309\n",
      "SNP_14327\n",
      "SNP_14329\n",
      "SNP_14338\n",
      "SNP_14349\n",
      "SNP_14359\n",
      "SNP_14378\n",
      "SNP_14391\n",
      "SNP_14398\n",
      "SNP_14413\n",
      "SNP_14422\n",
      "SNP_14438\n",
      "SNP_14450\n",
      "SNP_14455\n",
      "SNP_14466\n",
      "SNP_14474\n",
      "SNP_14491\n",
      "SNP_14497\n",
      "SNP_14505\n",
      "SNP_14525\n",
      "SNP_14539\n",
      "SNP_14547\n",
      "SNP_14559\n",
      "SNP_14568\n",
      "SNP_14581\n",
      "SNP_14594\n",
      "SNP_14602\n",
      "SNP_14622\n",
      "SNP_14631\n",
      "SNP_14638\n",
      "SNP_14647\n",
      "SNP_14654\n",
      "SNP_14674\n",
      "SNP_14682\n",
      "SNP_14690\n",
      "SNP_14705\n",
      "SNP_14725\n",
      "SNP_14730\n",
      "SNP_14750\n",
      "SNP_14764\n",
      "SNP_14783\n",
      "SNP_14801\n",
      "SNP_14810\n",
      "SNP_14824\n",
      "SNP_14839\n",
      "SNP_14850\n",
      "SNP_14857\n",
      "SNP_14864\n",
      "SNP_14879\n",
      "SNP_14899\n",
      "SNP_14901\n",
      "SNP_14909\n",
      "SNP_14928\n",
      "SNP_14937\n",
      "SNP_14947\n",
      "SNP_14956\n",
      "SNP_14973\n",
      "SNP_14990\n",
      "SNP_15008\n",
      "SNP_15025\n",
      "SNP_15044\n",
      "SNP_15057\n",
      "SNP_15062\n",
      "SNP_15080\n",
      "SNP_15097\n",
      "SNP_15113\n",
      "SNP_15130\n",
      "SNP_15141\n",
      "SNP_15157\n",
      "SNP_15167\n",
      "SNP_15174\n",
      "SNP_15193\n",
      "SNP_15195\n",
      "SNP_15204\n",
      "SNP_15214\n",
      "SNP_15227\n",
      "SNP_15235\n",
      "SNP_15243\n",
      "SNP_15257\n",
      "SNP_15271\n",
      "SNP_15285\n",
      "SNP_15300\n",
      "SNP_15320\n",
      "SNP_15323\n",
      "SNP_15331\n",
      "SNP_15350\n",
      "SNP_15368\n",
      "SNP_15376\n",
      "SNP_15380\n",
      "SNP_15395\n",
      "SNP_15403\n",
      "SNP_15423\n",
      "SNP_15430\n",
      "SNP_15437\n",
      "SNP_15442\n",
      "SNP_15462\n",
      "SNP_15469\n",
      "SNP_15482\n",
      "SNP_15495\n",
      "SNP_15507\n",
      "SNP_15516\n",
      "SNP_15531\n",
      "SNP_15534\n",
      "SNP_15549\n",
      "SNP_15557\n",
      "SNP_15566\n",
      "SNP_15570\n",
      "SNP_15580\n",
      "SNP_15596\n",
      "SNP_15600\n",
      "SNP_15614\n",
      "SNP_15617\n",
      "SNP_15630\n",
      "SNP_15642\n",
      "SNP_15645\n",
      "SNP_15649\n",
      "SNP_15663\n",
      "SNP_15668\n",
      "SNP_15670\n",
      "SNP_15686\n",
      "SNP_15691\n",
      "SNP_15706\n",
      "SNP_15709\n",
      "SNP_15710\n",
      "SNP_15724\n",
      "SNP_15742\n",
      "SNP_15748\n",
      "SNP_15754\n",
      "SNP_15771\n",
      "SNP_15779\n",
      "SNP_15782\n",
      "SNP_15797\n",
      "SNP_15805\n",
      "SNP_15811\n",
      "SNP_15829\n",
      "SNP_15834\n",
      "SNP_15849\n",
      "SNP_15857\n",
      "SNP_15872\n",
      "SNP_15874\n",
      "SNP_15881\n",
      "SNP_15898\n",
      "SNP_15913\n",
      "SNP_15930\n",
      "SNP_15947\n",
      "SNP_15951\n",
      "SNP_15965\n",
      "SNP_15975\n",
      "SNP_15980\n",
      "SNP_15985\n",
      "SNP_15995\n",
      "SNP_15998\n",
      "SNP_16010\n",
      "SNP_16013\n",
      "SNP_16021\n",
      "SNP_16038\n",
      "SNP_16056\n",
      "SNP_16070\n",
      "SNP_16088\n",
      "SNP_16106\n",
      "SNP_16126\n",
      "SNP_16134\n",
      "SNP_16136\n",
      "SNP_16139\n",
      "SNP_16153\n",
      "SNP_16161\n",
      "SNP_16180\n",
      "SNP_16189\n",
      "SNP_16197\n",
      "SNP_16201\n",
      "SNP_16214\n",
      "SNP_16220\n",
      "SNP_16235\n",
      "SNP_16246\n",
      "SNP_16259\n",
      "SNP_16270\n",
      "SNP_16281\n",
      "SNP_16292\n",
      "SNP_16312\n",
      "SNP_16322\n",
      "SNP_16338\n",
      "SNP_16354\n",
      "SNP_16362\n",
      "SNP_16366\n",
      "SNP_16376\n",
      "SNP_16393\n",
      "SNP_16402\n",
      "SNP_16420\n",
      "SNP_16434\n",
      "SNP_16439\n",
      "SNP_16443\n",
      "SNP_16459\n",
      "SNP_16472\n"
     ]
    }
   ],
   "source": [
    "keep_snps_maf = []\n",
    "lose_snps_maf = []\n",
    "\n",
    "for col in sliced_df.iloc[:,2:]:\n",
    "    print col\n",
    "#     snp_dict = {}\n",
    "#     for allele in col[1:]:   \n",
    "#         if allele != -9 and allele not in snp_dict:\n",
    "#             snp_dict[allele] = 1\n",
    "#         elif allele != -9:\n",
    "#             snp_dict[allele] += 1\n",
    "#         if len(snp_dict.values()) > 2:\n",
    "#             print \"Danger, more than two alleles!\"\n",
    "\n"
   ]
  },
  {
   "cell_type": "code",
   "execution_count": 145,
   "metadata": {
    "collapsed": false
   },
   "outputs": [
    {
     "ename": "KeyError",
     "evalue": "4",
     "output_type": "error",
     "traceback": [
      "\u001b[0;31m---------------------------------------------------------------------------\u001b[0m",
      "\u001b[0;31mKeyError\u001b[0m                                  Traceback (most recent call last)",
      "\u001b[0;32m<ipython-input-145-e2b95af099e7>\u001b[0m in \u001b[0;36m<module>\u001b[0;34m()\u001b[0m\n\u001b[0;32m----> 1\u001b[0;31m \u001b[0msnp_dict\u001b[0m\u001b[0;34m[\u001b[0m\u001b[0;36m4\u001b[0m\u001b[0;34m]\u001b[0m\u001b[0;34m\u001b[0m\u001b[0m\n\u001b[0m",
      "\u001b[0;31mKeyError\u001b[0m: 4"
     ]
    }
   ],
   "source": [
    "snp_dict[4]"
   ]
  },
  {
   "cell_type": "markdown",
   "metadata": {},
   "source": [
    "#### Plot how many SNPs per tag straight out of ipyrad"
   ]
  },
  {
   "cell_type": "code",
   "execution_count": 41,
   "metadata": {
    "collapsed": false
   },
   "outputs": [
    {
     "name": "stdout",
     "output_type": "stream",
     "text": [
      "20\n"
     ]
    }
   ],
   "source": [
    "max_count = max(snp_count_dict.values())\n",
    "print max_count #check "
   ]
  },
  {
   "cell_type": "code",
   "execution_count": 42,
   "metadata": {
    "collapsed": false
   },
   "outputs": [
    {
     "data": {
      "image/png": "[encoded data removed]",
      "text/plain": [
       "<matplotlib.figure.Figure at 0x7fd13dd99250>"
      ]
     },
     "metadata": {},
     "output_type": "display_data"
    }
   ],
   "source": [
    "plt.hist(snp_count_dict.values(), bins=np.arange(0,max_count+1,1)-.5)\n",
    "plt.suptitle(\"Number of SNPs per RAD tag \\nafter filtering for max 20 SNPs in ipyrad\")\n",
    "plt.xlabel(\"Number of SNPs per RAD tag\")\n",
    "plt.ylabel(\"Frequency\")\n",
    "plt.show()"
   ]
  },
  {
   "cell_type": "markdown",
   "metadata": {
    "collapsed": true,
    "deletable": true,
    "editable": true
   },
   "source": [
    "## Exploratory Plots\n",
    "\n",
    "**20170620**"
   ]
  },
  {
   "cell_type": "code",
   "execution_count": null,
   "metadata": {
    "collapsed": true
   },
   "outputs": [],
   "source": []
  }
 ],
 "metadata": {
  "kernelspec": {
   "display_name": "Python 2",
   "language": "python",
   "name": "python2"
  },
  "language_info": {
   "codemirror_mode": {
    "name": "ipython",
    "version": 2
   },
   "file_extension": ".py",
   "mimetype": "text/x-python",
   "name": "python",
   "nbconvert_exporter": "python",
   "pygments_lexer": "ipython2",
   "version": "2.7.13"
  }
 },
 "nbformat": 4,
 "nbformat_minor": 2
}
