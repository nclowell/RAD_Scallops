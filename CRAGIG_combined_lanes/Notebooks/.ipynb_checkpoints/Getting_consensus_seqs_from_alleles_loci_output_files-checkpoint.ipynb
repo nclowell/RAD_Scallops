{
 "cells": [
  {
   "cell_type": "markdown",
   "metadata": {},
   "source": [
    "## Getting consensus sequences from alleles.loci files\n",
    "\n",
    "**20170717**\n",
    "\n",
    "I want to build a FASTA file that has the most common allele per locus across my RAD data, to use as a \"reference genome\" in ipyrad. I'm going to put together that code in this notebook, and ultimately put it into a script that I can reuse."
   ]
  },
  {
   "cell_type": "code",
   "execution_count": 4,
   "metadata": {
    "collapsed": false
   },
   "outputs": [
    {
     "name": "stdout",
     "output_type": "stream",
     "text": [
      "/mnt/hgfs/SHARED_FOLDER\n"
     ]
    }
   ],
   "source": [
    "cd /mnt/hgfs/SHARED_FOLDER"
   ]
  },
  {
   "cell_type": "code",
   "execution_count": 13,
   "metadata": {
    "collapsed": true
   },
   "outputs": [],
   "source": [
    "# get blocks of alleles separated by locus\n",
    "test = open(\"test_all_loci.txt\",\"r\")\n",
    "blocks = []\n",
    "b = []\n",
    "for line in test:\n",
    "    if line.startswith('//'):\n",
    "        if len(b) > 0:\n",
    "            b.append(line)\n",
    "            blocks.append(b)\n",
    "        b = []\n",
    "    else:\n",
    "          b.append(line)\n",
    "test.close()"
   ]
  },
  {
   "cell_type": "code",
   "execution_count": 14,
   "metadata": {
    "collapsed": false
   },
   "outputs": [],
   "source": [
    "# get index of starting base\n",
    "firstline = blocks[0][0].strip()\n",
    "\n",
    "# define function gets indeces of every time character appears in string\n",
    "def find(s, ch):\n",
    "    return [i for i, ltr in enumerate(s) if ltr == ch]\n",
    "\n",
    "# get indeces of spaces in firstline\n",
    "base_start = find(firstline, \" \")[-1]+1"
   ]
  },
  {
   "cell_type": "code",
   "execution_count": 22,
   "metadata": {
    "collapsed": false
   },
   "outputs": [],
   "source": [
    "ex_hash = blocks[0][-1].strip()"
   ]
  },
  {
   "cell_type": "code",
   "execution_count": null,
   "metadata": {
    "collapsed": true
   },
   "outputs": [],
   "source": []
  }
 ],
 "metadata": {
  "kernelspec": {
   "display_name": "Python 2",
   "language": "python",
   "name": "python2"
  },
  "language_info": {
   "codemirror_mode": {
    "name": "ipython",
    "version": 2
   },
   "file_extension": ".py",
   "mimetype": "text/x-python",
   "name": "python",
   "nbconvert_exporter": "python",
   "pygments_lexer": "ipython2",
   "version": "2.7.13"
  }
 },
 "nbformat": 4,
 "nbformat_minor": 2
}
