{
 "cells": [
  {
   "cell_type": "markdown",
   "metadata": {
    "deletable": true,
    "editable": true
   },
   "source": [
    "## CRAGIG Runs 1 and 2 through ipyrad\n",
    "\n",
    "**20170605**\n",
    "\n",
    "I'm going to run all my current scallop RAD data through the ipyrad pipeline because as of yet I have only run it on ten samples at a time to get the hang of it and to see preliminary differences between Stacks and ipyrad.\n",
    "\n",
    "First, I need to demultiplex my two lanes of data. For each, I'll make a unique params file for each library and then I'll merge them together.\n",
    "\n",
    "The two params files will differ only in the location of the raw data fastq file and the barcodes files.\n",
    "\n",
    "cragig007 will be for CRAGIG_run1 and cragig008 will be for CRAGIG_run2\n",
    "\n",
    "This is what's in cragig007:"
   ]
  },
  {
   "cell_type": "code",
   "execution_count": 1,
   "metadata": {
    "collapsed": false,
    "deletable": true,
    "editable": true
   },
   "outputs": [
    {
     "name": "stdout",
     "output_type": "stream",
     "text": [
      "/mnt/hgfs/SHARED_FOLDER/Learn_iPyrad/CRAGIG_RUNS_12_py\n"
     ]
    }
   ],
   "source": [
    "cd /mnt/hgfs/SHARED_FOLDER/Learn_iPyrad/CRAGIG_RUNS_12_py"
   ]
  },
  {
   "cell_type": "code",
   "execution_count": 8,
   "metadata": {
    "collapsed": false,
    "deletable": true,
    "editable": true
   },
   "outputs": [
    {
     "name": "stdout",
     "output_type": "stream",
     "text": [
      "\u001b[0m\u001b[01;32mbarcodes_cragigrun1.txt\u001b[0m*  \u001b[01;32mparams-cragig007.txt\u001b[0m*\r\n",
      "\u001b[01;32mbarcodes_cragigrun2.txt\u001b[0m*  \u001b[01;32mpopmap_cragig007.txt\u001b[0m*\r\n"
     ]
    }
   ],
   "source": [
    "ls"
   ]
  },
  {
   "cell_type": "code",
   "execution_count": 11,
   "metadata": {
    "collapsed": false,
    "deletable": true,
    "editable": true,
    "scrolled": true
   },
   "outputs": [
    {
     "name": "stdout",
     "output_type": "stream",
     "text": [
      "------- ipyrad params file (v.0.6.20)-------------------------------------------\r\n",
      "cragig007                      ## [0] [assembly_name]: Assembly name. Used to name output directories for assembly steps\r\n",
      "./                             ## [1] [project_dir]: Project dir (made in curdir if not present)\r\n",
      "../../../Data/CRAGIG_RUN1_rawdata/161228_I137_FCHCYV5BBXX_L5_CHKPE85216120009_2.fq.gz                               ## [2] [raw_fastq_path]: Location of raw non-demultiplexed fastq files\r\n",
      "./barcodes_cragigrun1.txt     ## [3] [barcodes_path]: Location of barcodes file\r\n",
      "                              ## [4] [sorted_fastq_path]: Location of demultiplexed/sorted fastq files\r\n",
      "denovo                         ## [5] [assembly_method]: Assembly method (denovo, reference, denovo+reference, denovo-reference)\r\n",
      "                               ## [6] [reference_sequence]: Location of reference sequence file\r\n",
      "rad                            ## [7] [datatype]: Datatype (see docs): rad, gbs, ddrad, etc.\r\n",
      "TGCAGG,                         ## [8] [restriction_overhang]: Restriction overhang (cut1,) sbf1\r\n",
      "5                              ## [9] [max_low_qual_bases]: Max low quality base calls (Q<20) in a read\r\n",
      "33                             ## [10] [phred_Qscore_offset]: phred Q score offset (33 is default and very standard)\r\n",
      "10                              ## [11] [mindepth_statistical]: Min depth for statistical base calling\r\n",
      "10                              ## [12] [mindepth_majrule]: Min depth for majority-rule base calling\r\n",
      "5000                          ## [13] [maxdepth]: Max cluster depth within samples\r\n",
      "0.85                           ## [14] [clust_threshold]: Clustering threshold for de novo assembly\r\n",
      "0                              ## [15] [max_barcode_mismatch]: Max number of allowable mismatches in barcodes\r\n",
      "2                              ## [16] [filter_adapters]: Filter for adapters/primers (1 or 2=stricter)\r\n",
      "40                             ## [17] [filter_min_trim_len]: Min length of reads after adapter trim\r\n",
      "2                              ## [18] [max_alleles_consens]: Max alleles per site in consensus sequences\r\n",
      "5, 5                           ## [19] [max_Ns_consens]: Max N's (uncalled bases) in consensus (R1, R2)\r\n",
      "8, 8                           ## [20] [max_Hs_consens]: Max Hs (heterozygotes) in consensus (R1, R2)\r\n",
      "70                              ## [21] [min_samples_locus]: Min # samples per locus for output (total samples in run = 143)\r\n",
      "20, 20                         ## [22] [max_SNPs_locus]: Max # SNPs per locus (R1, R2)\r\n",
      "8, 8                           ## [23] [max_Indels_locus]: Max # of indels per locus (R1, R2)\r\n",
      "0.9                            ## [24] [max_shared_Hs_locus]: Max # heterozygous sites per locus (R1, R2)\r\n",
      "0, 0, 0, 0                     ## [25] [trim_reads]: Trim raw read edges (R1>, <R1, R2>, <R2) (see docs)\r\n",
      "0, 0, 0, 0                     ## [26] [trim_loci]: Trim locus edges (see docs) (R1>, <R1, R2>, <R2)\r\n",
      "*                              ## [27] [output_formats]: Output formats (see docs)\r\n",
      "/mnt/hgfs/SHARED_FOLDER/Learn_iPyrad/CRAGIG_RUN1_py/popmap_cragig007.txt                         ## [28] [pop_assign_file]: Path to population assignment file\r\n"
     ]
    }
   ],
   "source": [
    "!head -n 30 params-cragig007.txt"
   ]
  },
  {
   "cell_type": "code",
   "execution_count": 17,
   "metadata": {
    "collapsed": false,
    "deletable": true,
    "editable": true,
    "scrolled": true
   },
   "outputs": [
    {
     "name": "stdout",
     "output_type": "stream",
     "text": [
      "\n",
      " -------------------------------------------------------------\n",
      "  ipyrad [v.0.6.20]\n",
      "  Interactive assembly and analysis of RAD-seq data\n",
      " -------------------------------------------------------------\n",
      "\n",
      "  A new version of ipyrad is available (v.0.6.27). To upgrade run:\n",
      "\n",
      "    conda install -c ipyrad ipyrad\n",
      "\n",
      "\n",
      " -------------------------------------------------------------\n",
      "  ipyrad [v.0.6.20]\n",
      "  Interactive assembly and analysis of RAD-seq data\n",
      " -------------------------------------------------------------\n",
      "  New Assembly: cragig007\n",
      "  host compute node: [6 cores] on ubuntu\n",
      "\n",
      "  Step 1: Demultiplexing fastq data to Samples\n",
      "  [####################] 100%  sorting reads         | 1:26:47  es  | 0:25:59  \n",
      "  [####################] 100%  writing/compressing   | 0:37:57  \n",
      "\n"
     ]
    }
   ],
   "source": [
    "!ipyrad -p params-cragig007.txt -s 1"
   ]
  },
  {
   "cell_type": "code",
   "execution_count": null,
   "metadata": {
    "collapsed": false,
    "deletable": true,
    "editable": true
   },
   "outputs": [
    {
     "name": "stdout",
     "output_type": "stream",
     "text": [
      "\n",
      " -------------------------------------------------------------\n",
      "  ipyrad [v.0.6.20]\n",
      "  Interactive assembly and analysis of RAD-seq data\n",
      " -------------------------------------------------------------\n",
      "\n",
      "  A new version of ipyrad is available (v.0.6.27). To upgrade run:\n",
      "\n",
      "    conda install -c ipyrad ipyrad\n",
      "\n",
      "\n",
      " -------------------------------------------------------------\n",
      "  ipyrad [v.0.6.20]\n",
      "  Interactive assembly and analysis of RAD-seq data\n",
      " -------------------------------------------------------------\n",
      "  New Assembly: cragig008\n",
      "  host compute node: [6 cores] on ubuntu\n",
      "\n",
      "  Step 1: Demultiplexing fastq data to Samples\n",
      "  [##################  ]  92%  sorting reads         | 0:39:39  "
     ]
    }
   ],
   "source": [
    "!ipyrad -p params-cragig008.txt -s 1"
   ]
  },
  {
   "cell_type": "markdown",
   "metadata": {},
   "source": [
    "It kept crashing the jupyter notebook so I'm starting to run these outside the terminal. For some reason, even though I merged assemblies, it only ran on the first 71 samples. Here's what the params file looked like:"
   ]
  },
  {
   "cell_type": "code",
   "execution_count": 2,
   "metadata": {
    "collapsed": false
   },
   "outputs": [
    {
     "name": "stdout",
     "output_type": "stream",
     "text": [
      "------- ipyrad params file (v.0.6.20)-------------------------------------------\r\n",
      "cragig009                      ## [0] [assembly_name]: Assembly name. Used to name output directories for assembly steps\r\n",
      "/mnt/hgfs/SHARED_FOLDER/Learn_iPyrad/CRAGIG_RUNS_12_py ## [1] [project_dir]: Project dir (made in curdir if not present)\r\n",
      "Merged: cragig007, cragig008   ## [2] [raw_fastq_path]: Location of raw non-demultiplexed fastq files\r\n",
      "Merged: cragig007, cragig008   ## [3] [barcodes_path]: Location of barcodes file\r\n",
      "Merged: cragig007, cragig008   ## [4] [sorted_fastq_path]: Location of demultiplexed/sorted fastq files\r\n",
      "denovo                         ## [5] [assembly_method]: Assembly method (denovo, reference, denovo+reference, denovo-reference)\r\n",
      "                               ## [6] [reference_sequence]: Location of reference sequence file\r\n",
      "rad                            ## [7] [datatype]: Datatype (see docs): rad, gbs, ddrad, etc.\r\n",
      "TGCAGG,                        ## [8] [restriction_overhang]: Restriction overhang (cut1,) or (cut1, cut2)\r\n",
      "5                              ## [9] [max_low_qual_bases]: Max low quality base calls (Q<20) in a read\r\n",
      "33                             ## [10] [phred_Qscore_offset]: phred Q score offset (33 is default and very standard)\r\n",
      "10                             ## [11] [mindepth_statistical]: Min depth for statistical base calling\r\n",
      "10                             ## [12] [mindepth_majrule]: Min depth for majority-rule base calling\r\n",
      "5000                           ## [13] [maxdepth]: Max cluster depth within samples\r\n",
      "0.85                           ## [14] [clust_threshold]: Clustering threshold for de novo assembly\r\n",
      "0                              ## [15] [max_barcode_mismatch]: Max number of allowable mismatches in barcodes\r\n",
      "2                              ## [16] [filter_adapters]: Filter for adapters/primers (1 or 2=stricter)\r\n",
      "40                             ## [17] [filter_min_trim_len]: Min length of reads after adapter trim\r\n",
      "2                              ## [18] [max_alleles_consens]: Max alleles per site in consensus sequences\r\n",
      "5, 5                           ## [19] [max_Ns_consens]: Max N's (uncalled bases) in consensus (R1, R2)\r\n",
      "8, 8                           ## [20] [max_Hs_consens]: Max Hs (heterozygotes) in consensus (R1, R2)\r\n",
      "70                             ## [21] [min_samples_locus]: Min # samples per locus for output\r\n",
      "20, 20                         ## [22] [max_SNPs_locus]: Max # SNPs per locus (R1, R2)\r\n",
      "8, 8                           ## [23] [max_Indels_locus]: Max # of indels per locus (R1, R2)\r\n",
      "0.9                            ## [24] [max_shared_Hs_locus]: Max # heterozygous sites per locus (R1, R2)\r\n",
      "0, 0, 0, 0                     ## [25] [trim_reads]: Trim raw read edges (R1>, <R1, R2>, <R2) (see docs)\r\n",
      "0, 0, 0, 0                     ## [26] [trim_loci]: Trim locus edges (see docs) (R1>, <R1, R2>, <R2)\r\n",
      "G, a, g, k, m, l, n, p, s, u, t, v ## [27] [output_formats]: Output formats (see docs)\r\n",
      "/mnt/hgfs/SHARED_FOLDER/Learn_iPyrad/CRAGIG_RUNS_12_py/popmap_cragig007.txt ## [28] [pop_assign_file]: Path to population assignment file"
     ]
    }
   ],
   "source": [
    "!head -n 30 params-cragig009.txt"
   ]
  },
  {
   "cell_type": "markdown",
   "metadata": {},
   "source": [
    "Aw bummer. It looks like the fastsq files for both cragig007 and cragig0008 are the same, so I might have goofed in what files I fed it. Double-checking the params files now... Found it! I didn't use the correct barcodes file (I used the one for CRAGIG_run1 for both cragig007 and cragig008). Going to double-check the params files and rerun.\n",
    "\n",
    "Watching it rerun and ipyrad knows to delete all old files when I force the step to rewrite over the previous version. That's pretty cool!\n",
    "\n",
    "I'm not totally sure that I know how to use the merge operation well yet, as it spit out an error during Step 2:\n",
    "```\n",
    "ERROR \tIPyradError(error in: ['cat', '/mnt/hgfs/SHARED_FOLDER/Learn_iPyrad/CRAGIG_RUNS_12_py/cragig007_fastqs/FG034_R1_.fastq.gz', '/mnt/hgfs/SHARED_FOLDER/Learn_iPyrad/CRAGIG_RUNS_12_py/cragig008_fastqs/FG034_R1_.fastq.gz'], None)\n",
    "```\n",
    "\n",
    "I'm going to rerun evertyhing from the start, and double-check I have the merge function well understood."
   ]
  },
  {
   "cell_type": "code",
   "execution_count": null,
   "metadata": {
    "collapsed": true
   },
   "outputs": [],
   "source": []
  }
 ],
 "metadata": {
  "kernelspec": {
   "display_name": "Python 2",
   "language": "python",
   "name": "python2"
  },
  "language_info": {
   "codemirror_mode": {
    "name": "ipython",
    "version": 2
   },
   "file_extension": ".py",
   "mimetype": "text/x-python",
   "name": "python",
   "nbconvert_exporter": "python",
   "pygments_lexer": "ipython2",
   "version": "2.7.13"
  }
 },
 "nbformat": 4,
 "nbformat_minor": 2
}
