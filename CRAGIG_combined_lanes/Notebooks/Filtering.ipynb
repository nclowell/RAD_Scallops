{
 "cells": [
  {
   "cell_type": "markdown",
   "metadata": {
    "deletable": true,
    "editable": true
   },
   "source": [
    "## Filtering\n",
    "\n",
    "This notebook is for streamlining the filtering process that occurs after ipyrad. This way, I can rerun the notebook with different filenames instead of do it from scratch each time.\n"
   ]
  },
  {
   "cell_type": "markdown",
   "metadata": {
    "deletable": true,
    "editable": true
   },
   "source": [
    "**[1]** Change working directory to assembly outfiles"
   ]
  },
  {
   "cell_type": "code",
   "execution_count": 21,
   "metadata": {
    "collapsed": false,
    "deletable": true,
    "editable": true
   },
   "outputs": [
    {
     "name": "stdout",
     "output_type": "stream",
     "text": [
      "/mnt/hgfs/SHARED_FOLDER/Learn_iPyrad/CRAGIG_RUNS_12_py/cragig_l1_25_c94_outfiles\n"
     ]
    }
   ],
   "source": [
    "cd /mnt/hgfs/SHARED_FOLDER/Learn_iPyrad/CRAGIG_RUNS_12_py/cragig_l1_25_c94_outfiles/"
   ]
  },
  {
   "cell_type": "code",
   "execution_count": 22,
   "metadata": {
    "collapsed": false,
    "deletable": true,
    "editable": true
   },
   "outputs": [
    {
     "name": "stdout",
     "output_type": "stream",
     "text": [
      "cragig_l1_25_c94.vcf\r\n"
     ]
    }
   ],
   "source": [
    "# get name of VCF file\n",
    "!ls *.vcf"
   ]
  },
  {
   "cell_type": "markdown",
   "metadata": {
    "deletable": true,
    "editable": true
   },
   "source": [
    "**[2]** Make directory for new/edited outfiles from ipyrad, called ``new_outfiles``."
   ]
  },
  {
   "cell_type": "code",
   "execution_count": 23,
   "metadata": {
    "collapsed": false,
    "deletable": true,
    "editable": true
   },
   "outputs": [],
   "source": [
    "!mkdir new_outfiles"
   ]
  },
  {
   "cell_type": "markdown",
   "metadata": {
    "deletable": true,
    "editable": true
   },
   "source": [
    "**[3]** Use ``vcftools`` to filter for biallelic loci and minor allele frequency. Manual [here](http://vcftools.sourceforge.net/man_latest.html).\n",
    "\n",
    "Be sure to change:\n",
    "- name of input vcf file\n",
    "- name of output vcf file\n",
    "\n",
    "Use: \n",
    "- ``--maf`` for minor allele frequency\n",
    "- ``--recode-INFO-all`` to keep info column data\n",
    "- ``--recode`` to make a new filtered file"
   ]
  },
  {
   "cell_type": "code",
   "execution_count": 24,
   "metadata": {
    "collapsed": false,
    "deletable": true,
    "editable": true
   },
   "outputs": [
    {
     "name": "stdout",
     "output_type": "stream",
     "text": [
      "\n",
      "VCFtools - UNKNOWN\n",
      "(C) Adam Auton and Anthony Marcketta 2009\n",
      "\n",
      "Parameters as interpreted:\n",
      "\t--vcf cragig_l1_25_c94.vcf\n",
      "\t--recode-INFO-all\n",
      "\t--max-alleles 2\n",
      "\t--min-alleles 2\n",
      "\t--out new_outfiles/cragig_l1_25_c94_biall_NOmaf\n",
      "\t--recode\n",
      "\n",
      "After filtering, kept 25 out of 25 Individuals\n",
      "Outputting VCF file...\n",
      "After filtering, kept 14340 out of a possible 14653 Sites\n",
      "Run Time = 1.00 seconds\n"
     ]
    }
   ],
   "source": [
    "!vcftools --vcf cragig_l1_25_c94.vcf \\\n",
    "--min-alleles 2 \\\n",
    "--max-alleles 2 \\\n",
    "--out new_outfiles/cragig_l1_25_c94_biall_NOmaf \\\n",
    "--recode-INFO-all \\\n",
    "--recode"
   ]
  },
  {
   "cell_type": "markdown",
   "metadata": {
    "deletable": true,
    "editable": true
   },
   "source": [
    "**[4]** Get one SNP per RAD tag\n",
    "\n",
    "A collaborator made a script to get one SNP per RAD tag (one with highest coverage). If there's a tie between SNPs, it picks the one closest to the beginning of the read. Script [here](https://github.com/nclowell/RAD_Scallops/blob/master/CRAGIG_combined_lanes/Scripts/subsetSNPs_KS.py).\n",
    "\n",
    "Be sure to change:\n",
    "- name of input VCF file\n",
    "- name of output VCF file"
   ]
  },
  {
   "cell_type": "code",
   "execution_count": 25,
   "metadata": {
    "collapsed": false,
    "deletable": true,
    "editable": true
   },
   "outputs": [
    {
     "name": "stdout",
     "output_type": "stream",
     "text": [
      "/mnt/hgfs/SHARED_FOLDER/Learn_iPyrad/CRAGIG_RUNS_12_py/cragig_l1_25_c94_outfiles/new_outfiles\n"
     ]
    }
   ],
   "source": [
    "cd /mnt/hgfs/SHARED_FOLDER/Learn_iPyrad/CRAGIG_RUNS_12_py/cragig_l1_25_c94_outfiles/new_outfiles"
   ]
  },
  {
   "cell_type": "code",
   "execution_count": 26,
   "metadata": {
    "collapsed": false,
    "deletable": true,
    "editable": true
   },
   "outputs": [
    {
     "name": "stdout",
     "output_type": "stream",
     "text": [
      "Total SNPS: 14352\r\n",
      "Unlinked SNPs: 2385\r\n"
     ]
    }
   ],
   "source": [
    "!python ../../oneSNP.py cragig_l1_25_c94_biall_NOmaf.recode.vcf cragig_l1_25_c94_biall_NOmaf_onesnp.vcf"
   ]
  },
  {
   "cell_type": "markdown",
   "metadata": {
    "deletable": true,
    "editable": true
   },
   "source": [
    "**[5]** Make dictionary for translating STR file locus names to VCF file locus names\n",
    "\n",
    "In a few steps, we will use [PGD Spider](http://www.cmpg.unibe.ch/software/PGDSpider/) to convert the filtered VCF file into a STR file, which can be read into ``adegenet`` for population genetic statistics. However, PGD Spider will give loci arbitrary names: SNP_1, SNP_2, SNP_3, etc. So, we will need to give them informative names based on the locus number and position in the VCF file in order to make use of the population genetic statistics.\n",
    "\n",
    "Be sure to change the name of the filtered VCF file. Your filtered vcf file will be the name you gave it plus ``.recode.vcf``"
   ]
  },
  {
   "cell_type": "code",
   "execution_count": 27,
   "metadata": {
    "collapsed": true,
    "deletable": true,
    "editable": true
   },
   "outputs": [],
   "source": [
    "vcf_filename = \"cragig_l1_25_c94_biall_NOmaf_onesnp.vcf\" # biall, maf, onesnp"
   ]
  },
  {
   "cell_type": "code",
   "execution_count": 28,
   "metadata": {
    "collapsed": false,
    "deletable": true,
    "editable": true
   },
   "outputs": [],
   "source": [
    "vcf_file = open(vcf_filename,\"r\") # change!\n",
    "vcf_file_lines = vcf_file.readlines()\n",
    "vcf_file.close()"
   ]
  },
  {
   "cell_type": "code",
   "execution_count": 29,
   "metadata": {
    "collapsed": false,
    "deletable": true,
    "editable": true
   },
   "outputs": [
    {
     "name": "stdout",
     "output_type": "stream",
     "text": [
      "2385\n"
     ]
    }
   ],
   "source": [
    "# double check number of loci\n",
    "count = 0\n",
    "for line in vcf_file_lines:\n",
    "    if line[0] != \"#\":\n",
    "        count += 1\n",
    "        \n",
    "print count"
   ]
  },
  {
   "cell_type": "code",
   "execution_count": 30,
   "metadata": {
    "collapsed": false,
    "deletable": true,
    "editable": true
   },
   "outputs": [],
   "source": [
    "locus_names = {}\n",
    "snp_name_count = 1\n",
    "\n",
    "for line in vcf_file_lines:\n",
    "    if line[0] != \"#\":\n",
    "        linelist = line.strip().split()\n",
    "        locus = linelist[0]\n",
    "        pos = linelist[1]\n",
    "        vcf_locus_name = locus + \"_\" + pos\n",
    "        str_locus_name = \"SNP_\" + str(snp_name_count)\n",
    "        snp_name_count += 1\n",
    "        locus_names[str_locus_name] = vcf_locus_name   "
   ]
  },
  {
   "cell_type": "markdown",
   "metadata": {
    "deletable": true,
    "editable": true
   },
   "source": [
    "**[6]** Extract read depth information by locus from VCF file. \n",
    "\n",
    "This block of code will make a dictionary with the VCF locus file names as keys and lists of read depths (across samples) as values. Plot average read depth (across samples) per locus."
   ]
  },
  {
   "cell_type": "code",
   "execution_count": 31,
   "metadata": {
    "collapsed": true,
    "deletable": true,
    "editable": true
   },
   "outputs": [],
   "source": [
    "sample_list = []\n",
    "snp_name_list = []\n",
    "rdd = {} \n",
    "\n",
    "for line in vcf_file_lines:\n",
    "    if line[0:1] == \"#C\":\n",
    "        linelist = line.strip().split()\n",
    "        sample_list += linelist[9:]\n",
    "    elif line[0] != \"#\": # ignore header lines\n",
    "        genblocks = line.strip().split()\n",
    "        snp_name = genblocks[0] + \"_\" + genblocks[1] # name format e.g., locus_47_1\n",
    "        snp_name_list.append(snp_name)\n",
    "        for genblock in genblocks[9:]: # start on genotype lines\n",
    "            genblocklist = genblock.split(\":\")\n",
    "            rd = int(genblocklist[1])\n",
    "            if snp_name not in rdd:\n",
    "                rdd[snp_name] = [rd]\n",
    "            elif snp_name in rdd:\n",
    "                rdd[snp_name] += [rd]\n",
    "            else:\n",
    "                print \"something funky going on\""
   ]
  },
  {
   "cell_type": "code",
   "execution_count": 32,
   "metadata": {
    "collapsed": false,
    "deletable": true,
    "editable": true,
    "scrolled": true
   },
   "outputs": [
    {
     "data": {
      "image/png": "[encoded data removed]",
      "text/plain": [
       "<matplotlib.figure.Figure at 0x7f4d91f2ef10>"
      ]
     },
     "metadata": {},
     "output_type": "display_data"
    }
   ],
   "source": [
    "import matplotlib.pyplot as plt\n",
    "import numpy as np\n",
    "\n",
    "locus_rd_avs = []\n",
    "for snp in snp_name_list:\n",
    "    locus_rd_avs.append(np.mean(rdd[snp]))\n",
    "    \n",
    "plt.hist(locus_rd_avs, bins = np.arange(0,max(locus_rd_avs),4)-2)\n",
    "plt.suptitle(\"Average locus read depth from \" + vcf_filename)\n",
    "plt.xlabel(\"Read depth\")\n",
    "plt.ylabel(\"Frequency\")\n",
    "plt.show()"
   ]
  },
  {
   "cell_type": "markdown",
   "metadata": {
    "deletable": true,
    "editable": true
   },
   "source": [
    "**[7]** Make STR file out of filtered VCF using PGD Spider. \n",
    "\n",
    "This is done in the GUI.\n",
    "\n",
    "Select input filetype as VCF, and output filetype as STR. Select your filtered VCF file as your input file, and select a name for your output file, including the .str extension. For the VCF Parser Questions, default parameters are fine. For the STR Writer Questions, be sure to change data type to SNPs.\n",
    "\n",
    "Enter your output structure file name here:"
   ]
  },
  {
   "cell_type": "code",
   "execution_count": 33,
   "metadata": {
    "collapsed": true,
    "deletable": true,
    "editable": true
   },
   "outputs": [],
   "source": [
    "str_filename = \"cragig_l1_25_c94_biall_NOmaf_onesnp.str\" # change!"
   ]
  },
  {
   "cell_type": "markdown",
   "metadata": {
    "deletable": true,
    "editable": true
   },
   "source": [
    "![img](https://github.com/nclowell/RAD_Scallops/blob/master/CRAGIG_combined_lanes/Notebooks/imgs_for_notebooks/vcf_parser.png?raw=true)\n",
    "\n",
    "\n",
    "![img](https://github.com/nclowell/RAD_Scallops/blob/master/CRAGIG_combined_lanes/Notebooks/imgs_for_notebooks/snp_writer.png?raw=true)"
   ]
  },
  {
   "cell_type": "markdown",
   "metadata": {
    "deletable": true,
    "editable": true
   },
   "source": [
    "**[8]** Rename header of STR file using dictionary created in Step 4.\n",
    "\n",
    "Enter the name for your STR filename with new locus names here."
   ]
  },
  {
   "cell_type": "code",
   "execution_count": 34,
   "metadata": {
    "collapsed": true,
    "deletable": true,
    "editable": true
   },
   "outputs": [],
   "source": [
    "new_str_filename = \"cragig_l1_25_c94_biall_NOmaf_onesnp_inames.str\" # change!"
   ]
  },
  {
   "cell_type": "code",
   "execution_count": 35,
   "metadata": {
    "collapsed": false,
    "deletable": true,
    "editable": true
   },
   "outputs": [],
   "source": [
    "str_file = open(str_filename, \"r\")\n",
    "str_file_lines = str_file.readlines()\n",
    "str_file.close()"
   ]
  },
  {
   "cell_type": "code",
   "execution_count": 36,
   "metadata": {
    "collapsed": false,
    "deletable": true,
    "editable": true
   },
   "outputs": [],
   "source": [
    "new_str_header = \"\\t\\t\" # will need to change this line when I get a hold of better code for one SNP/tag\n",
    "old_str_header_list = str_file_lines[0].strip().split()\n",
    "for snpname in snp_name_list:\n",
    "    new_str_header += snpname + \" \"\n",
    "new_str_header = new_str_header[:-1]\n",
    "new_str = open(new_str_filename, \"w\")\n",
    "new_str.write(new_str_header + \"\\n\")\n",
    "for line in str_file_lines[1:]:\n",
    "    new_str.write(line)\n",
    "new_str.close()"
   ]
  },
  {
   "cell_type": "markdown",
   "metadata": {
    "deletable": true,
    "editable": true
   },
   "source": [
    "**[9]** Add population information (OPTIONAL)\n",
    "\n",
    "When I have all of my samples, I'll definitely want to include population information in the STR file. However, as I have small sample sizes per population now, I'd rather leave it out and check out my data as if all populations are one.\n",
    "\n",
    "Be sure to change the name of your population map and name of STR file with population info here:"
   ]
  },
  {
   "cell_type": "code",
   "execution_count": 82,
   "metadata": {
    "collapsed": true,
    "deletable": true,
    "editable": true
   },
   "outputs": [],
   "source": [
    "popmap_name = \"popmap_cragig_sansAs.txt\"\n",
    "str_filename_w_pops = \"cragig_lanes_12_002_biall_maf_onesnp__inames_wpops.str\""
   ]
  },
  {
   "cell_type": "code",
   "execution_count": 156,
   "metadata": {
    "collapsed": true,
    "deletable": true,
    "editable": true
   },
   "outputs": [],
   "source": [
    "popfile = open(\"../\" + popmap_name,\"r\")\n",
    "popfile_lines = popfile.readlines()\n",
    "popfile.close()"
   ]
  },
  {
   "cell_type": "code",
   "execution_count": 157,
   "metadata": {
    "collapsed": true,
    "deletable": true,
    "editable": true
   },
   "outputs": [],
   "source": [
    "str_onesnp_file = open(new_str_filename, \"r\")\n",
    "str_onesnp_file_lines = str_onesnp_file.readlines()\n",
    "str_onesnp_file.close()"
   ]
  },
  {
   "cell_type": "code",
   "execution_count": 158,
   "metadata": {
    "collapsed": false,
    "deletable": true,
    "editable": true
   },
   "outputs": [],
   "source": [
    "pop_dict = {}\n",
    "sample_list = []\n",
    "\n",
    "for line in popfile_lines:\n",
    "    linelist = line.strip().split()\n",
    "    sample = linelist[0]\n",
    "    sample_list.append(sample)\n",
    "    popnum = linelist[1][-1]\n",
    "    pop_dict[sample] = popnum\n",
    "    \n",
    "lines_for_file = []\n",
    "lines_for_file.append(str_onesnp_file_lines[0])\n",
    "\n",
    "for line in str_onesnp_file_lines[1:]: # exclude header\n",
    "    linelist = line.strip().split()\n",
    "    samplename = linelist[0]\n",
    "    newpopnum = pop_dict[samplename]\n",
    "    genotypes = \"\"\n",
    "    for genotype in linelist[2:]: # exclude sample name and pop id columns\n",
    "        genotypes += genotype + \" \"\n",
    "    genotypes = genotypes[:-1] # get rid of last space\n",
    "    newline = samplename + \"\\t\" + newpopnum + \"\\t\" + genotypes + \"\\n\"\n",
    "    lines_for_file.append(newline)\n",
    "    \n",
    "str_file_w_pops = open(str_filename_w_pops,\"w\")\n",
    "for line in lines_for_file:\n",
    "    str_file_w_pops.write(line)\n",
    "str_file_w_pops.close()"
   ]
  },
  {
   "cell_type": "markdown",
   "metadata": {
    "deletable": true,
    "editable": true
   },
   "source": [
    "**[9]** Add fake second population to be able to look at populations as one in ``hierfstat``\n",
    "\n",
    "Before I have all of my samples, it makes sense to look at population genetic statistics like Fis distribution and heterozygosity across all of my samples. However, ``hierfstat`` can't calculate these statistics on just one population. So, I can make a false second population just to get it running.\n",
    "\n",
    "Be sure to change the name of the output STR file with false population here:"
   ]
  },
  {
   "cell_type": "code",
   "execution_count": 37,
   "metadata": {
    "collapsed": true,
    "deletable": true,
    "editable": true
   },
   "outputs": [],
   "source": [
    "str_filename_fpop = \"cragig_l1_25_c94_biall_NOmaf_onesnp_inames_fpop.str\""
   ]
  },
  {
   "cell_type": "code",
   "execution_count": 38,
   "metadata": {
    "collapsed": false,
    "deletable": true,
    "editable": true
   },
   "outputs": [],
   "source": [
    "str_onesnp_file = open(new_str_filename, \"r\")\n",
    "str_onesnp_file_lines = str_onesnp_file.readlines()\n",
    "str_onesnp_file.close()\n",
    "\n",
    "fpop_lines = []\n",
    "\n",
    "for line in str_onesnp_file_lines[-6:]:\n",
    "    linelist = line.strip().split()\n",
    "    newline = \"FALSE\" + linelist[0] + \"\\t\" + \"2\" + \"\\t\"\n",
    "    for genotype in linelist[2:]:\n",
    "        newline += genotype + \" \"\n",
    "    newline = newline[:-1] + \"\\n\"\n",
    "    fpop_lines.append(newline)\n",
    "\n",
    "str_file_fpop =open(str_filename_fpop, \"w\")\n",
    "\n",
    "for line in str_onesnp_file_lines:\n",
    "    str_file_fpop.write(line)\n",
    "for line in fpop_lines:\n",
    "    str_file_fpop.write(line)\n",
    "str_file_fpop.close()"
   ]
  },
  {
   "cell_type": "code",
   "execution_count": 39,
   "metadata": {
    "collapsed": false,
    "deletable": true,
    "editable": true
   },
   "outputs": [
    {
     "name": "stdout",
     "output_type": "stream",
     "text": [
      "Number of individuals after adding fpop = 28.0\n",
      "Number of loci = 2385\n"
     ]
    }
   ],
   "source": [
    "print \"Number of individuals after adding fpop = \" + str((float(len(fpop_lines)+len(str_onesnp_file_lines)-1))/float(2)) \n",
    "print \"Number of loci = \" + str(len(str_onesnp_file_lines[0].strip().split()))"
   ]
  },
  {
   "cell_type": "code",
   "execution_count": null,
   "metadata": {
    "collapsed": true,
    "deletable": true,
    "editable": true
   },
   "outputs": [],
   "source": []
  }
 ],
 "metadata": {
  "kernelspec": {
   "display_name": "Python 2",
   "language": "python",
   "name": "python2"
  },
  "language_info": {
   "codemirror_mode": {
    "name": "ipython",
    "version": 2
   },
   "file_extension": ".py",
   "mimetype": "text/x-python",
   "name": "python",
   "nbconvert_exporter": "python",
   "pygments_lexer": "ipython2",
   "version": "2.7.13"
  }
 },
 "nbformat": 4,
 "nbformat_minor": 2
}
