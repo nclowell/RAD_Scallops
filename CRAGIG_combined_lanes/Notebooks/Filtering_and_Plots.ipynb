{
 "cells": [
  {
   "cell_type": "markdown",
   "metadata": {
    "deletable": true,
    "editable": true
   },
   "source": [
    "## Filtering & Plots\n",
    "\n",
    "This notebook is for streamlining the filtering process that occurs after ipyrad. This way, I can rerun the notebook with different filenames instead of do it from scratch each time.\n"
   ]
  },
  {
   "cell_type": "markdown",
   "metadata": {
    "deletable": true,
    "editable": true
   },
   "source": [
    "**[1]** Change working directory to assembly outfiles"
   ]
  },
  {
   "cell_type": "code",
   "execution_count": 1,
   "metadata": {
    "collapsed": false,
    "deletable": true,
    "editable": true
   },
   "outputs": [
    {
     "name": "stdout",
     "output_type": "stream",
     "text": [
      "/mnt/hgfs/SHARED_FOLDER/Learn_iPyrad/CRAGIG_RUNS_12_py/CG_l1_25_c86_H_outfiles\n"
     ]
    }
   ],
   "source": [
    "cd /mnt/hgfs/SHARED_FOLDER/Learn_iPyrad/CRAGIG_RUNS_12_py/CG_l1_25_c86_H_outfiles/"
   ]
  },
  {
   "cell_type": "code",
   "execution_count": 2,
   "metadata": {
    "collapsed": false,
    "deletable": true,
    "editable": true
   },
   "outputs": [
    {
     "name": "stdout",
     "output_type": "stream",
     "text": [
      "CG_l1_25_c86_H.vcf\r\n"
     ]
    }
   ],
   "source": [
    "# get name of VCF file\n",
    "!ls *.vcf"
   ]
  },
  {
   "cell_type": "markdown",
   "metadata": {
    "deletable": true,
    "editable": true
   },
   "source": [
    "**[2]** Make directory for new/edited outfiles from ipyrad, called ``new_outfiles``."
   ]
  },
  {
   "cell_type": "code",
   "execution_count": 211,
   "metadata": {
    "collapsed": false,
    "deletable": true,
    "editable": true
   },
   "outputs": [],
   "source": [
    "!mkdir new_outfiles"
   ]
  },
  {
   "cell_type": "markdown",
   "metadata": {
    "deletable": true,
    "editable": true
   },
   "source": [
    "**[3]** Use ``vcftools`` to filter for biallelic loci and minor allele frequency. Manual [here](http://vcftools.sourceforge.net/man_latest.html).\n",
    "\n",
    "Be sure to change:\n",
    "- name of input vcf file\n",
    "- name of output vcf file\n",
    "\n",
    "Use: \n",
    "- ``--maf`` for minor allele frequency\n",
    "- ``--recode-INFO-all`` to keep info column data\n",
    "- ``--recode`` to make a new filtered file"
   ]
  },
  {
   "cell_type": "code",
   "execution_count": 212,
   "metadata": {
    "collapsed": false,
    "deletable": true,
    "editable": true
   },
   "outputs": [
    {
     "name": "stdout",
     "output_type": "stream",
     "text": [
      "\n",
      "VCFtools - UNKNOWN\n",
      "(C) Adam Auton and Anthony Marcketta 2009\n",
      "\n",
      "Parameters as interpreted:\n",
      "\t--vcf CG_l1_25_c86_H.vcf\n",
      "\t--recode-INFO-all\n",
      "\t--max-alleles 2\n",
      "\t--min-alleles 2\n",
      "\t--out new_outfiles/CG_l1_25_c86_H_biall_NOmaf\n",
      "\t--recode\n",
      "\n",
      "After filtering, kept 25 out of 25 Individuals\n",
      "Outputting VCF file...\n",
      "After filtering, kept 89916 out of a possible 93678 Sites\n",
      "Run Time = 3.00 seconds\n"
     ]
    }
   ],
   "source": [
    "!vcftools --vcf CG_l1_25_c86_H.vcf \\\n",
    "--min-alleles 2 \\\n",
    "--max-alleles 2 \\\n",
    "--out new_outfiles/CG_l1_25_c86_H_biall_NOmaf \\\n",
    "--recode-INFO-all \\\n",
    "--recode"
   ]
  },
  {
   "cell_type": "markdown",
   "metadata": {
    "deletable": true,
    "editable": true
   },
   "source": [
    "**[4]** Get one SNP per RAD tag\n",
    "\n",
    "A collaborator made a script to get one SNP per RAD tag (one with highest coverage). If there's a tie between SNPs, it picks the one closest to the beginning of the read. Script [here](https://github.com/nclowell/RAD_Scallops/blob/master/CRAGIG_combined_lanes/Scripts/subsetSNPs_KS.py).\n",
    "\n",
    "Be sure to change:\n",
    "- name of input VCF file\n",
    "- name of output VCF file"
   ]
  },
  {
   "cell_type": "code",
   "execution_count": 4,
   "metadata": {
    "collapsed": false,
    "deletable": true,
    "editable": true
   },
   "outputs": [],
   "source": [
    "import os\n",
    "os.chdir(\"new_outfiles\")"
   ]
  },
  {
   "cell_type": "code",
   "execution_count": 5,
   "metadata": {
    "collapsed": false,
    "deletable": true,
    "editable": true
   },
   "outputs": [
    {
     "name": "stdout",
     "output_type": "stream",
     "text": [
      "Total SNPS: 89928\r\n",
      "Unlinked SNPs: 9157\r\n"
     ]
    }
   ],
   "source": [
    "!python ../../oneSNP.py \\\n",
    "CG_l1_25_c86_H_biall_NOmaf.recode.vcf \\\n",
    "CG_l1_25_c86_H_biall_NOmaf_oneSNP.vcf"
   ]
  },
  {
   "cell_type": "markdown",
   "metadata": {
    "deletable": true,
    "editable": true
   },
   "source": [
    "**[5]** Make dictionary for translating STR file locus names to VCF file locus names\n",
    "\n",
    "In a few steps, we will use [PGD Spider](http://www.cmpg.unibe.ch/software/PGDSpider/) to convert the filtered VCF file into a STR file, which can be read into ``adegenet`` for population genetic statistics. However, PGD Spider will give loci arbitrary names: SNP_1, SNP_2, SNP_3, etc. So, we will need to give them informative names based on the locus number and position in the VCF file in order to make use of the population genetic statistics.\n",
    "\n",
    "Be sure to change the name of the filtered VCF file. Your filtered vcf file will be the name you gave it plus ``.recode.vcf``"
   ]
  },
  {
   "cell_type": "code",
   "execution_count": 215,
   "metadata": {
    "collapsed": true,
    "deletable": true,
    "editable": true
   },
   "outputs": [],
   "source": [
    "vcf_filename = \"CG_l1_25_c86_H_biall_NOmaf_oneSNP.vcf\" # biall, maf, onesnp"
   ]
  },
  {
   "cell_type": "code",
   "execution_count": 216,
   "metadata": {
    "collapsed": false,
    "deletable": true,
    "editable": true
   },
   "outputs": [
    {
     "name": "stdout",
     "output_type": "stream",
     "text": [
      "Number of loci: 9157\n"
     ]
    }
   ],
   "source": [
    "vcf_file = open(vcf_filename,\"r\") # change!\n",
    "vcf_file_lines = vcf_file.readlines()\n",
    "vcf_file.close()\n",
    "\n",
    "# double check number of loci\n",
    "count = 0\n",
    "for line in vcf_file_lines:\n",
    "    if line[0] != \"#\":\n",
    "        count += 1\n",
    "        \n",
    "print \"Number of loci: \" + str(count)\n",
    "\n",
    "locus_names = {}\n",
    "snp_name_count = 1\n",
    "\n",
    "for line in vcf_file_lines:\n",
    "    if line[0] != \"#\":\n",
    "        linelist = line.strip().split()\n",
    "        locus = linelist[0]\n",
    "        pos = linelist[1]\n",
    "        vcf_locus_name = locus + \"_\" + pos\n",
    "        str_locus_name = \"SNP_\" + str(snp_name_count)\n",
    "        snp_name_count += 1\n",
    "        locus_names[str_locus_name] = vcf_locus_name   "
   ]
  },
  {
   "cell_type": "markdown",
   "metadata": {
    "deletable": true,
    "editable": true
   },
   "source": [
    "**[6]** Extract read depth information by locus from VCF file.\n",
    "\n",
    "This block of code will make a dictionary with the VCF locus file names as keys and lists of read depths (across samples) as values. Plot average read depth (across samples) per locus."
   ]
  },
  {
   "cell_type": "code",
   "execution_count": 217,
   "metadata": {
    "collapsed": false,
    "deletable": true,
    "editable": true
   },
   "outputs": [
    {
     "data": {
      "image/png": "[encoded data removed]",
      "text/plain": [
       "<matplotlib.figure.Figure at 0x7f748c11dbd0>"
      ]
     },
     "metadata": {},
     "output_type": "display_data"
    }
   ],
   "source": [
    "sample_list = []\n",
    "snp_name_list = []\n",
    "rdd = {} \n",
    "\n",
    "for line in vcf_file_lines:\n",
    "    if line[0:1] == \"#C\":\n",
    "        linelist = line.strip().split()\n",
    "        sample_list += linelist[9:]\n",
    "    elif line[0] != \"#\": # ignore header lines\n",
    "        genblocks = line.strip().split()\n",
    "        snp_name = genblocks[0] + \"_\" + genblocks[1] # name format e.g., locus_47_1\n",
    "        snp_name_list.append(snp_name)\n",
    "        for genblock in genblocks[9:]: # start on genotype lines\n",
    "            genblocklist = genblock.split(\":\")\n",
    "            rd = int(genblocklist[1])\n",
    "            if snp_name not in rdd:\n",
    "                rdd[snp_name] = [rd]\n",
    "            elif snp_name in rdd:\n",
    "                rdd[snp_name] += [rd]\n",
    "            else:\n",
    "                print \"something funky going on\"\n",
    "                \n",
    "import matplotlib.pyplot as plt\n",
    "import numpy as np\n",
    "\n",
    "locus_rd_avs = []\n",
    "for snp in snp_name_list:\n",
    "    locus_rd_avs.append(np.mean(rdd[snp]))\n",
    "    \n",
    "plt.hist(locus_rd_avs, bins = np.arange(0,max(locus_rd_avs),4)-2)\n",
    "plt.suptitle(\"Average locus read depth from \" + vcf_filename)\n",
    "plt.xlabel(\"Read depth\")\n",
    "plt.ylabel(\"Frequency\")\n",
    "plt.show()"
   ]
  },
  {
   "cell_type": "markdown",
   "metadata": {
    "deletable": true,
    "editable": true
   },
   "source": [
    "**[6]** Make STR file out of filtered VCF using PGD Spider. \n",
    "\n",
    "This is done in the GUI.\n",
    "\n",
    "Select input filetype as VCF, and output filetype as STR. Select your filtered VCF file as your input file, and select a name for your output file, including the .str extension. For the VCF Parser Questions, default parameters are fine. For the STR Writer Questions, be sure to change data type to SNPs.\n",
    "\n",
    "Enter your output structure file name here:"
   ]
  },
  {
   "cell_type": "code",
   "execution_count": 218,
   "metadata": {
    "collapsed": true,
    "deletable": true,
    "editable": true
   },
   "outputs": [],
   "source": [
    "str_filename = \"CG_l1_25_c86_H_biall_NOmaf_oneSNP.str\" # change!"
   ]
  },
  {
   "cell_type": "markdown",
   "metadata": {
    "deletable": true,
    "editable": true
   },
   "source": [
    "![img](https://github.com/nclowell/RAD_Scallops/blob/master/CRAGIG_combined_lanes/Notebooks/imgs_for_notebooks/vcf_parser.png?raw=true)\n",
    "\n",
    "\n",
    "![img](https://github.com/nclowell/RAD_Scallops/blob/master/CRAGIG_combined_lanes/Notebooks/imgs_for_notebooks/snp_writer.png?raw=true)"
   ]
  },
  {
   "cell_type": "markdown",
   "metadata": {
    "deletable": true,
    "editable": true
   },
   "source": [
    "**[8]** Rename header of STR file using dictionary created in Step 4.\n",
    "\n",
    "Enter the name for your STR filename with new locus names here."
   ]
  },
  {
   "cell_type": "code",
   "execution_count": 219,
   "metadata": {
    "collapsed": true,
    "deletable": true,
    "editable": true
   },
   "outputs": [],
   "source": [
    "new_str_filename = \"CG_l1_25_c86_H_biall_NOmaf_oneSNP_inames.str\" # change!"
   ]
  },
  {
   "cell_type": "code",
   "execution_count": 220,
   "metadata": {
    "collapsed": false,
    "deletable": true,
    "editable": true
   },
   "outputs": [],
   "source": [
    "str_file = open(str_filename, \"r\")\n",
    "str_file_lines = str_file.readlines()\n",
    "str_file.close()\n",
    "\n",
    "new_str_header = \"\\t\\t\" # will need to change this line when I get a hold of better code for one SNP/tag\n",
    "old_str_header_list = str_file_lines[0].strip().split()\n",
    "for snpname in snp_name_list:\n",
    "    new_str_header += snpname + \" \"\n",
    "new_str_header = new_str_header[:-1]\n",
    "new_str = open(new_str_filename, \"w\")\n",
    "new_str.write(new_str_header + \"\\n\")\n",
    "for line in str_file_lines[1:]:\n",
    "    new_str.write(line)\n",
    "new_str.close()"
   ]
  },
  {
   "cell_type": "markdown",
   "metadata": {
    "deletable": true,
    "editable": true
   },
   "source": [
    "**[9]** Add population information (OPTIONAL)\n",
    "\n",
    "When I have all of my samples, I'll definitely want to include population information in the STR file. However, as I have small sample sizes per population now, I'd rather leave it out and check out my data as if all populations are one.\n",
    "\n",
    "Be sure to change the name of your population map and name of STR file with population info here:"
   ]
  },
  {
   "cell_type": "code",
   "execution_count": 82,
   "metadata": {
    "collapsed": true,
    "deletable": true,
    "editable": true
   },
   "outputs": [],
   "source": [
    "popmap_name = \"popmap_cragig_sansAs.txt\"\n",
    "str_filename_w_pops = \"cragig_lanes_12_002_biall_maf_onesnp__inames_wpops.str\""
   ]
  },
  {
   "cell_type": "code",
   "execution_count": 156,
   "metadata": {
    "collapsed": true,
    "deletable": true,
    "editable": true
   },
   "outputs": [],
   "source": [
    "popfile = open(\"../\" + popmap_name,\"r\")\n",
    "popfile_lines = popfile.readlines()\n",
    "popfile.close()"
   ]
  },
  {
   "cell_type": "code",
   "execution_count": 157,
   "metadata": {
    "collapsed": true,
    "deletable": true,
    "editable": true
   },
   "outputs": [],
   "source": [
    "str_onesnp_file = open(new_str_filename, \"r\")\n",
    "str_onesnp_file_lines = str_onesnp_file.readlines()\n",
    "str_onesnp_file.close()"
   ]
  },
  {
   "cell_type": "code",
   "execution_count": 158,
   "metadata": {
    "collapsed": false,
    "deletable": true,
    "editable": true
   },
   "outputs": [],
   "source": [
    "pop_dict = {}\n",
    "sample_list = []\n",
    "\n",
    "for line in popfile_lines:\n",
    "    linelist = line.strip().split()\n",
    "    sample = linelist[0]\n",
    "    sample_list.append(sample)\n",
    "    popnum = linelist[1][-1]\n",
    "    pop_dict[sample] = popnum\n",
    "    \n",
    "lines_for_file = []\n",
    "lines_for_file.append(str_onesnp_file_lines[0])\n",
    "\n",
    "for line in str_onesnp_file_lines[1:]: # exclude header\n",
    "    linelist = line.strip().split()\n",
    "    samplename = linelist[0]\n",
    "    newpopnum = pop_dict[samplename]\n",
    "    genotypes = \"\"\n",
    "    for genotype in linelist[2:]: # exclude sample name and pop id columns\n",
    "        genotypes += genotype + \" \"\n",
    "    genotypes = genotypes[:-1] # get rid of last space\n",
    "    newline = samplename + \"\\t\" + newpopnum + \"\\t\" + genotypes + \"\\n\"\n",
    "    lines_for_file.append(newline)\n",
    "    \n",
    "str_file_w_pops = open(str_filename_w_pops,\"w\")\n",
    "for line in lines_for_file:\n",
    "    str_file_w_pops.write(line)\n",
    "str_file_w_pops.close()"
   ]
  },
  {
   "cell_type": "markdown",
   "metadata": {
    "deletable": true,
    "editable": true
   },
   "source": [
    "**[10]** Add fake second population to be able to look at populations as one in ``hierfstat``\n",
    "\n",
    "Before I have all of my samples, it makes sense to look at population genetic statistics like Fis distribution and heterozygosity across all of my samples. However, ``hierfstat`` can't calculate these statistics on just one population. So, I can make a false second population just to get it running.\n",
    "\n",
    "Be sure to change the name of the output STR file with false population here:"
   ]
  },
  {
   "cell_type": "code",
   "execution_count": 221,
   "metadata": {
    "collapsed": true,
    "deletable": true,
    "editable": true
   },
   "outputs": [],
   "source": [
    "str_filename_fpop = \"CG_l1_25_c86_H_biall_NOmaf_oneSNP_inames_fpop.str\""
   ]
  },
  {
   "cell_type": "code",
   "execution_count": 222,
   "metadata": {
    "collapsed": false,
    "deletable": true,
    "editable": true
   },
   "outputs": [
    {
     "name": "stdout",
     "output_type": "stream",
     "text": [
      "Number of individuals after adding fpop = 28.0\n",
      "Number of loci = 9157\n"
     ]
    }
   ],
   "source": [
    "str_onesnp_file = open(new_str_filename, \"r\")\n",
    "str_onesnp_file_lines = str_onesnp_file.readlines()\n",
    "str_onesnp_file.close()\n",
    "\n",
    "fpop_lines = []\n",
    "\n",
    "for line in str_onesnp_file_lines[-6:]:\n",
    "    linelist = line.strip().split()\n",
    "    newline = \"FALSE\" + linelist[0] + \"\\t\" + \"2\" + \"\\t\"\n",
    "    for genotype in linelist[2:]:\n",
    "        newline += genotype + \" \"\n",
    "    newline = newline[:-1] + \"\\n\"\n",
    "    fpop_lines.append(newline)\n",
    "\n",
    "str_file_fpop =open(str_filename_fpop, \"w\")\n",
    "\n",
    "for line in str_onesnp_file_lines:\n",
    "    str_file_fpop.write(line)\n",
    "for line in fpop_lines:\n",
    "    str_file_fpop.write(line)\n",
    "str_file_fpop.close()\n",
    "\n",
    "numloci = len(str_onesnp_file_lines[0].strip().split())\n",
    "numinds = int(float(len(fpop_lines)+len(str_onesnp_file_lines)-1))/float(2)\n",
    "\n",
    "print \"Number of individuals after adding fpop = \" + str(numinds) \n",
    "print \"Number of loci = \" + str(numloci)\n"
   ]
  },
  {
   "cell_type": "markdown",
   "metadata": {
    "collapsed": true,
    "deletable": true,
    "editable": true
   },
   "source": [
    "## Get pop gen stats with heirfstat"
   ]
  },
  {
   "cell_type": "markdown",
   "metadata": {
    "deletable": true,
    "editable": true
   },
   "source": [
    "I made an R script that will read the structure file in with adegenet, and then calculate Ho, Hs, and Fis across loci. Script [here](https://github.com/nclowell/RAD_Scallops/blob/master/CRAGIG_combined_lanes/Scripts/pop_gen_stats.R)."
   ]
  },
  {
   "cell_type": "code",
   "execution_count": 180,
   "metadata": {
    "collapsed": false,
    "deletable": true,
    "editable": true
   },
   "outputs": [
    {
     "data": {
      "text/plain": [
       "u'/mnt/hgfs/SHARED_FOLDER/Learn_iPyrad/CRAGIG_RUNS_12_py/CG_l1_25_c82_H_outfiles/new_outfiles'"
      ]
     },
     "execution_count": 180,
     "metadata": {},
     "output_type": "execute_result"
    }
   ],
   "source": [
    "pwd"
   ]
  },
  {
   "cell_type": "code",
   "execution_count": 223,
   "metadata": {
    "collapsed": false,
    "deletable": true,
    "editable": true
   },
   "outputs": [],
   "source": [
    "# get working directory from results to cell above\n",
    "wd = \"/mnt/hgfs/SHARED_FOLDER/Learn_iPyrad/CRAGIG_RUNS_12_py/CG_l1_25_c86_H_outfiles/new_outfiles\"\n",
    "\n",
    "# 8 digit date for naming files\n",
    "date = \"20170713\""
   ]
  },
  {
   "cell_type": "code",
   "execution_count": 224,
   "metadata": {
    "collapsed": false,
    "deletable": true,
    "editable": true
   },
   "outputs": [
    {
     "data": {
      "text/plain": [
       "0"
      ]
     },
     "execution_count": 224,
     "metadata": {},
     "output_type": "execute_result"
    }
   ],
   "source": [
    "# run R script\n",
    "\n",
    "import subprocess as sp\n",
    "\n",
    "string_callR = \"Rscript ../../../../pop_gen_stats.R \"\n",
    "string_callR += wd + \" \"\n",
    "string_callR += str_filename_fpop + \" \"\n",
    "string_callR += str(numinds) + \" \" + str(numloci) + \" \" + date\n",
    "\n",
    "sp.call([string_callR],shell=True)"
   ]
  },
  {
   "cell_type": "markdown",
   "metadata": {
    "deletable": true,
    "editable": true
   },
   "source": [
    "## Plots\n",
    "\n",
    "The code here comes from my [Exploratory Plots notebook](https://github.com/nclowell/RAD_Scallops/blob/master/CRAGIG_combined_lanes/Notebooks/Exploratory%20Plots.ipynb). For streamlining my workflow, it's handy to have here too."
   ]
  },
  {
   "cell_type": "code",
   "execution_count": 41,
   "metadata": {
    "collapsed": false,
    "deletable": true,
    "editable": true
   },
   "outputs": [
    {
     "name": "stdout",
     "output_type": "stream",
     "text": [
      "\u001b[0m\u001b[01;32mFis_20170711_fpop.txt\u001b[0m*  \u001b[01;32mHo_20170711_fpop.txt\u001b[0m*  \u001b[01;32mHs_20170711_fpop.txt\u001b[0m*\r\n",
      "\u001b[01;32mFis_ 20170713 .txt\u001b[0m*     \u001b[01;32mHo_ 20170713 .txt\u001b[0m*     \u001b[01;32mHs_ 20170713 .txt\u001b[0m*\r\n"
     ]
    }
   ],
   "source": [
    "ls *.txt"
   ]
  },
  {
   "cell_type": "code",
   "execution_count": 36,
   "metadata": {
    "collapsed": true,
    "deletable": true,
    "editable": true
   },
   "outputs": [],
   "source": [
    "import matplotlib.pyplot as plt\n",
    "import numpy as np"
   ]
  },
  {
   "cell_type": "code",
   "execution_count": 225,
   "metadata": {
    "collapsed": true,
    "deletable": true,
    "editable": true
   },
   "outputs": [],
   "source": [
    "assembly_name_plots = vcf_filename.split(\".\")[0]\n",
    "str_filename = str_filename_fpop\n",
    "fis_filename = \"Fis_\" + date + \".txt\"\n",
    "ho_filename = \"Ho_\" + date + \".txt\"\n",
    "hs_filename = \"Hs_\" + date + \".txt\"\n",
    "clust_sim = \"86%\" # CHANGE"
   ]
  },
  {
   "cell_type": "code",
   "execution_count": 226,
   "metadata": {
    "collapsed": false,
    "deletable": true,
    "editable": true
   },
   "outputs": [],
   "source": [
    "vcf_file = open(vcf_filename,\"r\") # change!\n",
    "vcf_file_lines = vcf_file.readlines()\n",
    "vcf_file.close()\n",
    "\n",
    "locus_names = {}\n",
    "snp_name_count = 1\n",
    "\n",
    "for line in vcf_file_lines:\n",
    "    if line[0] != \"#\":\n",
    "        linelist = line.strip().split()\n",
    "        locus = linelist[0]\n",
    "        pos = linelist[1]\n",
    "        vcf_locus_name = locus + \"_\" + pos\n",
    "        str_locus_name = \"SNP_\" + str(snp_name_count)\n",
    "        snp_name_count += 1\n",
    "        locus_names[str_locus_name] = vcf_locus_name  \n",
    "\n",
    "sample_list = []\n",
    "snp_name_list = []\n",
    "rdd = {} \n",
    "\n",
    "for line in vcf_file_lines:\n",
    "    if line[0:1] == \"#C\":\n",
    "        linelist = line.strip().split()\n",
    "        sample_list += linelist[9:]\n",
    "    elif line[0] != \"#\": # ignore header lines\n",
    "        genblocks = line.strip().split()\n",
    "        snp_name = genblocks[0] + \"_\" + genblocks[1] # name formate.g., locus_47_1\n",
    "        snp_name_list.append(snp_name)\n",
    "        for genblock in genblocks[9:]: # start on genotype lines\n",
    "            genblocklist = genblock.split(\":\")\n",
    "            rd = int(genblocklist[1])\n",
    "            if snp_name not in rdd:\n",
    "                rdd[snp_name] = [rd]\n",
    "            elif snp_name in rdd:\n",
    "                rdd[snp_name] += [rd]\n",
    "            else:\n",
    "                print \"something funky going on\"\n",
    "\n",
    "locus_rd_avs = []\n",
    "for snp in snp_name_list:\n",
    "    locus_rd_avs.append(np.mean(rdd[snp]))\n",
    "    \n",
    "plt.hist(locus_rd_avs, bins = np.arange(0,max(locus_rd_avs)+1,4)-2)\n",
    "plt.title(\"Average locus read depth \" + vcf_filename + \"\\n\" + clust_sim)\n",
    "plt.xlabel(\"Read depth\")\n",
    "plt.ylabel(\"Frequency\")\n",
    "\n",
    "plt.savefig('rd_' + assembly_name_plots + '.png')\n",
    "plt.close()"
   ]
  },
  {
   "cell_type": "code",
   "execution_count": 227,
   "metadata": {
    "collapsed": false,
    "deletable": true,
    "editable": true,
    "scrolled": true
   },
   "outputs": [],
   "source": [
    "fis_file = open(fis_filename,\"r\")\n",
    "fis_file_lines = fis_file.readlines()\n",
    "fis_file.close()\n",
    "\n",
    "fis_list = []\n",
    "fis_pls_NAs = []\n",
    "\n",
    "for line in fis_file_lines[1:]:\n",
    "    fis = line.strip().split()[1]\n",
    "    fis_pls_NAs.append(fis)\n",
    "    if fis != \"NA\":\n",
    "        fis_list.append(float(fis))\n",
    "    \n",
    "plt.hist(fis_list, bins = np.arange(-1.2,1.2,.05)-.025)\n",
    "\n",
    "\n",
    "plt.title(fis_filename + \"\\n\" + clust_sim)\n",
    "\n",
    "plt.xlabel(\"Fis\")\n",
    "plt.ylabel(\"Frequency\")\n",
    "\n",
    "plt.savefig(\"Fis_\" + assembly_name_plots + '.png')\n",
    "plt.close()"
   ]
  },
  {
   "cell_type": "code",
   "execution_count": 228,
   "metadata": {
    "collapsed": true,
    "deletable": true,
    "editable": true
   },
   "outputs": [],
   "source": [
    "ho_file = open(ho_filename,\"r\")\n",
    "ho_file_lines = ho_file.readlines()\n",
    "ho_file.close()\n",
    "\n",
    "ho_list = []\n",
    "ho_and_NAs = []\n",
    "\n",
    "for line in ho_file_lines[1:]:\n",
    "    ho = line.strip().split()[1]\n",
    "    ho_and_NAs.append(ho)\n",
    "    if ho != \"NA\":\n",
    "        ho_list.append(float(ho))\n",
    "    \n",
    "plt.hist(ho_list, bins = np.arange(0,1.2,.05)-.025)\n",
    "\n",
    "plt.title(ho_filename + \"\\n\" + clust_sim)\n",
    "plt.xlabel(\"Ho\")\n",
    "plt.ylabel(\"Frequency\")\n",
    "plt.savefig(\"Ho_\" + assembly_name_plots + '.png')\n",
    "plt.close()"
   ]
  },
  {
   "cell_type": "code",
   "execution_count": 229,
   "metadata": {
    "collapsed": true,
    "deletable": true,
    "editable": true
   },
   "outputs": [],
   "source": [
    "hs_file = open(hs_filename,\"r\")\n",
    "hs_file_lines = hs_file.readlines()\n",
    "hs_file.close()\n",
    "\n",
    "hs_list = []\n",
    "hs_and_NAs = []\n",
    "\n",
    "for line in hs_file_lines[1:]:\n",
    "    hs = line.strip().split()[1]\n",
    "    hs_and_NAs.append(hs)\n",
    "    if hs != \"NA\":\n",
    "        hs_list.append(float(hs))\n",
    "    \n",
    "plt.hist(hs_list, bins = np.arange(0,1.2,.025)-.0125)\n",
    "\n",
    "plt.title(hs_filename + \"\\n\" + clust_sim)\n",
    "\n",
    "plt.xlabel(\"Hs\")\n",
    "plt.ylabel(\"Frequency\")\n",
    "plt.savefig(\"Hs_\" + assembly_name_plots + '.png')\n",
    "plt.close()"
   ]
  },
  {
   "cell_type": "code",
   "execution_count": 231,
   "metadata": {
    "collapsed": true,
    "deletable": true,
    "editable": true
   },
   "outputs": [],
   "source": []
  },
  {
   "cell_type": "code",
   "execution_count": 232,
   "metadata": {
    "collapsed": false,
    "deletable": true,
    "editable": true
   },
   "outputs": [
    {
     "data": {
      "text/plain": [
       "u'/mnt/hgfs/SHARED_FOLDER'"
      ]
     },
     "execution_count": 232,
     "metadata": {},
     "output_type": "execute_result"
    }
   ],
   "source": [
    "pwd"
   ]
  },
  {
   "cell_type": "code",
   "execution_count": null,
   "metadata": {
    "collapsed": true,
    "deletable": true,
    "editable": true
   },
   "outputs": [],
   "source": []
  }
 ],
 "metadata": {
  "kernelspec": {
   "display_name": "Python 2",
   "language": "python",
   "name": "python2"
  },
  "language_info": {
   "codemirror_mode": {
    "name": "ipython",
    "version": 2
   },
   "file_extension": ".py",
   "mimetype": "text/x-python",
   "name": "python",
   "nbconvert_exporter": "python",
   "pygments_lexer": "ipython2",
   "version": "2.7.13"
  }
 },
 "nbformat": 4,
 "nbformat_minor": 2
}
