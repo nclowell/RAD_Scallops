{
 "cells": [
  {
   "cell_type": "markdown",
   "metadata": {},
   "source": [
    "## Comparing HWE Filtering Methods\n",
    "\n",
    "**20180622**\n",
    "\n",
    "I wanted to see how the different HWE filtering methods affected my scallop data in terms of number of loci and patterns in the DAPCs.\n",
    "\n",
    "At the core of all three HWE filtering methods is first running the exact pairwise HW test in Genepop. Then...\n",
    "\n",
    "(1) Jon Purtiz's method is booting out loci that are out of HWE (with alpha of less than 0.01) in more than half of the populations. This method is expected to boot out few loci. Jon's reasoning was that we expect a lot of loci to be out of HWE, and that we're not actually trying to remove those loci. Instead we're trying to remove poorly assembled loci (loci that incorrectly combined repeat units, or paralogous loci, etc.), which should be very few.\n",
    "\n",
    "(2) Mary's method is using Fisher's combination of probabilities from indepenedent tests of significance, which is essentially a multiple corrections test. Then, Mary removes loci if they are out of HWE in at least 2 populations.\n",
    "\n",
    "(3) Charlie uses a multiple corrections test that generates a false discovery rate to calculate qvalues of significance per locus in each population. I removed loci if their qvalue was <0.05 in at least half of the populations.\n",
    "\n",
    "#### DAPCs\n",
    "\n",
    "![dapc](https://github.com/nclowell/RAD_Scallops/blob/master/CRAGIG_combined_lanes/Notebooks/imgs_for_notebooks/CG_allR_1M_002_biall_maf_oneSNP_inames_post_HWEchi_DAPC.png?raw=true)\n",
    "\n",
    "![dapc](https://github.com/nclowell/RAD_Scallops/blob/master/CRAGIG_combined_lanes/Notebooks/imgs_for_notebooks/CG_allR_1M_002_biall_maf_oneSNP_inames_wpops_DAPC.png?raw=true)\n",
    "\n",
    "![dapc](https://github.com/nclowell/RAD_Scallops/blob/master/CRAGIG_combined_lanes/Notebooks/imgs_for_notebooks/CG_allR_1M_002_biall_maf_oneSNP_inames_wpops_fHWE_DAPC.png?raw=true)"
   ]
  },
  {
   "cell_type": "code",
   "execution_count": null,
   "metadata": {},
   "outputs": [],
   "source": []
  }
 ],
 "metadata": {
  "kernelspec": {
   "display_name": "Python 2",
   "language": "python",
   "name": "python2"
  },
  "language_info": {
   "codemirror_mode": {
    "name": "ipython",
    "version": 2
   },
   "file_extension": ".py",
   "mimetype": "text/x-python",
   "name": "python",
   "nbconvert_exporter": "python",
   "pygments_lexer": "ipython2",
   "version": "2.7.14"
  }
 },
 "nbformat": 4,
 "nbformat_minor": 2
}
