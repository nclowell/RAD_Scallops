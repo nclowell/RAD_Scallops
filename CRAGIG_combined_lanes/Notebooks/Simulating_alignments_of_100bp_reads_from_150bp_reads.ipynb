{
 "cells": [
  {
   "cell_type": "markdown",
   "metadata": {},
   "source": [
    "## Simulating alignments of 100bp reads from 150bp reads"
   ]
  },
  {
   "cell_type": "markdown",
   "metadata": {},
   "source": [
    "#### Executive Summary\n",
    "\n",
    "**20170817**\n",
    "\n",
    "I made a reference genome from the ipyrad assembly output of 25 scallops from 5 different populations, and aligned an individual fastq file with 150bp reads as well as a trimmed version of the same fastq file, with 100bp reads. \n",
    "<br>\n",
    "<br>\n",
    "**[1]** ``bowtie2`` output suggests that 100bp and 150bp are extremely comparable. Almost the same number of reads aligned, and a very small number of 100bp reads aligned to multiple loci (0.1%). See below.\n",
    "\n",
    "**100bp**\n",
    "``4579335 reads; of these:\n",
    "  4579335 (100.00%) were unpaired; of these:\n",
    "    3331857 (72.76%) aligned 0 times\n",
    "    1242720 (27.14%) aligned exactly 1 time\n",
    "    4758 (0.10%) aligned >1 times\n",
    "27.24% overall alignment rate``\n",
    "\n",
    "**150bp**\n",
    "``\n",
    "4579335 reads; of these:\n",
    "  4579335 (100.00%) were unpaired; of these:\n",
    "    3287146 (71.78%) aligned 0 times\n",
    "    1292182 (28.22%) aligned exactly 1 time\n",
    "    7 (0.00%) aligned >1 times\n",
    "28.22% overall alignment rate\n",
    "``\n",
    "<br>\n",
    "<br>\n",
    "<br>\n",
    "<br>\n",
    "**[2]** I also compared the distribution of the mapping quality scores, and they too look incredibly comparable.\n",
    "\n",
    "![img](https://github.com/nclowell/RAD_Scallops/blob/master/CRAGIG_combined_lanes/Notebooks/imgs_for_notebooks/100_150bp_mapq_test_20170817.png?raw=true)\n",
    "\n",
    "It looks like the high quality reads are those in the distribution starting around MAPQ score of 170, and ending around 230. They look slightly different, but for our intent probably will work equally well for clustering. I zoomed in on this distribution here:\n",
    "\n",
    "![img](https://github.com/nclowell/RAD_Scallops/blob/master/CRAGIG_combined_lanes/Notebooks/imgs_for_notebooks/100_150bp_mapq_test_zoom_20170817.png?raw=true)\n",
    "\n",
    "**Conclusion** I think it's ok to use 100bp sequencing.\n",
    "<br>\n",
    "<br>\n",
    "\n",
    "_______________________________________________________________"
   ]
  },
  {
   "cell_type": "markdown",
   "metadata": {},
   "source": [
    "**20170817**\n",
    "\n",
    "Lorenz wants to know whether we can sequence 100bp reads for Molly's lane and project instead of 150bp, but we were worried that the clustering and aligning might be less effective given the great genetic variation in bivalves. So, to predict how many loci we'll have with 100bp reads, I'm going to make a reference genome, then align an individual fastq file with 150bp reads, and then separately align a 100bp version of the same fastq file, and compare how well each aligned. Ideally, the vast majority of loci in the reference genome should align to both 100bp and 150bp. \n",
    "\n",
    "Here are some readings I used to figure out how mapping scores work, etc.:\n",
    "- [this blog post](http://www.acgt.me/blog/2014/12/16/understanding-mapq-scores-in-sam-files-does-37-42)\n",
    "- [this bowtie2 aligner manual page, explains difference between alignment and mapping scores](http://bowtie-bio.sourceforge.net/bowtie2/manual.shtml#the-bowtie2-aligner)\n",
    "- [this forum article Dan sent me on defining mapping scores](http://seqanswers.com/forums/showthread.php?t=66634)"
   ]
  },
  {
   "cell_type": "markdown",
   "metadata": {},
   "source": [
    "**[1]** I made a reference genome from an assembly of 25 scallops, from 5 different populations, at 80% clustering similarity."
   ]
  },
  {
   "cell_type": "code",
   "execution_count": 5,
   "metadata": {
    "collapsed": false
   },
   "outputs": [
    {
     "name": "stdout",
     "output_type": "stream",
     "text": [
      "/mnt/hgfs/SHARED_FOLDER/Learn_iPyrad\n"
     ]
    }
   ],
   "source": [
    "cd /mnt/hgfs/SHARED_FOLDER/Learn_iPyrad/"
   ]
  },
  {
   "cell_type": "code",
   "execution_count": 7,
   "metadata": {
    "collapsed": false
   },
   "outputs": [
    {
     "name": "stdout",
     "output_type": "stream",
     "text": [
      ">10\r\n",
      "AGACGAAGTTACTCACTTGCTGAACAGATATGCTTTCTATCCACCTGGAACTATTTAAGCCACACATTCTAGGGACAAAACATGTTCTCTTTCCGAAGATTTCTCTATCATTGCTAAGGAGTCGTTCGTATCTTAGCA\r\n",
      ">11\r\n",
      "TCTGATATTAAGAATAGAATACACATGCTGTTGCCCCACTGCATGTACAATAAAATGCGACTAATGTGGGACACCTCCTGCAGAATTGGGGATTTATTTTTGTAACTTCTACTCGAAGGACAAAAAGAAGCGATGAAA\r\n",
      ">14\r\n",
      "GACGAATGAATACTTCGAACAAGTATTAGAAATTGATTTACAATTGAATGTAAGCTAACCTTTACACATTTTTTATTTGTACAGAAAAGACTTTGACAAGTAGTAAACAAGAAGTTATTACAGTAAGGCAAGTACAAT\r\n",
      ">19\r\n",
      "AACCCTAACTTGTACAATCTCTTCATCACTTGTGAAGAAGATACCACGTAGGTACTGATCCACAGAGATTTCAGGTAGTTCCTGTTTAGTTCCACAAGTTGTCCTCAAGTTGTATTGAATCACTACCTGTAAGTCTAC\r\n"
     ]
    }
   ],
   "source": [
    "!head cragig_c80_refgen_20170816.fa -n 8"
   ]
  },
  {
   "cell_type": "markdown",
   "metadata": {},
   "source": [
    "**[2]** I need to pick an individual fastq file with 150bp reads, and trim one copy to 140 bp and a second copy to 90 bp. It looks like [``seqtk``](https://github.com/lh3/seqtk) will be the easiest way to trim fastq files. Just installed it."
   ]
  },
  {
   "cell_type": "code",
   "execution_count": 8,
   "metadata": {
    "collapsed": false
   },
   "outputs": [
    {
     "name": "stdout",
     "output_type": "stream",
     "text": [
      "\r\n",
      "Usage:   seqtk <command> <arguments>\r\n",
      "Version: 1.0-r31\r\n",
      "\r\n",
      "Command: seq       common transformation of FASTA/Q\r\n",
      "         comp      get the nucleotide composition of FASTA/Q\r\n",
      "         sample    subsample sequences\r\n",
      "         subseq    extract subsequences from FASTA/Q\r\n",
      "         trimfq    trim FASTQ using the Phred algorithm\r\n",
      "\r\n",
      "         hety      regional heterozygosity\r\n",
      "         mutfa     point mutate FASTA at specified positions\r\n",
      "         mergefa   merge two FASTA/Q files\r\n",
      "         randbase  choose a random base from hets\r\n",
      "         cutN      cut sequence at long N\r\n",
      "         listhet   extract the position of each het\r\n",
      "\r\n"
     ]
    }
   ],
   "source": [
    "!seqtk"
   ]
  },
  {
   "cell_type": "markdown",
   "metadata": {},
   "source": [
    "I copied an individual fastq into the directory, made a copy of it, and name them 150bp and 100bp test."
   ]
  },
  {
   "cell_type": "code",
   "execution_count": 10,
   "metadata": {
    "collapsed": false
   },
   "outputs": [
    {
     "name": "stdout",
     "output_type": "stream",
     "text": [
      "FG001_100bp_test.fastq\tFG001_150bp_test.fastq\r\n"
     ]
    }
   ],
   "source": [
    "!ls *.fastq"
   ]
  },
  {
   "cell_type": "code",
   "execution_count": 16,
   "metadata": {
    "collapsed": false
   },
   "outputs": [],
   "source": [
    "!seqtk trimfq -e 4 FG001_150bp_test.fastq > FG001_150bp_trmd_test.fastq"
   ]
  },
  {
   "cell_type": "code",
   "execution_count": 17,
   "metadata": {
    "collapsed": true
   },
   "outputs": [],
   "source": [
    "!seqtk trimfq -e 54 FG001_100bp_test.fastq > FG001_100bp_trmd_test.fastq"
   ]
  },
  {
   "cell_type": "markdown",
   "metadata": {},
   "source": [
    "Check that the sequence lengths make sense:"
   ]
  },
  {
   "cell_type": "code",
   "execution_count": 18,
   "metadata": {
    "collapsed": false
   },
   "outputs": [
    {
     "name": "stdout",
     "output_type": "stream",
     "text": [
      "@K00137:384:HCYV5BBXX:5:1102:3325:9016 1:N:0:AAAATACA_AGATCTCG\r\n",
      "TGCAGGTATTGTACCTGGTGCACCCAATTTCATGATCGTAAGAGGCGACTTAATTTGGATCTTATCTTTTCTCTTCTTTCTAAATAACTT\r\n",
      "+\r\n",
      "AAFJJJJJJJJJJJJJJJJJJJJJJJJJJJJJJJJJJJJJJJJJJJJJJJJJJJJJJJJFJJJJJJJJJJJJJJJJJJJJJJJJJJJJJJ\r\n",
      "@K00137:384:HCYV5BBXX:5:1102:7060:9016 1:N:0:TTATAAAA_AGATCTCG\r\n",
      "TGCAGGGTTGTGATGTTTTGGGTCGTTGTTAATCGATCTAAACACAGAGGAAATTTGATTTTCAATGGGATTATGAAAAACAAATCGAAA\r\n",
      "+\r\n",
      "FJJJJJJJJJJJJJJJJJJJJJJJJJJJJJJJJJJJJJJJJJJJJJJJJJJJJJJJJJJJJJJJJJJJJJJFJJJJJJJJJJJJJJJJJJ\r\n",
      "@K00137:384:HCYV5BBXX:5:1102:10510:9016 1:N:0:TCGGGGGG_AGATCTCG\r\n",
      "TGCAGGTAGGTCTATGAAGGTAGTCAGTATCACCAACAAAACCTTATGGCAAAGTCTCAGGGAAATCTGTGCTAAACAGTCAAGCTAGCC\r\n",
      "+\r\n",
      "FFFJJJJJJJJJJJJJJJJJJJJJJJJJJJJJJJJJJJJJJJJJJJJJJJJJJJJJJJJJJJJJJJJJJJJJJJJJJJJJJJJJJJJJJJ\r\n"
     ]
    }
   ],
   "source": [
    "!head FG001_100bp_trmd_test.fastq -n 12"
   ]
  },
  {
   "cell_type": "code",
   "execution_count": 19,
   "metadata": {
    "collapsed": false
   },
   "outputs": [
    {
     "name": "stdout",
     "output_type": "stream",
     "text": [
      "@K00137:384:HCYV5BBXX:5:1102:3325:9016 1:N:0:AAAATACA_AGATCTCG\r\n",
      "TGCAGGTATTGTACCTGGTGCACCCAATTTCATGATCGTAAGAGGCGACTTAATTTGGATCTTATCTTTTCTCTTCTTTCTAAATAACTTTCTTCTTACTAATGTCTCCCTTGACAATGCCTCGCTTTTAACCTTATCTT\r\n",
      "+\r\n",
      "AAFJJJJJJJJJJJJJJJJJJJJJJJJJJJJJJJJJJJJJJJJJJJJJJJJJJJJJJJJFJJJJJJJJJJJJJJJJJJJJJJJJJJJJJJJJJJJJJJJFJJJJJJJJJJJJJJJJJJJJJJJJJJJJJJJFJJJJFAJJ\r\n",
      "@K00137:384:HCYV5BBXX:5:1102:7060:9016 1:N:0:TTATAAAA_AGATCTCG\r\n",
      "TGCAGGGTTGTGATGTTTTGGGTCGTTGTTAATCGATCTAAACACAGAGGAAATTTGATTTTCAATGGGATTATGAAAAACAAATCGAAAGGTTAACCTTAGTAAGACTATTTATTGTGTGCGTATGATTTCTCCTACTC\r\n",
      "+\r\n",
      "FJJJJJJJJJJJJJJJJJJJJJJJJJJJJJJJJJJJJJJJJJJJJJJJJJJJJJJJJJJJJJJJJJJJJJJFJJJJJJJJJJJJJJJJJJJFJJJJJJJJJJJJJJJJJJJJFJJJJJJJJJJJJJFJJJFJFJFJJJFJ\r\n",
      "@K00137:384:HCYV5BBXX:5:1102:10510:9016 1:N:0:TCGGGGGG_AGATCTCG\r\n",
      "TGCAGGTAGGTCTATGAAGGTAGTCAGTATCACCAACAAAACCTTATGGCAAAGTCTCAGGGAAATCTGTGCTAAACAGTCAAGCTAGCCTGAAGATATTATAGACCAGCATGGACTCAGCTGTATCTTAAAATAAATCA\r\n",
      "+\r\n",
      "FFFJJJJJJJJJJJJJJJJJJJJJJJJJJJJJJJJJJJJJJJJJJJJJJJJJJJJJJJJJJJJJJJJJJJJJJJJJJJJJJJJJJJJJJJJJJJJJJJJJJJJJJJJJJJJJJJJJJJJJJJJJJJJFJJJJJJJJJJJJ\r\n"
     ]
    }
   ],
   "source": [
    "!head FG001_150bp_trmd_test.fastq -n 12"
   ]
  },
  {
   "cell_type": "markdown",
   "metadata": {},
   "source": [
    "Looks good! Now I need to align each fastq to the reference genome I made, using Bowtie2 which allows for indels."
   ]
  },
  {
   "cell_type": "code",
   "execution_count": 20,
   "metadata": {
    "collapsed": false
   },
   "outputs": [
    {
     "name": "stdout",
     "output_type": "stream",
     "text": [
      "No index, query, or output file specified!\r\n",
      "Bowtie 2 version 2.2.6 by Ben Langmead (langmea@cs.jhu.edu, www.cs.jhu.edu/~langmea)\r\n",
      "Usage: \r\n",
      "  bowtie2 [options]* -x <bt2-idx> {-1 <m1> -2 <m2> | -U <r>} [-S <sam>]\r\n",
      "\r\n",
      "  <bt2-idx>  Index filename prefix (minus trailing .X.bt2).\r\n",
      "             NOTE: Bowtie 1 and Bowtie 2 indexes are not compatible.\r\n",
      "  <m1>       Files with #1 mates, paired with files in <m2>.\r\n",
      "             Could be gzip'ed (extension: .gz) or bzip2'ed (extension: .bz2).\r\n",
      "  <m2>       Files with #2 mates, paired with files in <m1>.\r\n",
      "             Could be gzip'ed (extension: .gz) or bzip2'ed (extension: .bz2).\r\n",
      "  <r>        Files with unpaired reads.\r\n",
      "             Could be gzip'ed (extension: .gz) or bzip2'ed (extension: .bz2).\r\n",
      "  <sam>      File for SAM output (default: stdout)\r\n",
      "\r\n",
      "  <m1>, <m2>, <r> can be comma-separated lists (no whitespace) and can be\r\n",
      "  specified many times.  E.g. '-U file1.fq,file2.fq -U file3.fq'.\r\n",
      "\r\n",
      "Options (defaults in parentheses):\r\n",
      "\r\n",
      " Input:\r\n",
      "  -q                 query input files are FASTQ .fq/.fastq (default)\r\n",
      "  --qseq             query input files are in Illumina's qseq format\r\n",
      "  -f                 query input files are (multi-)FASTA .fa/.mfa\r\n",
      "  -r                 query input files are raw one-sequence-per-line\r\n",
      "  -c                 <m1>, <m2>, <r> are sequences themselves, not files\r\n",
      "  -s/--skip <int>    skip the first <int> reads/pairs in the input (none)\r\n",
      "  -u/--upto <int>    stop after first <int> reads/pairs (no limit)\r\n",
      "  -5/--trim5 <int>   trim <int> bases from 5'/left end of reads (0)\r\n",
      "  -3/--trim3 <int>   trim <int> bases from 3'/right end of reads (0)\r\n",
      "  --phred33          qualities are Phred+33 (default)\r\n",
      "  --phred64          qualities are Phred+64\r\n",
      "  --int-quals        qualities encoded as space-delimited integers\r\n",
      "\r\n",
      " Presets:                 Same as:\r\n",
      "  For --end-to-end:\r\n",
      "   --very-fast            -D 5 -R 1 -N 0 -L 22 -i S,0,2.50\r\n",
      "   --fast                 -D 10 -R 2 -N 0 -L 22 -i S,0,2.50\r\n",
      "   --sensitive            -D 15 -R 2 -N 0 -L 22 -i S,1,1.15 (default)\r\n",
      "   --very-sensitive       -D 20 -R 3 -N 0 -L 20 -i S,1,0.50\r\n",
      "\r\n",
      "  For --local:\r\n",
      "   --very-fast-local      -D 5 -R 1 -N 0 -L 25 -i S,1,2.00\r\n",
      "   --fast-local           -D 10 -R 2 -N 0 -L 22 -i S,1,1.75\r\n",
      "   --sensitive-local      -D 15 -R 2 -N 0 -L 20 -i S,1,0.75 (default)\r\n",
      "   --very-sensitive-local -D 20 -R 3 -N 0 -L 20 -i S,1,0.50\r\n",
      "\r\n",
      " Alignment:\r\n",
      "  -N <int>           max # mismatches in seed alignment; can be 0 or 1 (0)\r\n",
      "  -L <int>           length of seed substrings; must be >3, <32 (22)\r\n",
      "  -i <func>          interval between seed substrings w/r/t read len (S,1,1.15)\r\n",
      "  --n-ceil <func>    func for max # non-A/C/G/Ts permitted in aln (L,0,0.15)\r\n",
      "  --dpad <int>       include <int> extra ref chars on sides of DP table (15)\r\n",
      "  --gbar <int>       disallow gaps within <int> nucs of read extremes (4)\r\n",
      "  --ignore-quals     treat all quality values as 30 on Phred scale (off)\r\n",
      "  --nofw             do not align forward (original) version of read (off)\r\n",
      "  --norc             do not align reverse-complement version of read (off)\r\n",
      "  --no-1mm-upfront   do not allow 1 mismatch alignments before attempting to\r\n",
      "                     scan for the optimal seeded alignments\r\n",
      "  --end-to-end       entire read must align; no clipping (on)\r\n",
      "   OR\r\n",
      "  --local            local alignment; ends might be soft clipped (off)\r\n",
      "\r\n",
      " Scoring:\r\n",
      "  --ma <int>         match bonus (0 for --end-to-end, 2 for --local) \r\n",
      "  --mp <int>         max penalty for mismatch; lower qual = lower penalty (6)\r\n",
      "  --np <int>         penalty for non-A/C/G/Ts in read/ref (1)\r\n",
      "  --rdg <int>,<int>  read gap open, extend penalties (5,3)\r\n",
      "  --rfg <int>,<int>  reference gap open, extend penalties (5,3)\r\n",
      "  --score-min <func> min acceptable alignment score w/r/t read length\r\n",
      "                     (G,20,8 for local, L,-0.6,-0.6 for end-to-end)\r\n",
      "\r\n",
      " Reporting:\r\n",
      "  (default)          look for multiple alignments, report best, with MAPQ\r\n",
      "   OR\r\n",
      "  -k <int>           report up to <int> alns per read; MAPQ not meaningful\r\n",
      "   OR\r\n",
      "  -a/--all           report all alignments; very slow, MAPQ not meaningful\r\n",
      "\r\n",
      " Effort:\r\n",
      "  -D <int>           give up extending after <int> failed extends in a row (15)\r\n",
      "  -R <int>           for reads w/ repetitive seeds, try <int> sets of seeds (2)\r\n",
      "\r\n",
      " Paired-end:\r\n",
      "  -I/--minins <int>  minimum fragment length (0)\r\n",
      "  -X/--maxins <int>  maximum fragment length (500)\r\n",
      "  --fr/--rf/--ff     -1, -2 mates align fw/rev, rev/fw, fw/fw (--fr)\r\n",
      "  --no-mixed         suppress unpaired alignments for paired reads\r\n",
      "  --no-discordant    suppress discordant alignments for paired reads\r\n",
      "  --no-dovetail      not concordant when mates extend past each other\r\n",
      "  --no-contain       not concordant when one mate alignment contains other\r\n",
      "  --no-overlap       not concordant when mates overlap at all\r\n",
      "\r\n",
      " Output:\r\n",
      "  -t/--time          print wall-clock time taken by search phases\r\n",
      "  --un <path>           write unpaired reads that didn't align to <path>\r\n",
      "  --al <path>           write unpaired reads that aligned at least once to <path>\r\n",
      "  --un-conc <path>      write pairs that didn't align concordantly to <path>\r\n",
      "  --al-conc <path>      write pairs that aligned concordantly at least once to <path>\r\n",
      "  (Note: for --un, --al, --un-conc, or --al-conc, add '-gz' to the option name, e.g.\r\n",
      "  --un-gz <path>, to gzip compress output, or add '-bz2' to bzip2 compress output.)\r\n",
      "  --quiet            print nothing to stderr except serious errors\r\n",
      "  --met-file <path>  send metrics to file at <path> (off)\r\n",
      "  --met-stderr       send metrics to stderr (off)\r\n",
      "  --met <int>        report internal counters & metrics every <int> secs (1)\r\n",
      "  --no-unal          supppress SAM records for unaligned reads\r\n",
      "  --no-head          supppress header lines, i.e. lines starting with @\r\n",
      "  --no-sq            supppress @SQ header lines\r\n",
      "  --rg-id <text>     set read group id, reflected in @RG line and RG:Z: opt field\r\n",
      "  --rg <text>        add <text> (\"lab:value\") to @RG line of SAM header.\r\n",
      "                     Note: @RG line only printed when --rg-id is set.\r\n",
      "  --omit-sec-seq     put '*' in SEQ and QUAL fields for secondary alignments.\r\n",
      "\r\n",
      " Performance:\r\n",
      "  -p/--threads <int> number of alignment threads to launch (1)\r\n",
      "  --reorder          force SAM output order to match order of input reads\r\n",
      "  --mm               use memory-mapped I/O for index; many 'bowtie's can share\r\n",
      "\r\n",
      " Other:\r\n",
      "  --qc-filter        filter out reads that are bad according to QSEQ filter\r\n",
      "  --seed <int>       seed for random number generator (0)\r\n",
      "  --non-deterministic seed rand. gen. arbitrarily instead of using read attributes\r\n",
      "  --version          print version information and quit\r\n",
      "  -h/--help          print this usage message\r\n",
      "(ERR): bowtie2-align exited with value 1\r\n"
     ]
    }
   ],
   "source": [
    "!bowtie2"
   ]
  },
  {
   "cell_type": "markdown",
   "metadata": {},
   "source": [
    "Make bowtie2 index."
   ]
  },
  {
   "cell_type": "code",
   "execution_count": 21,
   "metadata": {
    "collapsed": false
   },
   "outputs": [
    {
     "name": "stdout",
     "output_type": "stream",
     "text": [
      "Settings:\n",
      "  Output files: \"cragig_refgen_20170817.*.bt2\"\n",
      "  Line rate: 6 (line is 64 bytes)\n",
      "  Lines per side: 1 (side is 64 bytes)\n",
      "  Offset rate: 4 (one in 16)\n",
      "  FTable chars: 10\n",
      "  Strings: unpacked\n",
      "  Max bucket size: default\n",
      "  Max bucket size, sqrt multiplier: default\n",
      "  Max bucket size, len divisor: 4\n",
      "  Difference-cover sample period: 1024\n",
      "  Endianness: little\n",
      "  Actual local endianness: little\n",
      "  Sanity checking: disabled\n",
      "  Assertions: disabled\n",
      "  Random seed: 0\n",
      "  Sizeofs: void*:8, int:4, long:8, size_t:8\n",
      "Input files DNA, FASTA:\n",
      "  cragig_c80_refgen_20170816.fa\n",
      "Building a SMALL index\n",
      "Reading reference sizes\n",
      "  Time reading reference sizes: 00:00:00\n",
      "Calculating joined length\n",
      "Writing header\n",
      "Reserving space for joined string\n",
      "Joining reference sequences\n",
      "  Time to join reference sequences: 00:00:00\n",
      "bmax according to bmaxDivN setting: 269665\n",
      "Using parameters --bmax 202249 --dcv 1024\n",
      "  Doing ahead-of-time memory usage test\n",
      "  Passed!  Constructing with these parameters: --bmax 202249 --dcv 1024\n",
      "Constructing suffix-array element generator\n",
      "Building DifferenceCoverSample\n",
      "  Building sPrime\n",
      "  Building sPrimeOrder\n",
      "  V-Sorting samples\n",
      "  V-Sorting samples time: 00:00:00\n",
      "  Allocating rank array\n",
      "  Ranking v-sort output\n",
      "  Ranking v-sort output time: 00:00:00\n",
      "  Invoking Larsson-Sadakane on ranks\n",
      "  Invoking Larsson-Sadakane on ranks time: 00:00:00\n",
      "  Sanity-checking and returning\n",
      "Building samples\n",
      "Reserving space for 12 sample suffixes\n",
      "Generating random suffixes\n",
      "QSorting 12 sample offsets, eliminating duplicates\n",
      "QSorting sample offsets, eliminating duplicates time: 00:00:00\n",
      "Multikey QSorting 12 samples\n",
      "  (Using difference cover)\n",
      "  Multikey QSorting samples time: 00:00:00\n",
      "Calculating bucket sizes\n",
      "  Binary sorting into buckets\n",
      "  10%\n",
      "  20%\n",
      "  30%\n",
      "  40%\n",
      "  50%\n",
      "  60%\n",
      "  70%\n",
      "  80%\n",
      "  90%\n",
      "  100%\n",
      "  Binary sorting into buckets time: 00:00:00\n",
      "Splitting and merging\n",
      "  Splitting and merging time: 00:00:00\n",
      "Avg bucket size: 154094 (target: 202248)\n",
      "Converting suffix-array elements to index image\n",
      "Allocating ftab, absorbFtab\n",
      "Entering Ebwt loop\n",
      "Getting block 1 of 7\n",
      "  Reserving size (202249) for bucket\n",
      "  Calculating Z arrays\n",
      "  Calculating Z arrays time: 00:00:00\n",
      "  Entering block accumulator loop:\n",
      "  10%\n",
      "  20%\n",
      "  30%\n",
      "  40%\n",
      "  50%\n",
      "  60%\n",
      "  70%\n",
      "  80%\n",
      "  90%\n",
      "  100%\n",
      "  Block accumulator loop time: 00:00:00\n",
      "  Sorting block of length 181303\n",
      "  (Using difference cover)\n",
      "  Sorting block time: 00:00:00\n",
      "Returning block of 181304\n",
      "Getting block 2 of 7\n",
      "  Reserving size (202249) for bucket\n",
      "  Calculating Z arrays\n",
      "  Calculating Z arrays time: 00:00:00\n",
      "  Entering block accumulator loop:\n",
      "  10%\n",
      "  20%\n",
      "  30%\n",
      "  40%\n",
      "  50%\n",
      "  60%\n",
      "  70%\n",
      "  80%\n",
      "  90%\n",
      "  100%\n",
      "  Block accumulator loop time: 00:00:00\n",
      "  Sorting block of length 156622\n",
      "  (Using difference cover)\n",
      "  Sorting block time: 00:00:00\n",
      "Returning block of 156623\n",
      "Getting block 3 of 7\n",
      "  Reserving size (202249) for bucket\n",
      "  Calculating Z arrays\n",
      "  Calculating Z arrays time: 00:00:00\n",
      "  Entering block accumulator loop:\n",
      "  10%\n",
      "  20%\n",
      "  30%\n",
      "  40%\n",
      "  50%\n",
      "  60%\n",
      "  70%\n",
      "  80%\n",
      "  90%\n",
      "  100%\n",
      "  Block accumulator loop time: 00:00:00\n",
      "  Sorting block of length 197913\n",
      "  (Using difference cover)\n",
      "  Sorting block time: 00:00:00\n",
      "Returning block of 197914\n",
      "Getting block 4 of 7\n",
      "  Reserving size (202249) for bucket\n",
      "  Calculating Z arrays\n",
      "  Calculating Z arrays time: 00:00:00\n",
      "  Entering block accumulator loop:\n",
      "  10%\n",
      "  20%\n",
      "  30%\n",
      "  40%\n",
      "  50%\n",
      "  60%\n",
      "  70%\n",
      "  80%\n",
      "  90%\n",
      "  100%\n",
      "  Block accumulator loop time: 00:00:00\n",
      "  Sorting block of length 200457\n",
      "  (Using difference cover)\n",
      "  Sorting block time: 00:00:00\n",
      "Returning block of 200458\n",
      "Getting block 5 of 7\n",
      "  Reserving size (202249) for bucket\n",
      "  Calculating Z arrays\n",
      "  Calculating Z arrays time: 00:00:00\n",
      "  Entering block accumulator loop:\n",
      "  10%\n",
      "  20%\n",
      "  30%\n",
      "  40%\n",
      "  50%\n",
      "  60%\n",
      "  70%\n",
      "  80%\n",
      "  90%\n",
      "  100%\n",
      "  Block accumulator loop time: 00:00:00\n",
      "  Sorting block of length 81794\n",
      "  (Using difference cover)\n",
      "  Sorting block time: 00:00:00\n",
      "Returning block of 81795\n",
      "Getting block 6 of 7\n",
      "  Reserving size (202249) for bucket\n",
      "  Calculating Z arrays\n",
      "  Calculating Z arrays time: 00:00:00\n",
      "  Entering block accumulator loop:\n",
      "  10%\n",
      "  20%\n",
      "  30%\n",
      "  40%\n",
      "  50%\n",
      "  60%\n",
      "  70%\n",
      "  80%\n",
      "  90%\n",
      "  100%\n",
      "  Block accumulator loop time: 00:00:00\n",
      "  Sorting block of length 161312\n",
      "  (Using difference cover)\n",
      "  Sorting block time: 00:00:00\n",
      "Returning block of 161313\n",
      "Getting block 7 of 7\n",
      "  Reserving size (202249) for bucket\n",
      "  Calculating Z arrays\n",
      "  Calculating Z arrays time: 00:00:00\n",
      "  Entering block accumulator loop:\n",
      "  10%\n",
      "  20%\n",
      "  30%\n",
      "  40%\n",
      "  50%\n",
      "  60%\n",
      "  70%\n",
      "  80%\n",
      "  90%\n",
      "  100%\n",
      "  Block accumulator loop time: 00:00:00\n",
      "  Sorting block of length 99255\n",
      "  (Using difference cover)\n",
      "  Sorting block time: 00:00:00\n",
      "Returning block of 99256\n",
      "Exited Ebwt loop\n",
      "fchr[A]: 0\n",
      "fchr[C]: 339648\n",
      "fchr[G]: 539667\n",
      "fchr[T]: 743317\n",
      "fchr[$]: 1078662\n",
      "Exiting Ebwt::buildToDisk()\n",
      "Returning from initFromVector\n",
      "Wrote 4723131 bytes to primary EBWT file: cragig_refgen_20170817.1.bt2\n",
      "Wrote 269672 bytes to secondary EBWT file: cragig_refgen_20170817.2.bt2\n",
      "Re-opening _in1 and _in2 as input streams\n",
      "Returning from Ebwt constructor\n",
      "Headers:\n",
      "    len: 1078662\n",
      "    bwtLen: 1078663\n",
      "    sz: 269666\n",
      "    bwtSz: 269666\n",
      "    lineRate: 6\n",
      "    offRate: 4\n",
      "    offMask: 0xfffffff0\n",
      "    ftabChars: 10\n",
      "    eftabLen: 20\n",
      "    eftabSz: 80\n",
      "    ftabLen: 1048577\n",
      "    ftabSz: 4194308\n",
      "    offsLen: 67417\n",
      "    offsSz: 269668\n",
      "    lineSz: 64\n",
      "    sideSz: 64\n",
      "    sideBwtSz: 48\n",
      "    sideBwtLen: 192\n",
      "    numSides: 5619\n",
      "    numLines: 5619\n",
      "    ebwtTotLen: 359616\n",
      "    ebwtTotSz: 359616\n",
      "    color: 0\n",
      "    reverse: 0\n",
      "Total time for call to driver() for forward index: 00:00:02\n",
      "Reading reference sizes\n",
      "  Time reading reference sizes: 00:00:00\n",
      "Calculating joined length\n",
      "Writing header\n",
      "Reserving space for joined string\n",
      "Joining reference sequences\n",
      "  Time to join reference sequences: 00:00:00\n",
      "  Time to reverse reference sequence: 00:00:00\n",
      "bmax according to bmaxDivN setting: 269665\n",
      "Using parameters --bmax 202249 --dcv 1024\n",
      "  Doing ahead-of-time memory usage test\n",
      "  Passed!  Constructing with these parameters: --bmax 202249 --dcv 1024\n",
      "Constructing suffix-array element generator\n",
      "Building DifferenceCoverSample\n",
      "  Building sPrime\n",
      "  Building sPrimeOrder\n",
      "  V-Sorting samples\n",
      "  V-Sorting samples time: 00:00:00\n",
      "  Allocating rank array\n",
      "  Ranking v-sort output\n",
      "  Ranking v-sort output time: 00:00:00\n",
      "  Invoking Larsson-Sadakane on ranks\n",
      "  Invoking Larsson-Sadakane on ranks time: 00:00:00\n",
      "  Sanity-checking and returning\n",
      "Building samples\n",
      "Reserving space for 12 sample suffixes\n",
      "Generating random suffixes\n",
      "QSorting 12 sample offsets, eliminating duplicates\n",
      "QSorting sample offsets, eliminating duplicates time: 00:00:00\n",
      "Multikey QSorting 12 samples\n",
      "  (Using difference cover)\n",
      "  Multikey QSorting samples time: 00:00:00\n",
      "Calculating bucket sizes\n",
      "  Binary sorting into buckets\n",
      "  10%\n",
      "  20%\n",
      "  30%\n",
      "  40%\n",
      "  50%\n",
      "  60%\n",
      "  70%\n",
      "  80%\n",
      "  90%\n",
      "  100%\n",
      "  Binary sorting into buckets time: 00:00:00\n",
      "Splitting and merging\n",
      "  Splitting and merging time: 00:00:00\n",
      "Avg bucket size: 154094 (target: 202248)\n",
      "Converting suffix-array elements to index image\n",
      "Allocating ftab, absorbFtab\n",
      "Entering Ebwt loop\n",
      "Getting block 1 of 7\n",
      "  Reserving size (202249) for bucket\n",
      "  Calculating Z arrays\n",
      "  Calculating Z arrays time: 00:00:00\n",
      "  Entering block accumulator loop:\n",
      "  10%\n",
      "  20%\n",
      "  30%\n",
      "  40%\n",
      "  50%\n",
      "  60%\n",
      "  70%\n",
      "  80%\n",
      "  90%\n",
      "  100%\n",
      "  Block accumulator loop time: 00:00:00\n",
      "  Sorting block of length 175390\n",
      "  (Using difference cover)\n",
      "  Sorting block time: 00:00:00\n",
      "Returning block of 175391\n",
      "Getting block 2 of 7\n",
      "  Reserving size (202249) for bucket\n",
      "  Calculating Z arrays\n",
      "  Calculating Z arrays time: 00:00:00\n",
      "  Entering block accumulator loop:\n",
      "  10%\n",
      "  20%\n",
      "  30%\n",
      "  40%\n",
      "  50%\n",
      "  60%\n",
      "  70%\n",
      "  80%\n",
      "  90%\n",
      "  100%\n",
      "  Block accumulator loop time: 00:00:00\n",
      "  Sorting block of length 183989\n",
      "  (Using difference cover)\n",
      "  Sorting block time: 00:00:00\n",
      "Returning block of 183990\n",
      "Getting block 3 of 7\n",
      "  Reserving size (202249) for bucket\n",
      "  Calculating Z arrays\n",
      "  Calculating Z arrays time: 00:00:00\n",
      "  Entering block accumulator loop:\n",
      "  10%\n",
      "  20%\n",
      "  30%\n",
      "  40%\n",
      "  50%\n",
      "  60%\n",
      "  70%\n",
      "  80%\n",
      "  90%\n",
      "  100%\n",
      "  Block accumulator loop time: 00:00:00\n",
      "  Sorting block of length 165547\n",
      "  (Using difference cover)\n",
      "  Sorting block time: 00:00:00\n",
      "Returning block of 165548\n",
      "Getting block 4 of 7\n",
      "  Reserving size (202249) for bucket\n",
      "  Calculating Z arrays\n",
      "  Calculating Z arrays time: 00:00:00\n",
      "  Entering block accumulator loop:\n",
      "  10%\n",
      "  20%\n",
      "  30%\n",
      "  40%\n",
      "  50%\n",
      "  60%\n",
      "  70%\n",
      "  80%\n",
      "  90%\n",
      "  100%\n",
      "  Block accumulator loop time: 00:00:00\n",
      "  Sorting block of length 54869\n",
      "  (Using difference cover)\n",
      "  Sorting block time: 00:00:00\n",
      "Returning block of 54870\n",
      "Getting block 5 of 7\n",
      "  Reserving size (202249) for bucket\n",
      "  Calculating Z arrays\n",
      "  Calculating Z arrays time: 00:00:00\n",
      "  Entering block accumulator loop:\n",
      "  10%\n",
      "  20%\n",
      "  30%\n",
      "  40%\n",
      "  50%\n",
      "  60%\n",
      "  70%\n",
      "  80%\n",
      "  90%\n",
      "  100%\n",
      "  Block accumulator loop time: 00:00:00\n",
      "  Sorting block of length 195569\n",
      "  (Using difference cover)\n",
      "  Sorting block time: 00:00:00\n",
      "Returning block of 195570\n",
      "Getting block 6 of 7\n",
      "  Reserving size (202249) for bucket\n",
      "  Calculating Z arrays\n",
      "  Calculating Z arrays time: 00:00:00\n",
      "  Entering block accumulator loop:\n",
      "  10%\n",
      "  20%\n",
      "  30%\n",
      "  40%\n",
      "  50%\n",
      "  60%\n",
      "  70%\n",
      "  80%\n",
      "  90%\n",
      "  100%\n",
      "  Block accumulator loop time: 00:00:00\n",
      "  Sorting block of length 187828\n",
      "  (Using difference cover)\n",
      "  Sorting block time: 00:00:00\n",
      "Returning block of 187829\n",
      "Getting block 7 of 7\n",
      "  Reserving size (202249) for bucket\n",
      "  Calculating Z arrays\n",
      "  Calculating Z arrays time: 00:00:00\n",
      "  Entering block accumulator loop:\n",
      "  10%\n",
      "  20%\n",
      "  30%\n",
      "  40%\n",
      "  50%\n",
      "  60%\n",
      "  70%\n",
      "  80%\n",
      "  90%\n",
      "  100%\n",
      "  Block accumulator loop time: 00:00:00\n",
      "  Sorting block of length 115464\n",
      "  (Using difference cover)\n",
      "  Sorting block time: 00:00:00\n",
      "Returning block of 115465\n",
      "Exited Ebwt loop\n",
      "fchr[A]: 0\n",
      "fchr[C]: 339648\n",
      "fchr[G]: 539667\n",
      "fchr[T]: 743317\n",
      "fchr[$]: 1078662\n",
      "Exiting Ebwt::buildToDisk()\n",
      "Returning from initFromVector\n",
      "Wrote 4723131 bytes to primary EBWT file: cragig_refgen_20170817.rev.1.bt2\n",
      "Wrote 269672 bytes to secondary EBWT file: cragig_refgen_20170817.rev.2.bt2\n",
      "Re-opening _in1 and _in2 as input streams\n",
      "Returning from Ebwt constructor\n",
      "Headers:\n",
      "    len: 1078662\n",
      "    bwtLen: 1078663\n",
      "    sz: 269666\n",
      "    bwtSz: 269666\n",
      "    lineRate: 6\n",
      "    offRate: 4\n",
      "    offMask: 0xfffffff0\n",
      "    ftabChars: 10\n",
      "    eftabLen: 20\n",
      "    eftabSz: 80\n",
      "    ftabLen: 1048577\n",
      "    ftabSz: 4194308\n",
      "    offsLen: 67417\n",
      "    offsSz: 269668\n",
      "    lineSz: 64\n",
      "    sideSz: 64\n",
      "    sideBwtSz: 48\n",
      "    sideBwtLen: 192\n",
      "    numSides: 5619\n",
      "    numLines: 5619\n",
      "    ebwtTotLen: 359616\n",
      "    ebwtTotSz: 359616\n",
      "    color: 0\n",
      "    reverse: 1\n",
      "Total time for backward call to driver() for mirror index: 00:00:01\n"
     ]
    }
   ],
   "source": [
    "!bowtie2-build cragig_c80_refgen_20170816.fa cragig_refgen_20170817"
   ]
  },
  {
   "cell_type": "markdown",
   "metadata": {},
   "source": [
    "**[3]** Align each to the index, output as SAM"
   ]
  },
  {
   "cell_type": "code",
   "execution_count": 24,
   "metadata": {
    "collapsed": false
   },
   "outputs": [
    {
     "name": "stdout",
     "output_type": "stream",
     "text": [
      "4579335 reads; of these:\r\n",
      "  4579335 (100.00%) were unpaired; of these:\r\n",
      "    3331874 (72.76%) aligned 0 times\r\n",
      "    1242703 (27.14%) aligned exactly 1 time\r\n",
      "    4758 (0.10%) aligned >1 times\r\n",
      "27.24% overall alignment rate\r\n"
     ]
    }
   ],
   "source": [
    "!bowtie2 -q -x cragig_refgen_20170817 -U FG001_100bp_trmd_test.fastq -S FG001_100bp_aln.sam"
   ]
  },
  {
   "cell_type": "code",
   "execution_count": 25,
   "metadata": {
    "collapsed": false
   },
   "outputs": [
    {
     "name": "stdout",
     "output_type": "stream",
     "text": [
      "4579335 reads; of these:\r\n",
      "  4579335 (100.00%) were unpaired; of these:\r\n",
      "    3287146 (71.78%) aligned 0 times\r\n",
      "    1292182 (28.22%) aligned exactly 1 time\r\n",
      "    7 (0.00%) aligned >1 times\r\n",
      "28.22% overall alignment rate\r\n"
     ]
    }
   ],
   "source": [
    "!bowtie2 -q -x cragig_refgen_20170817 -U FG001_150bp_trmd_test.fastq -S FG001_150bp_aln.sam"
   ]
  },
  {
   "cell_type": "markdown",
   "metadata": {},
   "source": [
    "**[4]** Convert to format for parsing (BED), so from SAM -> BAM and then from BAM -> BED\n",
    "\n",
    "I got some notes from Mary on how she did this. SAM -> BAM requires samtools. Install with ``sudo apt-get install samtools``, and then BAM -> BED requires bedtools, and install with ``sudo apt-get install bedtools``."
   ]
  },
  {
   "cell_type": "code",
   "execution_count": 26,
   "metadata": {
    "collapsed": false
   },
   "outputs": [
    {
     "name": "stdout",
     "output_type": "stream",
     "text": [
      "\r\n",
      "Program: samtools (Tools for alignments in the SAM format)\r\n",
      "Version: 0.1.19-96b5f2294a\r\n",
      "\r\n",
      "Usage:   samtools <command> [options]\r\n",
      "\r\n",
      "Command: view        SAM<->BAM conversion\r\n",
      "         sort        sort alignment file\r\n",
      "         mpileup     multi-way pileup\r\n",
      "         depth       compute the depth\r\n",
      "         faidx       index/extract FASTA\r\n",
      "         tview       text alignment viewer\r\n",
      "         index       index alignment\r\n",
      "         idxstats    BAM index stats (r595 or later)\r\n",
      "         fixmate     fix mate information\r\n",
      "         flagstat    simple stats\r\n",
      "         calmd       recalculate MD/NM tags and '=' bases\r\n",
      "         merge       merge sorted alignments\r\n",
      "         rmdup       remove PCR duplicates\r\n",
      "         reheader    replace BAM header\r\n",
      "         cat         concatenate BAMs\r\n",
      "         bedcov      read depth per BED region\r\n",
      "         targetcut   cut fosmid regions (for fosmid pool only)\r\n",
      "         phase       phase heterozygotes\r\n",
      "         bamshuf     shuffle and group alignments by name\r\n",
      "\r\n"
     ]
    }
   ],
   "source": [
    "!samtools"
   ]
  },
  {
   "cell_type": "code",
   "execution_count": 27,
   "metadata": {
    "collapsed": false
   },
   "outputs": [
    {
     "name": "stdout",
     "output_type": "stream",
     "text": [
      "bedtools: flexible tools for genome arithmetic and DNA sequence analysis.\r\n",
      "usage:    bedtools <subcommand> [options]\r\n",
      "\r\n",
      "The bedtools sub-commands include:\r\n",
      "\r\n",
      "[ Genome arithmetic ]\r\n",
      "    intersect     Find overlapping intervals in various ways.\r\n",
      "    window        Find overlapping intervals within a window around an interval.\r\n",
      "    closest       Find the closest, potentially non-overlapping interval.\r\n",
      "    coverage      Compute the coverage over defined intervals.\r\n",
      "    map           Apply a function to a column for each overlapping interval.\r\n",
      "    genomecov     Compute the coverage over an entire genome.\r\n",
      "    merge         Combine overlapping/nearby intervals into a single interval.\r\n",
      "    cluster       Cluster (but don't merge) overlapping/nearby intervals.\r\n",
      "    complement    Extract intervals _not_ represented by an interval file.\r\n",
      "    subtract      Remove intervals based on overlaps b/w two files.\r\n",
      "    slop          Adjust the size of intervals.\r\n",
      "    flank         Create new intervals from the flanks of existing intervals.\r\n",
      "    sort          Order the intervals in a file.\r\n",
      "    random        Generate random intervals in a genome.\r\n",
      "    shuffle       Randomly redistrubute intervals in a genome.\r\n",
      "    sample        Sample random records from file using reservoir sampling.\r\n",
      "    spacing       Report the gap lengths between intervals in a file.\r\n",
      "    annotate      Annotate coverage of features from multiple files.\r\n",
      "\r\n",
      "[ Multi-way file comparisons ]\r\n",
      "    multiinter    Identifies common intervals among multiple interval files.\r\n",
      "    unionbedg     Combines coverage intervals from multiple BEDGRAPH files.\r\n",
      "\r\n",
      "[ Paired-end manipulation ]\r\n",
      "    pairtobed     Find pairs that overlap intervals in various ways.\r\n",
      "    pairtopair    Find pairs that overlap other pairs in various ways.\r\n",
      "\r\n",
      "[ Format conversion ]\r\n",
      "    bamtobed      Convert BAM alignments to BED (& other) formats.\r\n",
      "    bedtobam      Convert intervals to BAM records.\r\n",
      "    bamtofastq    Convert BAM records to FASTQ records.\r\n",
      "    bedpetobam    Convert BEDPE intervals to BAM records.\r\n",
      "    bed12tobed6   Breaks BED12 intervals into discrete BED6 intervals.\r\n",
      "\r\n",
      "[ Fasta manipulation ]\r\n",
      "    getfasta      Use intervals to extract sequences from a FASTA file.\r\n",
      "    maskfasta     Use intervals to mask sequences from a FASTA file.\r\n",
      "    nuc           Profile the nucleotide content of intervals in a FASTA file.\r\n",
      "\r\n",
      "[ BAM focused tools ]\r\n",
      "    multicov      Counts coverage from multiple BAMs at specific intervals.\r\n",
      "    tag           Tag BAM alignments based on overlaps with interval files.\r\n",
      "\r\n",
      "[ Statistical relationships ]\r\n",
      "    jaccard       Calculate the Jaccard statistic b/w two sets of intervals.\r\n",
      "    reldist       Calculate the distribution of relative distances b/w two files.\r\n",
      "    fisher        Calculate Fisher statistic b/w two feature files.\r\n",
      "\r\n",
      "[ Miscellaneous tools ]\r\n",
      "    overlap       Computes the amount of overlap from two intervals.\r\n",
      "    igv           Create an IGV snapshot batch script.\r\n",
      "    links         Create a HTML page of links to UCSC locations.\r\n",
      "    makewindows   Make interval \"windows\" across a genome.\r\n",
      "    groupby       Group by common cols. & summarize oth. cols. (~ SQL \"groupBy\")\r\n",
      "    expand        Replicate lines based on lists of values in columns.\r\n",
      "    split         Split a file into multiple files with equal records or base pairs.\r\n",
      "\r\n",
      "[ General help ]\r\n",
      "    --help        Print this help menu.\r\n",
      "    --version     What version of bedtools are you using?.\r\n",
      "    --contact     Feature requests, bugs, mailing lists, etc.\r\n",
      "\r\n"
     ]
    }
   ],
   "source": [
    "!bedtools"
   ]
  },
  {
   "cell_type": "markdown",
   "metadata": {},
   "source": [
    "SAM -> BAM"
   ]
  },
  {
   "cell_type": "code",
   "execution_count": 28,
   "metadata": {
    "collapsed": false
   },
   "outputs": [
    {
     "name": "stdout",
     "output_type": "stream",
     "text": [
      "[samopen] SAM header is present: 7811 sequences.\r\n"
     ]
    }
   ],
   "source": [
    "!samtools view -bS FG001_100bp_aln.sam > FG001_100bp_aln.bam"
   ]
  },
  {
   "cell_type": "code",
   "execution_count": 29,
   "metadata": {
    "collapsed": false
   },
   "outputs": [
    {
     "name": "stdout",
     "output_type": "stream",
     "text": [
      "[samopen] SAM header is present: 7811 sequences.\r\n"
     ]
    }
   ],
   "source": [
    "!samtools view -bS FG001_150bp_aln.sam > FG001_150bp_aln.bam"
   ]
  },
  {
   "cell_type": "markdown",
   "metadata": {},
   "source": [
    "BAM -> BED"
   ]
  },
  {
   "cell_type": "code",
   "execution_count": 79,
   "metadata": {
    "collapsed": true
   },
   "outputs": [],
   "source": [
    "!bedtools bamtobed -i FG001_100bp_aln.bam -tag AS > FG001_100bp_aln.bed"
   ]
  },
  {
   "cell_type": "code",
   "execution_count": 80,
   "metadata": {
    "collapsed": true
   },
   "outputs": [],
   "source": [
    "!bedtools bamtobed -i FG001_150bp_aln.bam -tag AS > FG001_150bp_aln.bed"
   ]
  },
  {
   "cell_type": "markdown",
   "metadata": {},
   "source": [
    "Check it out."
   ]
  },
  {
   "cell_type": "code",
   "execution_count": 36,
   "metadata": {
    "collapsed": false
   },
   "outputs": [
    {
     "name": "stdout",
     "output_type": "stream",
     "text": [
      "8152\t0\t84\tK00137:384:HCYV5BBXX:5:1102:18568:9016\t0\t+\r\n",
      "16195\t0\t84\tK00137:384:HCYV5BBXX:5:1102:24616:9016\t3\t+\r\n",
      "14641\t0\t84\tK00137:384:HCYV5BBXX:5:1102:1651:9033\t23\t+\r\n",
      "36498\t0\t84\tK00137:384:HCYV5BBXX:5:1102:16021:9033\t0\t+\r\n",
      "10570\t0\t84\tK00137:384:HCYV5BBXX:5:1102:18213:9033\t0\t+\r\n",
      "9768\t2\t84\tK00137:384:HCYV5BBXX:5:1102:19086:9033\t3\t+\r\n",
      "2307\t2\t84\tK00137:384:HCYV5BBXX:5:1102:25195:9033\t0\t+\r\n",
      "9782\t1\t84\tK00137:384:HCYV5BBXX:5:1102:25641:9033\t3\t+\r\n",
      "23725\t0\t84\tK00137:384:HCYV5BBXX:5:1102:27549:9033\t8\t+\r\n",
      "25665\t0\t84\tK00137:384:HCYV5BBXX:5:1102:32400:9033\t0\t+\r\n"
     ]
    }
   ],
   "source": [
    "!head FG001_100bp_aln.bed -n 10"
   ]
  },
  {
   "cell_type": "code",
   "execution_count": 34,
   "metadata": {
    "collapsed": false
   },
   "outputs": [
    {
     "name": "stdout",
     "output_type": "stream",
     "text": [
      "8152\t0\t134\tK00137:384:HCYV5BBXX:5:1102:18568:9016\t23\t+\r\n",
      "16195\t0\t134\tK00137:384:HCYV5BBXX:5:1102:24616:9016\t23\t+\r\n",
      "14641\t0\t134\tK00137:384:HCYV5BBXX:5:1102:1651:9033\t24\t+\r\n",
      "36498\t0\t134\tK00137:384:HCYV5BBXX:5:1102:16021:9033\t23\t+\r\n",
      "10570\t0\t135\tK00137:384:HCYV5BBXX:5:1102:18213:9033\t3\t+\r\n",
      "9768\t2\t134\tK00137:384:HCYV5BBXX:5:1102:19086:9033\t23\t+\r\n",
      "2307\t2\t134\tK00137:384:HCYV5BBXX:5:1102:25195:9033\t8\t+\r\n",
      "9782\t1\t134\tK00137:384:HCYV5BBXX:5:1102:25641:9033\t23\t+\r\n",
      "23725\t0\t134\tK00137:384:HCYV5BBXX:5:1102:27549:9033\t24\t+\r\n",
      "25665\t0\t135\tK00137:384:HCYV5BBXX:5:1102:32400:9033\t0\t+\r\n"
     ]
    }
   ],
   "source": [
    "!head FG001_150bp_aln.bed -n 10"
   ]
  },
  {
   "cell_type": "markdown",
   "metadata": {},
   "source": [
    "**[5]** Parsing BED files to understand whether read alignment behavior differs for 100bp simulated and 150bp actual reads\n",
    "\n",
    "First, I want to know the distribution of MAPQ scores for each BED file."
   ]
  },
  {
   "cell_type": "code",
   "execution_count": 81,
   "metadata": {
    "collapsed": true
   },
   "outputs": [],
   "source": [
    "import matplotlib.pyplot as plt\n",
    "import numpy as np"
   ]
  },
  {
   "cell_type": "code",
   "execution_count": 82,
   "metadata": {
    "collapsed": false
   },
   "outputs": [],
   "source": [
    "bed100 = open(\"FG001_100bp_aln.bed\",\"r\")\n",
    "MAPQs_100 = []\n",
    "for line in bed100:\n",
    "    MAPQs_100.append(int(line.strip().split()[4]))\n",
    "bed100.close()\n",
    "\n",
    "bed150 = open(\"FG001_150bp_aln.bed\",\"r\")\n",
    "MAPQs_150 = []\n",
    "for line in bed150:\n",
    "    MAPQs_150.append(int(line.strip().split()[4]))\n",
    "bed150.close()"
   ]
  },
  {
   "cell_type": "code",
   "execution_count": 83,
   "metadata": {
    "collapsed": false
   },
   "outputs": [
    {
     "data": {
      "image/png": "[encoded data removed]",
      "text/plain": [
       "<matplotlib.figure.Figure at 0x7f0d75cc7750>"
      ]
     },
     "metadata": {},
     "output_type": "display_data"
    }
   ],
   "source": [
    "plt.hist(MAPQs_100, bins = np.arange(0,max(MAPQs_100), 2)-1,label=\"100bp\", color=\"green\",alpha = .4)\n",
    "plt.hist(MAPQs_150, bins = np.arange(0,max(MAPQs_150), 2)-1,label=\"150bp\", color=\"blue\", alpha = .4)\n",
    "plt.title('Comparing MAPQ score distributions between\\n100 and 150bp reads of same fastq to ref genome')\n",
    "plt.xlabel(\"MAPQ Score\")\n",
    "plt.ylabel(\"Frequency\")\n",
    "plt.legend()\n",
    "plt.show()\n",
    "plt.close()"
   ]
  },
  {
   "cell_type": "code",
   "execution_count": 85,
   "metadata": {
    "collapsed": false
   },
   "outputs": [
    {
     "data": {
      "image/png": "[encoded data removed]",
      "text/plain": [
       "<matplotlib.figure.Figure at 0x7f0da2511b90>"
      ]
     },
     "metadata": {},
     "output_type": "display_data"
    }
   ],
   "source": [
    "plt.hist(MAPQs_100, bins = np.arange(0,max(MAPQs_100), 2)-1,label=\"100bp\", color=\"green\",alpha = .4)\n",
    "plt.hist(MAPQs_150, bins = np.arange(0,max(MAPQs_150), 2)-1,label=\"150bp\", color=\"blue\", alpha = .4)\n",
    "plt.xlabel(\"MAPQ Score\")\n",
    "plt.ylabel(\"Frequency\")\n",
    "plt.title('Comparing MAPQ score distributions between\\n100 and 150bp reads of same fastq to ref genome')\n",
    "plt.xlim(150,250)\n",
    "plt.ylim(0,300000)\n",
    "plt.legend()\n",
    "plt.show()\n",
    "plt.close()"
   ]
  },
  {
   "cell_type": "markdown",
   "metadata": {},
   "source": [
    "Second, I want to know whether reads aligned to more loci in the 100bp versions. So, I want to make a dictionary where each key is a read and each value is a list of the reference genome loci, and compare histograms between 100 and 150bp versions."
   ]
  },
  {
   "cell_type": "code",
   "execution_count": 86,
   "metadata": {
    "collapsed": false
   },
   "outputs": [],
   "source": [
    "bed100 = open(\"FG001_100bp_aln.bed\",\"r\")\n",
    "bed100_dict = {}\n",
    "\n",
    "check = []\n",
    "\n",
    "for line in bed100:\n",
    "    linelist = line.strip().split()\n",
    "    ref_ID = linelist[0]\n",
    "    read_ID = linelist[3]\n",
    "    if read_ID not in bed100_dict:\n",
    "        bed100_dict[read_ID] = [ref_ID]\n",
    "    else:\n",
    "        bed100_dict[read_ID] += [ref_ID]\n",
    "        check.append(linelist[5])\n",
    "bed100.close()\n",
    "\n",
    "bed100_match_counts = []\n",
    "for read in bed100_dict.keys():\n",
    "    bed100_match_counts.append(len(bed100_dict[read]))"
   ]
  },
  {
   "cell_type": "code",
   "execution_count": 72,
   "metadata": {
    "collapsed": false
   },
   "outputs": [
    {
     "data": {
      "image/png": "[encoded data removed]",
      "text/plain": [
       "<matplotlib.figure.Figure at 0x7f0d75d6ea50>"
      ]
     },
     "metadata": {},
     "output_type": "display_data"
    }
   ],
   "source": [
    "plt.hist(bed100_match_counts, bins = np.arange(0,5,1)-.5)\n",
    "plt.ylim(0,10)\n",
    "plt.show()"
   ]
  },
  {
   "cell_type": "markdown",
   "metadata": {},
   "source": [
    "I just realized that I should have allowed for multiple reported alignments in my bowtie2 command, so will need to rerun. Let's allow for 10."
   ]
  },
  {
   "cell_type": "code",
   "execution_count": 99,
   "metadata": {
    "collapsed": false
   },
   "outputs": [
    {
     "name": "stdout",
     "output_type": "stream",
     "text": [
      "4579335 reads; of these:\r\n",
      "  4579335 (100.00%) were unpaired; of these:\r\n",
      "    3331857 (72.76%) aligned 0 times\r\n",
      "    1242720 (27.14%) aligned exactly 1 time\r\n",
      "    4758 (0.10%) aligned >1 times\r\n",
      "27.24% overall alignment rate\r\n"
     ]
    }
   ],
   "source": [
    "!bowtie2 -q -x cragig_refgen_20170817 -U FG001_100bp_trmd_test.fastq -S FG001_100bp_aln_r10.sam -k 10"
   ]
  },
  {
   "cell_type": "code",
   "execution_count": 101,
   "metadata": {
    "collapsed": false
   },
   "outputs": [
    {
     "name": "stdout",
     "output_type": "stream",
     "text": [
      "4579335 reads; of these:\r\n",
      "  4579335 (100.00%) were unpaired; of these:\r\n",
      "    3287146 (71.78%) aligned 0 times\r\n",
      "    1292182 (28.22%) aligned exactly 1 time\r\n",
      "    7 (0.00%) aligned >1 times\r\n",
      "28.22% overall alignment rate\r\n"
     ]
    }
   ],
   "source": [
    "!bowtie2 -q -x cragig_refgen_20170817 -U FG001_150bp_trmd_test.fastq -S FG001_150bp_aln_r10.sam -k 10"
   ]
  },
  {
   "cell_type": "code",
   "execution_count": 90,
   "metadata": {
    "collapsed": false
   },
   "outputs": [
    {
     "name": "stdout",
     "output_type": "stream",
     "text": [
      "[samopen] SAM header is present: 7811 sequences.\r\n"
     ]
    }
   ],
   "source": [
    "!samtools view -bS FG001_100bp_aln_r10.sam > FG001_100bp_aln_r10.bam"
   ]
  },
  {
   "cell_type": "code",
   "execution_count": 91,
   "metadata": {
    "collapsed": false
   },
   "outputs": [
    {
     "name": "stdout",
     "output_type": "stream",
     "text": [
      "[samopen] SAM header is present: 7811 sequences.\r\n"
     ]
    }
   ],
   "source": [
    "!samtools view -bS FG001_100bp_aln.sam > FG001_150bp_aln_r10.sam.bam"
   ]
  },
  {
   "cell_type": "code",
   "execution_count": 95,
   "metadata": {
    "collapsed": true
   },
   "outputs": [],
   "source": [
    "!bedtools bamtobed -i FG001_100bp_aln.bam -tag AS > FG001_100bp_aln_r10.bed"
   ]
  },
  {
   "cell_type": "code",
   "execution_count": 96,
   "metadata": {
    "collapsed": true
   },
   "outputs": [],
   "source": [
    "!bedtools bamtobed -i FG001_100bp_aln.bam -tag AS > FG001_150bp_aln_r10.bed"
   ]
  },
  {
   "cell_type": "code",
   "execution_count": 100,
   "metadata": {
    "collapsed": false
   },
   "outputs": [
    {
     "data": {
      "image/png": "[encoded data removed]",
      "text/plain": [
       "<matplotlib.figure.Figure at 0x7f0db067c890>"
      ]
     },
     "metadata": {},
     "output_type": "display_data"
    }
   ],
   "source": [
    "bed100 = open(\"FG001_100bp_aln_r10.bed\",\"r\")\n",
    "bed100_dict = {}\n",
    "\n",
    "check = []\n",
    "\n",
    "for line in bed100:\n",
    "    linelist = line.strip().split()\n",
    "    ref_ID = linelist[0]\n",
    "    read_ID = linelist[3]\n",
    "    if read_ID not in bed100_dict:\n",
    "        bed100_dict[read_ID] = [ref_ID]\n",
    "    else:\n",
    "        bed100_dict[read_ID] += [ref_ID]\n",
    "        check.append(linelist[5])\n",
    "bed100.close()\n",
    "\n",
    "bed100_match_counts = []\n",
    "for read in bed100_dict.keys():\n",
    "    bed100_match_counts.append(len(bed100_dict[read]))\n",
    "    \n",
    "plt.hist(bed100_match_counts, bins = np.arange(0,20,1)-.5)\n",
    "plt.show()"
   ]
  },
  {
   "cell_type": "code",
   "execution_count": null,
   "metadata": {
    "collapsed": true
   },
   "outputs": [],
   "source": []
  }
 ],
 "metadata": {
  "kernelspec": {
   "display_name": "Python 2",
   "language": "python",
   "name": "python2"
  },
  "language_info": {
   "codemirror_mode": {
    "name": "ipython",
    "version": 2
   },
   "file_extension": ".py",
   "mimetype": "text/x-python",
   "name": "python",
   "nbconvert_exporter": "python",
   "pygments_lexer": "ipython2",
   "version": "2.7.13"
  }
 },
 "nbformat": 4,
 "nbformat_minor": 2
}
