{
 "cells": [
  {
   "cell_type": "markdown",
   "metadata": {
    "deletable": true,
    "editable": true
   },
   "source": [
    "# Evaluating clustering similarity in ipyrad on scallop data\n",
    "\n",
    "### Summary\n",
    "\n",
    "**20170715**\n",
    "\n",
    "**[1]** Number of loci\n",
    "\n",
    "Clustering similarity changed the number of loci. The number of loci that came out of ipyrad at 94% clustering similarity was about twice as many as at 76% similarity.  \n",
    "\n",
    "**[2]** Number of loci lost at filtering steps\n",
    "\n",
    "The number of loci lost at each filtering step in ipyrad did not differ very much in pattern.\n",
    "\n",
    "![img](https://github.com/nclowell/RAD_Scallops/blob/master/CRAGIG_combined_lanes/Notebooks/imgs_for_notebooks/ret_loci_steps_H_20170715.png?raw=true)\n",
    "\n",
    "**[3]** Fis & heterozygosity\n",
    "\n",
    "Although the number of loci increases with clustering similarity, patterns in Fis & heterozygosity did not change with clustering similarity. For example, here is Fis before filtering for minor allele frequency and observed heterozygosity before filtering for minor allele frequency.\n",
    "\n",
    "![img](https://github.com/nclowell/RAD_Scallops/blob/master/CRAGIG_combined_lanes/Notebooks/imgs_for_notebooks/Fis_beforeMAF_20170715.gif?raw=true)\n",
    "\n",
    "![img](https://github.com/nclowell/RAD_Scallops/blob/master/CRAGIG_combined_lanes/Notebooks/imgs_for_notebooks/Ho_beforeMAF_20170715.gif?raw=true)\n",
    "\n",
    "**[4]** Ilut plot\n",
    "\n",
    "Clustering similarity did have a small effect on the proportions of homozygote and heterozygote genotypes. \n",
    "\n",
    "\n",
    "\n",
    "\n",
    "One remaining concern is that I believe I allowed for polyploid genotypes in my assemblies by setting the \"max alleles\" parameter arbitrarily high to 10, but observed no polyploid genotypes. I wonder if VCF files inherently filter for diploidy or whether there is something I have yet to understand about parameters in ipyrad. I assume there are some, as a result of paralogs or repeat units, so I'm still interested in learning if I did something wrong there.\n"
   ]
  },
  {
   "cell_type": "markdown",
   "metadata": {},
   "source": [
    "## Setting up branching assembly with 10 clustering similarity thresholds\n",
    "\n",
    "**20170707**\n",
    "\n",
    "I didn't do a super thorough job evaluating the effects of different clustering similarity thresholds in ipyrad, so now's the time. It's the time because I'm not getting tons of loci through the assembly, there's a ton of missing data, and heterozygosity is lower than I'd expect for bivalves. I'm wondering if this is a consequence of how I'm clustering my loci. So here were are.\n",
    "\n",
    "I'm going to set up a bash script that will run assemblies over the weekend. I'll run them on 25 scallop samples, at 10 different clustering similarity thresholds. Ultimately I'd like to make plots from that paper Luke sent me a while back, which helps one pick a clustering similarity threshold that best minimizes both over and under splitting loci.\n",
    "\n",
    "Clustering similarity thresholds for evaluation:\n",
    "- 0.76\n",
    "- 0.78\n",
    "- 0.80\n",
    "- 0.82\n",
    "- 0.84\n",
    "- 0.86\n",
    "- 0.88\n",
    "- 0.90\n",
    "- 0.92\n",
    "- 0.94\n",
    "\n",
    "First, set up the params files. Then make a bash script to run ipyrad through all ten. I manually changed the clustering similarity thresholds in a text editor."
   ]
  },
  {
   "cell_type": "code",
   "execution_count": 3,
   "metadata": {
    "collapsed": false,
    "deletable": true,
    "editable": true
   },
   "outputs": [
    {
     "name": "stdout",
     "output_type": "stream",
     "text": [
      "/mnt/hgfs/SHARED_FOLDER/Learn_iPyrad/CRAGIG_RUNS_12_py\n"
     ]
    }
   ],
   "source": [
    "cd /mnt/hgfs/SHARED_FOLDER/Learn_iPyrad/CRAGIG_RUNS_12_py"
   ]
  },
  {
   "cell_type": "code",
   "execution_count": 6,
   "metadata": {
    "collapsed": false,
    "deletable": true,
    "editable": true
   },
   "outputs": [
    {
     "name": "stdout",
     "output_type": "stream",
     "text": [
      "\n",
      " -------------------------------------------------------------\n",
      "  ipyrad [v.0.6.20]\n",
      "  Interactive assembly and analysis of RAD-seq data\n",
      " -------------------------------------------------------------\n",
      "\n",
      "  A new version of ipyrad is available (v.0.7.1). To upgrade run:\n",
      "\n",
      "    conda install -c ipyrad ipyrad\n",
      "\n",
      "\n",
      "  loading Assembly: cragig_lane1_001\n",
      "  from saved path: /mnt/hgfs/SHARED_FOLDER/Learn_iPyrad/CRAGIG_RUNS_12_py/cragig_lane1_001.json\n",
      "  creating a new branch called 'cragig_l1_25_c76' with 25 Samples\n",
      "  writing new params file to params-cragig_l1_25_c76.txt\n",
      "\n"
     ]
    }
   ],
   "source": [
    "!ipyrad -p params-cragig_lane1_001.txt -b cragig_l1_25_c76 25scallops.txt"
   ]
  },
  {
   "cell_type": "code",
   "execution_count": 7,
   "metadata": {
    "collapsed": false,
    "deletable": true,
    "editable": true
   },
   "outputs": [
    {
     "name": "stdout",
     "output_type": "stream",
     "text": [
      "\n",
      " -------------------------------------------------------------\n",
      "  ipyrad [v.0.6.20]\n",
      "  Interactive assembly and analysis of RAD-seq data\n",
      " -------------------------------------------------------------\n",
      "\n",
      "  A new version of ipyrad is available (v.0.7.1). To upgrade run:\n",
      "\n",
      "    conda install -c ipyrad ipyrad\n",
      "\n",
      "\n",
      "  loading Assembly: cragig_l1_25_c76\n",
      "  from saved path: /mnt/hgfs/SHARED_FOLDER/Learn_iPyrad/CRAGIG_RUNS_12_py/cragig_l1_25_c76.json\n",
      "  creating a new branch called 'cragig_l1_25_c78' with 25 Samples\n",
      "  writing new params file to params-cragig_l1_25_c78.txt\n",
      "\n"
     ]
    }
   ],
   "source": [
    "!ipyrad -p params-cragig_l1_25_c76.txt -b cragig_l1_25_c78"
   ]
  },
  {
   "cell_type": "code",
   "execution_count": 8,
   "metadata": {
    "collapsed": false,
    "deletable": true,
    "editable": true
   },
   "outputs": [
    {
     "name": "stdout",
     "output_type": "stream",
     "text": [
      "\n",
      " -------------------------------------------------------------\n",
      "  ipyrad [v.0.6.20]\n",
      "  Interactive assembly and analysis of RAD-seq data\n",
      " -------------------------------------------------------------\n",
      "\n",
      "  A new version of ipyrad is available (v.0.7.1). To upgrade run:\n",
      "\n",
      "    conda install -c ipyrad ipyrad\n",
      "\n",
      "\n",
      "  loading Assembly: cragig_l1_25_c76\n",
      "  from saved path: /mnt/hgfs/SHARED_FOLDER/Learn_iPyrad/CRAGIG_RUNS_12_py/cragig_l1_25_c76.json\n",
      "  creating a new branch called 'cragig_l1_25_c80' with 25 Samples\n",
      "  writing new params file to params-cragig_l1_25_c80.txt\n",
      "\n"
     ]
    }
   ],
   "source": [
    "!ipyrad -p params-cragig_l1_25_c76.txt -b cragig_l1_25_c80"
   ]
  },
  {
   "cell_type": "code",
   "execution_count": 9,
   "metadata": {
    "collapsed": false,
    "deletable": true,
    "editable": true
   },
   "outputs": [
    {
     "name": "stdout",
     "output_type": "stream",
     "text": [
      "\n",
      " -------------------------------------------------------------\n",
      "  ipyrad [v.0.6.20]\n",
      "  Interactive assembly and analysis of RAD-seq data\n",
      " -------------------------------------------------------------\n",
      "\n",
      "  A new version of ipyrad is available (v.0.7.1). To upgrade run:\n",
      "\n",
      "    conda install -c ipyrad ipyrad\n",
      "\n",
      "\n",
      "  loading Assembly: cragig_l1_25_c76\n",
      "  from saved path: /mnt/hgfs/SHARED_FOLDER/Learn_iPyrad/CRAGIG_RUNS_12_py/cragig_l1_25_c76.json\n",
      "  creating a new branch called 'cragig_l1_25_c82' with 25 Samples\n",
      "  writing new params file to params-cragig_l1_25_c82.txt\n",
      "\n"
     ]
    }
   ],
   "source": [
    "!ipyrad -p params-cragig_l1_25_c76.txt -b cragig_l1_25_c82"
   ]
  },
  {
   "cell_type": "code",
   "execution_count": 10,
   "metadata": {
    "collapsed": false,
    "deletable": true,
    "editable": true
   },
   "outputs": [
    {
     "name": "stdout",
     "output_type": "stream",
     "text": [
      "\n",
      " -------------------------------------------------------------\n",
      "  ipyrad [v.0.6.20]\n",
      "  Interactive assembly and analysis of RAD-seq data\n",
      " -------------------------------------------------------------\n",
      "\n",
      "  A new version of ipyrad is available (v.0.7.1). To upgrade run:\n",
      "\n",
      "    conda install -c ipyrad ipyrad\n",
      "\n",
      "\n",
      "  loading Assembly: cragig_l1_25_c76\n",
      "  from saved path: /mnt/hgfs/SHARED_FOLDER/Learn_iPyrad/CRAGIG_RUNS_12_py/cragig_l1_25_c76.json\n",
      "  creating a new branch called 'cragig_l1_25_c84' with 25 Samples\n",
      "  writing new params file to params-cragig_l1_25_c84.txt\n",
      "\n"
     ]
    }
   ],
   "source": [
    "!ipyrad -p params-cragig_l1_25_c76.txt -b cragig_l1_25_c84"
   ]
  },
  {
   "cell_type": "code",
   "execution_count": 11,
   "metadata": {
    "collapsed": false,
    "deletable": true,
    "editable": true
   },
   "outputs": [
    {
     "name": "stdout",
     "output_type": "stream",
     "text": [
      "\n",
      " -------------------------------------------------------------\n",
      "  ipyrad [v.0.6.20]\n",
      "  Interactive assembly and analysis of RAD-seq data\n",
      " -------------------------------------------------------------\n",
      "\n",
      "  A new version of ipyrad is available (v.0.7.1). To upgrade run:\n",
      "\n",
      "    conda install -c ipyrad ipyrad\n",
      "\n",
      "\n",
      "  loading Assembly: cragig_l1_25_c76\n",
      "  from saved path: /mnt/hgfs/SHARED_FOLDER/Learn_iPyrad/CRAGIG_RUNS_12_py/cragig_l1_25_c76.json\n",
      "  creating a new branch called 'cragig_l1_25_c86' with 25 Samples\n",
      "  writing new params file to params-cragig_l1_25_c86.txt\n",
      "\n"
     ]
    }
   ],
   "source": [
    "!ipyrad -p params-cragig_l1_25_c76.txt -b cragig_l1_25_c86"
   ]
  },
  {
   "cell_type": "code",
   "execution_count": 12,
   "metadata": {
    "collapsed": false,
    "deletable": true,
    "editable": true
   },
   "outputs": [
    {
     "name": "stdout",
     "output_type": "stream",
     "text": [
      "\n",
      " -------------------------------------------------------------\n",
      "  ipyrad [v.0.6.20]\n",
      "  Interactive assembly and analysis of RAD-seq data\n",
      " -------------------------------------------------------------\n",
      "\n",
      "  A new version of ipyrad is available (v.0.7.1). To upgrade run:\n",
      "\n",
      "    conda install -c ipyrad ipyrad\n",
      "\n",
      "\n",
      "  loading Assembly: cragig_l1_25_c76\n",
      "  from saved path: /mnt/hgfs/SHARED_FOLDER/Learn_iPyrad/CRAGIG_RUNS_12_py/cragig_l1_25_c76.json\n",
      "  creating a new branch called 'cragig_l1_25_c88' with 25 Samples\n",
      "  writing new params file to params-cragig_l1_25_c88.txt\n",
      "\n"
     ]
    }
   ],
   "source": [
    "!ipyrad -p params-cragig_l1_25_c76.txt -b cragig_l1_25_c88"
   ]
  },
  {
   "cell_type": "code",
   "execution_count": 13,
   "metadata": {
    "collapsed": false,
    "deletable": true,
    "editable": true
   },
   "outputs": [
    {
     "name": "stdout",
     "output_type": "stream",
     "text": [
      "\n",
      " -------------------------------------------------------------\n",
      "  ipyrad [v.0.6.20]\n",
      "  Interactive assembly and analysis of RAD-seq data\n",
      " -------------------------------------------------------------\n",
      "\n",
      "  A new version of ipyrad is available (v.0.7.1). To upgrade run:\n",
      "\n",
      "    conda install -c ipyrad ipyrad\n",
      "\n",
      "\n",
      "  loading Assembly: cragig_l1_25_c76\n",
      "  from saved path: /mnt/hgfs/SHARED_FOLDER/Learn_iPyrad/CRAGIG_RUNS_12_py/cragig_l1_25_c76.json\n",
      "  creating a new branch called 'cragig_l1_25_c90' with 25 Samples\n",
      "  writing new params file to params-cragig_l1_25_c90.txt\n",
      "\n"
     ]
    }
   ],
   "source": [
    "!ipyrad -p params-cragig_l1_25_c76.txt -b cragig_l1_25_c90"
   ]
  },
  {
   "cell_type": "code",
   "execution_count": 14,
   "metadata": {
    "collapsed": false,
    "deletable": true,
    "editable": true
   },
   "outputs": [
    {
     "name": "stdout",
     "output_type": "stream",
     "text": [
      "\n",
      " -------------------------------------------------------------\n",
      "  ipyrad [v.0.6.20]\n",
      "  Interactive assembly and analysis of RAD-seq data\n",
      " -------------------------------------------------------------\n",
      "\n",
      "  A new version of ipyrad is available (v.0.7.1). To upgrade run:\n",
      "\n",
      "    conda install -c ipyrad ipyrad\n",
      "\n",
      "\n",
      "  loading Assembly: cragig_l1_25_c76\n",
      "  from saved path: /mnt/hgfs/SHARED_FOLDER/Learn_iPyrad/CRAGIG_RUNS_12_py/cragig_l1_25_c76.json\n",
      "  creating a new branch called 'cragig_l1_25_c92' with 25 Samples\n",
      "  writing new params file to params-cragig_l1_25_c92.txt\n",
      "\n"
     ]
    }
   ],
   "source": [
    "!ipyrad -p params-cragig_l1_25_c76.txt -b cragig_l1_25_c92"
   ]
  },
  {
   "cell_type": "code",
   "execution_count": 15,
   "metadata": {
    "collapsed": false,
    "deletable": true,
    "editable": true
   },
   "outputs": [
    {
     "name": "stdout",
     "output_type": "stream",
     "text": [
      "\n",
      " -------------------------------------------------------------\n",
      "  ipyrad [v.0.6.20]\n",
      "  Interactive assembly and analysis of RAD-seq data\n",
      " -------------------------------------------------------------\n",
      "\n",
      "  A new version of ipyrad is available (v.0.7.1). To upgrade run:\n",
      "\n",
      "    conda install -c ipyrad ipyrad\n",
      "\n",
      "\n",
      "  loading Assembly: cragig_l1_25_c76\n",
      "  from saved path: /mnt/hgfs/SHARED_FOLDER/Learn_iPyrad/CRAGIG_RUNS_12_py/cragig_l1_25_c76.json\n",
      "  creating a new branch called 'cragig_l1_25_c94' with 25 Samples\n",
      "  writing new params file to params-cragig_l1_25_c94.txt\n",
      "\n"
     ]
    }
   ],
   "source": [
    "!ipyrad -p params-cragig_l1_25_c76.txt -b cragig_l1_25_c94"
   ]
  },
  {
   "cell_type": "markdown",
   "metadata": {
    "deletable": true,
    "editable": true
   },
   "source": [
    "Params files are all identical except for the clustering similarity threshold parameter.\n",
    "\n",
    "Example params file:"
   ]
  },
  {
   "cell_type": "code",
   "execution_count": 17,
   "metadata": {
    "collapsed": false,
    "deletable": true,
    "editable": true,
    "scrolled": true
   },
   "outputs": [
    {
     "name": "stdout",
     "output_type": "stream",
     "text": [
      "------- ipyrad params file (v.0.6.20)-------------------------------------------\r\n",
      "cragig_l1_25_c76               ## [0] [assembly_name]: Assembly name. Used to name output directories for assembly steps\r\n",
      "/mnt/hgfs/SHARED_FOLDER/Learn_iPyrad/CRAGIG_RUNS_12_py ## [1] [project_dir]: Project dir (made in curdir if not present)\r\n",
      "/mnt/hgfs/Data/CRAGIG_RUN1/CRAGIG_RUN1_raw_data/161228_I137_FCHCYV5BBXX_L5_CHKPE85216120009_1.fq.gz ## [2] [raw_fastq_path]: Location of raw non-demultiplexed fastq files\r\n",
      "/mnt/hgfs/SHARED_FOLDER/Learn_iPyrad/CRAGIG_RUNS_12_py/barcodes_cragigrun1_sansAs.txt ## [3] [barcodes_path]: Location of barcodes file\r\n",
      "                               ## [4] [sorted_fastq_path]: Location of demultiplexed/sorted fastq files\r\n",
      "denovo                         ## [5] [assembly_method]: Assembly method (denovo, reference, denovo+reference, denovo-reference)\r\n",
      "                               ## [6] [reference_sequence]: Location of reference sequence file\r\n",
      "rad                            ## [7] [datatype]: Datatype (see docs): rad, gbs, ddrad, etc.\r\n",
      "TGCAGG,                        ## [8] [restriction_overhang]: Restriction overhang (cut1,) or (cut1, cut2)\r\n",
      "5                              ## [9] [max_low_qual_bases]: Max low quality base calls (Q<20) in a read\r\n",
      "33                             ## [10] [phred_Qscore_offset]: phred Q score offset (33 is default and very standard)\r\n",
      "10                             ## [11] [mindepth_statistical]: Min depth for statistical base calling\r\n",
      "10                             ## [12] [mindepth_majrule]: Min depth for majority-rule base calling\r\n",
      "2000                           ## [13] [maxdepth]: Max cluster depth within samples\r\n",
      "0.76                           ## [14] [clust_threshold]: Clustering threshold for de novo assembly\r\n",
      "0                              ## [15] [max_barcode_mismatch]: Max number of allowable mismatches in barcodes\r\n",
      "2                              ## [16] [filter_adapters]: Filter for adapters/primers (1 or 2=stricter)\r\n",
      "35                             ## [17] [filter_min_trim_len]: Min length of reads after adapter trim\r\n",
      "2                              ## [18] [max_alleles_consens]: Max alleles per site in consensus sequences\r\n",
      "5, 5                           ## [19] [max_Ns_consens]: Max N's (uncalled bases) in consensus (R1, R2)\r\n",
      "8, 8                           ## [20] [max_Hs_consens]: Max Hs (heterozygotes) in consensus (R1, R2)\r\n",
      "12                             ## [21] [min_samples_locus]: Min # samples per locus for output\r\n",
      "20, 20                         ## [22] [max_SNPs_locus]: Max # SNPs per locus (R1, R2)\r\n",
      "8, 8                           ## [23] [max_Indels_locus]: Max # of indels per locus (R1, R2)\r\n",
      "1                            ## [24] [max_shared_Hs_locus]: Max # heterozygous sites per locus (R1, R2)\r\n",
      "0, 0, 0, 0                     ## [25] [trim_reads]: Trim raw read edges (R1>, <R1, R2>, <R2) (see docs)\r\n",
      "0, 0, 0, 0                     ## [26] [trim_loci]: Trim locus edges (see docs) (R1>, <R1, R2>, <R2)\r\n",
      "G, a, g, k, m, l, n, p, s, u, t, v ## [27] [output_formats]: Output formats (see docs)\r\n"
     ]
    }
   ],
   "source": [
    "!head params-cragig_l1_25_c76.txt -n 31"
   ]
  },
  {
   "cell_type": "markdown",
   "metadata": {
    "deletable": true,
    "editable": true
   },
   "source": [
    "Bash script to run these overnight looks like this:"
   ]
  },
  {
   "cell_type": "code",
   "execution_count": 18,
   "metadata": {
    "collapsed": false,
    "deletable": true,
    "editable": true
   },
   "outputs": [
    {
     "name": "stdout",
     "output_type": "stream",
     "text": [
      "#!/bin/bash\r\n",
      "ipyrad -p params-cragig_l1_25_c76.txt -s 34567\r\n",
      "ipyrad -p params-cragig_l1_25_c78.txt -s 34567\r\n",
      "ipyrad -p params-cragig_l1_25_c80.txt -s 34567\r\n",
      "ipyrad -p params-cragig_l1_25_c82.txt -s 34567\r\n",
      "ipyrad -p params-cragig_l1_25_c84.txt -s 34567\r\n",
      "ipyrad -p params-cragig_l1_25_c86.txt -s 34567\r\n",
      "ipyrad -p params-cragig_l1_25_c88.txt -s 34567\r\n",
      "ipyrad -p params-cragig_l1_25_c90.txt -s 34567\r\n",
      "ipyrad -p params-cragig_l1_25_c92.txt -s 34567\r\n",
      "ipyrad -p params-cragig_l1_25_c94.txt -s 34567\r\n"
     ]
    }
   ],
   "source": [
    "!head clust_test_25scallops.sh -n 12"
   ]
  },
  {
   "cell_type": "markdown",
   "metadata": {
    "collapsed": true,
    "deletable": true,
    "editable": true
   },
   "source": [
    "## Branches with max alleles = 10, to capture polypoloid genotypes\n",
    "\n",
    "**20170710**\n",
    "\n",
    "It occurred to me in my sleep that I set max alleles to 2 in this iteration, and thus I won't be seeing any polyploid genotypse. That's fine, except that I can't make the figure from the Ilut paper with out it. I just checked the documentation, and indeed, this parameter is used as early as Step 4. So, I'll have to branch from there. Going to set it to 10.\n",
    "\n",
    "Added ``_a10`` to the params file names to signify \"max 10 alleles,\" and wrote this bash script to run overnight:"
   ]
  },
  {
   "cell_type": "code",
   "execution_count": 3,
   "metadata": {
    "collapsed": false,
    "deletable": true,
    "editable": true
   },
   "outputs": [
    {
     "name": "stdout",
     "output_type": "stream",
     "text": [
      "/mnt/hgfs/SHARED_FOLDER/Learn_iPyrad/CRAGIG_RUNS_12_py\n"
     ]
    }
   ],
   "source": [
    "cd /mnt/hgfs/SHARED_FOLDER/Learn_iPyrad/CRAGIG_RUNS_12_py"
   ]
  },
  {
   "cell_type": "code",
   "execution_count": 5,
   "metadata": {
    "collapsed": false,
    "deletable": true,
    "editable": true
   },
   "outputs": [
    {
     "name": "stdout",
     "output_type": "stream",
     "text": [
      "#!/bin/bash\r\n",
      "ipyrad -p params-cragig_l1_25_c76_a10.txt -s 4567 -f\r\n",
      "ipyrad -p params-cragig_l1_25_c78_a10.txt -s 4567 -f\r\n",
      "ipyrad -p params-cragig_l1_25_c80_a10.txt -s 4567 -f\r\n",
      "ipyrad -p params-cragig_l1_25_c82_a10.txt -s 4567 -f\r\n",
      "ipyrad -p params-cragig_l1_25_c84_a10.txt -s 4567 -f\r\n",
      "ipyrad -p params-cragig_l1_25_c86_a10.txt -s 4567 -f\r\n",
      "ipyrad -p params-cragig_l1_25_c88_a10.txt -s 4567 -f\r\n",
      "ipyrad -p params-cragig_l1_25_c90_a10.txt -s 4567 -f\r\n",
      "ipyrad -p params-cragig_l1_25_c92_a10.txt -s 4567 -f\r\n",
      "ipyrad -p params-cragig_l1_25_c94_a10.txt -s 4567 -f\r\n"
     ]
    }
   ],
   "source": [
    "!head clust_test_25scallops_a10.sh -n 12"
   ]
  },
  {
   "cell_type": "markdown",
   "metadata": {
    "deletable": true,
    "editable": true
   },
   "source": [
    "## Extracting counts of homozygote, heterozygote, and polyploid genotypes from VCF files"
   ]
  },
  {
   "cell_type": "code",
   "execution_count": 25,
   "metadata": {
    "collapsed": false,
    "deletable": true,
    "editable": true
   },
   "outputs": [
    {
     "name": "stdout",
     "output_type": "stream",
     "text": [
      "/mnt/hgfs/SHARED_FOLDER/Learn_iPyrad/CRAGIG_RUNS_12_py\n"
     ]
    }
   ],
   "source": [
    "cd /mnt/hgfs/SHARED_FOLDER/Learn_iPyrad/CRAGIG_RUNS_12_py/"
   ]
  },
  {
   "cell_type": "code",
   "execution_count": 39,
   "metadata": {
    "collapsed": true,
    "deletable": true,
    "editable": true
   },
   "outputs": [],
   "source": [
    "vcf_a10_files = ['cragig_l1_25_c76_a10_outfiles/cragig_l1_25_c76_a10.vcf', 'cragig_l1_25_c78_a10_outfiles/cragig_l1_25_c78_a10.vcf', 'cragig_l1_25_c80_a10_outfiles/cragig_l1_25_c80_a10.vcf','cragig_l1_25_c82_a10_outfiles/cragig_l1_25_c82_a10.vcf','cragig_l1_25_c84_a10_outfiles/cragig_l1_25_c84_a10.vcf','cragig_l1_25_c86_a10_outfiles/cragig_l1_25_c86_a10.vcf','cragig_l1_25_c88_a10_outfiles/cragig_l1_25_c88_a10.vcf','cragig_l1_25_c90_a10_outfiles/cragig_l1_25_c90_a10.vcf','cragig_l1_25_c92_a10_outfiles/cragig_l1_25_c92_a10.vcf','cragig_l1_25_c94_a10_outfiles/cragig_l1_25_c94_a10.vcf']"
   ]
  },
  {
   "cell_type": "code",
   "execution_count": 35,
   "metadata": {
    "collapsed": false,
    "deletable": true,
    "editable": true
   },
   "outputs": [
    {
     "name": "stdout",
     "output_type": "stream",
     "text": [
      "Just finished cragig_l1_25_c76_a10_outfiles/cragig_l1_25_c76_a10.vcf\n",
      "Just finished cragig_l1_25_c78_a10_outfiles/cragig_l1_25_c78_a10.vcf\n",
      "Just finished cragig_l1_25_c80_a10_outfiles/cragig_l1_25_c80_a10.vcf\n",
      "Just finished cragig_l1_25_c82_a10_outfiles/cragig_l1_25_c82_a10.vcf\n",
      "Just finished cragig_l1_25_c84_a10_outfiles/cragig_l1_25_c84_a10.vcf\n",
      "Just finished cragig_l1_25_c86_a10_outfiles/cragig_l1_25_c86_a10.vcf\n",
      "Just finished cragig_l1_25_c88_a10_outfiles/cragig_l1_25_c88_a10.vcf\n",
      "Just finished cragig_l1_25_c88_a10_outfiles/cragig_l1_25_c88_a10.vcf\n",
      "Just finished cragig_l1_25_c90_a10_outfiles/cragig_l1_25_c90_a10.vcf\n",
      "Just finished cragig_l1_25_c92_a10_outfiles/cragig_l1_25_c92_a10.vcf\n",
      "Just finished cragig_l1_25_c94_a10_outfiles/cragig_l1_25_c94_a10.vcf\n"
     ]
    }
   ],
   "source": [
    "ilut_counts = []\n",
    "\n",
    "for vcf_file in vcf_a10_files:\n",
    "    ilut_vcf = open(vcf_file,\"r\")\n",
    "\n",
    "    hom_c84 = 0\n",
    "    het_c84 = 0\n",
    "    poly_c84 = 0\n",
    "\n",
    "    for line in ilut_vcf:\n",
    "        if line[0] != \"#\":\n",
    "            linelist = line.strip().split()\n",
    "            thislocus = linelist[0] + \"_\" + linelist[1]\n",
    "            for genblock in linelist[9:]:\n",
    "                genlist = genblock.split(\":\")[0].split(\"/\")\n",
    "                if len(genlist) >= 3:\n",
    "                    poly_c84 += 1\n",
    "                    if thislocus not in poly_c84_loci:\n",
    "                        poly_c84_loci.append(thislocus)\n",
    "                elif len(genlist) == 2 and genlist[0] != \".\" and genlist[0] == genlist[1]:\n",
    "                    hom_c84 += 1\n",
    "                    if thislocus not in hom_c84_loci:\n",
    "                        hom_c84_loci.append(thislocus)\n",
    "                elif len(genlist) == 2 and genlist[0] != genlist[1]:\n",
    "                    het_c84 += 1\n",
    "                    if thislocus not in het_c84_loci:\n",
    "                        het_c84_loci.append(thislocus)\n",
    "\n",
    "    ilut_counts.append([hom_c84,het_c84,poly_c84])\n",
    "    print \"Just finished \" + vcf_file\n",
    "\n",
    "    ilut_vcf.close()\n"
   ]
  },
  {
   "cell_type": "code",
   "execution_count": 40,
   "metadata": {
    "collapsed": false,
    "deletable": true,
    "editable": true
   },
   "outputs": [],
   "source": [
    "ilut_counts = ilut_counts[0:6] + ilut_counts[7:]"
   ]
  },
  {
   "cell_type": "code",
   "execution_count": 42,
   "metadata": {
    "collapsed": false,
    "deletable": true,
    "editable": true
   },
   "outputs": [
    {
     "name": "stdout",
     "output_type": "stream",
     "text": [
      "[[123530, 3331, 0], [129146, 3482, 0], [138361, 3724, 0], [146285, 3896, 0], [158510, 4187, 0], [166150, 4416, 0], [188952, 4967, 0], [206056, 5692, 0], [223357, 6308, 0], [239194, 7231, 0]]\n"
     ]
    }
   ],
   "source": [
    "print ilut_counts"
   ]
  },
  {
   "cell_type": "code",
   "execution_count": 43,
   "metadata": {
    "collapsed": true,
    "deletable": true,
    "editable": true
   },
   "outputs": [],
   "source": [
    "hom_series = []\n",
    "het_series = []\n",
    "poly_series =[]\n",
    "\n",
    "for thing in ilut_counts:\n",
    "    total = sum(thing)\n",
    "    perc_hom = (float(thing[0])/float(total))*100\n",
    "    perc_het = (float(thing[1])/float(total))*100\n",
    "    perc_poly =(float(thing[2])/float(total))*100\n",
    "    hom_series.append(perc_hom)\n",
    "    het_series.append(perc_het)\n",
    "    poly_series.append(perc_poly)"
   ]
  },
  {
   "cell_type": "code",
   "execution_count": 49,
   "metadata": {
    "collapsed": false,
    "deletable": true,
    "editable": true
   },
   "outputs": [
    {
     "data": {
      "image/png": "[encoded data removed]",
      "text/plain": [
       "<matplotlib.figure.Figure at 0x7f28bd985f10>"
      ]
     },
     "metadata": {},
     "output_type": "display_data"
    }
   ],
   "source": [
    "clusts = [.76,.78,.80,.82,.84,.86,.88,.9,.92,.94]\n",
    "\n",
    "plt.plot(clusts, hom_series, label = 'Homozygote genotypes')\n",
    "plt.plot(clusts, het_series, label = 'Heterozygote genotypes')\n",
    "plt.plot(clusts, poly_series, label = 'Polyploid genotypes')\n",
    "\n",
    "plt.legend(loc = 'upper right')\n",
    "\n",
    "plt.title(\"Genotype type counts vs. clustering similarity threshold\\nfrom Ilut et al\")\n",
    "plt.ylabel(\"Percent of genotypes\")\n",
    "plt.xlabel(\"Clustering similarity %\")\n",
    "\n",
    "plt.show()"
   ]
  },
  {
   "cell_type": "markdown",
   "metadata": {
    "deletable": true,
    "editable": true
   },
   "source": [
    "That looks atrocious. Something must be wrong."
   ]
  },
  {
   "cell_type": "code",
   "execution_count": 51,
   "metadata": {
    "collapsed": false,
    "deletable": true,
    "editable": true
   },
   "outputs": [
    {
     "data": {
      "image/png": "[encoded data removed]",
      "text/plain": [
       "<matplotlib.figure.Figure at 0x7f28bb737710>"
      ]
     },
     "metadata": {},
     "output_type": "display_data"
    }
   ],
   "source": [
    "# zoom in on heterozygote\n",
    "\n",
    "clusts = [.76,.78,.80,.82,.84,.86,.88,.9,.92,.94]\n",
    "\n",
    "plt.plot(clusts, hom_series, label = 'Homozygote genotypes')\n",
    "plt.plot(clusts, het_series, label = 'Heterozygote genotypes')\n",
    "plt.plot(clusts, poly_series, label = 'Polyploid genotypes')\n",
    "\n",
    "plt.ylim(1,5)\n",
    "\n",
    "plt.legend(loc = 'upper right')\n",
    "\n",
    "plt.title(\"Genotype type counts vs. clustering similarity threshold\\nfrom Ilut et al\")\n",
    "plt.ylabel(\"Percent of genotypes\")\n",
    "plt.xlabel(\"Clustering similarity %\")\n",
    "\n",
    "plt.show()"
   ]
  },
  {
   "cell_type": "markdown",
   "metadata": {},
   "source": [
    "Heterozygosity looks way too low, and there's strikingly little pattern over clustering similarity compared to when I made a similar plot in Stacks on the same data. I think I used the wrong parameters and am somehow not getting the true heterozygosity in my samples."
   ]
  },
  {
   "cell_type": "markdown",
   "metadata": {
    "deletable": true,
    "editable": true
   },
   "source": [
    "## Max shared hs locus & max Hs consens\n",
    "\n",
    "**20170712**\n",
    "\n",
    "Just talked to Katherine, who is a joy & helps me with all of my problems, and she pointed out that I should set my max Hs consens to a higher number than 8 because essentially I'm allowing a ton of SNPs (especially at the lower clustering similarity thresholds, like 76%) and then filtering those out that have more than 8 heterozygous SNPs. So for now, while testing for the effect of clustering similarity, I should increase this so high that it won't allow for any filtering (like 150). I can go back later and make a branch or filter manually if need be. \n",
    "\n",
    "Secondly, I also just realized that the Max shared hs locus parameter means different things when it is set to ``1`` and ``1.0``. ``1`` means one sample is the maximum number where a locus can be heterozygous. ``1.0`` means 100% of the samples is the maximum number where a locus can be heterozygous. \n",
    "\n",
    "So I need to change those to things before moving forward. \n",
    "\n",
    "SIGH.\n",
    "\n",
    "![img](https://media.giphy.com/media/5WXqTFTgO9a7e/giphy.gif)\n"
   ]
  },
  {
   "cell_type": "markdown",
   "metadata": {
    "deletable": true,
    "editable": true
   },
   "source": [
    "## Making 10 new branches\n",
    "\n",
    "Like previous 10 branches test, except now with:\n",
    "\n",
    "- param20 max_Hs_consens = 100,100\n",
    "- param24 max_shared_Hs_locus = 1.0\n"
   ]
  },
  {
   "cell_type": "code",
   "execution_count": 53,
   "metadata": {
    "collapsed": false,
    "deletable": true,
    "editable": true
   },
   "outputs": [
    {
     "name": "stdout",
     "output_type": "stream",
     "text": [
      "/mnt/hgfs/SHARED_FOLDER/Learn_iPyrad/CRAGIG_RUNS_12_py\n"
     ]
    }
   ],
   "source": [
    "cd /mnt/hgfs/SHARED_FOLDER/Learn_iPyrad/CRAGIG_RUNS_12_py"
   ]
  },
  {
   "cell_type": "code",
   "execution_count": 54,
   "metadata": {
    "collapsed": false,
    "deletable": true,
    "editable": true
   },
   "outputs": [
    {
     "name": "stdout",
     "output_type": "stream",
     "text": [
      "\n",
      " -------------------------------------------------------------\n",
      "  ipyrad [v.0.6.20]\n",
      "  Interactive assembly and analysis of RAD-seq data\n",
      " -------------------------------------------------------------\n",
      "\n",
      "  A new version of ipyrad is available (v.0.7.1). To upgrade run:\n",
      "\n",
      "    conda install -c ipyrad ipyrad\n",
      "\n",
      "\n",
      "  loading Assembly: cragig_lane1_001\n",
      "  from saved path: /mnt/hgfs/SHARED_FOLDER/Learn_iPyrad/CRAGIG_RUNS_12_py/cragig_lane1_001.json\n",
      "  creating a new branch called 'CG_l1_25_c76_H' with 25 Samples\n",
      "  writing new params file to params-CG_l1_25_c76_H.txt\n",
      "\n"
     ]
    }
   ],
   "source": [
    "!ipyrad -p params-cragig_lane1_001.txt -b CG_l1_25_c76_H 25scallops.txt"
   ]
  },
  {
   "cell_type": "code",
   "execution_count": 55,
   "metadata": {
    "collapsed": false,
    "deletable": true,
    "editable": true
   },
   "outputs": [
    {
     "name": "stdout",
     "output_type": "stream",
     "text": [
      "\n",
      " -------------------------------------------------------------\n",
      "  ipyrad [v.0.6.20]\n",
      "  Interactive assembly and analysis of RAD-seq data\n",
      " -------------------------------------------------------------\n",
      "\n",
      "  A new version of ipyrad is available (v.0.7.1). To upgrade run:\n",
      "\n",
      "    conda install -c ipyrad ipyrad\n",
      "\n",
      "\n",
      "  loading Assembly: CG_l1_25_c76_H\n",
      "  from saved path: /mnt/hgfs/SHARED_FOLDER/Learn_iPyrad/CRAGIG_RUNS_12_py/CG_l1_25_c76_H.json\n",
      "  creating a new branch called 'CG_l1_25_c78_H' with 25 Samples\n",
      "  writing new params file to params-CG_l1_25_c78_H.txt\n",
      "\n"
     ]
    }
   ],
   "source": [
    "!ipyrad -p params-CG_l1_25_c76_H.txt -b CG_l1_25_c78_H"
   ]
  },
  {
   "cell_type": "code",
   "execution_count": 56,
   "metadata": {
    "collapsed": false,
    "deletable": true,
    "editable": true
   },
   "outputs": [
    {
     "name": "stdout",
     "output_type": "stream",
     "text": [
      "\n",
      " -------------------------------------------------------------\n",
      "  ipyrad [v.0.6.20]\n",
      "  Interactive assembly and analysis of RAD-seq data\n",
      " -------------------------------------------------------------\n",
      "\n",
      "  A new version of ipyrad is available (v.0.7.1). To upgrade run:\n",
      "\n",
      "    conda install -c ipyrad ipyrad\n",
      "\n",
      "\n",
      "  loading Assembly: CG_l1_25_c76_H\n",
      "  from saved path: /mnt/hgfs/SHARED_FOLDER/Learn_iPyrad/CRAGIG_RUNS_12_py/CG_l1_25_c76_H.json\n",
      "  creating a new branch called 'CG_l1_25_c80_H' with 25 Samples\n",
      "  writing new params file to params-CG_l1_25_c80_H.txt\n",
      "\n"
     ]
    }
   ],
   "source": [
    "!ipyrad -p params-CG_l1_25_c76_H.txt -b CG_l1_25_c80_H"
   ]
  },
  {
   "cell_type": "code",
   "execution_count": 57,
   "metadata": {
    "collapsed": false,
    "deletable": true,
    "editable": true
   },
   "outputs": [
    {
     "name": "stdout",
     "output_type": "stream",
     "text": [
      "\n",
      " -------------------------------------------------------------\n",
      "  ipyrad [v.0.6.20]\n",
      "  Interactive assembly and analysis of RAD-seq data\n",
      " -------------------------------------------------------------\n",
      "\n",
      "  A new version of ipyrad is available (v.0.7.1). To upgrade run:\n",
      "\n",
      "    conda install -c ipyrad ipyrad\n",
      "\n",
      "\n",
      "  loading Assembly: CG_l1_25_c76_H\n",
      "  from saved path: /mnt/hgfs/SHARED_FOLDER/Learn_iPyrad/CRAGIG_RUNS_12_py/CG_l1_25_c76_H.json\n",
      "  creating a new branch called 'CG_l1_25_c82_H' with 25 Samples\n",
      "  writing new params file to params-CG_l1_25_c82_H.txt\n",
      "\n"
     ]
    }
   ],
   "source": [
    "!ipyrad -p params-CG_l1_25_c76_H.txt -b CG_l1_25_c82_H"
   ]
  },
  {
   "cell_type": "code",
   "execution_count": 58,
   "metadata": {
    "collapsed": false,
    "deletable": true,
    "editable": true
   },
   "outputs": [
    {
     "name": "stdout",
     "output_type": "stream",
     "text": [
      "\n",
      " -------------------------------------------------------------\n",
      "  ipyrad [v.0.6.20]\n",
      "  Interactive assembly and analysis of RAD-seq data\n",
      " -------------------------------------------------------------\n",
      "\n",
      "  A new version of ipyrad is available (v.0.7.1). To upgrade run:\n",
      "\n",
      "    conda install -c ipyrad ipyrad\n",
      "\n",
      "\n",
      "  loading Assembly: CG_l1_25_c76_H\n",
      "  from saved path: /mnt/hgfs/SHARED_FOLDER/Learn_iPyrad/CRAGIG_RUNS_12_py/CG_l1_25_c76_H.json\n",
      "  creating a new branch called 'CG_l1_25_c84_H' with 25 Samples\n",
      "  writing new params file to params-CG_l1_25_c84_H.txt\n",
      "\n"
     ]
    }
   ],
   "source": [
    "!ipyrad -p params-CG_l1_25_c76_H.txt -b CG_l1_25_c84_H"
   ]
  },
  {
   "cell_type": "code",
   "execution_count": 59,
   "metadata": {
    "collapsed": false,
    "deletable": true,
    "editable": true
   },
   "outputs": [
    {
     "name": "stdout",
     "output_type": "stream",
     "text": [
      "\n",
      " -------------------------------------------------------------\n",
      "  ipyrad [v.0.6.20]\n",
      "  Interactive assembly and analysis of RAD-seq data\n",
      " -------------------------------------------------------------\n",
      "\n",
      "  A new version of ipyrad is available (v.0.7.1). To upgrade run:\n",
      "\n",
      "    conda install -c ipyrad ipyrad\n",
      "\n",
      "\n",
      "  loading Assembly: CG_l1_25_c76_H\n",
      "  from saved path: /mnt/hgfs/SHARED_FOLDER/Learn_iPyrad/CRAGIG_RUNS_12_py/CG_l1_25_c76_H.json\n",
      "  creating a new branch called 'CG_l1_25_c86_H' with 25 Samples\n",
      "  writing new params file to params-CG_l1_25_c86_H.txt\n",
      "\n"
     ]
    }
   ],
   "source": [
    "!ipyrad -p params-CG_l1_25_c76_H.txt -b CG_l1_25_c86_H"
   ]
  },
  {
   "cell_type": "code",
   "execution_count": 60,
   "metadata": {
    "collapsed": false,
    "deletable": true,
    "editable": true
   },
   "outputs": [
    {
     "name": "stdout",
     "output_type": "stream",
     "text": [
      "\n",
      " -------------------------------------------------------------\n",
      "  ipyrad [v.0.6.20]\n",
      "  Interactive assembly and analysis of RAD-seq data\n",
      " -------------------------------------------------------------\n",
      "\n",
      "  A new version of ipyrad is available (v.0.7.1). To upgrade run:\n",
      "\n",
      "    conda install -c ipyrad ipyrad\n",
      "\n",
      "\n",
      "  loading Assembly: CG_l1_25_c76_H\n",
      "  from saved path: /mnt/hgfs/SHARED_FOLDER/Learn_iPyrad/CRAGIG_RUNS_12_py/CG_l1_25_c76_H.json\n",
      "  creating a new branch called 'CG_l1_25_c88_H' with 25 Samples\n",
      "  writing new params file to params-CG_l1_25_c88_H.txt\n",
      "\n"
     ]
    }
   ],
   "source": [
    "!ipyrad -p params-CG_l1_25_c76_H.txt -b CG_l1_25_c88_H"
   ]
  },
  {
   "cell_type": "code",
   "execution_count": 61,
   "metadata": {
    "collapsed": false,
    "deletable": true,
    "editable": true
   },
   "outputs": [
    {
     "name": "stdout",
     "output_type": "stream",
     "text": [
      "\n",
      " -------------------------------------------------------------\n",
      "  ipyrad [v.0.6.20]\n",
      "  Interactive assembly and analysis of RAD-seq data\n",
      " -------------------------------------------------------------\n",
      "\n",
      "  A new version of ipyrad is available (v.0.7.1). To upgrade run:\n",
      "\n",
      "    conda install -c ipyrad ipyrad\n",
      "\n",
      "\n",
      "  loading Assembly: CG_l1_25_c76_H\n",
      "  from saved path: /mnt/hgfs/SHARED_FOLDER/Learn_iPyrad/CRAGIG_RUNS_12_py/CG_l1_25_c76_H.json\n",
      "  creating a new branch called 'CG_l1_25_c90_H' with 25 Samples\n",
      "  writing new params file to params-CG_l1_25_c90_H.txt\n",
      "\n"
     ]
    }
   ],
   "source": [
    "!ipyrad -p params-CG_l1_25_c76_H.txt -b CG_l1_25_c90_H"
   ]
  },
  {
   "cell_type": "code",
   "execution_count": 62,
   "metadata": {
    "collapsed": false,
    "deletable": true,
    "editable": true
   },
   "outputs": [
    {
     "name": "stdout",
     "output_type": "stream",
     "text": [
      "\n",
      " -------------------------------------------------------------\n",
      "  ipyrad [v.0.6.20]\n",
      "  Interactive assembly and analysis of RAD-seq data\n",
      " -------------------------------------------------------------\n",
      "\n",
      "  A new version of ipyrad is available (v.0.7.1). To upgrade run:\n",
      "\n",
      "    conda install -c ipyrad ipyrad\n",
      "\n",
      "\n",
      "  loading Assembly: CG_l1_25_c76_H\n",
      "  from saved path: /mnt/hgfs/SHARED_FOLDER/Learn_iPyrad/CRAGIG_RUNS_12_py/CG_l1_25_c76_H.json\n",
      "  creating a new branch called 'CG_l1_25_c92_H' with 25 Samples\n",
      "  writing new params file to params-CG_l1_25_c92_H.txt\n",
      "\n"
     ]
    }
   ],
   "source": [
    "!ipyrad -p params-CG_l1_25_c76_H.txt -b CG_l1_25_c92_H"
   ]
  },
  {
   "cell_type": "code",
   "execution_count": 63,
   "metadata": {
    "collapsed": false,
    "deletable": true,
    "editable": true,
    "scrolled": true
   },
   "outputs": [
    {
     "name": "stdout",
     "output_type": "stream",
     "text": [
      "\n",
      " -------------------------------------------------------------\n",
      "  ipyrad [v.0.6.20]\n",
      "  Interactive assembly and analysis of RAD-seq data\n",
      " -------------------------------------------------------------\n",
      "\n",
      "  A new version of ipyrad is available (v.0.7.1). To upgrade run:\n",
      "\n",
      "    conda install -c ipyrad ipyrad\n",
      "\n",
      "\n",
      "  loading Assembly: CG_l1_25_c76_H\n",
      "  from saved path: /mnt/hgfs/SHARED_FOLDER/Learn_iPyrad/CRAGIG_RUNS_12_py/CG_l1_25_c76_H.json\n",
      "  creating a new branch called 'CG_l1_25_c94_H' with 25 Samples\n",
      "  writing new params file to params-CG_l1_25_c94_H.txt\n",
      "\n"
     ]
    }
   ],
   "source": [
    "!ipyrad -p params-CG_l1_25_c76_H.txt -b CG_l1_25_c94_H"
   ]
  },
  {
   "cell_type": "code",
   "execution_count": 72,
   "metadata": {
    "collapsed": false,
    "deletable": true,
    "editable": true
   },
   "outputs": [
    {
     "name": "stdout",
     "output_type": "stream",
     "text": [
      "#!/bin/bash\r\n",
      "ipyrad -p params-CG_l1_25_c76_H.txt -s 34567 -f\r\n",
      "ipyrad -p params-CG_l1_25_c78_H.txt -s 34567 -f\r\n",
      "ipyrad -p params-CG_l1_25_c80_H.txt -s 34567 -f\r\n",
      "ipyrad -p params-CG_l1_25_c82_H.txt -s 34567 -f\r\n",
      "ipyrad -p params-CG_l1_25_c84_H.txt -s 34567 -f\r\n",
      "ipyrad -p params-CG_l1_25_c86_H.txt -s 34567 -f\r\n",
      "ipyrad -p params-CG_l1_25_c88_H.txt -s 34567 -f\r\n",
      "ipyrad -p params-CG_l1_25_c90_H.txt -s 34567 -f\r\n",
      "ipyrad -p params-CG_l1_25_c92_H.txt -s 34567 -f\r\n",
      "ipyrad -p params-CG_l1_25_c94_H.txt -s 34567 -f\r\n"
     ]
    }
   ],
   "source": [
    "!head clust_test_25scallops_H.sh -n 15"
   ]
  },
  {
   "cell_type": "markdown",
   "metadata": {},
   "source": [
    "## # loci at filtering steps vs. clustering similarity \n",
    "\n",
    "**20170715**\n",
    "\n",
    "I took the counts from the step 7 stats files and plotted number of retained loci at each step across clustering similarity thresholds."
   ]
  },
  {
   "cell_type": "code",
   "execution_count": 9,
   "metadata": {
    "collapsed": false,
    "deletable": true,
    "editable": true
   },
   "outputs": [
    {
     "data": {
      "image/png": "[encoded data removed]",
      "text/plain": [
       "<matplotlib.figure.Figure at 0x7f8ed2cd4350>"
      ]
     },
     "metadata": {},
     "output_type": "display_data"
    }
   ],
   "source": [
    "import matplotlib.pyplot as plt\n",
    "import numpy as np\n",
    "\n",
    "steps = [1,2,3,4,5,6,7]\n",
    "\n",
    "# pulled counts from the .stats files in step 7\n",
    "c94_steps = [57210,49575,49451,47624,47624,13942,13942]\n",
    "c92_steps = [50579,43954,43352,39749,39749,12371,12371]\n",
    "c90_steps = [46344,40733,39439,34838,34838,11136,11136]\n",
    "c88_steps = [44369,39251,37214,32094,32094,10177,10177]\n",
    "c86_steps = [43200,38407,35623,30302,30302,9399,9399]\n",
    "c84_steps = [42270,37745,34344,29102,29102,8739,8739]\n",
    "c82_steps = [41246,36945,33180,28174,28174,8289,8289]\n",
    "c80_steps = [40550,36523,32256,27354,27354,7811,7811]\n",
    "c78_steps = [39994,36053,31441,26679,26679,7468,7468]\n",
    "c76_steps = [39483,35653,30657,26109,26109,7134,7134]\n",
    "step_labels = ['Prefilter','Rem duplcates','Max indels','Max SNPs','Max shared het','Min samples','Max alleles']\n",
    "\n",
    "# plot together\n",
    "plt.plot(steps, c94_steps, label = '94%')\n",
    "plt.plot(steps, c92_steps, label = '92%')\n",
    "plt.plot(steps, c90_steps, label = '90%')\n",
    "plt.plot(steps, c88_steps, label = '88%')\n",
    "plt.plot(steps, c86_steps, label = '86%')\n",
    "plt.plot(steps, c84_steps, label = '84%')\n",
    "plt.plot(steps, c82_steps, label = '82%')\n",
    "plt.plot(steps, c80_steps, label = '80%')\n",
    "plt.plot(steps, c78_steps, label = '78%')\n",
    "plt.plot(steps, c76_steps, label = '76%')\n",
    "\n",
    "plt.legend(loc = 'upper right')\n",
    "\n",
    "plt.title(\"Retained loci at each filtering step in ipyrad\\n25 scallops, 10 different clustering thresholds\")\n",
    "plt.ylabel(\"Retained loci\")\n",
    "plt.xticks(steps, step_labels, rotation=30)\n",
    "\n",
    "plt.show()"
   ]
  },
  {
   "cell_type": "markdown",
   "metadata": {},
   "source": [
    "This isn't quite the pattern I expected. I did expect that as I increase clustering similarity threshold, that the number of loci would increase. But, I also expected that at some point, the number of loci would start to go down again due to the \"remove duplicates\" stage, which works a lot like our lab's bowtie & blast filtering step. Maybe it's worth testing higher clustering similarity thresholds, just to convince myself that that would happen. I guess I also expected a bigger difference in patterns between clustering similarity thresholds, but it mostly looks like the same pattern, with slight differences in scale due to the number of loci."
   ]
  },
  {
   "cell_type": "markdown",
   "metadata": {},
   "source": [
    "## Changes in Fis & Heterozygosity\n",
    "\n",
    "**20170715**\n",
    "\n",
    "Seems like there are no changes in patterns, just in scale due to changes in total number of loci.\n",
    "\n",
    "#### Before filtering for MAF of .05:\n",
    "\n",
    "![img](https://github.com/nclowell/RAD_Scallops/blob/master/CRAGIG_combined_lanes/Notebooks/imgs_for_notebooks/Fis_beforeMAF_20170715.gif?raw=true)\n",
    "\n",
    "![img](https://github.com/nclowell/RAD_Scallops/blob/master/CRAGIG_combined_lanes/Notebooks/imgs_for_notebooks/Ho_beforeMAF_20170715.gif?raw=true)\n",
    "\n",
    "![img](https://github.com/nclowell/RAD_Scallops/blob/master/CRAGIG_combined_lanes/Notebooks/imgs_for_notebooks/Hs_beforeMAF_20170715.gif?raw=true)\n",
    "\n",
    "#### After filtering for MAF of .05:\n",
    "\n",
    "![img](https://github.com/nclowell/RAD_Scallops/blob/master/CRAGIG_combined_lanes/Notebooks/imgs_for_notebooks/Fis_afterMAF_20170715.gif?raw=true)\n",
    "\n",
    "![img](https://github.com/nclowell/RAD_Scallops/blob/master/CRAGIG_combined_lanes/Notebooks/imgs_for_notebooks/Ho_afterMAF_20170715.gif?raw=true)\n",
    "\n",
    "![img](https://github.com/nclowell/RAD_Scallops/blob/master/CRAGIG_combined_lanes/Notebooks/imgs_for_notebooks/Hs_afterMAF_20170715.gif?raw=true)\n"
   ]
  },
  {
   "cell_type": "markdown",
   "metadata": {},
   "source": [
    "## Coverage vs. Fis\n",
    "\n",
    "**20170715**\n",
    "\n",
    "I extracted coverage data from the VCF file and checked for correlation with Fis in cragig_l1_25_c84.vcf. Lorenz mentioned that I should check, and if there is correlation, that we should be concerned."
   ]
  },
  {
   "cell_type": "code",
   "execution_count": 13,
   "metadata": {
    "collapsed": false
   },
   "outputs": [
    {
     "name": "stdout",
     "output_type": "stream",
     "text": [
      "/mnt/hgfs/SHARED_FOLDER/Learn_iPyrad/CRAGIG_RUNS_12_py/CG_l1_25_c84_H_outfiles\n"
     ]
    }
   ],
   "source": [
    "cd /mnt/hgfs/SHARED_FOLDER/Learn_iPyrad/CRAGIG_RUNS_12_py/CG_l1_25_c84_H_outfiles/"
   ]
  },
  {
   "cell_type": "code",
   "execution_count": 29,
   "metadata": {
    "collapsed": false
   },
   "outputs": [],
   "source": [
    "vcf_c84_H = open(\"new_outfiles/CG_l1_25_c84_H_biall_NOmaf_oneSNP.vcf\", \"r\")\n",
    "\n",
    "coverage_c84_H = [] # initiate coverage dictionary for initial ipyrad VCF\n",
    "\n",
    "for line in vcf_c84_H:\n",
    "    if line[0] != \"#\":\n",
    "        linelist = line.strip().split()\n",
    "        cov = int(linelist[7].split(\";\")[0].split(\"=\")[1])\n",
    "        coverage_c84_H.append(cov)\n",
    "vcf_c84_H.close()"
   ]
  },
  {
   "cell_type": "code",
   "execution_count": 31,
   "metadata": {
    "collapsed": false
   },
   "outputs": [],
   "source": [
    "fis_c84_H = open(\"new_outfiles/Fis_CG_l1_25_c84_H_biall_NOmaf_oneSNP_inames_fpop_20170713.txt\")\n",
    "fis_c84_H_lines = fis_c84_H.readlines()\n",
    "fis_c84_H.close()\n",
    "\n",
    "fis_c84_H = []\n",
    "\n",
    "for line in fis_c84_H_lines[1:]:\n",
    "    linelist = line.strip().split()\n",
    "    fis = float(linelist[1])\n",
    "    fis_c84_H.append(fis)"
   ]
  },
  {
   "cell_type": "code",
   "execution_count": 33,
   "metadata": {
    "collapsed": false
   },
   "outputs": [
    {
     "data": {
      "image/png": "[encoded data removed]",
      "text/plain": [
       "<matplotlib.figure.Figure at 0x7f8ed2d31910>"
      ]
     },
     "metadata": {},
     "output_type": "display_data"
    }
   ],
   "source": [
    "import matplotlib.pyplot as plt\n",
    "import numpy as np    \n",
    "    \n",
    "plt.scatter(fis_c84_H, coverage_c84_H)\n",
    "plt.xlabel(\"Fis\")\n",
    "plt.ylabel(\"Sample coverage\")\n",
    "plt.title(\"Fis vs. sample coverage\\nCG_l1_25_c84_H_biall_NOmaf_oneSNP\")\n",
    "plt.show()\n",
    "plt.close()"
   ]
  },
  {
   "cell_type": "code",
   "execution_count": 34,
   "metadata": {
    "collapsed": false
   },
   "outputs": [
    {
     "name": "stdout",
     "output_type": "stream",
     "text": [
      "-0.619616107182\n"
     ]
    }
   ],
   "source": [
    "corr = np.corrcoef(fis_c84_H, coverage_c84_H)[0,1]\n",
    "print corr"
   ]
  },
  {
   "cell_type": "markdown",
   "metadata": {},
   "source": [
    "Doesn't look like there's a strong relationship."
   ]
  },
  {
   "cell_type": "markdown",
   "metadata": {},
   "source": [
    "## Ilut plot with CG_l1_25_cXX_H assembles\n",
    "\n",
    "**20170715**"
   ]
  },
  {
   "cell_type": "code",
   "execution_count": 35,
   "metadata": {
    "collapsed": false
   },
   "outputs": [
    {
     "name": "stdout",
     "output_type": "stream",
     "text": [
      "/mnt/hgfs/SHARED_FOLDER/Learn_iPyrad/CRAGIG_RUNS_12_py\n"
     ]
    }
   ],
   "source": [
    "cd /mnt/hgfs/SHARED_FOLDER/Learn_iPyrad/CRAGIG_RUNS_12_py/"
   ]
  },
  {
   "cell_type": "code",
   "execution_count": 36,
   "metadata": {
    "collapsed": true
   },
   "outputs": [],
   "source": [
    "vcf_H_files = [\"CG_l1_25_c76_H_outfiles/CG_l1_25_c76_H.vcf\",\"CG_l1_25_c78_H_outfiles/CG_l1_25_c78_H.vcf\",\"CG_l1_25_c80_H_outfiles/CG_l1_25_c80_H.vcf\",\"CG_l1_25_c82_H_outfiles/CG_l1_25_c82_H.vcf\",\"CG_l1_25_c84_H_outfiles/CG_l1_25_c84_H.vcf\",\"CG_l1_25_c86_H_outfiles/CG_l1_25_c86_H.vcf\",\"CG_l1_25_c88_H_outfiles/CG_l1_25_c88_H.vcf\",\"CG_l1_25_c90_H_outfiles/CG_l1_25_c90_H.vcf\",\"CG_l1_25_c92_H_outfiles/CG_l1_25_c92_H.vcf\",\"CG_l1_25_c94_H_outfiles/CG_l1_25_c94_H.vcf\"]"
   ]
  },
  {
   "cell_type": "code",
   "execution_count": 55,
   "metadata": {
    "collapsed": false
   },
   "outputs": [
    {
     "name": "stdout",
     "output_type": "stream",
     "text": [
      "CG_l1_25_c76_H_outfiles/CG_l1_25_c76_H.vcf done.\n",
      "CG_l1_25_c78_H_outfiles/CG_l1_25_c78_H.vcf done.\n",
      "CG_l1_25_c80_H_outfiles/CG_l1_25_c80_H.vcf done.\n",
      "CG_l1_25_c82_H_outfiles/CG_l1_25_c82_H.vcf done.\n",
      "CG_l1_25_c84_H_outfiles/CG_l1_25_c84_H.vcf done.\n",
      "CG_l1_25_c86_H_outfiles/CG_l1_25_c86_H.vcf done.\n",
      "CG_l1_25_c88_H_outfiles/CG_l1_25_c88_H.vcf done.\n",
      "CG_l1_25_c90_H_outfiles/CG_l1_25_c90_H.vcf done.\n",
      "CG_l1_25_c92_H_outfiles/CG_l1_25_c92_H.vcf done.\n",
      "CG_l1_25_c94_H_outfiles/CG_l1_25_c94_H.vcf done.\n"
     ]
    }
   ],
   "source": [
    "ilut_counts = []\n",
    "\n",
    "for vcf_file in vcf_H_files:\n",
    "    ilut_vcf = open(vcf_file,\"r\")\n",
    "\n",
    "    hom_count = 0\n",
    "    het_count = 0\n",
    "    poly_count = 0\n",
    "\n",
    "    for line in ilut_vcf:\n",
    "        if line[0] != \"#\":\n",
    "            linelist = line.strip().split()\n",
    "            thislocus = linelist[0] + \"_\" + linelist[1]\n",
    "            for genblock in linelist[9:]:\n",
    "                genlist = genblock.split(\":\")[0].split(\"/\")\n",
    "                if len(genlist) >= 3:\n",
    "                    poly_count += 1\n",
    "#                     if thislocus not in poly_c84_loci:\n",
    "#                         poly_c84_loci.append(thislocus)\n",
    "                elif len(genlist) == 2 and genlist[0] != \".\" and genlist[0] == genlist[1]:\n",
    "                    hom_count += 1\n",
    "#                     if thislocus not in hom_c84_loci:\n",
    "#                         hom_c84_loci.append(thislocus)\n",
    "                elif len(genlist) == 2 and genlist[0] != genlist[1]:\n",
    "                    het_count += 1\n",
    "#                     if thislocus not in het_c84_loci:\n",
    "#                         het_c84_loci.append(thislocus)\n",
    "\n",
    "    ilut_counts.append([hom_count,het_count,poly_count])\n",
    "    print vcf_file + \" done.\"\n",
    "\n",
    "    ilut_vcf.close()\n"
   ]
  },
  {
   "cell_type": "code",
   "execution_count": 56,
   "metadata": {
    "collapsed": true
   },
   "outputs": [],
   "source": [
    "hom_series = []\n",
    "het_series = []\n",
    "poly_series =[]\n",
    "\n",
    "for thing in ilut_counts:\n",
    "    total = sum(thing)\n",
    "    perc_hom = (float(thing[0])/float(total))*100\n",
    "    perc_het = (float(thing[1])/float(total))*100\n",
    "    perc_poly =(float(thing[2])/float(total))*100\n",
    "    hom_series.append(perc_hom)\n",
    "    het_series.append(perc_het)\n",
    "    poly_series.append(perc_poly)"
   ]
  },
  {
   "cell_type": "code",
   "execution_count": 58,
   "metadata": {
    "collapsed": false
   },
   "outputs": [
    {
     "data": {
      "image/png": "[encoded data removed]",
      "text/plain": [
       "<matplotlib.figure.Figure at 0x7f8ed201e190>"
      ]
     },
     "metadata": {},
     "output_type": "display_data"
    }
   ],
   "source": [
    "clusts = [76,78,80,82,84,86,88,90,92,94]\n",
    "\n",
    "plt.plot(clusts, hom_series, label = 'Homozygote genotypes')\n",
    "plt.plot(clusts, het_series, label = 'Heterozygote genotypes')\n",
    "plt.plot(clusts, poly_series, label = 'Polyploid genotypes')\n",
    "\n",
    "plt.legend(loc = 'right')\n",
    "\n",
    "plt.title(\"Genotype type counts vs. clustering similarity threshold\\nfrom Ilut et al\")\n",
    "plt.ylabel(\"Percent of genotypes\")\n",
    "plt.xlabel(\"Clustering similarity %\")\n",
    "\n",
    "plt.show()"
   ]
  },
  {
   "cell_type": "markdown",
   "metadata": {},
   "source": [
    "At least there are more heterozygotes here, but still not as many as I'd predicted and definitely not following the expected patterns in the Ilut paper. I wonder if there are filtering parameters in ipyrad that interfere with some of the patterns that the Ilut paper aims to address. And, I'm still surprise there are no polyploid genotypes. Max alleles was set to 10 (arbitrarily high) in these assemblies, so I'd expect a few to come through. Makes me wonder if something inherent to VCF files only allows for diploid genotype calls.\n",
    "\n",
    "\n",
    "Zoom in on homozyogte and heterozygote curves because pattern is weak but present:"
   ]
  },
  {
   "cell_type": "code",
   "execution_count": 59,
   "metadata": {
    "collapsed": false
   },
   "outputs": [
    {
     "data": {
      "image/png": "[encoded data removed]",
      "text/plain": [
       "<matplotlib.figure.Figure at 0x7f8ed2bd8690>"
      ]
     },
     "metadata": {},
     "output_type": "display_data"
    }
   ],
   "source": [
    "plt.plot(clusts, hom_series, label = 'Homozygote genotypes')\n",
    "plt.plot(clusts, het_series, label = 'Heterozygote genotypes')\n",
    "plt.plot(clusts, poly_series, label = 'Polyploid genotypes')\n",
    "\n",
    "plt.ylim(7,15)\n",
    "\n",
    "plt.title(\"Heterozygote genotype counts vs. clustering similarity threshold\\nfrom Ilut et al\")\n",
    "plt.ylabel(\"Percent of genotypes\")\n",
    "plt.xlabel(\"Clustering similarity %\")\n",
    "\n",
    "plt.show()"
   ]
  },
  {
   "cell_type": "code",
   "execution_count": 60,
   "metadata": {
    "collapsed": false
   },
   "outputs": [
    {
     "data": {
      "image/png": "[encoded data removed]",
      "text/plain": [
       "<matplotlib.figure.Figure at 0x7f8ed1c78ed0>"
      ]
     },
     "metadata": {},
     "output_type": "display_data"
    }
   ],
   "source": [
    "plt.plot(clusts, hom_series, label = 'Homozygote genotypes')\n",
    "plt.plot(clusts, het_series, label = 'Heterozygote genotypes')\n",
    "plt.plot(clusts, poly_series, label = 'Polyploid genotypes')\n",
    "\n",
    "plt.ylim(88,91)\n",
    "\n",
    "plt.title(\"Homozygote genotype counts vs. clustering similarity threshold\\nfrom Ilut et al\")\n",
    "plt.ylabel(\"Percent of genotypes\")\n",
    "plt.xlabel(\"Clustering similarity %\")\n",
    "\n",
    "plt.show()"
   ]
  },
  {
   "cell_type": "markdown",
   "metadata": {},
   "source": []
  }
 ],
 "metadata": {
  "kernelspec": {
   "display_name": "Python 2",
   "language": "python",
   "name": "python2"
  },
  "language_info": {
   "codemirror_mode": {
    "name": "ipython",
    "version": 2
   },
   "file_extension": ".py",
   "mimetype": "text/x-python",
   "name": "python",
   "nbconvert_exporter": "python",
   "pygments_lexer": "ipython2",
   "version": "2.7.13"
  }
 },
 "nbformat": 4,
 "nbformat_minor": 2
}
