{
 "cells": [
  {
   "cell_type": "markdown",
   "metadata": {
    "deletable": true,
    "editable": true
   },
   "source": [
    "## Evaluating clustering similarity in ipyrad on scallop data\n",
    "\n",
    "**20170707**\n",
    "\n",
    "I didn't do a super thorough job evaluating the effects of different clustering similarity thresholds in ipyrad, so now's the time. It's the time because I'm not getting tons of loci through the assembly, there's a ton of missing data, and heterozygosity is lower than I'd expect for bivalves. I'm wondering if this is a consequence of how I'm clustering my loci. So here were are.\n",
    "\n",
    "I'm going to set up a bash script that will run assemblies over the weekend. I'll run them on 25 scallop samples, at 10 different clustering similarity thresholds. Ultimately I'd like to make plots from that paper Luke sent me a while back, which helps one pick a clustering similarity threshold that best minimizes both over and under splitting loci.\n",
    "\n",
    "Clustering similarity thresholds for evaluation:\n",
    "- 0.76\n",
    "- 0.78\n",
    "- 0.80\n",
    "- 0.82\n",
    "- 0.84\n",
    "- 0.86\n",
    "- 0.88\n",
    "- 0.90\n",
    "- 0.92\n",
    "- 0.94\n",
    "\n",
    "First, set up the params files. Then make a bash script to run ipyrad through all ten. I manually changed the clustering similarity thresholds in a text editor."
   ]
  },
  {
   "cell_type": "code",
   "execution_count": 3,
   "metadata": {
    "collapsed": false,
    "deletable": true,
    "editable": true
   },
   "outputs": [
    {
     "name": "stdout",
     "output_type": "stream",
     "text": [
      "/mnt/hgfs/SHARED_FOLDER/Learn_iPyrad/CRAGIG_RUNS_12_py\n"
     ]
    }
   ],
   "source": [
    "cd /mnt/hgfs/SHARED_FOLDER/Learn_iPyrad/CRAGIG_RUNS_12_py"
   ]
  },
  {
   "cell_type": "code",
   "execution_count": 6,
   "metadata": {
    "collapsed": false,
    "deletable": true,
    "editable": true
   },
   "outputs": [
    {
     "name": "stdout",
     "output_type": "stream",
     "text": [
      "\n",
      " -------------------------------------------------------------\n",
      "  ipyrad [v.0.6.20]\n",
      "  Interactive assembly and analysis of RAD-seq data\n",
      " -------------------------------------------------------------\n",
      "\n",
      "  A new version of ipyrad is available (v.0.7.1). To upgrade run:\n",
      "\n",
      "    conda install -c ipyrad ipyrad\n",
      "\n",
      "\n",
      "  loading Assembly: cragig_lane1_001\n",
      "  from saved path: /mnt/hgfs/SHARED_FOLDER/Learn_iPyrad/CRAGIG_RUNS_12_py/cragig_lane1_001.json\n",
      "  creating a new branch called 'cragig_l1_25_c76' with 25 Samples\n",
      "  writing new params file to params-cragig_l1_25_c76.txt\n",
      "\n"
     ]
    }
   ],
   "source": [
    "!ipyrad -p params-cragig_lane1_001.txt -b cragig_l1_25_c76 25scallops.txt"
   ]
  },
  {
   "cell_type": "code",
   "execution_count": 7,
   "metadata": {
    "collapsed": false,
    "deletable": true,
    "editable": true
   },
   "outputs": [
    {
     "name": "stdout",
     "output_type": "stream",
     "text": [
      "\n",
      " -------------------------------------------------------------\n",
      "  ipyrad [v.0.6.20]\n",
      "  Interactive assembly and analysis of RAD-seq data\n",
      " -------------------------------------------------------------\n",
      "\n",
      "  A new version of ipyrad is available (v.0.7.1). To upgrade run:\n",
      "\n",
      "    conda install -c ipyrad ipyrad\n",
      "\n",
      "\n",
      "  loading Assembly: cragig_l1_25_c76\n",
      "  from saved path: /mnt/hgfs/SHARED_FOLDER/Learn_iPyrad/CRAGIG_RUNS_12_py/cragig_l1_25_c76.json\n",
      "  creating a new branch called 'cragig_l1_25_c78' with 25 Samples\n",
      "  writing new params file to params-cragig_l1_25_c78.txt\n",
      "\n"
     ]
    }
   ],
   "source": [
    "!ipyrad -p params-cragig_l1_25_c76.txt -b cragig_l1_25_c78"
   ]
  },
  {
   "cell_type": "code",
   "execution_count": 8,
   "metadata": {
    "collapsed": false,
    "deletable": true,
    "editable": true
   },
   "outputs": [
    {
     "name": "stdout",
     "output_type": "stream",
     "text": [
      "\n",
      " -------------------------------------------------------------\n",
      "  ipyrad [v.0.6.20]\n",
      "  Interactive assembly and analysis of RAD-seq data\n",
      " -------------------------------------------------------------\n",
      "\n",
      "  A new version of ipyrad is available (v.0.7.1). To upgrade run:\n",
      "\n",
      "    conda install -c ipyrad ipyrad\n",
      "\n",
      "\n",
      "  loading Assembly: cragig_l1_25_c76\n",
      "  from saved path: /mnt/hgfs/SHARED_FOLDER/Learn_iPyrad/CRAGIG_RUNS_12_py/cragig_l1_25_c76.json\n",
      "  creating a new branch called 'cragig_l1_25_c80' with 25 Samples\n",
      "  writing new params file to params-cragig_l1_25_c80.txt\n",
      "\n"
     ]
    }
   ],
   "source": [
    "!ipyrad -p params-cragig_l1_25_c76.txt -b cragig_l1_25_c80"
   ]
  },
  {
   "cell_type": "code",
   "execution_count": 9,
   "metadata": {
    "collapsed": false,
    "deletable": true,
    "editable": true
   },
   "outputs": [
    {
     "name": "stdout",
     "output_type": "stream",
     "text": [
      "\n",
      " -------------------------------------------------------------\n",
      "  ipyrad [v.0.6.20]\n",
      "  Interactive assembly and analysis of RAD-seq data\n",
      " -------------------------------------------------------------\n",
      "\n",
      "  A new version of ipyrad is available (v.0.7.1). To upgrade run:\n",
      "\n",
      "    conda install -c ipyrad ipyrad\n",
      "\n",
      "\n",
      "  loading Assembly: cragig_l1_25_c76\n",
      "  from saved path: /mnt/hgfs/SHARED_FOLDER/Learn_iPyrad/CRAGIG_RUNS_12_py/cragig_l1_25_c76.json\n",
      "  creating a new branch called 'cragig_l1_25_c82' with 25 Samples\n",
      "  writing new params file to params-cragig_l1_25_c82.txt\n",
      "\n"
     ]
    }
   ],
   "source": [
    "!ipyrad -p params-cragig_l1_25_c76.txt -b cragig_l1_25_c82"
   ]
  },
  {
   "cell_type": "code",
   "execution_count": 10,
   "metadata": {
    "collapsed": false,
    "deletable": true,
    "editable": true
   },
   "outputs": [
    {
     "name": "stdout",
     "output_type": "stream",
     "text": [
      "\n",
      " -------------------------------------------------------------\n",
      "  ipyrad [v.0.6.20]\n",
      "  Interactive assembly and analysis of RAD-seq data\n",
      " -------------------------------------------------------------\n",
      "\n",
      "  A new version of ipyrad is available (v.0.7.1). To upgrade run:\n",
      "\n",
      "    conda install -c ipyrad ipyrad\n",
      "\n",
      "\n",
      "  loading Assembly: cragig_l1_25_c76\n",
      "  from saved path: /mnt/hgfs/SHARED_FOLDER/Learn_iPyrad/CRAGIG_RUNS_12_py/cragig_l1_25_c76.json\n",
      "  creating a new branch called 'cragig_l1_25_c84' with 25 Samples\n",
      "  writing new params file to params-cragig_l1_25_c84.txt\n",
      "\n"
     ]
    }
   ],
   "source": [
    "!ipyrad -p params-cragig_l1_25_c76.txt -b cragig_l1_25_c84"
   ]
  },
  {
   "cell_type": "code",
   "execution_count": 11,
   "metadata": {
    "collapsed": false,
    "deletable": true,
    "editable": true
   },
   "outputs": [
    {
     "name": "stdout",
     "output_type": "stream",
     "text": [
      "\n",
      " -------------------------------------------------------------\n",
      "  ipyrad [v.0.6.20]\n",
      "  Interactive assembly and analysis of RAD-seq data\n",
      " -------------------------------------------------------------\n",
      "\n",
      "  A new version of ipyrad is available (v.0.7.1). To upgrade run:\n",
      "\n",
      "    conda install -c ipyrad ipyrad\n",
      "\n",
      "\n",
      "  loading Assembly: cragig_l1_25_c76\n",
      "  from saved path: /mnt/hgfs/SHARED_FOLDER/Learn_iPyrad/CRAGIG_RUNS_12_py/cragig_l1_25_c76.json\n",
      "  creating a new branch called 'cragig_l1_25_c86' with 25 Samples\n",
      "  writing new params file to params-cragig_l1_25_c86.txt\n",
      "\n"
     ]
    }
   ],
   "source": [
    "!ipyrad -p params-cragig_l1_25_c76.txt -b cragig_l1_25_c86"
   ]
  },
  {
   "cell_type": "code",
   "execution_count": 12,
   "metadata": {
    "collapsed": false,
    "deletable": true,
    "editable": true
   },
   "outputs": [
    {
     "name": "stdout",
     "output_type": "stream",
     "text": [
      "\n",
      " -------------------------------------------------------------\n",
      "  ipyrad [v.0.6.20]\n",
      "  Interactive assembly and analysis of RAD-seq data\n",
      " -------------------------------------------------------------\n",
      "\n",
      "  A new version of ipyrad is available (v.0.7.1). To upgrade run:\n",
      "\n",
      "    conda install -c ipyrad ipyrad\n",
      "\n",
      "\n",
      "  loading Assembly: cragig_l1_25_c76\n",
      "  from saved path: /mnt/hgfs/SHARED_FOLDER/Learn_iPyrad/CRAGIG_RUNS_12_py/cragig_l1_25_c76.json\n",
      "  creating a new branch called 'cragig_l1_25_c88' with 25 Samples\n",
      "  writing new params file to params-cragig_l1_25_c88.txt\n",
      "\n"
     ]
    }
   ],
   "source": [
    "!ipyrad -p params-cragig_l1_25_c76.txt -b cragig_l1_25_c88"
   ]
  },
  {
   "cell_type": "code",
   "execution_count": 13,
   "metadata": {
    "collapsed": false,
    "deletable": true,
    "editable": true
   },
   "outputs": [
    {
     "name": "stdout",
     "output_type": "stream",
     "text": [
      "\n",
      " -------------------------------------------------------------\n",
      "  ipyrad [v.0.6.20]\n",
      "  Interactive assembly and analysis of RAD-seq data\n",
      " -------------------------------------------------------------\n",
      "\n",
      "  A new version of ipyrad is available (v.0.7.1). To upgrade run:\n",
      "\n",
      "    conda install -c ipyrad ipyrad\n",
      "\n",
      "\n",
      "  loading Assembly: cragig_l1_25_c76\n",
      "  from saved path: /mnt/hgfs/SHARED_FOLDER/Learn_iPyrad/CRAGIG_RUNS_12_py/cragig_l1_25_c76.json\n",
      "  creating a new branch called 'cragig_l1_25_c90' with 25 Samples\n",
      "  writing new params file to params-cragig_l1_25_c90.txt\n",
      "\n"
     ]
    }
   ],
   "source": [
    "!ipyrad -p params-cragig_l1_25_c76.txt -b cragig_l1_25_c90"
   ]
  },
  {
   "cell_type": "code",
   "execution_count": 14,
   "metadata": {
    "collapsed": false,
    "deletable": true,
    "editable": true
   },
   "outputs": [
    {
     "name": "stdout",
     "output_type": "stream",
     "text": [
      "\n",
      " -------------------------------------------------------------\n",
      "  ipyrad [v.0.6.20]\n",
      "  Interactive assembly and analysis of RAD-seq data\n",
      " -------------------------------------------------------------\n",
      "\n",
      "  A new version of ipyrad is available (v.0.7.1). To upgrade run:\n",
      "\n",
      "    conda install -c ipyrad ipyrad\n",
      "\n",
      "\n",
      "  loading Assembly: cragig_l1_25_c76\n",
      "  from saved path: /mnt/hgfs/SHARED_FOLDER/Learn_iPyrad/CRAGIG_RUNS_12_py/cragig_l1_25_c76.json\n",
      "  creating a new branch called 'cragig_l1_25_c92' with 25 Samples\n",
      "  writing new params file to params-cragig_l1_25_c92.txt\n",
      "\n"
     ]
    }
   ],
   "source": [
    "!ipyrad -p params-cragig_l1_25_c76.txt -b cragig_l1_25_c92"
   ]
  },
  {
   "cell_type": "code",
   "execution_count": 15,
   "metadata": {
    "collapsed": false,
    "deletable": true,
    "editable": true
   },
   "outputs": [
    {
     "name": "stdout",
     "output_type": "stream",
     "text": [
      "\n",
      " -------------------------------------------------------------\n",
      "  ipyrad [v.0.6.20]\n",
      "  Interactive assembly and analysis of RAD-seq data\n",
      " -------------------------------------------------------------\n",
      "\n",
      "  A new version of ipyrad is available (v.0.7.1). To upgrade run:\n",
      "\n",
      "    conda install -c ipyrad ipyrad\n",
      "\n",
      "\n",
      "  loading Assembly: cragig_l1_25_c76\n",
      "  from saved path: /mnt/hgfs/SHARED_FOLDER/Learn_iPyrad/CRAGIG_RUNS_12_py/cragig_l1_25_c76.json\n",
      "  creating a new branch called 'cragig_l1_25_c94' with 25 Samples\n",
      "  writing new params file to params-cragig_l1_25_c94.txt\n",
      "\n"
     ]
    }
   ],
   "source": [
    "!ipyrad -p params-cragig_l1_25_c76.txt -b cragig_l1_25_c94"
   ]
  },
  {
   "cell_type": "markdown",
   "metadata": {
    "deletable": true,
    "editable": true
   },
   "source": [
    "Params files are all identical except for the clustering similarity threshold parameter.\n",
    "\n",
    "Example params file:"
   ]
  },
  {
   "cell_type": "code",
   "execution_count": 17,
   "metadata": {
    "collapsed": false,
    "deletable": true,
    "editable": true,
    "scrolled": true
   },
   "outputs": [
    {
     "name": "stdout",
     "output_type": "stream",
     "text": [
      "------- ipyrad params file (v.0.6.20)-------------------------------------------\r\n",
      "cragig_l1_25_c76               ## [0] [assembly_name]: Assembly name. Used to name output directories for assembly steps\r\n",
      "/mnt/hgfs/SHARED_FOLDER/Learn_iPyrad/CRAGIG_RUNS_12_py ## [1] [project_dir]: Project dir (made in curdir if not present)\r\n",
      "/mnt/hgfs/Data/CRAGIG_RUN1/CRAGIG_RUN1_raw_data/161228_I137_FCHCYV5BBXX_L5_CHKPE85216120009_1.fq.gz ## [2] [raw_fastq_path]: Location of raw non-demultiplexed fastq files\r\n",
      "/mnt/hgfs/SHARED_FOLDER/Learn_iPyrad/CRAGIG_RUNS_12_py/barcodes_cragigrun1_sansAs.txt ## [3] [barcodes_path]: Location of barcodes file\r\n",
      "                               ## [4] [sorted_fastq_path]: Location of demultiplexed/sorted fastq files\r\n",
      "denovo                         ## [5] [assembly_method]: Assembly method (denovo, reference, denovo+reference, denovo-reference)\r\n",
      "                               ## [6] [reference_sequence]: Location of reference sequence file\r\n",
      "rad                            ## [7] [datatype]: Datatype (see docs): rad, gbs, ddrad, etc.\r\n",
      "TGCAGG,                        ## [8] [restriction_overhang]: Restriction overhang (cut1,) or (cut1, cut2)\r\n",
      "5                              ## [9] [max_low_qual_bases]: Max low quality base calls (Q<20) in a read\r\n",
      "33                             ## [10] [phred_Qscore_offset]: phred Q score offset (33 is default and very standard)\r\n",
      "10                             ## [11] [mindepth_statistical]: Min depth for statistical base calling\r\n",
      "10                             ## [12] [mindepth_majrule]: Min depth for majority-rule base calling\r\n",
      "2000                           ## [13] [maxdepth]: Max cluster depth within samples\r\n",
      "0.76                           ## [14] [clust_threshold]: Clustering threshold for de novo assembly\r\n",
      "0                              ## [15] [max_barcode_mismatch]: Max number of allowable mismatches in barcodes\r\n",
      "2                              ## [16] [filter_adapters]: Filter for adapters/primers (1 or 2=stricter)\r\n",
      "35                             ## [17] [filter_min_trim_len]: Min length of reads after adapter trim\r\n",
      "2                              ## [18] [max_alleles_consens]: Max alleles per site in consensus sequences\r\n",
      "5, 5                           ## [19] [max_Ns_consens]: Max N's (uncalled bases) in consensus (R1, R2)\r\n",
      "8, 8                           ## [20] [max_Hs_consens]: Max Hs (heterozygotes) in consensus (R1, R2)\r\n",
      "12                             ## [21] [min_samples_locus]: Min # samples per locus for output\r\n",
      "20, 20                         ## [22] [max_SNPs_locus]: Max # SNPs per locus (R1, R2)\r\n",
      "8, 8                           ## [23] [max_Indels_locus]: Max # of indels per locus (R1, R2)\r\n",
      "1                            ## [24] [max_shared_Hs_locus]: Max # heterozygous sites per locus (R1, R2)\r\n",
      "0, 0, 0, 0                     ## [25] [trim_reads]: Trim raw read edges (R1>, <R1, R2>, <R2) (see docs)\r\n",
      "0, 0, 0, 0                     ## [26] [trim_loci]: Trim locus edges (see docs) (R1>, <R1, R2>, <R2)\r\n",
      "G, a, g, k, m, l, n, p, s, u, t, v ## [27] [output_formats]: Output formats (see docs)\r\n"
     ]
    }
   ],
   "source": [
    "!head params-cragig_l1_25_c76.txt -n 31"
   ]
  },
  {
   "cell_type": "markdown",
   "metadata": {
    "deletable": true,
    "editable": true
   },
   "source": [
    "Bash script to run these overnight looks like this:"
   ]
  },
  {
   "cell_type": "code",
   "execution_count": 18,
   "metadata": {
    "collapsed": false,
    "deletable": true,
    "editable": true
   },
   "outputs": [
    {
     "name": "stdout",
     "output_type": "stream",
     "text": [
      "#!/bin/bash\r\n",
      "ipyrad -p params-cragig_l1_25_c76.txt -s 34567\r\n",
      "ipyrad -p params-cragig_l1_25_c78.txt -s 34567\r\n",
      "ipyrad -p params-cragig_l1_25_c80.txt -s 34567\r\n",
      "ipyrad -p params-cragig_l1_25_c82.txt -s 34567\r\n",
      "ipyrad -p params-cragig_l1_25_c84.txt -s 34567\r\n",
      "ipyrad -p params-cragig_l1_25_c86.txt -s 34567\r\n",
      "ipyrad -p params-cragig_l1_25_c88.txt -s 34567\r\n",
      "ipyrad -p params-cragig_l1_25_c90.txt -s 34567\r\n",
      "ipyrad -p params-cragig_l1_25_c92.txt -s 34567\r\n",
      "ipyrad -p params-cragig_l1_25_c94.txt -s 34567\r\n"
     ]
    }
   ],
   "source": [
    "!head clust_test_25scallops.sh -n 12"
   ]
  },
  {
   "cell_type": "markdown",
   "metadata": {
    "deletable": true,
    "editable": true
   },
   "source": [
    "## Retained loci at filtering steps vs. clustering similarity threshold"
   ]
  },
  {
   "cell_type": "code",
   "execution_count": 9,
   "metadata": {
    "collapsed": true,
    "deletable": true,
    "editable": true
   },
   "outputs": [],
   "source": [
    "import matplotlib.pyplot as plt\n",
    "import numpy as np"
   ]
  },
  {
   "cell_type": "code",
   "execution_count": 38,
   "metadata": {
    "collapsed": true,
    "deletable": true,
    "editable": true
   },
   "outputs": [],
   "source": [
    "steps = [1,2,3,4,5,6,7]\n",
    "c94_steps = [56382,49128,49009,47269,35079,2730,2655]\n",
    "c92_steps = [48418,43474,42862,39776,28598,2362,2301]\n",
    "c90_steps = [43456,39972,38701,34748,24714,2125,2059]\n",
    "c88_steps = [40486,37801,35822,31553,22251,1929,1873]\n",
    "c86_steps = [38352,36197,33589,29396,20715,1736,1695]\n",
    "c84_steps = [36800,34741,31654,27716,19559,1657,1615]\n",
    "c82_steps = [35716,33745,30289,26578,18861,1554,1518]\n",
    "c80_steps = [34430,32735,28895,25384,18018,1465,1434]\n",
    "c78_steps = [33720,32119,27999,24635,17533,1381,1351]\n",
    "c76_steps = [32940,31440,27072,23881,17064,1330,1301]\n",
    "step_labels = ['Prefilter','Rem duplcates','Max indels','Max SNPs','Max shared het','Min samples','Max alleles']\n"
   ]
  },
  {
   "cell_type": "code",
   "execution_count": 39,
   "metadata": {
    "collapsed": false,
    "deletable": true,
    "editable": true
   },
   "outputs": [
    {
     "data": {
      "image/png": "[encoded data removed]",
      "text/plain": [
       "<matplotlib.figure.Figure at 0x7fecb967ec50>"
      ]
     },
     "metadata": {},
     "output_type": "display_data"
    }
   ],
   "source": [
    "plt.plot(steps, c94_steps, label = '94%')\n",
    "plt.plot(steps, c92_steps, label = '92%')\n",
    "plt.plot(steps, c90_steps, label = '90%')\n",
    "plt.plot(steps, c88_steps, label = '88%')\n",
    "plt.plot(steps, c86_steps, label = '86%')\n",
    "plt.plot(steps, c84_steps, label = '84%')\n",
    "plt.plot(steps, c82_steps, label = '82%')\n",
    "plt.plot(steps, c80_steps, label = '80%')\n",
    "plt.plot(steps, c78_steps, label = '78%')\n",
    "plt.plot(steps, c76_steps, label = '76%')\n",
    "\n",
    "plt.legend(loc = 'upper right')\n",
    "\n",
    "plt.title(\"Retained loci at each filtering step in ipyrad\\n25 scallops, 10 different clustering thresholds\")\n",
    "plt.ylabel(\"Retained loci\")\n",
    "plt.xticks(steps, step_labels, rotation=30)\n",
    "\n",
    "plt.show()"
   ]
  },
  {
   "cell_type": "markdown",
   "metadata": {
    "deletable": true,
    "editable": true
   },
   "source": [
    "## Fis vs. clustering similarity threshold\n",
    "\n",
    "Ran through filtering notebook & hierfstat to produce Fis plots."
   ]
  },
  {
   "cell_type": "markdown",
   "metadata": {
    "deletable": true,
    "editable": true
   },
   "source": [
    "#### Without MAF filtering:"
   ]
  },
  {
   "cell_type": "code",
   "execution_count": 3,
   "metadata": {
    "collapsed": false
   },
   "outputs": [
    {
     "name": "stdout",
     "output_type": "stream",
     "text": [
      "/mnt/hgfs/SHARED_FOLDER/Learn_iPyrad/CRAGIG_RUNS_12_py\n"
     ]
    }
   ],
   "source": [
    "cd /mnt/hgfs/SHARED_FOLDER/Learn_iPyrad/CRAGIG_RUNS_12_py"
   ]
  },
  {
   "cell_type": "code",
   "execution_count": 4,
   "metadata": {
    "collapsed": true
   },
   "outputs": [],
   "source": [
    "all_fis = open(\"fis_25_c.csv\",\"r\")\n",
    "all_fis_lines = all_fis.readlines()\n",
    "all_fis.close()"
   ]
  },
  {
   "cell_type": "code",
   "execution_count": 27,
   "metadata": {
    "collapsed": false
   },
   "outputs": [],
   "source": [
    "C76_fis = []\n",
    "C78_fis = []\n",
    "C80_fis = []\n",
    "C82_fis = []\n",
    "C84_fis = []\n",
    "C86_fis = []\n",
    "C88_fis = []\n",
    "C90_fis = []\n",
    "C92_fis = []\n",
    "C94_fis = []\n",
    "\n",
    "for line in all_fis_lines[1:-10]:\n",
    "    linelist = line.strip().split(\",\")\n",
    "    if linelist[0] != \"\":\n",
    "        C76_fis.append(float(linelist[0]))\n",
    "    if linelist[1] != \"\":\n",
    "        C78_fis.append(float(linelist[1]))\n",
    "    if linelist[2] != \"\":\n",
    "        C80_fis.append(float(linelist[2]))\n",
    "    if linelist[3] != \"\":\n",
    "        C82_fis.append(float(linelist[3]))\n",
    "    if linelist[4] != \"\":\n",
    "        C84_fis.append(float(linelist[4]))\n",
    "    if linelist[5] != \"\":\n",
    "        C86_fis.append(float(linelist[5]))\n",
    "    if linelist[6] != \"\":\n",
    "        C88_fis.append(float(linelist[6]))\n",
    "    if linelist[7] != \"\":\n",
    "        C90_fis.append(float(linelist[7]))\n",
    "    if linelist[8] != \"\":\n",
    "        C92_fis.append(float(linelist[8]))\n",
    "    if linelist[1] != \"\":\n",
    "        C94_fis.append(float(linelist[9]))"
   ]
  },
  {
   "cell_type": "code",
   "execution_count": 34,
   "metadata": {
    "collapsed": false
   },
   "outputs": [
    {
     "data": {
      "image/png": "[encoded data removed]",
      "text/plain": [
       "<matplotlib.figure.Figure at 0x7f171c0c4510>"
      ]
     },
     "metadata": {},
     "output_type": "display_data"
    }
   ],
   "source": [
    "plt.hist(C76_fis, label = \"76%\", alpha = .25, bins = np.arange(-1.2,1.2,.1)-.05)\n",
    "plt.hist(C78_fis, label = \"78%\", alpha = .25, bins = np.arange(-1.2,1.2,.1)-.05)\n",
    "plt.hist(C80_fis, label = \"80%\", alpha = .25, bins = np.arange(-1.2,1.2,.1)-.05)\n",
    "plt.hist(C82_fis, label = \"82%\", alpha = .25, bins = np.arange(-1.2,1.2,.1)-.05)\n",
    "plt.hist(C84_fis, label = \"84%\", alpha = .25, bins = np.arange(-1.2,1.2,.1)-.05)\n",
    "plt.hist(C86_fis, label = \"86%\", alpha = .25, bins = np.arange(-1.2,1.2,.1)-.05)\n",
    "plt.hist(C88_fis, label = \"88%\", alpha = .25, bins = np.arange(-1.2,1.2,.1)-.05)\n",
    "plt.hist(C90_fis, label = \"90%\", alpha = .25, bins = np.arange(-1.2,1.2,.1)-.05)\n",
    "plt.hist(C92_fis, label = \"92%\", alpha = .25, bins = np.arange(-1.2,1.2,.1)-.05)\n",
    "plt.hist(C94_fis, label = \"94%\", alpha = .25, bins = np.arange(-1.2,1.2,.1)-.05)\n",
    "\n",
    "plt.title(\"Fis distribution vs. clustering similarity threshold\")\n",
    "plt.xlabel(\"Fis\")\n",
    "plt.ylabel(\"Freqnuency\")\n",
    "plt.legend(loc = 'upper left')\n",
    "plt.show()\n"
   ]
  },
  {
   "cell_type": "code",
   "execution_count": null,
   "metadata": {
    "collapsed": true
   },
   "outputs": [],
   "source": []
  },
  {
   "cell_type": "markdown",
   "metadata": {
    "deletable": true,
    "editable": true
   },
   "source": [
    "With MAF filtering:"
   ]
  },
  {
   "cell_type": "markdown",
   "metadata": {
    "collapsed": true,
    "deletable": true,
    "editable": true
   },
   "source": [
    "## Branches with max alleles = 10, to capture polypoloid genotypes\n",
    "\n",
    "**20170710**\n",
    "\n",
    "It occurred to me in my sleep that I set max alleles to 2 in this iteration, and thus I won't be seeing any polyploid genotypse. That's fine, except that I can't make the figure from the Ilut paper with out it. I just checked the documentation, and indeed, this parameter is used as early as Step 4. So, I'll have to branch from there. Going to set it to 10.\n",
    "\n",
    "Added ``_a10`` to the params file names to signify \"max 10 alleles,\" and wrote this bash script to run overnight:"
   ]
  },
  {
   "cell_type": "code",
   "execution_count": 3,
   "metadata": {
    "collapsed": false,
    "deletable": true,
    "editable": true
   },
   "outputs": [
    {
     "name": "stdout",
     "output_type": "stream",
     "text": [
      "/mnt/hgfs/SHARED_FOLDER/Learn_iPyrad/CRAGIG_RUNS_12_py\n"
     ]
    }
   ],
   "source": [
    "cd /mnt/hgfs/SHARED_FOLDER/Learn_iPyrad/CRAGIG_RUNS_12_py"
   ]
  },
  {
   "cell_type": "code",
   "execution_count": 5,
   "metadata": {
    "collapsed": false,
    "deletable": true,
    "editable": true
   },
   "outputs": [
    {
     "name": "stdout",
     "output_type": "stream",
     "text": [
      "#!/bin/bash\r\n",
      "ipyrad -p params-cragig_l1_25_c76_a10.txt -s 4567 -f\r\n",
      "ipyrad -p params-cragig_l1_25_c78_a10.txt -s 4567 -f\r\n",
      "ipyrad -p params-cragig_l1_25_c80_a10.txt -s 4567 -f\r\n",
      "ipyrad -p params-cragig_l1_25_c82_a10.txt -s 4567 -f\r\n",
      "ipyrad -p params-cragig_l1_25_c84_a10.txt -s 4567 -f\r\n",
      "ipyrad -p params-cragig_l1_25_c86_a10.txt -s 4567 -f\r\n",
      "ipyrad -p params-cragig_l1_25_c88_a10.txt -s 4567 -f\r\n",
      "ipyrad -p params-cragig_l1_25_c90_a10.txt -s 4567 -f\r\n",
      "ipyrad -p params-cragig_l1_25_c92_a10.txt -s 4567 -f\r\n",
      "ipyrad -p params-cragig_l1_25_c94_a10.txt -s 4567 -f\r\n"
     ]
    }
   ],
   "source": [
    "!head clust_test_25scallops_a10.sh -n 12"
   ]
  },
  {
   "cell_type": "markdown",
   "metadata": {
    "deletable": true,
    "editable": true
   },
   "source": [
    "## Extracting counts of homozygote, heterozygote, and polyploid genotypes from VCF files"
   ]
  },
  {
   "cell_type": "markdown",
   "metadata": {
    "deletable": true,
    "editable": true
   },
   "source": [
    "## Ilut paper figure"
   ]
  },
  {
   "cell_type": "code",
   "execution_count": null,
   "metadata": {
    "collapsed": true,
    "deletable": true,
    "editable": true
   },
   "outputs": [],
   "source": []
  }
 ],
 "metadata": {
  "kernelspec": {
   "display_name": "Python 2",
   "language": "python",
   "name": "python2"
  },
  "language_info": {
   "codemirror_mode": {
    "name": "ipython",
    "version": 2
   },
   "file_extension": ".py",
   "mimetype": "text/x-python",
   "name": "python",
   "nbconvert_exporter": "python",
   "pygments_lexer": "ipython2",
   "version": "2.7.13"
  }
 },
 "nbformat": 4,
 "nbformat_minor": 2
}
