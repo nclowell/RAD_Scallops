{
 "cells": [
  {
   "cell_type": "markdown",
   "metadata": {
    "deletable": true,
    "editable": true
   },
   "source": [
    "## Exploratory Plots\n",
    "\n",
    "This notebook is for creating exploratory plots and is intended for someone to change the filenames and be able to produce the same plots.\n",
    "\n",
    "Change file names for Fis, Ho, and  Hs files from hierfstat here:"
   ]
  },
  {
   "cell_type": "code",
   "execution_count": 17,
   "metadata": {
    "collapsed": true
   },
   "outputs": [],
   "source": [
    "import matplotlib.pyplot as plt\n",
    "import numpy as np"
   ]
  },
  {
   "cell_type": "code",
   "execution_count": 9,
   "metadata": {
    "collapsed": true,
    "deletable": true,
    "editable": true
   },
   "outputs": [],
   "source": [
    "vcf_filename = \"cragig_lane1_002_biall_maf_onesnp.vcf\"\n",
    "str_filename = \"cragig_lanes_12_002_biall_inames_onesnp_fpop.str\"\n",
    "fis_filename = \"Fis_cragig_lane1_002_20170707_fpop.txt\"\n",
    "ho_filename = \"Ho_cragig_lane1_002_20170707_fpop.txt\"\n",
    "hs_filename = \"Hs_cragig_lane1_002_20170707_fpop.txt\""
   ]
  },
  {
   "cell_type": "code",
   "execution_count": 5,
   "metadata": {
    "collapsed": false,
    "deletable": true,
    "editable": true
   },
   "outputs": [
    {
     "name": "stdout",
     "output_type": "stream",
     "text": [
      "/mnt/hgfs/SHARED_FOLDER/Learn_iPyrad/CRAGIG_RUNS_12_py/cragig_lane1_002_outfiles/new_outfiles\n"
     ]
    }
   ],
   "source": [
    "cd /mnt/hgfs/SHARED_FOLDER/Learn_iPyrad/CRAGIG_RUNS_12_py/cragig_lane1_002_outfiles/new_outfiles/"
   ]
  },
  {
   "cell_type": "code",
   "execution_count": 6,
   "metadata": {
    "collapsed": false
   },
   "outputs": [
    {
     "name": "stdout",
     "output_type": "stream",
     "text": [
      "Fis_cragig_lane1_002_20170707_fpop.txt\tHs_cragig_lane1_002_20170707_fpop.txt\r\n",
      "Ho_cragig_lane1_002_20170707_fpop.txt\r\n"
     ]
    }
   ],
   "source": [
    "# get name of text files, which include hierfstat output files\n",
    "!ls *.txt"
   ]
  },
  {
   "cell_type": "code",
   "execution_count": 10,
   "metadata": {
    "collapsed": false,
    "deletable": true,
    "editable": true
   },
   "outputs": [],
   "source": [
    "vcf_file = open(vcf_filename,\"r\") # change!\n",
    "vcf_file_lines = vcf_file.readlines()\n",
    "vcf_file.close()"
   ]
  },
  {
   "cell_type": "code",
   "execution_count": 11,
   "metadata": {
    "collapsed": false,
    "deletable": true,
    "editable": true
   },
   "outputs": [
    {
     "data": {
      "image/png": "[encoded data removed]",
      "text/plain": [
       "<matplotlib.figure.Figure at 0x7f8a2417e7d0>"
      ]
     },
     "metadata": {},
     "output_type": "display_data"
    }
   ],
   "source": [
    "locus_names = {}\n",
    "snp_name_count = 1\n",
    "\n",
    "for line in vcf_file_lines:\n",
    "    if line[0] != \"#\":\n",
    "        linelist = line.strip().split()\n",
    "        locus = linelist[0]\n",
    "        pos = linelist[1]\n",
    "        vcf_locus_name = locus + \"_\" + pos\n",
    "        str_locus_name = \"SNP_\" + str(snp_name_count)\n",
    "        snp_name_count += 1\n",
    "        locus_names[str_locus_name] = vcf_locus_name  \n",
    "\n",
    "sample_list = []\n",
    "snp_name_list = []\n",
    "rdd = {} \n",
    "\n",
    "for line in vcf_file_lines:\n",
    "    if line[0:1] == \"#C\":\n",
    "        linelist = line.strip().split()\n",
    "        sample_list += linelist[9:]\n",
    "    elif line[0] != \"#\": # ignore header lines\n",
    "        genblocks = line.strip().split()\n",
    "        snp_name = genblocks[0] + \"_\" + genblocks[1] # name formate.g., locus_47_1\n",
    "        snp_name_list.append(snp_name)\n",
    "        for genblock in genblocks[9:]: # start on genotype lines\n",
    "            genblocklist = genblock.split(\":\")\n",
    "            rd = int(genblocklist[1])\n",
    "            if snp_name not in rdd:\n",
    "                rdd[snp_name] = [rd]\n",
    "            elif snp_name in rdd:\n",
    "                rdd[snp_name] += [rd]\n",
    "            else:\n",
    "                print \"something funky going on\"\n",
    "\n",
    "locus_rd_avs = []\n",
    "for snp in snp_name_list:\n",
    "    locus_rd_avs.append(np.mean(rdd[snp]))\n",
    "    \n",
    "plt.hist(locus_rd_avs, bins = np.arange(0,max(locus_rd_avs),4)-2)\n",
    "plt.suptitle(\"Average locus read depth\")\n",
    "plt.xlabel(\"Read depth\")\n",
    "plt.ylabel(\"Frequency\")\n",
    "plt.show()"
   ]
  },
  {
   "cell_type": "code",
   "execution_count": 18,
   "metadata": {
    "collapsed": false,
    "deletable": true,
    "editable": true
   },
   "outputs": [
    {
     "name": "stdout",
     "output_type": "stream",
     "text": [
      "\"locus_14_64\"\tNA\tNA\r\n",
      "\n"
     ]
    }
   ],
   "source": [
    "fis_file = open(fis_filename,\"r\")\n",
    "fis_file_lines = fis_file.readlines()\n",
    "fis_file.close()\n",
    "\n",
    "fis_list = []\n",
    "fis_pls_NAs = []\n",
    "\n",
    "for line in fis_file_lines[1:]:\n",
    "    fis = line.strip().split()[1]\n",
    "    fis_pls_NAs.append(fis)\n",
    "    if fis != \"NA\":\n",
    "        fis_list.append(float(fis))\n",
    "    \n",
    "plt.hist(fis_list, bins = np.arange(-1,1,.05)-.025)\n",
    "plt.suptitle(\"Fis\")\n",
    "plt.xlabel(\"Fis\")\n",
    "plt.ylabel(\"Frequency\")\n",
    "plt.show()"
   ]
  },
  {
   "cell_type": "code",
   "execution_count": 13,
   "metadata": {
    "collapsed": false,
    "deletable": true,
    "editable": true
   },
   "outputs": [
    {
     "data": {
      "image/png": "[encoded data removed]",
      "text/plain": [
       "<matplotlib.figure.Figure at 0x7f8a1eca6110>"
      ]
     },
     "metadata": {},
     "output_type": "display_data"
    }
   ],
   "source": [
    "ho_file = open(ho_filename,\"r\")\n",
    "ho_file_lines = ho_file.readlines()\n",
    "ho_file.close()\n",
    "\n",
    "ho_list = []\n",
    "ho_and_NAs = []\n",
    "\n",
    "for line in ho_file_lines[1:]:\n",
    "    ho = line.strip().split()[1]\n",
    "    ho_and_NAs.append(ho)\n",
    "    if ho != \"NA\":\n",
    "        ho_list.append(float(ho))\n",
    "    \n",
    "plt.hist(ho_list, bins = np.arange(min(ho_list),max(ho_list),.025)-.0125)\n",
    "plt.suptitle(\"Ho\")\n",
    "plt.xlabel(\"Ho\")\n",
    "plt.ylabel(\"Frequency\")\n",
    "plt.show()"
   ]
  },
  {
   "cell_type": "code",
   "execution_count": 16,
   "metadata": {
    "collapsed": false,
    "deletable": true,
    "editable": true
   },
   "outputs": [
    {
     "ename": "ValueError",
     "evalue": "min() arg is an empty sequence",
     "output_type": "error",
     "traceback": [
      "\u001b[0;31m---------------------------------------------------------------------------\u001b[0m",
      "\u001b[0;31mValueError\u001b[0m                                Traceback (most recent call last)",
      "\u001b[0;32m<ipython-input-16-34520e27b715>\u001b[0m in \u001b[0;36m<module>\u001b[0;34m()\u001b[0m\n\u001b[1;32m     12\u001b[0m         \u001b[0mhs_list\u001b[0m\u001b[0;34m.\u001b[0m\u001b[0mappend\u001b[0m\u001b[0;34m(\u001b[0m\u001b[0mfloat\u001b[0m\u001b[0;34m(\u001b[0m\u001b[0mhs\u001b[0m\u001b[0;34m)\u001b[0m\u001b[0;34m)\u001b[0m\u001b[0;34m\u001b[0m\u001b[0m\n\u001b[1;32m     13\u001b[0m \u001b[0;34m\u001b[0m\u001b[0m\n\u001b[0;32m---> 14\u001b[0;31m \u001b[0mplt\u001b[0m\u001b[0;34m.\u001b[0m\u001b[0mhist\u001b[0m\u001b[0;34m(\u001b[0m\u001b[0mhs_list\u001b[0m\u001b[0;34m,\u001b[0m \u001b[0mbins\u001b[0m \u001b[0;34m=\u001b[0m \u001b[0mnp\u001b[0m\u001b[0;34m.\u001b[0m\u001b[0marange\u001b[0m\u001b[0;34m(\u001b[0m\u001b[0mmin\u001b[0m\u001b[0;34m(\u001b[0m\u001b[0mhs_list\u001b[0m\u001b[0;34m)\u001b[0m\u001b[0;34m,\u001b[0m\u001b[0mmax\u001b[0m\u001b[0;34m(\u001b[0m\u001b[0mhs_list\u001b[0m\u001b[0;34m)\u001b[0m\u001b[0;34m,\u001b[0m\u001b[0;36m.025\u001b[0m\u001b[0;34m)\u001b[0m\u001b[0;34m-\u001b[0m\u001b[0;36m.0125\u001b[0m\u001b[0;34m)\u001b[0m\u001b[0;34m\u001b[0m\u001b[0m\n\u001b[0m\u001b[1;32m     15\u001b[0m \u001b[0mplt\u001b[0m\u001b[0;34m.\u001b[0m\u001b[0msuptitle\u001b[0m\u001b[0;34m(\u001b[0m\u001b[0;34m\"Hs\"\u001b[0m\u001b[0;34m)\u001b[0m\u001b[0;34m\u001b[0m\u001b[0m\n\u001b[1;32m     16\u001b[0m \u001b[0mplt\u001b[0m\u001b[0;34m.\u001b[0m\u001b[0mxlabel\u001b[0m\u001b[0;34m(\u001b[0m\u001b[0;34m\"Hs\"\u001b[0m\u001b[0;34m)\u001b[0m\u001b[0;34m\u001b[0m\u001b[0m\n",
      "\u001b[0;31mValueError\u001b[0m: min() arg is an empty sequence"
     ]
    }
   ],
   "source": [
    "hs_file = open(hs_filename,\"r\")\n",
    "hs_file_lines = hs_file.readlines()\n",
    "hs_file.close()\n",
    "\n",
    "hs_list = []\n",
    "hs_and_NAs = []\n",
    "\n",
    "for line in hs_file_lines[1:]:\n",
    "    hs = line.strip().split()[1]\n",
    "    hs_and_NAs.append(hs)\n",
    "    if hs != \"NA\":\n",
    "        hs_list.append(float(hs))\n",
    "    \n",
    "plt.hist(hs_list, bins = np.arange(min(hs_list),max(hs_list),.025)-.0125)\n",
    "plt.suptitle(\"Hs\")\n",
    "plt.xlabel(\"Hs\")\n",
    "plt.ylabel(\"Frequency\")\n",
    "plt.show()"
   ]
  },
  {
   "cell_type": "markdown",
   "metadata": {
    "collapsed": true,
    "deletable": true,
    "editable": true
   },
   "source": [
    "## Read depth vs. Fis, Ho, Hs, etc."
   ]
  },
  {
   "cell_type": "code",
   "execution_count": 68,
   "metadata": {
    "collapsed": false,
    "deletable": true,
    "editable": true
   },
   "outputs": [],
   "source": [
    "str_file = open(str_filename, \"r\")\n",
    "str_header = str_file.readline()\n",
    "str_file.close()\n",
    "str_loci = str_header.strip().split()\n",
    "match_loci_inds = [i for i, x in enumerate(snp_name_list) if x in str_loci]\n",
    "rds_filt_all = []\n",
    "for ind in match_loci_inds:\n",
    "    rds_filt_all.append(locus_rd_avs[ind])    \n",
    "match_loci_inds_notNA_fis = [i for i, x in enumerate(fis_pls_NAs) if x != \"NA\"]\n",
    "rds_for_fis = []\n",
    "for ind in match_loci_inds_notNA_fis:\n",
    "    rds_for_fis.append(locus_rd_avs[ind])\n",
    "match_loci_inds_notNA_ho = [i for i, x in enumerate(ho_and_NAs) if x != \"NA\"]\n",
    "rds_for_ho = []\n",
    "for ind in match_loci_inds_notNA_ho:\n",
    "    rds_for_ho.append(locus_rd_avs[ind]) \n",
    "match_loci_inds_notNA_hs = [i for i, x in enumerate(hs_and_NAs) if x != \"NA\"]\n",
    "rds_for_hs = []\n",
    "for ind in match_loci_inds_notNA_hs:\n",
    "    rds_for_hs.append(locus_rd_avs[ind])"
   ]
  },
  {
   "cell_type": "code",
   "execution_count": 69,
   "metadata": {
    "collapsed": false,
    "deletable": true,
    "editable": true
   },
   "outputs": [
    {
     "data": {
      "image/png": "[encoded data removed]",
      "text/plain": [
       "<matplotlib.figure.Figure at 0x7f09fc567fd0>"
      ]
     },
     "metadata": {},
     "output_type": "display_data"
    }
   ],
   "source": [
    "plt.scatter(rds_for_fis, fis_list)\n",
    "plt.suptitle(\"Average locus read depth v. Fis\")\n",
    "plt.xlabel(\"Read depth\")\n",
    "plt.ylabel(\"Fis\")\n",
    "plt.show()"
   ]
  },
  {
   "cell_type": "code",
   "execution_count": 70,
   "metadata": {
    "collapsed": false,
    "deletable": true,
    "editable": true
   },
   "outputs": [
    {
     "data": {
      "image/png": "[encoded data removed]",
      "text/plain": [
       "<matplotlib.figure.Figure at 0x7f09fcde7f50>"
      ]
     },
     "metadata": {},
     "output_type": "display_data"
    }
   ],
   "source": [
    "plt.scatter(rds_for_ho, ho_list)\n",
    "plt.suptitle(\"Average locus read depth v. Ho\")\n",
    "plt.xlabel(\"Read depth\")\n",
    "plt.ylabel(\"Ho\")\n",
    "plt.show()"
   ]
  },
  {
   "cell_type": "code",
   "execution_count": 72,
   "metadata": {
    "collapsed": false,
    "deletable": true,
    "editable": true
   },
   "outputs": [
    {
     "data": {
      "image/png": "[encoded data removed]",
      "text/plain": [
       "<matplotlib.figure.Figure at 0x7f0a2017b3d0>"
      ]
     },
     "metadata": {},
     "output_type": "display_data"
    }
   ],
   "source": [
    "plt.scatter(rds_for_hs, hs_list)\n",
    "plt.suptitle(\"Average locus read depth v. Hs\")\n",
    "plt.xlabel(\"Read depth\")\n",
    "plt.ylabel(\"Hs\")\n",
    "plt.show()"
   ]
  }
 ],
 "metadata": {
  "kernelspec": {
   "display_name": "Python 2",
   "language": "python",
   "name": "python2"
  },
  "language_info": {
   "codemirror_mode": {
    "name": "ipython",
    "version": 2
   },
   "file_extension": ".py",
   "mimetype": "text/x-python",
   "name": "python",
   "nbconvert_exporter": "python",
   "pygments_lexer": "ipython2",
   "version": "2.7.13"
  }
 },
 "nbformat": 4,
 "nbformat_minor": 2
}
