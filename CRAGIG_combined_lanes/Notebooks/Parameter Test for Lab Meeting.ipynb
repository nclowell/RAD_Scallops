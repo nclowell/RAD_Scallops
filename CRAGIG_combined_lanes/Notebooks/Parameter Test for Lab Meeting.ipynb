{
 "cells": [
  {
   "cell_type": "markdown",
   "metadata": {},
   "source": [
    "## Parameters test for lab meeting\n",
    "\n",
    "**20171023**\n",
    "\n",
    "I moved some ipyrad directories, which caused issues for me to try and work with them again. So, I started from scratch in a new directory just to test the effects of changing some parameters on retained loci (and mostly % loci filtered out for missing data and MAF = .05).\n",
    "\n",
    "#### First assembly, whole lane\n",
    "\n",
    "The first assembly was CGl1_001, which was my first lane of data, and I only ran step 1.\n",
    "\n",
    "#### Making subset to work with, 25 scallops\n",
    "\n",
    "The second assembly was CGl1_001_25subset, which was 5 individuals from each of 5 populations. I also set the minimum samples per locus parameter to 5, which is 20 % missing data (has to be in at least 20% of samples to be kept).\n",
    "\n",
    "#### Looking at missing data filters\n",
    "\n",
    "The third assembly was called CGl1_001_25subset_50md, which was the same as CGl1_001_25subset except with the minimum samples per locus parameter set to 13.\n",
    "\n",
    "The fourth assembly was called CGl1_001_25subset_80md, which was the same as CGl1_001_25subset except with the minimum samples per locus parameter set to 20.\n",
    "\n",
    "#### Looking at minimum read depth \n",
    "\n",
    "For these I ran steps 3 - 7\n",
    "\n",
    "The fifth assembly was called CGl1_001_25subset_rd6, which had min read depth (both statistical and majority rule) set to 6.\n",
    "\n",
    "The sixth assembly was called CGl1_001_25subset_rd8, which had min read depth (both statistical and majority rule) set to 8.\n",
    "\n",
    "#### Look at using a reference genome from Molly's lane\n",
    "\n",
    "The seventh assembly was called CGl1_001_25subset_ref\n",
    "\n",
    "Other things I'd like to test for lab meeting:\n",
    "- whether min read depth has a huge effect\n",
    "- how many loci are retained after missing data 50% and 80%, & how many after MAF .05\n",
    "- whether aligning wild scallops to offspring reference genome leads to more retained loci\n",
    "- whether aligning wild scallops to offspring ref gen + de novo leads to more retained loci\n",
    "- after filtering for HWE"
   ]
  },
  {
   "cell_type": "code",
   "execution_count": null,
   "metadata": {
    "collapsed": true
   },
   "outputs": [],
   "source": []
  }
 ],
 "metadata": {
  "kernelspec": {
   "display_name": "Python 2",
   "language": "python",
   "name": "python2"
  },
  "language_info": {
   "codemirror_mode": {
    "name": "ipython",
    "version": 2
   },
   "file_extension": ".py",
   "mimetype": "text/x-python",
   "name": "python",
   "nbconvert_exporter": "python",
   "pygments_lexer": "ipython2",
   "version": "2.7.13"
  }
 },
 "nbformat": 4,
 "nbformat_minor": 2
}
