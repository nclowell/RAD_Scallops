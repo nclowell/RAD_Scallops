{
 "cells": [
  {
   "cell_type": "markdown",
   "metadata": {},
   "source": [
    "## Closer look at 5 loci between replicates\n",
    "\n",
    "Dan suggested that I look at a small number of loci between replicate scallops to see how the genotyping error can be so high between the SNP and haplotype level. \n",
    "\n",
    "\n",
    "They look terribly alike. Which means the error could still be in my code. "
   ]
  },
  {
   "cell_type": "markdown",
   "metadata": {},
   "source": [
    "## Popmap with sample not included!\n",
    "\n",
    "I just realized that I excluded FG100_A, but it's still in the popmap, and it got written into the tags GP file, although it's not in the haplotypes file, so that could be the problem. \n",
    "\n",
    "That would be embarrassing >.<\n",
    "\n",
    "Checking here:"
   ]
  },
  {
   "cell_type": "code",
   "execution_count": 13,
   "metadata": {
    "collapsed": false
   },
   "outputs": [
    {
     "name": "stdout",
     "output_type": "stream",
     "text": [
      "/mnt/hgfs/SHARED_FOLDER/Git_repo/CRAGIG_run1/Scripts\n"
     ]
    }
   ],
   "source": [
    "cd /mnt/hgfs/SHARED_FOLDER/Git_repo/CRAGIG_run1/Scripts"
   ]
  },
  {
   "cell_type": "code",
   "execution_count": 14,
   "metadata": {
    "collapsed": false
   },
   "outputs": [
    {
     "name": "stdout",
     "output_type": "stream",
     "text": [
      "This script found 24243 genotypes to have more than two alleles, and replaced them with missing values, 0000\r\n"
     ]
    }
   ],
   "source": [
    "!python parse_hapfile_to_tagGenePop.py \\\n",
    "-f ../../../WorkingFolder/Stacks_2/batch_100.haplotypes.tsv \\\n",
    "-p ../../../WorkingFolder/popmap_cragigrun1_fortagsGP.txt \\\n",
    "-o ../../../WorkingFolder/Stacks_2/tagsGenepop_20170324.genepop"
   ]
  },
  {
   "cell_type": "markdown",
   "metadata": {},
   "source": [
    "Now re-check haplotype genotyping error:"
   ]
  },
  {
   "cell_type": "code",
   "execution_count": 15,
   "metadata": {
    "collapsed": false
   },
   "outputs": [
    {
     "name": "stdout",
     "output_type": "stream",
     "text": [
      "/mnt/hgfs/SHARED_FOLDER/WorkingFolder/Stacks_2\n"
     ]
    }
   ],
   "source": [
    "cd /mnt/hgfs/SHARED_FOLDER/WorkingFolder/Stacks_2"
   ]
  },
  {
   "cell_type": "code",
   "execution_count": 16,
   "metadata": {
    "collapsed": false
   },
   "outputs": [
    {
     "name": "stdout",
     "output_type": "stream",
     "text": [
      "['FG101_A,', '0000', '0101', '0505', '0709', '0606', '0303', '0707', '0202']\n"
     ]
    }
   ],
   "source": [
    "input = open(\"cragigrun1_reps_tag_gens.txt\") # read in file\n",
    "lines = input.readlines()\n",
    "biglist = []\n",
    "for line in lines:\n",
    "    linelist = line.strip().split()\n",
    "    biglist.append(linelist) # prepare a list to make an array\n",
    "\n",
    "# check list of lists is what you expect\n",
    "print biglist[0][0:9]"
   ]
  },
  {
   "cell_type": "code",
   "execution_count": 17,
   "metadata": {
    "collapsed": false
   },
   "outputs": [
    {
     "name": "stdout",
     "output_type": "stream",
     "text": [
      "['5', '6', '13', '16', '20', '22', '27', '28', '31', '35', '49', '50', '57', '62', '63', '71', '75', '77', '79']\n"
     ]
    }
   ],
   "source": [
    "headerline = lines[8]\n",
    "tag_list = headerline.strip().split(\",\")\n",
    "\n",
    "print tag_list[0:19]"
   ]
  },
  {
   "cell_type": "code",
   "execution_count": 18,
   "metadata": {
    "collapsed": false
   },
   "outputs": [
    {
     "name": "stdout",
     "output_type": "stream",
     "text": [
      "You have 7749 RAD tags.\n"
     ]
    }
   ],
   "source": [
    "num_tags = len(tag_list) # iterate over number of tags\n",
    "print \"You have \" + str(num_tags) + \" RAD tags.\""
   ]
  },
  {
   "cell_type": "code",
   "execution_count": 19,
   "metadata": {
    "collapsed": true
   },
   "outputs": [],
   "source": [
    "import numpy as np\n",
    "myarray = np.array(biglist) # turn the file into an array"
   ]
  },
  {
   "cell_type": "code",
   "execution_count": 20,
   "metadata": {
    "collapsed": true
   },
   "outputs": [],
   "source": [
    "FG101 = np.array(biglist[0:2])\n",
    "FG102 = np.array(biglist[2:4])\n",
    "FG103 = np.array(biglist[4:6])\n",
    "FG104 = np.array(biglist[6:8])"
   ]
  },
  {
   "cell_type": "code",
   "execution_count": 21,
   "metadata": {
    "collapsed": false
   },
   "outputs": [
    {
     "data": {
      "text/plain": [
       "array([['FG101_A,', '0000', '0101', '0505', '0709', '0606', '0303'],\n",
       "       ['FG101_B,', '0000', '0101', '0505', '0709', '0606', '0303']], \n",
       "      dtype='|S8')"
      ]
     },
     "execution_count": 21,
     "metadata": {},
     "output_type": "execute_result"
    }
   ],
   "source": [
    "FG101[0:2,0:7]"
   ]
  },
  {
   "cell_type": "code",
   "execution_count": 22,
   "metadata": {
    "collapsed": true
   },
   "outputs": [],
   "source": [
    "# put arrays in list\n",
    "list_of_arrays = []\n",
    "list_of_arrays.append(FG101)\n",
    "list_of_arrays.append(FG102)\n",
    "list_of_arrays.append(FG103)\n",
    "list_of_arrays.append(FG104)"
   ]
  },
  {
   "cell_type": "code",
   "execution_count": 23,
   "metadata": {
    "collapsed": true
   },
   "outputs": [],
   "source": [
    "# initiate counts and lists to track genotyping error\n",
    "match_genotypes_count = 0\n",
    "match_genotypes_tags = []\n",
    "partmismatch_genotypes_count = 0\n",
    "partmismatch_genotypes_tags = []\n",
    "totalmismatch_genotypes_count = 0\n",
    "totalmismatch_genotypes_tags = []\n",
    "nodata_mismatch_count = 0\n",
    "nodata_mismatch_tags = []"
   ]
  },
  {
   "cell_type": "code",
   "execution_count": 24,
   "metadata": {
    "collapsed": false
   },
   "outputs": [
    {
     "name": "stdout",
     "output_type": "stream",
     "text": [
      "\n",
      "Sample number 1 :\n",
      "Genotypes with perfect match: 6891 : \n",
      "Genotypes with partial match: 104 : \n",
      "Genotypes with total mismatch: 2 : \n",
      "Genotypes with mismatch due to missing data: 752 : \n",
      "\n",
      "Sample number 2 :\n",
      "Genotypes with perfect match: 7020 : \n",
      "Genotypes with partial match: 95 : \n",
      "Genotypes with total mismatch: 1 : \n",
      "Genotypes with mismatch due to missing data: 633 : \n",
      "\n",
      "Sample number 3 :\n",
      "Genotypes with perfect match: 6939 : \n",
      "Genotypes with partial match: 151 : \n",
      "Genotypes with total mismatch: 3 : \n",
      "Genotypes with mismatch due to missing data: 656 : \n",
      "\n",
      "Sample number 4 :\n",
      "Genotypes with perfect match: 6945 : \n",
      "Genotypes with partial match: 142 : \n",
      "Genotypes with total mismatch: 0 : \n",
      "Genotypes with mismatch due to missing data: 662 : \n"
     ]
    }
   ],
   "source": [
    "# sort genotype match/mismatch by sample\n",
    "bysam_match_tags = []\n",
    "bysam_partmismatch_tags = []\n",
    "bysam_totalmismatch_tags = []\n",
    "bysam_missing_tags = []\n",
    "\n",
    "timescount = 1\n",
    "for array in list_of_arrays:\n",
    "    sam_match_genotypes_count = 0\n",
    "    sam_match_genotypes_tags = []\n",
    "    sam_partmismatch_genotypes_count = 0\n",
    "    sam_partmismatch_genotypes_tags = []\n",
    "    sam_totalmismatch_genotypes_count = 0\n",
    "    sam_totalmismatch_genotypes_tags = []\n",
    "    sam_nodata_mismatch_count = 0\n",
    "    sam_nodata_mismatch_tags = []\n",
    "    for i in range(1,num_tags+1):\n",
    "        A_gen = array[0][i] # get genotypes\n",
    "        B_gen = array[1][i]\n",
    "        A_1 = A_gen[0:2] # pull out alleles\n",
    "        A_2 = A_gen[2:4]\n",
    "        B_1 = B_gen[0:2]\n",
    "        B_2 = B_gen[2:4]\n",
    "        A_list = [] # store alleles in lists\n",
    "        A_list.append(A_1)\n",
    "        A_list.append(A_2)\n",
    "        B_list = []\n",
    "        B_list.append(B_1)\n",
    "        B_list.append(B_2)\n",
    "        first_test_string = B_1 + B_2\n",
    "        second_test_string = B_2 + B_1\n",
    "        match_options = []\n",
    "        match_options.append(first_test_string)\n",
    "        match_options.append(second_test_string)\n",
    "        if (A_gen == \"0000\" or B_gen == \"0000\") or (A_gen == \"0000\" and B_gen == \"0000\"):\n",
    "            nodata_mismatch_count += 1\n",
    "            nodata_mismatch_tags.append(tag_list[i-1])\n",
    "            sam_nodata_mismatch_count +=1\n",
    "            sam_nodata_mismatch_tags.append(tag_list[i-1])\n",
    "        elif A_gen in match_options: # if perfect match\n",
    "            match_genotypes_count += 1\n",
    "            match_genotypes_tags.append(tag_list[i-1])\n",
    "            sam_match_genotypes_count += 1\n",
    "            sam_match_genotypes_tags.append(tag_list[i-1])\n",
    "        elif A_1 in B_list or A_2 in B_list: # if one allele is a match\n",
    "            partmismatch_genotypes_count += 1\n",
    "            partmismatch_genotypes_tags.append(tag_list[i-1])\n",
    "            sam_partmismatch_genotypes_count += 1\n",
    "            sam_partmismatch_genotypes_tags.append(tag_list[i-1])\n",
    "        elif A_1 not in B_list or A_2 not in B_list: # if not a match at all\n",
    "            totalmismatch_genotypes_count += 1\n",
    "            totalmismatch_genotypes_tags.append(tag_list[i-1])\n",
    "            sam_totalmismatch_genotypes_count += 1\n",
    "            sam_totalmismatch_genotypes_tags.append(tag_list[i-1])\n",
    "        else:\n",
    "            print \"Your loop may not be fully working.\" \n",
    "            print \"You thought there were three possible options, but there were more than three. Check!\"\n",
    "        \n",
    "    bysam_missing_tags.append(sam_nodata_mismatch_tags)\n",
    "    bysam_match_tags.append(sam_match_genotypes_tags)\n",
    "    bysam_partmismatch_tags.append(sam_partmismatch_genotypes_tags)\n",
    "    bysam_totalmismatch_tags.append(sam_totalmismatch_genotypes_tags)\n",
    "\n",
    "    print \"\\nSample number \" + str(timescount) + \" :\"\n",
    "    print \"Genotypes with perfect match: \" + str(sam_match_genotypes_count) + \" : \"\n",
    "    print \"Genotypes with partial match: \" + str(sam_partmismatch_genotypes_count) + \" : \"\n",
    "    print \"Genotypes with total mismatch: \" + str(sam_totalmismatch_genotypes_count) + \" : \"\n",
    "    print \"Genotypes with mismatch due to missing data: \" + str(sam_nodata_mismatch_count) + \" : \"\n",
    "        \n",
    "    timescount +=1"
   ]
  },
  {
   "cell_type": "code",
   "execution_count": 25,
   "metadata": {
    "collapsed": false
   },
   "outputs": [
    {
     "name": "stdout",
     "output_type": "stream",
     "text": [
      "\n",
      "Total genotypes with perfect match: 27795 : 98.23%\n",
      "Combined (both partial and total) genotyping error: 1.760%\n",
      "\n",
      "Total genotypes with partial match: 492 : 1.738%\n",
      "Total genotypes with total mismatch: 6 : 0.021%\n",
      "Total genotypes with mismatch due to missing data: 2703\n",
      "Total genotypes excluding those with missing data : 28293\n"
     ]
    }
   ],
   "source": [
    "from __future__ import division\n",
    "\n",
    "total_excl_mv = match_genotypes_count + partmismatch_genotypes_count + totalmismatch_genotypes_count\n",
    "\n",
    "print \"\\nTotal genotypes with perfect match: \" + str(match_genotypes_count) + \" : \" + str((float(match_genotypes_count)/float(total_excl_mv)*100))[0:5] + \"%\"\n",
    "print \"Combined (both partial and total) genotyping error: \" + str(float(partmismatch_genotypes_count+totalmismatch_genotypes_count)/float(total_excl_mv)*100)[0:5] + \"%\"\n",
    "print \"\\nTotal genotypes with partial match: \" + str(partmismatch_genotypes_count) + \" : \" + str((float(partmismatch_genotypes_count)/float(total_excl_mv)*100))[0:5] + \"%\"\n",
    "print \"Total genotypes with total mismatch: \" + str(totalmismatch_genotypes_count) + \" : \" + str((float(totalmismatch_genotypes_count)/float(total_excl_mv)*100))[0:5] + \"%\"\n",
    "print \"Total genotypes with mismatch due to missing data: \" + str(nodata_mismatch_count)\n",
    "print \"Total genotypes excluding those with missing data : \" + str(total_excl_mv)"
   ]
  },
  {
   "cell_type": "markdown",
   "metadata": {},
   "source": [
    "# HALLELUJAH\n",
    "\n",
    "![img](https://m.popkey.co/b44edc/mzxo3_s-200x150.gif)"
   ]
  }
 ],
 "metadata": {
  "kernelspec": {
   "display_name": "Python 2",
   "language": "python",
   "name": "python2"
  },
  "language_info": {
   "codemirror_mode": {
    "name": "ipython",
    "version": 2
   },
   "file_extension": ".py",
   "mimetype": "text/x-python",
   "name": "python",
   "nbconvert_exporter": "python",
   "pygments_lexer": "ipython2",
   "version": "2.7.12"
  }
 },
 "nbformat": 4,
 "nbformat_minor": 2
}
