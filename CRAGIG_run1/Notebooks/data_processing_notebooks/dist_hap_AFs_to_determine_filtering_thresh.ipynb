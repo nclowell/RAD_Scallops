{
 "cells": [
  {
   "cell_type": "markdown",
   "metadata": {},
   "source": [
    "## Plot distribution of haplotype frequencies to determien threshold for filtering\n",
    "\n",
    "...or whether I should filter at all.\n",
    "\n",
    "Going to start with the filtering script I wrote, and build on that to make the plot."
   ]
  },
  {
   "cell_type": "code",
   "execution_count": 59,
   "metadata": {
    "collapsed": false
   },
   "outputs": [
    {
     "name": "stdout",
     "output_type": "stream",
     "text": [
      "/mnt/hgfs/SHARED_FOLDER/WorkingFolder/Stacks_2\n"
     ]
    }
   ],
   "source": [
    "cd /mnt/hgfs/SHARED_FOLDER/WorkingFolder/Stacks_2"
   ]
  },
  {
   "cell_type": "code",
   "execution_count": 60,
   "metadata": {
    "collapsed": true
   },
   "outputs": [],
   "source": [
    "from __future__ import division\n",
    "import sys\n",
    "import argparse\n",
    "import numpy as np\n",
    "from operator import itemgetter"
   ]
  },
  {
   "cell_type": "code",
   "execution_count": 61,
   "metadata": {
    "collapsed": false
   },
   "outputs": [],
   "source": [
    "genfile = open(\"trans_tags_gp_fMV_sansreps_20170324.csv\", \"r\") # open genotypes file for reading\n",
    "genfile_lines = genfile.readlines()\n",
    "gen_header = genfile_lines[0] # get first line, header\n",
    "restlines = genfile_lines[1:] # skip first line to get to exclude header"
   ]
  },
  {
   "cell_type": "code",
   "execution_count": 62,
   "metadata": {
    "collapsed": false
   },
   "outputs": [],
   "source": [
    "threshold = .05 # set MAF cutoff"
   ]
  },
  {
   "cell_type": "code",
   "execution_count": 63,
   "metadata": {
    "collapsed": true
   },
   "outputs": [],
   "source": [
    "kept_count = 0\n",
    "lost_count = 0"
   ]
  },
  {
   "cell_type": "code",
   "execution_count": 64,
   "metadata": {
    "collapsed": false
   },
   "outputs": [
    {
     "name": "stdout",
     "output_type": "stream",
     "text": [
      "\n",
      "This script filtered out 7315 loci, out of a total of 7448 loci.\n",
      "\n",
      "Your keptloci file should have 133 loci, and your lostloci file should have 7315 loci.\n",
      "\n",
      "You retained 1.78% of your loci after filtering for minor allele frequency with a threshold of 0.05.\n"
     ]
    }
   ],
   "source": [
    "# maf_dict is a temporary dictionary that stores alleles as keys and allele counts as values\n",
    "# the script then uses the dictionary to calculate frequencies, for filtering\n",
    "\n",
    "freqs_list_forplot = []\n",
    "\n",
    "locus_list = []\n",
    "for locusrow in restlines: # iterate across individual genotypes within a locus\n",
    "    maf_dict = {} # initiate dictionary to store allele frequencies\n",
    "    rowlist = locusrow.strip().split(\",\")\n",
    "    locus = rowlist[0]\n",
    "    locus_list.append(locus)\n",
    "    genlist = rowlist[1:]\n",
    "    gencount = 0 # initiate counter for number of genotypes that aren't missing data\n",
    "    for genotype in genlist:\n",
    "        if genotype != \"0000\":\n",
    "            gencount += 1\n",
    "            allele_list = [genotype[0:2],genotype[2:4]] # assumes your genotypes are two digit format\n",
    "            for allele in allele_list:\n",
    "                if allele not in maf_dict:\n",
    "                    maf_dict[allele] = 1\n",
    "                if allele in maf_dict:\n",
    "                    oldcount = maf_dict[allele]\n",
    "                    newcount = oldcount + 1\n",
    "                    maf_dict[allele] = newcount\n",
    "    allele_list = maf_dict.keys()\n",
    "    allele_freq_list = []\n",
    "    for allele in allele_list: # go through dict, get allele freq, and make dict value a list with freq then count\n",
    "        allele_count = maf_dict[allele]-1 # not sure where my code is adding an extra 1, so deleting one here as a quick fix\n",
    "        allele_freq = float(allele_count)/float(gencount*2)\n",
    "        freqs_list_forplot.append(allele_freq)\n",
    "        allele_freq_list.append(allele_freq)\n",
    "        new_value_list = [allele_freq, allele_count]\n",
    "        maf_dict[allele] = new_value_list\n",
    "    if all(x > threshold for x in allele_freq_list):\n",
    "        kept_count += 1\n",
    "    else:\n",
    "        lost_count += 1\n",
    "\n",
    "# Close files\n",
    "genfile.close()\n",
    "\n",
    "total_count = kept_count + lost_count\n",
    "retained_perc = kept_count/total_count\n",
    "\n",
    "# Report kept/lost to user\n",
    "print \"\\nThis script filtered out \" + str(lost_count) + \" loci, out of a total of \" + str(total_count) + \" loci.\"\n",
    "print \"\\nYour keptloci file should have \" + str(kept_count) + \" loci, and your lostloci file should have \" + str(lost_count) + \" loci.\"\n",
    "print \"\\nYou retained \" + str(retained_perc*100)[0:4] + \"% of your loci after filtering for minor allele frequency with a threshold of \" + str(threshold) + \".\"\n"
   ]
  },
  {
   "cell_type": "code",
   "execution_count": 65,
   "metadata": {
    "collapsed": true
   },
   "outputs": [],
   "source": [
    "import matplotlib.pyplot as plt"
   ]
  },
  {
   "cell_type": "code",
   "execution_count": 66,
   "metadata": {
    "collapsed": false
   },
   "outputs": [
    {
     "data": {
      "image/png": "[encoded data removed]",
      "text/plain": [
       "<matplotlib.figure.Figure at 0x7fbe844c9450>"
      ]
     },
     "metadata": {},
     "output_type": "display_data"
    }
   ],
   "source": [
    "plt.hist(freqs_list_forplot, bins = np.arange(0,1,.02)-.01)\n",
    "plt.suptitle(\"Natalie's Haplotype frequency\")\n",
    "plt.show()\n",
    "plt.close()"
   ]
  },
  {
   "cell_type": "markdown",
   "metadata": {},
   "source": [
    "## Going to check Mary's for comparison..."
   ]
  },
  {
   "cell_type": "code",
   "execution_count": 53,
   "metadata": {
    "collapsed": false
   },
   "outputs": [
    {
     "name": "stdout",
     "output_type": "stream",
     "text": [
      "/home/nclowell/Desktop\n"
     ]
    }
   ],
   "source": [
    "cd /home/nclowell/Desktop"
   ]
  },
  {
   "cell_type": "code",
   "execution_count": 54,
   "metadata": {
    "collapsed": true
   },
   "outputs": [],
   "source": [
    "from __future__ import division\n",
    "import sys\n",
    "import argparse\n",
    "import numpy as np\n",
    "from operator import itemgetter\n",
    "\n",
    "genfile = open(\"mary_test.csv\", \"r\") # open genotypes file for reading\n",
    "genfile_lines = genfile.readlines()\n",
    "gen_header = genfile_lines[0] # get first line, header\n",
    "restlines = genfile_lines[1:] # skip first line to get to exclude header"
   ]
  },
  {
   "cell_type": "code",
   "execution_count": 55,
   "metadata": {
    "collapsed": true
   },
   "outputs": [],
   "source": [
    "threshold = .05 # set MAF cutoff\n",
    "kept_count = 0\n",
    "lost_count = 0"
   ]
  },
  {
   "cell_type": "code",
   "execution_count": 56,
   "metadata": {
    "collapsed": false
   },
   "outputs": [
    {
     "name": "stdout",
     "output_type": "stream",
     "text": [
      "\n",
      "This script filtered out 3353 loci, out of a total of 5864 loci.\n",
      "\n",
      "Your keptloci file should have 2511 loci, and your lostloci file should have 3353 loci.\n",
      "\n",
      "You retained 42.8% of your loci after filtering for minor allele frequency with a threshold of 0.05.\n"
     ]
    }
   ],
   "source": [
    "# maf_dict is a temporary dictionary that stores alleles as keys and allele counts as values\n",
    "# the script then uses the dictionary to calculate frequencies, for filtering\n",
    "\n",
    "freqs_list_forplot = []\n",
    "\n",
    "locus_list = []\n",
    "for locusrow in restlines: # iterate across individual genotypes within a locus\n",
    "    maf_dict = {} # initiate dictionary to store allele frequencies\n",
    "    rowlist = locusrow.strip().split(\",\")\n",
    "    locus = rowlist[0]\n",
    "    locus_list.append(locus)\n",
    "    genlist = rowlist[1:]\n",
    "    gencount = 0 # initiate counter for number of genotypes that aren't missing data\n",
    "    for genotype in genlist:\n",
    "        if genotype != \"0000\":\n",
    "            gencount += 1\n",
    "            allele_list = [genotype[0:2],genotype[2:4]] # assumes your genotypes are two digit format\n",
    "            for allele in allele_list:\n",
    "                if allele not in maf_dict:\n",
    "                    maf_dict[allele] = 1\n",
    "                if allele in maf_dict:\n",
    "                    oldcount = maf_dict[allele]\n",
    "                    newcount = oldcount + 1\n",
    "                    maf_dict[allele] = newcount\n",
    "    allele_list = maf_dict.keys()\n",
    "    allele_freq_list = []\n",
    "    for allele in allele_list: # go through dict, get allele freq, and make dict value a list with freq then count\n",
    "        allele_count = maf_dict[allele]-1 # not sure where my code is adding an extra 1, so deleting one here as a quick fix\n",
    "        allele_freq = float(allele_count)/float(gencount*2)\n",
    "        freqs_list_forplot.append(allele_freq)\n",
    "        allele_freq_list.append(allele_freq)\n",
    "        new_value_list = [allele_freq, allele_count]\n",
    "        maf_dict[allele] = new_value_list\n",
    "    if all(x > threshold for x in allele_freq_list):\n",
    "        kept_count += 1\n",
    "    else:\n",
    "        lost_count += 1\n",
    "\n",
    "# Close files\n",
    "genfile.close()\n",
    "\n",
    "total_count = kept_count + lost_count\n",
    "retained_perc = kept_count/total_count\n",
    "\n",
    "# Report kept/lost to user\n",
    "print \"\\nThis script filtered out \" + str(lost_count) + \" loci, out of a total of \" + str(total_count) + \" loci.\"\n",
    "print \"\\nYour keptloci file should have \" + str(kept_count) + \" loci, and your lostloci file should have \" + str(lost_count) + \" loci.\"\n",
    "print \"\\nYou retained \" + str(retained_perc*100)[0:4] + \"% of your loci after filtering for minor allele frequency with a threshold of \" + str(threshold) + \".\"\n"
   ]
  },
  {
   "cell_type": "code",
   "execution_count": 57,
   "metadata": {
    "collapsed": false
   },
   "outputs": [
    {
     "data": {
      "image/png": "[encoded data removed]",
      "text/plain": [
       "<matplotlib.figure.Figure at 0x7fbe8cf24550>"
      ]
     },
     "metadata": {},
     "output_type": "display_data"
    }
   ],
   "source": [
    "import matplotlib.pyplot as plt\n",
    "\n",
    "plt.hist(freqs_list_forplot, bins = np.arange(0,1,.02)-.01)\n",
    "plt.suptitle(\"Mary's Haplotype frequency\")\n",
    "plt.show()\n",
    "plt.close()"
   ]
  },
  {
   "cell_type": "code",
   "execution_count": null,
   "metadata": {
    "collapsed": true
   },
   "outputs": [],
   "source": []
  }
 ],
 "metadata": {
  "kernelspec": {
   "display_name": "Python 2",
   "language": "python",
   "name": "python2"
  },
  "language_info": {
   "codemirror_mode": {
    "name": "ipython",
    "version": 2
   },
   "file_extension": ".py",
   "mimetype": "text/x-python",
   "name": "python",
   "nbconvert_exporter": "python",
   "pygments_lexer": "ipython2",
   "version": "2.7.12"
  }
 },
 "nbformat": 4,
 "nbformat_minor": 2
}
