{
 "cells": [
  {
   "cell_type": "markdown",
   "metadata": {},
   "source": [
    "## Getting a grip on minor allele frequenecs for multiallelic data\n",
    "\n",
    "I want to better understand the distribution of frequencies of minor alleles.\n",
    "\n",
    "Specific things to explore:\n",
    "- average number of reads per locus in individual\n",
    "- for loci with two or more alleles in an individual, frequency of minor alleles"
   ]
  },
  {
   "cell_type": "code",
   "execution_count": 1,
   "metadata": {
    "collapsed": false
   },
   "outputs": [
    {
     "name": "stdout",
     "output_type": "stream",
     "text": [
      "/mnt/hgfs/SHARED_FOLDER/WorkingFolder/Stacks_2\n"
     ]
    }
   ],
   "source": [
    "cd /mnt/hgfs/SHARED_FOLDER/WorkingFolder/Stacks_2"
   ]
  },
  {
   "cell_type": "code",
   "execution_count": 2,
   "metadata": {
    "collapsed": true
   },
   "outputs": [],
   "source": [
    "ind_all = open(\"FG001.alleles.tsv\", \"r\")\n",
    "lines = ind_all.readlines()[1:] # get rid of header\n",
    "\n",
    "biglist_for_array = []\n",
    "for line in lines:\n",
    "    linelist = line.strip().split()[2:] # exclude first two columns, not useful info\n",
    "    biglist_for_array.append(linelist) # make list of lists for array"
   ]
  },
  {
   "cell_type": "code",
   "execution_count": 3,
   "metadata": {
    "collapsed": true
   },
   "outputs": [],
   "source": [
    "import numpy as np"
   ]
  },
  {
   "cell_type": "code",
   "execution_count": 4,
   "metadata": {
    "collapsed": false
   },
   "outputs": [
    {
     "name": "stdout",
     "output_type": "stream",
     "text": [
      "[['6' 'A' '30.00' '3']\n",
      " ['6' 'C' '70.00' '7']\n",
      " ['13' 'C' '45.66' '205']\n",
      " ['13' 'T' '54.34' '244']\n",
      " ['18' 'CCA' '34.76' '65']\n",
      " ['18' 'TTA' '0.53' '1']\n",
      " ['18' 'TTG' '64.71' '121']\n",
      " ['21' 'A' '57.02' '134']\n",
      " ['21' 'C' '42.55' '100']]\n"
     ]
    }
   ],
   "source": [
    "r = np.array(biglist_for_array) # convert to array\n",
    "print r[0:9,] # check"
   ]
  },
  {
   "cell_type": "markdown",
   "metadata": {},
   "source": [
    "## Find out how many alleles possible per genotype in this individual"
   ]
  },
  {
   "cell_type": "code",
   "execution_count": 6,
   "metadata": {
    "collapsed": false
   },
   "outputs": [
    {
     "name": "stdout",
     "output_type": "stream",
     "text": [
      "['6', '13', '18', '21', '32', '35', '41', '42', '54']\n",
      "\n",
      "Your file has 4958 loci.\n"
     ]
    }
   ],
   "source": [
    "all_locus_names = [] # get locus names, incl redundant\n",
    "for row in r:\n",
    "    locus_name = row[0]\n",
    "    all_locus_names.append(locus_name)\n",
    "    \n",
    "unique_locus_names = [] # just unique locus names in order\n",
    "for name in all_locus_names:\n",
    "    if name not in unique_locus_names:\n",
    "        unique_locus_names.append(name) \n",
    "print unique_locus_names[0:9] # print first few to check\n",
    "\n",
    "num_loci = len(unique_locus_names)\n",
    "print \"\\nYour file has \" + str(num_loci) + \" loci.\" # report num loci"
   ]
  },
  {
   "cell_type": "code",
   "execution_count": 7,
   "metadata": {
    "collapsed": false
   },
   "outputs": [
    {
     "name": "stdout",
     "output_type": "stream",
     "text": [
      "['6', '6', '13', '13', '18', '18', '18', '21', '21', '32', '32', '35', '35', '41']\n"
     ]
    }
   ],
   "source": [
    "print all_locus_names[0:14]"
   ]
  },
  {
   "cell_type": "code",
   "execution_count": 8,
   "metadata": {
    "collapsed": false
   },
   "outputs": [
    {
     "name": "stdout",
     "output_type": "stream",
     "text": [
      "[['6' 'A' '30.00' '3']\n",
      " ['6' 'C' '70.00' '7']]\n"
     ]
    }
   ],
   "source": [
    "index_list = []\n",
    "for locus in unique_locus_names:\n",
    "    indeces = [i for i, x in enumerate(all_locus_names) if x == locus]\n",
    "    index_list.append(indeces)\n",
    "\n",
    "list_arrays_bytag = []\n",
    "for indeces in index_list:\n",
    "    miniarray = r[indeces]\n",
    "    list_arrays_bytag.append(miniarray)\n",
    "\n",
    "print list_arrays_bytag[0]"
   ]
  },
  {
   "cell_type": "code",
   "execution_count": 9,
   "metadata": {
    "collapsed": false
   },
   "outputs": [
    {
     "name": "stdout",
     "output_type": "stream",
     "text": [
      "[2, 2, 3, 2, 2, 2, 2, 2, 3, 2, 3, 3, 2, 3, 2, 2, 3, 2, 2]\n"
     ]
    }
   ],
   "source": [
    "allele_counts = []\n",
    "for array in list_arrays_bytag:\n",
    "    count = array.shape[0]\n",
    "    allele_counts.append(count)\n",
    "\n",
    "print allele_counts[0:19]"
   ]
  },
  {
   "cell_type": "markdown",
   "metadata": {},
   "source": [
    "## Histogram of allele counts within individual"
   ]
  },
  {
   "cell_type": "code",
   "execution_count": null,
   "metadata": {
    "collapsed": true
   },
   "outputs": [],
   "source": [
    "import matplotlib.pyplot as plt"
   ]
  },
  {
   "cell_type": "code",
   "execution_count": 62,
   "metadata": {
    "collapsed": false
   },
   "outputs": [
    {
     "data": {
      "image/png": "[encoded data removed]",
      "text/plain": [
       "<matplotlib.figure.Figure at 0x7f36331649d0>"
      ]
     },
     "metadata": {},
     "output_type": "display_data"
    }
   ],
   "source": [
    "plt.hist(allele_counts, bins=np.arange(6)-0.5)\n",
    "plt.xticks(range(5))\n",
    "plt.suptitle(\"Number of alleles at genotype within individual\")\n",
    "plt.xlabel(\"Number of alleles of individual genotype\")\n",
    "plt.ylabel(\"Frequency\")\n",
    "plt.show()"
   ]
  },
  {
   "cell_type": "code",
   "execution_count": null,
   "metadata": {
    "collapsed": true
   },
   "outputs": [],
   "source": []
  }
 ],
 "metadata": {
  "kernelspec": {
   "display_name": "Python 2",
   "language": "python",
   "name": "python2"
  },
  "language_info": {
   "codemirror_mode": {
    "name": "ipython",
    "version": 2
   },
   "file_extension": ".py",
   "mimetype": "text/x-python",
   "name": "python",
   "nbconvert_exporter": "python",
   "pygments_lexer": "ipython2",
   "version": "2.7.12"
  }
 },
 "nbformat": 4,
 "nbformat_minor": 2
}
