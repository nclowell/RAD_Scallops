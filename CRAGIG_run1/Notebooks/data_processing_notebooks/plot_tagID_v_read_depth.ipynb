{
 "cells": [
  {
   "cell_type": "markdown",
   "metadata": {
    "deletable": true,
    "editable": true
   },
   "source": [
    "## Plot Tag Id by read depth\n",
    "\n",
    "Lorenz suggested that I plot tag against read depth to see if read depth has something to do with how tags are assigned. \n",
    "\n",
    "It looks like the individual ``.matches.tsv`` files have locus names based on the catalog (in common across individuals) and the number of reads contained in the locus. So I need to sum these across individuals."
   ]
  },
  {
   "cell_type": "code",
   "execution_count": 5,
   "metadata": {
    "collapsed": false,
    "deletable": true,
    "editable": true
   },
   "outputs": [
    {
     "name": "stdout",
     "output_type": "stream",
     "text": [
      "/mnt/hgfs/SHARED_FOLDER/WorkingFolder/Stacks_2\n"
     ]
    }
   ],
   "source": [
    "cd /mnt/hgfs/SHARED_FOLDER/WorkingFolder/Stacks_2"
   ]
  },
  {
   "cell_type": "code",
   "execution_count": 15,
   "metadata": {
    "collapsed": false,
    "deletable": true,
    "editable": true
   },
   "outputs": [],
   "source": [
    "!printf \"%s\\n\" *.matches.tsv > list_matches_filenames.txt"
   ]
  },
  {
   "cell_type": "code",
   "execution_count": 17,
   "metadata": {
    "collapsed": false,
    "deletable": true,
    "editable": true
   },
   "outputs": [
    {
     "name": "stdout",
     "output_type": "stream",
     "text": [
      "FG001.matches.tsv\r\n",
      "FG002.matches.tsv\r\n",
      "FG003.matches.tsv\r\n",
      "FG004.matches.tsv\r\n",
      "FG005.matches.tsv\r\n",
      "FG006.matches.tsv\r\n",
      "FG007.matches.tsv\r\n",
      "FG009.matches.tsv\r\n",
      "FG010.matches.tsv\r\n",
      "FG011.matches.tsv\r\n"
     ]
    }
   ],
   "source": [
    "!head list_matches_filenames.txt"
   ]
  },
  {
   "cell_type": "code",
   "execution_count": 23,
   "metadata": {
    "collapsed": false,
    "deletable": true,
    "editable": true
   },
   "outputs": [
    {
     "name": "stdout",
     "output_type": "stream",
     "text": [
      "['FG001.matches.tsv', 'FG002.matches.tsv', 'FG003.matches.tsv', 'FG004.matches.tsv', 'FG005.matches.tsv', 'FG006.matches.tsv', 'FG007.matches.tsv', 'FG009.matches.tsv', 'FG010.matches.tsv']\n"
     ]
    }
   ],
   "source": [
    "file_of_filenames = open(\"list_matches_filenames.txt\",\"r\")\n",
    "lines = file_of_filenames.readlines()\n",
    "filename_list = []\n",
    "for line in lines:\n",
    "    filename = line.strip()\n",
    "    filename_list.append(filename)\n",
    "\n",
    "print filename_list[0:9]"
   ]
  },
  {
   "cell_type": "code",
   "execution_count": 24,
   "metadata": {
    "collapsed": true,
    "deletable": true,
    "editable": true
   },
   "outputs": [],
   "source": [
    "# initiate dictionary\n",
    "rd_dict = {}"
   ]
  },
  {
   "cell_type": "code",
   "execution_count": 31,
   "metadata": {
    "collapsed": false,
    "deletable": true,
    "editable": true
   },
   "outputs": [],
   "source": [
    "for file in filename_list:\n",
    "    indfile = open(file,\"r\")\n",
    "    lines = indfile.readlines()[1:]\n",
    "    for line in lines:\n",
    "        linelist = line.strip().split()\n",
    "        locus = int(linelist[2])\n",
    "        count = int(linelist[6])\n",
    "        if locus not in rd_dict:\n",
    "            rd_dict[locus] = int(count)\n",
    "        elif locus in rd_dict:\n",
    "            oldcount = rd_dict[locus]\n",
    "            newcount = oldcount + count\n",
    "            rd_dict[locus] = newcount\n",
    "        else:\n",
    "            print \"Something funky is going on.\"\n",
    "    indfile.close()"
   ]
  },
  {
   "cell_type": "code",
   "execution_count": 33,
   "metadata": {
    "collapsed": false,
    "deletable": true,
    "editable": true
   },
   "outputs": [],
   "source": [
    "locus_list = rd_dict.keys()\n",
    "locus_list.sort()\n",
    "locus_list[0:9]"
   ]
  },
  {
   "cell_type": "code",
   "execution_count": 38,
   "metadata": {
    "collapsed": false,
    "deletable": true,
    "editable": true
   },
   "outputs": [
    {
     "name": "stdout",
     "output_type": "stream",
     "text": [
      "[2880, 3489, 2335, 1837, 13380, 13497, 6914, 3665, 1560]\n"
     ]
    }
   ],
   "source": [
    "count_list = []\n",
    "for locus in locus_list:\n",
    "    count = rd_dict[locus]\n",
    "    count_list.append(count)\n",
    "print count_list[0:9]"
   ]
  },
  {
   "cell_type": "code",
   "execution_count": 42,
   "metadata": {
    "collapsed": false,
    "deletable": true,
    "editable": true
   },
   "outputs": [
    {
     "data": {
      "text/plain": [
       "1560"
      ]
     },
     "execution_count": 42,
     "metadata": {},
     "output_type": "execute_result"
    }
   ],
   "source": [
    "# double check\n",
    "rd_dict[1]\n",
    "rd_dict[2]\n",
    "rd_dict[9]"
   ]
  },
  {
   "cell_type": "code",
   "execution_count": 43,
   "metadata": {
    "collapsed": true,
    "deletable": true,
    "editable": true
   },
   "outputs": [],
   "source": [
    "import matplotlib.pyplot as plt"
   ]
  },
  {
   "cell_type": "code",
   "execution_count": 46,
   "metadata": {
    "collapsed": false,
    "deletable": true,
    "editable": true
   },
   "outputs": [
    {
     "data": {
      "image/png": "[encoded data removed]",
      "text/plain": [
       "<matplotlib.figure.Figure at 0x7f2d98c91410>"
      ]
     },
     "metadata": {},
     "output_type": "display_data"
    }
   ],
   "source": [
    "plt.scatter(locus_list, count_list)\n",
    "plt.xlabel(\"Tag ID\")\n",
    "plt.ylabel(\"Read depth of tag across individuals\")\n",
    "plt.show()"
   ]
  },
  {
   "cell_type": "markdown",
   "metadata": {
    "deletable": true,
    "editable": true
   },
   "source": [
    "Looks like no relationship to me!"
   ]
  },
  {
   "cell_type": "markdown",
   "metadata": {},
   "source": [
    "## Further explore read depth\n",
    "\n",
    "Something is behaving funky here, don't trust the plots below yet!"
   ]
  },
  {
   "cell_type": "code",
   "execution_count": 47,
   "metadata": {
    "collapsed": false
   },
   "outputs": [
    {
     "data": {
      "image/png": "[encoded data removed]",
      "text/plain": [
       "<matplotlib.figure.Figure at 0x7f2d98c326d0>"
      ]
     },
     "metadata": {},
     "output_type": "display_data"
    }
   ],
   "source": [
    "plt.boxplot(count_list)\n",
    "plt.ylabel(\"Locus read depths\")\n",
    "plt.show()"
   ]
  },
  {
   "cell_type": "code",
   "execution_count": 48,
   "metadata": {
    "collapsed": true
   },
   "outputs": [],
   "source": [
    "# get individual count list for boxplot\n",
    "ind_count_list = []\n",
    "\n",
    "for file in filename_list:\n",
    "    indfile = open(file,\"r\")\n",
    "    lines = indfile.readlines()[1:]\n",
    "    for line in lines:\n",
    "        linelist = line.strip().split()\n",
    "        count = int(linelist[6])\n",
    "        ind_count_list.append(count)\n",
    "    indfile.close()"
   ]
  },
  {
   "cell_type": "code",
   "execution_count": 57,
   "metadata": {
    "collapsed": false
   },
   "outputs": [
    {
     "name": "stdout",
     "output_type": "stream",
     "text": [
      "[213, 249, 61, 3, 7, 278, 327, 28, 111, 205, 244, 188, 57, 63, 65, 1, 121, 124, 253, 134, 100, 121, 129, 135, 83, 93, 104, 71, 72, 124, 138, 116, 121, 87, 234, 117, 53, 135, 327, 115, 63, 125, 93, 141, 115, 97, 187, 99, 79, 198, 71, 101, 114, 49, 65, 66, 1, 72, 25, 68, 117, 162, 41, 105, 155, 112, 1, 39, 137, 155, 99, 110, 2, 223, 143, 235, 46, 35, 83, 103, 1, 213, 128, 95, 83, 30, 76, 129, 106, 100, 87, 215, 85, 113, 93, 97, 114, 141, 138]\n"
     ]
    }
   ],
   "source": [
    "print ind_count_list"
   ]
  },
  {
   "cell_type": "code",
   "execution_count": 62,
   "metadata": {
    "collapsed": false
   },
   "outputs": [
    {
     "name": "stdout",
     "output_type": "stream",
     "text": [
      "99.68% of individual locus read depths were less than 1000\n"
     ]
    }
   ],
   "source": [
    "less_1000 = []\n",
    "for count in ind_count_list:\n",
    "    if count < 1000:\n",
    "        less_1000.append(count)\n",
    "\n",
    "print str(float(len(less_1000))/float(len(ind_count_list))*100)[0:5] + \"% of individual locus read depths were less than 1000\""
   ]
  },
  {
   "cell_type": "code",
   "execution_count": 63,
   "metadata": {
    "collapsed": false
   },
   "outputs": [
    {
     "data": {
      "image/png": "[encoded data removed]",
      "text/plain": [
       "<matplotlib.figure.Figure at 0x7f2d991df210>"
      ]
     },
     "metadata": {},
     "output_type": "display_data"
    }
   ],
   "source": [
    "plt.close()\n",
    "plt.boxplot(ind_count_list)\n",
    "plt.ylabel(\"Locus read depths\")\n",
    "plt.show()"
   ]
  },
  {
   "cell_type": "markdown",
   "metadata": {},
   "source": [
    "That can't be right... why does the y axis go so high?"
   ]
  },
  {
   "cell_type": "code",
   "execution_count": 66,
   "metadata": {
    "collapsed": false
   },
   "outputs": [
    {
     "data": {
      "image/png": "[encoded data removed]",
      "text/plain": [
       "<matplotlib.figure.Figure at 0x7f2d98e92290>"
      ]
     },
     "metadata": {},
     "output_type": "display_data"
    }
   ],
   "source": [
    "import numpy as np\n",
    "\n",
    "plt.hist(less_1000, bins = np.arange(0,1000,10)-5)\n",
    "plt.xlabel(\"Read depth bin\")\n",
    "plt.ylabel(\"Frequency\")\n",
    "plt.suptitle(\"Distribution of read depth of\\nindividual tags\")\n",
    "plt.show()"
   ]
  },
  {
   "cell_type": "markdown",
   "metadata": {},
   "source": [
    "It occurred to me that it could be intereting to check whether the tags with the least read depth are also the funky ones. I could build simple loops to make lists of Catalog IDs with low, medium, and high read depth, and see if that's correlated to \n",
    "\n",
    "I'd measure \"funk\" by "
   ]
  }
 ],
 "metadata": {
  "kernelspec": {
   "display_name": "Python 2",
   "language": "python",
   "name": "python2"
  },
  "language_info": {
   "codemirror_mode": {
    "name": "ipython",
    "version": 2
   },
   "file_extension": ".py",
   "mimetype": "text/x-python",
   "name": "python",
   "nbconvert_exporter": "python",
   "pygments_lexer": "ipython2",
   "version": "2.7.12"
  }
 },
 "nbformat": 4,
 "nbformat_minor": 2
}
