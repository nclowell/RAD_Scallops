{
 "cells": [
  {
   "cell_type": "markdown",
   "metadata": {},
   "source": [
    "Lorenz suggested that I plot tag against read depth to see if read depth has something to do with how tags are assigned. \n",
    "\n",
    "It looks like the individual ``.matches.tsv`` files have locus names based on the catalog (in common across individuals) and the number of reads contained in the locus. So I need to sum these across individuals."
   ]
  },
  {
   "cell_type": "code",
   "execution_count": 5,
   "metadata": {
    "collapsed": false
   },
   "outputs": [
    {
     "name": "stdout",
     "output_type": "stream",
     "text": [
      "/mnt/hgfs/SHARED_FOLDER/WorkingFolder/Stacks_2\n"
     ]
    }
   ],
   "source": [
    "cd /mnt/hgfs/SHARED_FOLDER/WorkingFolder/Stacks_2"
   ]
  },
  {
   "cell_type": "code",
   "execution_count": 15,
   "metadata": {
    "collapsed": false
   },
   "outputs": [],
   "source": [
    "!printf \"%s\\n\" *.matches.tsv > list_matches_filenames.txt"
   ]
  },
  {
   "cell_type": "code",
   "execution_count": 17,
   "metadata": {
    "collapsed": false
   },
   "outputs": [
    {
     "name": "stdout",
     "output_type": "stream",
     "text": [
      "FG001.matches.tsv\r\n",
      "FG002.matches.tsv\r\n",
      "FG003.matches.tsv\r\n",
      "FG004.matches.tsv\r\n",
      "FG005.matches.tsv\r\n",
      "FG006.matches.tsv\r\n",
      "FG007.matches.tsv\r\n",
      "FG009.matches.tsv\r\n",
      "FG010.matches.tsv\r\n",
      "FG011.matches.tsv\r\n"
     ]
    }
   ],
   "source": [
    "!head list_matches_filenames.txt"
   ]
  },
  {
   "cell_type": "code",
   "execution_count": 23,
   "metadata": {
    "collapsed": false
   },
   "outputs": [
    {
     "name": "stdout",
     "output_type": "stream",
     "text": [
      "['FG001.matches.tsv', 'FG002.matches.tsv', 'FG003.matches.tsv', 'FG004.matches.tsv', 'FG005.matches.tsv', 'FG006.matches.tsv', 'FG007.matches.tsv', 'FG009.matches.tsv', 'FG010.matches.tsv']\n"
     ]
    }
   ],
   "source": [
    "file_of_filenames = open(\"list_matches_filenames.txt\",\"r\")\n",
    "lines = file_of_filenames.readlines()\n",
    "filename_list = []\n",
    "for line in lines:\n",
    "    filename = line.strip()\n",
    "    filename_list.append(filename)\n",
    "\n",
    "print filename_list[0:9]"
   ]
  },
  {
   "cell_type": "code",
   "execution_count": 24,
   "metadata": {
    "collapsed": true
   },
   "outputs": [],
   "source": [
    "# initiate dictionary\n",
    "rd_dict = {}"
   ]
  },
  {
   "cell_type": "code",
   "execution_count": 31,
   "metadata": {
    "collapsed": false
   },
   "outputs": [],
   "source": [
    "for file in filename_list:\n",
    "    indfile = open(file,\"r\")\n",
    "    lines = indfile.readlines()[1:]\n",
    "    for line in lines:\n",
    "        linelist = line.strip().split()\n",
    "        locus = int(linelist[2])\n",
    "        count = int(linelist[6])\n",
    "        if locus not in rd_dict:\n",
    "            rd_dict[locus] = int(count)\n",
    "        elif locus in rd_dict:\n",
    "            oldcount = rd_dict[locus]\n",
    "            newcount = oldcount + count\n",
    "            rd_dict[locus] = newcount\n",
    "        else:\n",
    "            print \"Something funky is going on.\"\n",
    "    indfile.close()"
   ]
  },
  {
   "cell_type": "code",
   "execution_count": 33,
   "metadata": {
    "collapsed": false
   },
   "outputs": [],
   "source": [
    "locus_list = rd_dict.keys()\n",
    "locus_list.sort()\n",
    "locus_list[0:9]"
   ]
  },
  {
   "cell_type": "code",
   "execution_count": 38,
   "metadata": {
    "collapsed": false
   },
   "outputs": [
    {
     "name": "stdout",
     "output_type": "stream",
     "text": [
      "[2880, 3489, 2335, 1837, 13380, 13497, 6914, 3665, 1560]\n"
     ]
    }
   ],
   "source": [
    "count_list = []\n",
    "for locus in locus_list:\n",
    "    count = rd_dict[locus]\n",
    "    count_list.append(count)\n",
    "print count_list[0:9]"
   ]
  },
  {
   "cell_type": "code",
   "execution_count": 42,
   "metadata": {
    "collapsed": false
   },
   "outputs": [
    {
     "data": {
      "text/plain": [
       "1560"
      ]
     },
     "execution_count": 42,
     "metadata": {},
     "output_type": "execute_result"
    }
   ],
   "source": [
    "# double check\n",
    "rd_dict[1]\n",
    "rd_dict[2]\n",
    "rd_dict[9]"
   ]
  },
  {
   "cell_type": "code",
   "execution_count": 43,
   "metadata": {
    "collapsed": true
   },
   "outputs": [],
   "source": [
    "import matplotlib.pyplot as plt"
   ]
  },
  {
   "cell_type": "code",
   "execution_count": 46,
   "metadata": {
    "collapsed": false
   },
   "outputs": [
    {
     "data": {
      "image/png": "[encoded data removed]",
      "text/plain": [
       "<matplotlib.figure.Figure at 0x7f2d98c91410>"
      ]
     },
     "metadata": {},
     "output_type": "display_data"
    }
   ],
   "source": [
    "plt.scatter(locus_list, count_list)\n",
    "plt.xlabel(\"Tag ID\")\n",
    "plt.ylabel(\"Read depth of tag across individuals\")\n",
    "plt.show()"
   ]
  },
  {
   "cell_type": "markdown",
   "metadata": {},
   "source": [
    "Looks like no relationship to me!"
   ]
  },
  {
   "cell_type": "code",
   "execution_count": null,
   "metadata": {
    "collapsed": true
   },
   "outputs": [],
   "source": []
  }
 ],
 "metadata": {
  "kernelspec": {
   "display_name": "Python 2",
   "language": "python",
   "name": "python2"
  },
  "language_info": {
   "codemirror_mode": {
    "name": "ipython",
    "version": 2
   },
   "file_extension": ".py",
   "mimetype": "text/x-python",
   "name": "python",
   "nbconvert_exporter": "python",
   "pygments_lexer": "ipython2",
   "version": "2.7.12"
  }
 },
 "nbformat": 4,
 "nbformat_minor": 2
}
