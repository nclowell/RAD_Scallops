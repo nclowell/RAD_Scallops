{
 "cells": [
  {
   "cell_type": "markdown",
   "metadata": {},
   "source": [
    "## Checking SNP and haplotype genotyping error mismatch\n",
    "\n",
    "I'm going a little crazy trying to understand how there could be such a discrepancy in genotyping error between the SNP and haplotype Genepop files, so I thought it was worth meticulously double-checking to make sure the error isn't me. It's usually me.\n",
    "\n",
    "First, I'll take a look at the SNP Genepop file. It looks like this:\n",
    "\n",
    "![image](https://github.com/nclowell/RAD_Scallops/blob/master/CRAGIG_run1/Notebooks/images_for_notebooks/snp_gp.png?raw=true)"
   ]
  },
  {
   "cell_type": "code",
   "execution_count": 59,
   "metadata": {
    "collapsed": false
   },
   "outputs": [
    {
     "name": "stdout",
     "output_type": "stream",
     "text": [
      "/mnt/hgfs/SHARED_FOLDER/WorkingFolder/Stacks_2\n"
     ]
    }
   ],
   "source": [
    "cd /mnt/hgfs/SHARED_FOLDER/WorkingFolder/Stacks_2"
   ]
  },
  {
   "cell_type": "markdown",
   "metadata": {},
   "source": [
    "I copied and pasted just the rows for the individuals with replicates, into this file 'cragigrun1_sampreps_snps_gen.txt', and it looks like this:\n",
    "\n",
    "![image](https://github.com/nclowell/RAD_Scallops/blob/master/CRAGIG_run1/Notebooks/images_for_notebooks/pic_samps_for_snp_gen_error.png?raw=true)\n",
    "\n",
    "with the rows extracted for samples with replicates, and also with the locus names at the bottom.\n",
    "\n",
    "**HOWEVER** To double-check, I'm going to use a test file, which has only the first 11 SNPs, and looks like this:\n",
    "![image](https://github.com/nclowell/RAD_Scallops/blob/master/CRAGIG_run1/Notebooks/images_for_notebooks/test_snps_reps.png?raw=true)\n",
    "I'm using a test file so that I can introduce a known amount of error, and see how well it does.\n",
    "\n",
    "I introduced the following errors:\n",
    "* FG101: 1 total mismatch, 1 partial mismatch\n",
    "* FG102: 2 total mismatches\n",
    "* FG103: no mismatches\n",
    "* FG104: 1 total mismatch, 2 partial mismatches"
   ]
  },
  {
   "cell_type": "code",
   "execution_count": 60,
   "metadata": {
    "collapsed": false
   },
   "outputs": [
    {
     "name": "stdout",
     "output_type": "stream",
     "text": [
      "['FG101_A,', '0000', '0000', '0000', '0303', '0101', '0202', '0202', '0101']\n"
     ]
    }
   ],
   "source": [
    "input = open(\"test_replicates.txt\") # read in file\n",
    "lines = input.readlines()\n",
    "biglist = []\n",
    "for line in lines:\n",
    "    linelist = line.strip().split()\n",
    "    biglist.append(linelist) # prepare a list to make an array\n",
    "\n",
    "# check list of lists is what you expect\n",
    "print biglist[0][0:9]"
   ]
  },
  {
   "cell_type": "code",
   "execution_count": 75,
   "metadata": {
    "collapsed": false
   },
   "outputs": [
    {
     "name": "stdout",
     "output_type": "stream",
     "text": [
      "['5_75', '5_84', '5_137', '6_16', '6_23', '6_24', '6_40', '6_74', '6_97', '6_112', '6_126']\n"
     ]
    }
   ],
   "source": [
    "headerline = lines[8]\n",
    "snp_list = headerline.strip().split(\",\")\n",
    "\n",
    "print snp_list[0:11]"
   ]
  },
  {
   "cell_type": "code",
   "execution_count": 62,
   "metadata": {
    "collapsed": false
   },
   "outputs": [
    {
     "name": "stdout",
     "output_type": "stream",
     "text": [
      "You have 11 SNPs.\n"
     ]
    }
   ],
   "source": [
    "num_snps = len(snp_list) # iterate over number of tags\n",
    "print \"You have \" + str(num_snps) + \" SNPs.\""
   ]
  },
  {
   "cell_type": "code",
   "execution_count": 63,
   "metadata": {
    "collapsed": true
   },
   "outputs": [],
   "source": [
    "import numpy as np\n",
    "myarray = np.array(biglist) # turn the file into an array"
   ]
  },
  {
   "cell_type": "markdown",
   "metadata": {},
   "source": [
    "Assign rows of replicates to make small arrays w two rows each, for each replicated individual."
   ]
  },
  {
   "cell_type": "code",
   "execution_count": 64,
   "metadata": {
    "collapsed": true
   },
   "outputs": [],
   "source": [
    "FG101 = np.array(biglist[0:2])\n",
    "FG102 = np.array(biglist[2:4])\n",
    "FG103 = np.array(biglist[4:6])\n",
    "FG104 = np.array(biglist[6:8])"
   ]
  },
  {
   "cell_type": "markdown",
   "metadata": {},
   "source": [
    "Double-check row assignments..."
   ]
  },
  {
   "cell_type": "code",
   "execution_count": 65,
   "metadata": {
    "collapsed": false
   },
   "outputs": [
    {
     "data": {
      "text/plain": [
       "array([['FG101_A,', '0000', '0000', '0000', '0303', '0101', '0202'],\n",
       "       ['FG101_B,', '0000', '0000', '0000', '0303', '0101', '0202']], \n",
       "      dtype='|S8')"
      ]
     },
     "execution_count": 65,
     "metadata": {},
     "output_type": "execute_result"
    }
   ],
   "source": [
    "FG101[0:2,0:7]\n"
   ]
  },
  {
   "cell_type": "code",
   "execution_count": 66,
   "metadata": {
    "collapsed": true
   },
   "outputs": [],
   "source": [
    "# put arrays in list\n",
    "list_of_arrays = []\n",
    "list_of_arrays.append(FG101)\n",
    "list_of_arrays.append(FG102)\n",
    "list_of_arrays.append(FG103)\n",
    "list_of_arrays.append(FG104)"
   ]
  },
  {
   "cell_type": "code",
   "execution_count": 67,
   "metadata": {
    "collapsed": true
   },
   "outputs": [],
   "source": [
    "# initiate counts and lists to track genotyping error\n",
    "match_genotypes_count = 0\n",
    "match_genotypes_tags = []\n",
    "partmismatch_genotypes_count = 0\n",
    "partmismatch_genotypes_tags = []\n",
    "totalmismatch_genotypes_count = 0\n",
    "totalmismatch_genotypes_tags = []\n",
    "nodata_mismatch_count = 0\n",
    "nodata_mismatch_tags = []"
   ]
  },
  {
   "cell_type": "code",
   "execution_count": 72,
   "metadata": {
    "collapsed": false
   },
   "outputs": [
    {
     "name": "stdout",
     "output_type": "stream",
     "text": [
      "A_list of alleles: ['00', '00']\n",
      "B_list of alleles: ['00', '00']\n",
      "A_list of alleles: ['00', '00']\n",
      "B_list of alleles: ['00', '00']\n",
      "A_list of alleles: ['00', '00']\n",
      "B_list of alleles: ['00', '00']\n",
      "A_list of alleles: ['03', '03']\n",
      "B_list of alleles: ['03', '03']\n",
      "A_list of alleles: ['01', '01']\n",
      "B_list of alleles: ['01', '01']\n",
      "A_list of alleles: ['02', '02']\n",
      "B_list of alleles: ['02', '02']\n",
      "A_list of alleles: ['02', '02']\n",
      "B_list of alleles: ['02', '02']\n",
      "A_list of alleles: ['01', '01']\n",
      "B_list of alleles: ['01', '01']\n",
      "A_list of alleles: ['01', '01']\n",
      "B_list of alleles: ['01', '01']\n",
      "A_list of alleles: ['02', '02']\n",
      "B_list of alleles: ['01', '03']\n",
      "A_list of alleles: ['01', '02']\n",
      "B_list of alleles: ['02', '02']\n"
     ]
    },
    {
     "ename": "IndexError",
     "evalue": "list index out of range",
     "output_type": "error",
     "traceback": [
      "\u001b[0;31m---------------------------------------------------------------------------\u001b[0m",
      "\u001b[0;31mIndexError\u001b[0m                                Traceback (most recent call last)",
      "\u001b[0;32m<ipython-input-72-18f4f7e1c82a>\u001b[0m in \u001b[0;36m<module>\u001b[0;34m()\u001b[0m\n\u001b[1;32m     47\u001b[0m         \u001b[0;32melif\u001b[0m \u001b[0mA_1\u001b[0m \u001b[0;32min\u001b[0m \u001b[0mB_list\u001b[0m \u001b[0;32mor\u001b[0m \u001b[0mA_2\u001b[0m \u001b[0;32min\u001b[0m \u001b[0mB_list\u001b[0m\u001b[0;34m:\u001b[0m \u001b[0;31m# if one allele is a match\u001b[0m\u001b[0;34m\u001b[0m\u001b[0m\n\u001b[1;32m     48\u001b[0m             \u001b[0mpartmismatch_genotypes_count\u001b[0m \u001b[0;34m+=\u001b[0m \u001b[0;36m1\u001b[0m\u001b[0;34m\u001b[0m\u001b[0m\n\u001b[0;32m---> 49\u001b[0;31m             \u001b[0mpartmismatch_genotypes_tags\u001b[0m\u001b[0;34m.\u001b[0m\u001b[0mappend\u001b[0m\u001b[0;34m(\u001b[0m\u001b[0msnp_list\u001b[0m\u001b[0;34m[\u001b[0m\u001b[0mi\u001b[0m\u001b[0;34m]\u001b[0m\u001b[0;34m)\u001b[0m\u001b[0;34m\u001b[0m\u001b[0m\n\u001b[0m\u001b[1;32m     50\u001b[0m             \u001b[0msam_partmismatch_genotypes_count\u001b[0m \u001b[0;34m+=\u001b[0m \u001b[0;36m1\u001b[0m\u001b[0;34m\u001b[0m\u001b[0m\n\u001b[1;32m     51\u001b[0m             \u001b[0msam_partmismatch_genotypes_tags\u001b[0m\u001b[0;34m.\u001b[0m\u001b[0mappend\u001b[0m\u001b[0;34m(\u001b[0m\u001b[0msnp_list\u001b[0m\u001b[0;34m[\u001b[0m\u001b[0mi\u001b[0m\u001b[0;34m]\u001b[0m\u001b[0;34m)\u001b[0m\u001b[0;34m\u001b[0m\u001b[0m\n",
      "\u001b[0;31mIndexError\u001b[0m: list index out of range"
     ]
    }
   ],
   "source": [
    "# sort genotype match/mismatch by sample\n",
    "bysam_match_tags = []\n",
    "bysam_partmismatch_tags = []\n",
    "bysam_totalmismatch_tags = []\n",
    "bysam_missing_tags = []\n",
    "\n",
    "timescount = 1\n",
    "for array in list_of_arrays:\n",
    "    sam_match_genotypes_count = 0\n",
    "    sam_match_genotypes_tags = []\n",
    "    sam_partmismatch_genotypes_count = 0\n",
    "    sam_partmismatch_genotypes_tags = []\n",
    "    sam_totalmismatch_genotypes_count = 0\n",
    "    sam_totalmismatch_genotypes_tags = []\n",
    "    sam_nodata_mismatch_count = 0\n",
    "    sam_nodata_mismatch_tags = []\n",
    "    for i in range(1,num_snps+1):\n",
    "        print \"i = \" + str(i)\n",
    "        A_gen = array[0][i] # get genotypes\n",
    "        B_gen = array[1][i]\n",
    "        A_1 = A_gen[0:2] # pull out alleles\n",
    "        A_2 = A_gen[2:4]\n",
    "        B_1 = B_gen[0:2]\n",
    "        B_2 = B_gen[2:4]\n",
    "        A_list = [] # store alleles in lists\n",
    "        A_list.append(A_1)\n",
    "        A_list.append(A_2)\n",
    "        print \"A_list of alleles: \" + str(A_list)\n",
    "        B_list = []\n",
    "        B_list.append(B_1)\n",
    "        B_list.append(B_2)\n",
    "        print \"B_list of alleles: \" + str(B_list)\n",
    "        first_test_string = B_1 + B_2\n",
    "        second_test_string = B_2 + B_1\n",
    "        match_options = []\n",
    "        match_options.append(first_test_string)\n",
    "        match_options.append(second_test_string)\n",
    "        if (A_gen == \"0000\" or B_gen == \"0000\") or (A_gen == \"0000\" and B_gen == \"0000\"):\n",
    "            nodata_mismatch_count += 1\n",
    "            nodata_mismatch_tags.append(snp_list[i])\n",
    "            sam_nodata_mismatch_count +=1\n",
    "            sam_nodata_mismatch_tags.append(snp_list[i])\n",
    "        elif A_gen in match_options: # if perfect match\n",
    "            match_genotypes_count += 1\n",
    "            match_genotypes_tags.append(snp_list[i])\n",
    "            sam_match_genotypes_count += 1\n",
    "            sam_match_genotypes_tags.append(snp_list[i])\n",
    "        elif A_1 in B_list or A_2 in B_list: # if one allele is a match\n",
    "            partmismatch_genotypes_count += 1\n",
    "            partmismatch_genotypes_tags.append(snp_list[i])\n",
    "            sam_partmismatch_genotypes_count += 1\n",
    "            sam_partmismatch_genotypes_tags.append(snp_list[i])\n",
    "        elif A_1 not in B_list or A_2 not in B_list: # if not a match at all\n",
    "            totalmismatch_genotypes_count += 1\n",
    "            totalmismatch_genotypes_tags.append(snp_list[i])\n",
    "            sam_totalmismatch_genotypes_count += 1\n",
    "            sam_totalmismatch_genotypes_tags.append(snp_list[i])\n",
    "        else:\n",
    "            print \"Your loop may not be fully working.\" \n",
    "            print \"You thought there were three possible options, but there were more than three. Check!\"\n",
    "        \n",
    "    bysam_missing_tags.append(sam_nodata_mismatch_tags)\n",
    "    bysam_match_tags.append(sam_match_genotypes_tags)\n",
    "    bysam_partmismatch_tags.append(sam_partmismatch_genotypes_tags)\n",
    "    bysam_totalmismatch_tags.append(sam_totalmismatch_genotypes_tags)\n",
    "\n",
    "    print \"\\nSample number \" + str(timescount) + \" :\"\n",
    "    print \"Genotypes with perfect match: \" + str(sam_match_genotypes_count) + \" : \"\n",
    "    print \"Genotypes with partial match: \" + str(sam_partmismatch_genotypes_count) + \" : \"\n",
    "    print \"Genotypes with total mismatch: \" + str(sam_totalmismatch_genotypes_count) + \" : \"\n",
    "    print \"Genotypes with mismatch due to missing data: \" + str(sam_nodata_mismatch_count) + \" : \"\n",
    "        \n",
    "    timescount +=1"
   ]
  },
  {
   "cell_type": "code",
   "execution_count": 69,
   "metadata": {
    "collapsed": false
   },
   "outputs": [
    {
     "name": "stdout",
     "output_type": "stream",
     "text": [
      "Total genotypes excluding those with missing data : 37\n",
      "\n",
      "Total genotypes with perfect match: 31 : 83.78%\n",
      "Total genotypes with partial match: 2 : 5.405%\n",
      "Total genotypes with total mismatch: 4 : 10.81%\n",
      "\n",
      "Total genotypes with mismatch due to missing data: 3\n"
     ]
    }
   ],
   "source": [
    "from __future__ import division\n",
    "\n",
    "total_excl_mv = match_genotypes_count + partmismatch_genotypes_count + totalmismatch_genotypes_count\n",
    "print \"Total genotypes excluding those with missing data : \" + str(total_excl_mv)\n",
    "print \"\\nTotal genotypes with perfect match: \" + str(match_genotypes_count) + \" : \" + str((float(match_genotypes_count)/float(total_excl_mv)*100))[0:5] + \"%\"\n",
    "print \"Total genotypes with partial match: \" + str(partmismatch_genotypes_count) + \" : \" + str((float(partmismatch_genotypes_count)/float(total_excl_mv)*100))[0:5] + \"%\"\n",
    "print \"Total genotypes with total mismatch: \" + str(totalmismatch_genotypes_count) + \" : \" + str((float(totalmismatch_genotypes_count)/float(total_excl_mv)*100))[0:5] + \"%\"\n",
    "print \"\\nTotal genotypes with mismatch due to missing data: \" + str(nodata_mismatch_count)"
   ]
  },
  {
   "cell_type": "markdown",
   "metadata": {},
   "source": [
    "**So, does this match what is known?**\n",
    "\n",
    "Again, what is known about the test file:\n",
    "* FG101: 1 total mismatch, 1 partial mismatch\n",
    "* FG102: 2 total mismatches\n",
    "* FG103: no mismatches\n",
    "* FG104: 1 total mismatch, 2 partial mismatches\n",
    "\n",
    "CRAP. It's not perfectly the same! It caught everything correctly except for the one partial mismatch in FG101. Now to try and sort out why that is... Second problem: the genotypes don't add to 11 like they're supposed to! Ah this could be a great relief is this is the root of the problem."
   ]
  },
  {
   "cell_type": "code",
   "execution_count": null,
   "metadata": {
    "collapsed": true
   },
   "outputs": [],
   "source": []
  }
 ],
 "metadata": {
  "kernelspec": {
   "display_name": "Python 2",
   "language": "python",
   "name": "python2"
  },
  "language_info": {
   "codemirror_mode": {
    "name": "ipython",
    "version": 2
   },
   "file_extension": ".py",
   "mimetype": "text/x-python",
   "name": "python",
   "nbconvert_exporter": "python",
   "pygments_lexer": "ipython2",
   "version": "2.7.12"
  }
 },
 "nbformat": 4,
 "nbformat_minor": 2
}
