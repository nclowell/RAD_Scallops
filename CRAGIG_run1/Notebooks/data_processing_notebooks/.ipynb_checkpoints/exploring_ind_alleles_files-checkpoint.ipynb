{
 "cells": [
  {
   "cell_type": "markdown",
   "metadata": {},
   "source": [
    "## Getting a grip on minor allele frequenecs for multiallelic data\n",
    "\n",
    "I want to better understand the distribution of frequencies of minor alleles.\n",
    "\n",
    "Specific things to explore:\n",
    "- average number of reads per locus in individual\n",
    "- for loci with two or more alleles in an individual, frequency of minor alleles"
   ]
  },
  {
   "cell_type": "code",
   "execution_count": 5,
   "metadata": {
    "collapsed": false
   },
   "outputs": [
    {
     "name": "stdout",
     "output_type": "stream",
     "text": [
      "/mnt/hgfs/SHARED_FOLDER/WorkingFolder/Stacks_2\n"
     ]
    }
   ],
   "source": [
    "cd /mnt/hgfs/SHARED_FOLDER/WorkingFolder/Stacks_2"
   ]
  },
  {
   "cell_type": "code",
   "execution_count": 8,
   "metadata": {
    "collapsed": true
   },
   "outputs": [],
   "source": [
    "ind_all = open(\"test_ind_alleles.tsv\", \"r\")\n",
    "lines = ind_all.readlines()[1:] # get rid of header\n",
    "\n",
    "biglist_for_array = []\n",
    "for line in lines:\n",
    "    linelist = line.strip().split()[2:] # exclude first two columns, not useful info\n",
    "    biglist_for_array.append(linelist) # make list of lists for array"
   ]
  },
  {
   "cell_type": "code",
   "execution_count": 9,
   "metadata": {
    "collapsed": true
   },
   "outputs": [],
   "source": [
    "import numpy as np"
   ]
  },
  {
   "cell_type": "code",
   "execution_count": 11,
   "metadata": {
    "collapsed": false
   },
   "outputs": [
    {
     "name": "stdout",
     "output_type": "stream",
     "text": [
      "[['7' 'GG' '55.56' '20']\n",
      " ['7' 'GT' '19.44' '7']\n",
      " ['7' 'TG' '19.44' '7']\n",
      " ['7' 'TT' '5.56' '2']\n",
      " ['11' 'C' '46.95' '77']\n",
      " ['11' 'T' '53.05' '87']\n",
      " ['17' 'AT' '31.94' '23']\n",
      " ['17' 'TG' '68.06' '49']\n",
      " ['19' 'A' '35.34' '41']]\n"
     ]
    }
   ],
   "source": [
    "r = np.array(biglist_for_array) # convert to array\n",
    "print r[0:9,0:9] # check"
   ]
  },
  {
   "cell_type": "markdown",
   "metadata": {},
   "source": [
    "## Find out how many alleles possible per genotype in this individual"
   ]
  },
  {
   "cell_type": "code",
   "execution_count": 18,
   "metadata": {
    "collapsed": false
   },
   "outputs": [
    {
     "name": "stdout",
     "output_type": "stream",
     "text": [
      "['7', '11', '17', '19', '22', '26', '28', '40', '43', '44', '55', '65', '68', '69', '71']\n"
     ]
    }
   ],
   "source": [
    "all_locus_names = [] # get locus names, incl redundant\n",
    "for row in r:\n",
    "    locus_name = row[0]\n",
    "    locus_names.append(locus_name)\n",
    "    \n",
    "unique_locus_names = [] # just unique locus names in order\n",
    "for name in locus_names:\n",
    "    if name not in unique_locus_names:\n",
    "        unique_locus_names.append(name) \n",
    "print unique_locus_names\n"
   ]
  },
  {
   "cell_type": "code",
   "execution_count": null,
   "metadata": {
    "collapsed": true
   },
   "outputs": [],
   "source": []
  }
 ],
 "metadata": {
  "kernelspec": {
   "display_name": "Python 2",
   "language": "python",
   "name": "python2"
  },
  "language_info": {
   "codemirror_mode": {
    "name": "ipython",
    "version": 2
   },
   "file_extension": ".py",
   "mimetype": "text/x-python",
   "name": "python",
   "nbconvert_exporter": "python",
   "pygments_lexer": "ipython2",
   "version": "2.7.12"
  }
 },
 "nbformat": 4,
 "nbformat_minor": 2
}
