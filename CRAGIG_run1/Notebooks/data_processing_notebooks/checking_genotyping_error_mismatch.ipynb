{
 "cells": [
  {
   "cell_type": "markdown",
   "metadata": {},
   "source": [
    "## Checking SNP and haplotype genotyping error mismatch\n",
    "\n",
    "I'm going a little crazy trying to understand how there could be such a discrepancy in genotyping error between the SNP and haplotype Genepop files, so I thought it was worth meticulously double-checking to make sure the error isn't me. It's usually me.\n",
    "\n",
    "First, I'll take a look at the SNP Genepop file. It looks like this:\n",
    "\n",
    "![image](https://github.com/nclowell/RAD_Scallops/blob/master/CRAGIG_run1/Notebooks/images_for_notebooks/snp_gp.png?raw=true)"
   ]
  },
  {
   "cell_type": "code",
   "execution_count": 1,
   "metadata": {
    "collapsed": false
   },
   "outputs": [
    {
     "name": "stdout",
     "output_type": "stream",
     "text": [
      "/mnt/hgfs/SHARED_FOLDER/WorkingFolder/Stacks_2\n"
     ]
    }
   ],
   "source": [
    "cd /mnt/hgfs/SHARED_FOLDER/WorkingFolder/Stacks_2"
   ]
  },
  {
   "cell_type": "markdown",
   "metadata": {},
   "source": [
    "I copied and pasted just the rows for the individuals with replicates, into this file 'cragigrun1_sampreps_snps_gen.txt', and it looks like this:\n",
    "\n",
    "![image]()"
   ]
  },
  {
   "cell_type": "code",
   "execution_count": null,
   "metadata": {
    "collapsed": true
   },
   "outputs": [],
   "source": [
    "input = open(\"cragigrun1_sampreps_snps_gen.txt\")\n",
    "lines = input.readlines()\n",
    "biglist = []\n",
    "for line in lines:\n",
    "    linelist = line.strip().split()\n",
    "    biglist.append(linelist)\n",
    "import numpy as np\n",
    "myarray = np.array(biglist)"
   ]
  },
  {
   "cell_type": "markdown",
   "metadata": {},
   "source": [
    "Assign rows of replicates to make small arrays w two rows each, for each replicated individual."
   ]
  },
  {
   "cell_type": "code",
   "execution_count": null,
   "metadata": {
    "collapsed": true
   },
   "outputs": [],
   "source": [
    "FG101 = myarray[0:2]\n",
    "FG102 = myarray[2:4]\n",
    "FG103 = myarray[4:6]\n",
    "FG104 = myarray[6:8]\n",
    "tags_header = myarray[8]"
   ]
  }
 ],
 "metadata": {
  "kernelspec": {
   "display_name": "Python 2",
   "language": "python",
   "name": "python2"
  },
  "language_info": {
   "codemirror_mode": {
    "name": "ipython",
    "version": 2
   },
   "file_extension": ".py",
   "mimetype": "text/x-python",
   "name": "python",
   "nbconvert_exporter": "python",
   "pygments_lexer": "ipython2",
   "version": "2.7.12"
  }
 },
 "nbformat": 4,
 "nbformat_minor": 2
}
