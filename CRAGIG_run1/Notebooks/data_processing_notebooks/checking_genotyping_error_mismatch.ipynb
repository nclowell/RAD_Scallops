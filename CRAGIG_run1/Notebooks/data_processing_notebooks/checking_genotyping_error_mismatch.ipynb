{
 "cells": [
  {
   "cell_type": "markdown",
   "metadata": {},
   "source": [
    "# Checking SNP and haplotype genotyping error mismatch\n",
    "\n",
    "I'm going a little crazy trying to understand how there could be such a discrepancy in genotyping error between the SNP and haplotype Genepop files, so I thought it was worth meticulously double-checking to make sure the error isn't me. It's usually me.\n",
    "\n",
    "## First: SNP genotyping error\n",
    "First, I'll take a look at the SNP Genepop file. It looks like this:\n",
    "\n",
    "![image](https://github.com/nclowell/RAD_Scallops/blob/master/CRAGIG_run1/Notebooks/images_for_notebooks/snp_gp.png?raw=true)"
   ]
  },
  {
   "cell_type": "code",
   "execution_count": 59,
   "metadata": {
    "collapsed": false
   },
   "outputs": [
    {
     "name": "stdout",
     "output_type": "stream",
     "text": [
      "/mnt/hgfs/SHARED_FOLDER/WorkingFolder/Stacks_2\n"
     ]
    }
   ],
   "source": [
    "cd /mnt/hgfs/SHARED_FOLDER/WorkingFolder/Stacks_2"
   ]
  },
  {
   "cell_type": "markdown",
   "metadata": {},
   "source": [
    "I copied and pasted just the rows for the individuals with replicates, into this file 'cragigrun1_sampreps_snps_gen.txt', and it looks like this:\n",
    "\n",
    "![image](https://github.com/nclowell/RAD_Scallops/blob/master/CRAGIG_run1/Notebooks/images_for_notebooks/pic_samps_for_snp_gen_error.png?raw=true)\n",
    "\n",
    "with the rows extracted for samples with replicates, and also with the locus names at the bottom.\n",
    "\n",
    "**HOWEVER** To double-check, I'm going to use a test file, which has only the first 11 SNPs, and looks like this:\n",
    "![image](https://github.com/nclowell/RAD_Scallops/blob/master/CRAGIG_run1/Notebooks/images_for_notebooks/test_snps_reps.png?raw=true)\n",
    "I'm using a test file so that I can introduce a known amount of error, and see how well it does.\n",
    "\n",
    "I introduced the following errors:\n",
    "* FG101: 1 total mismatch, 1 partial mismatch\n",
    "* FG102: 2 total mismatches\n",
    "* FG103: no mismatches\n",
    "* FG104: 1 total mismatch, 2 partial mismatches"
   ]
  },
  {
   "cell_type": "code",
   "execution_count": 60,
   "metadata": {
    "collapsed": false
   },
   "outputs": [
    {
     "name": "stdout",
     "output_type": "stream",
     "text": [
      "['FG101_A,', '0000', '0000', '0000', '0303', '0101', '0202', '0202', '0101']\n"
     ]
    }
   ],
   "source": [
    "input = open(\"test_replicates.txt\") # read in file\n",
    "lines = input.readlines()\n",
    "biglist = []\n",
    "for line in lines:\n",
    "    linelist = line.strip().split()\n",
    "    biglist.append(linelist) # prepare a list to make an array\n",
    "\n",
    "# check list of lists is what you expect\n",
    "print biglist[0][0:9]"
   ]
  },
  {
   "cell_type": "code",
   "execution_count": 75,
   "metadata": {
    "collapsed": false
   },
   "outputs": [
    {
     "name": "stdout",
     "output_type": "stream",
     "text": [
      "['5_75', '5_84', '5_137', '6_16', '6_23', '6_24', '6_40', '6_74', '6_97', '6_112', '6_126']\n"
     ]
    }
   ],
   "source": [
    "headerline = lines[8]\n",
    "snp_list = headerline.strip().split(\",\")\n",
    "\n",
    "print snp_list[0:11]"
   ]
  },
  {
   "cell_type": "code",
   "execution_count": 62,
   "metadata": {
    "collapsed": false
   },
   "outputs": [
    {
     "name": "stdout",
     "output_type": "stream",
     "text": [
      "You have 11 SNPs.\n"
     ]
    }
   ],
   "source": [
    "num_snps = len(snp_list) # iterate over number of tags\n",
    "print \"You have \" + str(num_snps) + \" SNPs.\""
   ]
  },
  {
   "cell_type": "code",
   "execution_count": 63,
   "metadata": {
    "collapsed": true
   },
   "outputs": [],
   "source": [
    "import numpy as np\n",
    "myarray = np.array(biglist) # turn the file into an array"
   ]
  },
  {
   "cell_type": "markdown",
   "metadata": {},
   "source": [
    "Assign rows of replicates to make small arrays w two rows each, for each replicated individual."
   ]
  },
  {
   "cell_type": "code",
   "execution_count": 64,
   "metadata": {
    "collapsed": true
   },
   "outputs": [],
   "source": [
    "FG101 = np.array(biglist[0:2])\n",
    "FG102 = np.array(biglist[2:4])\n",
    "FG103 = np.array(biglist[4:6])\n",
    "FG104 = np.array(biglist[6:8])"
   ]
  },
  {
   "cell_type": "markdown",
   "metadata": {},
   "source": [
    "Double-check row assignments..."
   ]
  },
  {
   "cell_type": "code",
   "execution_count": 65,
   "metadata": {
    "collapsed": false
   },
   "outputs": [
    {
     "data": {
      "text/plain": [
       "array([['FG101_A,', '0000', '0000', '0000', '0303', '0101', '0202'],\n",
       "       ['FG101_B,', '0000', '0000', '0000', '0303', '0101', '0202']], \n",
       "      dtype='|S8')"
      ]
     },
     "execution_count": 65,
     "metadata": {},
     "output_type": "execute_result"
    }
   ],
   "source": [
    "FG101[0:2,0:7]\n"
   ]
  },
  {
   "cell_type": "code",
   "execution_count": 66,
   "metadata": {
    "collapsed": true
   },
   "outputs": [],
   "source": [
    "# put arrays in list\n",
    "list_of_arrays = []\n",
    "list_of_arrays.append(FG101)\n",
    "list_of_arrays.append(FG102)\n",
    "list_of_arrays.append(FG103)\n",
    "list_of_arrays.append(FG104)"
   ]
  },
  {
   "cell_type": "code",
   "execution_count": 67,
   "metadata": {
    "collapsed": true
   },
   "outputs": [],
   "source": [
    "# initiate counts and lists to track genotyping error\n",
    "match_genotypes_count = 0\n",
    "match_genotypes_tags = []\n",
    "partmismatch_genotypes_count = 0\n",
    "partmismatch_genotypes_tags = []\n",
    "totalmismatch_genotypes_count = 0\n",
    "totalmismatch_genotypes_tags = []\n",
    "nodata_mismatch_count = 0\n",
    "nodata_mismatch_tags = []"
   ]
  },
  {
   "cell_type": "code",
   "execution_count": 81,
   "metadata": {
    "collapsed": false
   },
   "outputs": [
    {
     "name": "stdout",
     "output_type": "stream",
     "text": [
      "\n",
      "Sample number 1 :\n",
      "Genotypes with perfect match: 6 : \n",
      "Genotypes with partial match: 1 : \n",
      "Genotypes with total mismatch: 1 : \n",
      "Genotypes with mismatch due to missing data: 3 : \n",
      "\n",
      "Sample number 2 :\n",
      "Genotypes with perfect match: 9 : \n",
      "Genotypes with partial match: 0 : \n",
      "Genotypes with total mismatch: 2 : \n",
      "Genotypes with mismatch due to missing data: 0 : \n",
      "\n",
      "Sample number 3 :\n",
      "Genotypes with perfect match: 11 : \n",
      "Genotypes with partial match: 0 : \n",
      "Genotypes with total mismatch: 0 : \n",
      "Genotypes with mismatch due to missing data: 0 : \n",
      "\n",
      "Sample number 4 :\n",
      "Genotypes with perfect match: 8 : \n",
      "Genotypes with partial match: 2 : \n",
      "Genotypes with total mismatch: 1 : \n",
      "Genotypes with mismatch due to missing data: 0 : \n"
     ]
    }
   ],
   "source": [
    "# sort genotype match/mismatch by sample\n",
    "bysam_match_tags = []\n",
    "bysam_partmismatch_tags = []\n",
    "bysam_totalmismatch_tags = []\n",
    "bysam_missing_tags = []\n",
    "\n",
    "timescount = 1\n",
    "for array in list_of_arrays:\n",
    "    sam_match_genotypes_count = 0\n",
    "    sam_match_genotypes_tags = []\n",
    "    sam_partmismatch_genotypes_count = 0\n",
    "    sam_partmismatch_genotypes_tags = []\n",
    "    sam_totalmismatch_genotypes_count = 0\n",
    "    sam_totalmismatch_genotypes_tags = []\n",
    "    sam_nodata_mismatch_count = 0\n",
    "    sam_nodata_mismatch_tags = []\n",
    "    for i in range(1,num_snps+1):\n",
    "        A_gen = array[0][i] # get genotypes\n",
    "        B_gen = array[1][i]\n",
    "        A_1 = A_gen[0:2] # pull out alleles\n",
    "        A_2 = A_gen[2:4]\n",
    "        B_1 = B_gen[0:2]\n",
    "        B_2 = B_gen[2:4]\n",
    "        A_list = [] # store alleles in lists\n",
    "        A_list.append(A_1)\n",
    "        A_list.append(A_2)\n",
    "        B_list = []\n",
    "        B_list.append(B_1)\n",
    "        B_list.append(B_2)\n",
    "        first_test_string = B_1 + B_2\n",
    "        second_test_string = B_2 + B_1\n",
    "        match_options = []\n",
    "        match_options.append(first_test_string)\n",
    "        match_options.append(second_test_string)\n",
    "        if (A_gen == \"0000\" or B_gen == \"0000\") or (A_gen == \"0000\" and B_gen == \"0000\"):\n",
    "            nodata_mismatch_count += 1\n",
    "            nodata_mismatch_tags.append(snp_list[i-1])\n",
    "            sam_nodata_mismatch_count +=1\n",
    "            sam_nodata_mismatch_tags.append(snp_list[i-1])\n",
    "        elif A_gen in match_options: # if perfect match\n",
    "            match_genotypes_count += 1\n",
    "            match_genotypes_tags.append(snp_list[i-1])\n",
    "            sam_match_genotypes_count += 1\n",
    "            sam_match_genotypes_tags.append(snp_list[i-1])\n",
    "        elif A_1 in B_list or A_2 in B_list: # if one allele is a match\n",
    "            partmismatch_genotypes_count += 1\n",
    "            partmismatch_genotypes_tags.append(snp_list[i-1])\n",
    "            sam_partmismatch_genotypes_count += 1\n",
    "            sam_partmismatch_genotypes_tags.append(snp_list[i-1])\n",
    "        elif A_1 not in B_list or A_2 not in B_list: # if not a match at all\n",
    "            totalmismatch_genotypes_count += 1\n",
    "            totalmismatch_genotypes_tags.append(snp_list[i-1])\n",
    "            sam_totalmismatch_genotypes_count += 1\n",
    "            sam_totalmismatch_genotypes_tags.append(snp_list[i-1])\n",
    "        else:\n",
    "            print \"Your loop may not be fully working.\" \n",
    "            print \"You thought there were three possible options, but there were more than three. Check!\"\n",
    "        \n",
    "    bysam_missing_tags.append(sam_nodata_mismatch_tags)\n",
    "    bysam_match_tags.append(sam_match_genotypes_tags)\n",
    "    bysam_partmismatch_tags.append(sam_partmismatch_genotypes_tags)\n",
    "    bysam_totalmismatch_tags.append(sam_totalmismatch_genotypes_tags)\n",
    "\n",
    "    print \"\\nSample number \" + str(timescount) + \" :\"\n",
    "    print \"Genotypes with perfect match: \" + str(sam_match_genotypes_count) + \" : \"\n",
    "    print \"Genotypes with partial match: \" + str(sam_partmismatch_genotypes_count) + \" : \"\n",
    "    print \"Genotypes with total mismatch: \" + str(sam_totalmismatch_genotypes_count) + \" : \"\n",
    "    print \"Genotypes with mismatch due to missing data: \" + str(sam_nodata_mismatch_count) + \" : \"\n",
    "        \n",
    "    timescount +=1"
   ]
  },
  {
   "cell_type": "code",
   "execution_count": 82,
   "metadata": {
    "collapsed": false
   },
   "outputs": [
    {
     "name": "stdout",
     "output_type": "stream",
     "text": [
      "Total genotypes excluding those with missing data : 233\n",
      "\n",
      "Total genotypes with perfect match: 191 : 81.97%\n",
      "Total genotypes with partial match: 17 : 7.296%\n",
      "Total genotypes with total mismatch: 25 : 10.72%\n",
      "\n",
      "Total genotypes with mismatch due to missing data: 30\n"
     ]
    }
   ],
   "source": [
    "from __future__ import division\n",
    "\n",
    "total_excl_mv = match_genotypes_count + partmismatch_genotypes_count + totalmismatch_genotypes_count\n",
    "print \"Total genotypes excluding those with missing data : \" + str(total_excl_mv)\n",
    "print \"\\nTotal genotypes with perfect match: \" + str(match_genotypes_count) + \" : \" + str((float(match_genotypes_count)/float(total_excl_mv)*100))[0:5] + \"%\"\n",
    "print \"Total genotypes with partial match: \" + str(partmismatch_genotypes_count) + \" : \" + str((float(partmismatch_genotypes_count)/float(total_excl_mv)*100))[0:5] + \"%\"\n",
    "print \"Total genotypes with total mismatch: \" + str(totalmismatch_genotypes_count) + \" : \" + str((float(totalmismatch_genotypes_count)/float(total_excl_mv)*100))[0:5] + \"%\"\n",
    "print \"\\nTotal genotypes with mismatch due to missing data: \" + str(nodata_mismatch_count)"
   ]
  },
  {
   "cell_type": "markdown",
   "metadata": {},
   "source": [
    "**So, does this match what is known?** Yes it does!\n",
    "\n",
    "Again, what is known about the test file:\n",
    "* FG101: 1 total mismatch, 1 partial mismatch\n",
    "* FG102: 2 total mismatches\n",
    "* FG103: no mismatches\n",
    "* FG104: 1 total mismatch, 2 partial mismatches\n",
    "\n",
    "I did find a small indexing problem, and solved it in the code, but unfortunately I don't think it will change the outcome at all for the real file. Well, I'll find out here!\n",
    "\n",
    "## Now with the actual file!"
   ]
  },
  {
   "cell_type": "code",
   "execution_count": 83,
   "metadata": {
    "collapsed": false
   },
   "outputs": [
    {
     "name": "stdout",
     "output_type": "stream",
     "text": [
      "['FG101_A,', '0000', '0000', '0000', '0303', '0101', '0202', '0202', '0101']\n"
     ]
    }
   ],
   "source": [
    "input = open(\"cragigrun1_sampreps_snps_gen.txt\") # read in file\n",
    "lines = input.readlines()\n",
    "biglist = []\n",
    "for line in lines:\n",
    "    linelist = line.strip().split()\n",
    "    biglist.append(linelist) # prepare a list to make an array\n",
    "\n",
    "# check list of lists is what you expect\n",
    "print biglist[0][0:9]"
   ]
  },
  {
   "cell_type": "code",
   "execution_count": 85,
   "metadata": {
    "collapsed": false
   },
   "outputs": [
    {
     "name": "stdout",
     "output_type": "stream",
     "text": [
      "['5_75', '5_84', '5_137', '6_16', '6_23', '6_24', '6_40', '6_74', '6_97', '6_112', '6_126', '6_129', '13_47', '13_51', '13_72', '13_81', '13_83', '13_86', '13_93']\n"
     ]
    }
   ],
   "source": [
    "headerline = lines[8]\n",
    "snp_list = headerline.strip().split(\",\")\n",
    "\n",
    "print snp_list[0:19]"
   ]
  },
  {
   "cell_type": "code",
   "execution_count": 86,
   "metadata": {
    "collapsed": false
   },
   "outputs": [
    {
     "name": "stdout",
     "output_type": "stream",
     "text": [
      "You have 82265 SNPs.\n"
     ]
    }
   ],
   "source": [
    "num_snps = len(snp_list) # iterate over number of tags\n",
    "print \"You have \" + str(num_snps) + \" SNPs.\""
   ]
  },
  {
   "cell_type": "code",
   "execution_count": 87,
   "metadata": {
    "collapsed": true
   },
   "outputs": [],
   "source": [
    "import numpy as np\n",
    "myarray = np.array(biglist) # turn the file into an array"
   ]
  },
  {
   "cell_type": "code",
   "execution_count": 88,
   "metadata": {
    "collapsed": true
   },
   "outputs": [],
   "source": [
    "FG101 = np.array(biglist[0:2])\n",
    "FG102 = np.array(biglist[2:4])\n",
    "FG103 = np.array(biglist[4:6])\n",
    "FG104 = np.array(biglist[6:8])"
   ]
  },
  {
   "cell_type": "code",
   "execution_count": 89,
   "metadata": {
    "collapsed": false
   },
   "outputs": [
    {
     "data": {
      "text/plain": [
       "array([['FG101_A,', '0000', '0000', '0000', '0303', '0101', '0202'],\n",
       "       ['FG101_B,', '0000', '0000', '0000', '0303', '0101', '0202']], \n",
       "      dtype='|S8')"
      ]
     },
     "execution_count": 89,
     "metadata": {},
     "output_type": "execute_result"
    }
   ],
   "source": [
    "FG101[0:2,0:7]"
   ]
  },
  {
   "cell_type": "code",
   "execution_count": 90,
   "metadata": {
    "collapsed": true
   },
   "outputs": [],
   "source": [
    "# put arrays in list\n",
    "list_of_arrays = []\n",
    "list_of_arrays.append(FG101)\n",
    "list_of_arrays.append(FG102)\n",
    "list_of_arrays.append(FG103)\n",
    "list_of_arrays.append(FG104)"
   ]
  },
  {
   "cell_type": "code",
   "execution_count": 91,
   "metadata": {
    "collapsed": true
   },
   "outputs": [],
   "source": [
    "# initiate counts and lists to track genotyping error\n",
    "match_genotypes_count = 0\n",
    "match_genotypes_tags = []\n",
    "partmismatch_genotypes_count = 0\n",
    "partmismatch_genotypes_tags = []\n",
    "totalmismatch_genotypes_count = 0\n",
    "totalmismatch_genotypes_tags = []\n",
    "nodata_mismatch_count = 0\n",
    "nodata_mismatch_tags = []"
   ]
  },
  {
   "cell_type": "code",
   "execution_count": 92,
   "metadata": {
    "collapsed": false
   },
   "outputs": [
    {
     "name": "stdout",
     "output_type": "stream",
     "text": [
      "\n",
      "Sample number 1 :\n",
      "Genotypes with perfect match: 79256 : \n",
      "Genotypes with partial match: 246 : \n",
      "Genotypes with total mismatch: 0 : \n",
      "Genotypes with mismatch due to missing data: 2763 : \n",
      "\n",
      "Sample number 2 :\n",
      "Genotypes with perfect match: 79611 : \n",
      "Genotypes with partial match: 275 : \n",
      "Genotypes with total mismatch: 0 : \n",
      "Genotypes with mismatch due to missing data: 2379 : \n",
      "\n",
      "Sample number 3 :\n",
      "Genotypes with perfect match: 78651 : \n",
      "Genotypes with partial match: 362 : \n",
      "Genotypes with total mismatch: 0 : \n",
      "Genotypes with mismatch due to missing data: 3252 : \n",
      "\n",
      "Sample number 4 :\n",
      "Genotypes with perfect match: 78819 : \n",
      "Genotypes with partial match: 293 : \n",
      "Genotypes with total mismatch: 0 : \n",
      "Genotypes with mismatch due to missing data: 3153 : \n"
     ]
    }
   ],
   "source": [
    "# sort genotype match/mismatch by sample\n",
    "bysam_match_tags = []\n",
    "bysam_partmismatch_tags = []\n",
    "bysam_totalmismatch_tags = []\n",
    "bysam_missing_tags = []\n",
    "\n",
    "timescount = 1\n",
    "for array in list_of_arrays:\n",
    "    sam_match_genotypes_count = 0\n",
    "    sam_match_genotypes_tags = []\n",
    "    sam_partmismatch_genotypes_count = 0\n",
    "    sam_partmismatch_genotypes_tags = []\n",
    "    sam_totalmismatch_genotypes_count = 0\n",
    "    sam_totalmismatch_genotypes_tags = []\n",
    "    sam_nodata_mismatch_count = 0\n",
    "    sam_nodata_mismatch_tags = []\n",
    "    for i in range(1,num_snps+1):\n",
    "        A_gen = array[0][i] # get genotypes\n",
    "        B_gen = array[1][i]\n",
    "        A_1 = A_gen[0:2] # pull out alleles\n",
    "        A_2 = A_gen[2:4]\n",
    "        B_1 = B_gen[0:2]\n",
    "        B_2 = B_gen[2:4]\n",
    "        A_list = [] # store alleles in lists\n",
    "        A_list.append(A_1)\n",
    "        A_list.append(A_2)\n",
    "        B_list = []\n",
    "        B_list.append(B_1)\n",
    "        B_list.append(B_2)\n",
    "        first_test_string = B_1 + B_2\n",
    "        second_test_string = B_2 + B_1\n",
    "        match_options = []\n",
    "        match_options.append(first_test_string)\n",
    "        match_options.append(second_test_string)\n",
    "        if (A_gen == \"0000\" or B_gen == \"0000\") or (A_gen == \"0000\" and B_gen == \"0000\"):\n",
    "            nodata_mismatch_count += 1\n",
    "            nodata_mismatch_tags.append(snp_list[i-1])\n",
    "            sam_nodata_mismatch_count +=1\n",
    "            sam_nodata_mismatch_tags.append(snp_list[i-1])\n",
    "        elif A_gen in match_options: # if perfect match\n",
    "            match_genotypes_count += 1\n",
    "            match_genotypes_tags.append(snp_list[i-1])\n",
    "            sam_match_genotypes_count += 1\n",
    "            sam_match_genotypes_tags.append(snp_list[i-1])\n",
    "        elif A_1 in B_list or A_2 in B_list: # if one allele is a match\n",
    "            partmismatch_genotypes_count += 1\n",
    "            partmismatch_genotypes_tags.append(snp_list[i-1])\n",
    "            sam_partmismatch_genotypes_count += 1\n",
    "            sam_partmismatch_genotypes_tags.append(snp_list[i-1])\n",
    "        elif A_1 not in B_list or A_2 not in B_list: # if not a match at all\n",
    "            totalmismatch_genotypes_count += 1\n",
    "            totalmismatch_genotypes_tags.append(snp_list[i-1])\n",
    "            sam_totalmismatch_genotypes_count += 1\n",
    "            sam_totalmismatch_genotypes_tags.append(snp_list[i-1])\n",
    "        else:\n",
    "            print \"Your loop may not be fully working.\" \n",
    "            print \"You thought there were three possible options, but there were more than three. Check!\"\n",
    "        \n",
    "    bysam_missing_tags.append(sam_nodata_mismatch_tags)\n",
    "    bysam_match_tags.append(sam_match_genotypes_tags)\n",
    "    bysam_partmismatch_tags.append(sam_partmismatch_genotypes_tags)\n",
    "    bysam_totalmismatch_tags.append(sam_totalmismatch_genotypes_tags)\n",
    "\n",
    "    print \"\\nSample number \" + str(timescount) + \" :\"\n",
    "    print \"Genotypes with perfect match: \" + str(sam_match_genotypes_count) + \" : \"\n",
    "    print \"Genotypes with partial match: \" + str(sam_partmismatch_genotypes_count) + \" : \"\n",
    "    print \"Genotypes with total mismatch: \" + str(sam_totalmismatch_genotypes_count) + \" : \"\n",
    "    print \"Genotypes with mismatch due to missing data: \" + str(sam_nodata_mismatch_count) + \" : \"\n",
    "        \n",
    "    timescount +=1"
   ]
  },
  {
   "cell_type": "code",
   "execution_count": 93,
   "metadata": {
    "collapsed": false
   },
   "outputs": [
    {
     "name": "stdout",
     "output_type": "stream",
     "text": [
      "Total genotypes excluding those with missing data : 317513\n",
      "\n",
      "Total genotypes with perfect match: 316337 : 99.62%\n",
      "Total genotypes with partial match: 1176 : 0.370%\n",
      "Total genotypes with total mismatch: 0 : 0.0%\n",
      "\n",
      "Total genotypes with mismatch due to missing data: 11547\n"
     ]
    }
   ],
   "source": [
    "from __future__ import division\n",
    "\n",
    "total_excl_mv = match_genotypes_count + partmismatch_genotypes_count + totalmismatch_genotypes_count\n",
    "print \"Total genotypes excluding those with missing data : \" + str(total_excl_mv)\n",
    "print \"\\nTotal genotypes with perfect match: \" + str(match_genotypes_count) + \" : \" + str((float(match_genotypes_count)/float(total_excl_mv)*100))[0:5] + \"%\"\n",
    "print \"Total genotypes with partial match: \" + str(partmismatch_genotypes_count) + \" : \" + str((float(partmismatch_genotypes_count)/float(total_excl_mv)*100))[0:5] + \"%\"\n",
    "print \"Total genotypes with total mismatch: \" + str(totalmismatch_genotypes_count) + \" : \" + str((float(totalmismatch_genotypes_count)/float(total_excl_mv)*100))[0:5] + \"%\"\n",
    "print \"\\nTotal genotypes with mismatch due to missing data: \" + str(nodata_mismatch_count)"
   ]
  },
  {
   "cell_type": "markdown",
   "metadata": {},
   "source": [
    "Looks like the genotyping error wasn't affected by my minor code fixes\n",
    "\n",
    "## Second: haplotype genotyping error\n",
    "\n",
    "### haplotypes -> hap Genepop file check\n",
    "\n",
    "I wrote a script that takes the haplotypes file from ``populations`` and writes a Genepop. I spot checked it, but it could be the source of the problem because people make mistakes (and computers don't!). So double-checking that it worked using a test haplotype file.\n",
    "\n",
    "I made a test haplotypes file previously, it looks like this:\n",
    "![image](https://github.com/nclowell/RAD_Scallops/blob/master/CRAGIG_run1/Notebooks/images_for_notebooks/test_hap.png?raw=true)\n",
    "\n",
    "So... eyeballing this test haplotypes file, I see:\n",
    "* Locus 5: 4 alleles\n",
    "* Locus 6: 2 alleles\n",
    "* Locus 13: 2 alleles\n",
    "* Locus 16: 3 alleles\n",
    "* Locus 20:"
   ]
  },
  {
   "cell_type": "code",
   "execution_count": 94,
   "metadata": {
    "collapsed": false
   },
   "outputs": [
    {
     "name": "stdout",
     "output_type": "stream",
     "text": [
      "/mnt/hgfs/SHARED_FOLDER/Git_repo/CRAGIG_run1/Scripts\n"
     ]
    }
   ],
   "source": [
    "cd /mnt/hgfs/SHARED_FOLDER/Git_repo/CRAGIG_run1/Scripts"
   ]
  },
  {
   "cell_type": "code",
   "execution_count": null,
   "metadata": {
    "collapsed": true
   },
   "outputs": [],
   "source": [
    "!python parse_hapfile_to_tagGenePop.py \\\n",
    "-f ../../../WorkingFolder/Stacks_2/test_hap.tsv \\\n",
    "-p ../../../WorkingFolder/popmap_cragigrun1.txt \\\n",
    "-o ../../../WorkingFolder/Stacks_2/tagsGenepop_20170322.genepop"
   ]
  }
 ],
 "metadata": {
  "kernelspec": {
   "display_name": "Python 2",
   "language": "python",
   "name": "python2"
  },
  "language_info": {
   "codemirror_mode": {
    "name": "ipython",
    "version": 2
   },
   "file_extension": ".py",
   "mimetype": "text/x-python",
   "name": "python",
   "nbconvert_exporter": "python",
   "pygments_lexer": "ipython2",
   "version": "2.7.12"
  }
 },
 "nbformat": 4,
 "nbformat_minor": 2
}
