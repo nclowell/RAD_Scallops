{
 "cells": [
  {
   "cell_type": "markdown",
   "metadata": {},
   "source": [
    "## Exploring read depth\n",
    "\n",
    "**20170403**\n",
    "\n",
    "I'd like to write a script that produces plots of read depth, in multiple ways (e.g., within and across individuals), but I realize that there were a couple of bugs in my previous notebook about this. So, trying to rewrite and debug here."
   ]
  },
  {
   "cell_type": "code",
   "execution_count": 1,
   "metadata": {
    "collapsed": false,
    "deletable": true,
    "editable": true
   },
   "outputs": [
    {
     "name": "stdout",
     "output_type": "stream",
     "text": [
      "/mnt/hgfs/SHARED_FOLDER/WorkingFolder\n"
     ]
    }
   ],
   "source": [
    "cd /mnt/hgfs/SHARED_FOLDER/WorkingFolder"
   ]
  },
  {
   "cell_type": "code",
   "execution_count": 2,
   "metadata": {
    "collapsed": false,
    "deletable": true,
    "editable": true,
    "scrolled": true
   },
   "outputs": [],
   "source": [
    "import numpy as np\n",
    "import matplotlib.pyplot as plt\n",
    "import sys"
   ]
  },
  {
   "cell_type": "code",
   "execution_count": 3,
   "metadata": {
    "collapsed": false,
    "deletable": true,
    "editable": true
   },
   "outputs": [],
   "source": [
    "# get file names from matches list text file\n",
    "file_of_filenames = open(\"Stacks_2/list_matches_filenames.txt\",\"r\") # change to args.matchfiles\n",
    "lines = file_of_filenames.readlines()\n",
    "filename_list = []\n",
    "for line in lines:\n",
    "    filename = line.strip()\n",
    "    filename_list.append(filename)\n",
    "num_files = len(filename_list) # get num files"
   ]
  },
  {
   "cell_type": "code",
   "execution_count": 4,
   "metadata": {
    "collapsed": true,
    "deletable": true,
    "editable": true
   },
   "outputs": [],
   "source": [
    "# initiate dictionary to store tag read depth information across individuals\n",
    "tag_rd_cum_dict = {}\n",
    "\n",
    "# initiate dictionary to store tag read depths, to quantify variance across individuals\n",
    "tag_rd_for_vars = {}\n",
    "\n",
    "# initiate list to store tag read depth within individuals\n",
    "within_inds_tag_rd = []"
   ]
  },
  {
   "cell_type": "code",
   "execution_count": 5,
   "metadata": {
    "collapsed": false,
    "deletable": true,
    "editable": true
   },
   "outputs": [],
   "source": [
    "# get within individual count data by building a temporary dictionary and merging lists\n",
    "\n",
    "within_ints_rag_rd = []\n",
    "for file in filename_list:\n",
    "    indfile = open(\"Stacks_2\" + \"/\" + file,\"r\") # change to args.\n",
    "    lines = indfile.readlines()[1:]\n",
    "    within_dict = {}\n",
    "    for line in lines:\n",
    "        linelist = line.strip().split()\n",
    "        locus = int(linelist[2])\n",
    "        count = int(linelist[6])\n",
    "        if locus not in  within_dict:\n",
    "            within_dict[locus] = int(count)\n",
    "        elif locus in within_dict:\n",
    "            oldcount =  within_dict[locus]\n",
    "            newcount = oldcount + count\n",
    "            within_dict[locus] = newcount     \n",
    "        else:\n",
    "            print \"Something funky is going on.\"\n",
    "        counts = within_dict.values()\n",
    "        length = len(counts)\n",
    "        sample = list(np.random.choice(counts, size=(length/100),replace=False))\n",
    "        within_ints_rag_rd += sample\n",
    "    indfile.close()\n",
    "\n"
   ]
  },
  {
   "cell_type": "code",
   "execution_count": 6,
   "metadata": {
    "collapsed": false,
    "deletable": true,
    "editable": true
   },
   "outputs": [
    {
     "name": "stdout",
     "output_type": "stream",
     "text": [
      "[65, 95, 218, 135, 218, 117, 46, 63, 234, 512, 215, 41, 205, 138, 188, 205, 205, 68, 99]\n"
     ]
    }
   ],
   "source": [
    "print within_ints_rag_rd[0:19]"
   ]
  },
  {
   "cell_type": "code",
   "execution_count": 12,
   "metadata": {
    "collapsed": false
   },
   "outputs": [
    {
     "name": "stdout",
     "output_type": "stream",
     "text": [
      "[65, 95, 218, 135, 218, 117, 46, 63, 234]\n"
     ]
    }
   ],
   "source": [
    "# get tag read depths up to 99th percentile, to exclude most of tail that makes the plot unreadable\n",
    "p = np.percentile(within_ints_rag_rd,99)\n",
    "within_ints_rag_rd_99 = []\n",
    "for rd in within_ints_rag_rd:\n",
    "    if rd < p:\n",
    "        within_ints_rag_rd_99.append(rd)\n",
    "print within_ints_rag_rd_99[0:9]"
   ]
  },
  {
   "cell_type": "code",
   "execution_count": 13,
   "metadata": {
    "collapsed": false
   },
   "outputs": [
    {
     "name": "stdout",
     "output_type": "stream",
     "text": [
      "571.0\n"
     ]
    }
   ],
   "source": [
    "print p"
   ]
  },
  {
   "cell_type": "code",
   "execution_count": 14,
   "metadata": {
    "collapsed": false
   },
   "outputs": [
    {
     "data": {
      "image/png": "[encoded data removed]",
      "text/plain": [
       "<matplotlib.figure.Figure at 0x7f0b7cc507d0>"
      ]
     },
     "metadata": {},
     "output_type": "display_data"
    }
   ],
   "source": [
    "# plot histogram of within individual tag read depths, using 99 percentile\n",
    "plt.hist(within_ints_rag_rd_99, bins = np.arange(0,max(within_ints_rag_rd_99)+1,10)-5)\n",
    "plt.xlabel(\"Read depth\")\n",
    "plt.ylabel(\"Frequency\")\n",
    "plt.suptitle(\"Distribution of tag read depths \\nwithin individuals in scallop lane 1\")\n",
    "plt.show()"
   ]
  },
  {
   "cell_type": "code",
   "execution_count": null,
   "metadata": {
    "collapsed": true
   },
   "outputs": [],
   "source": []
  },
  {
   "cell_type": "code",
   "execution_count": null,
   "metadata": {
    "collapsed": true
   },
   "outputs": [],
   "source": []
  },
  {
   "cell_type": "code",
   "execution_count": null,
   "metadata": {
    "collapsed": true
   },
   "outputs": [],
   "source": []
  },
  {
   "cell_type": "code",
   "execution_count": null,
   "metadata": {
    "collapsed": false,
    "deletable": true,
    "editable": true
   },
   "outputs": [],
   "source": [
    "\n",
    "# add zeros where matches files had no line for a given locus\n",
    "vars_list = []\n",
    "for key in tag_rd_for_vars:\n",
    "    if len(tag_rd_for_vars[key]) != num_files:\n",
    "        print \"Length of list for this key: \" + str(len(tag_rd_for_vars[key]))\n",
    "        diff = num_files - len(tag_rd_for_vars[key])\n",
    "        print \"Diff with 71 : \" + str(diff)\n",
    "        zerolist = [0]*diff\n",
    "        oldlist = tag_rd_for_vars[key]\n",
    "        newlist = oldlist + zerolist\n",
    "        print \"length of new list: \" + str(len(newlist))\n",
    "        tag_rd_for_vars[key] = newlist\n",
    "        tag_var = np.var(newlist)\n",
    "        vars_list.append(tag_var)"
   ]
  },
  {
   "cell_type": "code",
   "execution_count": null,
   "metadata": {
    "collapsed": false,
    "deletable": true,
    "editable": true
   },
   "outputs": [],
   "source": [
    "print vars_list[0:9]"
   ]
  },
  {
   "cell_type": "code",
   "execution_count": null,
   "metadata": {
    "collapsed": true,
    "deletable": true,
    "editable": true
   },
   "outputs": [],
   "source": [
    "# get tag read depths up to 99th percentile, to exclude most of tail that makes the plot unreadable\n",
    "p = np.percentile(within_inds_tag_rd,99)\n",
    "within_inds_tag_rd_99 = []\n",
    "for rd in within_inds_tag_rd:\n",
    "    if rd < p:\n",
    "        within_inds_tag_rd_99.append(rd)"
   ]
  },
  {
   "cell_type": "code",
   "execution_count": null,
   "metadata": {
    "collapsed": false,
    "deletable": true,
    "editable": true
   },
   "outputs": [],
   "source": [
    "# get vars list, up to 99 percentile\n",
    "q = np.percentile(vars_list,99)\n",
    "vars_list_99 = []\n",
    "for var in vars_list:\n",
    "    if var < q:\n",
    "        vars_list_99.append(var)\n",
    "print vars_list_99[0:19]\n",
    "print max(vars_list_99)\n"
   ]
  },
  {
   "cell_type": "code",
   "execution_count": null,
   "metadata": {
    "collapsed": false,
    "deletable": true,
    "editable": true
   },
   "outputs": [],
   "source": [
    "# plot histogram of variance in read depth at tags across individuals\n",
    "plt.hist(vars_list_99, bins = np.arange(0,max(vars_list_99)+1,20)-10)\n",
    "plt.xlabel(\"Variance of tag read depths across individuals\")\n",
    "plt.ylabel(\"Frequency\")\n",
    "plt.suptitle(\"Distribution of tag read depth variance \\nacross individuals in \" + \"scallop lane 1\")\n",
    "plt.show()\n",
    "\n"
   ]
  },
  {
   "cell_type": "code",
   "execution_count": null,
   "metadata": {
    "collapsed": false,
    "deletable": true,
    "editable": true
   },
   "outputs": [],
   "source": [
    "vars_list_99[0:19]"
   ]
  },
  {
   "cell_type": "code",
   "execution_count": null,
   "metadata": {
    "collapsed": false,
    "deletable": true,
    "editable": true
   },
   "outputs": [],
   "source": [
    "# plot histogram of variance in read depth at tags across individuals\n",
    "plt.hist(vars_list_99, bins = np.arange(0,max(vars_list_99)+1,20)-10)\n",
    "plt.xlabel(\"Variance of tag read depths across individuals\")\n",
    "plt.ylabel(\"Frequency\")\n",
    "plt.suptitle(\"Distribution of tag read depth variance \\nacross individuals in \" + \"scallop lane 1\")\n",
    "plt.show()\n",
    "# savefig(args.varsacrosstagrd_FN)"
   ]
  },
  {
   "cell_type": "code",
   "execution_count": null,
   "metadata": {
    "collapsed": true,
    "deletable": true,
    "editable": true
   },
   "outputs": [],
   "source": []
  },
  {
   "cell_type": "code",
   "execution_count": null,
   "metadata": {
    "collapsed": true,
    "deletable": true,
    "editable": true
   },
   "outputs": [],
   "source": []
  },
  {
   "cell_type": "code",
   "execution_count": null,
   "metadata": {
    "collapsed": true,
    "deletable": true,
    "editable": true
   },
   "outputs": [],
   "source": []
  },
  {
   "cell_type": "code",
   "execution_count": null,
   "metadata": {
    "collapsed": true,
    "deletable": true,
    "editable": true
   },
   "outputs": [],
   "source": []
  },
  {
   "cell_type": "code",
   "execution_count": null,
   "metadata": {
    "collapsed": true,
    "deletable": true,
    "editable": true
   },
   "outputs": [],
   "source": [
    "### Tag read depth within individuals\n",
    "\n",
    "# get tag read depths up to 99th percentile, to exclude most of tail that makes the plot unreadable\n",
    "p = np.percentile(within_inds_tag_rd,99)\n",
    "within_inds_tag_rd_99 = []\n",
    "for rd in within_inds_tag_rd:\n",
    "    if rd < p:\n",
    "        within_inds_tag_rd_99.append(rd)\n",
    "\n",
    "# # plot boxplot of tag read depth within individuals\n",
    "# plt.boxplot(within_inds_tag_rd_99)\n",
    "# plt.ylabel(\"Number of reads\")\n",
    "# plt.xticks([1],[args.dataname])\n",
    "# plt.suptitle(\"Tag read depths within individuals, 99 percentile\")\n",
    "# savefig(args.ind_tag_rd_fn)\n",
    "\n",
    "# # plot histogram of within individual tag read depths, using 99 percentile\n",
    "# plt.hist(within_inds_tag_rd_99, bins = np.arange(0,max(within_inds_tag_rd_99)+1,10)-5)\n",
    "# plt.xlabel(\"Read depth\")\n",
    "# plt.ylabel(\"Frequency\")\n",
    "# plt.suptitle(\"Distribution of tag read depths \\nwithin individuals in \" + args.dataname)\n",
    "# savefig(args.indtagrdhist_FN)\n",
    "\n",
    "### Tag read depths across individuals\n",
    "\n",
    "# # get across individual tag read depths into list\n",
    "# across_ind_tag_rd = tag_rd_cum_dict.values()\n",
    "\n",
    "# # plot histogram of across individual tag read depths\n",
    "# plt.hist(across_ind_tag_rd, bins = np.arange(0,max(within_inds_tag_rd)+1,200)-100)\n",
    "# plt.xlabel(\"Read depth bin\")\n",
    "# plt.ylabel(\"Frequency\")\n",
    "# plt.suptitle(\"Distribution of read depths of\\ntags across individuals in \" + args.dataname)\n",
    "# plt.show()\n",
    "# savefig(args.acrosstagrd_FN)\n",
    "\n",
    "# get vars list, up to 99 percentile\n",
    "q = np.percentile(vars_list,99)\n",
    "vars_list_99 = []\n",
    "print vars_list[0:19]\n",
    "for var in vars_list_99:\n",
    "    if var < q:\n",
    "        vars_list_99.append(var)\n",
    "print vars_list_99[0:19]\n",
    "\n",
    "\n",
    "# plot histogram of variance in read depth at tags across individuals\n",
    "plt.hist(vars_list_99, bins = np.arange(0,max(vars_list_99)+1,20)-10)\n",
    "plt.xlabel(\"Variance of tag read depths across individuals\")\n",
    "plt.ylabel(\"Frequency\")\n",
    "plt.suptitle(\"Distribution of tag read depth variance \\nacross individuals in \" + args.dataname)\n",
    "plt.show()\n",
    "# savefig(args.varsacrosstagrd_FN)\n",
    "### Tag read depth within individuals\n",
    "\n",
    "# get tag read depths up to 99th percentile, to exclude most of tail that makes the plot unreadable\n",
    "p = np.percentile(within_inds_tag_rd,99)\n",
    "within_inds_tag_rd_99 = []\n",
    "for rd in within_inds_tag_rd:\n",
    "    if rd < p:\n",
    "        within_inds_tag_rd_99.append(rd)\n",
    "\n",
    "# # plot boxplot of tag read depth within individuals\n",
    "# plt.boxplot(within_inds_tag_rd_99)\n",
    "# plt.ylabel(\"Number of reads\")\n",
    "# plt.xticks([1],[args.dataname])\n",
    "# plt.suptitle(\"Tag read depths within individuals, 99 percentile\")\n",
    "# savefig(args.ind_tag_rd_fn)\n",
    "\n",
    "# # plot histogram of within individual tag read depths, using 99 percentile\n",
    "# plt.hist(within_inds_tag_rd_99, bins = np.arange(0,max(within_inds_tag_rd_99)+1,10)-5)\n",
    "# plt.xlabel(\"Read depth\")\n",
    "# plt.ylabel(\"Frequency\")\n",
    "# plt.suptitle(\"Distribution of tag read depths \\nwithin individuals in \" + args.dataname)\n",
    "# savefig(args.indtagrdhist_FN)\n",
    "\n",
    "### Tag read depths across individuals\n",
    "\n",
    "# # get across individual tag read depths into list\n",
    "# across_ind_tag_rd = tag_rd_cum_dict.values()\n",
    "\n",
    "# # plot histogram of across individual tag read depths\n",
    "# plt.hist(across_ind_tag_rd, bins = np.arange(0,max(within_inds_tag_rd)+1,200)-100)\n",
    "# plt.xlabel(\"Read depth bin\")\n",
    "# plt.ylabel(\"Frequency\")\n",
    "# plt.suptitle(\"Distribution of read depths of\\ntags across individuals in \" + args.dataname)\n",
    "# plt.show()\n",
    "# savefig(args.acrosstagrd_FN)\n",
    "\n",
    "# get vars list, up to 99 percentile\n",
    "q = np.percentile(vars_list,99)\n",
    "vars_list_99 = []\n",
    "print vars_list[0:19]\n",
    "for var in vars_list_99:\n",
    "    if var < q:\n",
    "        vars_list_99.append(var)\n",
    "print vars_list_99[0:19]\n",
    "\n",
    "\n",
    "# plot histogram of variance in read depth at tags across individuals\n",
    "plt.hist(vars_list_99, bins = np.arange(0,max(vars_list_99)+1,20)-10)\n",
    "plt.xlabel(\"Variance of tag read depths across individuals\")\n",
    "plt.ylabel(\"Frequency\")\n",
    "plt.suptitle(\"Distribution of tag read depth variance \\nacross individuals in \" + args.dataname)\n",
    "plt.show()\n",
    "# savefig(args.varsacrosstagrd_FN)"
   ]
  }
 ],
 "metadata": {
  "kernelspec": {
   "display_name": "Python 2",
   "language": "python",
   "name": "python2"
  },
  "language_info": {
   "codemirror_mode": {
    "name": "ipython",
    "version": 2
   },
   "file_extension": ".py",
   "mimetype": "text/x-python",
   "name": "python",
   "nbconvert_exporter": "python",
   "pygments_lexer": "ipython2",
   "version": "2.7.12"
  }
 },
 "nbformat": 4,
 "nbformat_minor": 2
}
