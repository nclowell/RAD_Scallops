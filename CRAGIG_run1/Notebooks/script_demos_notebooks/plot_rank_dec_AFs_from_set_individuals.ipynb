{
 "cells": [
  {
   "cell_type": "markdown",
   "metadata": {},
   "source": [
    "## Plot rank decreasing allele frequencies from a set of individuals\n",
    "<br>\n",
    "<br>\n",
    "<br>\n",
    "I want to make a plot like this one,\n",
    "\n",
    "![image](https://github.com/nclowell/RAD_Scallops/blob/master/CRAGIG_run1/Analyses/rank_afs_4alls_20170318.png?raw=true)\n",
    "\n",
    "except be able to include genotype information from multiple samples. So, I wrote a script that does that! It lives [here](https://github.com/nclowell/RAD_Scallops/blob/master/CRAGIG_run1/Scripts/plot_dec_rank_AFs_across_indvs.py).\n",
    "\n",
    "\n",
    "<br>\n",
    "<br>\n",
    "<br>\n",
    "<br>\n",
    "**Help file:**"
   ]
  },
  {
   "cell_type": "code",
   "execution_count": 5,
   "metadata": {
    "collapsed": false
   },
   "outputs": [
    {
     "name": "stdout",
     "output_type": "stream",
     "text": [
      "/mnt/hgfs/SHARED_FOLDER/Git_repo/CRAGIG_run1/Scripts\n"
     ]
    }
   ],
   "source": [
    "cd /mnt/hgfs/SHARED_FOLDER/Git_repo/CRAGIG_run1/Scripts"
   ]
  },
  {
   "cell_type": "code",
   "execution_count": 7,
   "metadata": {
    "collapsed": false
   },
   "outputs": [
    {
     "name": "stdout",
     "output_type": "stream",
     "text": [
      "usage: plot_dec_rank_AFs_across_indvs.py [-h] -s SAMPLES -i INDIR -n NUMALLS\r\n",
      "                                         -o OUTFILE\r\n",
      "\r\n",
      "Takes a set of samples, calls individual alleles files, and plots rank\r\n",
      "decreasing order of allele frequencies for sets of genotypes according to\r\n",
      "number of alleles within a genotype.\r\n",
      "\r\n",
      "optional arguments:\r\n",
      "  -h, --help            show this help message and exit\r\n",
      "  -s SAMPLES, --samples SAMPLES\r\n",
      "                        Text file with name of the samples to include,\r\n",
      "                        excluding any filepaths\r\n",
      "  -i INDIR, --indir INDIR\r\n",
      "                        Path to directory with individual alleles files\r\n",
      "  -n NUMALLS, --numalls NUMALLS\r\n",
      "                        Largest number of alleles you are interested in\r\n",
      "                        investigated, e.g., genotypes with 5 alleles in an\r\n",
      "                        individual. 10 is hightest number.\r\n",
      "  -o OUTFILE, --outfile OUTFILE\r\n",
      "                        Directory to store plots.\r\n"
     ]
    }
   ],
   "source": [
    "!python plot_dec_rank_AFs_across_indvs.py --help"
   ]
  },
  {
   "cell_type": "markdown",
   "metadata": {},
   "source": [
    "**Example usage:**"
   ]
  },
  {
   "cell_type": "code",
   "execution_count": 8,
   "metadata": {
    "collapsed": true
   },
   "outputs": [],
   "source": [
    "!python plot_dec_rank_AFs_across_indvs.py \\\n",
    "-s ../../../WorkingFolder/samps_for_20170318.txt \\\n",
    "-i ../../../WorkingFolder/Stacks_2 \\\n",
    "-n 4 \\\n",
    "-o ../../../WorkingFolder/Stacks_2"
   ]
  },
  {
   "cell_type": "markdown",
   "metadata": {},
   "source": [
    "Made the plots here in the output directory:\n",
    "\n",
    "![image](https://github.com/nclowell/RAD_Scallops/blob/master/CRAGIG_run1/Notebooks/images_for_notebooks/show_plots_made_20170318.png?raw=true)\n",
    "\n",
    "And the plots look like this:\n",
    "\n",
    "![image]()\n",
    "![image]()\n",
    "![image]()\n",
    "![image]()"
   ]
  }
 ],
 "metadata": {
  "kernelspec": {
   "display_name": "Python 2",
   "language": "python",
   "name": "python2"
  },
  "language_info": {
   "codemirror_mode": {
    "name": "ipython",
    "version": 2
   },
   "file_extension": ".py",
   "mimetype": "text/x-python",
   "name": "python",
   "nbconvert_exporter": "python",
   "pygments_lexer": "ipython2",
   "version": "2.7.12"
  }
 },
 "nbformat": 4,
 "nbformat_minor": 2
}
