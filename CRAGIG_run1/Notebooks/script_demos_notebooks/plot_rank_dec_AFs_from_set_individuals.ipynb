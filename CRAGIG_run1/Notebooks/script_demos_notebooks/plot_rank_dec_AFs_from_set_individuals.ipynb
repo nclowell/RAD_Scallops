{
 "cells": [
  {
   "cell_type": "markdown",
   "metadata": {},
   "source": [
    "## Plot rank decreasing allele frequencies from a set of individuals\n",
    "\n",
    "I want to make a plot like this one,\n",
    "\n",
    "![image](https://github.com/nclowell/RAD_Scallops/blob/master/CRAGIG_run1/Analyses/rank_afs_4alls_20170318.png?raw=true)\n",
    "\n",
    "except be able to include genotype information from multiple samples. So, I wrote a script that does that!\n",
    "\n",
    "Inputs:\n",
    "- sample file\n",
    "- directory with individual .alleles files\n",
    "- largest number of alleles in genotype that you're interested in\n",
    "- filepath to directory to store plots\n",
    "\n",
    "Output:\n"
   ]
  }
 ],
 "metadata": {
  "kernelspec": {
   "display_name": "Python 2",
   "language": "python",
   "name": "python2"
  },
  "language_info": {
   "codemirror_mode": {
    "name": "ipython",
    "version": 2
   },
   "file_extension": ".py",
   "mimetype": "text/x-python",
   "name": "python",
   "nbconvert_exporter": "python",
   "pygments_lexer": "ipython2",
   "version": "2.7.12"
  }
 },
 "nbformat": 4,
 "nbformat_minor": 2
}
