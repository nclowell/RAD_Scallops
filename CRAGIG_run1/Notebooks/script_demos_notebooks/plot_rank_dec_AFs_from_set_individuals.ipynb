{
 "cells": [
  {
   "cell_type": "markdown",
   "metadata": {},
   "source": [
    "## Plot rank decreasing allele frequencies from a set of individuals\n",
    "\n",
    "I want to make a plot like this one,\n",
    "\n",
    "![image](https://github.com/nclowell/RAD_Scallops/blob/master/CRAGIG_run1/Analyses/rank_afs_4alls_20170318.png?raw=true)\n",
    "\n",
    "except be able to include genotype information from multiple samples. So, I wrote a script that does that! It lives [here](https://github.com/nclowell/RAD_Scallops/blob/master/CRAGIG_run1/Scripts/plot_dec_rank_AFs_across_indvs.py).\n",
    "\n",
    "**Help file:**\n",
    "```\n",
    "usage: plot_dec_rank_AFs_across_indvs.py [-h] -s SAMPLES -i INDIR -n NUMALLS\n",
    "                                         -o OUTFILE\n",
    "\n",
    "Takes a set of samples, calls individual alleles files, and plots rank\n",
    "decreasing order of allele frequencies for sets of genotypes according to\n",
    "number of alleles within a genotype.\n",
    "\n",
    "optional arguments:\n",
    "  -h, --help            show this help message and exit\n",
    "  -s SAMPLES, --samples SAMPLES\n",
    "                        Text file with name of the samples to include,\n",
    "                        excluding any filepaths\n",
    "  -i INDIR, --indir INDIR\n",
    "                        Path to directory with individual alleles files\n",
    "  -n NUMALLS, --numalls NUMALLS\n",
    "                        Largest number of alleles you are interested in\n",
    "                        investigated, e.g., genotypes with 5 alleles in an\n",
    "                        individual.10 is hightest number.\n",
    "  -o OUTFILE, --outfile OUTFILE\n",
    "                        Directory to store plots.\n",
    "```\n",
    "\n",
    "Example usage:"
   ]
  },
  {
   "cell_type": "code",
   "execution_count": null,
   "metadata": {
    "collapsed": true
   },
   "outputs": [],
   "source": []
  }
 ],
 "metadata": {
  "kernelspec": {
   "display_name": "Python 2",
   "language": "python",
   "name": "python2"
  },
  "language_info": {
   "codemirror_mode": {
    "name": "ipython",
    "version": 2
   },
   "file_extension": ".py",
   "mimetype": "text/x-python",
   "name": "python",
   "nbconvert_exporter": "python",
   "pygments_lexer": "ipython2",
   "version": "2.7.12"
  }
 },
 "nbformat": 4,
 "nbformat_minor": 2
}
