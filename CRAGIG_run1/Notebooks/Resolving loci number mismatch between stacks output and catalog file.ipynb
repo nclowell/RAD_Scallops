{
 "cells": [
  {
   "cell_type": "markdown",
   "metadata": {},
   "source": [
    "## Issue: # loci in Genepop > # loci in catalog\n",
    "\n",
    "This shouldn't be possible! I double-checked that I used the output of ``pstacks`` (and not back to ``ustacks``) for the second round of ``Stacks`` with my reference genome, but couldn't find the error. One thing that it could be is when I ran ``cstacks`` the second time, I used a ``-g`` and an ``-n`` value, which I found out from Dan may confuse the program. It's supposed to receive either/or, depending on whether using a reference genome. Second round of ``cstacks`` - my catalog had 27,460 loci, second round of ``populations`` - my Genepop file had 82,265 loci.\n",
    "\n",
    "**Hypothesis**\n",
    "\n",
    "When I fed ``cstacks`` a ``-g`` and a ``-n``, it confused the program and it assumed I wasn't using a reference genome.\n",
    "\n",
    "To test this, I'll rerun the second round of ``cstacks`` in the same way, except without the ``-n`` argument.\n",
    "\n"
   ]
  },
  {
   "cell_type": "markdown",
   "metadata": {},
   "source": [
    "## Testing the second round ``cstacks``\n",
    "\n",
    "I'm going to use my ``easy_cstacks.py`` script. Notice that now we have two tags, snps, and alleles files, one set from ustacks and one now from pstacks. I moved all the pstacks ones into their own directory (called Stacks_2).\n",
    "\n",
    "\n",
    "This is what the bash script looked like when I used a ``-g`` and ``-n``:\n",
    "```\n",
    "This is what your cstacks shell looks like.\n",
    "stacks cstacks -b 100 -g -s pstacks/Q324 -s pstacks/Q318 -s pstacks/Q326 -s pstacks/Q314 -s pstacks/Q316 -s pstacks/Q323 -s pstacks/Q325 -s pstacks/Q351 -s pstacks/Q352 -s pstacks/Q332 -s pstacks/Q339 -s pstacks/Q334 -s pstacks/Q347 -s pstacks/Q356 -s pstacks/Q330 -s pstacks/Q355 -s pstacks/Q354 -s pstacks/FG009 -s pstacks/FG033 -s pstacks/FG002 -s pstacks/FG027 -s pstacks/FG021 -s pstacks/FG013 -s pstacks/FG001 -s pstacks/FG005 -s pstacks/FG014 -s pstacks/FG006 -s pstacks/FG101_A -s pstacks/FG102_A -s pstacks/FG100_B -s pstacks/FG106 -s pstacks/FG107 -s pstacks/FG109 -s pstacks/FG104_A -s pstacks/FG111 -s pstacks/FG108 -s pstacks/FG103_A -s pstacks/FG210 -s pstacks/FG205 -s pstacks/FG211 -s pstacks/FG212 -s pstacks/FG201 -s pstacks/FG209 -s pstacks/FG206 -s pstacks/FG204 -s pstacks/FG202 -s pstacks/FG203 -o pstacks -n 3 -p 5 \n",
    "```\n",
    "\n",
    "Going to use the same ``easy_cstacks.py`` script."
   ]
  },
  {
   "cell_type": "code",
   "execution_count": 7,
   "metadata": {
    "collapsed": false
   },
   "outputs": [
    {
     "name": "stdout",
     "output_type": "stream",
     "text": [
      "/mnt/hgfs/SHARED_FOLDER/Git_repo/CRAGIG_run1/Scripts\n"
     ]
    }
   ],
   "source": [
    "cd /mnt/hgfs/SHARED_FOLDER/Git_repo/CRAGIG_run1/Scripts"
   ]
  },
  {
   "cell_type": "code",
   "execution_count": 5,
   "metadata": {
    "collapsed": false
   },
   "outputs": [
    {
     "name": "stdout",
     "output_type": "stream",
     "text": [
      "usage: easy_cstacks.py [-h] [-p THREADS] -b BATCH -s SAMPLES -o OUTPUT -n\r\n",
      "                       MISMATCH [-i INPUT]\r\n",
      "\r\n",
      "Write and call a cstacks shell script\r\n",
      "\r\n",
      "optional arguments:\r\n",
      "  -h, --help            show this help message and exit\r\n",
      "  -p THREADS, --threads THREADS\r\n",
      "                        enable parallel execution with num_threads threads\r\n",
      "  -b BATCH, --batch BATCH\r\n",
      "                        batch number\r\n",
      "  -s SAMPLES, --samples SAMPLES\r\n",
      "                        text file with names of each sample to include in\r\n",
      "                        cstacks on its own line and without file extension\r\n",
      "  -o OUTPUT, --output OUTPUT\r\n",
      "                        output path to write results\r\n",
      "  -n MISMATCH, --mismatch MISMATCH\r\n",
      "                        number of mismatches allowed between sample tags when\r\n",
      "                        generating the catalog\r\n",
      "  -i INPUT, --input INPUT\r\n",
      "                        relative path to directory with input sample files,\r\n",
      "                        required only if program file is not in directory with\r\n",
      "                        sample files\r\n"
     ]
    }
   ],
   "source": [
    "!python easy_cstacks.py -h"
   ]
  },
  {
   "cell_type": "code",
   "execution_count": null,
   "metadata": {
    "collapsed": true
   },
   "outputs": [],
   "source": [
    "!python easy_cstacks.py \\\n",
    "-p 5 \\\n",
    "-b 100 \\\n",
    "-s ../../../WorkingFolder/samples_for_use_cstacks.txt \\\n",
    "-o ../../../WorkingFolder/Cstacks2_Take2 \\\n",
    "-i ../../../WorkingFolder/Stacks_2 \\\n",
    "-g"
   ]
  },
  {
   "cell_type": "markdown",
   "metadata": {},
   "source": [
    "Second attempt at round2 ``cstacks``, bash script looks like this:\n",
    "\n",
    "```\n",
    "This is what your cstacks shell looks like.\n",
    "stacks cstacks -b 100  -g -s ../../../WorkingFolder/Stacks_2/Q324 -s ../../../WorkingFolder/Stacks_2/Q318 -s ../../../WorkingFolder/Stacks_2/Q326 -s ../../../WorkingFolder/Stacks_2/Q314 -s ../../../WorkingFolder/Stacks_2/Q316 -s ../../../WorkingFolder/Stacks_2/Q323 -s ../../../WorkingFolder/Stacks_2/Q325 -s ../../../WorkingFolder/Stacks_2/Q351 -s ../../../WorkingFolder/Stacks_2/Q352 -s ../../../WorkingFolder/Stacks_2/Q332 -s ../../../WorkingFolder/Stacks_2/Q339 -s ../../../WorkingFolder/Stacks_2/Q334 -s ../../../WorkingFolder/Stacks_2/Q347 -s ../../../WorkingFolder/Stacks_2/Q356 -s ../../../WorkingFolder/Stacks_2/Q330 -s ../../../WorkingFolder/Stacks_2/Q355 -s ../../../WorkingFolder/Stacks_2/Q354 -s ../../../WorkingFolder/Stacks_2/FG009 -s ../../../WorkingFolder/Stacks_2/FG033 -s ../../../WorkingFolder/Stacks_2/FG002 -s ../../../WorkingFolder/Stacks_2/FG027 -s ../../../WorkingFolder/Stacks_2/FG021 -s ../../../WorkingFolder/Stacks_2/FG013 -s ../../../WorkingFolder/Stacks_2/FG001 -s ../../../WorkingFolder/Stacks_2/FG005 -s ../../../WorkingFolder/Stacks_2/FG014 -s ../../../WorkingFolder/Stacks_2/FG006 -s ../../../WorkingFolder/Stacks_2/FG101_A -s ../../../WorkingFolder/Stacks_2/FG102_A -s ../../../WorkingFolder/Stacks_2/FG100_B -s ../../../WorkingFolder/Stacks_2/FG106 -s ../../../WorkingFolder/Stacks_2/FG107 -s ../../../WorkingFolder/Stacks_2/FG109 -s ../../../WorkingFolder/Stacks_2/FG104_A -s ../../../WorkingFolder/Stacks_2/FG111 -s ../../../WorkingFolder/Stacks_2/FG108 -s ../../../WorkingFolder/Stacks_2/FG103_A -s ../../../WorkingFolder/Stacks_2/FG210 -s ../../../WorkingFolder/Stacks_2/FG205 -s ../../../WorkingFolder/Stacks_2/FG211 -s ../../../WorkingFolder/Stacks_2/FG212 -s ../../../WorkingFolder/Stacks_2/FG201 -s ../../../WorkingFolder/Stacks_2/FG209 -s ../../../WorkingFolder/Stacks_2/FG206 -s ../../../WorkingFolder/Stacks_2/FG204 -s ../../../WorkingFolder/Stacks_2/FG202 -s ../../../WorkingFolder/Stacks_2/FG203 -o ../../../WorkingFolder/Cstacks2_Take2 -p 3 \n",
    "Run this shell script?\n",
    "\n",
    "```\n",
    "\n",
    "Verify...\n",
    "- sample files are coming out of Stacks_2, which means the ``pstacks`` output YES\n",
    "- ``-g`` flag without ``-n`` flag YES\n",
    "- other arguments the same: batch = 100 YES, num threads = 5 YES\n",
    "\n",
    "Ok, running!\n",
    "\n",
    "I can see that part of the output of the program is a line saying \"loci matched based on genomic location,\" and I just double-checked to see that that was the case previously. And it was. So this may not  be the problem after all... oh, and the other catch that I just remembered is that even if I somehow made the catalog with the wrong files, it still resulted in 27K loci, which means down the line the genepop files should never have more than 27K loci. May have to rerun ``sstacks`` and second round ``populations`` again in here, to see if I can find the problem.\n",
    "\n",
    "Output in terminal looked like:\n",
    "\n",
    "```\n",
    "Run this shell script?YES\n",
    "Running shell script.\n",
    "Number of mismatches allowed between stacks: 1\n",
    "Loci matched based on genomic location.\n",
    "Constructing catalog from 47 samples.\n",
    "Initializing new catalog...\n",
    "  Parsing ../../../WorkingFolder/Stacks_2/Q324.tags.tsv\n",
    "  Parsing ../../../WorkingFolder/Stacks_2/Q324.snps.tsv\n",
    "  Parsing ../../../WorkingFolder/Stacks_2/Q324.alleles.tsv\n",
    "Building an index of the catalog.\n",
    "Processing sample ../../../WorkingFolder/Stacks_2/Q324 [2 of 47]\n",
    "  Parsing ../../../WorkingFolder/Stacks_2/Q318.tags.tsv\n",
    "  Parsing ../../../WorkingFolder/Stacks_2/Q318.snps.tsv\n",
    "  Parsing ../../../WorkingFolder/Stacks_2/Q318.alleles.tsv\n",
    "Searching for matches by genomic location...\n",
    "Merging matches into catalog...\n",
    "  0 loci matched more than one catalog locus and were excluded.\n",
    "  Updating catalog index...\n",
    "\n",
    "```\n",
    "...\n",
    "```\n",
    "Processing sample ../../../WorkingFolder/Stacks_2/FG202 [47 of 47]\n",
    "  Parsing ../../../WorkingFolder/Stacks_2/FG203.tags.tsv\n",
    "  Parsing ../../../WorkingFolder/Stacks_2/FG203.snps.tsv\n",
    "  Parsing ../../../WorkingFolder/Stacks_2/FG203.alleles.tsv\n",
    "Searching for matches by genomic location...\n",
    "Merging matches into catalog...\n",
    "  0 loci matched more than one catalog locus and were excluded.\n",
    "  Updating catalog index...\n",
    "Writing catalog to '../../../WorkingFolder/Cstacks2_Take2/... done.\n",
    "\n",
    "Running cstacks took \n",
    "00:14:00.70\n",
    "\n",
    "```\n",
    "\n",
    "Now count number of loci in new catalog file using the ``grep`` command."
   ]
  },
  {
   "cell_type": "code",
   "execution_count": 14,
   "metadata": {
    "collapsed": false
   },
   "outputs": [
    {
     "name": "stdout",
     "output_type": "stream",
     "text": [
      "/mnt/hgfs/SHARED_FOLDER/WorkingFolder/Cstacks2_Take2\n"
     ]
    }
   ],
   "source": [
    "cd /mnt/hgfs/SHARED_FOLDER/WorkingFolder/Cstacks2_Take2"
   ]
  },
  {
   "cell_type": "code",
   "execution_count": 15,
   "metadata": {
    "collapsed": false
   },
   "outputs": [
    {
     "name": "stdout",
     "output_type": "stream",
     "text": [
      "batch_100.catalog.tags.tsv:27460\r\n"
     ]
    }
   ],
   "source": [
    "!grep --count --with-filename consensus batch_100.catalog.tags.tsv"
   ]
  },
  {
   "cell_type": "markdown",
   "metadata": {},
   "source": [
    "Bummer. That's the same number of loci as previously. \n",
    "\n",
    "**Hypothesis 2**\n",
    "I made some small error between ``cstacks`` 2 and ``populations`` 2 that I might catch by rerunning.\n",
    "\n",
    "Going to rerun through ``populations`` and see! After that... I think I'll have to take a much deeper dive into ``Stacks`` to figure it out.\n",
    "\n",
    "## ``sstacks``\n",
    "\n"
   ]
  }
 ],
 "metadata": {
  "kernelspec": {
   "display_name": "Python 2",
   "language": "python",
   "name": "python2"
  },
  "language_info": {
   "codemirror_mode": {
    "name": "ipython",
    "version": 2
   },
   "file_extension": ".py",
   "mimetype": "text/x-python",
   "name": "python",
   "nbconvert_exporter": "python",
   "pygments_lexer": "ipython2",
   "version": "2.7.12"
  }
 },
 "nbformat": 4,
 "nbformat_minor": 2
}
