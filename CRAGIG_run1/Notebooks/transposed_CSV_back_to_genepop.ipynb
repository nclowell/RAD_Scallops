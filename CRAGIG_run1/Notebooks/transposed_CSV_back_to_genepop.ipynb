{
 "cells": [
  {
   "cell_type": "markdown",
   "metadata": {},
   "source": [
    "## Convert a transposed CSV genepop like file after filtering to a Genepop file for analyses\n",
    "\n",
    "This script takes the post-``Stacks`` filtered CSV file and converts it back to a Genepop file format. The first line will have the date, but in the future I'd like to add the option of adding more metadata to the file.\n",
    "\n",
    "Inputs are managed by ``argparse`` and include\n",
    "\n",
    "- the transposed genepop-like CSV\n",
    "- filepath to new genepop file\n",
    "- population map\n",
    "\n",
    "The script lives [here](https://github.com/nclowell/RAD_Scallops/blob/master/CRAGIG_run1/Scripts/transpo_csv_to_genepop.py).\n",
    "\n",
    "Example usage:"
   ]
  },
  {
   "cell_type": "code",
   "execution_count": 3,
   "metadata": {
    "collapsed": false
   },
   "outputs": [
    {
     "name": "stdout",
     "output_type": "stream",
     "text": [
      "/mnt/hgfs/SHARED_FOLDER/Git_repo/CRAGIG_run1/Scripts\n"
     ]
    }
   ],
   "source": [
    "cd /mnt/hgfs/SHARED_FOLDER/Git_repo/CRAGIG_run1/Scripts"
   ]
  },
  {
   "cell_type": "code",
   "execution_count": 5,
   "metadata": {
    "collapsed": false
   },
   "outputs": [],
   "source": [
    "!python transpo_csv_to_genepop.py \\\n",
    "-i ../../../WorkingFolder/Stacks_2/keptloci_20170313.csv \\\n",
    "-o ../../../WorkingFolder/Stacks_2/finalGP_20170313.csv \\\n",
    "-p ../../../WorkingFolder/popmap_cragigrun1.txt"
   ]
  }
 ],
 "metadata": {
  "kernelspec": {
   "display_name": "Python 2",
   "language": "python",
   "name": "python2"
  },
  "language_info": {
   "codemirror_mode": {
    "name": "ipython",
    "version": 2
   },
   "file_extension": ".py",
   "mimetype": "text/x-python",
   "name": "python",
   "nbconvert_exporter": "python",
   "pygments_lexer": "ipython2",
   "version": "2.7.12"
  }
 },
 "nbformat": 4,
 "nbformat_minor": 2
}
