{
 "cells": [
  {
   "cell_type": "markdown",
   "metadata": {},
   "source": [
    "## Plot tag read depth within individuals\n",
    "\n",
    "I wrote a script that parses all matches files within a directory, and extracts read depth per RAD tag within individuals using the catalog name of loci and the haplotype sequence counts. Then, a random sample of these read depths are plotted in a histogram. A random sample is required because otherwise the list of read depths can be too large for your computer's capacity. Then, the script calculates the 99th percentile by default, or any percentile designated by the user, to plot in a histogram. The histogram is automatically saved to your output directory with the name designated at the command line.\n",
    "\n",
    "Example usage:"
   ]
  },
  {
   "cell_type": "code",
   "execution_count": null,
   "metadata": {
    "collapsed": true
   },
   "outputs": [],
   "source": []
  }
 ],
 "metadata": {
  "kernelspec": {
   "display_name": "Python 2",
   "language": "python",
   "name": "python2"
  },
  "language_info": {
   "codemirror_mode": {
    "name": "ipython",
    "version": 2
   },
   "file_extension": ".py",
   "mimetype": "text/x-python",
   "name": "python",
   "nbconvert_exporter": "python",
   "pygments_lexer": "ipython2",
   "version": "2.7.12"
  }
 },
 "nbformat": 4,
 "nbformat_minor": 2
}
