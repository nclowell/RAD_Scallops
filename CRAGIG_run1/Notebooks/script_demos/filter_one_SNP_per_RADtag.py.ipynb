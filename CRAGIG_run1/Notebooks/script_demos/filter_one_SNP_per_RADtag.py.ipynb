{
 "cells": [
  {
   "cell_type": "markdown",
   "metadata": {},
   "source": [
    "## Filtering for just one SNP per RAD tag, in RAD tags with more than one SNP\n",
    "\n",
    "My scallop data is much more genetically variable than my lab mates, and they avoid using potentially linked markers by screening for just haplotype biallelic markers. But, if I did that, I'd screen out most of my markers! So, I wrote a script to filter out any additional SNPs other than the first per RAD tag. \n",
    "\n",
    "\n",
    "\n",
    "Example usage:"
   ]
  },
  {
   "cell_type": "code",
   "execution_count": null,
   "metadata": {
    "collapsed": true
   },
   "outputs": [],
   "source": []
  }
 ],
 "metadata": {
  "kernelspec": {
   "display_name": "Python 2",
   "language": "python",
   "name": "python2"
  },
  "language_info": {
   "codemirror_mode": {
    "name": "ipython",
    "version": 2
   },
   "file_extension": ".py",
   "mimetype": "text/x-python",
   "name": "python",
   "nbconvert_exporter": "python",
   "pygments_lexer": "ipython2",
   "version": "2.7.12"
  }
 },
 "nbformat": 4,
 "nbformat_minor": 2
}
