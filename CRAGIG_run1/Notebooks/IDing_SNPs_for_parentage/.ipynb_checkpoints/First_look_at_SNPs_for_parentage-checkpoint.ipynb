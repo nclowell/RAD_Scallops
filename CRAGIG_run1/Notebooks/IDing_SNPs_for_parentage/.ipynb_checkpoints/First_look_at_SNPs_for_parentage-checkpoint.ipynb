{
 "cells": [
  {
   "cell_type": "markdown",
   "metadata": {},
   "source": [
    "## First look at SNPs for scallop parentage panel\n",
    "**20170411NL**\n",
    "\n",
    "I need to help my collaborator find SNPs for a parentage panel. Ideally, they'd be SNPs with fairly high minor allele frequencies. And, they'd need to be flanked by regions that don't vary so we can build primers. \n",
    "\n",
    "I'd like to see how many candidate SNPs I can even come up with based solely on their position on the tag, and then see what their allele frequencies are. From there, I can decide if I need to include the reverse reads, which I bet I do. "
   ]
  },
  {
   "cell_type": "code",
   "execution_count": 3,
   "metadata": {
    "collapsed": false
   },
   "outputs": [
    {
     "name": "stdout",
     "output_type": "stream",
     "text": [
      "/mnt/hgfs/SHARED_FOLDER/WorkingFolder\n"
     ]
    }
   ],
   "source": [
    "cd /mnt/hgfs/SHARED_FOLDER/WorkingFolder"
   ]
  },
  {
   "cell_type": "code",
   "execution_count": 5,
   "metadata": {
    "collapsed": true
   },
   "outputs": [],
   "source": [
    "# read in Genepop file to get header of SNP names\n",
    "myfile = open(\"Stacks_2/batch_100.genepop\", \"r\")\n",
    "\n",
    "first_lines = []\n",
    "for i in range(0,2):\n",
    "    line = myfile.readline()\n",
    "    first_lines.append(line)"
   ]
  },
  {
   "cell_type": "code",
   "execution_count": 10,
   "metadata": {
    "collapsed": false
   },
   "outputs": [
    {
     "name": "stdout",
     "output_type": "stream",
     "text": [
      "['5_75', '5_84', '5_137', '6_16', '6_23', '6_24', '6_40', '6_74', '6_97']\n"
     ]
    }
   ],
   "source": [
    "# extract line with SNP names\n",
    "SNP_line = first_lines[1]\n",
    "SNP_names = SNP_line.split(\",\")\n",
    "print SNP_names[0:9]"
   ]
  },
  {
   "cell_type": "code",
   "execution_count": null,
   "metadata": {
    "collapsed": true
   },
   "outputs": [],
   "source": []
  },
  {
   "cell_type": "code",
   "execution_count": null,
   "metadata": {
    "collapsed": true
   },
   "outputs": [],
   "source": []
  },
  {
   "cell_type": "code",
   "execution_count": null,
   "metadata": {
    "collapsed": true
   },
   "outputs": [],
   "source": []
  },
  {
   "cell_type": "code",
   "execution_count": null,
   "metadata": {
    "collapsed": true
   },
   "outputs": [],
   "source": []
  }
 ],
 "metadata": {
  "kernelspec": {
   "display_name": "Python 2",
   "language": "python",
   "name": "python2"
  },
  "language_info": {
   "codemirror_mode": {
    "name": "ipython",
    "version": 2
   },
   "file_extension": ".py",
   "mimetype": "text/x-python",
   "name": "python",
   "nbconvert_exporter": "python",
   "pygments_lexer": "ipython2",
   "version": "2.7.12"
  }
 },
 "nbformat": 4,
 "nbformat_minor": 2
}
