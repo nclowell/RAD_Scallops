{
 "cells": [
  {
   "cell_type": "markdown",
   "metadata": {},
   "source": [
    "## First look at SNPs for scallop parentage panel\n",
    "**20170411NL**\n",
    "\n",
    "I need to help my collaborator find SNPs for a parentage panel. Ideally, they'd be SNPs with fairly high minor allele frequencies. And, they'd need to be flanked by regions that don't vary so we can build primers. \n",
    "\n",
    "I'd like to see how many candidate SNPs I can even come up with based solely on their position on the tag, and then see what their allele frequencies are. From there, I can decide if I need to include the reverse reads, which I bet I do. "
   ]
  },
  {
   "cell_type": "code",
   "execution_count": 80,
   "metadata": {
    "collapsed": false
   },
   "outputs": [
    {
     "name": "stdout",
     "output_type": "stream",
     "text": [
      "/mnt/hgfs/SHARED_FOLDER/WorkingFolder\n"
     ]
    }
   ],
   "source": [
    "cd /mnt/hgfs/SHARED_FOLDER/WorkingFolder"
   ]
  },
  {
   "cell_type": "code",
   "execution_count": 81,
   "metadata": {
    "collapsed": true
   },
   "outputs": [],
   "source": [
    "# read in Genepop file to get header of SNP names\n",
    "\n",
    "myfile = open(\"Stacks_2/batch_100.genepop\", \"r\")\n",
    "\n",
    "first_lines = []\n",
    "for i in range(0,2):\n",
    "    line = myfile.readline()\n",
    "    first_lines.append(line)"
   ]
  },
  {
   "cell_type": "code",
   "execution_count": 82,
   "metadata": {
    "collapsed": false
   },
   "outputs": [],
   "source": [
    "# extract line with SNP names\n",
    "\n",
    "SNP_line = first_lines[1]\n",
    "SNP_names = SNP_line.split(\",\")\n"
   ]
  },
  {
   "cell_type": "code",
   "execution_count": 83,
   "metadata": {
    "collapsed": false
   },
   "outputs": [
    {
     "name": "stdout",
     "output_type": "stream",
     "text": [
      "['5_75', '5_84', '5_137', '6_16', '6_23', '6_24', '6_40', '6_74', '6_97', '6_112', '6_126', '6_129', '13_47', '13_51', '13_72', '13_81', '13_83', '13_86', '13_93', '16_27', '16_31', '16_45', '16_47', '16_72', '16_73', '16_95', '16_105', '16_113', '16_127', '16_134', '20_6', '20_13', '20_18', '20_26', '20_30', '20_31', '20_45', '20_52', '20_59', '20_75', '20_85', '20_90', '20_92', '20_94', '20_103', '20_137', '22_29', '22_57', '27_30', '27_44', '27_50', '27_62', '27_70', '27_115', '28_9', '28_54', '28_58', '28_128', '31_15', '31_30', '31_44', '31_65', '31_69', '35_135', '49_61', '50_8', '50_16', '50_18', '50_20', '50_34', '50_52', '50_53', '50_67', '50_69', '50_82', '50_88', '50_92', '50_94', '50_105', '50_107', '50_116', '50_117', '50_133', '57_11', '57_21', '57_22', '57_34', '57_58', '57_74', '57_83', '57_84', '57_100', '62_50', '62_64', '62_90', '62_93', '62_97', '62_98', '62_108', '62_111', '62_113', '62_137', '63_45', '63_47', '63_69', '63_76', '63_87', '63_107', '71_36', '71_63', '71_68', '71_81', '71_91', '75_11', '75_59', '75_108', '75_116', '75_126', '77_49', '77_66', '77_72', '77_91', '77_102', '77_110', '77_128', '79_17', '79_90', '79_102', '79_109', '79_130', '79_137', '79_138', '80_39', '80_46', '80_58', '80_64', '80_81', '80_84', '80_137', '84_19', '84_25', '84_27', '84_72', '84_99', '84_120', '84_123', '86_38', '86_61', '86_80', '86_134', '89_32', '89_40', '89_66', '89_73', '89_106', '89_122', '92_15', '92_61', '92_70', '92_72', '92_92', '92_108', '92_109', '92_127', '92_137', '93_7', '93_41', '93_92', '93_111', '93_124', '93_130', '93_131', '94_47', '94_49', '94_117', '94_135', '95_7', '95_13', '95_14', '95_18', '95_22', '95_25', '95_26', '95_34', '95_45', '95_52', '95_54', '95_56', '95_61', '95_77', '95_78', '95_86', '95_110', '95_115', '95_122', '96_9', '96_12', '96_15', '96_23']\n"
     ]
    }
   ],
   "source": [
    "# check that it worked\n",
    "\n",
    "print SNP_names[0:199]"
   ]
  },
  {
   "cell_type": "code",
   "execution_count": 84,
   "metadata": {
    "collapsed": true
   },
   "outputs": [],
   "source": [
    "# initiate dictionary to store RAD tag numbers as keys, \n",
    "# and positions as values in a list\n",
    "\n",
    "SNP_dict = {}\n",
    "\n",
    "# initiate list of SNP names\n",
    "SNP_num_list = []"
   ]
  },
  {
   "cell_type": "code",
   "execution_count": 85,
   "metadata": {
    "collapsed": true
   },
   "outputs": [],
   "source": [
    "# there's a bug in the code - going to use a test SNP list\n",
    "test_list = ['1_25', '1_80','2_36','2_100','3_2','3_120']"
   ]
  },
  {
   "cell_type": "code",
   "execution_count": 86,
   "metadata": {
    "collapsed": true
   },
   "outputs": [],
   "source": [
    "# loop through SNP names, parse SNP names and positions, fill dictionary\n",
    "\n",
    "for SNP in SNP_names:# TESTING - MAKE SURE TO CHANGE BACK TO \"for SNP in SNP_names:\"\n",
    "    name_list = SNP.split(\"_\")\n",
    "    SNP_num = int(name_list[0])\n",
    "    position = int(name_list[1])\n",
    "    if SNP_num not in SNP_dict:\n",
    "        SNP_dict[SNP_num] = [position]\n",
    "        SNP_num_list.append(SNP_num)\n",
    "    else:\n",
    "        position_list = SNP_dict[SNP_num]\n",
    "        position_list.append(position)\n",
    "        SNP_dict[SNP_num] = position_list"
   ]
  },
  {
   "cell_type": "code",
   "execution_count": 87,
   "metadata": {
    "collapsed": false
   },
   "outputs": [
    {
     "name": "stdout",
     "output_type": "stream",
     "text": [
      "SNP positions for 5 and 6\n",
      "[75, 84, 137]\n",
      "[16, 23, 24, 40, 74, 97, 112, 126, 129]\n",
      "\n",
      "SNP numbers\n",
      "[5, 6, 13, 16, 20, 22, 27, 28, 31]\n"
     ]
    }
   ],
   "source": [
    "# check that it worked\n",
    "\n",
    "print \"SNP positions for 5 and 6\"\n",
    "print SNP_dict[5]\n",
    "print SNP_dict[6]\n",
    "\n",
    "print \"\\nSNP numbers\"\n",
    "print SNP_num_list[0:9]"
   ]
  },
  {
   "cell_type": "code",
   "execution_count": 99,
   "metadata": {
    "collapsed": false
   },
   "outputs": [
    {
     "name": "stdout",
     "output_type": "stream",
     "text": [
      "Filtering for RAD tags without SNPs in first or last 30 SNPs\n",
      "Total: 7740 SNPs\n",
      "\n",
      "Kept: 5.19379844961% or 402 SNPs\n",
      "Lost: 94.8062015504%\n"
     ]
    }
   ],
   "source": [
    "# sort SNPs into list of meet criteria\n",
    "# here, no SNPs in first or last 30 bases\n",
    "\n",
    "# initiate cut off\n",
    "\n",
    "cutoff = 30\n",
    "\n",
    "# initiate keep and lose SNP lists\n",
    "\n",
    "keep_SNPs_30 = []\n",
    "lose_SNPs = []\n",
    "\n",
    "for SNP in SNP_num_list:\n",
    "    positions = SNP_dict[SNP]\n",
    "    if all(x > cutoff for x in positions) and all(x < (139-cutoff) for x in positions):\n",
    "        keep_SNPs_30.append(SNP)\n",
    "    else:\n",
    "        lose_SNPs.append(SNP)\n",
    "        \n",
    "num_kept = len(keep_SNPs_30)\n",
    "num_lost = len(lose_SNPs)\n",
    "total = len(keep_SNPs) + len(lose_SNPs)\n",
    "total2 = len(SNP_num_list)\n",
    "\n",
    "if total == total2:\n",
    "    print \"Filtering for RAD tags without SNPs in first or last \" + str(cutoff) + \" SNPs\"\n",
    "    print \"Total: \" + str(total) + \" SNPs\"\n",
    "    print \"\\nKept: \" + str(float(num_kept)/float(total)*100) + \"%\" \" or \" + str(num_kept) + \" SNPs\"\n",
    "    print \"Lost: \" + str(float(num_lost)/float(total)*100) + \"%\"\n",
    "else:\n",
    "    \"Error! You reappended to a list and now it's bologne.\""
   ]
  },
  {
   "cell_type": "markdown",
   "metadata": {},
   "source": [
    "### Here is the list of RAD tag names that have SNPs that are not in the first or last 30 base pairs of the sequence:"
   ]
  },
  {
   "cell_type": "code",
   "execution_count": 100,
   "metadata": {
    "collapsed": false
   },
   "outputs": [
    {
     "name": "stdout",
     "output_type": "stream",
     "text": [
      "[13, 49, 63, 71, 196, 201, 291, 319, 337, 350, 439, 455, 473, 485, 514, 654, 802, 806, 825, 859, 899, 903, 930, 967, 976, 996, 1085, 1140, 1169, 1189, 1263, 1271, 1274, 1333, 1348, 1427, 1442, 1486, 1623, 1749, 1803, 1819, 1924, 1935, 1953, 2054, 2058, 2129, 2153, 2177, 2207, 2412, 2431, 2434, 2481, 2484, 2508, 2509, 2612, 2732, 2762, 2787, 2796, 2798, 2955, 3077, 3119, 3134, 3143, 3181, 3362, 3438, 3580, 3630, 3738, 3836, 3931, 3942, 3956, 3980, 3990, 3997, 4014, 4020, 4048, 4073, 4190, 4241, 4255, 4363, 4378, 4446, 4463, 4487, 4533, 4562, 4563, 4776, 4864, 4895, 4907, 4910, 4977, 5023, 5080, 5135, 5197, 5234, 5235, 5385, 5469, 5471, 5612, 5726, 5760, 5813, 5872, 5910, 5971, 5993, 6072, 6097, 6124, 6129, 6167, 6233, 6243, 6376, 6380, 6396, 6408, 6430, 6441, 6443, 6449, 6471, 6475, 6576, 6636, 6638, 6678, 6696, 6784, 6927, 6961, 6988, 7052, 7061, 7070, 7115, 7122, 7129, 7187, 7278, 7326, 7439, 7457, 7517, 7524, 7531, 7709, 7783, 7909, 8001, 8116, 8140, 8194, 8287, 8307, 8345, 8408, 8442, 8460, 8493, 8563, 8565, 8677, 8709, 8713, 8716, 8739, 8740, 8743, 8773, 8798, 8822, 8824, 8832, 8839, 8877, 9148, 9298, 9315, 9362, 9392, 9468, 9557, 9590, 9726, 9791, 9904, 9987, 10066, 10068, 10080, 10095, 10178, 10339, 10448, 10547, 10556, 10610, 10652, 10699, 10727, 10733, 10771, 10821, 10836, 10901, 11075, 11355, 11382, 11566, 11580, 11679, 11751, 11933, 11999, 12019, 12054, 12083, 12172, 12186, 12197, 12241, 12314, 12337, 12409, 12456, 12465, 12490, 12505, 12512, 12521, 12557, 12580, 12597, 12616, 12824, 12947, 12953, 13285, 13287, 13612, 13838, 13857, 14100, 14146, 14193, 14472, 14520, 14526, 14575, 14815, 14838, 14975, 14984, 15013, 15046, 15184, 15194, 15213, 15291, 15354, 15384, 15458, 15462, 15466, 15467, 15468, 15538, 15548, 15567, 15568, 15606, 15689, 15750, 15913, 15955, 16054, 16124, 16126, 16164, 16199, 16231, 16240, 16277, 16301, 16348, 16373, 16419, 16438, 16455, 16515, 16586, 16598, 16669, 16845, 16863, 17258, 17435, 17500, 17672, 17737, 17754, 17872, 17873, 17910, 18015, 18037, 18205, 18282, 18322, 18379, 18442, 18452, 18473, 18511, 18551, 18651, 18761, 18775, 18838, 18900, 18982, 18987, 19122, 19132, 19159, 19212, 19282, 19292, 19381, 19420, 19457, 19485, 19558, 19652, 19680, 19706, 19837, 19960, 20128, 20143, 20179, 20220, 20233, 20238, 20471, 20501, 20552, 20554, 20666, 20685, 20703, 20742, 20855, 20893, 20910, 20923, 20947, 20973, 20976, 20988, 21021, 21054, 21083, 21154, 21263, 21375, 21424, 21507, 21530, 21805, 21844, 21865, 21903, 21917, 21958, 22140, 22189, 22223, 22249, 22257, 22305, 22434, 22452, 22491, 22627, 22646, 22723]\n"
     ]
    }
   ],
   "source": [
    "print keep_SNPs_30"
   ]
  },
  {
   "cell_type": "markdown",
   "metadata": {},
   "source": [
    "### Here is the list of RAD tag names that have SNPs that are not in the first or last 25 base pairs of the sequence:"
   ]
  },
  {
   "cell_type": "code",
   "execution_count": 97,
   "metadata": {
    "collapsed": false
   },
   "outputs": [
    {
     "name": "stdout",
     "output_type": "stream",
     "text": [
      "Filtering for RAD tags without SNPs in first or last 25 SNPs\n",
      "Total: 7740 SNPs\n",
      "\n",
      "Kept: 8.07493540052% or 625 SNPs\n",
      "Lost: 91.9250645995%\n"
     ]
    }
   ],
   "source": [
    "# sort SNPs into list of meet criteria\n",
    "# here, no SNPs in first or last 25 bases\n",
    "\n",
    "# initiate cut off\n",
    "\n",
    "cutoff = 25\n",
    "\n",
    "# initiate keep and lose SNP lists\n",
    "\n",
    "keep_SNPs = []\n",
    "lose_SNPs = []\n",
    "\n",
    "for SNP in SNP_num_list:\n",
    "    positions = SNP_dict[SNP]\n",
    "    if all(x > cutoff for x in positions) and all(x < (139-cutoff) for x in positions):\n",
    "        keep_SNPs.append(SNP)\n",
    "    else:\n",
    "        lose_SNPs.append(SNP)\n",
    "        \n",
    "num_kept = len(keep_SNPs)\n",
    "num_lost = len(lose_SNPs)\n",
    "total = len(keep_SNPs) + len(lose_SNPs)\n",
    "total2 = len(SNP_num_list)\n",
    "\n",
    "if total == total2:\n",
    "    print \"Filtering for RAD tags without SNPs in first or last \" + str(cutoff) + \" SNPs\"\n",
    "    print \"Total: \" + str(total) + \" SNPs\"\n",
    "    print \"\\nKept: \" + str(float(num_kept)/float(total)*100) + \"%\" \" or \" + str(num_kept) + \" SNPs\"\n",
    "    print \"Lost: \" + str(float(num_lost)/float(total)*100) + \"%\"\n",
    "else:\n",
    "    \"Error! You reappended to a list and now it's bologne.\""
   ]
  },
  {
   "cell_type": "markdown",
   "metadata": {},
   "source": [
    "## Now, I'd like to take the list of SNPs that made it through the 30 bp cut off, and find their minor allele frequencies"
   ]
  },
  {
   "cell_type": "code",
   "execution_count": null,
   "metadata": {
    "collapsed": true
   },
   "outputs": [],
   "source": []
  }
 ],
 "metadata": {
  "kernelspec": {
   "display_name": "Python 2",
   "language": "python",
   "name": "python2"
  },
  "language_info": {
   "codemirror_mode": {
    "name": "ipython",
    "version": 2
   },
   "file_extension": ".py",
   "mimetype": "text/x-python",
   "name": "python",
   "nbconvert_exporter": "python",
   "pygments_lexer": "ipython2",
   "version": "2.7.12"
  }
 },
 "nbformat": 4,
 "nbformat_minor": 2
}
