{
 "cells": [
  {
   "cell_type": "markdown",
   "metadata": {
    "deletable": true,
    "editable": true
   },
   "source": [
    "## First look at SNPs for scallop parentage panel\n",
    "**20170411NL**\n",
    "\n",
    "I need to help my collaborator find SNPs for a parentage panel. Ideally, they'd be SNPs with fairly high minor allele frequencies. And, they'd need to be flanked by regions that don't vary so we can build primers. I should also filter those out with high Fis values, as the distribution of Fis values departed from 0 more than I'd like.\n",
    "\n",
    "Steps:\n",
    "1. Find RAD tags with SNPs that aren't in first or last 30 bp.\n",
    "2. Find MAF of SNPs in these RAD tags.\n",
    "3. Order them by decreasing MAF\n",
    "4. Get rank Fis, determine cut off, and filter out for Fis threshold"
   ]
  },
  {
   "cell_type": "code",
   "execution_count": 2,
   "metadata": {
    "collapsed": true,
    "deletable": true,
    "editable": true
   },
   "outputs": [],
   "source": [
    "import matplotlib.pyplot as plt\n",
    "import numpy as np"
   ]
  },
  {
   "cell_type": "code",
   "execution_count": 3,
   "metadata": {
    "collapsed": false,
    "deletable": true,
    "editable": true
   },
   "outputs": [
    {
     "name": "stdout",
     "output_type": "stream",
     "text": [
      "/mnt/hgfs/SHARED_FOLDER/WorkingFolder\n"
     ]
    }
   ],
   "source": [
    "cd /mnt/hgfs/SHARED_FOLDER/WorkingFolder"
   ]
  },
  {
   "cell_type": "code",
   "execution_count": 4,
   "metadata": {
    "collapsed": false,
    "deletable": true,
    "editable": true
   },
   "outputs": [],
   "source": [
    "# read in Genepop file to get header of SNP names\n",
    "myfile = open(\"Stacks_2/filtered_genepop_files/postMAF_postMV_asGP_20170322.gen\", \"r\")\n",
    "\n",
    "first_lines = []\n",
    "for i in range(0,2):\n",
    "    line = myfile.readline()\n",
    "    first_lines.append(line)\n",
    "myfile.close()"
   ]
  },
  {
   "cell_type": "code",
   "execution_count": 5,
   "metadata": {
    "collapsed": false,
    "deletable": true,
    "editable": true
   },
   "outputs": [
    {
     "name": "stdout",
     "output_type": "stream",
     "text": [
      "['5_137', '13_72', '20_52', '20_59', '27_30', '27_62', '27_115', '31_69', '57_22', '57_74', '57_83', '62_90', '62_93', '62_98', '62_113', '63_87', '63_107', '75_59', '75_126']\n"
     ]
    }
   ],
   "source": [
    "# extract line with SNP names\n",
    "SNP_line = first_lines[1]\n",
    "SNP_names = SNP_line.split(\",\")\n",
    "print SNP_names[0:19]"
   ]
  },
  {
   "cell_type": "code",
   "execution_count": 6,
   "metadata": {
    "collapsed": false,
    "deletable": true,
    "editable": true
   },
   "outputs": [],
   "source": [
    "# initiate dictionary to store RAD tag numbers as keys, \n",
    "# and positions as values in a list\n",
    "RADtag_dict = {}\n",
    "\n",
    "# initiate list of SNP names\n",
    "RADtag_num_list = []\n",
    "\n",
    "# loop through SNP names, parse SNP names and positions, fill dictionary\n",
    "for SNP in SNP_names:# TESTING - MAKE SURE TO CHANGE BACK TO \"for SNP in SNP_names:\"\n",
    "    name_list = SNP.split(\"_\")\n",
    "    SNP_num = int(name_list[0])\n",
    "    position = int(name_list[1])\n",
    "    if SNP_num not in RADtag_dict:\n",
    "        RADtag_dict[SNP_num] = [position]\n",
    "        RADtag_num_list.append(SNP_num)\n",
    "    else:\n",
    "        position_list = RADtag_dict[SNP_num]\n",
    "        position_list.append(position)\n",
    "        RADtag_dict[SNP_num] = position_list"
   ]
  },
  {
   "cell_type": "code",
   "execution_count": 7,
   "metadata": {
    "collapsed": false,
    "deletable": true,
    "editable": true
   },
   "outputs": [
    {
     "name": "stdout",
     "output_type": "stream",
     "text": [
      "SNP positions for RAD tags 5, 13, & 20\n",
      "[137]\n",
      "[72]\n",
      "[52, 59]\n",
      "\n",
      "First few RADtag numbers\n",
      "[5, 13, 20, 27, 31]\n"
     ]
    }
   ],
   "source": [
    "# check that it worked\n",
    "# from above, should correspond to: '5_137', '13_72', '20_52', '20_59'\n",
    "\n",
    "print \"SNP positions for RAD tags 5, 13, & 20\"\n",
    "print RADtag_dict[5]\n",
    "print RADtag_dict[13]\n",
    "print RADtag_dict[20]\n",
    "\n",
    "print \"\\nFirst few RADtag numbers\"\n",
    "print RADtag_num_list[0:5]"
   ]
  },
  {
   "cell_type": "code",
   "execution_count": 8,
   "metadata": {
    "collapsed": false,
    "deletable": true,
    "editable": true
   },
   "outputs": [
    {
     "name": "stdout",
     "output_type": "stream",
     "text": [
      "Filtering for RAD tags without SNPs in first or last 30 base pairs\n",
      "Total: 5556 RADtags\n",
      "\n",
      "Kept: 32.1274298056% or 1785 RADtags\n",
      "Lost: 67.8725701944%\n"
     ]
    }
   ],
   "source": [
    "# keep SNPs where no SNPs in RAD tag in first or last 30 bp\n",
    "\n",
    "# initiate cut off\n",
    "cutoff = 30\n",
    "\n",
    "# initiate keep and lose SNP lists\n",
    "keep_RADtags_30 = []\n",
    "lose_RADtags = []\n",
    "\n",
    "for RADtag in RADtag_num_list:\n",
    "    positions = RADtag_dict[RADtag]\n",
    "    if all(x > cutoff for x in positions) and all(x < (139-cutoff) for x in positions):\n",
    "        keep_RADtags_30.append(RADtag)\n",
    "    else:\n",
    "        lose_RADtags.append(RADtag)\n",
    "        \n",
    "num_kept = len(keep_RADtags_30)\n",
    "num_lost = len(lose_RADtags)\n",
    "total = len(keep_RADtags_30) + len(lose_RADtags)\n",
    "total2 = len(RADtag_num_list)\n",
    "\n",
    "if total == total2:\n",
    "    print \"Filtering for RAD tags without SNPs in first or last \" + str(cutoff) + \" base pairs\"\n",
    "    print \"Total: \" + str(total) + \" RADtags\"\n",
    "    print \"\\nKept: \" + str(float(num_kept)/float(total)*100) + \"%\" \" or \" + str(num_kept) + \" RADtags\"\n",
    "    print \"Lost: \" + str(float(num_lost)/float(total)*100) + \"%\"\n",
    "else:\n",
    "    \"Error! You reappended to a list and now it's bologne.\""
   ]
  },
  {
   "cell_type": "markdown",
   "metadata": {
    "deletable": true,
    "editable": true
   },
   "source": [
    "### Here is the first 100 of 1785 RAD tag names that have SNPs that are not in the first or last 30 base pairs of the sequence:"
   ]
  },
  {
   "cell_type": "code",
   "execution_count": 9,
   "metadata": {
    "collapsed": false,
    "deletable": true,
    "editable": true
   },
   "outputs": [
    {
     "name": "stdout",
     "output_type": "stream",
     "text": [
      "[13, 20, 31, 63, 80, 86, 89, 94, 96, 128, 206, 219, 245, 248, 278, 304, 305, 308, 309, 337, 350, 370, 387, 398, 447, 455, 460, 461, 465, 485, 514, 571, 572, 615, 617, 628, 651, 672, 717, 735, 779, 790, 802, 806, 817, 819, 828, 839, 851, 859, 860, 883, 889, 891, 899, 903, 914, 922, 934, 943, 962, 974, 993, 995, 1038, 1051, 1055, 1058, 1078, 1093, 1140, 1161, 1169, 1172, 1201, 1206, 1210, 1219, 1234, 1255, 1263, 1271, 1274, 1276, 1277, 1330, 1333, 1352, 1419, 1437, 1438, 1440, 1447, 1459, 1463, 1492, 1498, 1511, 1528]\n"
     ]
    }
   ],
   "source": [
    "print keep_RADtags_30[0:99]"
   ]
  },
  {
   "cell_type": "markdown",
   "metadata": {
    "collapsed": true,
    "deletable": true,
    "editable": true
   },
   "source": [
    "## Chat with peer\n",
    "\n",
    "**20170413**\n",
    "<br>I chatted with a peer who has built multiple parentage panels for amplicon sequencing, and got some good preliminary advice. Here are somethings I learned:\n",
    "\n",
    "* They start with a 30 bp cut off for 100 bp reads, so I think it's safe for me to start with the same. \n",
    "* If analyzing data at the SNP level, you want a minor allele frequency close to .5. If analyzing data at the haplotype level, many haplotypes can be more informative even though the minor allele frequency can be a bit lower than .5. \n",
    "* If I want to find out whether rare haplotype is actually just sequencing error/paralog, I can look at the ratio of reads. I'd expect a paralog to be evenly dispersed, like each of 4 alleles having 25% of the reads, or one having 50% and two having 25%. If sequencing error, should be really rare. Could also be worth filtering and saying keep only if haplotype appears in at least X number of individuals, or at least certain depth in an individual. Essentially, recalling genotypes in Marine's script.\n",
    "* Their amplicon size ranges from 30bp to 100bp. It's okay to have a range of sizes, and I think the limit is just by the sequencing platform.\n",
    "* Their distribution of minor allele frequencies ranges from .1 to .5ish.\n",
    "\n",
    "## Now, I'd like to take the list of SNPs that made it through the 30 bp cut off, and find their minor allele frequencies\n",
    "\n",
    "**20170417**\n",
    "\n",
    "To do this, I need to reformat the post-filtered SNP genepop file to a transposed CSV, then retain only the rows that match the SNPs that meet the 30 bp cut off criteria. Then, I can report back the MAF frequencies.\n"
   ]
  },
  {
   "cell_type": "code",
   "execution_count": 10,
   "metadata": {
    "collapsed": false,
    "deletable": true,
    "editable": true
   },
   "outputs": [
    {
     "name": "stdout",
     "output_type": "stream",
     "text": [
      "/mnt/hgfs/SHARED_FOLDER/Git_repo/CRAGIG_run1/Scripts/reformatting\n"
     ]
    }
   ],
   "source": [
    "cd /mnt/hgfs/SHARED_FOLDER/Git_repo/CRAGIG_run1/Scripts/reformatting/"
   ]
  },
  {
   "cell_type": "code",
   "execution_count": 11,
   "metadata": {
    "collapsed": false,
    "deletable": true,
    "editable": true
   },
   "outputs": [],
   "source": [
    "!python pop_gp_to_csv_gp.py \\\n",
    "-i ../../../../WorkingFolder/Stacks_2/filtered_genepop_files/postMAF_postMV_asGP_20170322.gen \\\n",
    "-o ../../../../WorkingFolder/Stacks_2/filtered_genepop_files/transGP_snps_post_filter_20170413.csv"
   ]
  },
  {
   "cell_type": "code",
   "execution_count": 12,
   "metadata": {
    "collapsed": false,
    "deletable": true,
    "editable": true
   },
   "outputs": [],
   "source": [
    "# get into numpy array\n",
    "GP = open(\"../../../../WorkingFolder/Stacks_2/filtered_genepop_files/trans_GP_post_filter_SNPs_20170413.csv\")"
   ]
  },
  {
   "cell_type": "code",
   "execution_count": 13,
   "metadata": {
    "collapsed": false,
    "deletable": true,
    "editable": true
   },
   "outputs": [],
   "source": [
    "lines = GP.readlines()\n",
    "GP.close()"
   ]
  },
  {
   "cell_type": "code",
   "execution_count": 14,
   "metadata": {
    "collapsed": true,
    "deletable": true,
    "editable": true
   },
   "outputs": [],
   "source": [
    "array_list = []\n",
    "for line in lines:\n",
    "    linelist = line.strip().split(\",\")\n",
    "    array_list.append(linelist)"
   ]
  },
  {
   "cell_type": "code",
   "execution_count": 15,
   "metadata": {
    "collapsed": false,
    "deletable": true,
    "editable": true
   },
   "outputs": [],
   "source": [
    "file_array = np.array(array_list)"
   ]
  },
  {
   "cell_type": "code",
   "execution_count": 16,
   "metadata": {
    "collapsed": false,
    "deletable": true,
    "editable": true
   },
   "outputs": [
    {
     "name": "stdout",
     "output_type": "stream",
     "text": [
      "[['sample' 'FG001' 'FG002' ..., 'Q354' 'Q355' 'Q356']\n",
      " ['5_137' '0101' '0101' ..., '0101' '0101' '0101']\n",
      " ['13_72' '0101' '0101' ..., '0101' '0104' '0404']\n",
      " ..., \n",
      " ['24240_103' '0101' '0101' ..., '0101' '0000' '0101']\n",
      " ['24356_58' '0104' '0104' ..., '0404' '0404' '0104']\n",
      " ['24492_43' '0404' '0404' ..., '0404' '0304' '0000']]\n"
     ]
    }
   ],
   "source": [
    "print file_array"
   ]
  },
  {
   "cell_type": "code",
   "execution_count": 17,
   "metadata": {
    "collapsed": false,
    "deletable": true,
    "editable": true
   },
   "outputs": [],
   "source": [
    "# get number rows in array, aka number of SNPs in Genepop\n",
    "num_rows = file_array.shape[0]"
   ]
  },
  {
   "cell_type": "code",
   "execution_count": 18,
   "metadata": {
    "collapsed": false,
    "deletable": true,
    "editable": true
   },
   "outputs": [
    {
     "data": {
      "text/plain": [
       "15080"
      ]
     },
     "execution_count": 18,
     "metadata": {},
     "output_type": "execute_result"
    }
   ],
   "source": [
    "num_rows"
   ]
  },
  {
   "cell_type": "code",
   "execution_count": 19,
   "metadata": {
    "collapsed": false,
    "deletable": true,
    "editable": true
   },
   "outputs": [
    {
     "data": {
      "text/plain": [
       "1785"
      ]
     },
     "execution_count": 19,
     "metadata": {},
     "output_type": "execute_result"
    }
   ],
   "source": [
    "len(keep_RADtags_30)"
   ]
  },
  {
   "cell_type": "code",
   "execution_count": 25,
   "metadata": {
    "collapsed": false,
    "deletable": true,
    "editable": true
   },
   "outputs": [],
   "source": [
    "GP30_list = [] \n",
    "kept_SNP_names = []\n",
    "\n",
    "count = 0\n",
    "for i in range(1,num_rows):\n",
    "    row = file_array[i,]\n",
    "    snp_name = row[0]\n",
    "    snp_name_list = snp_name.split(\"_\")\n",
    "    tag_num = int(snp_name_list[0])\n",
    "    if tag_num in keep_RADtags_30:\n",
    "        kept_SNP_names.append(snp_name)\n",
    "        rowaslist = list(row)\n",
    "        GP30_list.append(rowaslist)"
   ]
  },
  {
   "cell_type": "code",
   "execution_count": 26,
   "metadata": {
    "collapsed": false,
    "deletable": true,
    "editable": true
   },
   "outputs": [
    {
     "data": {
      "text/plain": [
       "3152"
      ]
     },
     "execution_count": 26,
     "metadata": {},
     "output_type": "execute_result"
    }
   ],
   "source": [
    "len(GP30_list)"
   ]
  },
  {
   "cell_type": "code",
   "execution_count": 27,
   "metadata": {
    "collapsed": true,
    "deletable": true,
    "editable": true
   },
   "outputs": [],
   "source": [
    "final_list = [array_list[0]]\n",
    "for lillist in GP30_list:\n",
    "    final_list.append(lillist)"
   ]
  },
  {
   "cell_type": "code",
   "execution_count": 28,
   "metadata": {
    "collapsed": false,
    "deletable": true,
    "editable": true
   },
   "outputs": [
    {
     "data": {
      "text/plain": [
       "['13_72',\n",
       " '20_52',\n",
       " '20_59',\n",
       " '31_69',\n",
       " '63_87',\n",
       " '63_107',\n",
       " '80_84',\n",
       " '86_38',\n",
       " '86_61']"
      ]
     },
     "execution_count": 28,
     "metadata": {},
     "output_type": "execute_result"
    }
   ],
   "source": [
    "kept_SNP_names[0:9]"
   ]
  },
  {
   "cell_type": "code",
   "execution_count": 29,
   "metadata": {
    "collapsed": false,
    "deletable": true,
    "editable": true
   },
   "outputs": [
    {
     "name": "stdout",
     "output_type": "stream",
     "text": [
      "You have 3152 SNPs in 1785 RAD tags.\n"
     ]
    }
   ],
   "source": [
    "print \"You have \" + str(len(kept_SNP_names)) + \" SNPs in \" + str(len(keep_RADtags_30)) + \" RAD tags.\""
   ]
  },
  {
   "cell_type": "code",
   "execution_count": 30,
   "metadata": {
    "collapsed": false,
    "deletable": true,
    "editable": true
   },
   "outputs": [
    {
     "data": {
      "image/png": "[encoded data removed]",
      "text/plain": [
       "<matplotlib.figure.Figure at 0x7f88b7af1c10>"
      ]
     },
     "metadata": {},
     "output_type": "display_data"
    }
   ],
   "source": [
    "# double-check filtering for 30 bp cutoff is right, because played around w code and got new value\n",
    "positions = []\n",
    "for SNPname in kept_SNP_names:\n",
    "    snp_list = SNPname.split(\"_\")\n",
    "    position = snp_list[1]\n",
    "    positions.append(int(position))\n",
    "\n",
    "# plot\n",
    "plt.hist(positions)\n",
    "plt.xlabel(\"Position of SNP in 139 bp read\")\n",
    "plt.ylabel(\"Frequency\")\n",
    "plt.suptitle(\"Distribution of position of SNPs in RAD tags to\\ndouble-check none in flanking 30bp\")\n",
    "plt.show()"
   ]
  },
  {
   "cell_type": "code",
   "execution_count": 31,
   "metadata": {
    "collapsed": true,
    "deletable": true,
    "editable": true
   },
   "outputs": [],
   "source": [
    "GP30_array = np.array(final_list)"
   ]
  },
  {
   "cell_type": "code",
   "execution_count": 32,
   "metadata": {
    "collapsed": false,
    "deletable": true,
    "editable": true
   },
   "outputs": [
    {
     "name": "stdout",
     "output_type": "stream",
     "text": [
      "[['sample' 'FG001' 'FG002' 'FG003' 'FG004' 'FG005' 'FG006' 'FG007' 'FG009']\n",
      " ['13_72' '0101' '0101' '0101' '0101' '0101' '0101' '0101' '0104']\n",
      " ['20_52' '0303' '0303' '0101' '0303' '0303' '0303' '0303' '0303']\n",
      " ['20_59' '0204' '0202' '0202' '0202' '0202' '0202' '0202' '0202']\n",
      " ['31_69' '0102' '0101' '0102' '0101' '0101' '0101' '0101' '0101']\n",
      " ['63_87' '0404' '0204' '0204' '0204' '0404' '0404' '0404' '0204']\n",
      " ['63_107' '0204' '0404' '0404' '0404' '0404' '0404' '0404' '0404']\n",
      " ['80_84' '0303' '0303' '0000' '0303' '0000' '0304' '0303' '0303']\n",
      " ['86_38' '0204' '0202' '0202' '0202' '0202' '0202' '0204' '0202']]\n"
     ]
    }
   ],
   "source": [
    "# final array of just snps with 30 cut off\n",
    "print GP30_array[0:9,0:9]"
   ]
  },
  {
   "cell_type": "code",
   "execution_count": 33,
   "metadata": {
    "collapsed": false,
    "deletable": true,
    "editable": true
   },
   "outputs": [
    {
     "name": "stdout",
     "output_type": "stream",
     "text": [
      "[[0.9296875, 0.0703125], [0.47619047619047616, 0.5238095238095238], [0.8615384615384616, 0.13846153846153847], [0.417910447761194, 0.582089552238806], [0.11538461538461539, 0.8846153846153846], [0.9444444444444444, 0.05555555555555555], [0.0625, 0.9375], [0.11363636363636363, 0.8863636363636364], [0.9285714285714286, 0.07142857142857142]]\n"
     ]
    }
   ],
   "source": [
    "# report MAF\n",
    "\n",
    "all_maf_dict = {}\n",
    "\n",
    "locus_list = []\n",
    "for locusrow in GP30_array[1:,]: # iterate across individual genotypes within a locus\n",
    "    ind_maf_dict = {} # initiate dictionary to store allele frequencies\n",
    "    locus = locusrow[0]\n",
    "    locus_list.append(locus)\n",
    "    genlist = locusrow[1:]\n",
    "    gencount = 0 # initiate counter for number of genotypes that aren't missing data\n",
    "    for genotype in genlist:\n",
    "        if genotype != \"0000\":\n",
    "            gencount += 1\n",
    "            allele_list = [genotype[0:2],genotype[2:4]] # assumes your genotypes are two digit format\n",
    "            for allele in allele_list:\n",
    "                if allele not in ind_maf_dict:\n",
    "                    ind_maf_dict[allele] = 1\n",
    "                if allele in ind_maf_dict:\n",
    "                    oldcount = ind_maf_dict[allele]\n",
    "                    newcount = oldcount + 1\n",
    "                    ind_maf_dict[allele] = newcount\n",
    "    all_maf_dict[locus] = []\n",
    "    alleles = ind_maf_dict.keys()\n",
    "    num_alleles = len(alleles)\n",
    "    total_count = sum(ind_maf_dict.values())\n",
    "    for allele in alleles:\n",
    "        count = ind_maf_dict[allele]\n",
    "        maf = float(count)/float(total_count)\n",
    "        maf_list = all_maf_dict[locus]\n",
    "        maf_list.append(maf)\n",
    "        all_maf_dict[locus] = maf_list\n",
    "\n",
    "print all_maf_dict.values()[0:9]"
   ]
  },
  {
   "cell_type": "code",
   "execution_count": 34,
   "metadata": {
    "collapsed": false,
    "deletable": true,
    "editable": true
   },
   "outputs": [
    {
     "name": "stdout",
     "output_type": "stream",
     "text": [
      "0\n",
      "All of your SNPs have no more than two alleles. Hooray for biallelic data.\n"
     ]
    }
   ],
   "source": [
    "# checking to see if all biallelic\n",
    "\n",
    "count = 0\n",
    "for item in all_maf_dict.values():\n",
    "    length = len(item)\n",
    "    if length > 2:\n",
    "        count += 1\n",
    "print count\n",
    "if count == 0:\n",
    "    print \"All of your SNPs have no more than two alleles. Hooray for biallelic data.\"\n",
    "\n",
    "# 0 means no SNPs had more than two alleles"
   ]
  },
  {
   "cell_type": "code",
   "execution_count": 35,
   "metadata": {
    "collapsed": false,
    "deletable": true,
    "editable": true
   },
   "outputs": [
    {
     "name": "stdout",
     "output_type": "stream",
     "text": [
      "You found 1055 SNPs with a MAF higher than .2\n",
      "\n",
      "These SNPs occurred in 810 RAD tags.\n"
     ]
    },
    {
     "data": {
      "image/png": "[encoded data removed]",
      "text/plain": [
       "<matplotlib.figure.Figure at 0x7f88b67cbf50>"
      ]
     },
     "metadata": {},
     "output_type": "display_data"
    }
   ],
   "source": [
    "import matplotlib.pyplot as plt\n",
    "import numpy as np\n",
    "\n",
    "maf_list = []\n",
    "RADtag_list = [] # for RAD tags with at least one SNP MAF greater than .2\n",
    "count = 0\n",
    "\n",
    "for SNP in kept_SNP_names:\n",
    "    snplist = SNP.split(\"_\")\n",
    "    RADtag = snplist[0]\n",
    "    afs = all_maf_dict[SNP]\n",
    "    afs.sort()\n",
    "    maf_list.append(afs[0])\n",
    "    if afs[0] > .2:\n",
    "        count += 1\n",
    "        if RADtag not in RADtag_list:\n",
    "            RADtag_list.append(RADtag)\n",
    "        \n",
    "print \"You found \" + str(count) + \" SNPs with a MAF higher than .2\"\n",
    "\n",
    "print \"\\nThese SNPs occurred in \" + str(len(RADtag_list)) + \" RAD tags.\"\n",
    "    \n",
    "plt.hist(maf_list, np.arange(0,max(maf_list)+1,.02)-.01)\n",
    "plt.suptitle(\"Distribution of MAF for SNPs in RAD tags \\n with no variation in the first or last 30 bp\")\n",
    "plt.xlabel(\"Minor allele frequency\")\n",
    "plt.ylabel(\"Frequency\")\n",
    "plt.show()  "
   ]
  },
  {
   "cell_type": "markdown",
   "metadata": {
    "deletable": true,
    "editable": true
   },
   "source": [
    "## Filtering for Fis\n",
    "\n",
    "Fis is a measure of departure from Hardy Weinberg Equilibrium. We want to filter out those that deviate much from 0. I now realize that my across populations Fis plots are buggy, so going to rerun hierfstat appropriately and update those Fis plots elsewhere in my analyses and notebooks.\n",
    "\n",
    "**20170420**\n",
    "<br>Finished debugging. The new improved plots look like this:\n",
    "\n",
    "![image](https://github.com/nclowell/RAD_Scallops/blob/master/CRAGIG_run1/Analyses/Fis/snp_fis_across_pops_20170420.png?raw=true)\n",
    "\n",
    "![image](https://github.com/nclowell/RAD_Scallops/blob/master/CRAGIG_run1/Analyses/Fis/hap_fis_across_pops_20170420.png?raw=true)\n",
    "\n",
    "So, to filter for Fis, I should get Fis values for the selected loci that are in RAD tags without variation in first or last 30 base pairs and plot their distribution."
   ]
  },
  {
   "cell_type": "code",
   "execution_count": 36,
   "metadata": {
    "collapsed": false,
    "deletable": true,
    "editable": true
   },
   "outputs": [
    {
     "name": "stdout",
     "output_type": "stream",
     "text": [
      "/mnt/hgfs/SHARED_FOLDER/WorkingFolder\n"
     ]
    }
   ],
   "source": [
    "cd /mnt/hgfs/SHARED_FOLDER/WorkingFolder"
   ]
  },
  {
   "cell_type": "code",
   "execution_count": 37,
   "metadata": {
    "collapsed": false,
    "deletable": true,
    "editable": true
   },
   "outputs": [],
   "source": [
    "# import Fis information for SNPs\n",
    "snps_all_fis_file = open(\"fis_snps_postfilter_allpops_20170418.csv\")\n",
    "snps_all_fis_lines = snps_all_fis_file.readlines()\n",
    "snps_all_fis_lines = snps_all_fis_lines[1:]\n",
    "snps_all_fis_file.close()"
   ]
  },
  {
   "cell_type": "code",
   "execution_count": 38,
   "metadata": {
    "collapsed": false,
    "deletable": true,
    "editable": true
   },
   "outputs": [],
   "source": [
    "snp_name_fis_list = []\n",
    "for line in snps_all_fis_lines:\n",
    "    linelist = line.strip().split(\",\")\n",
    "    snp_name = linelist[0]\n",
    "    fis = float(linelist[1])\n",
    "    sublist = [snp_name, fis]\n",
    "    snp_name_fis_list.append(sublist)"
   ]
  },
  {
   "cell_type": "code",
   "execution_count": 39,
   "metadata": {
    "collapsed": false,
    "deletable": true,
    "editable": true
   },
   "outputs": [
    {
     "name": "stdout",
     "output_type": "stream",
     "text": [
      "[['5_137', 0.5765], ['13_72', 0.1196], ['20_52', 0.5264], ['20_59', 0.5511]]\n"
     ]
    }
   ],
   "source": [
    "print snp_name_fis_list[0:4]"
   ]
  },
  {
   "cell_type": "code",
   "execution_count": 42,
   "metadata": {
    "collapsed": false,
    "deletable": true,
    "editable": true
   },
   "outputs": [],
   "source": [
    "fis_30 = []\n",
    "\n",
    "for SNP in kept_SNP_names:\n",
    "    for sublist in snp_name_fis_list:\n",
    "        if sublist[0] == SNP:\n",
    "            fis_30.append(sublist[1])"
   ]
  },
  {
   "cell_type": "code",
   "execution_count": 48,
   "metadata": {
    "collapsed": false,
    "deletable": true,
    "editable": true
   },
   "outputs": [
    {
     "data": {
      "text/plain": [
       "[0.1196,\n",
       " 0.5264,\n",
       " 0.5511,\n",
       " -0.0957,\n",
       " 0.1881,\n",
       " -0.0847,\n",
       " 0.445,\n",
       " -0.0579,\n",
       " -0.0579,\n",
       " 0.1702,\n",
       " -0.134,\n",
       " -0.0755,\n",
       " 0.4698,\n",
       " -0.0556,\n",
       " -0.0909,\n",
       " -0.1589,\n",
       " 0.1998,\n",
       " 0.3077,\n",
       " 0.3641]"
      ]
     },
     "execution_count": 48,
     "metadata": {},
     "output_type": "execute_result"
    }
   ],
   "source": [
    "fis_30[0:19]"
   ]
  },
  {
   "cell_type": "code",
   "execution_count": 53,
   "metadata": {
    "collapsed": false,
    "deletable": true,
    "editable": true
   },
   "outputs": [
    {
     "data": {
      "image/png": "[encoded data removed]",
      "text/plain": [
       "<matplotlib.figure.Figure at 0x7f88b38aac50>"
      ]
     },
     "metadata": {},
     "output_type": "display_data"
    }
   ],
   "source": [
    "plt.hist(fis_30, np.arange(-1,max(fis_30),.02)-.01)\n",
    "plt.suptitle(\"Distribution of Fis for SNPs in RAD tags \\n with no variation in the first or last 30 bp\")\n",
    "plt.xlabel(\"Fis\")\n",
    "plt.ylabel(\"Frequency\")\n",
    "plt.show()  "
   ]
  },
  {
   "cell_type": "code",
   "execution_count": null,
   "metadata": {
    "collapsed": true,
    "deletable": true,
    "editable": true
   },
   "outputs": [],
   "source": []
  }
 ],
 "metadata": {
  "kernelspec": {
   "display_name": "Python 2",
   "language": "python",
   "name": "python2"
  },
  "language_info": {
   "codemirror_mode": {
    "name": "ipython",
    "version": 2
   },
   "file_extension": ".py",
   "mimetype": "text/x-python",
   "name": "python",
   "nbconvert_exporter": "python",
   "pygments_lexer": "ipython2",
   "version": "2.7.12"
  }
 },
 "nbformat": 4,
 "nbformat_minor": 2
}
