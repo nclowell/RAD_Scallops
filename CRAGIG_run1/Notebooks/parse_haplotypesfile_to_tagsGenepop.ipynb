{
 "cells": [
  {
   "cell_type": "markdown",
   "metadata": {},
   "source": [
    "## Make Tags Genepop\n",
    "\n",
    "I needed to make my Genepop by locus because I'm trying to capture the heavily multi-allelic data in my scallop run. \n",
    "\n",
    "The script is pretty heavy, so it's worth outlining how it works here.\n",
    "\n",
    "* Builds dictionary with each locus as key and a sorted unique list of haplotypes as value\n",
    "* Pulls out the genotypes, makes them an array, transposes them\n",
    "* Replaces \"-\" with \"0000\" for missing data\n",
    "* Checks to see if homozygote, heterozygote, or more alleles than 2\n",
    " * for homozygotes, checks to see what index the allele is in the dictionary and codes it as the index + 1, and adds leading zero if necessary\n",
    " * for heterozygotes, same applies except merges two by removing \"/\" from file\n",
    " * for loci with more than three alleles, replaces with \"0000\" and counts how many there were\n",
    "* Pulls information from population map to appropriately block out populations in Genepop file\n",
    "\n",
    "Here's where the script lives, and example code:"
   ]
  },
  {
   "cell_type": "code",
   "execution_count": null,
   "metadata": {
    "collapsed": true
   },
   "outputs": [],
   "source": []
  }
 ],
 "metadata": {
  "kernelspec": {
   "display_name": "Python 2",
   "language": "python",
   "name": "python2"
  },
  "language_info": {
   "codemirror_mode": {
    "name": "ipython",
    "version": 2
   },
   "file_extension": ".py",
   "mimetype": "text/x-python",
   "name": "python",
   "nbconvert_exporter": "python",
   "pygments_lexer": "ipython2",
   "version": "2.7.12"
  }
 },
 "nbformat": 4,
 "nbformat_minor": 2
}
