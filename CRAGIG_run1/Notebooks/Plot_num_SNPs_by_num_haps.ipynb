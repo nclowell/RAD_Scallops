{
 "cells": [
  {
   "cell_type": "markdown",
   "metadata": {},
   "source": [
    "### # SNPs by # Haplotypes\n",
    "\n",
    "This python script takes a haplotypes file out of ``populations`` and plots the number of SNPs by the number of haplotypes. I am writing this script because my first batch of scallop data produced very few biallelic loci. This was a surprise to me, as someone new to shellfish genetics, but after poking around the literature, makes a bit of sense. I wanted to get a better handle on how many haplotypes I was getting compared to how many SNPs within a locus. \n",
    "\n",
    "Here's a [link](https://github.com/nclowell/RAD_Scallops/blob/master/CRAGIG_run1/Scripts/snpN_hapN.py) to the script."
   ]
  },
  {
   "cell_type": "code",
   "execution_count": 2,
   "metadata": {
    "collapsed": false
   },
   "outputs": [
    {
     "name": "stdout",
     "output_type": "stream",
     "text": [
      "/mnt/hgfs/Data_for_Analysis/WorkingFolder\n"
     ]
    }
   ],
   "source": [
    "cd /mnt/hgfs/Data_for_Analysis/WorkingFolder"
   ]
  },
  {
   "cell_type": "code",
   "execution_count": 7,
   "metadata": {
    "collapsed": false
   },
   "outputs": [
    {
     "name": "stdout",
     "output_type": "stream",
     "text": [
      "<matplotlib.figure.Figure at 0x7f86e81e9290>\r\n"
     ]
    }
   ],
   "source": [
    "!python snpN_hapN.py pstacks/batch_100.haplotypes.tsv"
   ]
  },
  {
   "cell_type": "markdown",
   "metadata": {},
   "source": [
    "![image](https://github.com/nclowell/RAD_Scallops/blob/master/CRAGIG_run1/Notebooks/images_for_notebook/snps_by_haps.png?raw=true)"
   ]
  }
 ],
 "metadata": {
  "kernelspec": {
   "display_name": "Python 2",
   "language": "python",
   "name": "python2"
  },
  "language_info": {
   "codemirror_mode": {
    "name": "ipython",
    "version": 2
   },
   "file_extension": ".py",
   "mimetype": "text/x-python",
   "name": "python",
   "nbconvert_exporter": "python",
   "pygments_lexer": "ipython2",
   "version": "2.7.12"
  }
 },
 "nbformat": 4,
 "nbformat_minor": 2
}
