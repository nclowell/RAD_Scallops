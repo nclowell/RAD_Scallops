{
 "cells": [
  {
   "cell_type": "markdown",
   "metadata": {
    "deletable": true,
    "editable": true
   },
   "source": [
    "## Getting a grip on minor allele frequenecs for multiallelic data\n",
    "\n",
    "I want to better understand the distribution of frequencies of minor alleles.\n",
    "\n",
    "Specific things to explore:\n",
    "- average number of reads per locus in individual\n",
    "- for loci with two or more alleles in an individual, frequency of minor alleles"
   ]
  },
  {
   "cell_type": "code",
   "execution_count": 1,
   "metadata": {
    "collapsed": false,
    "deletable": true,
    "editable": true
   },
   "outputs": [
    {
     "name": "stdout",
     "output_type": "stream",
     "text": [
      "/mnt/hgfs/SHARED_FOLDER/WorkingFolder/Stacks_2\n"
     ]
    }
   ],
   "source": [
    "cd /mnt/hgfs/SHARED_FOLDER/WorkingFolder/Stacks_2"
   ]
  },
  {
   "cell_type": "code",
   "execution_count": 2,
   "metadata": {
    "collapsed": true,
    "deletable": true,
    "editable": true
   },
   "outputs": [],
   "source": [
    "ind_all = open(\"FG001.alleles.tsv\", \"r\")\n",
    "lines = ind_all.readlines()[1:] # get rid of header\n",
    "\n",
    "biglist_for_array = []\n",
    "for line in lines:\n",
    "    linelist = line.strip().split()[2:] # exclude first two columns, not useful info\n",
    "    biglist_for_array.append(linelist) # make list of lists for array"
   ]
  },
  {
   "cell_type": "code",
   "execution_count": 3,
   "metadata": {
    "collapsed": true,
    "deletable": true,
    "editable": true
   },
   "outputs": [],
   "source": [
    "import numpy as np"
   ]
  },
  {
   "cell_type": "code",
   "execution_count": 4,
   "metadata": {
    "collapsed": false,
    "deletable": true,
    "editable": true
   },
   "outputs": [
    {
     "name": "stdout",
     "output_type": "stream",
     "text": [
      "[['6' 'A' '30.00' '3']\n",
      " ['6' 'C' '70.00' '7']\n",
      " ['13' 'C' '45.66' '205']\n",
      " ['13' 'T' '54.34' '244']\n",
      " ['18' 'CCA' '34.76' '65']\n",
      " ['18' 'TTA' '0.53' '1']\n",
      " ['18' 'TTG' '64.71' '121']\n",
      " ['21' 'A' '57.02' '134']\n",
      " ['21' 'C' '42.55' '100']]\n"
     ]
    }
   ],
   "source": [
    "r = np.array(biglist_for_array) # convert to array\n",
    "print r[0:9,] # check"
   ]
  },
  {
   "cell_type": "markdown",
   "metadata": {
    "deletable": true,
    "editable": true
   },
   "source": [
    "## Find out how many alleles possible per genotype in this individual"
   ]
  },
  {
   "cell_type": "code",
   "execution_count": 5,
   "metadata": {
    "collapsed": false,
    "deletable": true,
    "editable": true
   },
   "outputs": [
    {
     "name": "stdout",
     "output_type": "stream",
     "text": [
      "['6', '13', '18', '21', '32', '35', '41', '42', '54']\n",
      "\n",
      "Your file has 4958 loci.\n"
     ]
    }
   ],
   "source": [
    "all_locus_names = [] # get locus names, incl redundant\n",
    "for row in r:\n",
    "    locus_name = row[0]\n",
    "    all_locus_names.append(locus_name)\n",
    "    \n",
    "unique_locus_names = [] # just unique locus names in order\n",
    "for name in all_locus_names:\n",
    "    if name not in unique_locus_names:\n",
    "        unique_locus_names.append(name) \n",
    "print unique_locus_names[0:9] # print first few to check\n",
    "\n",
    "num_loci = len(unique_locus_names)\n",
    "print \"\\nYour file has \" + str(num_loci) + \" loci.\" # report num loci"
   ]
  },
  {
   "cell_type": "code",
   "execution_count": 6,
   "metadata": {
    "collapsed": false,
    "deletable": true,
    "editable": true
   },
   "outputs": [
    {
     "name": "stdout",
     "output_type": "stream",
     "text": [
      "['6', '6', '13', '13', '18', '18', '18', '21', '21', '32', '32', '35', '35', '41']\n"
     ]
    }
   ],
   "source": [
    "print all_locus_names[0:14]"
   ]
  },
  {
   "cell_type": "code",
   "execution_count": 7,
   "metadata": {
    "collapsed": false,
    "deletable": true,
    "editable": true
   },
   "outputs": [
    {
     "name": "stdout",
     "output_type": "stream",
     "text": [
      "[['6' 'A' '30.00' '3']\n",
      " ['6' 'C' '70.00' '7']]\n"
     ]
    }
   ],
   "source": [
    "index_list = []\n",
    "for locus in unique_locus_names:\n",
    "    indeces = [i for i, x in enumerate(all_locus_names) if x == locus]\n",
    "    index_list.append(indeces)\n",
    "\n",
    "list_arrays_bytag = []\n",
    "for indeces in index_list:\n",
    "    miniarray = r[indeces]\n",
    "    list_arrays_bytag.append(miniarray)\n",
    "\n",
    "print list_arrays_bytag[0]"
   ]
  },
  {
   "cell_type": "code",
   "execution_count": 8,
   "metadata": {
    "collapsed": false,
    "deletable": true,
    "editable": true
   },
   "outputs": [
    {
     "name": "stdout",
     "output_type": "stream",
     "text": [
      "[2, 2, 3, 2, 2, 2, 2, 2, 3, 2, 3, 3, 2, 3, 2, 2, 3, 2, 2]\n"
     ]
    }
   ],
   "source": [
    "allele_counts = []\n",
    "for array in list_arrays_bytag:\n",
    "    count = array.shape[0]\n",
    "    allele_counts.append(count)\n",
    "\n",
    "print allele_counts[0:19]"
   ]
  },
  {
   "cell_type": "markdown",
   "metadata": {
    "deletable": true,
    "editable": true
   },
   "source": [
    "## Histogram of allele counts within individual"
   ]
  },
  {
   "cell_type": "code",
   "execution_count": 9,
   "metadata": {
    "collapsed": true,
    "deletable": true,
    "editable": true
   },
   "outputs": [],
   "source": [
    "import matplotlib.pyplot as plt"
   ]
  },
  {
   "cell_type": "code",
   "execution_count": 10,
   "metadata": {
    "collapsed": false,
    "deletable": true,
    "editable": true
   },
   "outputs": [
    {
     "data": {
      "image/png": "[encoded data removed]",
      "text/plain": [
       "<matplotlib.figure.Figure at 0x7f4ccd3273d0>"
      ]
     },
     "metadata": {},
     "output_type": "display_data"
    }
   ],
   "source": [
    "plt.hist(allele_counts, bins=np.arange(10)-0.5)\n",
    "plt.xticks(range(9))\n",
    "plt.suptitle(\"Number of alleles at genotype within scallop FG001\")\n",
    "plt.xlabel(\"Number of alleles of individual genotype\")\n",
    "plt.ylabel(\"Frequency\")\n",
    "plt.show()"
   ]
  },
  {
   "cell_type": "markdown",
   "metadata": {
    "collapsed": true,
    "deletable": true,
    "editable": true
   },
   "source": [
    "## Get rank allele frequencies for all genotypes with 2,3,4,5 alleles, respectively\n",
    "\n",
    "Start with those that just have 3 alleles.\n",
    "\n",
    "* Get indeces in allele counts with 3, then get same locus names with those indeces out of the unique_locus_names list\n",
    "* Get allele frequency, which is the column after the haplotype sequence, divided by 100\n",
    "* Make a list for every tag: first item = locus name, next items are rank decreasing allele frequencies"
   ]
  },
  {
   "cell_type": "code",
   "execution_count": 11,
   "metadata": {
    "collapsed": false
   },
   "outputs": [
    {
     "name": "stdout",
     "output_type": "stream",
     "text": [
      "[2, 8, 10, 11, 13, 16, 29, 37, 61]\n"
     ]
    }
   ],
   "source": [
    "# get indeces in allele counts that have 3 alleles\n",
    "three_al_inds = [i for i, x in enumerate(allele_counts) if x == 3]\n",
    "\n",
    "# check\n",
    "print three_al_inds[0:9]"
   ]
  },
  {
   "cell_type": "code",
   "execution_count": 12,
   "metadata": {
    "collapsed": false
   },
   "outputs": [
    {
     "name": "stdout",
     "output_type": "stream",
     "text": [
      "['18' '54' '61' '64' '69' '87' '129' '164' '288']\n"
     ]
    }
   ],
   "source": [
    "# get tags that match these indeces\n",
    "names_array = np.array(unique_locus_names)\n",
    "tags_w_3 = names_array[three_al_inds]\n",
    "\n",
    "# check\n",
    "print tags_w_3[0:9]"
   ]
  },
  {
   "cell_type": "code",
   "execution_count": 13,
   "metadata": {
    "collapsed": true
   },
   "outputs": [],
   "source": [
    "list_of_locus_and_afs = []"
   ]
  },
  {
   "cell_type": "code",
   "execution_count": 17,
   "metadata": {
    "collapsed": false
   },
   "outputs": [
    {
     "name": "stdout",
     "output_type": "stream",
     "text": [
      "[['18', 0.6470999999999999, 0.34759999999999996, 0.0053], ['54', 0.7347, 0.2551, 0.0102], ['61', 0.7368000000000001, 0.2566, 0.0066], ['64', 0.5213, 0.4692, 0.0095], ['69', 0.5508, 0.4439, 0.0053]]\n"
     ]
    }
   ],
   "source": [
    "for index in three_al_inds:\n",
    "    tag_array = list_arrays_bytag[index]\n",
    "    tag_list = []\n",
    "    tagname = tag_array[0,0]\n",
    "    tag_list.append(tagname)\n",
    "    af_list = []\n",
    "    for row in tag_array:\n",
    "        af = float(row[2])/float(100)\n",
    "        af_list.append(af)\n",
    "    af_list = sorted(af_list, reverse = True) # sort in decreasing\n",
    "    for af in af_list:\n",
    "        tag_list.append(af)\n",
    "    list_of_locus_and_afs.append(tag_list)\n",
    "    \n",
    "# check\n",
    "print list_of_locus_and_afs[0:5]"
   ]
  },
  {
   "cell_type": "code",
   "execution_count": 18,
   "metadata": {
    "collapsed": false
   },
   "outputs": [
    {
     "name": "stdout",
     "output_type": "stream",
     "text": [
      "[['18' '54' '61' '64' '69' '87' '129' '164' '288']\n",
      " ['0.6471' '0.7347' '0.7368' '0.5213' '0.5508' '0.5537' '0.5351' '0.6452'\n",
      "  '0.6056']\n",
      " ['0.3476' '0.2551' '0.2566' '0.4692' '0.4439' '0.443' '0.4386' '0.3427'\n",
      "  '0.3833']\n",
      " ['0.0053' '0.0102' '0.0066' '0.0095' '0.0053' '0.0034' '0.0263' '0.004'\n",
      "  '0.0056']]\n"
     ]
    }
   ],
   "source": [
    "array_afs = np.array(list_of_locus_and_afs)\n",
    "tarray_afs = array_afs.transpose()\n",
    "\n",
    "# check\n",
    "print tarray_afs[0:4,0:9]"
   ]
  },
  {
   "cell_type": "code",
   "execution_count": 27,
   "metadata": {
    "collapsed": false
   },
   "outputs": [],
   "source": [
    "array_subset = tarray_afs[1:]\n",
    "array_subset_float = array_subset.astype(np.float)\n",
    "\n",
    "plotlist = []\n",
    "for row in array_subset_float:\n",
    "    sublist = []\n",
    "    newrow = row.astype(np.float)\n",
    "    plotlist.append(list(newrow))"
   ]
  },
  {
   "cell_type": "code",
   "execution_count": 29,
   "metadata": {
    "collapsed": false
   },
   "outputs": [
    {
     "data": {
      "image/png": "[encoded data removed]",
      "text/plain": [
       "<matplotlib.figure.Figure at 0x7f4ccae1d290>"
      ]
     },
     "metadata": {},
     "output_type": "display_data"
    }
   ],
   "source": [
    "# plot with matplotlib pyplot\n",
    "plt.boxplot(plotlist) # multiple box plots with list of lists\n",
    "num_rows = tarray_afs.shape[0]\n",
    "plt.xticks(range(1,num_rows),['Major allele','First minor allele','Second minor allele']) # label x axis with population names\n",
    "plt.ylabel('Allele frequency') # axis label\n",
    "plt.suptitle('Rank decreasing allele frequencies for\\ngenotypes with three alleles') # title\n",
    "plt.show() # show plot"
   ]
  },
  {
   "cell_type": "markdown",
   "metadata": {},
   "source": [
    "## Now those with 2 alleles"
   ]
  },
  {
   "cell_type": "code",
   "execution_count": 31,
   "metadata": {
    "collapsed": false
   },
   "outputs": [
    {
     "name": "stdout",
     "output_type": "stream",
     "text": [
      "[0, 1, 3, 4, 5, 6, 7, 9, 12]\n",
      "['6' '13' '21' '32' '35' '41' '42' '59' '65']\n"
     ]
    }
   ],
   "source": [
    "# get indeces in allele counts that have 3 alleles\n",
    "two_al_inds = [i for i, x in enumerate(allele_counts) if x == 2]\n",
    "\n",
    "# check\n",
    "print two_al_inds[0:9]\n",
    "\n",
    "# get tags that match these indeces\n",
    "names_array = np.array(unique_locus_names)\n",
    "tags_w_2 = names_array[two_al_inds]\n",
    "\n",
    "# check\n",
    "print tags_w_2[0:9]\n",
    "\n",
    "# initiate list to store locus names and allele frequencies\n",
    "list_of_locus_and_afs = []"
   ]
  },
  {
   "cell_type": "code",
   "execution_count": 34,
   "metadata": {
    "collapsed": false
   },
   "outputs": [
    {
     "data": {
      "image/png": "[encoded data removed]",
      "text/plain": [
       "<matplotlib.figure.Figure at 0x7f4ccad29110>"
      ]
     },
     "metadata": {},
     "output_type": "display_data"
    }
   ],
   "source": [
    "for index in two_al_inds:\n",
    "    tag_array = list_arrays_bytag[index]\n",
    "    tag_list = []\n",
    "    tagname = tag_array[0,0]\n",
    "    tag_list.append(tagname)\n",
    "    af_list = []\n",
    "    for row in tag_array:\n",
    "        af = float(row[2])/float(100)\n",
    "        af_list.append(af)\n",
    "    af_list = sorted(af_list, reverse = True) # sort in decreasing\n",
    "    for af in af_list:\n",
    "        tag_list.append(af)\n",
    "    list_of_locus_and_afs.append(tag_list)\n",
    "\n",
    "array_afs = np.array(list_of_locus_and_afs)\n",
    "tarray_afs = array_afs.transpose()\n",
    "\n",
    "array_subset = tarray_afs[1:]\n",
    "array_subset_float = array_subset.astype(np.float)\n",
    "\n",
    "plotlist = []\n",
    "for row in array_subset_float:\n",
    "    sublist = []\n",
    "    newrow = row.astype(np.float)\n",
    "    plotlist.append(list(newrow))\n",
    "# plot with matplotlib pyplot\n",
    "plt.boxplot(plotlist) # multiple box plots with list of lists\n",
    "num_rows = tarray_afs.shape[0]\n",
    "plt.xticks(range(1,num_rows),['Major allele','Minor allele'])\n",
    "plt.ylabel('Allele frequency') # axis label\n",
    "plt.suptitle('Rank decreasing allele frequencies for\\ngenotypes with two alleles') # title\n",
    "plt.show() # show plot"
   ]
  },
  {
   "cell_type": "markdown",
   "metadata": {},
   "source": [
    "## Now with 4 alleles"
   ]
  },
  {
   "cell_type": "code",
   "execution_count": 36,
   "metadata": {
    "collapsed": false
   },
   "outputs": [
    {
     "name": "stdout",
     "output_type": "stream",
     "text": [
      "[151, 228, 286, 346, 404, 551, 556, 663, 945]\n",
      "['609' '916' '1196' '1453' '1719' '2365' '2383' '2830' '4008']\n"
     ]
    }
   ],
   "source": [
    "# get indeces in allele counts that have 3 alleles\n",
    "four_al_inds = [i for i, x in enumerate(allele_counts) if x == 4]\n",
    "\n",
    "# check\n",
    "print four_al_inds[0:9]\n",
    "\n",
    "# get tags that match these indeces\n",
    "names_array = np.array(unique_locus_names)\n",
    "tags_w_4 = names_array[four_al_inds]\n",
    "\n",
    "# check\n",
    "print tags_w_4[0:9]\n",
    "\n",
    "# initiate list to store locus names and allele frequencies\n",
    "list_of_locus_and_afs = []"
   ]
  },
  {
   "cell_type": "code",
   "execution_count": 37,
   "metadata": {
    "collapsed": false
   },
   "outputs": [
    {
     "data": {
      "image/png": "[encoded data removed]",
      "text/plain": [
       "<matplotlib.figure.Figure at 0x7f4ccad7cb50>"
      ]
     },
     "metadata": {},
     "output_type": "display_data"
    }
   ],
   "source": [
    "for index in four_al_inds:\n",
    "    tag_array = list_arrays_bytag[index]\n",
    "    tag_list = []\n",
    "    tagname = tag_array[0,0]\n",
    "    tag_list.append(tagname)\n",
    "    af_list = []\n",
    "    for row in tag_array:\n",
    "        af = float(row[2])/float(100)\n",
    "        af_list.append(af)\n",
    "    af_list = sorted(af_list, reverse = True) # sort in decreasing\n",
    "    for af in af_list:\n",
    "        tag_list.append(af)\n",
    "    list_of_locus_and_afs.append(tag_list)\n",
    "\n",
    "array_afs = np.array(list_of_locus_and_afs)\n",
    "tarray_afs = array_afs.transpose()\n",
    "\n",
    "array_subset = tarray_afs[1:]\n",
    "array_subset_float = array_subset.astype(np.float)\n",
    "\n",
    "plotlist = []\n",
    "for row in array_subset_float:\n",
    "    sublist = []\n",
    "    newrow = row.astype(np.float)\n",
    "    plotlist.append(list(newrow))\n",
    "# plot with matplotlib pyplot\n",
    "plt.boxplot(plotlist) # multiple box plots with list of lists\n",
    "num_rows = tarray_afs.shape[0]\n",
    "plt.xticks(range(1,num_rows),['Major allele','1st Minor allele','2nd Minor allele', '3rd Minor allele'])\n",
    "plt.ylabel('Allele frequency') # axis label\n",
    "plt.suptitle('Rank decreasing allele frequencies for\\ngenotypes with four alleles') # title\n",
    "plt.show() # show plot"
   ]
  },
  {
   "cell_type": "markdown",
   "metadata": {},
   "source": [
    "## Now with 5 alleles"
   ]
  },
  {
   "cell_type": "code",
   "execution_count": 38,
   "metadata": {
    "collapsed": false
   },
   "outputs": [
    {
     "name": "stdout",
     "output_type": "stream",
     "text": [
      "[1383, 1620, 1690, 2023, 2510, 2513, 2747, 3030, 3035]\n",
      "['5686' '6478' '6705' '7932' '9549' '9556' '10283' '11131' '11151']\n"
     ]
    }
   ],
   "source": [
    "# get indeces in allele counts that have 3 alleles\n",
    "five_al_inds = [i for i, x in enumerate(allele_counts) if x == 5]\n",
    "\n",
    "# check\n",
    "print five_al_inds[0:9]\n",
    "\n",
    "# get tags that match these indeces\n",
    "names_array = np.array(unique_locus_names)\n",
    "tags_w_5 = names_array[five_al_inds]\n",
    "\n",
    "# check\n",
    "print tags_w_5[0:9]\n",
    "\n",
    "# initiate list to store locus names and allele frequencies\n",
    "list_of_locus_and_afs = []"
   ]
  },
  {
   "cell_type": "code",
   "execution_count": 39,
   "metadata": {
    "collapsed": false
   },
   "outputs": [
    {
     "data": {
      "image/png": "[encoded data removed]",
      "text/plain": [
       "<matplotlib.figure.Figure at 0x7f4ccb2a8750>"
      ]
     },
     "metadata": {},
     "output_type": "display_data"
    }
   ],
   "source": [
    "for index in five_al_inds:\n",
    "    tag_array = list_arrays_bytag[index]\n",
    "    tag_list = []\n",
    "    tagname = tag_array[0,0]\n",
    "    tag_list.append(tagname)\n",
    "    af_list = []\n",
    "    for row in tag_array:\n",
    "        af = float(row[2])/float(100)\n",
    "        af_list.append(af)\n",
    "    af_list = sorted(af_list, reverse = True) # sort in decreasing\n",
    "    for af in af_list:\n",
    "        tag_list.append(af)\n",
    "    list_of_locus_and_afs.append(tag_list)\n",
    "\n",
    "array_afs = np.array(list_of_locus_and_afs)\n",
    "tarray_afs = array_afs.transpose()\n",
    "\n",
    "array_subset = tarray_afs[1:]\n",
    "array_subset_float = array_subset.astype(np.float)\n",
    "\n",
    "plotlist = []\n",
    "for row in array_subset_float:\n",
    "    sublist = []\n",
    "    newrow = row.astype(np.float)\n",
    "    plotlist.append(list(newrow))\n",
    "# plot with matplotlib pyplot\n",
    "plt.boxplot(plotlist) # multiple box plots with list of lists\n",
    "num_rows = tarray_afs.shape[0]\n",
    "plt.xticks(range(1,num_rows),['Major allele','1st Minor allele','2nd Minor allele', '3rd Minor allele','4th Minor allele'])\n",
    "plt.ylabel('Allele frequency') # axis label\n",
    "plt.suptitle('Rank decreasing allele frequencies for\\ngenotypes with five alleles') # title\n",
    "plt.show() # show plot"
   ]
  },
  {
   "cell_type": "code",
   "execution_count": null,
   "metadata": {
    "collapsed": true
   },
   "outputs": [],
   "source": []
  }
 ],
 "metadata": {
  "kernelspec": {
   "display_name": "Python 2",
   "language": "python",
   "name": "python2"
  },
  "language_info": {
   "codemirror_mode": {
    "name": "ipython",
    "version": 2
   },
   "file_extension": ".py",
   "mimetype": "text/x-python",
   "name": "python",
   "nbconvert_exporter": "python",
   "pygments_lexer": "ipython2",
   "version": "2.7.12"
  }
 },
 "nbformat": 4,
 "nbformat_minor": 2
}
