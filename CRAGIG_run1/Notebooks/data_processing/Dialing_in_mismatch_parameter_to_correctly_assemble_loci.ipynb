{
 "cells": [
  {
   "cell_type": "markdown",
   "metadata": {
    "deletable": true,
    "editable": true
   },
   "source": [
    "# Dialing in mismatch parameter to correctly assemble loci\n",
    "\n",
    "\n",
    "**20170501**\n",
    "\n",
    "I need to resolve this splitting loci problem - going to rerun ``ustacks`` using higher mismatch parameters given the number of mismatches I see in really similar sequences that my first run of the pipeline split into different loci. I'm going to do it on just a subset of the samples:\n",
    "\n",
    "```\n",
    "FG009\tWA_Strait\n",
    "FG001\tWA_Strait\n",
    "FG102_B\tWA_SanJuans\n",
    "FG100_B\tWA_SanJuans\n",
    "FG205\tWA_Dabob\n",
    "FG212\tWA_Dabob\n",
    "Q324\tAK\n",
    "Q314\tAK\n",
    "Q339\tCA_Catalina\n",
    "Q330\tCA_Catalina\n",
    "```\n",
    "\n",
    "And, I'll do it with mismatch parameter values of 7, 10, and 13.\n"
   ]
  },
  {
   "cell_type": "markdown",
   "metadata": {},
   "source": [
    "## Mismatch parameter 3\n",
    "I used this parameter value in my first iteration of the Stacks pipeline, in this [notebook](https://github.com/nclowell/RAD_Scallops/blob/master/CRAGIG_run1/Notebooks/data_processing/CRAGIG_RUN1.ipynb).\n",
    "\n",
    "#### ``ustacks``\n",
    "\n",
    "I used my ``easy_ustacks`` script to run ``ustacks``, but outside of the notebook because it's interactive in the terminal."
   ]
  },
  {
   "cell_type": "code",
   "execution_count": 3,
   "metadata": {
    "collapsed": false,
    "deletable": true,
    "editable": true
   },
   "outputs": [
    {
     "name": "stdout",
     "output_type": "stream",
     "text": [
      "/mnt/hgfs/SHARED_FOLDER/Git_repo/CRAGIG_run1/Scripts\n"
     ]
    }
   ],
   "source": [
    "cd /mnt/hgfs/SHARED_FOLDER/Git_repo/CRAGIG_run1/Scripts"
   ]
  },
  {
   "cell_type": "code",
   "execution_count": 5,
   "metadata": {
    "collapsed": false,
    "deletable": true,
    "editable": true,
    "scrolled": true
   },
   "outputs": [
    {
     "name": "stdout",
     "output_type": "stream",
     "text": [
      "usage: easy_ustacks.py [-h] -t TYPE -i INPUTDIR [-r] [-d] [-o OUT]\r\n",
      "                       [-m MINDEPTH] [-M MAXDIS] [-p THREADS] [-x STARTID] -c\r\n",
      "                       COUNT [-P POPMAP]\r\n",
      "\r\n",
      "Write and call a ustacks shell script, and plot results\r\n",
      "\r\n",
      "optional arguments:\r\n",
      "  -h, --help            show this help message and exit\r\n",
      "  -t TYPE, --type TYPE  input file type; supported types: fasta, fastq,\r\n",
      "                        gzfasta, gzfastsq\r\n",
      "  -i INPUTDIR, --inputdir INPUTDIR\r\n",
      "                        relative path to directory with samples for ustacks\r\n",
      "  -r, --removal         enable the removal algorithm to drop highly-repetitive\r\n",
      "                        stacks\r\n",
      "  -d, --delever         enable the deleveraging algortih for resolving merged\r\n",
      "                        tags\r\n",
      "  -o OUT, --out OUT     output path to write results\r\n",
      "  -m MINDEPTH, --mindepth MINDEPTH\r\n",
      "                        minimum depth of coverage required to create a stack;\r\n",
      "                        default 2\r\n",
      "  -M MAXDIS, --maxdis MAXDIS\r\n",
      "                        maximum distance in nucleotides allowed between stacks\r\n",
      "  -p THREADS, --threads THREADS\r\n",
      "                        allow parallel execution with p num threads\r\n",
      "  -x STARTID, --startID STARTID\r\n",
      "                        starting number for SQL ID intger if not starting at\r\n",
      "                        001\r\n",
      "  -c COUNT, --count COUNT\r\n",
      "                        name of text file that will store unique loci count\r\n",
      "                        data\r\n",
      "  -P POPMAP, --popmap POPMAP\r\n",
      "                        population map\r\n"
     ]
    }
   ],
   "source": [
    "!python easy_ustacks.py --help"
   ]
  },
  {
   "cell_type": "markdown",
   "metadata": {},
   "source": [
    "Running easy_ustacks looked like:\n",
    "<br>\n",
    "\n",
    "```\n",
    "$ python easy_ustacks.py -t fastq -i ../../../../WorkingFolder/Stacks -r -d -o .\n",
    "./../../../WorkingFolder/Stacks_m3 -m 10 -M 3 -p 10 -c ustacks_loci_counts_m3_20170505.txt -P ../../../../WorkingFolder/popmap_cragigrun1_m10.txt\n",
    "\n",
    "```\n",
    "\n",
    "Example line of code from generated bash script:\n",
    "\n",
    "```\n",
    "stacks ustacks -f ../../../../WorkingFolder/Stacks/FG009.fq -i 0 -m 10 -t fastq -o ../../../../WorkingFolder/Stacks_m3 -p 10 -M 3 -r -d\n",
    "\n",
    "```\n",
    "And the plot of retained ustacks loci looked like:\n",
    "\n",
    "![image](https://github.com/nclowell/RAD_Scallops/blob/master/CRAGIG_run1/Notebooks/images_for_notebooks/ret_loci_after_ustacks_m3_20170505.png?raw=true)\n",
    "\n",
    "#### cstacks\n",
    "\n",
    "I took the ustacks output from allowing 3 mismatches in ustacks, and now will run through cstacks with the same set of mismatch parameters (n = 3,7,10,13,16).\n",
    "\n",
    "I ran it all together in a bash script:\n",
    "```\n",
    "stacks cstacks -b 103 -s Stacks_m3/FG009 -s Stacks_m3/FG001 -s Stacks_m3/FG102_B -s Stacks_m3/FG100_B -s Stacks_m3/FG205 -s Stacks_m3/FG212 -s Stacks_m3/Q324 -s Stacks_m3/Q314 -s Stacks_m3/Q339 -s Stacks_m3/Q330 -o Stacks_m3/n3 -n 3 -p 10\n",
    "stacks cstacks -b 107 -s Stacks_m3/FG009 -s Stacks_m3/FG001 -s Stacks_m3/FG102_B -s Stacks_m3/FG100_B -s Stacks_m3/FG205 -s Stacks_m3/FG212 -s Stacks_m3/Q324 -s Stacks_m3/Q314 -s Stacks_m3/Q339 -s Stacks_m3/Q330 -o Stacks_m3/n7 -n 7 -p 10\n",
    "stacks cstacks -b 110 -s Stacks_m3/FG009 -s Stacks_m3/FG001 -s Stacks_m3/FG102_B -s Stacks_m3/FG100_B -s Stacks_m3/FG205 -s Stacks_m3/FG212 -s Stacks_m3/Q324 -s Stacks_m3/Q314 -s Stacks_m3/Q339 -s Stacks_m3/Q330 -o Stacks_m3/n10 -n 10 -p 10\n",
    "stacks cstacks -b 113 -s Stacks_m3/FG009 -s Stacks_m3/FG001 -s Stacks_m3/FG102_B -s Stacks_m3/FG100_B -s Stacks_m3/FG205 -s Stacks_m3/FG212 -s Stacks_m3/Q324 -s Stacks_m3/Q314 -s Stacks_m3/Q339 -s Stacks_m3/Q330 -o Stacks_m3/n13 -n 13 -p 10\n",
    "stacks cstacks -b 116 -s Stacks_m3/FG009 -s Stacks_m3/FG001 -s Stacks_m3/FG102_B -s Stacks_m3/FG100_B -s Stacks_m3/FG205 -s Stacks_m3/FG212 -s Stacks_m3/Q324 -s Stacks_m3/Q314 -s Stacks_m3/Q339 -s Stacks_m3/Q330 -o Stacks_m3/n16 -n 16 -p 10\n",
    "```"
   ]
  },
  {
   "cell_type": "markdown",
   "metadata": {},
   "source": [
    "Find out retained loci in catalog to see effect of mismatches allowed"
   ]
  },
  {
   "cell_type": "code",
   "execution_count": 20,
   "metadata": {
    "collapsed": false
   },
   "outputs": [
    {
     "name": "stdout",
     "output_type": "stream",
     "text": [
      "/mnt/hgfs/SHARED_FOLDER/WorkingFolder/Stacks_m3/n3\n"
     ]
    }
   ],
   "source": [
    "cd /mnt/hgfs/SHARED_FOLDER/WorkingFolder/Stacks_m3/n3"
   ]
  },
  {
   "cell_type": "code",
   "execution_count": 21,
   "metadata": {
    "collapsed": false
   },
   "outputs": [
    {
     "name": "stdout",
     "output_type": "stream",
     "text": [
      "batch_103.catalog.tags.tsv:127316\r\n"
     ]
    }
   ],
   "source": [
    "!grep --count --with-filename consensus batch_103.catalog.tags.tsv"
   ]
  },
  {
   "cell_type": "code",
   "execution_count": 24,
   "metadata": {
    "collapsed": false
   },
   "outputs": [
    {
     "name": "stdout",
     "output_type": "stream",
     "text": [
      "/mnt/hgfs/SHARED_FOLDER/WorkingFolder/Stacks_m3/n7\n"
     ]
    }
   ],
   "source": [
    "cd /mnt/hgfs/SHARED_FOLDER/WorkingFolder/Stacks_m3/n7"
   ]
  },
  {
   "cell_type": "code",
   "execution_count": 25,
   "metadata": {
    "collapsed": false
   },
   "outputs": [
    {
     "name": "stdout",
     "output_type": "stream",
     "text": [
      "batch_107.catalog.tags.tsv:107738\r\n"
     ]
    }
   ],
   "source": [
    "!grep --count --with-filename consensus batch_107.catalog.tags.tsv"
   ]
  },
  {
   "cell_type": "code",
   "execution_count": 41,
   "metadata": {
    "collapsed": false
   },
   "outputs": [
    {
     "name": "stdout",
     "output_type": "stream",
     "text": [
      "/mnt/hgfs/SHARED_FOLDER/WorkingFolder/Stacks_m3/n10\n"
     ]
    }
   ],
   "source": [
    "cd /mnt/hgfs/SHARED_FOLDER/WorkingFolder/Stacks_m3/n10"
   ]
  },
  {
   "cell_type": "code",
   "execution_count": 42,
   "metadata": {
    "collapsed": false
   },
   "outputs": [
    {
     "name": "stdout",
     "output_type": "stream",
     "text": [
      "batch_110.catalog.tags.tsv:102860\r\n"
     ]
    }
   ],
   "source": [
    "!grep --count --with-filename consensus batch_110.catalog.tags.tsv"
   ]
  },
  {
   "cell_type": "code",
   "execution_count": 47,
   "metadata": {
    "collapsed": false
   },
   "outputs": [
    {
     "name": "stdout",
     "output_type": "stream",
     "text": [
      "/mnt/hgfs/SHARED_FOLDER/WorkingFolder/Stacks_m3/n13\n"
     ]
    }
   ],
   "source": [
    "cd /mnt/hgfs/SHARED_FOLDER/WorkingFolder/Stacks_m3/n13"
   ]
  },
  {
   "cell_type": "code",
   "execution_count": 48,
   "metadata": {
    "collapsed": false
   },
   "outputs": [
    {
     "name": "stdout",
     "output_type": "stream",
     "text": [
      "batch_113.catalog.tags.tsv:100194\r\n"
     ]
    }
   ],
   "source": [
    "!grep --count --with-filename consensus batch_113.catalog.tags.tsv"
   ]
  },
  {
   "cell_type": "code",
   "execution_count": 49,
   "metadata": {
    "collapsed": false
   },
   "outputs": [
    {
     "name": "stdout",
     "output_type": "stream",
     "text": [
      "/mnt/hgfs/SHARED_FOLDER/WorkingFolder/Stacks_m3/n16\n"
     ]
    }
   ],
   "source": [
    "cd /mnt/hgfs/SHARED_FOLDER/WorkingFolder/Stacks_m3/n16"
   ]
  },
  {
   "cell_type": "code",
   "execution_count": 50,
   "metadata": {
    "collapsed": false
   },
   "outputs": [
    {
     "name": "stdout",
     "output_type": "stream",
     "text": [
      "grep: batch_116.catalog.tags.tsv: No such file or directory\r\n"
     ]
    }
   ],
   "source": [
    "!grep --count --with-filename consensus batch_116.catalog.tags.tsv"
   ]
  },
  {
   "cell_type": "code",
   "execution_count": 36,
   "metadata": {
    "collapsed": true
   },
   "outputs": [],
   "source": [
    "import matplotlib.pyplot as plt\n",
    "import numpy as np"
   ]
  },
  {
   "cell_type": "code",
   "execution_count": 51,
   "metadata": {
    "collapsed": true
   },
   "outputs": [],
   "source": [
    "nvals = [3,7,10,13]\n",
    "catalog_counts = [127316,107738,102860,100194]"
   ]
  },
  {
   "cell_type": "code",
   "execution_count": 52,
   "metadata": {
    "collapsed": false
   },
   "outputs": [
    {
     "data": {
      "image/png": "[encoded data removed]",
      "text/plain": [
       "<matplotlib.figure.Figure at 0x7f26e37e5490>"
      ]
     },
     "metadata": {},
     "output_type": "display_data"
    }
   ],
   "source": [
    "plt.scatter(nvals,catalog_counts)\n",
    "plt.suptitle(\"Loci in catalog after different mismatches allowed\")\n",
    "plt.xlabel(\"Mismatches between sample loci (cstacks n)\")\n",
    "plt.ylabel(\"Loci in catalog\")\n",
    "plt.show()"
   ]
  },
  {
   "cell_type": "markdown",
   "metadata": {},
   "source": [
    "## Mismatch parameter 7\n",
    "\n",
    "#### ``ustacks``"
   ]
  },
  {
   "cell_type": "markdown",
   "metadata": {},
   "source": [
    "Running easy_ustacks looked like:\n",
    "<br>\n",
    "\n",
    "```\n",
    "$ python easy_ustacks.py -t fastq -i ../../../../WorkingFolder/Stacks -r -d -o ../../../../WorkingFolder/Stacks_m7 -m 10 -M 7 -p 10 -c ustacks_loci_counts_20170503.txt -P ../../../../WorkingFolder/popmap_cragigrun1_m10.txt\n",
    "```\n",
    "\n",
    "Example line of code from generated bash script:\n",
    "\n",
    "```\n",
    "stacks ustacks -f ../../../../WorkingFolder/Stacks/FG009.fq -i 0 -m 10 -t fastq -o ../../../../WorkingFolder/Stacks_m7 -p 10 -M 7 -r -d\n",
    "\n",
    "```\n",
    "And the plot of retained ustacks loci looked like:\n",
    "\n",
    "![image](https://github.com/nclowell/RAD_Scallops/blob/master/CRAGIG_run1/Notebooks/images_for_notebooks/ret_loc_after_ustacks_m7_20170503.png?raw=true)"
   ]
  },
  {
   "cell_type": "code",
   "execution_count": null,
   "metadata": {
    "collapsed": true
   },
   "outputs": [],
   "source": []
  },
  {
   "cell_type": "code",
   "execution_count": null,
   "metadata": {
    "collapsed": true
   },
   "outputs": [],
   "source": []
  },
  {
   "cell_type": "markdown",
   "metadata": {
    "deletable": true,
    "editable": true
   },
   "source": [
    "## Mismatch parameter 10\n",
    "\n",
    "#### ``ustacks``"
   ]
  },
  {
   "cell_type": "markdown",
   "metadata": {
    "deletable": true,
    "editable": true
   },
   "source": [
    "Running easy_ustacks looked like:\n",
    "<br>\n",
    "```\n",
    "$ python easy_ustacks.py -t fastq -i ../../../../WorkingFolder/Stacks -r -d -o Stacks_m10 -m 10 -M 10 -p 10 -c ../../../../WorkingFolder/Stacks_m10/ustacks_loci_counts_20170501.txt -P ../../../../WorkingFolder/popmap_cragigrun1_m10.txt\n",
    "\n",
    "```\n",
    "\n",
    "Example line of code from generated bash script:\n",
    "\n",
    "```\n",
    "stacks ustacks -f ../../../../WorkingFolder/Stacks/FG009.fq -i 0 -m 10 -t fastq -o ../../../../WorkingFolder/Stacks_m10 -p 10 -M 10 -r -d \n",
    "\n",
    "```\n",
    "And the plot of retained ustacks loci looked like:\n",
    "\n",
    "![image](https://github.com/nclowell/RAD_Scallops/blob/master/CRAGIG_run1/Notebooks/images_for_notebooks/ret_loci_after_ustacks_m10_20170503.png?raw=true)"
   ]
  },
  {
   "cell_type": "markdown",
   "metadata": {},
   "source": []
  },
  {
   "cell_type": "code",
   "execution_count": null,
   "metadata": {
    "collapsed": true
   },
   "outputs": [],
   "source": []
  },
  {
   "cell_type": "code",
   "execution_count": null,
   "metadata": {
    "collapsed": true
   },
   "outputs": [],
   "source": []
  },
  {
   "cell_type": "markdown",
   "metadata": {},
   "source": [
    "## Mismatch parameter 13\n",
    "\n",
    "#### ``ustacks``"
   ]
  },
  {
   "cell_type": "markdown",
   "metadata": {},
   "source": [
    "Running easy_ustacks looked like:\n",
    "<br>\n",
    "\n",
    "```\n",
    "$ python easy_ustacks.py -t fastq -i ../../../../WorkingFolder/Stacks -r -d -o .\n",
    "./../../../WorkingFolder/Stacks_m13 -m 10 -M 13 -p 10 -c ustacks_loci_counts_m13_20170503.txt -P ../../../../WorkingFolder/popmap_cragigrun1_m10.txt\n",
    "\n",
    "```\n",
    "\n",
    "Example line of code from generated bash script:\n",
    "\n",
    "```\n",
    "stacks ustacks -f ../../../../WorkingFolder/Stacks/FG009.fq -i 0 -m 10 -t fastq -o ../../../../WorkingFolder/Stacks_m13 -p 10 -M 13 -r -d \n",
    "```\n",
    "And the plot of retained ustacks loci looked like:\n",
    "\n",
    "![image](https://github.com/nclowell/RAD_Scallops/blob/master/CRAGIG_run1/Notebooks/images_for_notebooks/ret_loci_after_ustacks_m13_20170505.png?raw=true)"
   ]
  },
  {
   "cell_type": "markdown",
   "metadata": {},
   "source": [
    "## Mismatch parameter 16\n",
    "\n",
    "#### ``ustacks``"
   ]
  },
  {
   "cell_type": "markdown",
   "metadata": {},
   "source": [
    "Running easy_ustacks looked like:\n",
    "<br>\n",
    "\n",
    "```\n",
    "$ python easy_ustacks.py -t fastq -i ../../../../WorkingFolder/Stacks -r -d -o .\n",
    "./../../../WorkingFolder/Stacks_m16 -m 10 -M 16 -p 10 -c ustacks_loci_counts_m16_20170505.txt -P ../../../../WorkingFolder/popmap_cragigrun1_m10.txt\n",
    "\n",
    "```\n",
    "\n",
    "Example line of code from generated bash script:\n",
    "\n",
    "```\n",
    "stacks ustacks -f ../../../../WorkingFolder/Stacks/FG009.fq -i 0 -m 10 -t fastq -o ../../../../WorkingFolder/Stacks_m16 -p 10 -M 16 -r -d \n",
    "```\n",
    "And the plot of retained ustacks loci looked like:\n",
    "\n",
    "![image](https://github.com/nclowell/RAD_Scallops/blob/master/CRAGIG_run1/Notebooks/images_for_notebooks/ret_loci_after_ustacks_m16_20170508.png?raw=true)"
   ]
  },
  {
   "cell_type": "markdown",
   "metadata": {},
   "source": [
    "## Effect of ustacks ``M`` on number of retained loci after ustacks\n",
    "\n",
    "**20170508**"
   ]
  },
  {
   "cell_type": "code",
   "execution_count": 4,
   "metadata": {
    "collapsed": false
   },
   "outputs": [
    {
     "name": "stdout",
     "output_type": "stream",
     "text": [
      "/mnt/hgfs/SHARED_FOLDER\n"
     ]
    }
   ],
   "source": [
    "cd /mnt/hgfs/SHARED_FOLDER"
   ]
  },
  {
   "cell_type": "code",
   "execution_count": 12,
   "metadata": {
    "collapsed": true
   },
   "outputs": [],
   "source": [
    "import matplotlib.pyplot as plt\n",
    "import numpy as np"
   ]
  },
  {
   "cell_type": "code",
   "execution_count": 5,
   "metadata": {
    "collapsed": true
   },
   "outputs": [],
   "source": [
    "ret_loci = open(\"m_and_ret_loci_20170508.csv\",\"r\")\n",
    "lines = ret_loci.readlines()\n",
    "ret_loci.close()"
   ]
  },
  {
   "cell_type": "code",
   "execution_count": 10,
   "metadata": {
    "collapsed": true
   },
   "outputs": [],
   "source": [
    "list_array = []\n",
    "for line in lines:\n",
    "    linelist = line.strip().split(\",\")\n",
    "    list_array.append(linelist)"
   ]
  },
  {
   "cell_type": "code",
   "execution_count": 11,
   "metadata": {
    "collapsed": false
   },
   "outputs": [
    {
     "name": "stdout",
     "output_type": "stream",
     "text": [
      "['FG001', '28888', '27512', '27274', '27224', '27211']\n"
     ]
    }
   ],
   "source": [
    "print list_array[1]"
   ]
  },
  {
   "cell_type": "code",
   "execution_count": 8,
   "metadata": {
    "collapsed": false
   },
   "outputs": [],
   "source": [
    "mvals = [3,7,10,13,16]"
   ]
  },
  {
   "cell_type": "code",
   "execution_count": 18,
   "metadata": {
    "collapsed": false
   },
   "outputs": [
    {
     "data": {
      "image/png": "[encoded data removed]",
      "text/plain": [
       "<matplotlib.figure.Figure at 0x7f26e425d8d0>"
      ]
     },
     "metadata": {},
     "output_type": "display_data"
    }
   ],
   "source": [
    "for line in list_array[1:]:\n",
    "    sample = line[0]\n",
    "    counts_ch = (line[1:])\n",
    "    counts_int = []\n",
    "    for count in counts_ch:\n",
    "        int_count = int(count)\n",
    "        counts_int.append(int_count)\n",
    "    plt.scatter(mvals, counts_int)\n",
    "\n",
    "plt.suptitle(\"Retained loci after ustacks with differet number allowed mismatches\")  \n",
    "plt.xlabel(\"Mismatches allowed (M)\")\n",
    "plt.ylabel(\"Retained loci after ustacks\")\n",
    "plt.show()"
   ]
  },
  {
   "cell_type": "markdown",
   "metadata": {},
   "source": [
    "Wow. Almost no effect at all. Increasing the M parameter seems to almost not affect the number of retained loci after ustacks. The drop is just a couple hundred loci after M = 6."
   ]
  },
  {
   "cell_type": "code",
   "execution_count": null,
   "metadata": {
    "collapsed": true
   },
   "outputs": [],
   "source": []
  },
  {
   "cell_type": "code",
   "execution_count": null,
   "metadata": {
    "collapsed": true
   },
   "outputs": [],
   "source": []
  },
  {
   "cell_type": "markdown",
   "metadata": {},
   "source": [
    "## Investigating a la Ilut etal 2014\n",
    "\n",
    "In [Ilut et al 2014](https://www.hindawi.com/journals/bmri/2014/675158/abs/), the authors develop a method for choosing an appropriate mismatch parameter. Essentially, they increase mismatch, and track the percentage of homozygous, heterozygous, and polyploid genotypes within individuals. Where they asymptote is a balance between allowing for lumping of paralogous loci, and oversplitting loci. Here's the main figure for this:\n",
    "\n",
    "![img](https://github.com/nclowell/RAD_Scallops/blob/master/CRAGIG_run1/Notebooks/images_for_notebooks/ilut_et_al_2014_mainfigs.png?raw=true)"
   ]
  },
  {
   "cell_type": "markdown",
   "metadata": {},
   "source": [
    "I should open the same individual file under the different mismatch parameters in ustacks from above, and make these plots."
   ]
  },
  {
   "cell_type": "code",
   "execution_count": 122,
   "metadata": {
    "collapsed": false
   },
   "outputs": [
    {
     "name": "stdout",
     "output_type": "stream",
     "text": [
      "/mnt/hgfs/SHARED_FOLDER/WorkingFolder/Stacks_m3\n"
     ]
    }
   ],
   "source": [
    "cd /mnt/hgfs/SHARED_FOLDER/WorkingFolder/Stacks_m3"
   ]
  },
  {
   "cell_type": "code",
   "execution_count": 123,
   "metadata": {
    "collapsed": true
   },
   "outputs": [],
   "source": [
    "import matplotlib.pyplot as plt\n",
    "import numpy as np"
   ]
  },
  {
   "cell_type": "code",
   "execution_count": 124,
   "metadata": {
    "collapsed": false
   },
   "outputs": [],
   "source": [
    "# get lines from file\n",
    "FG001_m3 = open(\"FG001.alleles.tsv\")\n",
    "FG001_m3_lines = FG001_m3.readlines()\n",
    "FG001_m3.close()"
   ]
  },
  {
   "cell_type": "code",
   "execution_count": 125,
   "metadata": {
    "collapsed": false
   },
   "outputs": [],
   "source": [
    "# build dictionary with number of alleles per locus\n",
    "FG001_m3_alleles = {}\n",
    "FG001_m3_loci = []\n",
    "for line in FG001_m3_lines[1:]: # skip first line, header\n",
    "    linelist = line.strip().split()\n",
    "    locus_name = int(linelist[2])\n",
    "    if locus_name not in FG001_m3_loci:    \n",
    "        FG001_m3_loci.append(locus_name)\n",
    "    if locus_name not in FG001_m3_alleles:\n",
    "        FG001_m3_alleles[locus_name] = 1\n",
    "    elif locus_name in FG001_m3_alleles:\n",
    "        FG001_m3_alleles[locus_name] += 1\n",
    "    else:\n",
    "        print \"something funky is going on\""
   ]
  },
  {
   "cell_type": "code",
   "execution_count": 102,
   "metadata": {
    "collapsed": false
   },
   "outputs": [
    {
     "name": "stdout",
     "output_type": "stream",
     "text": [
      "For m = 3: \n",
      "Percentage homozygous: 0.0%\n",
      "Percentage heterozygous: 81.3333333333%\n",
      "Percentage polyploid: 18.6666666667%\n",
      "Total loci = 5325\n"
     ]
    }
   ],
   "source": [
    "# get counts homozygous, heterozygous, and polyploid\n",
    "FG001_m3_hom = 0\n",
    "FG001_m3_het = 0\n",
    "FG001_m3_poly = 0\n",
    "\n",
    "for locus in FG001_m3_loci:\n",
    "    if FG001_m3_alleles[locus] == 1:\n",
    "        FG001_m3_hom += 1\n",
    "    elif FG001_m3_alleles[locus] == 2:\n",
    "        FG001_m3_het += 1\n",
    "    elif FG001_m3_alleles[locus] > 2:\n",
    "        FG001_m3_poly += 1\n",
    "        \n",
    "FG001_m3_total = FG001_m3_hom + FG001_m3_het + FG001_m3_poly\n",
    "\n",
    "# report to user\n",
    "print \"For m = 3: \"\n",
    "print \"Percentage homozygous: \" + str(float(FG001_m3_hom)/float(FG001_m3_total)*100) + \"%\"\n",
    "print \"Percentage heterozygous: \" + str(float(FG001_m3_het)/float(FG001_m3_total)*100) + \"%\"\n",
    "print \"Percentage polyploid: \" + str(float(FG001_m3_poly)/float(FG001_m3_total)*100) + \"%\"\n",
    "print \"Total loci = \" + str(len(FG001_m3_loci))"
   ]
  },
  {
   "cell_type": "code",
   "execution_count": 126,
   "metadata": {
    "collapsed": false
   },
   "outputs": [
    {
     "name": "stdout",
     "output_type": "stream",
     "text": [
      "/mnt/hgfs/SHARED_FOLDER/WorkingFolder/Stacks_m7\n"
     ]
    }
   ],
   "source": [
    "cd /mnt/hgfs/SHARED_FOLDER/WorkingFolder/Stacks_m7"
   ]
  },
  {
   "cell_type": "code",
   "execution_count": 127,
   "metadata": {
    "collapsed": false
   },
   "outputs": [
    {
     "name": "stdout",
     "output_type": "stream",
     "text": [
      "For m = 7: \n",
      "Percentage homozygous: 0.0%\n",
      "Percentage heterozygous: 72.3622641509%\n",
      "Percentage polyploid: 27.6377358491%\n",
      "Total loci = 6625\n"
     ]
    }
   ],
   "source": [
    "# get lines from file\n",
    "FG001_m7 = open(\"FG001.alleles.tsv\")\n",
    "FG001_m7_lines = FG001_m7.readlines()\n",
    "FG001_m7.close()\n",
    "\n",
    "# build dictionary with number of alleles per locus\n",
    "FG001_m7_alleles = {}\n",
    "FG001_m7_loci = []\n",
    "for line in FG001_m7_lines[1:]: # skip first line, header\n",
    "    linelist = line.strip().split()\n",
    "    locus_name = int(linelist[2])\n",
    "    if locus_name not in FG001_m7_loci:    \n",
    "        FG001_m7_loci.append(locus_name)\n",
    "    if locus_name not in FG001_m7_alleles:\n",
    "        FG001_m7_alleles[locus_name] = 1\n",
    "    elif locus_name in FG001_m7_alleles:\n",
    "        FG001_m7_alleles[locus_name] += 1\n",
    "    else:\n",
    "        print \"something funky is going on\"\n",
    "        \n",
    "        # get counts homozygous, heterozygous, and polyploid\n",
    "FG001_m7_hom = 0\n",
    "FG001_m7_het = 0\n",
    "FG001_m7_poly = 0\n",
    "\n",
    "for locus in FG001_m7_loci:\n",
    "    if FG001_m7_alleles[locus] == 1:\n",
    "        FG001_m7_hom += 1\n",
    "    elif FG001_m7_alleles[locus] == 2:\n",
    "        FG001_m7_het += 1\n",
    "    elif FG001_m7_alleles[locus] > 2:\n",
    "        FG001_m7_poly += 1\n",
    "        \n",
    "FG001_m7_total = FG001_m7_hom + FG001_m7_het + FG001_m7_poly\n",
    "\n",
    "# report to user\n",
    "print \"For m = 7: \"\n",
    "print \"Percentage homozygous: \" + str(float(FG001_m7_hom)/float(FG001_m7_total)*100) + \"%\"\n",
    "print \"Percentage heterozygous: \" + str(float(FG001_m7_het)/float(FG001_m7_total)*100) + \"%\"\n",
    "print \"Percentage polyploid: \" + str(float(FG001_m7_poly)/float(FG001_m7_total)*100) + \"%\"\n",
    "print \"Total loci = \" + str(len(FG001_m7_loci))"
   ]
  },
  {
   "cell_type": "code",
   "execution_count": 128,
   "metadata": {
    "collapsed": false
   },
   "outputs": [
    {
     "name": "stdout",
     "output_type": "stream",
     "text": [
      "/mnt/hgfs/SHARED_FOLDER/WorkingFolder/Stacks_m10\n"
     ]
    }
   ],
   "source": [
    "cd /mnt/hgfs/SHARED_FOLDER/WorkingFolder/Stacks_m10"
   ]
  },
  {
   "cell_type": "code",
   "execution_count": 129,
   "metadata": {
    "collapsed": false
   },
   "outputs": [
    {
     "name": "stdout",
     "output_type": "stream",
     "text": [
      "For m = 10: \n",
      "Percentage homozygous: 0.0%\n",
      "Percentage heterozygous: 68.6320069707%\n",
      "Percentage polyploid: 31.3679930293%\n",
      "Total loci = 6886\n"
     ]
    }
   ],
   "source": [
    "# get lines from file\n",
    "FG001_m10 = open(\"FG001.alleles.tsv\")\n",
    "FG001_m10_lines = FG001_m10.readlines()\n",
    "FG001_m10.close()\n",
    "\n",
    "# build dictionary with number of alleles per locus\n",
    "FG001_m10_alleles = {}\n",
    "FG001_m10_loci = []\n",
    "for line in FG001_m10_lines[1:]: # skip first line, header\n",
    "    linelist = line.strip().split()\n",
    "    locus_name = int(linelist[2])\n",
    "    if locus_name not in FG001_m10_loci:    \n",
    "        FG001_m10_loci.append(locus_name)\n",
    "    if locus_name not in FG001_m10_alleles:\n",
    "        FG001_m10_alleles[locus_name] = 1\n",
    "    elif locus_name in FG001_m10_alleles:\n",
    "        FG001_m10_alleles[locus_name] += 1\n",
    "    else:\n",
    "        print \"something funky is going on\"\n",
    "        \n",
    "        # get counts homozygous, heterozygous, and polyploid\n",
    "FG001_m10_hom = 0\n",
    "FG001_m10_het = 0\n",
    "FG001_m10_poly = 0\n",
    "\n",
    "for locus in FG001_m10_loci:\n",
    "    if FG001_m10_alleles[locus] == 1:\n",
    "        FG001_m10_hom += 1\n",
    "    elif FG001_m10_alleles[locus] == 2:\n",
    "        FG001_m10_het += 1\n",
    "    elif FG001_m10_alleles[locus] > 2:\n",
    "        FG001_m10_poly += 1\n",
    "        \n",
    "FG001_m10_total = FG001_m10_hom + FG001_m10_het + FG001_m10_poly\n",
    "\n",
    "# report to user\n",
    "print \"For m = 10: \"\n",
    "print \"Percentage homozygous: \" + str(float(FG001_m10_hom)/float(FG001_m10_total)*100) + \"%\"\n",
    "print \"Percentage heterozygous: \" + str(float(FG001_m10_het)/float(FG001_m10_total)*100) + \"%\"\n",
    "print \"Percentage polyploid: \" + str(float(FG001_m10_poly)/float(FG001_m10_total)*100) + \"%\"\n",
    "print \"Total loci = \" + str(len(FG001_m10_loci))"
   ]
  },
  {
   "cell_type": "code",
   "execution_count": 130,
   "metadata": {
    "collapsed": false
   },
   "outputs": [
    {
     "name": "stdout",
     "output_type": "stream",
     "text": [
      "/mnt/hgfs/SHARED_FOLDER/WorkingFolder/Stacks_m13\n"
     ]
    }
   ],
   "source": [
    "cd /mnt/hgfs/SHARED_FOLDER/WorkingFolder/Stacks_m13"
   ]
  },
  {
   "cell_type": "code",
   "execution_count": 131,
   "metadata": {
    "collapsed": false
   },
   "outputs": [
    {
     "name": "stdout",
     "output_type": "stream",
     "text": [
      "For m = 13: \n",
      "Percentage homozygous: 0.0%\n",
      "Percentage heterozygous: 66.9883335734%\n",
      "Percentage polyploid: 33.0116664266%\n",
      "Total loci = 6943\n"
     ]
    }
   ],
   "source": [
    "# get lines from file\n",
    "FG001_m13 = open(\"FG001.alleles.tsv\")\n",
    "FG001_m13_lines = FG001_m13.readlines()\n",
    "FG001_m13.close()\n",
    "\n",
    "# build dictionary with number of alleles per locus\n",
    "FG001_m13_alleles = {}\n",
    "FG001_m13_loci = []\n",
    "for line in FG001_m13_lines[1:]: # skip first line, header\n",
    "    linelist = line.strip().split()\n",
    "    locus_name = int(linelist[2])\n",
    "    if locus_name not in FG001_m13_loci:    \n",
    "        FG001_m13_loci.append(locus_name)\n",
    "    if locus_name not in FG001_m13_alleles:\n",
    "        FG001_m13_alleles[locus_name] = 1\n",
    "    elif locus_name in FG001_m13_alleles:\n",
    "        FG001_m13_alleles[locus_name] += 1\n",
    "    else:\n",
    "        print \"something funky is going on\"\n",
    "        \n",
    "        # get counts homozygous, heterozygous, and polyploid\n",
    "FG001_m13_hom = 0\n",
    "FG001_m13_het = 0\n",
    "FG001_m13_poly = 0\n",
    "\n",
    "for locus in FG001_m13_loci:\n",
    "    if FG001_m13_alleles[locus] == 1:\n",
    "        FG001_m13_hom += 1\n",
    "    elif FG001_m13_alleles[locus] == 2:\n",
    "        FG001_m13_het += 1\n",
    "    elif FG001_m13_alleles[locus] > 2:\n",
    "        FG001_m13_poly += 1\n",
    "        \n",
    "FG001_m13_total = FG001_m13_hom + FG001_m13_het + FG001_m13_poly\n",
    "\n",
    "# report to user\n",
    "print \"For m = 13: \"\n",
    "print \"Percentage homozygous: \" + str(float(FG001_m13_hom)/float(FG001_m13_total)*100) + \"%\"\n",
    "print \"Percentage heterozygous: \" + str(float(FG001_m13_het)/float(FG001_m13_total)*100) + \"%\"\n",
    "print \"Percentage polyploid: \" + str(float(FG001_m13_poly)/float(FG001_m13_total)*100) + \"%\"\n",
    "print \"Total loci = \" + str(len(FG001_m13_loci))"
   ]
  },
  {
   "cell_type": "code",
   "execution_count": 132,
   "metadata": {
    "collapsed": false
   },
   "outputs": [
    {
     "name": "stdout",
     "output_type": "stream",
     "text": [
      "/mnt/hgfs/SHARED_FOLDER/WorkingFolder/Stacks_m16\n"
     ]
    }
   ],
   "source": [
    "cd /mnt/hgfs/SHARED_FOLDER/WorkingFolder/Stacks_m16"
   ]
  },
  {
   "cell_type": "code",
   "execution_count": 133,
   "metadata": {
    "collapsed": false
   },
   "outputs": [
    {
     "name": "stdout",
     "output_type": "stream",
     "text": [
      "For m = 16: \n",
      "Percentage homozygous: 0.0%\n",
      "Percentage heterozygous: 65.7376813676%\n",
      "Percentage polyploid: 34.2623186324%\n",
      "Total loci = 6961\n"
     ]
    }
   ],
   "source": [
    "# get lines from file\n",
    "FG001_m16 = open(\"FG001.alleles.tsv\")\n",
    "FG001_m16_lines = FG001_m16.readlines()\n",
    "FG001_m16.close()\n",
    "\n",
    "# build dictionary with number of alleles per locus\n",
    "FG001_m16_alleles = {}\n",
    "FG001_m16_loci = []\n",
    "for line in FG001_m16_lines[1:]: # skip first line, header\n",
    "    linelist = line.strip().split()\n",
    "    locus_name = int(linelist[2])\n",
    "    if locus_name not in FG001_m16_loci:    \n",
    "        FG001_m16_loci.append(locus_name)\n",
    "    if locus_name not in FG001_m16_alleles:\n",
    "        FG001_m16_alleles[locus_name] = 1\n",
    "    elif locus_name in FG001_m16_alleles:\n",
    "        FG001_m16_alleles[locus_name] += 1\n",
    "    else:\n",
    "        print \"something funky is going on\"\n",
    "        \n",
    "        # get counts homozygous, heterozygous, and polyploid\n",
    "FG001_m16_hom = 0\n",
    "FG001_m16_het = 0\n",
    "FG001_m16_poly = 0\n",
    "\n",
    "for locus in FG001_m16_loci:\n",
    "    if FG001_m16_alleles[locus] == 1:\n",
    "        FG001_m16_hom += 1\n",
    "    elif FG001_m16_alleles[locus] == 2:\n",
    "        FG001_m16_het += 1\n",
    "    elif FG001_m16_alleles[locus] > 2:\n",
    "        FG001_m16_poly += 1\n",
    "        \n",
    "FG001_m16_total = FG001_m16_hom + FG001_m16_het + FG001_m16_poly\n",
    "\n",
    "# report to user\n",
    "print \"For m = 16: \"\n",
    "print \"Percentage homozygous: \" + str(float(FG001_m16_hom)/float(FG001_m16_total)*100) + \"%\"\n",
    "print \"Percentage heterozygous: \" + str(float(FG001_m16_het)/float(FG001_m16_total)*100) + \"%\"\n",
    "print \"Percentage polyploid: \" + str(float(FG001_m16_poly)/float(FG001_m16_total)*100) + \"%\"\n",
    "print \"Total loci = \" + str(len(FG001_m16_loci))"
   ]
  },
  {
   "cell_type": "code",
   "execution_count": 134,
   "metadata": {
    "collapsed": true
   },
   "outputs": [],
   "source": [
    "set_hom = [0,0,0,0,0]\n",
    "set_het = [81.33,72.36,68.63,66.98,65.73]\n",
    "set_poly = [18.66,27.63, 31.37, 33.011, 34.26]"
   ]
  },
  {
   "cell_type": "code",
   "execution_count": 146,
   "metadata": {
    "collapsed": false
   },
   "outputs": [
    {
     "data": {
      "image/png": "[encoded data removed]",
      "text/plain": [
       "<matplotlib.figure.Figure at 0x7f26e3169810>"
      ]
     },
     "metadata": {},
     "output_type": "display_data"
    }
   ],
   "source": [
    "hom = plt.scatter(mvals, set_hom)\n",
    "plt.plot(mvals, set_hom)\n",
    "het = plt.scatter(mvals, set_het)\n",
    "plt.plot(mvals, set_het)\n",
    "poly = plt.scatter(mvals, set_poly)\n",
    "plt.plot(mvals, set_poly)\n",
    "plt.ylim(0,100)\n",
    "plt.suptitle(\"Percentage of different copy genotypes within scallop FG001\\nwith varying mismatch parameter\")\n",
    "plt.xlabel(\"Mismatch parameter (ustacks M)\")\n",
    "plt.ylabel(\"Percentage of total genotypes\")\n",
    "plt.legend((hom, het, poly),(\"Homozygous\",\"Heterozygous\",\"Polyploid\"))\n",
    "plt.show()"
   ]
  },
  {
   "cell_type": "code",
   "execution_count": null,
   "metadata": {
    "collapsed": true
   },
   "outputs": [],
   "source": []
  }
 ],
 "metadata": {
  "kernelspec": {
   "display_name": "Python 2",
   "language": "python",
   "name": "python2"
  },
  "language_info": {
   "codemirror_mode": {
    "name": "ipython",
    "version": 2
   },
   "file_extension": ".py",
   "mimetype": "text/x-python",
   "name": "python",
   "nbconvert_exporter": "python",
   "pygments_lexer": "ipython2",
   "version": "2.7.12"
  }
 },
 "nbformat": 4,
 "nbformat_minor": 2
}
