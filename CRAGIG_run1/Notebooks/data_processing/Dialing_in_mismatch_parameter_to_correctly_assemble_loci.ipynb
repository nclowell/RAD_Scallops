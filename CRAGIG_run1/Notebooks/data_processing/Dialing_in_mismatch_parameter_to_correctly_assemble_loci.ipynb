{
 "cells": [
  {
   "cell_type": "markdown",
   "metadata": {
    "deletable": true,
    "editable": true
   },
   "source": [
    "# Dialing in mismatch parameter to correctly assemble loci\n",
    "\n",
    "\n",
    "**20170501**\n",
    "\n",
    "I need to resolve this splitting loci problem - going to rerun ``ustacks`` using higher mismatch parameters given the number of mismatches I see in really similar sequences that my first run of the pipeline split into different loci. I'm going to do it on just a subset of the samples:\n",
    "\n",
    "```\n",
    "FG009\tWA_Strait\n",
    "FG001\tWA_Strait\n",
    "FG102_B\tWA_SanJuans\n",
    "FG100_B\tWA_SanJuans\n",
    "FG205\tWA_Dabob\n",
    "FG212\tWA_Dabob\n",
    "Q324\tAK\n",
    "Q314\tAK\n",
    "Q339\tCA_Catalina\n",
    "Q330\tCA_Catalina\n",
    "```\n",
    "\n",
    "And, I'll do it with mismatch parameter values of 7, 10, and 13.\n"
   ]
  },
  {
   "cell_type": "markdown",
   "metadata": {},
   "source": [
    "## Mismatch parameter 3\n",
    "I used this parameter value in my first iteration of the Stacks pipeline, in this [notebook](https://github.com/nclowell/RAD_Scallops/blob/master/CRAGIG_run1/Notebooks/data_processing/CRAGIG_RUN1.ipynb).\n",
    "\n",
    "#### ``ustacks``\n",
    "\n",
    "I used my ``easy_ustacks`` script to run ``ustacks``, but outside of the notebook because it's interactive in the terminal."
   ]
  },
  {
   "cell_type": "code",
   "execution_count": 3,
   "metadata": {
    "collapsed": false,
    "deletable": true,
    "editable": true
   },
   "outputs": [
    {
     "name": "stdout",
     "output_type": "stream",
     "text": [
      "/mnt/hgfs/SHARED_FOLDER/Git_repo/CRAGIG_run1/Scripts\n"
     ]
    }
   ],
   "source": [
    "cd /mnt/hgfs/SHARED_FOLDER/Git_repo/CRAGIG_run1/Scripts"
   ]
  },
  {
   "cell_type": "code",
   "execution_count": 5,
   "metadata": {
    "collapsed": false,
    "deletable": true,
    "editable": true,
    "scrolled": true
   },
   "outputs": [
    {
     "name": "stdout",
     "output_type": "stream",
     "text": [
      "usage: easy_ustacks.py [-h] -t TYPE -i INPUTDIR [-r] [-d] [-o OUT]\r\n",
      "                       [-m MINDEPTH] [-M MAXDIS] [-p THREADS] [-x STARTID] -c\r\n",
      "                       COUNT [-P POPMAP]\r\n",
      "\r\n",
      "Write and call a ustacks shell script, and plot results\r\n",
      "\r\n",
      "optional arguments:\r\n",
      "  -h, --help            show this help message and exit\r\n",
      "  -t TYPE, --type TYPE  input file type; supported types: fasta, fastq,\r\n",
      "                        gzfasta, gzfastsq\r\n",
      "  -i INPUTDIR, --inputdir INPUTDIR\r\n",
      "                        relative path to directory with samples for ustacks\r\n",
      "  -r, --removal         enable the removal algorithm to drop highly-repetitive\r\n",
      "                        stacks\r\n",
      "  -d, --delever         enable the deleveraging algortih for resolving merged\r\n",
      "                        tags\r\n",
      "  -o OUT, --out OUT     output path to write results\r\n",
      "  -m MINDEPTH, --mindepth MINDEPTH\r\n",
      "                        minimum depth of coverage required to create a stack;\r\n",
      "                        default 2\r\n",
      "  -M MAXDIS, --maxdis MAXDIS\r\n",
      "                        maximum distance in nucleotides allowed between stacks\r\n",
      "  -p THREADS, --threads THREADS\r\n",
      "                        allow parallel execution with p num threads\r\n",
      "  -x STARTID, --startID STARTID\r\n",
      "                        starting number for SQL ID intger if not starting at\r\n",
      "                        001\r\n",
      "  -c COUNT, --count COUNT\r\n",
      "                        name of text file that will store unique loci count\r\n",
      "                        data\r\n",
      "  -P POPMAP, --popmap POPMAP\r\n",
      "                        population map\r\n"
     ]
    }
   ],
   "source": [
    "!python easy_ustacks.py --help"
   ]
  },
  {
   "cell_type": "markdown",
   "metadata": {},
   "source": [
    "Running easy_ustacks looked like:\n",
    "<br>\n",
    "\n",
    "```\n",
    "$ python easy_ustacks.py -t fastq -i ../../../../WorkingFolder/Stacks -r -d -o .\n",
    "./../../../WorkingFolder/Stacks_m3 -m 10 -M 3 -p 10 -c ustacks_loci_counts_m3_20170505.txt -P ../../../../WorkingFolder/popmap_cragigrun1_m10.txt\n",
    "\n",
    "```\n",
    "\n",
    "Example line of code from generated bash script:\n",
    "\n",
    "```\n",
    "stacks ustacks -f ../../../../WorkingFolder/Stacks/FG009.fq -i 0 -m 10 -t fastq -o ../../../../WorkingFolder/Stacks_m3 -p 10 -M 3 -r -d\n",
    "\n",
    "```\n",
    "And the plot of retained ustacks loci looked like:\n",
    "\n",
    "![image](https://github.com/nclowell/RAD_Scallops/blob/master/CRAGIG_run1/Notebooks/images_for_notebooks/ret_loci_after_ustacks_m3_20170505.png?raw=true)\n",
    "\n",
    "#### cstacks\n",
    "\n",
    "I took the ustacks output from allowing 3 mismatches in ustacks, and now will run through cstacks with the same set of mismatch parameters (n = 3,7,10,13,16).\n",
    "\n",
    "I ran it all together in a bash script:\n",
    "```\n",
    "stacks cstacks -b 103 -s Stacks_m3/FG009 -s Stacks_m3/FG001 -s Stacks_m3/FG102_B -s Stacks_m3/FG100_B -s Stacks_m3/FG205 -s Stacks_m3/FG212 -s Stacks_m3/Q324 -s Stacks_m3/Q314 -s Stacks_m3/Q339 -s Stacks_m3/Q330 -o Stacks_m3/n3 -n 3 -p 10\n",
    "stacks cstacks -b 107 -s Stacks_m3/FG009 -s Stacks_m3/FG001 -s Stacks_m3/FG102_B -s Stacks_m3/FG100_B -s Stacks_m3/FG205 -s Stacks_m3/FG212 -s Stacks_m3/Q324 -s Stacks_m3/Q314 -s Stacks_m3/Q339 -s Stacks_m3/Q330 -o Stacks_m3/n7 -n 7 -p 10\n",
    "stacks cstacks -b 110 -s Stacks_m3/FG009 -s Stacks_m3/FG001 -s Stacks_m3/FG102_B -s Stacks_m3/FG100_B -s Stacks_m3/FG205 -s Stacks_m3/FG212 -s Stacks_m3/Q324 -s Stacks_m3/Q314 -s Stacks_m3/Q339 -s Stacks_m3/Q330 -o Stacks_m3/n10 -n 10 -p 10\n",
    "stacks cstacks -b 113 -s Stacks_m3/FG009 -s Stacks_m3/FG001 -s Stacks_m3/FG102_B -s Stacks_m3/FG100_B -s Stacks_m3/FG205 -s Stacks_m3/FG212 -s Stacks_m3/Q324 -s Stacks_m3/Q314 -s Stacks_m3/Q339 -s Stacks_m3/Q330 -o Stacks_m3/n13 -n 13 -p 10\n",
    "stacks cstacks -b 116 -s Stacks_m3/FG009 -s Stacks_m3/FG001 -s Stacks_m3/FG102_B -s Stacks_m3/FG100_B -s Stacks_m3/FG205 -s Stacks_m3/FG212 -s Stacks_m3/Q324 -s Stacks_m3/Q314 -s Stacks_m3/Q339 -s Stacks_m3/Q330 -o Stacks_m3/n16 -n 16 -p 10\n",
    "```"
   ]
  },
  {
   "cell_type": "markdown",
   "metadata": {},
   "source": [
    "Find out retained loci in catalog to see effect of mismatches allowed"
   ]
  },
  {
   "cell_type": "code",
   "execution_count": 20,
   "metadata": {
    "collapsed": false
   },
   "outputs": [
    {
     "name": "stdout",
     "output_type": "stream",
     "text": [
      "/mnt/hgfs/SHARED_FOLDER/WorkingFolder/Stacks_m3/n3\n"
     ]
    }
   ],
   "source": [
    "cd /mnt/hgfs/SHARED_FOLDER/WorkingFolder/Stacks_m3/n3"
   ]
  },
  {
   "cell_type": "code",
   "execution_count": 21,
   "metadata": {
    "collapsed": false
   },
   "outputs": [
    {
     "name": "stdout",
     "output_type": "stream",
     "text": [
      "batch_103.catalog.tags.tsv:127316\r\n"
     ]
    }
   ],
   "source": [
    "!grep --count --with-filename consensus batch_103.catalog.tags.tsv"
   ]
  },
  {
   "cell_type": "code",
   "execution_count": 24,
   "metadata": {
    "collapsed": false
   },
   "outputs": [
    {
     "name": "stdout",
     "output_type": "stream",
     "text": [
      "/mnt/hgfs/SHARED_FOLDER/WorkingFolder/Stacks_m3/n7\n"
     ]
    }
   ],
   "source": [
    "cd /mnt/hgfs/SHARED_FOLDER/WorkingFolder/Stacks_m3/n7"
   ]
  },
  {
   "cell_type": "code",
   "execution_count": 25,
   "metadata": {
    "collapsed": false
   },
   "outputs": [
    {
     "name": "stdout",
     "output_type": "stream",
     "text": [
      "batch_107.catalog.tags.tsv:107738\r\n"
     ]
    }
   ],
   "source": [
    "!grep --count --with-filename consensus batch_107.catalog.tags.tsv"
   ]
  },
  {
   "cell_type": "code",
   "execution_count": 32,
   "metadata": {
    "collapsed": false
   },
   "outputs": [
    {
     "name": "stdout",
     "output_type": "stream",
     "text": [
      "/mnt/hgfs/SHARED_FOLDER/WorkingFolder/Stacks_m3/n10\n"
     ]
    }
   ],
   "source": [
    "cd /mnt/hgfs/SHARED_FOLDER/WorkingFolder/Stacks_m3/n10"
   ]
  },
  {
   "cell_type": "code",
   "execution_count": 34,
   "metadata": {
    "collapsed": false
   },
   "outputs": [
    {
     "name": "stdout",
     "output_type": "stream",
     "text": [
      "batch_110.catalog.tags.tsv:102860\r\n"
     ]
    }
   ],
   "source": [
    "!grep --count --with-filename consensus batch_110.catalog.tags.tsv"
   ]
  },
  {
   "cell_type": "code",
   "execution_count": 35,
   "metadata": {
    "collapsed": false
   },
   "outputs": [
    {
     "name": "stdout",
     "output_type": "stream",
     "text": [
      "/mnt/hgfs/SHARED_FOLDER/WorkingFolder/Stacks_m3/n13\n"
     ]
    }
   ],
   "source": [
    "cd /mnt/hgfs/SHARED_FOLDER/WorkingFolder/Stacks_m3/n13"
   ]
  },
  {
   "cell_type": "code",
   "execution_count": null,
   "metadata": {
    "collapsed": true
   },
   "outputs": [],
   "source": [
    "!grep --count --with-filename consensus batch_113.catalog.tags.tsv"
   ]
  },
  {
   "cell_type": "code",
   "execution_count": null,
   "metadata": {
    "collapsed": true
   },
   "outputs": [],
   "source": [
    "cd /mnt/hgfs/SHARED_FOLDER/WorkingFolder/Stacks_m3/n16"
   ]
  },
  {
   "cell_type": "code",
   "execution_count": null,
   "metadata": {
    "collapsed": true
   },
   "outputs": [],
   "source": [
    "!grep --count --with-filename consensus batch_116.catalog.tags.tsv"
   ]
  },
  {
   "cell_type": "code",
   "execution_count": 36,
   "metadata": {
    "collapsed": true
   },
   "outputs": [],
   "source": [
    "import matplotlib.pyplot as plt\n",
    "import numpy as np"
   ]
  },
  {
   "cell_type": "code",
   "execution_count": 37,
   "metadata": {
    "collapsed": true
   },
   "outputs": [],
   "source": [
    "nvals = [3,7,10]\n",
    "catalog_counts = [127316,107738,102860]"
   ]
  },
  {
   "cell_type": "code",
   "execution_count": 40,
   "metadata": {
    "collapsed": false
   },
   "outputs": [
    {
     "data": {
      "image/png": "[encoded data removed]",
      "text/plain": [
       "<matplotlib.figure.Figure at 0x7f26e4160650>"
      ]
     },
     "metadata": {},
     "output_type": "display_data"
    }
   ],
   "source": [
    "plt.scatter(nvals,catalog_counts)\n",
    "plt.suptitle(\"Loci in catalog after different mismatches allowed\")\n",
    "plt.xlabel(\"Mismatches between sample loci (cstacks n)\")\n",
    "plt.ylabel(\"Loci in catalog\")\n",
    "plt.show()"
   ]
  },
  {
   "cell_type": "markdown",
   "metadata": {},
   "source": [
    "## Mismatch parameter 7\n",
    "\n",
    "#### ``ustacks``"
   ]
  },
  {
   "cell_type": "markdown",
   "metadata": {},
   "source": [
    "Running easy_ustacks looked like:\n",
    "<br>\n",
    "\n",
    "```\n",
    "$ python easy_ustacks.py -t fastq -i ../../../../WorkingFolder/Stacks -r -d -o ../../../../WorkingFolder/Stacks_m7 -m 10 -M 7 -p 10 -c ustacks_loci_counts_20170503.txt -P ../../../../WorkingFolder/popmap_cragigrun1_m10.txt\n",
    "```\n",
    "\n",
    "Example line of code from generated bash script:\n",
    "\n",
    "```\n",
    "stacks ustacks -f ../../../../WorkingFolder/Stacks/FG009.fq -i 0 -m 10 -t fastq -o ../../../../WorkingFolder/Stacks_m7 -p 10 -M 7 -r -d\n",
    "\n",
    "```\n",
    "And the plot of retained ustacks loci looked like:\n",
    "\n",
    "![image](https://github.com/nclowell/RAD_Scallops/blob/master/CRAGIG_run1/Notebooks/images_for_notebooks/ret_loc_after_ustacks_m7_20170503.png?raw=true)"
   ]
  },
  {
   "cell_type": "code",
   "execution_count": null,
   "metadata": {
    "collapsed": true
   },
   "outputs": [],
   "source": []
  },
  {
   "cell_type": "code",
   "execution_count": null,
   "metadata": {
    "collapsed": true
   },
   "outputs": [],
   "source": []
  },
  {
   "cell_type": "markdown",
   "metadata": {
    "deletable": true,
    "editable": true
   },
   "source": [
    "## Mismatch parameter 10\n",
    "\n",
    "#### ``ustacks``"
   ]
  },
  {
   "cell_type": "markdown",
   "metadata": {
    "deletable": true,
    "editable": true
   },
   "source": [
    "Running easy_ustacks looked like:\n",
    "<br>\n",
    "```\n",
    "$ python easy_ustacks.py -t fastq -i ../../../../WorkingFolder/Stacks -r -d -o Stacks_m10 -m 10 -M 10 -p 10 -c ../../../../WorkingFolder/Stacks_m10/ustacks_loci_counts_20170501.txt -P ../../../../WorkingFolder/popmap_cragigrun1_m10.txt\n",
    "\n",
    "```\n",
    "\n",
    "Example line of code from generated bash script:\n",
    "\n",
    "```\n",
    "stacks ustacks -f ../../../../WorkingFolder/Stacks/FG009.fq -i 0 -m 10 -t fastq -o ../../../../WorkingFolder/Stacks_m10 -p 10 -M 10 -r -d \n",
    "\n",
    "```\n",
    "And the plot of retained ustacks loci looked like:\n",
    "\n",
    "![image](https://github.com/nclowell/RAD_Scallops/blob/master/CRAGIG_run1/Notebooks/images_for_notebooks/ret_loci_after_ustacks_m10_20170503.png?raw=true)"
   ]
  },
  {
   "cell_type": "markdown",
   "metadata": {},
   "source": []
  },
  {
   "cell_type": "code",
   "execution_count": null,
   "metadata": {
    "collapsed": true
   },
   "outputs": [],
   "source": []
  },
  {
   "cell_type": "code",
   "execution_count": null,
   "metadata": {
    "collapsed": true
   },
   "outputs": [],
   "source": []
  },
  {
   "cell_type": "markdown",
   "metadata": {},
   "source": [
    "## Mismatch parameter 13\n",
    "\n",
    "#### ``ustacks``"
   ]
  },
  {
   "cell_type": "markdown",
   "metadata": {},
   "source": [
    "Running easy_ustacks looked like:\n",
    "<br>\n",
    "\n",
    "```\n",
    "$ python easy_ustacks.py -t fastq -i ../../../../WorkingFolder/Stacks -r -d -o .\n",
    "./../../../WorkingFolder/Stacks_m13 -m 10 -M 13 -p 10 -c ustacks_loci_counts_m13_20170503.txt -P ../../../../WorkingFolder/popmap_cragigrun1_m10.txt\n",
    "\n",
    "```\n",
    "\n",
    "Example line of code from generated bash script:\n",
    "\n",
    "```\n",
    "stacks ustacks -f ../../../../WorkingFolder/Stacks/FG009.fq -i 0 -m 10 -t fastq -o ../../../../WorkingFolder/Stacks_m13 -p 10 -M 13 -r -d \n",
    "```\n",
    "And the plot of retained ustacks loci looked like:\n",
    "\n",
    "![image](https://github.com/nclowell/RAD_Scallops/blob/master/CRAGIG_run1/Notebooks/images_for_notebooks/ret_loci_after_ustacks_m13_20170505.png?raw=true)"
   ]
  },
  {
   "cell_type": "markdown",
   "metadata": {},
   "source": [
    "## Mismatch parameter 16\n",
    "\n",
    "#### ``ustacks``"
   ]
  },
  {
   "cell_type": "markdown",
   "metadata": {},
   "source": [
    "Running easy_ustacks looked like:\n",
    "<br>\n",
    "\n",
    "```\n",
    "$ python easy_ustacks.py -t fastq -i ../../../../WorkingFolder/Stacks -r -d -o .\n",
    "./../../../WorkingFolder/Stacks_m16 -m 10 -M 16 -p 10 -c ustacks_loci_counts_m16_20170505.txt -P ../../../../WorkingFolder/popmap_cragigrun1_m10.txt\n",
    "\n",
    "```\n",
    "\n",
    "Example line of code from generated bash script:\n",
    "\n",
    "```\n",
    "stacks ustacks -f ../../../../WorkingFolder/Stacks/FG009.fq -i 0 -m 10 -t fastq -o ../../../../WorkingFolder/Stacks_m16 -p 10 -M 16 -r -d \n",
    "```\n",
    "And the plot of retained ustacks loci looked like:\n",
    "\n",
    "![image](https://github.com/nclowell/RAD_Scallops/blob/master/CRAGIG_run1/Notebooks/images_for_notebooks/ret_loci_after_ustacks_m16_20170508.png?raw=true)"
   ]
  },
  {
   "cell_type": "markdown",
   "metadata": {},
   "source": [
    "## Effect of ustacks ``M`` on number of retained loci after ustacks\n",
    "\n",
    "**20170508**"
   ]
  },
  {
   "cell_type": "code",
   "execution_count": 4,
   "metadata": {
    "collapsed": false
   },
   "outputs": [
    {
     "name": "stdout",
     "output_type": "stream",
     "text": [
      "/mnt/hgfs/SHARED_FOLDER\n"
     ]
    }
   ],
   "source": [
    "cd /mnt/hgfs/SHARED_FOLDER"
   ]
  },
  {
   "cell_type": "code",
   "execution_count": 12,
   "metadata": {
    "collapsed": true
   },
   "outputs": [],
   "source": [
    "import matplotlib.pyplot as plt\n",
    "import numpy as np"
   ]
  },
  {
   "cell_type": "code",
   "execution_count": 5,
   "metadata": {
    "collapsed": true
   },
   "outputs": [],
   "source": [
    "ret_loci = open(\"m_and_ret_loci_20170508.csv\",\"r\")\n",
    "lines = ret_loci.readlines()\n",
    "ret_loci.close()"
   ]
  },
  {
   "cell_type": "code",
   "execution_count": 10,
   "metadata": {
    "collapsed": true
   },
   "outputs": [],
   "source": [
    "list_array = []\n",
    "for line in lines:\n",
    "    linelist = line.strip().split(\",\")\n",
    "    list_array.append(linelist)"
   ]
  },
  {
   "cell_type": "code",
   "execution_count": 11,
   "metadata": {
    "collapsed": false
   },
   "outputs": [
    {
     "name": "stdout",
     "output_type": "stream",
     "text": [
      "['FG001', '28888', '27512', '27274', '27224', '27211']\n"
     ]
    }
   ],
   "source": [
    "print list_array[1]"
   ]
  },
  {
   "cell_type": "code",
   "execution_count": 8,
   "metadata": {
    "collapsed": false
   },
   "outputs": [],
   "source": [
    "mvals = [3,7,10,13,16]"
   ]
  },
  {
   "cell_type": "code",
   "execution_count": 18,
   "metadata": {
    "collapsed": false
   },
   "outputs": [
    {
     "data": {
      "image/png": "[encoded data removed]",
      "text/plain": [
       "<matplotlib.figure.Figure at 0x7f26e425d8d0>"
      ]
     },
     "metadata": {},
     "output_type": "display_data"
    }
   ],
   "source": [
    "for line in list_array[1:]:\n",
    "    sample = line[0]\n",
    "    counts_ch = (line[1:])\n",
    "    counts_int = []\n",
    "    for count in counts_ch:\n",
    "        int_count = int(count)\n",
    "        counts_int.append(int_count)\n",
    "    plt.scatter(mvals, counts_int)\n",
    "\n",
    "plt.suptitle(\"Retained loci after ustacks with differet number allowed mismatches\")  \n",
    "plt.xlabel(\"Mismatches allowed (M)\")\n",
    "plt.ylabel(\"Retained loci after ustacks\")\n",
    "plt.show()"
   ]
  },
  {
   "cell_type": "markdown",
   "metadata": {},
   "source": [
    "Wow. Almost no effect at all. Increasing the M parameter seems to almost not affect the number of retained loci after ustacks. The drop is just a couple hundred loci after M = 6."
   ]
  },
  {
   "cell_type": "code",
   "execution_count": null,
   "metadata": {
    "collapsed": true
   },
   "outputs": [],
   "source": []
  }
 ],
 "metadata": {
  "kernelspec": {
   "display_name": "Python 2",
   "language": "python",
   "name": "python2"
  },
  "language_info": {
   "codemirror_mode": {
    "name": "ipython",
    "version": 2
   },
   "file_extension": ".py",
   "mimetype": "text/x-python",
   "name": "python",
   "nbconvert_exporter": "python",
   "pygments_lexer": "ipython2",
   "version": "2.7.12"
  }
 },
 "nbformat": 4,
 "nbformat_minor": 2
}
