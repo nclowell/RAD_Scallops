{
 "cells": [
  {
   "cell_type": "markdown",
   "metadata": {
    "deletable": true,
    "editable": true
   },
   "source": [
    "## Evaluating the switch Bowtie2\n",
    "\n",
    "**20170515**\n",
    "\n",
    "Taken from [the Bowtie2 FAQ web page](http://bowtie-bio.sourceforge.net/bowtie2/faq.shtml), the main differences between Bowtie and Bowtie2 are:\n",
    "* Bowtie 2 fully supports gapped alignment with affine gap penalties. Number of gaps and gap lengths are not restricted, except via the user-supplied scoring scheme. Bowtie 1 only finds ungapped alignments.\n",
    "* For reads longer than about 50 bp Bowtie 2 is generally faster, more sensitive, and uses less memory than Bowtie * For relatively short reads (e.g. less than 50 bp) Bowtie 1 is sometimes faster and/or more sensitive.\n",
    "* Bowtie 2 supports a \"local\" alignment mode, which doesn't require that reads align end-to-end. This produces alignments that might be \"trimmed\" (or \"soft clipped\") at one or both extremes in a way that optimizes alignment score. Bowtie 2 also supports an \"end-to-end\" alignment mode which, like Bowtie 1, requires that the read align entirely.\n",
    "* There is no upper limit on read length in Bowtie 2. Bowtie 1 had an upper limit of around 1000 bp.\n",
    "* Bowtie 2 does away with Bowtie 1's notion of alignment \"stratum\". In Bowtie 2 all alignments lie along a continuous spectrum of alignment scores.\n",
    "* There is no longer a distinction between \"end-to-end\" and \"Maq-like\" modes as in Bowtie 1. There is just one scoring scheme, similar to Needleman-Wunsch and Smith-Waterman.\n",
    "* Bowtie 2's paired-end alignment mode is more flexible than Bowtie 1's. For example, for pairs that do not align in a paired fashion, it will attempt to find unpaired alignments for each mate.\n",
    "* Bowtie 2 does not align colorspace reads.\n",
    "\n",
    "Given that Bowtie2 fully supports gapped alignments, I think it's worth evaluating how much this affects the filtering stage in our pipeline, especially given the amount of genetic variation and indels in my data compared to that of my peers.\n",
    "\n",
    "I verified that the output SAM file formats are about the same, so I'm going to run the Bowtie filtering steps in this notebook using both Bowtie and Bowtie2 to compare results.\n",
    "\n",
    "### Bowtie2\n",
    "\n",
    "I can't use the same bowtie index, so I'll need to make a new one with the fasta file of lociin the Bowtie filtering step of this [CRAGIG_RUN1 notebook](https://github.com/nclowell/RAD_Scallops/blob/master/CRAGIG_run1/Notebooks/data_processing/CRAGIG_RUN1.ipynb).\n",
    "\n",
    "When I originally ran Bowtie, I used the following code:\n",
    "\n",
    "```\n",
    "!bowtie -f -v 3 --sam --sam-nohead \\\n",
    "batch_100 \\\n",
    "seqsforBOWTIE.fa \\\n",
    "batch_100_BOWTIEout_bowtie2_test.sam\n",
    "```\n",
    "\n",
    "- f refers to input file format as fasta\n",
    "- v refers to the number of mismatches allowed\n",
    "- --sam refers to the option to print alignments in SAM format\n",
    "- --sam-nohead to repress header\n",
    "\n",
    "There's no equivalent to -v in bowtie2, as far as I can see from the [manual](http://bowtie-bio.sourceforge.net/bowtie2/manual.shtml#sam-output). And I'll have to also remake the index as Bowtie and Bowtie2 indeces are not compatible. So it won't be a perfect comparison. Going to use default scoring values to test it out."
   ]
  },
  {
   "cell_type": "code",
   "execution_count": 8,
   "metadata": {
    "collapsed": false,
    "deletable": true,
    "editable": true
   },
   "outputs": [
    {
     "name": "stdout",
     "output_type": "stream",
     "text": [
      "/mnt/hgfs/SHARED_FOLDER/WorkingFolder/Bowtie/bowtie-1.2\n"
     ]
    }
   ],
   "source": [
    "cd /mnt/hgfs/SHARED_FOLDER/WorkingFolder/Bowtie/bowtie-1.2"
   ]
  },
  {
   "cell_type": "code",
   "execution_count": 22,
   "metadata": {
    "collapsed": false,
    "deletable": true,
    "editable": true
   },
   "outputs": [
    {
     "name": "stdout",
     "output_type": "stream",
     "text": [
      "\u001b[0m\u001b[01;32mAUTHORS\u001b[0m*                                  \u001b[01;32mbowtie-inspect\u001b[0m*\r\n",
      "\u001b[01;32mbatch_100.1.ebwt\u001b[0m*                         \u001b[01;32mbowtie-inspect-l\u001b[0m*\r\n",
      "\u001b[01;32mbatch_100.2.ebwt\u001b[0m*                         \u001b[01;32mbowtie-inspect-l-debug\u001b[0m*\r\n",
      "\u001b[01;32mbatch_100.3.ebwt\u001b[0m*                         \u001b[01;32mbowtie-inspect-s\u001b[0m*\r\n",
      "\u001b[01;32mbatch_100.4.ebwt\u001b[0m*                         \u001b[01;32mbowtie-inspect-s-debug\u001b[0m*\r\n",
      "\u001b[01;32mbatch_100_BOWTIEout_bowtie2_test.sam\u001b[0m*     \u001b[34;42mdoc\u001b[0m/\r\n",
      "\u001b[01;32mbatch_100_BOWTIEout.sam\u001b[0m*                  \u001b[34;42mgenomes\u001b[0m/\r\n",
      "\u001b[01;32mbatch_100.rev.1.ebwt\u001b[0m*                     \u001b[34;42mindexes\u001b[0m/\r\n",
      "\u001b[01;32mbatch_100.rev.2.ebwt\u001b[0m*                     \u001b[01;32mLICENSE\u001b[0m*\r\n",
      "\u001b[01;32mbowtie\u001b[0m*                                   \u001b[01;32mMANUAL\u001b[0m*\r\n",
      "\u001b[01;32mbowtie-align-l\u001b[0m*                           \u001b[01;32mMANUAL.markdown\u001b[0m*\r\n",
      "\u001b[01;32mbowtie-align-l-debug\u001b[0m*                     \u001b[01;32mNEWS\u001b[0m*\r\n",
      "\u001b[01;32mbowtie-align-s\u001b[0m*                           \u001b[01;32mparseBowtie_DD.py\u001b[0m*\r\n",
      "\u001b[01;32mbowtie-align-s-debug\u001b[0m*                     \u001b[34;42mreads\u001b[0m/\r\n",
      "\u001b[01;32mbowtie-build\u001b[0m*                             \u001b[34;42mscripts\u001b[0m/\r\n",
      "\u001b[01;32mbowtie-build-l\u001b[0m*                           \u001b[34;42mSeqAn-1.1\u001b[0m/\r\n",
      "\u001b[01;32mbowtie-build-l-debug\u001b[0m*                     \u001b[01;32mseqsforBOWTIE.fa\u001b[0m*\r\n",
      "\u001b[01;32mbowtie-build-s\u001b[0m*                           \u001b[01;32mTUTORIAL\u001b[0m*\r\n",
      "\u001b[01;32mbowtie-build-s-debug\u001b[0m*                     \u001b[01;32mVERSION\u001b[0m*\r\n",
      "\u001b[34;42mbowtie_files_and_output_2017_cragigrun1\u001b[0m/\r\n"
     ]
    }
   ],
   "source": [
    "ls"
   ]
  },
  {
   "cell_type": "code",
   "execution_count": 26,
   "metadata": {
    "collapsed": false,
    "deletable": true,
    "editable": true
   },
   "outputs": [
    {
     "name": "stdout",
     "output_type": "stream",
     "text": [
      "Settings:\n",
      "  Output files: \"batch_100.*.bt2\"\n",
      "  Line rate: 6 (line is 64 bytes)\n",
      "  Lines per side: 1 (side is 64 bytes)\n",
      "  Offset rate: 4 (one in 16)\n",
      "  FTable chars: 10\n",
      "  Strings: unpacked\n",
      "  Max bucket size: default\n",
      "  Max bucket size, sqrt multiplier: default\n",
      "  Max bucket size, len divisor: 4\n",
      "  Difference-cover sample period: 1024\n",
      "  Endianness: little\n",
      "  Actual local endianness: little\n",
      "  Sanity checking: disabled\n",
      "  Assertions: disabled\n",
      "  Random seed: 0\n",
      "  Sizeofs: void*:8, int:4, long:8, size_t:8\n",
      "Input files DNA, FASTA:\n",
      "  seqsforBOWTIE.fa\n",
      "Building a SMALL index\n",
      "Reading reference sizes\n",
      "  Time reading reference sizes: 00:00:00\n",
      "Calculating joined length\n",
      "Writing header\n",
      "Reserving space for joined string\n",
      "Joining reference sequences\n",
      "  Time to join reference sequences: 00:00:00\n",
      "bmax according to bmaxDivN setting: 954860\n",
      "Using parameters --bmax 716145 --dcv 1024\n",
      "  Doing ahead-of-time memory usage test\n",
      "  Passed!  Constructing with these parameters: --bmax 716145 --dcv 1024\n",
      "Constructing suffix-array element generator\n",
      "Building DifferenceCoverSample\n",
      "  Building sPrime\n",
      "  Building sPrimeOrder\n",
      "  V-Sorting samples\n",
      "  V-Sorting samples time: 00:00:01\n",
      "  Allocating rank array\n",
      "  Ranking v-sort output\n",
      "  Ranking v-sort output time: 00:00:00\n",
      "  Invoking Larsson-Sadakane on ranks\n",
      "  Invoking Larsson-Sadakane on ranks time: 00:00:00\n",
      "  Sanity-checking and returning\n",
      "Building samples\n",
      "Reserving space for 12 sample suffixes\n",
      "Generating random suffixes\n",
      "QSorting 12 sample offsets, eliminating duplicates\n",
      "QSorting sample offsets, eliminating duplicates time: 00:00:00\n",
      "Multikey QSorting 12 samples\n",
      "  (Using difference cover)\n",
      "  Multikey QSorting samples time: 00:00:00\n",
      "Calculating bucket sizes\n",
      "  Binary sorting into buckets\n",
      "  10%\n",
      "  20%\n",
      "  30%\n",
      "  40%\n",
      "  50%\n",
      "  60%\n",
      "  70%\n",
      "  80%\n",
      "  90%\n",
      "  100%\n",
      "  Binary sorting into buckets time: 00:00:00\n",
      "Splitting and merging\n",
      "  Splitting and merging time: 00:00:00\n",
      "Split 1, merged 6; iterating...\n",
      "  Binary sorting into buckets\n",
      "  10%\n",
      "  20%\n",
      "  30%\n",
      "  40%\n",
      "  50%\n",
      "  60%\n",
      "  70%\n",
      "  80%\n",
      "  90%\n",
      "  100%\n",
      "  Binary sorting into buckets time: 00:00:01\n",
      "Splitting and merging\n",
      "  Splitting and merging time: 00:00:00\n",
      "Avg bucket size: 477429 (target: 716144)\n",
      "Converting suffix-array elements to index image\n",
      "Allocating ftab, absorbFtab\n",
      "Entering Ebwt loop\n",
      "Getting block 1 of 8\n",
      "  Reserving size (716145) for bucket\n",
      "  Calculating Z arrays\n",
      "  Calculating Z arrays time: 00:00:00\n",
      "  Entering block accumulator loop:\n",
      "  10%\n",
      "  20%\n",
      "  30%\n",
      "  40%\n",
      "  50%\n",
      "  60%\n",
      "  70%\n",
      "  80%\n",
      "  90%\n",
      "  100%\n",
      "  Block accumulator loop time: 00:00:00\n",
      "  Sorting block of length 587728\n",
      "  (Using difference cover)\n",
      "  Sorting block time: 00:00:00\n",
      "Returning block of 587729\n",
      "Getting block 2 of 8\n",
      "  Reserving size (716145) for bucket\n",
      "  Calculating Z arrays\n",
      "  Calculating Z arrays time: 00:00:00\n",
      "  Entering block accumulator loop:\n",
      "  10%\n",
      "  20%\n",
      "  30%\n",
      "  40%\n",
      "  50%\n",
      "  60%\n",
      "  70%\n",
      "  80%\n",
      "  90%\n",
      "  100%\n",
      "  Block accumulator loop time: 00:00:00\n",
      "  Sorting block of length 430345\n",
      "  (Using difference cover)\n",
      "  Sorting block time: 00:00:01\n",
      "Returning block of 430346\n",
      "Getting block 3 of 8\n",
      "  Reserving size (716145) for bucket\n",
      "  Calculating Z arrays\n",
      "  Calculating Z arrays time: 00:00:00\n",
      "  Entering block accumulator loop:\n",
      "  10%\n",
      "  20%\n",
      "  30%\n",
      "  40%\n",
      "  50%\n",
      "  60%\n",
      "  70%\n",
      "  80%\n",
      "  90%\n",
      "  100%\n",
      "  Block accumulator loop time: 00:00:00\n",
      "  Sorting block of length 291143\n",
      "  (Using difference cover)\n",
      "  Sorting block time: 00:00:00\n",
      "Returning block of 291144\n",
      "Getting block 4 of 8\n",
      "  Reserving size (716145) for bucket\n",
      "  Calculating Z arrays\n",
      "  Calculating Z arrays time: 00:00:00\n",
      "  Entering block accumulator loop:\n",
      "  10%\n",
      "  20%\n",
      "  30%\n",
      "  40%\n",
      "  50%\n",
      "  60%\n",
      "  70%\n",
      "  80%\n",
      "  90%\n",
      "  100%\n",
      "  Block accumulator loop time: 00:00:00\n",
      "  Sorting block of length 637647\n",
      "  (Using difference cover)\n",
      "  Sorting block time: 00:00:01\n",
      "Returning block of 637648\n",
      "Getting block 5 of 8\n",
      "  Reserving size (716145) for bucket\n",
      "  Calculating Z arrays\n",
      "  Calculating Z arrays time: 00:00:00\n",
      "  Entering block accumulator loop:\n",
      "  10%\n",
      "  20%\n",
      "  30%\n",
      "  40%\n",
      "  50%\n",
      "  60%\n",
      "  70%\n",
      "  80%\n",
      "  90%\n",
      "  100%\n",
      "  Block accumulator loop time: 00:00:00\n",
      "  Sorting block of length 637536\n",
      "  (Using difference cover)\n",
      "  Sorting block time: 00:00:00\n",
      "Returning block of 637537\n",
      "Getting block 6 of 8\n",
      "  Reserving size (716145) for bucket\n",
      "  Calculating Z arrays\n",
      "  Calculating Z arrays time: 00:00:00\n",
      "  Entering block accumulator loop:\n",
      "  10%\n",
      "  20%\n",
      "  30%\n",
      "  40%\n",
      "  50%\n",
      "  60%\n",
      "  70%\n",
      "  80%\n",
      "  90%\n",
      "  100%\n",
      "  Block accumulator loop time: 00:00:01\n",
      "  Sorting block of length 477289\n",
      "  (Using difference cover)\n",
      "  Sorting block time: 00:00:00\n",
      "Returning block of 477290\n",
      "Getting block 7 of 8\n",
      "  Reserving size (716145) for bucket\n",
      "  Calculating Z arrays\n",
      "  Calculating Z arrays time: 00:00:00\n",
      "  Entering block accumulator loop:\n",
      "  10%\n",
      "  20%\n",
      "  30%\n",
      "  40%\n",
      "  50%\n",
      "  60%\n",
      "  70%\n",
      "  80%\n",
      "  90%\n",
      "  100%\n",
      "  Block accumulator loop time: 00:00:00\n",
      "  Sorting block of length 546629\n",
      "  (Using difference cover)\n",
      "  Sorting block time: 00:00:00\n",
      "Returning block of 546630\n",
      "Getting block 8 of 8\n",
      "  Reserving size (716145) for bucket\n",
      "  Calculating Z arrays\n",
      "  Calculating Z arrays time: 00:00:00\n",
      "  Entering block accumulator loop:\n",
      "  10%\n",
      "  20%\n",
      "  30%\n",
      "  40%\n",
      "  50%\n",
      "  60%\n",
      "  70%\n",
      "  80%\n",
      "  90%\n",
      "  100%\n",
      "  Block accumulator loop time: 00:00:00\n",
      "  Sorting block of length 211118\n",
      "  (Using difference cover)\n",
      "  Sorting block time: 00:00:00\n",
      "Returning block of 211119\n",
      "Exited Ebwt loop\n",
      "fchr[A]: 0\n",
      "fchr[C]: 1123971\n",
      "fchr[G]: 1863730\n",
      "fchr[T]: 2618412\n",
      "fchr[$]: 3819442\n",
      "Exiting Ebwt::buildToDisk()\n",
      "Returning from initFromVector\n",
      "Wrote 6067072 bytes to primary EBWT file: batch_100.1.bt2\n",
      "Wrote 954868 bytes to secondary EBWT file: batch_100.2.bt2\n",
      "Re-opening _in1 and _in2 as input streams\n",
      "Returning from Ebwt constructor\n",
      "Headers:\n",
      "    len: 3819442\n",
      "    bwtLen: 3819443\n",
      "    sz: 954861\n",
      "    bwtSz: 954861\n",
      "    lineRate: 6\n",
      "    offRate: 4\n",
      "    offMask: 0xfffffff0\n",
      "    ftabChars: 10\n",
      "    eftabLen: 20\n",
      "    eftabSz: 80\n",
      "    ftabLen: 1048577\n",
      "    ftabSz: 4194308\n",
      "    offsLen: 238716\n",
      "    offsSz: 954864\n",
      "    lineSz: 64\n",
      "    sideSz: 64\n",
      "    sideBwtSz: 48\n",
      "    sideBwtLen: 192\n",
      "    numSides: 19893\n",
      "    numLines: 19893\n",
      "    ebwtTotLen: 1273152\n",
      "    ebwtTotSz: 1273152\n",
      "    color: 0\n",
      "    reverse: 0\n",
      "Total time for call to driver() for forward index: 00:00:12\n",
      "Reading reference sizes\n",
      "  Time reading reference sizes: 00:00:00\n",
      "Calculating joined length\n",
      "Writing header\n",
      "Reserving space for joined string\n",
      "Joining reference sequences\n",
      "  Time to join reference sequences: 00:00:00\n",
      "  Time to reverse reference sequence: 00:00:00\n",
      "bmax according to bmaxDivN setting: 954860\n",
      "Using parameters --bmax 716145 --dcv 1024\n",
      "  Doing ahead-of-time memory usage test\n",
      "  Passed!  Constructing with these parameters: --bmax 716145 --dcv 1024\n",
      "Constructing suffix-array element generator\n",
      "Building DifferenceCoverSample\n",
      "  Building sPrime\n",
      "  Building sPrimeOrder\n",
      "  V-Sorting samples\n",
      "  V-Sorting samples time: 00:00:01\n",
      "  Allocating rank array\n",
      "  Ranking v-sort output\n",
      "  Ranking v-sort output time: 00:00:00\n",
      "  Invoking Larsson-Sadakane on ranks\n",
      "  Invoking Larsson-Sadakane on ranks time: 00:00:00\n",
      "  Sanity-checking and returning\n",
      "Building samples\n",
      "Reserving space for 12 sample suffixes\n",
      "Generating random suffixes\n",
      "QSorting 12 sample offsets, eliminating duplicates\n",
      "QSorting sample offsets, eliminating duplicates time: 00:00:00\n",
      "Multikey QSorting 12 samples\n",
      "  (Using difference cover)\n",
      "  Multikey QSorting samples time: 00:00:00\n",
      "Calculating bucket sizes\n",
      "  Binary sorting into buckets\n",
      "  10%\n",
      "  20%\n",
      "  30%\n",
      "  40%\n",
      "  50%\n",
      "  60%\n",
      "  70%\n",
      "  80%\n",
      "  90%\n",
      "  100%\n",
      "  Binary sorting into buckets time: 00:00:00\n",
      "Splitting and merging\n",
      "  Splitting and merging time: 00:00:00\n",
      "Split 1, merged 6; iterating...\n",
      "  Binary sorting into buckets\n",
      "  10%\n",
      "  20%\n",
      "  30%\n",
      "  40%\n",
      "  50%\n",
      "  60%\n",
      "  70%\n",
      "  80%\n",
      "  90%\n",
      "  100%\n",
      "  Binary sorting into buckets time: 00:00:01\n",
      "Splitting and merging\n",
      "  Splitting and merging time: 00:00:00\n",
      "Avg bucket size: 545634 (target: 716144)\n",
      "Converting suffix-array elements to index image\n",
      "Allocating ftab, absorbFtab\n",
      "Entering Ebwt loop\n",
      "Getting block 1 of 7\n",
      "  Reserving size (716145) for bucket\n",
      "  Calculating Z arrays\n",
      "  Calculating Z arrays time: 00:00:00\n",
      "  Entering block accumulator loop:\n",
      "  10%\n",
      "  20%\n",
      "  30%\n",
      "  40%\n",
      "  50%\n",
      "  60%\n",
      "  70%\n",
      "  80%\n",
      "  90%\n",
      "  100%\n",
      "  Block accumulator loop time: 00:00:00\n",
      "  Sorting block of length 344527\n",
      "  (Using difference cover)\n",
      "  Sorting block time: 00:00:00\n",
      "Returning block of 344528\n",
      "Getting block 2 of 7\n",
      "  Reserving size (716145) for bucket\n",
      "  Calculating Z arrays\n",
      "  Calculating Z arrays time: 00:00:00\n",
      "  Entering block accumulator loop:\n",
      "  10%\n",
      "  20%\n",
      "  30%\n",
      "  40%\n",
      "  50%\n",
      "  60%\n",
      "  70%\n",
      "  80%\n",
      "  90%\n",
      "  100%\n",
      "  Block accumulator loop time: 00:00:00\n",
      "  Sorting block of length 664374\n",
      "  (Using difference cover)\n",
      "  Sorting block time: 00:00:01\n",
      "Returning block of 664375\n",
      "Getting block 3 of 7\n",
      "  Reserving size (716145) for bucket\n",
      "  Calculating Z arrays\n",
      "  Calculating Z arrays time: 00:00:00\n",
      "  Entering block accumulator loop:\n",
      "  10%\n",
      "  20%\n",
      "  30%\n",
      "  40%\n",
      "  50%\n",
      "  60%\n",
      "  70%\n",
      "  80%\n",
      "  90%\n",
      "  100%\n",
      "  Block accumulator loop time: 00:00:00\n",
      "  Sorting block of length 690762\n",
      "  (Using difference cover)\n",
      "  Sorting block time: 00:00:00\n",
      "Returning block of 690763\n",
      "Getting block 4 of 7\n",
      "  Reserving size (716145) for bucket\n",
      "  Calculating Z arrays\n",
      "  Calculating Z arrays time: 00:00:00\n",
      "  Entering block accumulator loop:\n",
      "  10%\n",
      "  20%\n",
      "  30%\n",
      "  40%\n",
      "  50%\n",
      "  60%\n",
      "  70%\n",
      "  80%\n",
      "  90%\n",
      "  100%\n",
      "  Block accumulator loop time: 00:00:01\n",
      "  Sorting block of length 692492\n",
      "  (Using difference cover)\n",
      "  Sorting block time: 00:00:00\n",
      "Returning block of 692493\n",
      "Getting block 5 of 7\n",
      "  Reserving size (716145) for bucket\n",
      "  Calculating Z arrays\n",
      "  Calculating Z arrays time: 00:00:00\n",
      "  Entering block accumulator loop:\n",
      "  10%\n",
      "  20%\n",
      "  30%\n",
      "  40%\n",
      "  50%\n",
      "  60%\n",
      "  70%\n",
      "  80%\n",
      "  90%\n",
      "  100%\n",
      "  Block accumulator loop time: 00:00:00\n",
      "  Sorting block of length 358325\n",
      "  (Using difference cover)\n",
      "  Sorting block time: 00:00:00\n",
      "Returning block of 358326\n",
      "Getting block 6 of 7\n",
      "  Reserving size (716145) for bucket\n",
      "  Calculating Z arrays\n",
      "  Calculating Z arrays time: 00:00:00\n",
      "  Entering block accumulator loop:\n",
      "  10%\n",
      "  20%\n",
      "  30%\n",
      "  40%\n",
      "  50%\n",
      "  60%\n",
      "  70%\n",
      "  80%\n",
      "  90%\n",
      "  100%\n",
      "  Block accumulator loop time: 00:00:01\n",
      "  Sorting block of length 697793\n",
      "  (Using difference cover)\n",
      "  Sorting block time: 00:00:00\n",
      "Returning block of 697794\n",
      "Getting block 7 of 7\n",
      "  Reserving size (716145) for bucket\n",
      "  Calculating Z arrays\n",
      "  Calculating Z arrays time: 00:00:00\n",
      "  Entering block accumulator loop:\n",
      "  10%\n",
      "  20%\n",
      "  30%\n",
      "  40%\n",
      "  50%\n",
      "  60%\n",
      "  70%\n",
      "  80%\n",
      "  90%\n",
      "  100%\n",
      "  Block accumulator loop time: 00:00:00\n",
      "  Sorting block of length 371163\n",
      "  (Using difference cover)\n",
      "  Sorting block time: 00:00:00\n",
      "Returning block of 371164\n",
      "Exited Ebwt loop\n",
      "fchr[A]: 0\n",
      "fchr[C]: 1123971\n",
      "fchr[G]: 1863730\n",
      "fchr[T]: 2618412\n",
      "fchr[$]: 3819442\n",
      "Exiting Ebwt::buildToDisk()\n",
      "Returning from initFromVector\n",
      "Wrote 6067072 bytes to primary EBWT file: batch_100.rev.1.bt2\n",
      "Wrote 954868 bytes to secondary EBWT file: batch_100.rev.2.bt2\n",
      "Re-opening _in1 and _in2 as input streams\n",
      "Returning from Ebwt constructor\n",
      "Headers:\n",
      "    len: 3819442\n",
      "    bwtLen: 3819443\n",
      "    sz: 954861\n",
      "    bwtSz: 954861\n",
      "    lineRate: 6\n",
      "    offRate: 4\n",
      "    offMask: 0xfffffff0\n",
      "    ftabChars: 10\n",
      "    eftabLen: 20\n",
      "    eftabSz: 80\n",
      "    ftabLen: 1048577\n",
      "    ftabSz: 4194308\n",
      "    offsLen: 238716\n",
      "    offsSz: 954864\n",
      "    lineSz: 64\n",
      "    sideSz: 64\n",
      "    sideBwtSz: 48\n",
      "    sideBwtLen: 192\n",
      "    numSides: 19893\n",
      "    numLines: 19893\n",
      "    ebwtTotLen: 1273152\n",
      "    ebwtTotSz: 1273152\n",
      "    color: 0\n",
      "    reverse: 1\n",
      "Total time for backward call to driver() for mirror index: 00:00:11\n"
     ]
    }
   ],
   "source": [
    "!bowtie2-build seqsforBOWTIE.fa batch_100"
   ]
  },
  {
   "cell_type": "code",
   "execution_count": 27,
   "metadata": {
    "collapsed": false,
    "deletable": true,
    "editable": true
   },
   "outputs": [
    {
     "name": "stdout",
     "output_type": "stream",
     "text": [
      "27478 reads; of these:\r\n",
      "  27478 (100.00%) were unpaired; of these:\r\n",
      "    0 (0.00%) aligned 0 times\r\n",
      "    14230 (51.79%) aligned exactly 1 time\r\n",
      "    13248 (48.21%) aligned >1 times\r\n",
      "100.00% overall alignment rate\r\n"
     ]
    }
   ],
   "source": [
    "!bowtie2 -f --no-head \\\n",
    "-x batch_100 \\\n",
    "-U seqsforBOWTIE.fa \\\n",
    "-S batch_100_BOWTIEout_bowtie2_test.sam"
   ]
  },
  {
   "cell_type": "markdown",
   "metadata": {
    "deletable": true,
    "editable": true
   },
   "source": [
    "The output of bowtie2 is more helpful than bowtie for my needs - it looks like I should be filtering out 48.21% of the loci."
   ]
  },
  {
   "cell_type": "code",
   "execution_count": 7,
   "metadata": {
    "collapsed": false,
    "deletable": true,
    "editable": true
   },
   "outputs": [
    {
     "name": "stdout",
     "output_type": "stream",
     "text": [
      "/mnt/hgfs/SHARED_FOLDER/WorkingFolder\n"
     ]
    }
   ],
   "source": [
    "cd /mnt/hgfs/SHARED_FOLDER/WorkingFolder"
   ]
  },
  {
   "cell_type": "code",
   "execution_count": 5,
   "metadata": {
    "collapsed": false,
    "deletable": true,
    "editable": true
   },
   "outputs": [
    {
     "name": "stdout",
     "output_type": "stream",
     "text": [
      "usage: parse_bowtie_output.py [-h] -i INFILE -o OUTFILE\r\n",
      "\r\n",
      "Produces a fasta file with loci that matched to no other loci than themselves\r\n",
      "\r\n",
      "optional arguments:\r\n",
      "  -h, --help            show this help message and exit\r\n",
      "  -i INFILE, --infile INFILE\r\n",
      "                        Input SAM file of loci aligned to a bowtie index of\r\n",
      "                        the same loci\r\n",
      "  -o OUTFILE, --outfile OUTFILE\r\n",
      "                        Name of output file for filtered fasta\r\n"
     ]
    }
   ],
   "source": [
    "!python parse_bowtie_output.py -h"
   ]
  },
  {
   "cell_type": "code",
   "execution_count": 6,
   "metadata": {
    "collapsed": false,
    "deletable": true,
    "editable": true
   },
   "outputs": [
    {
     "name": "stdout",
     "output_type": "stream",
     "text": [
      "Parsed 27478 reads in your SAM file.\n",
      "Wrote 27476 reads to filtered output file.\n"
     ]
    }
   ],
   "source": [
    "!python parse_bowtie_output.py \\\n",
    "-i Bowtie/bowtie-1.2/batch_100_BOWTIEout_bowtie2_test.sam \\\n",
    "-o Bowtie/bowtie-1.2/bowtie2_filtered_20170515.fa"
   ]
  },
  {
   "cell_type": "markdown",
   "metadata": {},
   "source": [
    "I just found something that I had been doing wrong - when I counted how many loci were filtered out due to the Bowtie filtering stage, I was comparing the number of SNPs against the number of RAD tags, so my 88% estimate in my first CRAGIG RUN1 notebook is way off. A consequence of me not knowing my intermediate files in and out! I'm going back to that file to see how many RAD tags there are, and suspecting there will be 27,478. Ah. And indeed there are.\n",
    "\n",
    "It also doesn't make sense that Bowtie2 would report that about half aligned to more than one, and these didn't get filtered out. Going to go back and check Dan's parsing script.\n",
    "\n",
    "### Assessing affect of reported alignments on retained loci after Bowtie2 filtering\n",
    "\n",
    "**20170516**\n",
    "\n",
    "Ahhh! I just learned from Charlie that I need to specify the ``-k`` flag to ask for more than just the highest alignment, which of course will be itself in each of these cases. It might be useful to run it with multiple ``-k`` values to find the right one, as I could have many loci in repetitive regions and need a pretty  high value."
   ]
  },
  {
   "cell_type": "code",
   "execution_count": 43,
   "metadata": {
    "collapsed": false
   },
   "outputs": [
    {
     "name": "stdout",
     "output_type": "stream",
     "text": [
      "/mnt/hgfs/SHARED_FOLDER/WorkingFolder/Bowtie/bowtie-1.2\n"
     ]
    }
   ],
   "source": [
    "cd /mnt/hgfs/SHARED_FOLDER/WorkingFolder/Bowtie/bowtie-1.2"
   ]
  },
  {
   "cell_type": "code",
   "execution_count": 28,
   "metadata": {
    "collapsed": false
   },
   "outputs": [
    {
     "name": "stdout",
     "output_type": "stream",
     "text": [
      "27478 reads; of these:\r\n",
      "  27478 (100.00%) were unpaired; of these:\r\n",
      "    0 (0.00%) aligned 0 times\r\n",
      "    14118 (51.38%) aligned exactly 1 time\r\n",
      "    13360 (48.62%) aligned >1 times\r\n",
      "100.00% overall alignment rate\r\n"
     ]
    }
   ],
   "source": [
    "!bowtie2 -f --no-head \\\n",
    "-k 2 \\\n",
    "-x batch_100 \\\n",
    "-U seqsforBOWTIE.fa \\\n",
    "-S bowtie2_test_k2.sam"
   ]
  },
  {
   "cell_type": "code",
   "execution_count": 11,
   "metadata": {
    "collapsed": false
   },
   "outputs": [
    {
     "name": "stdout",
     "output_type": "stream",
     "text": [
      "27478 reads; of these:\r\n",
      "  27478 (100.00%) were unpaired; of these:\r\n",
      "    0 (0.00%) aligned 0 times\r\n",
      "    13995 (50.93%) aligned exactly 1 time\r\n",
      "    13483 (49.07%) aligned >1 times\r\n",
      "100.00% overall alignment rate\r\n"
     ]
    }
   ],
   "source": [
    "!bowtie2 -f --no-head \\\n",
    "-k 5 \\\n",
    "-x batch_100 \\\n",
    "-U seqsforBOWTIE.fa \\\n",
    "-S bowtie2_test_k5.sam"
   ]
  },
  {
   "cell_type": "code",
   "execution_count": 12,
   "metadata": {
    "collapsed": false
   },
   "outputs": [
    {
     "name": "stdout",
     "output_type": "stream",
     "text": [
      "27478 reads; of these:\r\n",
      "  27478 (100.00%) were unpaired; of these:\r\n",
      "    0 (0.00%) aligned 0 times\r\n",
      "    13920 (50.66%) aligned exactly 1 time\r\n",
      "    13558 (49.34%) aligned >1 times\r\n",
      "100.00% overall alignment rate\r\n"
     ]
    }
   ],
   "source": [
    "!bowtie2 -f --no-head \\\n",
    "-k 10 \\\n",
    "-x batch_100 \\\n",
    "-U seqsforBOWTIE.fa \\\n",
    "-S bowtie2_test_k10.sam"
   ]
  },
  {
   "cell_type": "code",
   "execution_count": 13,
   "metadata": {
    "collapsed": false
   },
   "outputs": [
    {
     "name": "stdout",
     "output_type": "stream",
     "text": [
      "27478 reads; of these:\r\n",
      "  27478 (100.00%) were unpaired; of these:\r\n",
      "    0 (0.00%) aligned 0 times\r\n",
      "    13891 (50.55%) aligned exactly 1 time\r\n",
      "    13587 (49.45%) aligned >1 times\r\n",
      "100.00% overall alignment rate\r\n"
     ]
    }
   ],
   "source": [
    "!bowtie2 -f --no-head \\\n",
    "-k 15 \\\n",
    "-x batch_100 \\\n",
    "-U seqsforBOWTIE.fa \\\n",
    "-S bowtie2_test_k15.sam"
   ]
  },
  {
   "cell_type": "code",
   "execution_count": 19,
   "metadata": {
    "collapsed": false
   },
   "outputs": [
    {
     "name": "stdout",
     "output_type": "stream",
     "text": [
      "27478 reads; of these:\r\n",
      "  27478 (100.00%) were unpaired; of these:\r\n",
      "    0 (0.00%) aligned 0 times\r\n",
      "    13862 (50.45%) aligned exactly 1 time\r\n",
      "    13616 (49.55%) aligned >1 times\r\n",
      "100.00% overall alignment rate\r\n"
     ]
    }
   ],
   "source": [
    "!bowtie2 -f --no-head \\\n",
    "-k 20 \\\n",
    "-x batch_100 \\\n",
    "-U seqsforBOWTIE.fa \\\n",
    "-S bowtie2_test_k20.sam"
   ]
  },
  {
   "cell_type": "code",
   "execution_count": 23,
   "metadata": {
    "collapsed": false
   },
   "outputs": [
    {
     "name": "stdout",
     "output_type": "stream",
     "text": [
      "27478 reads; of these:\r\n",
      "  27478 (100.00%) were unpaired; of these:\r\n",
      "    0 (0.00%) aligned 0 times\r\n",
      "    13806 (50.24%) aligned exactly 1 time\r\n",
      "    13672 (49.76%) aligned >1 times\r\n",
      "100.00% overall alignment rate\r\n"
     ]
    }
   ],
   "source": [
    "!bowtie2 -f --no-head \\\n",
    "-k 50 \\\n",
    "-x batch_100 \\\n",
    "-U seqsforBOWTIE.fa \\\n",
    "-S bowtie2_test_k50.sam"
   ]
  },
  {
   "cell_type": "code",
   "execution_count": 44,
   "metadata": {
    "collapsed": false
   },
   "outputs": [
    {
     "name": "stdout",
     "output_type": "stream",
     "text": [
      "27478 reads; of these:\r\n",
      "  27478 (100.00%) were unpaired; of these:\r\n",
      "    0 (0.00%) aligned 0 times\r\n",
      "    13777 (50.14%) aligned exactly 1 time\r\n",
      "    13701 (49.86%) aligned >1 times\r\n",
      "100.00% overall alignment rate\r\n"
     ]
    }
   ],
   "source": [
    "!bowtie2 -f --no-head \\\n",
    "-k 100 \\\n",
    "-x batch_100 \\\n",
    "-U seqsforBOWTIE.fa \\\n",
    "-S bowtie2_test_k100.sam"
   ]
  },
  {
   "cell_type": "code",
   "execution_count": 45,
   "metadata": {
    "collapsed": false
   },
   "outputs": [
    {
     "name": "stdout",
     "output_type": "stream",
     "text": [
      "/mnt/hgfs/SHARED_FOLDER/WorkingFolder\n"
     ]
    }
   ],
   "source": [
    "cd /mnt/hgfs/SHARED_FOLDER/WorkingFolder"
   ]
  },
  {
   "cell_type": "code",
   "execution_count": 30,
   "metadata": {
    "collapsed": false
   },
   "outputs": [
    {
     "name": "stdout",
     "output_type": "stream",
     "text": [
      "Parsed 40838 reads in your SAM file.\n",
      "Wrote 13553 reads to filtered output file.\n"
     ]
    }
   ],
   "source": [
    "!python parse_bowtie_output.py \\\n",
    "-i Bowtie/bowtie-1.2/bowtie2_test_k2.sam \\\n",
    "-o Bowtie/bowtie-1.2/bowtie2_filtered_k2.fa"
   ]
  },
  {
   "cell_type": "code",
   "execution_count": 15,
   "metadata": {
    "collapsed": false
   },
   "outputs": [
    {
     "name": "stdout",
     "output_type": "stream",
     "text": [
      "Parsed 55514 reads in your SAM file.\n",
      "Wrote 13342 reads to filtered output file.\n"
     ]
    }
   ],
   "source": [
    "!python parse_bowtie_output.py \\\n",
    "-i Bowtie/bowtie-1.2/bowtie2_test_k5.sam \\\n",
    "-o Bowtie/bowtie-1.2/bowtie2_filtered_k5.fa"
   ]
  },
  {
   "cell_type": "code",
   "execution_count": 16,
   "metadata": {
    "collapsed": false
   },
   "outputs": [
    {
     "name": "stdout",
     "output_type": "stream",
     "text": [
      "Parsed 74205 reads in your SAM file.\n",
      "Wrote 13259 reads to filtered output file.\n"
     ]
    }
   ],
   "source": [
    "!python parse_bowtie_output.py \\\n",
    "-i Bowtie/bowtie-1.2/bowtie2_test_k10.sam \\\n",
    "-o Bowtie/bowtie-1.2/bowtie2_filtered_k10.fa"
   ]
  },
  {
   "cell_type": "code",
   "execution_count": 17,
   "metadata": {
    "collapsed": false
   },
   "outputs": [
    {
     "name": "stdout",
     "output_type": "stream",
     "text": [
      "Parsed 91297 reads in your SAM file.\n",
      "Wrote 13229 reads to filtered output file.\n"
     ]
    }
   ],
   "source": [
    "!python parse_bowtie_output.py \\\n",
    "-i Bowtie/bowtie-1.2/bowtie2_test_k15.sam \\\n",
    "-o Bowtie/bowtie-1.2/bowtie2_filtered_k15.fa"
   ]
  },
  {
   "cell_type": "code",
   "execution_count": 21,
   "metadata": {
    "collapsed": false
   },
   "outputs": [
    {
     "name": "stdout",
     "output_type": "stream",
     "text": [
      "Parsed 107307 reads in your SAM file.\n",
      "Wrote 13212 reads to filtered output file.\n"
     ]
    }
   ],
   "source": [
    "!python parse_bowtie_output.py \\\n",
    "-i Bowtie/bowtie-1.2/bowtie2_test_k20.sam \\\n",
    "-o Bowtie/bowtie-1.2/bowtie2_filtered_k20.fa"
   ]
  },
  {
   "cell_type": "code",
   "execution_count": 25,
   "metadata": {
    "collapsed": false
   },
   "outputs": [
    {
     "name": "stdout",
     "output_type": "stream",
     "text": [
      "Parsed 194507 reads in your SAM file.\n",
      "Wrote 13168 reads to filtered output file.\n"
     ]
    }
   ],
   "source": [
    "!python parse_bowtie_output.py \\\n",
    "-i Bowtie/bowtie-1.2/bowtie2_test_k50.sam \\\n",
    "-o Bowtie/bowtie-1.2/bowtie2_filtered_k50.fa"
   ]
  },
  {
   "cell_type": "code",
   "execution_count": 46,
   "metadata": {
    "collapsed": false
   },
   "outputs": [
    {
     "name": "stdout",
     "output_type": "stream",
     "text": [
      "Parsed 325280 reads in your SAM file.\n",
      "Wrote 13147 reads to filtered output file.\n"
     ]
    }
   ],
   "source": [
    "!python parse_bowtie_output.py \\\n",
    "-i Bowtie/bowtie-1.2/bowtie2_test_k100.sam \\\n",
    "-o Bowtie/bowtie-1.2/bowtie2_filtered_k100.fa"
   ]
  },
  {
   "cell_type": "code",
   "execution_count": 41,
   "metadata": {
    "collapsed": false
   },
   "outputs": [],
   "source": [
    "import matplotlib.pyplot as plt"
   ]
  },
  {
   "cell_type": "code",
   "execution_count": 51,
   "metadata": {
    "collapsed": true
   },
   "outputs": [],
   "source": [
    "ks = [2,5,10,15,20,50,100]\n",
    "rem_loci = [13553,13342,13259,13229,13212,13168,13147]"
   ]
  },
  {
   "cell_type": "code",
   "execution_count": 52,
   "metadata": {
    "collapsed": false
   },
   "outputs": [
    {
     "data": {
      "image/png": "[encoded data removed]",
      "text/plain": [
       "<matplotlib.figure.Figure at 0x7fdccddf9190>"
      ]
     },
     "metadata": {},
     "output_type": "display_data"
    }
   ],
   "source": [
    "plt.scatter(ks, rem_loci)\n",
    "plt.suptitle(\"Effect of K on number of loci retained after Bowtie2 filtering\")\n",
    "plt.xlabel(\"K - number of reported alignments in Bowtie2 output\")\n",
    "plt.ylabel(\"Number of retained loci after Bowtie2 filtering\")\n",
    "plt.show()"
   ]
  },
  {
   "cell_type": "markdown",
   "metadata": {},
   "source": [
    "It looks like allowing for a ton of reported alignments only changes the number of retained loci by 400 loci, which is about .03%. In theory, Bowtie2 is only reporting back significant alignments, and allowing for more to be reported should eventually cease to have an effect on the numebr of retained loci. But if it's too computationally challenging then K = 2 is only .03% different than K = 100."
   ]
  },
  {
   "cell_type": "code",
   "execution_count": null,
   "metadata": {
    "collapsed": true
   },
   "outputs": [],
   "source": []
  }
 ],
 "metadata": {
  "kernelspec": {
   "display_name": "Python 2",
   "language": "python",
   "name": "python2"
  },
  "language_info": {
   "codemirror_mode": {
    "name": "ipython",
    "version": 2
   },
   "file_extension": ".py",
   "mimetype": "text/x-python",
   "name": "python",
   "nbconvert_exporter": "python",
   "pygments_lexer": "ipython2",
   "version": "2.7.13"
  }
 },
 "nbformat": 4,
 "nbformat_minor": 2
}
