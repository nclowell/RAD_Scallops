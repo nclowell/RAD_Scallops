{
 "cells": [
  {
   "cell_type": "markdown",
   "metadata": {},
   "source": [
    "## Exploring similary of loci - I think I'm oversplitting loci\n",
    "\n",
    "**20170501**\n",
    "\n",
    "Last week, I made a bunch of exploratory plots to understand my data, and it led me to align my catalog loci to each other in search of paralogous loci/oversplitting loci. And from a preliminary visual assessment, it looks like I did oversplit. I wanted to take some time now to figure out how clustering at different levels of similarity affects the outcome number of loci and how much I believe those loci are clustered correctly (aka, allowing more mismatches in Stacks, or clustering with other software completely like Swarm or mothur)."
   ]
  },
  {
   "cell_type": "code",
   "execution_count": null,
   "metadata": {
    "collapsed": true
   },
   "outputs": [],
   "source": []
  }
 ],
 "metadata": {
  "kernelspec": {
   "display_name": "Python 2",
   "language": "python",
   "name": "python2"
  },
  "language_info": {
   "codemirror_mode": {
    "name": "ipython",
    "version": 2
   },
   "file_extension": ".py",
   "mimetype": "text/x-python",
   "name": "python",
   "nbconvert_exporter": "python",
   "pygments_lexer": "ipython2",
   "version": "2.7.12"
  }
 },
 "nbformat": 4,
 "nbformat_minor": 2
}
