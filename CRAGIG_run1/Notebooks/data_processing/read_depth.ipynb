{
 "cells": [
  {
   "cell_type": "markdown",
   "metadata": {
    "deletable": true,
    "editable": true
   },
   "source": [
    "## Exploring read depth\n",
    "\n",
    "**20170403**\n",
    "\n",
    "I'd like to write a script that produces plots of read depth, in multiple ways (e.g., within and across individuals), but I realize that there were a couple of bugs in my previous notebook about this. So, trying to rewrite and debug here."
   ]
  },
  {
   "cell_type": "code",
   "execution_count": 1,
   "metadata": {
    "collapsed": false,
    "deletable": true,
    "editable": true
   },
   "outputs": [
    {
     "name": "stdout",
     "output_type": "stream",
     "text": [
      "/mnt/hgfs/SHARED_FOLDER/WorkingFolder\n"
     ]
    }
   ],
   "source": [
    "cd /mnt/hgfs/SHARED_FOLDER/WorkingFolder"
   ]
  },
  {
   "cell_type": "code",
   "execution_count": 2,
   "metadata": {
    "collapsed": false,
    "deletable": true,
    "editable": true,
    "scrolled": true
   },
   "outputs": [],
   "source": [
    "import numpy as np\n",
    "import matplotlib.pyplot as plt\n",
    "import sys"
   ]
  },
  {
   "cell_type": "code",
   "execution_count": 3,
   "metadata": {
    "collapsed": false,
    "deletable": true,
    "editable": true
   },
   "outputs": [],
   "source": [
    "# get file names from matches list text file\n",
    "file_of_filenames = open(\"Stacks_2/list_matches_filenames.txt\",\"r\") # change to args.matchfiles\n",
    "lines = file_of_filenames.readlines()\n",
    "filename_list = []\n",
    "for line in lines:\n",
    "    filename = line.strip()\n",
    "    filename_list.append(filename)\n",
    "num_files = len(filename_list) # get num files"
   ]
  },
  {
   "cell_type": "code",
   "execution_count": 4,
   "metadata": {
    "collapsed": true,
    "deletable": true,
    "editable": true
   },
   "outputs": [],
   "source": [
    "# initiate dictionary to store tag read depth information across individuals\n",
    "tag_rd_cum_dict = {}\n",
    "\n",
    "# initiate dictionary to store tag read depths, to quantify variance across individuals\n",
    "tag_rd_for_vars = {}\n",
    "\n",
    "# initiate list to store tag read depth within individuals\n",
    "within_inds_tag_rd = []"
   ]
  },
  {
   "cell_type": "code",
   "execution_count": 5,
   "metadata": {
    "collapsed": false,
    "deletable": true,
    "editable": true
   },
   "outputs": [],
   "source": [
    "# get within individual count data by building a temporary dictionary and merging lists\n",
    "\n",
    "within_ints_rag_rd = []\n",
    "for file in filename_list:\n",
    "    indfile = open(\"Stacks_2\" + \"/\" + file,\"r\") # change to args.\n",
    "    lines = indfile.readlines()[1:]\n",
    "    within_dict = {}\n",
    "    for line in lines:\n",
    "        linelist = line.strip().split()\n",
    "        locus = int(linelist[2])\n",
    "        count = int(linelist[6])\n",
    "        if locus not in  within_dict:\n",
    "            within_dict[locus] = int(count)\n",
    "        elif locus in within_dict:\n",
    "            oldcount =  within_dict[locus]\n",
    "            newcount = oldcount + count\n",
    "            within_dict[locus] = newcount     \n",
    "        else:\n",
    "            print \"Something funky is going on.\"\n",
    "        counts = within_dict.values()\n",
    "        length = len(counts)\n",
    "        sample = list(np.random.choice(counts, size=(length/100),replace=False))\n",
    "        within_ints_rag_rd += sample\n",
    "    indfile.close()\n",
    "\n"
   ]
  },
  {
   "cell_type": "markdown",
   "metadata": {
    "deletable": true,
    "editable": true
   },
   "source": [
    "I got a memory error when trying to make a list of all individual read counts, so I'm randomly sampling 1/100 of them, and still have a huge list, with huge representation... but just so it's clear! The plot below will be of a randomly selected 1/100 of the individual read count data."
   ]
  },
  {
   "cell_type": "code",
   "execution_count": 6,
   "metadata": {
    "collapsed": false,
    "deletable": true,
    "editable": true
   },
   "outputs": [
    {
     "name": "stdout",
     "output_type": "stream",
     "text": [
      "[65, 95, 218, 135, 218, 117, 46, 63, 234, 512, 215, 41, 205, 138, 188, 205, 205, 68, 99]\n"
     ]
    }
   ],
   "source": [
    "print within_ints_rag_rd[0:19]"
   ]
  },
  {
   "cell_type": "code",
   "execution_count": 1,
   "metadata": {
    "collapsed": false,
    "deletable": true,
    "editable": true
   },
   "outputs": [
    {
     "ename": "NameError",
     "evalue": "name 'np' is not defined",
     "output_type": "error",
     "traceback": [
      "\u001b[0;31m---------------------------------------------------------------------------\u001b[0m",
      "\u001b[0;31mNameError\u001b[0m                                 Traceback (most recent call last)",
      "\u001b[0;32m<ipython-input-1-9ff5ddfcc500>\u001b[0m in \u001b[0;36m<module>\u001b[0;34m()\u001b[0m\n\u001b[1;32m      1\u001b[0m \u001b[0;31m# get tag read depths up to 99th percentile, to exclude most of tail that makes the plot unreadable\u001b[0m\u001b[0;34m\u001b[0m\u001b[0;34m\u001b[0m\u001b[0m\n\u001b[0;32m----> 2\u001b[0;31m \u001b[0mp\u001b[0m \u001b[0;34m=\u001b[0m \u001b[0mnp\u001b[0m\u001b[0;34m.\u001b[0m\u001b[0mpercentile\u001b[0m\u001b[0;34m(\u001b[0m\u001b[0mwithin_ints_rag_rd\u001b[0m\u001b[0;34m,\u001b[0m\u001b[0;36m99\u001b[0m\u001b[0;34m)\u001b[0m\u001b[0;34m\u001b[0m\u001b[0m\n\u001b[0m\u001b[1;32m      3\u001b[0m \u001b[0mwithin_ints_rag_rd_99\u001b[0m \u001b[0;34m=\u001b[0m \u001b[0;34m[\u001b[0m\u001b[0;34m]\u001b[0m\u001b[0;34m\u001b[0m\u001b[0m\n\u001b[1;32m      4\u001b[0m \u001b[0;32mfor\u001b[0m \u001b[0mrd\u001b[0m \u001b[0;32min\u001b[0m \u001b[0mwithin_ints_rag_rd\u001b[0m\u001b[0;34m:\u001b[0m\u001b[0;34m\u001b[0m\u001b[0m\n\u001b[1;32m      5\u001b[0m     \u001b[0;32mif\u001b[0m \u001b[0mrd\u001b[0m \u001b[0;34m<\u001b[0m \u001b[0mp\u001b[0m\u001b[0;34m:\u001b[0m\u001b[0;34m\u001b[0m\u001b[0m\n",
      "\u001b[0;31mNameError\u001b[0m: name 'np' is not defined"
     ]
    }
   ],
   "source": [
    "# get tag read depths up to 99th percentile, to exclude most of tail that makes the plot unreadable\n",
    "p = np.percentile(within_ints_rag_rd,99)\n",
    "within_ints_rag_rd_99 = []\n",
    "for rd in within_ints_rag_rd:\n",
    "    if rd < p:\n",
    "        within_ints_rag_rd_99.append(rd)\n",
    "print within_ints_rag_rd_99[0:9]"
   ]
  },
  {
   "cell_type": "code",
   "execution_count": 2,
   "metadata": {
    "collapsed": false,
    "deletable": true,
    "editable": true
   },
   "outputs": [
    {
     "ename": "NameError",
     "evalue": "name 'plt' is not defined",
     "output_type": "error",
     "traceback": [
      "\u001b[0;31m---------------------------------------------------------------------------\u001b[0m",
      "\u001b[0;31mNameError\u001b[0m                                 Traceback (most recent call last)",
      "\u001b[0;32m<ipython-input-2-aca6d91cf2ce>\u001b[0m in \u001b[0;36m<module>\u001b[0;34m()\u001b[0m\n\u001b[1;32m      1\u001b[0m \u001b[0;31m# plot histogram of within individual tag read depths, using 99 percentile\u001b[0m\u001b[0;34m\u001b[0m\u001b[0;34m\u001b[0m\u001b[0m\n\u001b[0;32m----> 2\u001b[0;31m \u001b[0mplt\u001b[0m\u001b[0;34m.\u001b[0m\u001b[0mhist\u001b[0m\u001b[0;34m(\u001b[0m\u001b[0mwithin_ints_rag_rd_99\u001b[0m\u001b[0;34m,\u001b[0m \u001b[0mbins\u001b[0m \u001b[0;34m=\u001b[0m \u001b[0mnp\u001b[0m\u001b[0;34m.\u001b[0m\u001b[0marange\u001b[0m\u001b[0;34m(\u001b[0m\u001b[0;36m0\u001b[0m\u001b[0;34m,\u001b[0m\u001b[0mmax\u001b[0m\u001b[0;34m(\u001b[0m\u001b[0mwithin_ints_rag_rd_99\u001b[0m\u001b[0;34m)\u001b[0m\u001b[0;34m+\u001b[0m\u001b[0;36m1\u001b[0m\u001b[0;34m,\u001b[0m\u001b[0;36m10\u001b[0m\u001b[0;34m)\u001b[0m\u001b[0;34m-\u001b[0m\u001b[0;36m5\u001b[0m\u001b[0;34m)\u001b[0m\u001b[0;34m\u001b[0m\u001b[0m\n\u001b[0m\u001b[1;32m      3\u001b[0m \u001b[0mplt\u001b[0m\u001b[0;34m.\u001b[0m\u001b[0mxlabel\u001b[0m\u001b[0;34m(\u001b[0m\u001b[0;34m\"Read depth\"\u001b[0m\u001b[0;34m)\u001b[0m\u001b[0;34m\u001b[0m\u001b[0m\n\u001b[1;32m      4\u001b[0m \u001b[0mplt\u001b[0m\u001b[0;34m.\u001b[0m\u001b[0mylabel\u001b[0m\u001b[0;34m(\u001b[0m\u001b[0;34m\"Frequency\"\u001b[0m\u001b[0;34m)\u001b[0m\u001b[0;34m\u001b[0m\u001b[0m\n\u001b[1;32m      5\u001b[0m \u001b[0mplt\u001b[0m\u001b[0;34m.\u001b[0m\u001b[0msuptitle\u001b[0m\u001b[0;34m(\u001b[0m\u001b[0;34m\"Distribution of tag read depths \\nwithin individuals in scallop lane 1\"\u001b[0m\u001b[0;34m)\u001b[0m\u001b[0;34m\u001b[0m\u001b[0m\n",
      "\u001b[0;31mNameError\u001b[0m: name 'plt' is not defined"
     ]
    }
   ],
   "source": [
    "# plot histogram of within individual tag read depths, using 99 percentile\n",
    "plt.hist(within_ints_rag_rd_99, bins = np.arange(0,max(within_ints_rag_rd_99)+1,10)-5)\n",
    "plt.xlabel(\"Read depth\")\n",
    "plt.ylabel(\"Frequency\")\n",
    "plt.suptitle(\"Distribution of tag read depths \\nwithin individuals in scallop lane 1\")\n",
    "plt.show()"
   ]
  },
  {
   "cell_type": "markdown",
   "metadata": {
    "collapsed": true,
    "deletable": true,
    "editable": true
   },
   "source": [
    "If I wanted to defend that I trust my read depth, I could estimate probability of missing an allele at a given locus given the read depth distribution. I don't think it's necessary, but maybe later if I have a few minutes it could be interesting to measure."
   ]
  },
  {
   "cell_type": "code",
   "execution_count": null,
   "metadata": {
    "collapsed": true
   },
   "outputs": [],
   "source": []
  }
 ],
 "metadata": {
  "kernelspec": {
   "display_name": "Python 2",
   "language": "python",
   "name": "python2"
  },
  "language_info": {
   "codemirror_mode": {
    "name": "ipython",
    "version": 2
   },
   "file_extension": ".py",
   "mimetype": "text/x-python",
   "name": "python",
   "nbconvert_exporter": "python",
   "pygments_lexer": "ipython2",
   "version": "2.7.12"
  }
 },
 "nbformat": 4,
 "nbformat_minor": 2
}
