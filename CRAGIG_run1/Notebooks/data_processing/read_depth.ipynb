{
 "cells": [
  {
   "cell_type": "markdown",
   "metadata": {
    "deletable": true,
    "editable": true
   },
   "source": [
    "## Exploring read depth\n",
    "\n",
    "**20170403**\n",
    "\n",
    "I'd like to write a script that produces plots of read depth, in multiple ways (e.g., within and across individuals), but I realize that there were a couple of bugs in my previous notebook about this. So, trying to rewrite and debug here."
   ]
  },
  {
   "cell_type": "code",
   "execution_count": 1,
   "metadata": {
    "collapsed": false,
    "deletable": true,
    "editable": true
   },
   "outputs": [
    {
     "name": "stdout",
     "output_type": "stream",
     "text": [
      "/mnt/hgfs/SHARED_FOLDER/WorkingFolder\n"
     ]
    }
   ],
   "source": [
    "cd /mnt/hgfs/SHARED_FOLDER/WorkingFolder"
   ]
  },
  {
   "cell_type": "code",
   "execution_count": 2,
   "metadata": {
    "collapsed": false,
    "deletable": true,
    "editable": true,
    "scrolled": true
   },
   "outputs": [],
   "source": [
    "import numpy as np\n",
    "import matplotlib.pyplot as plt\n",
    "import sys"
   ]
  },
  {
   "cell_type": "code",
   "execution_count": null,
   "metadata": {
    "collapsed": true
   },
   "outputs": [],
   "source": [
    "# use this line to make the input file, a text file with each matches file on its own line\n",
    "# first have to navigate to directory that contains all your matches files\n",
    "!printf \"%s\\n\" *.matches.tsv > list_matches_filenames.txt"
   ]
  },
  {
   "cell_type": "code",
   "execution_count": 3,
   "metadata": {
    "collapsed": false,
    "deletable": true,
    "editable": true
   },
   "outputs": [],
   "source": [
    "# get file names from matches list text file\n",
    "file_of_filenames = open(\"Stacks_2/list_matches_filenames.txt\",\"r\") # change to args.matchfiles\n",
    "lines = file_of_filenames.readlines()\n",
    "filename_list = []\n",
    "for line in lines:\n",
    "    filename = line.strip()\n",
    "    filename_list.append(filename)\n",
    "num_files = len(filename_list) # get num files"
   ]
  },
  {
   "cell_type": "code",
   "execution_count": 4,
   "metadata": {
    "collapsed": true,
    "deletable": true,
    "editable": true
   },
   "outputs": [],
   "source": [
    "# initiate dictionary to store tag read depth information across individuals\n",
    "tag_rd_cum_dict = {}\n",
    "\n",
    "# initiate dictionary to store tag read depths, to quantify variance across individuals\n",
    "tag_rd_for_vars = {}\n",
    "\n",
    "# initiate list to store tag read depth within individuals\n",
    "within_inds_tag_rd = []"
   ]
  },
  {
   "cell_type": "code",
   "execution_count": 5,
   "metadata": {
    "collapsed": false,
    "deletable": true,
    "editable": true
   },
   "outputs": [],
   "source": [
    "# get within individual count data by building a temporary dictionary and merging lists\n",
    "\n",
    "within_ints_rag_rd = []\n",
    "for file in filename_list:\n",
    "    indfile = open(\"Stacks_2\" + \"/\" + file,\"r\") # change to args.\n",
    "    lines = indfile.readlines()[1:]\n",
    "    within_dict = {}\n",
    "    for line in lines:\n",
    "        linelist = line.strip().split()\n",
    "        locus = int(linelist[2])\n",
    "        count = int(linelist[6])\n",
    "        if locus not in  within_dict:\n",
    "            within_dict[locus] = int(count)\n",
    "        elif locus in within_dict:\n",
    "            oldcount =  within_dict[locus]\n",
    "            newcount = oldcount + count\n",
    "            within_dict[locus] = newcount     \n",
    "        else:\n",
    "            print \"Something funky is going on.\"\n",
    "        counts = within_dict.values()\n",
    "        length = len(counts)\n",
    "        sample = list(np.random.choice(counts, size=(length/100),replace=False))\n",
    "        within_ints_rag_rd += sample\n",
    "    indfile.close()\n",
    "\n"
   ]
  },
  {
   "cell_type": "markdown",
   "metadata": {
    "deletable": true,
    "editable": true
   },
   "source": [
    "I got a memory error when trying to make a list of all individual read counts, so I'm randomly sampling 1/100 of them, and still have a huge list, with huge representation... but just so it's clear! The plot below will be of a randomly selected 1/100 of the individual read count data."
   ]
  },
  {
   "cell_type": "code",
   "execution_count": 6,
   "metadata": {
    "collapsed": false,
    "deletable": true,
    "editable": true
   },
   "outputs": [
    {
     "name": "stdout",
     "output_type": "stream",
     "text": [
      "[106, 68, 108, 100, 46, 41, 117, 71, 68, 87, 95, 100, 218, 87, 111, 205, 188, 213, 129]\n"
     ]
    }
   ],
   "source": [
    "print within_ints_rag_rd[0:19]"
   ]
  },
  {
   "cell_type": "code",
   "execution_count": 7,
   "metadata": {
    "collapsed": false,
    "deletable": true,
    "editable": true
   },
   "outputs": [
    {
     "name": "stdout",
     "output_type": "stream",
     "text": [
      "[106, 68, 108, 100, 46, 41, 117, 71, 68]\n"
     ]
    }
   ],
   "source": [
    "# get tag read depths up to 99th percentile, to exclude most of tail that makes the plot unreadable\n",
    "p = np.percentile(within_ints_rag_rd,99)\n",
    "within_ints_rag_rd_99 = []\n",
    "for rd in within_ints_rag_rd:\n",
    "    if rd < p:\n",
    "        within_ints_rag_rd_99.append(rd)\n",
    "print within_ints_rag_rd_99[0:9]"
   ]
  },
  {
   "cell_type": "code",
   "execution_count": 8,
   "metadata": {
    "collapsed": false,
    "deletable": true,
    "editable": true
   },
   "outputs": [
    {
     "data": {
      "image/png": "[encoded data removed]",
      "text/plain": [
       "<matplotlib.figure.Figure at 0x7f38c0f38350>"
      ]
     },
     "metadata": {},
     "output_type": "display_data"
    }
   ],
   "source": [
    "# plot histogram of within individual tag read depths, using 99 percentile\n",
    "plt.hist(within_ints_rag_rd_99, bins = np.arange(0,max(within_ints_rag_rd_99)+1,10)-5)\n",
    "plt.xlabel(\"Read depth\")\n",
    "plt.ylabel(\"Frequency\")\n",
    "plt.suptitle(\"Distribution of tag read depths \\nwithin individuals in scallop lane 1\")\n",
    "plt.show()"
   ]
  },
  {
   "cell_type": "markdown",
   "metadata": {
    "collapsed": true,
    "deletable": true,
    "editable": true
   },
   "source": [
    "If I wanted to defend that I trust my read depth, I could estimate probability of missing an allele at a given locus given the read depth distribution. I don't think it's necessary, but maybe later if I have a few minutes it could be interesting to measure."
   ]
  }
 ],
 "metadata": {
  "kernelspec": {
   "display_name": "Python 2",
   "language": "python",
   "name": "python2"
  },
  "language_info": {
   "codemirror_mode": {
    "name": "ipython",
    "version": 2
   },
   "file_extension": ".py",
   "mimetype": "text/x-python",
   "name": "python",
   "nbconvert_exporter": "python",
   "pygments_lexer": "ipython2",
   "version": "2.7.12"
  }
 },
 "nbformat": 4,
 "nbformat_minor": 2
}
