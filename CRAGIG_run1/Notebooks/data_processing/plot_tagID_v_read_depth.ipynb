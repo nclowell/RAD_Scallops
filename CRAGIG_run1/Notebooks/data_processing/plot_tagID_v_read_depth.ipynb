{
 "cells": [
  {
   "cell_type": "markdown",
   "metadata": {
    "deletable": true,
    "editable": true
   },
   "source": [
    "## Plot Tag Id by read depth\n",
    "\n",
    "Lorenz suggested that I plot tag against read depth to see if read depth has something to do with how tags are assigned. \n",
    "\n",
    "It looks like the individual ``.matches.tsv`` files have locus names based on the catalog (in common across individuals) and the number of reads contained in the locus. So I need to sum these across individuals."
   ]
  },
  {
   "cell_type": "code",
   "execution_count": 2,
   "metadata": {
    "collapsed": false,
    "deletable": true,
    "editable": true
   },
   "outputs": [
    {
     "name": "stdout",
     "output_type": "stream",
     "text": [
      "/mnt/hgfs/SHARED_FOLDER/WorkingFolder/Stacks_2\n"
     ]
    }
   ],
   "source": [
    "cd /mnt/hgfs/SHARED_FOLDER/WorkingFolder/Stacks_2"
   ]
  },
  {
   "cell_type": "code",
   "execution_count": 3,
   "metadata": {
    "collapsed": false,
    "deletable": true,
    "editable": true
   },
   "outputs": [],
   "source": [
    "!printf \"%s\\n\" *.matches.tsv > list_matches_filenames.txt"
   ]
  },
  {
   "cell_type": "code",
   "execution_count": 4,
   "metadata": {
    "collapsed": false,
    "deletable": true,
    "editable": true
   },
   "outputs": [
    {
     "name": "stdout",
     "output_type": "stream",
     "text": [
      "FG001.matches.tsv\r\n",
      "FG002.matches.tsv\r\n",
      "FG003.matches.tsv\r\n",
      "FG004.matches.tsv\r\n",
      "FG005.matches.tsv\r\n",
      "FG006.matches.tsv\r\n",
      "FG007.matches.tsv\r\n",
      "FG009.matches.tsv\r\n",
      "FG010.matches.tsv\r\n",
      "FG011.matches.tsv\r\n"
     ]
    }
   ],
   "source": [
    "!head list_matches_filenames.txt"
   ]
  },
  {
   "cell_type": "code",
   "execution_count": 6,
   "metadata": {
    "collapsed": false,
    "deletable": true,
    "editable": true
   },
   "outputs": [
    {
     "name": "stdout",
     "output_type": "stream",
     "text": [
      "['FG001.matches.tsv', 'FG002.matches.tsv', 'FG003.matches.tsv', 'FG004.matches.tsv', 'FG005.matches.tsv', 'FG006.matches.tsv', 'FG007.matches.tsv', 'FG009.matches.tsv', 'FG010.matches.tsv']\n"
     ]
    }
   ],
   "source": [
    "file_of_filenames = open(\"list_matches_filenames.txt\",\"r\")\n",
    "lines = file_of_filenames.readlines()\n",
    "filename_list = []\n",
    "for line in lines:\n",
    "    filename = line.strip()\n",
    "    filename_list.append(filename)\n",
    "\n",
    "print filename_list[0:9]"
   ]
  },
  {
   "cell_type": "code",
   "execution_count": 17,
   "metadata": {
    "collapsed": true,
    "deletable": true,
    "editable": true
   },
   "outputs": [],
   "source": [
    "# initiate dictionary\n",
    "rd_cum_dict = {}\n",
    "ind_tag_counts = []"
   ]
  },
  {
   "cell_type": "code",
   "execution_count": 18,
   "metadata": {
    "collapsed": false,
    "deletable": true,
    "editable": true
   },
   "outputs": [
    {
     "name": "stdout",
     "output_type": "stream",
     "text": [
      "213\n",
      "503\n",
      "645\n",
      "778\n",
      "968\n",
      "1103\n",
      "1195\n",
      "1370\n",
      "1532\n",
      "1532\n",
      "1794\n",
      "1942\n",
      "2106\n",
      "2264\n",
      "2436\n",
      "2744\n",
      "2944\n",
      "3368\n",
      "3477\n",
      "3601\n",
      "3766\n",
      "4109\n",
      "4408\n",
      "4792\n",
      "4945\n",
      "5203\n",
      "5203\n",
      "5443\n",
      "5443\n",
      "5443\n",
      "5748\n",
      "5949\n",
      "6108\n",
      "6197\n",
      "6350\n",
      "6470\n",
      "6588\n",
      "6736\n",
      "6879\n",
      "7139\n",
      "7279\n",
      "7526\n",
      "7734\n",
      "7873\n",
      "7980\n",
      "8113\n",
      "8363\n",
      "8679\n",
      "8861\n",
      "9253\n",
      "9553\n",
      "9854\n",
      "9983\n",
      "10074\n",
      "10459\n",
      "10641\n",
      "10788\n",
      "10908\n",
      "11043\n",
      "11274\n",
      "11560\n",
      "11820\n",
      "11912\n",
      "12327\n",
      "12521\n",
      "12764\n",
      "12855\n",
      "12872\n",
      "13066\n",
      "13118\n",
      "13380\n"
     ]
    }
   ],
   "source": [
    "for file in filename_list:\n",
    "    indfile = open(file,\"r\")\n",
    "    lines = indfile.readlines()[1:]\n",
    "    for line in lines:\n",
    "        linelist = line.strip().split()\n",
    "        locus = int(linelist[2])\n",
    "        count = int(linelist[6])\n",
    "        ind_tag_counts.append(count)\n",
    "        if locus not in rd_dict:\n",
    "            rd__cum_dict[locus] = int(count)\n",
    "        elif locus in rd_dict:\n",
    "            oldcount = rd_dict[locus]\n",
    "            newcount = oldcount + count\n",
    "            rd_cum_dict[locus] = newcount\n",
    "        else:\n",
    "            print \"Something funky is going on.\"\n",
    "    indfile.close()\n",
    "    printval = rd_cum_dict[5]\n",
    "    print printval"
   ]
  },
  {
   "cell_type": "code",
   "execution_count": 10,
   "metadata": {
    "collapsed": false,
    "deletable": true,
    "editable": true
   },
   "outputs": [
    {
     "data": {
      "text/plain": [
       "[1, 2, 3, 4, 5, 6, 7, 8, 9]"
      ]
     },
     "execution_count": 10,
     "metadata": {},
     "output_type": "execute_result"
    }
   ],
   "source": [
    "locus_list = rd_dict.keys()\n",
    "locus_list.sort()\n",
    "locus_list[0:9]"
   ]
  },
  {
   "cell_type": "code",
   "execution_count": 11,
   "metadata": {
    "collapsed": false,
    "deletable": true,
    "editable": true
   },
   "outputs": [
    {
     "name": "stdout",
     "output_type": "stream",
     "text": [
      "[2880, 3489, 2335, 1837, 13380, 13497, 6914, 3665, 1560]\n"
     ]
    }
   ],
   "source": [
    "count_list = []\n",
    "for locus in locus_list:\n",
    "    count = rd_dict[locus]\n",
    "    count_list.append(count)\n",
    "print count_list[0:9]"
   ]
  },
  {
   "cell_type": "code",
   "execution_count": 12,
   "metadata": {
    "collapsed": false,
    "deletable": true,
    "editable": true
   },
   "outputs": [
    {
     "data": {
      "text/plain": [
       "1560"
      ]
     },
     "execution_count": 12,
     "metadata": {},
     "output_type": "execute_result"
    }
   ],
   "source": [
    "# double check\n",
    "rd_dict[1]\n",
    "rd_dict[2]\n",
    "rd_dict[9]"
   ]
  },
  {
   "cell_type": "code",
   "execution_count": 13,
   "metadata": {
    "collapsed": true,
    "deletable": true,
    "editable": true
   },
   "outputs": [],
   "source": [
    "import matplotlib.pyplot as plt"
   ]
  },
  {
   "cell_type": "code",
   "execution_count": 14,
   "metadata": {
    "collapsed": false,
    "deletable": true,
    "editable": true,
    "scrolled": true
   },
   "outputs": [
    {
     "data": {
      "image/png": "[encoded data removed]",
      "text/plain": [
       "<matplotlib.figure.Figure at 0x7f428b517490>"
      ]
     },
     "metadata": {},
     "output_type": "display_data"
    }
   ],
   "source": [
    "plt.scatter(locus_list, count_list)\n",
    "plt.xlabel(\"Tag ID\")\n",
    "plt.ylabel(\"Read depth of tag across individuals\")\n",
    "plt.show()"
   ]
  },
  {
   "cell_type": "markdown",
   "metadata": {
    "deletable": true,
    "editable": true
   },
   "source": [
    "Looks like no relationship to me!"
   ]
  },
  {
   "cell_type": "markdown",
   "metadata": {
    "deletable": true,
    "editable": true
   },
   "source": [
    "## Further explore read depth\n",
    "\n",
    "Something is behaving funky here, don't trust the plots below yet!"
   ]
  },
  {
   "cell_type": "code",
   "execution_count": 15,
   "metadata": {
    "collapsed": false,
    "deletable": true,
    "editable": true
   },
   "outputs": [
    {
     "data": {
      "image/png": "[encoded data removed]",
      "text/plain": [
       "<matplotlib.figure.Figure at 0x7f428941bdd0>"
      ]
     },
     "metadata": {},
     "output_type": "display_data"
    }
   ],
   "source": [
    "plt.boxplot(count_list)\n",
    "plt.ylabel(\"Locus read depths\")\n",
    "plt.show()"
   ]
  },
  {
   "cell_type": "code",
   "execution_count": 20,
   "metadata": {
    "collapsed": true,
    "deletable": true,
    "editable": true
   },
   "outputs": [],
   "source": [
    "# get individual count list for boxplot\n",
    "ind_count_list = []\n",
    "\n",
    "for file in filename_list:\n",
    "    indfile = open(file,\"r\")\n",
    "    lines = indfile.readlines()[1:]\n",
    "    for line in lines:\n",
    "        linelist = line.strip().split()\n",
    "        count = int(linelist[6])\n",
    "        ind_count_list.append(count)\n",
    "    indfile.close()"
   ]
  },
  {
   "cell_type": "code",
   "execution_count": 21,
   "metadata": {
    "collapsed": false,
    "deletable": true,
    "editable": true
   },
   "outputs": [
    {
     "name": "stdout",
     "output_type": "stream",
     "text": [
      "[213, 249, 61, 3, 7, 278, 327, 28, 111, 205, 244, 188, 57, 63, 65, 1, 121, 124, 253]\n"
     ]
    }
   ],
   "source": [
    "print ind_count_list[0:19]"
   ]
  },
  {
   "cell_type": "code",
   "execution_count": 30,
   "metadata": {
    "collapsed": false,
    "deletable": true,
    "editable": true
   },
   "outputs": [
    {
     "name": "stdout",
     "output_type": "stream",
     "text": [
      "99.68% of individual locus read depths were less than 1000\n",
      "0.319% of individual locus read depths were more than 1000\n"
     ]
    }
   ],
   "source": [
    "import matplotlib.pyplot as plt\n",
    "\n",
    "less_1000 = []\n",
    "more_1000 = []\n",
    "for count in ind_count_list:\n",
    "    if count < 1000:\n",
    "        less_1000.append(count)\n",
    "    else:\n",
    "        more_1000.append(count)\n",
    "\n",
    "print str(float(len(less_1000))/float(len(ind_count_list))*100)[0:5] + \"% of individual locus read depths were less than 1000\"\n",
    "print str(float(len(more_1000))/float(len(ind_count_list))*100)[0:5] + \"% of individual locus read depths were more than 1000\""
   ]
  },
  {
   "cell_type": "code",
   "execution_count": 28,
   "metadata": {
    "collapsed": false,
    "deletable": true,
    "editable": true
   },
   "outputs": [
    {
     "data": {
      "image/png": "[encoded data removed]",
      "text/plain": [
       "<matplotlib.figure.Figure at 0x7f46344d3d50>"
      ]
     },
     "metadata": {},
     "output_type": "display_data"
    }
   ],
   "source": [
    "plt.close()\n",
    "plt.boxplot(ind_count_list)\n",
    "plt.ylabel(\"Locus read depths\")\n",
    "plt.show()"
   ]
  },
  {
   "cell_type": "code",
   "execution_count": 29,
   "metadata": {
    "collapsed": false
   },
   "outputs": [
    {
     "data": {
      "image/png": "[encoded data removed]",
      "text/plain": [
       "<matplotlib.figure.Figure at 0x7f46344d3790>"
      ]
     },
     "metadata": {},
     "output_type": "display_data"
    }
   ],
   "source": [
    "plt.close()\n",
    "plt.boxplot(more_1000)\n",
    "plt.ylabel(\"Locus read depths\")\n",
    "plt.show()"
   ]
  },
  {
   "cell_type": "markdown",
   "metadata": {
    "deletable": true,
    "editable": true
   },
   "source": [
    "That can't be right... why does the y axis go so high?"
   ]
  },
  {
   "cell_type": "code",
   "execution_count": 31,
   "metadata": {
    "collapsed": false,
    "deletable": true,
    "editable": true
   },
   "outputs": [
    {
     "data": {
      "image/png": "[encoded data removed]",
      "text/plain": [
       "<matplotlib.figure.Figure at 0x7f461dbbb2d0>"
      ]
     },
     "metadata": {},
     "output_type": "display_data"
    }
   ],
   "source": [
    "import numpy as np\n",
    "\n",
    "plt.hist(ind_count_list, bins = np.arange(0,1000,10)-5)\n",
    "plt.xlabel(\"Read depth bin\")\n",
    "plt.ylabel(\"Frequency\")\n",
    "plt.suptitle(\"Distribution of read depth of\\nindividual tags\")\n",
    "plt.show()"
   ]
  },
  {
   "cell_type": "markdown",
   "metadata": {
    "deletable": true,
    "editable": true
   },
   "source": [
    "It occurred to me that it could be intereting to check whether the tags with the least read depth are also the funky ones. I could build simple loops to make lists of Catalog IDs with low, medium, and high read depth, and see if that's correlated to \n",
    "\n",
    "I'd measure \"funk\" by "
   ]
  }
 ],
 "metadata": {
  "kernelspec": {
   "display_name": "Python 2",
   "language": "python",
   "name": "python2"
  },
  "language_info": {
   "codemirror_mode": {
    "name": "ipython",
    "version": 2
   },
   "file_extension": ".py",
   "mimetype": "text/x-python",
   "name": "python",
   "nbconvert_exporter": "python",
   "pygments_lexer": "ipython2",
   "version": "2.7.12"
  }
 },
 "nbformat": 4,
 "nbformat_minor": 2
}
