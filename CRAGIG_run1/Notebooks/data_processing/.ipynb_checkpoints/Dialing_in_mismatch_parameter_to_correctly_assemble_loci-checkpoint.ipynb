{
 "cells": [
  {
   "cell_type": "markdown",
   "metadata": {
    "deletable": true,
    "editable": true
   },
   "source": [
    "# Dialing in mismatch parameter to correctly assemble loci\n",
    "\n",
    "\n",
    "**20170501**\n",
    "\n",
    "I need to resolve this splitting loci problem - going to rerun ``ustacks`` using higher mismatch parameters given the number of mismatches I see in really similar sequences that my first run of the pipeline split into different loci. I'm going to do it on just a subset of the samples:\n",
    "\n",
    "```\n",
    "FG009\tWA_Strait\n",
    "FG001\tWA_Strait\n",
    "FG102_B\tWA_SanJuans\n",
    "FG100_B\tWA_SanJuans\n",
    "FG205\tWA_Dabob\n",
    "FG212\tWA_Dabob\n",
    "Q324\tAK\n",
    "Q314\tAK\n",
    "Q339\tCA_Catalina\n",
    "Q330\tCA_Catalina\n",
    "```\n",
    "\n"
   ]
  },
  {
   "cell_type": "markdown",
   "metadata": {
    "deletable": true,
    "editable": true
   },
   "source": [
    "\n",
    "## Mismatch parameter 10\n",
    "\n",
    "#### ``ustacks``"
   ]
  },
  {
   "cell_type": "markdown",
   "metadata": {
    "deletable": true,
    "editable": true
   },
   "source": [
    "I used my ``easy_ustacks`` script to run ``ustacks``, but outside of the notebook because it's interactive in the terminal."
   ]
  },
  {
   "cell_type": "code",
   "execution_count": 3,
   "metadata": {
    "collapsed": false,
    "deletable": true,
    "editable": true
   },
   "outputs": [
    {
     "name": "stdout",
     "output_type": "stream",
     "text": [
      "/mnt/hgfs/SHARED_FOLDER/Git_repo/CRAGIG_run1/Scripts\n"
     ]
    }
   ],
   "source": [
    "cd /mnt/hgfs/SHARED_FOLDER/Git_repo/CRAGIG_run1/Scripts"
   ]
  },
  {
   "cell_type": "code",
   "execution_count": 5,
   "metadata": {
    "collapsed": false,
    "deletable": true,
    "editable": true,
    "scrolled": true
   },
   "outputs": [
    {
     "name": "stdout",
     "output_type": "stream",
     "text": [
      "usage: easy_ustacks.py [-h] -t TYPE -i INPUTDIR [-r] [-d] [-o OUT]\r\n",
      "                       [-m MINDEPTH] [-M MAXDIS] [-p THREADS] [-x STARTID] -c\r\n",
      "                       COUNT [-P POPMAP]\r\n",
      "\r\n",
      "Write and call a ustacks shell script, and plot results\r\n",
      "\r\n",
      "optional arguments:\r\n",
      "  -h, --help            show this help message and exit\r\n",
      "  -t TYPE, --type TYPE  input file type; supported types: fasta, fastq,\r\n",
      "                        gzfasta, gzfastsq\r\n",
      "  -i INPUTDIR, --inputdir INPUTDIR\r\n",
      "                        relative path to directory with samples for ustacks\r\n",
      "  -r, --removal         enable the removal algorithm to drop highly-repetitive\r\n",
      "                        stacks\r\n",
      "  -d, --delever         enable the deleveraging algortih for resolving merged\r\n",
      "                        tags\r\n",
      "  -o OUT, --out OUT     output path to write results\r\n",
      "  -m MINDEPTH, --mindepth MINDEPTH\r\n",
      "                        minimum depth of coverage required to create a stack;\r\n",
      "                        default 2\r\n",
      "  -M MAXDIS, --maxdis MAXDIS\r\n",
      "                        maximum distance in nucleotides allowed between stacks\r\n",
      "  -p THREADS, --threads THREADS\r\n",
      "                        allow parallel execution with p num threads\r\n",
      "  -x STARTID, --startID STARTID\r\n",
      "                        starting number for SQL ID intger if not starting at\r\n",
      "                        001\r\n",
      "  -c COUNT, --count COUNT\r\n",
      "                        name of text file that will store unique loci count\r\n",
      "                        data\r\n",
      "  -P POPMAP, --popmap POPMAP\r\n",
      "                        population map\r\n"
     ]
    }
   ],
   "source": [
    "!python easy_ustacks.py --help"
   ]
  },
  {
   "cell_type": "markdown",
   "metadata": {
    "deletable": true,
    "editable": true
   },
   "source": [
    "Running easy_ustacks looked like:\n",
    "<br>\n",
    "```\n",
    "$ python easy_ustacks.py -t fastq -i ../../../../WorkingFolder/Stacks -r -d -o Stacks_m10 -m 10 -M 10 -p 10 -c ../../../../WorkingFolder/Stacks_m10/ustacks_loci_counts_20170501.txt -P ../../../../WorkingFolder/popmap_cragigrun1_m10.txt\n",
    "\n",
    "```\n",
    "\n",
    "Example line of code from generated bash script:\n",
    "\n",
    "```\n",
    "stacks ustacks -f ../../../../WorkingFolder/Stacks/FG009.fq -i 0 -m 10 -t fastq -o Stacks_m10 -p 10 -M 10 -r -d \n",
    "```\n"
   ]
  },
  {
   "cell_type": "code",
   "execution_count": null,
   "metadata": {
    "collapsed": true
   },
   "outputs": [],
   "source": []
  }
 ],
 "metadata": {
  "kernelspec": {
   "display_name": "Python 2",
   "language": "python",
   "name": "python2"
  },
  "language_info": {
   "codemirror_mode": {
    "name": "ipython",
    "version": 2
   },
   "file_extension": ".py",
   "mimetype": "text/x-python",
   "name": "python",
   "nbconvert_exporter": "python",
   "pygments_lexer": "ipython2",
   "version": "2.7.12"
  }
 },
 "nbformat": 4,
 "nbformat_minor": 2
}
