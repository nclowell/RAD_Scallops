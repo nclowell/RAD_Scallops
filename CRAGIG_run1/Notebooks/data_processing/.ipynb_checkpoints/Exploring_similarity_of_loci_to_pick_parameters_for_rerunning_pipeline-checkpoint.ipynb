{
 "cells": [
  {
   "cell_type": "markdown",
   "metadata": {
    "deletable": true,
    "editable": true
   },
   "source": [
    "## Exploring similarity of loci - I think I'm oversplitting loci\n",
    "\n",
    "**20170501**\n",
    "\n",
    "Last week, I made a bunch of exploratory plots to understand my data, and it led me to align my catalog loci to each other in search of paralogous loci/oversplitting loci. And from a preliminary visual assessment, it looks like I did oversplit. I wanted to take some time now to figure out how clustering at different levels of similarity affects the outcome number of loci and how much I believe those loci are clustered correctly (aka, allowing more mismatches in Stacks, or clustering with other software completely like Swarm or mothur).\n",
    "\n",
    "Another thought is that I should probably look at what sequences I lost during the Bowtie and Blast filtering steps, because I lost most of my loci (~90%), and maybe there are clues in there as to what I should do next.\n",
    "\n",
    "And, yet another thought is I should see what happens when I retry the Bowtie and BLAST filtering using bowtie 2 because it allows for gaps in alignments. It seems like I should switch over to it anyway now that I know there are plenty of indels in mydata.\n",
    "\n",
    "Here's one tiny piece of an alignment I made of the loci that were kept after bowtie filtering (lost 88% of loci after bowtie filtering):\n",
    "\n",
    "![img](https://github.com/nclowell/RAD_Scallops/blob/master/CRAGIG_run1/Notebooks/images_for_notebooks/ex_cat_loci_similar.png?raw=true)\n",
    "\n",
    "Notice reading the sequences from the left, that stick out a bit, how similar those ~10 sequences are. That's terrifying!"
   ]
  },
  {
   "cell_type": "code",
   "execution_count": null,
   "metadata": {
    "collapsed": true,
    "deletable": true,
    "editable": true
   },
   "outputs": [],
   "source": []
  }
 ],
 "metadata": {
  "kernelspec": {
   "display_name": "Python 2",
   "language": "python",
   "name": "python2"
  },
  "language_info": {
   "codemirror_mode": {
    "name": "ipython",
    "version": 2
   },
   "file_extension": ".py",
   "mimetype": "text/x-python",
   "name": "python",
   "nbconvert_exporter": "python",
   "pygments_lexer": "ipython2",
   "version": "2.7.12"
  }
 },
 "nbformat": 4,
 "nbformat_minor": 2
}
