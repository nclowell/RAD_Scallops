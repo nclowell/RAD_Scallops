{
 "cells": [
  {
   "cell_type": "markdown",
   "metadata": {},
   "source": [
    "## Exploratory Plots To Make Sense of Weird Fis Distribution\n",
    "\n",
    "**20170425**\n",
    "\n",
    "The Fis distribution of SNPs was bimodal, with most Fis values positive. This is pretty weird compared to the results of my peers.\n",
    "\n",
    "This plot is the Fis distribution of SNPs that are in RAD tags without SNPs in the first or last 30 base pairs:\n",
    "\n",
    "![image](https://github.com/nclowell/RAD_Scallops/blob/master/CRAGIG_run1/Analyses/Fis/fis_dist_SNPs_30cutoff_20170420.png?raw=true)\n",
    "\n",
    "So, my adviser suggested that I assess the following, to try and make some sense of the weirdness in the Fis distribution, and to try to get at whether this is biological or just an error.\n",
    "\n",
    "* Plot Fis by heterozygosity\n",
    "* Plot read depth by Fis\n",
    "* Plot read depth by heterozygosity\n",
    "* Plot Fis by sequence position\n",
    "* Plot Heterozygosity by sequence position\n",
    "* Visually assess some sequences and see if obvious paralogous loci\n",
    "\n",
    "**20170426**\n",
    "First, though I filtered my SNPs so that I have just one per RAD tag. Notebook [here](https://github.com/nclowell/RAD_Scallops/blob/master/CRAGIG_run1/Notebooks/script_demos/filter_one_SNP_per_RADtag.py.ipynb), script [here](https://github.com/nclowell/RAD_Scallops/blob/master/CRAGIG_run1/Scripts/filtering/filter_one_SNP_per_RADtag.py).\n",
    "\n",
    "Now that I've filtered only one SNP per RAD tag, I'm going to rerun hierfstat in R. Code [here]()"
   ]
  },
  {
   "cell_type": "code",
   "execution_count": null,
   "metadata": {
    "collapsed": true
   },
   "outputs": [],
   "source": []
  }
 ],
 "metadata": {
  "kernelspec": {
   "display_name": "Python 2",
   "language": "python",
   "name": "python2"
  },
  "language_info": {
   "codemirror_mode": {
    "name": "ipython",
    "version": 2
   },
   "file_extension": ".py",
   "mimetype": "text/x-python",
   "name": "python",
   "nbconvert_exporter": "python",
   "pygments_lexer": "ipython2",
   "version": "2.7.12"
  }
 },
 "nbformat": 4,
 "nbformat_minor": 2
}
