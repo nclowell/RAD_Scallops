{
 "cells": [
  {
   "cell_type": "markdown",
   "metadata": {},
   "source": [
    "## Preliminary findings investigating mismatch parameter effects\n",
    "\n",
    "**20170510**\n",
    "\n",
    "I read [Ilut et al 2014](https://www.hindawi.com/journals/bmri/2014/675158/abs/) and they developed a method for picking an appropriate mismatch parameter that balances oversplitting and undersplitting loci.\n",
    "\n",
    "In a nutshell, they plot percentage of different copy genogypes (homozygotes, heterozygotes, and polyploid) over different mismatch parameters and choose the mismatch parameter where the asymptote starts. Their argument is that once it starts to asymptote, that mismatch parameter value will not really be oversplitting anymore, but the higher the mismatch parameter, the more likely you'll be lumping together paralogous loci and/or undersplitting.\n",
    "\n",
    "\n",
    "Figures from the paper:\n",
    "![img](https://github.com/nclowell/RAD_Scallops/blob/master/CRAGIG_run1/Notebooks/images_for_notebooks/ilut_et_al_2014_mainfigs.png?raw=true)\n",
    "\n",
    "I picked ten scallop samples and ran them through ``ustacks`` with different mismatch parameter values. Results:\n",
    "\n",
    "![img](https://github.com/nclowell/RAD_Scallops/blob/master/CRAGIG_run1/Notebooks/images_for_notebooks/ret_loci_after_ustacks_allm_20170508.png?raw=true)\n",
    "\n",
    "Given that the number of loci didn't change much between mismatch parameters, I chose the output files from 3 mismatches in ``ustacks`` and ran ``cstacks`` using the same set of mismatch parameters. Results:\n",
    "\n",
    "![img](https://github.com/nclowell/RAD_Scallops/blob/master/CRAGIG_run1/Notebooks/images_for_notebooks/cstacks_n_on_catloci_20170509.png?raw=true)\n",
    "\n",
    "I then went through each individual alleles.tsv and snps.tsv files after ``ustacks`` and \"called\" genotypes. If there were two alleles listed in the alleles.tsv files, then I called it a heterozygote. If there were more than two, I called it polyploid. And then, because the alleles.tsv files don't include monomorphic loci, I went through the snps.tsv files and counted the number of loci where there were no SNPs present. This isn't perfect, because it doesn't include a genotype calling model the way the later parts of the pipeline do, but this seemed like a good start. Results:\n",
    "\n",
    "![img](https://github.com/nclowell/RAD_Scallops/blob/master/CRAGIG_run1/Notebooks/images_for_notebooks/ilut_fig_FG009_20170509.png?raw=true)"
   ]
  }
 ],
 "metadata": {
  "kernelspec": {
   "display_name": "Python 2",
   "language": "python",
   "name": "python2"
  },
  "language_info": {
   "codemirror_mode": {
    "name": "ipython",
    "version": 2
   },
   "file_extension": ".py",
   "mimetype": "text/x-python",
   "name": "python",
   "nbconvert_exporter": "python",
   "pygments_lexer": "ipython2",
   "version": "2.7.12"
  }
 },
 "nbformat": 4,
 "nbformat_minor": 2
}
