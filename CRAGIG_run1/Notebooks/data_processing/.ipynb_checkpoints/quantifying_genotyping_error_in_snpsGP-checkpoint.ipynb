{
 "cells": [
  {
   "cell_type": "markdown",
   "metadata": {},
   "source": [
    "# Second look at genotyping error\n",
    "### SNP level"
   ]
  },
  {
   "cell_type": "markdown",
   "metadata": {
    "deletable": true,
    "editable": true
   },
   "source": [
    "Same deal as notebook looking for genotyping error, except this one is by SNP genotype and not haplotype genotype"
   ]
  },
  {
   "cell_type": "code",
   "execution_count": 2,
   "metadata": {
    "collapsed": false,
    "deletable": true,
    "editable": true
   },
   "outputs": [
    {
     "name": "stdout",
     "output_type": "stream",
     "text": [
      "/mnt/hgfs/SHARED_FOLDER/WorkingFolder/Stacks_2\n"
     ]
    }
   ],
   "source": [
    "cd /mnt/hgfs/SHARED_FOLDER/WorkingFolder/Stacks_2"
   ]
  },
  {
   "cell_type": "code",
   "execution_count": 9,
   "metadata": {
    "collapsed": true,
    "deletable": true,
    "editable": true
   },
   "outputs": [],
   "source": [
    "input = open(\"cragigrun1_sampreps_snps_gen.txt\")\n",
    "lines = input.readlines()\n",
    "biglist = []\n",
    "for line in lines:\n",
    "    linelist = line.strip().split()\n",
    "    biglist.append(linelist)"
   ]
  },
  {
   "cell_type": "code",
   "execution_count": 10,
   "metadata": {
    "collapsed": true,
    "deletable": true,
    "editable": true
   },
   "outputs": [],
   "source": [
    "import numpy as np\n",
    "myarray = np.array(biglist)"
   ]
  },
  {
   "cell_type": "code",
   "execution_count": 11,
   "metadata": {
    "collapsed": true,
    "deletable": true,
    "editable": true
   },
   "outputs": [],
   "source": [
    "FG101 = myarray[0:2]\n",
    "FG102 = myarray[2:4]\n",
    "FG103 = myarray[4:6]\n",
    "FG104 = myarray[6:8]\n",
    "tags_header = myarray[8]"
   ]
  },
  {
   "cell_type": "code",
   "execution_count": 14,
   "metadata": {
    "collapsed": false,
    "deletable": true,
    "editable": true
   },
   "outputs": [
    {
     "name": "stdout",
     "output_type": "stream",
     "text": [
      "5_75,5_84,5_137,6_16,6_23,6_24,6_40,6_74,6_97,6_112,6_126,6_129,13_47,13_51,13_72,13_81,13_83,13_86,\n"
     ]
    }
   ],
   "source": [
    "print tags_header[0][0:100]"
   ]
  },
  {
   "cell_type": "code",
   "execution_count": 15,
   "metadata": {
    "collapsed": false,
    "deletable": true,
    "editable": true
   },
   "outputs": [
    {
     "name": "stdout",
     "output_type": "stream",
     "text": [
      "['5_75', '5_84', '5_137', '6_16', '6_23', '6_24', '6_40', '6_74', '6_97']\n"
     ]
    }
   ],
   "source": [
    "# get list of tags\n",
    "tags_list = tags_header[0].strip().split(\",\")\n",
    "print tags_list[0:9]"
   ]
  },
  {
   "cell_type": "code",
   "execution_count": 20,
   "metadata": {
    "collapsed": false,
    "deletable": true,
    "editable": true
   },
   "outputs": [
    {
     "name": "stdout",
     "output_type": "stream",
     "text": [
      "82265\n"
     ]
    }
   ],
   "source": [
    "num_tags = len(tags_list) # iterate over number of tags\n",
    "print num_tags"
   ]
  },
  {
   "cell_type": "code",
   "execution_count": 22,
   "metadata": {
    "collapsed": true,
    "deletable": true,
    "editable": true
   },
   "outputs": [],
   "source": [
    "# break into replicate couplets, name by sample\n",
    "list_of_arrays = []\n",
    "list_of_arrays.append(FG101)\n",
    "list_of_arrays.append(FG102)\n",
    "list_of_arrays.append(FG103)\n",
    "list_of_arrays.append(FG104)"
   ]
  },
  {
   "cell_type": "code",
   "execution_count": 23,
   "metadata": {
    "collapsed": true,
    "deletable": true,
    "editable": true
   },
   "outputs": [],
   "source": [
    "# initiate counts and lists to track genotyping error\n",
    "match_genotypes_count = 0\n",
    "match_genotypes_tags = []\n",
    "partmismatch_genotypes_count = 0\n",
    "partmismatch_genotypes_tags = []\n",
    "totalmismatch_genotypes_count = 0\n",
    "totalmismatch_genotypes_tags = []\n",
    "nodata_mismatch_count = 0\n",
    "nodata_mismatch_tags = []"
   ]
  },
  {
   "cell_type": "markdown",
   "metadata": {
    "deletable": true,
    "editable": true
   },
   "source": [
    "### Report genotype errors and matches by sample\n",
    "\n",
    "I had 4 samples, each with 2 sequencing replicates that made it through ``populations`` to my SNPs Genepop file. Here I'm comparing them, and reporting back how many had a perfect match, how many had one allele match, how many didn't match at all. Percents are over a total of genotypes excluding those with any missing data."
   ]
  },
  {
   "cell_type": "code",
   "execution_count": 24,
   "metadata": {
    "collapsed": false,
    "deletable": true,
    "editable": true
   },
   "outputs": [
    {
     "name": "stdout",
     "output_type": "stream",
     "text": [
      "\n",
      "Sample number 1 :\n",
      "Genotypes with perfect match: 79255 : \n",
      "Genotypes with partial match: 246 : \n",
      "Genotypes with total mismatch: 0 : \n",
      "Genotypes with mismatch due to missing data: 2763 : \n",
      "\n",
      "Sample number 2 :\n",
      "Genotypes with perfect match: 79610 : \n",
      "Genotypes with partial match: 275 : \n",
      "Genotypes with total mismatch: 0 : \n",
      "Genotypes with mismatch due to missing data: 2379 : \n",
      "\n",
      "Sample number 3 :\n",
      "Genotypes with perfect match: 78650 : \n",
      "Genotypes with partial match: 362 : \n",
      "Genotypes with total mismatch: 0 : \n",
      "Genotypes with mismatch due to missing data: 3252 : \n",
      "\n",
      "Sample number 4 :\n",
      "Genotypes with perfect match: 78818 : \n",
      "Genotypes with partial match: 293 : \n",
      "Genotypes with total mismatch: 0 : \n",
      "Genotypes with mismatch due to missing data: 3153 : \n"
     ]
    }
   ],
   "source": [
    "# sort genotype match/mismatch by sample\n",
    "bysam_match_tags = []\n",
    "bysam_partmismatch_tags = []\n",
    "bysam_totalmismatch_tags = []\n",
    "bysam_missing_tags = []\n",
    "\n",
    "timescount = 1\n",
    "for array in list_of_arrays:\n",
    "    sam_match_genotypes_count = 0\n",
    "    sam_match_genotypes_tags = []\n",
    "    sam_partmismatch_genotypes_count = 0\n",
    "    sam_partmismatch_genotypes_tags = []\n",
    "    sam_totalmismatch_genotypes_count = 0\n",
    "    sam_totalmismatch_genotypes_tags = []\n",
    "    sam_nodata_mismatch_count = 0\n",
    "    sam_nodata_mismatch_tags = []\n",
    "    for i in range(1,num_tags):\n",
    "        A_gen = array[0][i] # get genotypes\n",
    "        B_gen = array[1][i]\n",
    "        A_1 = A_gen[0:2] # pull out alleles\n",
    "        A_2 = A_gen[2:4]\n",
    "        B_1 = B_gen[0:2]\n",
    "        B_2 = B_gen[2:4]\n",
    "        A_list = [] # store alleles in lists\n",
    "        A_list.append(A_1)\n",
    "        A_list.append(A_2)\n",
    "        B_list = []\n",
    "        B_list.append(B_1)\n",
    "        B_list.append(B_2)\n",
    "        first_test_string = B_1 + B_2\n",
    "        second_test_string = B_2 + B_1\n",
    "        match_options = []\n",
    "        match_options.append(first_test_string)\n",
    "        match_options.append(second_test_string)\n",
    "        if (A_gen == \"0000\" or B_gen == \"0000\") or (A_gen == \"0000\" and B_gen == \"0000\"):\n",
    "            nodata_mismatch_count += 1\n",
    "            nodata_mismatch_tags.append(tags_list[i])\n",
    "            sam_nodata_mismatch_count +=1\n",
    "            sam_nodata_mismatch_tags.append(tags_list[i])\n",
    "        elif A_gen in match_options: # if perfect match\n",
    "            match_genotypes_count += 1\n",
    "            match_genotypes_tags.append(tags_list[i])\n",
    "            sam_match_genotypes_count += 1\n",
    "            sam_match_genotypes_tags.append(tags_list[i])\n",
    "        elif A_1 in B_list or A_2 in B_list: # if one allele is a match\n",
    "            partmismatch_genotypes_count += 1\n",
    "            partmismatch_genotypes_tags.append(tags_list[i])\n",
    "            sam_partmismatch_genotypes_count += 1\n",
    "            sam_partmismatch_genotypes_tags.append(tags_list[i])\n",
    "        elif A_1 not in B_list or A_2 not in B_list: # if not a match at all\n",
    "            totalmismatch_genotypes_count += 1\n",
    "            totalmismatch_genotypes_tags.append(tags_list[i])\n",
    "            sam_totalmismatch_genotypes_count += 1\n",
    "            sam_totalmismatch_genotypes_tags.append(tags_list[i])\n",
    "        else:\n",
    "            print \"Your loop may not be fully working.\" \n",
    "            print \"You thought there were three possible options, but there were more than three. Check!\"\n",
    "        \n",
    "    bysam_missing_tags.append(sam_nodata_mismatch_tags)\n",
    "    bysam_match_tags.append(sam_match_genotypes_tags)\n",
    "    bysam_partmismatch_tags.append(sam_partmismatch_genotypes_tags)\n",
    "    bysam_totalmismatch_tags.append(sam_totalmismatch_genotypes_tags)\n",
    "\n",
    "    print \"\\nSample number \" + str(timescount) + \" :\"\n",
    "    print \"Genotypes with perfect match: \" + str(sam_match_genotypes_count) + \" : \"\n",
    "    print \"Genotypes with partial match: \" + str(sam_partmismatch_genotypes_count) + \" : \"\n",
    "    print \"Genotypes with total mismatch: \" + str(sam_totalmismatch_genotypes_count) + \" : \"\n",
    "    print \"Genotypes with mismatch due to missing data: \" + str(sam_nodata_mismatch_count) + \" : \"\n",
    "        \n",
    "    timescount +=1"
   ]
  },
  {
   "cell_type": "code",
   "execution_count": 25,
   "metadata": {
    "collapsed": false,
    "deletable": true,
    "editable": true
   },
   "outputs": [
    {
     "name": "stdout",
     "output_type": "stream",
     "text": [
      "Total genotypes excluding those with missing data : 317509\n",
      "\n",
      "Total genotypes with perfect match: 316333 : 99.62%\n",
      "Total genotypes with partial match: 1176 : 0.370%\n",
      "Total genotypes with total mismatch: 0 : 0.0%\n",
      "\n",
      "Total genotypes with mismatch due to missing data: 11547\n"
     ]
    }
   ],
   "source": [
    "from __future__ import division\n",
    "\n",
    "total_excl_mv = match_genotypes_count + partmismatch_genotypes_count + totalmismatch_genotypes_count\n",
    "print \"Total genotypes excluding those with missing data : \" + str(total_excl_mv)\n",
    "print \"\\nTotal genotypes with perfect match: \" + str(match_genotypes_count) + \" : \" + str((float(match_genotypes_count)/float(total_excl_mv)*100))[0:5] + \"%\"\n",
    "print \"Total genotypes with partial match: \" + str(partmismatch_genotypes_count) + \" : \" + str((float(partmismatch_genotypes_count)/float(total_excl_mv)*100))[0:5] + \"%\"\n",
    "print \"Total genotypes with total mismatch: \" + str(totalmismatch_genotypes_count) + \" : \" + str((float(totalmismatch_genotypes_count)/float(total_excl_mv)*100))[0:5] + \"%\"\n",
    "print \"\\nTotal genotypes with mismatch due to missing data: \" + str(nodata_mismatch_count)"
   ]
  },
  {
   "cell_type": "markdown",
   "metadata": {
    "deletable": true,
    "editable": true
   },
   "source": [
    "That's so much better than looking at genotyping error by haplotypes!"
   ]
  },
  {
   "cell_type": "markdown",
   "metadata": {
    "deletable": true,
    "editable": true
   },
   "source": [
    "**20170315**\n",
    "\n",
    "Just had a chat with dan about what to do next. He suggested that the discrepancy in genotyping error between haplotypes and SNPs could be because a small sequencing error (one base pair) could mess up a whole bunch of haplotype calls, and that it could be worth it to screen each SNP for a minor allele frequency that represents it must be at least a few individuals, and then remove SNPs from the haplotypes that don't make that cut off.\n",
    "\n",
    "From the haplotype file, I would have to:\n",
    "* at each locus\n",
    " * go through each SNP of the haplotypes\n",
    " * filter using a minor allele frequency\n",
    " * rewrite haplotypes to include only SNPs that make it past the threshold\n",
    " * parse back to tags Genepop\n",
    " * move forward"
   ]
  },
  {
   "cell_type": "code",
   "execution_count": null,
   "metadata": {
    "collapsed": true,
    "deletable": true,
    "editable": true
   },
   "outputs": [],
   "source": []
  }
 ],
 "metadata": {
  "kernelspec": {
   "display_name": "Python 2",
   "language": "python",
   "name": "python2"
  },
  "language_info": {
   "codemirror_mode": {
    "name": "ipython",
    "version": 2
   },
   "file_extension": ".py",
   "mimetype": "text/x-python",
   "name": "python",
   "nbconvert_exporter": "python",
   "pygments_lexer": "ipython2",
   "version": "2.7.12"
  }
 },
 "nbformat": 4,
 "nbformat_minor": 2
}
