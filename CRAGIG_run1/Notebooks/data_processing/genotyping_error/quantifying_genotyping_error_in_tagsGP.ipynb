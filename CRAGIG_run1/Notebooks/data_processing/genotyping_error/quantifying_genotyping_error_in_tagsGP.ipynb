{
 "cells": [
  {
   "cell_type": "markdown",
   "metadata": {
    "deletable": true,
    "editable": true
   },
   "source": [
    "# First look at genotyping error in CRAGIG Run1\n",
    "### Tag level\n",
    "\n",
    "I finally made a Genepop of the tags (not the SNPs) and was visually assessing the sequencing replicates, and noticed that they were actually pretty different. Bummer! Here, I'm measuring genotyping error. Ideally there'd be a way to treat a homozygote called as a different homozygote differently form a homozygote called as a heterozygote with one of the same alleles, but for now I'll try to just count both kinds.\n",
    "\n",
    "Brent just stopped by and suggested the following:\n",
    "- Test to see if places with more than two alleles is within a tag\n",
    "- Test algorithm on samples extracted together"
   ]
  },
  {
   "cell_type": "code",
   "execution_count": 78,
   "metadata": {
    "collapsed": false,
    "deletable": true,
    "editable": true
   },
   "outputs": [
    {
     "name": "stdout",
     "output_type": "stream",
     "text": [
      "/mnt/hgfs/SHARED_FOLDER/WorkingFolder\n"
     ]
    }
   ],
   "source": [
    "cd /mnt/hgfs/SHARED_FOLDER/WorkingFolder"
   ]
  },
  {
   "cell_type": "markdown",
   "metadata": {
    "deletable": true,
    "editable": true
   },
   "source": [
    "Read in file, get list of lists to turn into numpy array"
   ]
  },
  {
   "cell_type": "code",
   "execution_count": 79,
   "metadata": {
    "collapsed": true,
    "deletable": true,
    "editable": true
   },
   "outputs": [],
   "source": [
    "input = open(\"cragigrun1_reps_genotypes.txt\")\n",
    "lines = input.readlines()\n",
    "biglist = []\n",
    "for line in lines:\n",
    "    linelist = line.strip().split()\n",
    "    biglist.append(linelist)"
   ]
  },
  {
   "cell_type": "code",
   "execution_count": 80,
   "metadata": {
    "collapsed": true,
    "deletable": true,
    "editable": true
   },
   "outputs": [],
   "source": [
    "import numpy as np\n",
    "myarray = np.array(biglist)"
   ]
  },
  {
   "cell_type": "markdown",
   "metadata": {
    "deletable": true,
    "editable": true
   },
   "source": [
    "Slice array into couplets, named for replicates of sample"
   ]
  },
  {
   "cell_type": "code",
   "execution_count": 82,
   "metadata": {
    "collapsed": false,
    "deletable": true,
    "editable": true
   },
   "outputs": [],
   "source": [
    "FG100 = myarray[0:2]\n",
    "FG101 = myarray[2:4]\n",
    "FG102 = myarray[4:6]\n",
    "FG103 = myarray[6:8]\n",
    "FG104 = myarray[8:10]\n",
    "tags_header = myarray[10]"
   ]
  },
  {
   "cell_type": "code",
   "execution_count": 85,
   "metadata": {
    "collapsed": false,
    "deletable": true,
    "editable": true
   },
   "outputs": [
    {
     "name": "stdout",
     "output_type": "stream",
     "text": [
      "['5', '6', '13', '16', '20', '22', '27', '28', '31']\n"
     ]
    }
   ],
   "source": [
    "# get list of tags\n",
    "tags_list = tags_header[0].strip().split(\",\")\n",
    "print tags_list[0:9]"
   ]
  },
  {
   "cell_type": "code",
   "execution_count": 87,
   "metadata": {
    "collapsed": false,
    "deletable": true,
    "editable": true
   },
   "outputs": [],
   "source": [
    "# break into replicate couplets, name by sample\n",
    "list_of_arrays = []\n",
    "list_of_arrays.append(FG100)\n",
    "list_of_arrays.append(FG101)\n",
    "list_of_arrays.append(FG102)\n",
    "list_of_arrays.append(FG103)\n",
    "list_of_arrays.append(FG104)"
   ]
  },
  {
   "cell_type": "code",
   "execution_count": 107,
   "metadata": {
    "collapsed": true,
    "deletable": true,
    "editable": true
   },
   "outputs": [],
   "source": [
    "# initiate counts and lists to track genotyping error\n",
    "match_genotypes_count = 0\n",
    "match_genotypes_tags = []\n",
    "partmismatch_genotypes_count = 0\n",
    "partmismatch_genotypes_tags = []\n",
    "totalmismatch_genotypes_count = 0\n",
    "totalmismatch_genotypes_tags = []\n",
    "nodata_mismatch_count = 0\n",
    "nodata_mismatch_tags = []"
   ]
  },
  {
   "cell_type": "code",
   "execution_count": 108,
   "metadata": {
    "collapsed": false,
    "deletable": true,
    "editable": true
   },
   "outputs": [
    {
     "name": "stdout",
     "output_type": "stream",
     "text": [
      "7749\n"
     ]
    }
   ],
   "source": [
    "num_tags = len(tags_list) # iterate over number of tags\n",
    "print num_tags"
   ]
  },
  {
   "cell_type": "markdown",
   "metadata": {
    "deletable": true,
    "editable": true
   },
   "source": [
    "### Report genotype errors and matches by sample\n",
    "\n",
    "I had 5 samples, each with 2 sequencing replicates. Here I'm comparing them, and reporting back how many had a perfect match, how many had one allele match, how many didn't match at all. Percents are over a total of genotypes excluding those with any missing data."
   ]
  },
  {
   "cell_type": "code",
   "execution_count": 109,
   "metadata": {
    "collapsed": false,
    "deletable": true,
    "editable": true
   },
   "outputs": [
    {
     "name": "stdout",
     "output_type": "stream",
     "text": [
      "\n",
      "Sample number 1 :\n",
      "Genotypes with perfect match: 2408 : \n",
      "Genotypes with partial match: 2492 : \n",
      "Genotypes with total mismatch: 1602 : \n",
      "Genotypes with mismatch due to missing data: 1246 : \n",
      "\n",
      "Sample number 2 :\n",
      "Genotypes with perfect match: 2493 : \n",
      "Genotypes with partial match: 2507 : \n",
      "Genotypes with total mismatch: 1769 : \n",
      "Genotypes with mismatch due to missing data: 979 : \n",
      "\n",
      "Sample number 3 :\n",
      "Genotypes with perfect match: 2508 : \n",
      "Genotypes with partial match: 2577 : \n",
      "Genotypes with total mismatch: 1775 : \n",
      "Genotypes with mismatch due to missing data: 888 : \n",
      "\n",
      "Sample number 4 :\n",
      "Genotypes with perfect match: 2409 : \n",
      "Genotypes with partial match: 2580 : \n",
      "Genotypes with total mismatch: 1825 : \n",
      "Genotypes with mismatch due to missing data: 934 : \n",
      "\n",
      "Sample number 5 :\n",
      "Genotypes with perfect match: 2388 : \n",
      "Genotypes with partial match: 2554 : \n",
      "Genotypes with total mismatch: 1769 : \n",
      "Genotypes with mismatch due to missing data: 1037 : \n"
     ]
    }
   ],
   "source": [
    "# sort genotype match/mismatch by sample\n",
    "bysam_match_tags = []\n",
    "bysam_partmismatch_tags = []\n",
    "bysam_totalmismatch_tags = []\n",
    "bysam_missing_tags = []\n",
    "\n",
    "timescount = 1\n",
    "for array in list_of_arrays:\n",
    "    sam_match_genotypes_count = 0\n",
    "    sam_match_genotypes_tags = []\n",
    "    sam_partmismatch_genotypes_count = 0\n",
    "    sam_partmismatch_genotypes_tags = []\n",
    "    sam_totalmismatch_genotypes_count = 0\n",
    "    sam_totalmismatch_genotypes_tags = []\n",
    "    sam_nodata_mismatch_count = 0\n",
    "    sam_nodata_mismatch_tags = []\n",
    "    for i in range(1,num_tags):\n",
    "        A_gen = array[0][i] # get genotypes\n",
    "        B_gen = array[1][i]\n",
    "        A_1 = A_gen[0:2] # pull out alleles\n",
    "        A_2 = A_gen[2:4]\n",
    "        B_1 = B_gen[0:2]\n",
    "        B_2 = B_gen[2:4]\n",
    "        A_list = [] # store alleles in lists\n",
    "        A_list.append(A_1)\n",
    "        A_list.append(A_2)\n",
    "        B_list = []\n",
    "        B_list.append(B_1)\n",
    "        B_list.append(B_2)\n",
    "        first_test_string = B_1 + B_2\n",
    "        second_test_string = B_2 + B_1\n",
    "        match_options = []\n",
    "        match_options.append(first_test_string)\n",
    "        match_options.append(second_test_string)\n",
    "        if (A_gen == \"0000\" or B_gen == \"0000\") or (A_gen == \"0000\" and B_gen == \"0000\"):\n",
    "            nodata_mismatch_count += 1\n",
    "            nodata_mismatch_tags.append(tags_list[i])\n",
    "            sam_nodata_mismatch_count +=1\n",
    "            sam_nodata_mismatch_tags.append(tags_list[i])\n",
    "        elif A_gen in match_options: # if perfect match\n",
    "            match_genotypes_count += 1\n",
    "            match_genotypes_tags.append(tags_list[i])\n",
    "            sam_match_genotypes_count += 1\n",
    "            sam_match_genotypes_tags.append(tags_list[i])\n",
    "        elif A_1 in B_list or A_2 in B_list: # if one allele is a match\n",
    "            partmismatch_genotypes_count += 1\n",
    "            partmismatch_genotypes_tags.append(tags_list[i])\n",
    "            sam_partmismatch_genotypes_count += 1\n",
    "            sam_partmismatch_genotypes_tags.append(tags_list[i])\n",
    "        elif A_1 not in B_list or A_2 not in B_list: # if not a match at all\n",
    "            totalmismatch_genotypes_count += 1\n",
    "            totalmismatch_genotypes_tags.append(tags_list[i])\n",
    "            sam_totalmismatch_genotypes_count += 1\n",
    "            sam_totalmismatch_genotypes_tags.append(tags_list[i])\n",
    "        else:\n",
    "            print \"Your loop may not be fully working.\" \n",
    "            print \"You thought there were three possible options, but there were more than three. Check!\"\n",
    "        \n",
    "    bysam_missing_tags.append(sam_nodata_mismatch_tags)\n",
    "    bysam_match_tags.append(sam_match_genotypes_tags)\n",
    "    bysam_partmismatch_tags.append(sam_partmismatch_genotypes_tags)\n",
    "    bysam_totalmismatch_tags.append(sam_totalmismatch_genotypes_tags)\n",
    "\n",
    "    print \"\\nSample number \" + str(timescount) + \" :\"\n",
    "    print \"Genotypes with perfect match: \" + str(sam_match_genotypes_count) + \" : \"\n",
    "    print \"Genotypes with partial match: \" + str(sam_partmismatch_genotypes_count) + \" : \"\n",
    "    print \"Genotypes with total mismatch: \" + str(sam_totalmismatch_genotypes_count) + \" : \"\n",
    "    print \"Genotypes with mismatch due to missing data: \" + str(sam_nodata_mismatch_count) + \" : \"\n",
    "        \n",
    "    timescount +=1"
   ]
  },
  {
   "cell_type": "code",
   "execution_count": 128,
   "metadata": {
    "collapsed": false,
    "deletable": true,
    "editable": true
   },
   "outputs": [
    {
     "name": "stdout",
     "output_type": "stream",
     "text": [
      "Total genotypes excluding those with missing data : 33656\n",
      "\n",
      "Total genotypes with perfect match: 12206 : 36.26%\n",
      "Total genotypes with partial match: 12710 : 37.76%\n",
      "Total genotypes with total mismatch: 8740 : 25.96%\n",
      "\n",
      "Total genotypes with mismatch due to missing data: 5084\n"
     ]
    }
   ],
   "source": [
    "from __future__ import division\n",
    "\n",
    "total_excl_mv = match_genotypes_count + partmismatch_genotypes_count + totalmismatch_genotypes_count\n",
    "print \"Total genotypes excluding those with missing data : \" + str(total_excl_mv)\n",
    "print \"\\nTotal genotypes with perfect match: \" + str(match_genotypes_count) + \" : \" + str((float(match_genotypes_count)/float(total_excl_mv)*100))[0:5] + \"%\"\n",
    "print \"Total genotypes with partial match: \" + str(partmismatch_genotypes_count) + \" : \" + str((float(partmismatch_genotypes_count)/float(total_excl_mv)*100))[0:5] + \"%\"\n",
    "print \"Total genotypes with total mismatch: \" + str(totalmismatch_genotypes_count) + \" : \" + str((float(totalmismatch_genotypes_count)/float(total_excl_mv)*100))[0:5] + \"%\"\n",
    "print \"\\nTotal genotypes with mismatch due to missing data: \" + str(nodata_mismatch_count)"
   ]
  },
  {
   "cell_type": "markdown",
   "metadata": {
    "deletable": true,
    "editable": true
   },
   "source": [
    "Bummer! That's a ton of errors. These \"totals\" are across all five samples. Above, you can see the results split by sample. Although I didn't calculate percent, you can see they're pretty similar.\n",
    "\n",
    "### Checking for sample overlap between tags that did show a perfect match within a sample's replicates\n",
    "\n",
    "Next check - are the tags that have a perfect match consistent across samples? \n",
    "\n",
    "Here's the first 20 tags within each sample's list of tags that had perfect match between replicates:"
   ]
  },
  {
   "cell_type": "code",
   "execution_count": 104,
   "metadata": {
    "collapsed": false,
    "deletable": true,
    "editable": true
   },
   "outputs": [
    {
     "name": "stdout",
     "output_type": "stream",
     "text": [
      "['13', '16', '22', '27', '28', '31', '35', '49', '50', '75', '77', '79', '84', '86', '89', '94', '100', '114', '117', '122']\n",
      "['13', '16', '22', '27', '31', '35', '49', '50', '75', '79', '84', '89', '94', '100', '114', '117', '122', '128', '147', '193']\n",
      "['6', '16', '20', '22', '27', '31', '35', '49', '50', '75', '79', '84', '89', '92', '94', '95', '96', '100', '101', '111']\n",
      "['6', '16', '20', '27', '31', '49', '50', '71', '75', '89', '93', '94', '95', '96', '100', '111', '117', '122', '131', '140']\n",
      "['13', '20', '27', '49', '50', '57', '75', '89', '93', '94', '96', '111', '117', '122', '134', '148', '199', '201', '206', '219']\n"
     ]
    }
   ],
   "source": [
    "print bysam_match_tags[0][0:20]\n",
    "print bysam_match_tags[1][0:20]\n",
    "print bysam_match_tags[2][0:20]\n",
    "print bysam_match_tags[3][0:20]\n",
    "print bysam_match_tags[4][0:20]"
   ]
  },
  {
   "cell_type": "markdown",
   "metadata": {
    "deletable": true,
    "editable": true
   },
   "source": [
    "From first glance, it does seem like there's some significant (but definitely not complete) overlap of tags between samples that had perfect genotype match within replicates. A closer look at that overlap...\n",
    "\n",
    "Getting percent of tags that match in all five samples:"
   ]
  },
  {
   "cell_type": "code",
   "execution_count": 137,
   "metadata": {
    "collapsed": false,
    "deletable": true,
    "editable": true
   },
   "outputs": [
    {
     "name": "stdout",
     "output_type": "stream",
     "text": [
      "46.01% of tags that showed a perfect match in at least one set of replicates, also perfectly matched in all 5 sets of replicates.\n"
     ]
    }
   ],
   "source": [
    "matching = len(set(bysam_match_tags[0]) and set(bysam_match_tags[1]) and set(bysam_match_tags[2]) and set(bysam_match_tags[3]) and set(bysam_match_tags[4]))\n",
    "total = len(set(match_genotypes_tags))\n",
    "perc_same = (float(matching)/float(total))*100\n",
    "print str(perc_same)[0:5] + \"% of tags that showed a perfect match in at least one set of replicates, also perfectly matched in all 5 sets of replicates.\"\n"
   ]
  },
  {
   "cell_type": "markdown",
   "metadata": {
    "deletable": true,
    "editable": true
   },
   "source": [
    "Seems like they're just as likely to match as not match, so that's not super helpful."
   ]
  },
  {
   "cell_type": "markdown",
   "metadata": {
    "deletable": true,
    "editable": true
   },
   "source": []
  }
 ],
 "metadata": {
  "kernelspec": {
   "display_name": "Python 2",
   "language": "python",
   "name": "python2"
  },
  "language_info": {
   "codemirror_mode": {
    "name": "ipython",
    "version": 2
   },
   "file_extension": ".py",
   "mimetype": "text/x-python",
   "name": "python",
   "nbconvert_exporter": "python",
   "pygments_lexer": "ipython2",
   "version": "2.7.12"
  }
 },
 "nbformat": 4,
 "nbformat_minor": 2
}
