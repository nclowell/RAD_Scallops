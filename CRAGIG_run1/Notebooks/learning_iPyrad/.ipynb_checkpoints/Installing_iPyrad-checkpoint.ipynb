{
 "cells": [
  {
   "cell_type": "markdown",
   "metadata": {},
   "source": [
    "## Installing iPyrad\n",
    "\n",
    "**20170511**\n",
    "\n",
    "I just installed iPyrad v 0.6.20 using this [installation tutorial](http://ipyrad.readthedocs.io/installation.html). I first installed MiniConda2 and used that to install iPyrad:\n",
    "\n",
    "```\n",
    "wget https://repo.continuum.io/miniconda/Miniconda2-latest-Linux-x86_64.sh\n",
    "bash Miniconda2-latest-Linux-x86_64.sh\n",
    "```\n",
    "and then\n",
    "\n",
    "```\n",
    "conda install -c ipyrad ipyrad\n",
    "```\n",
    "\n",
    "If I want to update my version of iPyrad, I can use:\n",
    "\n",
    "```\n",
    "conda update -c ipyrad ipyrad \n",
    "```\n"
   ]
  },
  {
   "cell_type": "code",
   "execution_count": 3,
   "metadata": {
    "collapsed": false
   },
   "outputs": [
    {
     "name": "stdout",
     "output_type": "stream",
     "text": [
      "ipyrad 0.6.20\r\n"
     ]
    }
   ],
   "source": [
    "!ipyrad -v"
   ]
  },
  {
   "cell_type": "code",
   "execution_count": 1,
   "metadata": {
    "collapsed": false
   },
   "outputs": [
    {
     "name": "stdout",
     "output_type": "stream",
     "text": [
      "usage: ipyrad [-h] [-v] [-r] [-f] [-q] [-d] [-n new] [-p params]\r\n",
      "              [-b [branch [branch ...]]] [-m [merge [merge ...]]] [-s steps]\r\n",
      "              [-c cores] [-t threading] [--MPI] [--preview] [--ipcluster]\r\n",
      "\r\n",
      "optional arguments:\r\n",
      "  -h, --help            show this help message and exit\r\n",
      "  -v, --version         show program's version number and exit\r\n",
      "  -r, --results         show results summary for Assembly in params.txt and\r\n",
      "                        exit\r\n",
      "  -f, --force           force overwrite of existing data\r\n",
      "  -q, --quiet           do not print to stderror or stdout.\r\n",
      "  -d, --debug           print lots more info to ipyrad_log.txt.\r\n",
      "  -n new                create new file 'params-{new}.txt' in current\r\n",
      "                        directory\r\n",
      "  -p params             path to params file for Assembly:\r\n",
      "                        params-{assembly_name}.txt\r\n",
      "  -b [branch [branch ...]]\r\n",
      "                        create a new branch of the Assembly as\r\n",
      "                        params-{branch}.txt\r\n",
      "  -m [merge [merge ...]]\r\n",
      "                        merge all assemblies provided into a new assembly\r\n",
      "  -s steps              Set of assembly steps to perform, e.g., -s 123\r\n",
      "                        (Default=None)\r\n",
      "  -c cores              number of CPU cores to use (Default=0=All)\r\n",
      "  -t threading          tune threading of binaries (Default=2)\r\n",
      "  --MPI                 connect to parallel CPUs across multiple nodes\r\n",
      "  --preview             run ipyrad in preview mode. Subset the input file so\r\n",
      "                        it'll runquickly so you can verify everything is\r\n",
      "                        working\r\n",
      "  --ipcluster           connect to running ipcluster instance with default\r\n",
      "                        cluster-id=''\r\n",
      "\r\n",
      "  * Example command-line usage: \r\n",
      "    ipyrad -n data                       ## create new file called params-data.txt \r\n",
      "    ipyrad -p params-data.txt            ## run ipyrad with settings in params file\r\n",
      "    ipyrad -p params-data.txt -s 123     ## run only steps 1-3 of assembly.\r\n",
      "    ipyrad -p params-data.txt -s 3 -f    ## run step 3, overwrite existing data.\r\n",
      "\r\n",
      "  * HPC parallelization across 32 cores\r\n",
      "    ipyrad -p params-data.txt -s 3 -c 32 --MPI\r\n",
      "\r\n",
      "  * Print results summary \r\n",
      "    ipyrad -p params-data.txt -r \r\n",
      "\r\n",
      "  * Branch/Merging Assemblies\r\n",
      "    ipyrad -p params-data.txt -b newdata  \r\n",
      "    ipyrad -m newdata params-1.txt params-2.txt [params-3.txt, ...]\r\n",
      "\r\n",
      "  * Subsample taxa during branching\r\n",
      "    ipyrad -p params-data.txt -b newdata taxaKeepList.txt\r\n",
      "\r\n",
      "  * Documentation: http://ipyrad.readthedocs.io\r\n",
      "    \r\n"
     ]
    }
   ],
   "source": [
    "!ipyrad"
   ]
  },
  {
   "cell_type": "code",
   "execution_count": null,
   "metadata": {
    "collapsed": true
   },
   "outputs": [],
   "source": []
  }
 ],
 "metadata": {
  "kernelspec": {
   "display_name": "Python 2",
   "language": "python",
   "name": "python2"
  },
  "language_info": {
   "codemirror_mode": {
    "name": "ipython",
    "version": 2
   },
   "file_extension": ".py",
   "mimetype": "text/x-python",
   "name": "python",
   "nbconvert_exporter": "python",
   "pygments_lexer": "ipython2",
   "version": "2.7.13"
  }
 },
 "nbformat": 4,
 "nbformat_minor": 2
}
