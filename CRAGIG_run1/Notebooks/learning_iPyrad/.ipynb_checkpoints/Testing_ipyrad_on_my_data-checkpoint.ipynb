{
 "cells": [
  {
   "cell_type": "markdown",
   "metadata": {
    "deletable": true,
    "editable": true
   },
   "source": [
    "## Testing ipyrad on my data\n",
    "\n",
    "**20170524**\n",
    "\n",
    "I ran a branching assembly with 80%, 82%, and 85% similarity last week with the hopes of comparing the number of loci out the back end, as well as the Fis distribution and other metrics. While trying to do all of that this week, I talked with a collaborator who uses ipyrad and she realized that I didn't use the adapter filtering parameter and that this could influence my results. So, rerunning that assembly now. Need to change the params files first though, and I'll give them new assembly names to not rewrite over things quite yet.\n",
    "\n",
    "So the original params files looked like this (below), with the clustering similarity changing between branches: cragig001 = .85, cragig002 - .82 and cragig003 = .8."
   ]
  },
  {
   "cell_type": "code",
   "execution_count": 5,
   "metadata": {
    "collapsed": false,
    "deletable": true,
    "editable": true
   },
   "outputs": [
    {
     "name": "stdout",
     "output_type": "stream",
     "text": [
      "/mnt/hgfs/SHARED_FOLDER/Learn_iPyrad/CRAGIG_RUN1_py\n"
     ]
    }
   ],
   "source": [
    "cd /mnt/hgfs/SHARED_FOLDER/Learn_iPyrad/CRAGIG_RUN1_py"
   ]
  },
  {
   "cell_type": "code",
   "execution_count": 7,
   "metadata": {
    "collapsed": false,
    "deletable": true,
    "editable": true,
    "scrolled": true
   },
   "outputs": [
    {
     "name": "stdout",
     "output_type": "stream",
     "text": [
      "------- ipyrad params file (v.0.6.20)-------------------------------------------\r\n",
      "cragig001                      ## [0] [assembly_name]: Assembly name. Used to name output directories for assembly steps\r\n",
      "./                             ## [1] [project_dir]: Project dir (made in curdir if not present)\r\n",
      "                               ## [2] [raw_fastq_path]: Location of raw non-demultiplexed fastq files\r\n",
      "                               ## [3] [barcodes_path]: Location of barcodes file\r\n",
      "/mnt/hgfs/SHARED_FOLDER/Learn_iPyrad/CRAGIG_RUN1_py/demulti_files/*.fq                              ## [4] [sorted_fastq_path]: Location of demultiplexed/sorted fastq files\r\n",
      "denovo                         ## [5] [assembly_method]: Assembly method (denovo, reference, denovo+reference, denovo-reference)\r\n",
      "                               ## [6] [reference_sequence]: Location of reference sequence file\r\n",
      "rad                            ## [7] [datatype]: Datatype (see docs): rad, gbs, ddrad, etc.\r\n",
      "TGCAGG,                         ## [8] [restriction_overhang]: Restriction overhang (cut1,) sbf1\r\n",
      "5                              ## [9] [max_low_qual_bases]: Max low quality base calls (Q<20) in a read\r\n",
      "33                             ## [10] [phred_Qscore_offset]: phred Q score offset (33 is default and very standard)\r\n",
      "10                              ## [11] [mindepth_statistical]: Min depth for statistical base calling\r\n",
      "10                              ## [12] [mindepth_majrule]: Min depth for majority-rule base calling\r\n",
      "2000                          ## [13] [maxdepth]: Max cluster depth within samples\r\n",
      "0.85                           ## [14] [clust_threshold]: Clustering threshold for de novo assembly\r\n",
      "0                              ## [15] [max_barcode_mismatch]: Max number of allowable mismatches in barcodes\r\n",
      "0                              ## [16] [filter_adapters]: Filter for adapters/primers (1 or 2=stricter)\r\n",
      "35                             ## [17] [filter_min_trim_len]: Min length of reads after adapter trim\r\n",
      "2                              ## [18] [max_alleles_consens]: Max alleles per site in consensus sequences\r\n",
      "5, 5                           ## [19] [max_Ns_consens]: Max N's (uncalled bases) in consensus (R1, R2)\r\n",
      "8, 8                           ## [20] [max_Hs_consens]: Max Hs (heterozygotes) in consensus (R1, R2)\r\n",
      "4                              ## [21] [min_samples_locus]: Min # samples per locus for output\r\n",
      "20, 20                         ## [22] [max_SNPs_locus]: Max # SNPs per locus (R1, R2)\r\n",
      "8, 8                           ## [23] [max_Indels_locus]: Max # of indels per locus (R1, R2)\r\n",
      "0.9                            ## [24] [max_shared_Hs_locus]: Max # heterozygous sites per locus (R1, R2)\r\n",
      "0, 0, 0, 0                     ## [25] [trim_reads]: Trim raw read edges (R1>, <R1, R2>, <R2) (see docs)\r\n",
      "0, 0, 0, 0                     ## [26] [trim_loci]: Trim locus edges (see docs) (R1>, <R1, R2>, <R2)\r\n",
      "*                              ## [27] [output_formats]: Output formats (see docs)\r\n",
      "/mnt/hgfs/SHARED_FOLDER/Learn_iPyrad/CRAGIG_RUN1_py/popmap_cragigrun1_test.txt                         ## [28] [pop_assign_file]: Path to population assignment file\r\n"
     ]
    }
   ],
   "source": [
    "!head -n 60 params-cragig001.txt"
   ]
  },
  {
   "cell_type": "markdown",
   "metadata": {
    "deletable": true,
    "editable": true
   },
   "source": [
    "**New params files**\n",
    "\n",
    "The major change is that parameter 16 will now be set to two. Otherwise, cragig001-003 will be the same as cragig004-006."
   ]
  },
  {
   "cell_type": "code",
   "execution_count": 8,
   "metadata": {
    "collapsed": false,
    "deletable": true,
    "editable": true
   },
   "outputs": [
    {
     "name": "stdout",
     "output_type": "stream",
     "text": [
      "------- ipyrad params file (v.0.6.20)-------------------------------------------\r\n",
      "cragig001                      ## [0] [assembly_name]: Assembly name. Used to name output directories for assembly steps\r\n",
      "./                             ## [1] [project_dir]: Project dir (made in curdir if not present)\r\n",
      "                               ## [2] [raw_fastq_path]: Location of raw non-demultiplexed fastq files\r\n",
      "                               ## [3] [barcodes_path]: Location of barcodes file\r\n",
      "/mnt/hgfs/SHARED_FOLDER/Learn_iPyrad/CRAGIG_RUN1_py/demulti_files/*.fq                              ## [4] [sorted_fastq_path]: Location of demultiplexed/sorted fastq files\r\n",
      "denovo                         ## [5] [assembly_method]: Assembly method (denovo, reference, denovo+reference, denovo-reference)\r\n",
      "                               ## [6] [reference_sequence]: Location of reference sequence file\r\n",
      "rad                            ## [7] [datatype]: Datatype (see docs): rad, gbs, ddrad, etc.\r\n",
      "TGCAGG,                         ## [8] [restriction_overhang]: Restriction overhang (cut1,) sbf1\r\n",
      "5                              ## [9] [max_low_qual_bases]: Max low quality base calls (Q<20) in a read\r\n",
      "33                             ## [10] [phred_Qscore_offset]: phred Q score offset (33 is default and very standard)\r\n",
      "10                              ## [11] [mindepth_statistical]: Min depth for statistical base calling\r\n",
      "10                              ## [12] [mindepth_majrule]: Min depth for majority-rule base calling\r\n",
      "2000                          ## [13] [maxdepth]: Max cluster depth within samples\r\n",
      "0.85                           ## [14] [clust_threshold]: Clustering threshold for de novo assembly\r\n",
      "0                              ## [15] [max_barcode_mismatch]: Max number of allowable mismatches in barcodes\r\n",
      "2                              ## [16] [filter_adapters]: Filter for adapters/primers (1 or 2=stricter)\r\n",
      "35                             ## [17] [filter_min_trim_len]: Min length of reads after adapter trim\r\n",
      "2                              ## [18] [max_alleles_consens]: Max alleles per site in consensus sequences\r\n",
      "5, 5                           ## [19] [max_Ns_consens]: Max N's (uncalled bases) in consensus (R1, R2)\r\n",
      "8, 8                           ## [20] [max_Hs_consens]: Max Hs (heterozygotes) in consensus (R1, R2)\r\n",
      "4                              ## [21] [min_samples_locus]: Min # samples per locus for output\r\n",
      "20, 20                         ## [22] [max_SNPs_locus]: Max # SNPs per locus (R1, R2)\r\n",
      "8, 8                           ## [23] [max_Indels_locus]: Max # of indels per locus (R1, R2)\r\n",
      "0.9                            ## [24] [max_shared_Hs_locus]: Max # heterozygous sites per locus (R1, R2)\r\n",
      "0, 0, 0, 0                     ## [25] [trim_reads]: Trim raw read edges (R1>, <R1, R2>, <R2) (see docs)\r\n",
      "0, 0, 0, 0                     ## [26] [trim_loci]: Trim locus edges (see docs) (R1>, <R1, R2>, <R2)\r\n",
      "*                              ## [27] [output_formats]: Output formats (see docs)\r\n",
      "/mnt/hgfs/SHARED_FOLDER/Learn_iPyrad/CRAGIG_RUN1_py/popmap_cragigrun1_test.txt                         ## [28] [pop_assign_file]: Path to population assignment file\r\n"
     ]
    }
   ],
   "source": [
    "!head -n 60 params-cragig004.txt"
   ]
  },
  {
   "cell_type": "markdown",
   "metadata": {
    "deletable": true,
    "editable": true
   },
   "source": [
    "Running outside the notebook because it always seems to crash inside the notebook.\n",
    "\n",
    "### Filtering with vcftools for just biallelic data\n",
    "\n",
    "Next step is filtering all of the VCF files for just biallelic data."
   ]
  },
  {
   "cell_type": "code",
   "execution_count": 2,
   "metadata": {
    "collapsed": false,
    "deletable": true,
    "editable": true
   },
   "outputs": [
    {
     "name": "stdout",
     "output_type": "stream",
     "text": [
      "/mnt/hgfs/SHARED_FOLDER/Learn_iPyrad/CRAGIG_RUN1_py\n"
     ]
    }
   ],
   "source": [
    "cd /mnt/hgfs/SHARED_FOLDER/Learn_iPyrad/CRAGIG_RUN1_py"
   ]
  },
  {
   "cell_type": "code",
   "execution_count": 3,
   "metadata": {
    "collapsed": false
   },
   "outputs": [
    {
     "name": "stdout",
     "output_type": "stream",
     "text": [
      "\n",
      "VCFtools - UNKNOWN\n",
      "(C) Adam Auton and Anthony Marcketta 2009\n",
      "\n",
      "Parameters as interpreted:\n",
      "\t--vcf cragig004_outfiles/cragig004.vcf\n",
      "\t--max-alleles 2\n",
      "\t--min-alleles 2\n",
      "\t--out Edited_outfiles/cragig004_biall\n",
      "\t--recode\n",
      "\n",
      "After filtering, kept 10 out of 10 Individuals\n",
      "Outputting VCF file...\n",
      "After filtering, kept 30950 out of a possible 31910 Sites\n",
      "Run Time = 1.00 seconds\n"
     ]
    }
   ],
   "source": [
    "!vcftools --vcf cragig004_outfiles/cragig004.vcf --min-alleles 2 --max-alleles 2 --out Edited_outfiles/cragig004_biall --recode"
   ]
  },
  {
   "cell_type": "code",
   "execution_count": 5,
   "metadata": {
    "collapsed": false,
    "scrolled": true
   },
   "outputs": [
    {
     "name": "stdout",
     "output_type": "stream",
     "text": [
      "\n",
      "VCFtools - UNKNOWN\n",
      "(C) Adam Auton and Anthony Marcketta 2009\n",
      "\n",
      "Parameters as interpreted:\n",
      "\t--vcf cragig005_outfiles/cragig005.vcf\n",
      "\t--max-alleles 2\n",
      "\t--min-alleles 2\n",
      "\t--out Edited_outfiles/cragig005_biall\n",
      "\t--recode\n",
      "\n",
      "After filtering, kept 10 out of 10 Individuals\n",
      "Outputting VCF file...\n",
      "After filtering, kept 29665 out of a possible 30593 Sites\n",
      "Run Time = 0.00 seconds\n"
     ]
    }
   ],
   "source": [
    "!vcftools --vcf cragig005_outfiles/cragig005.vcf --min-alleles 2 --max-alleles 2 --out Edited_outfiles/cragig005_biall --recode"
   ]
  },
  {
   "cell_type": "code",
   "execution_count": 6,
   "metadata": {
    "collapsed": false
   },
   "outputs": [
    {
     "name": "stdout",
     "output_type": "stream",
     "text": [
      "\n",
      "VCFtools - UNKNOWN\n",
      "(C) Adam Auton and Anthony Marcketta 2009\n",
      "\n",
      "Parameters as interpreted:\n",
      "\t--vcf cragig006_outfiles/cragig006.vcf\n",
      "\t--max-alleles 2\n",
      "\t--min-alleles 2\n",
      "\t--out Edited_outfiles/cragig006_biall\n",
      "\t--recode\n",
      "\n",
      "After filtering, kept 10 out of 10 Individuals\n",
      "Outputting VCF file...\n",
      "After filtering, kept 29057 out of a possible 29969 Sites\n",
      "Run Time = 1.00 seconds\n"
     ]
    }
   ],
   "source": [
    "!vcftools --vcf cragig006_outfiles/cragig006.vcf --min-alleles 2 --max-alleles 2 --out Edited_outfiles/cragig006_biall --recode"
   ]
  },
  {
   "cell_type": "code",
   "execution_count": 7,
   "metadata": {
    "collapsed": true
   },
   "outputs": [],
   "source": [
    "thresholds = [85,82,80]\n",
    "biall_loci = [30950,29665,29057]"
   ]
  },
  {
   "cell_type": "code",
   "execution_count": 8,
   "metadata": {
    "collapsed": true
   },
   "outputs": [],
   "source": [
    "import matplotlib.pyplot as plt\n",
    "import numpy as np"
   ]
  },
  {
   "cell_type": "markdown",
   "metadata": {},
   "source": [
    "## Did the clustering similarity threshold parameter affect the number of biallelic loci out the back end?\n",
    "\n",
    "Yes, as expected it increased as similarity threshold increased."
   ]
  },
  {
   "cell_type": "code",
   "execution_count": 9,
   "metadata": {
    "collapsed": false
   },
   "outputs": [
    {
     "data": {
      "image/png": "[encoded data removed]",
      "text/plain": [
       "<matplotlib.figure.Figure at 0x7f4b8f1a9090>"
      ]
     },
     "metadata": {},
     "output_type": "display_data"
    }
   ],
   "source": [
    "plt.scatter(thresholds,biall_loci)\n",
    "plt.suptitle(\"Number of biallelic loci after clustering \\nwith different similarity thresholds\")\n",
    "plt.xlabel(\"Clustering similarity threshold(%)\")\n",
    "plt.ylabel(\"Biallelic loci across individuals\")\n",
    "plt.show()"
   ]
  },
  {
   "cell_type": "markdown",
   "metadata": {},
   "source": [
    "### Convert biallelic filtered VCF files into structure files for adegenet\n",
    "\n",
    "Did this in PGD Spider outside of notebook."
   ]
  },
  {
   "cell_type": "code",
   "execution_count": 18,
   "metadata": {
    "collapsed": false
   },
   "outputs": [
    {
     "name": "stdout",
     "output_type": "stream",
     "text": [
      "/mnt/hgfs/SHARED_FOLDER/Learn_iPyrad/CRAGIG_RUN1_py/Edited_outfiles\n"
     ]
    }
   ],
   "source": [
    "cd /mnt/hgfs/SHARED_FOLDER/Learn_iPyrad/CRAGIG_RUN1_py/Edited_outfiles"
   ]
  },
  {
   "cell_type": "code",
   "execution_count": 28,
   "metadata": {
    "collapsed": false,
    "scrolled": true
   },
   "outputs": [
    {
     "data": {
      "image/png": "[encoded data removed]",
      "text/plain": [
       "<matplotlib.figure.Figure at 0x7f4b82cc99d0>"
      ]
     },
     "metadata": {},
     "output_type": "display_data"
    }
   ],
   "source": [
    "fis_004 = open(\"Fis_cragig004_20170531.txt\", \"r\")\n",
    "fis_004_lines = fis_004.readlines()\n",
    "fis_004.close()\n",
    "\n",
    "# get Fis into list\n",
    "fis_004_list = []\n",
    "for line in fis_004_lines[1:]: # skip header\n",
    "    linelist = line.strip().split()\n",
    "    fis = linelist[1]\n",
    "    if fis != \"NA\":\n",
    "        fis_004_list.append(float(fis))\n",
    "\n",
    "        #plot\n",
    "plt.hist(fis_004_list, bins = np.arange(-1, 1, .05)-.025)\n",
    "plt.suptitle(\"Fis distribution for 10 scallops \\n using clust sim thresh 85%\")\n",
    "plt.xlabel(\"Fis\")\n",
    "plt.ylabel(\"Frequency\")\n",
    "plt.show()"
   ]
  },
  {
   "cell_type": "code",
   "execution_count": 29,
   "metadata": {
    "collapsed": false
   },
   "outputs": [
    {
     "data": {
      "image/png": "[encoded data removed]",
      "text/plain": [
       "<matplotlib.figure.Figure at 0x7f4b82d56290>"
      ]
     },
     "metadata": {},
     "output_type": "display_data"
    }
   ],
   "source": [
    "fis_005 = open(\"Fis_cragig005_20170531.txt\", \"r\")\n",
    "fis_005_lines = fis_005.readlines()\n",
    "fis_005.close()\n",
    "\n",
    "# get Fis into list\n",
    "fis_005_list = []\n",
    "for line in fis_005_lines[1:]: # skip header\n",
    "    linelist = line.strip().split()\n",
    "    fis = linelist[1]\n",
    "    if fis != \"NA\":\n",
    "        fis_005_list.append(float(fis))\n",
    "\n",
    "        #plot\n",
    "plt.hist(fis_005_list, bins = np.arange(-1, 1, .05)-.025)\n",
    "plt.suptitle(\"Fis distribution for 10 scallops \\n using clust sim thresh 82%\")\n",
    "plt.xlabel(\"Fis\")\n",
    "plt.ylabel(\"Frequency\")\n",
    "plt.show()"
   ]
  },
  {
   "cell_type": "code",
   "execution_count": 30,
   "metadata": {
    "collapsed": false
   },
   "outputs": [
    {
     "data": {
      "image/png": "[encoded data removed]",
      "text/plain": [
       "<matplotlib.figure.Figure at 0x7f4b7ce18b50>"
      ]
     },
     "metadata": {},
     "output_type": "display_data"
    }
   ],
   "source": [
    "fis_006 = open(\"Fis_cragig006_20170531.txt\", \"r\")\n",
    "fis_006_lines = fis_006.readlines()\n",
    "fis_006.close()\n",
    "\n",
    "# get Fis into list\n",
    "fis_006_list = []\n",
    "for line in fis_006_lines[1:]: # skip header\n",
    "    linelist = line.strip().split()\n",
    "    fis = linelist[1]\n",
    "    if fis != \"NA\":\n",
    "        fis_006_list.append(float(fis))\n",
    "\n",
    "        #plot\n",
    "plt.hist(fis_006_list, bins = np.arange(-1, 1, .05)-.025)\n",
    "plt.suptitle(\"Fis distribution for 10 scallops \\n using clust sim thresh 80%\")\n",
    "plt.xlabel(\"Fis\")\n",
    "plt.ylabel(\"Frequency\")\n",
    "plt.show()"
   ]
  },
  {
   "cell_type": "markdown",
   "metadata": {},
   "source": [
    "## Does the clustering similarity threshold affect the Fis distribution?\n",
    "\n",
    "Barely if at all!\n",
    "\n",
    "![img](https://github.com/nclowell/RAD_Scallops/blob/master/CRAGIG_run1/Notebooks/images_for_notebooks/comp_fis_10scallops_sim_20170531.png?raw=true)"
   ]
  },
  {
   "cell_type": "code",
   "execution_count": null,
   "metadata": {
    "collapsed": true
   },
   "outputs": [],
   "source": []
  }
 ],
 "metadata": {
  "kernelspec": {
   "display_name": "Python 2",
   "language": "python",
   "name": "python2"
  },
  "language_info": {
   "codemirror_mode": {
    "name": "ipython",
    "version": 2
   },
   "file_extension": ".py",
   "mimetype": "text/x-python",
   "name": "python",
   "nbconvert_exporter": "python",
   "pygments_lexer": "ipython2",
   "version": "2.7.13"
  }
 },
 "nbformat": 4,
 "nbformat_minor": 2
}
