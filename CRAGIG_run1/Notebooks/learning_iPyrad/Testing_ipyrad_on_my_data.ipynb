{
 "cells": [
  {
   "cell_type": "markdown",
   "metadata": {},
   "source": [
    "## Testing ipyrad on my data\n",
    "\n",
    "**20170524**\n",
    "\n",
    "I ran a branching assembly with 80%, 82%, and 85% similarity last week with the hopes of comparing the number of loci out the back end, as well as the Fis distribution and other metrics. While trying to do all of that this week, I talked with a collaborator who uses ipyrad and she realized that I didn't use the adapter filtering parameter and that this could influence my results. So, rerunning that assembly now. "
   ]
  }
 ],
 "metadata": {
  "kernelspec": {
   "display_name": "Python 2",
   "language": "python",
   "name": "python2"
  },
  "language_info": {
   "codemirror_mode": {
    "name": "ipython",
    "version": 2
   },
   "file_extension": ".py",
   "mimetype": "text/x-python",
   "name": "python",
   "nbconvert_exporter": "python",
   "pygments_lexer": "ipython2",
   "version": "2.7.13"
  }
 },
 "nbformat": 4,
 "nbformat_minor": 2
}
