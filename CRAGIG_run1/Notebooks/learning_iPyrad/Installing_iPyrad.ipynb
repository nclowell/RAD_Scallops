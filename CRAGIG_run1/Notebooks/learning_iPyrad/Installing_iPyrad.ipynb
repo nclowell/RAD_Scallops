{
 "cells": [
  {
   "cell_type": "markdown",
   "metadata": {},
   "source": [
    "## Installing iPyrad\n",
    "\n",
    "**20170511**\n",
    "\n",
    "I just installed iPyrad v 0.6.20 using this [installation tutorial](http://ipyrad.readthedocs.io/installation.html). I first installed MiniConda2 and used that to install iPyrad:\n",
    "\n",
    "```\n",
    "wget https://repo.continuum.io/miniconda/Miniconda2-latest-Linux-x86_64.sh\n",
    "bash Miniconda2-latest-Linux-x86_64.sh\n",
    "```\n",
    "and then:\n",
    "\n",
    "```\n",
    "conda install -c ipyrad ipyrad\n",
    "```\n",
    "\n",
    "If I want to update my version of iPyrad, I can use:\n",
    "\n",
    "```\n",
    "conda update -c ipyrad ipyrad \n",
    "```\n"
   ]
  },
  {
   "cell_type": "code",
   "execution_count": 3,
   "metadata": {
    "collapsed": false
   },
   "outputs": [
    {
     "name": "stdout",
     "output_type": "stream",
     "text": [
      "ipyrad 0.6.20\r\n"
     ]
    }
   ],
   "source": [
    "!ipyrad -v"
   ]
  },
  {
   "cell_type": "code",
   "execution_count": 1,
   "metadata": {
    "collapsed": false
   },
   "outputs": [
    {
     "name": "stdout",
     "output_type": "stream",
     "text": [
      "usage: ipyrad [-h] [-v] [-r] [-f] [-q] [-d] [-n new] [-p params]\r\n",
      "              [-b [branch [branch ...]]] [-m [merge [merge ...]]] [-s steps]\r\n",
      "              [-c cores] [-t threading] [--MPI] [--preview] [--ipcluster]\r\n",
      "\r\n",
      "optional arguments:\r\n",
      "  -h, --help            show this help message and exit\r\n",
      "  -v, --version         show program's version number and exit\r\n",
      "  -r, --results         show results summary for Assembly in params.txt and\r\n",
      "                        exit\r\n",
      "  -f, --force           force overwrite of existing data\r\n",
      "  -q, --quiet           do not print to stderror or stdout.\r\n",
      "  -d, --debug           print lots more info to ipyrad_log.txt.\r\n",
      "  -n new                create new file 'params-{new}.txt' in current\r\n",
      "                        directory\r\n",
      "  -p params             path to params file for Assembly:\r\n",
      "                        params-{assembly_name}.txt\r\n",
      "  -b [branch [branch ...]]\r\n",
      "                        create a new branch of the Assembly as\r\n",
      "                        params-{branch}.txt\r\n",
      "  -m [merge [merge ...]]\r\n",
      "                        merge all assemblies provided into a new assembly\r\n",
      "  -s steps              Set of assembly steps to perform, e.g., -s 123\r\n",
      "                        (Default=None)\r\n",
      "  -c cores              number of CPU cores to use (Default=0=All)\r\n",
      "  -t threading          tune threading of binaries (Default=2)\r\n",
      "  --MPI                 connect to parallel CPUs across multiple nodes\r\n",
      "  --preview             run ipyrad in preview mode. Subset the input file so\r\n",
      "                        it'll runquickly so you can verify everything is\r\n",
      "                        working\r\n",
      "  --ipcluster           connect to running ipcluster instance with default\r\n",
      "                        cluster-id=''\r\n",
      "\r\n",
      "  * Example command-line usage: \r\n",
      "    ipyrad -n data                       ## create new file called params-data.txt \r\n",
      "    ipyrad -p params-data.txt            ## run ipyrad with settings in params file\r\n",
      "    ipyrad -p params-data.txt -s 123     ## run only steps 1-3 of assembly.\r\n",
      "    ipyrad -p params-data.txt -s 3 -f    ## run step 3, overwrite existing data.\r\n",
      "\r\n",
      "  * HPC parallelization across 32 cores\r\n",
      "    ipyrad -p params-data.txt -s 3 -c 32 --MPI\r\n",
      "\r\n",
      "  * Print results summary \r\n",
      "    ipyrad -p params-data.txt -r \r\n",
      "\r\n",
      "  * Branch/Merging Assemblies\r\n",
      "    ipyrad -p params-data.txt -b newdata  \r\n",
      "    ipyrad -m newdata params-1.txt params-2.txt [params-3.txt, ...]\r\n",
      "\r\n",
      "  * Subsample taxa during branching\r\n",
      "    ipyrad -p params-data.txt -b newdata taxaKeepList.txt\r\n",
      "\r\n",
      "  * Documentation: http://ipyrad.readthedocs.io\r\n",
      "    \r\n"
     ]
    }
   ],
   "source": [
    "!ipyrad"
   ]
  },
  {
   "cell_type": "markdown",
   "metadata": {},
   "source": [
    "## Introductory Tutorial\n",
    "\n",
    "The folks who made iPyrad provide an introductory tutorial [here](http://ipyrad.readthedocs.io/tutorial_intro_cli.html). I'm going to use it to get the hang of the program.\n",
    "\n",
    "#### 1. Get the data\n",
    "Navigate to the directory where you want to store the data. It will create a new folder with the data there."
   ]
  },
  {
   "cell_type": "code",
   "execution_count": 8,
   "metadata": {
    "collapsed": false
   },
   "outputs": [
    {
     "name": "stdout",
     "output_type": "stream",
     "text": [
      "/mnt/hgfs/SHARED_FOLDER/Learn_iPyrad\n"
     ]
    }
   ],
   "source": [
    "cd /mnt/hgfs/SHARED_FOLDER/Learn_iPyrad/"
   ]
  },
  {
   "cell_type": "code",
   "execution_count": 9,
   "metadata": {
    "collapsed": false
   },
   "outputs": [
    {
     "name": "stdout",
     "output_type": "stream",
     "text": [
      "  % Total    % Received % Xferd  Average Speed   Time    Time     Time  Current\n",
      "                                 Dload  Upload   Total   Spent    Left  Speed\n",
      "100   147  100   147    0     0    471      0 --:--:-- --:--:-- --:--:--   471\n",
      "100 11.8M  100 11.8M    0     0  8433k      0  0:00:01  0:00:01 --:--:-- 46.6M\n"
     ]
    }
   ],
   "source": [
    "!curl -LkO https://github.com/dereneaton/ipyrad/raw/master/tests/ipsimdata.tar.gz"
   ]
  },
  {
   "cell_type": "code",
   "execution_count": 11,
   "metadata": {
    "collapsed": false
   },
   "outputs": [
    {
     "name": "stdout",
     "output_type": "stream",
     "text": [
      "./ipsimdata/\n",
      "./ipsimdata/pairgbs_example_R2_.fastq.gz\n",
      "./ipsimdata/pairgbs_wmerge_example_barcodes.txt\n",
      "./ipsimdata/rad_example_genome.fa\n",
      "./ipsimdata/pairddrad_example_genome.fa\n",
      "./ipsimdata/pairgbs_example_R1_.fastq.gz\n",
      "./ipsimdata/pairgbs_wmerge_example_R2_.fastq.gz\n",
      "./ipsimdata/rad_example_genome.fa.fai\n",
      "./ipsimdata/pairddrad_example_R2_.fastq.gz\n",
      "./ipsimdata/pairddrad_example_genome.fa.sma\n",
      "./ipsimdata/pairddrad_example_genome.fa.fai\n",
      "./ipsimdata/pairgbs_wmerge_example_genome.fa\n",
      "./ipsimdata/pairddrad_wmerge_example_genome.fa\n",
      "./ipsimdata/pairddrad_example_genome.fa.smi\n",
      "./ipsimdata/pairgbs_wmerge_example_R1_.fastq.gz\n",
      "./ipsimdata/rad_example_genome.fa.smi\n",
      "./ipsimdata/gbs_example_barcodes.txt\n",
      "./ipsimdata/pairgbs_example_barcodes.txt\n",
      "./ipsimdata/pairddrad_example_R1_.fastq.gz\n",
      "./ipsimdata/pairddrad_wmerge_example_barcodes.txt\n",
      "./ipsimdata/rad_example_barcodes.txt\n",
      "./ipsimdata/pairddrad_wmerge_example_R1_.fastq.gz\n",
      "./ipsimdata/pairddrad_wmerge_example_R2_.fastq.gz\n",
      "./ipsimdata/gbs_example_R1_.fastq.gz\n",
      "./ipsimdata/pairddrad_example_barcodes.txt\n",
      "./ipsimdata/rad_example_genome.fa.sma\n",
      "./ipsimdata/rad_example_R1_.fastq.gz\n",
      "./ipsimdata/gbs_example_genome.fa\n"
     ]
    }
   ],
   "source": [
    "!tar -xvzf ipsimdata.tar.gz"
   ]
  },
  {
   "cell_type": "code",
   "execution_count": 12,
   "metadata": {
    "collapsed": false
   },
   "outputs": [
    {
     "name": "stdout",
     "output_type": "stream",
     "text": [
      "\u001b[0m\u001b[01;32mgbs_example_barcodes.txt\u001b[0m*               \u001b[01;32mpairgbs_example_barcodes.txt\u001b[0m*\r\n",
      "\u001b[01;32mgbs_example_genome.fa\u001b[0m*                  \u001b[01;32mpairgbs_example_R1_.fastq.gz\u001b[0m*\r\n",
      "\u001b[01;32mgbs_example_R1_.fastq.gz\u001b[0m*               \u001b[01;32mpairgbs_example_R2_.fastq.gz\u001b[0m*\r\n",
      "\u001b[01;32mpairddrad_example_barcodes.txt\u001b[0m*         \u001b[01;32mpairgbs_wmerge_example_barcodes.txt\u001b[0m*\r\n",
      "\u001b[01;32mpairddrad_example_genome.fa\u001b[0m*            \u001b[01;32mpairgbs_wmerge_example_genome.fa\u001b[0m*\r\n",
      "\u001b[01;32mpairddrad_example_genome.fa.fai\u001b[0m*        \u001b[01;32mpairgbs_wmerge_example_R1_.fastq.gz\u001b[0m*\r\n",
      "\u001b[01;32mpairddrad_example_genome.fa.sma\u001b[0m*        \u001b[01;32mpairgbs_wmerge_example_R2_.fastq.gz\u001b[0m*\r\n",
      "\u001b[01;32mpairddrad_example_genome.fa.smi\u001b[0m*        \u001b[01;32mrad_example_barcodes.txt\u001b[0m*\r\n",
      "\u001b[01;32mpairddrad_example_R1_.fastq.gz\u001b[0m*         \u001b[01;32mrad_example_genome.fa\u001b[0m*\r\n",
      "\u001b[01;32mpairddrad_example_R2_.fastq.gz\u001b[0m*         \u001b[01;32mrad_example_genome.fa.fai\u001b[0m*\r\n",
      "\u001b[01;32mpairddrad_wmerge_example_barcodes.txt\u001b[0m*  \u001b[01;32mrad_example_genome.fa.sma\u001b[0m*\r\n",
      "\u001b[01;32mpairddrad_wmerge_example_genome.fa\u001b[0m*     \u001b[01;32mrad_example_genome.fa.smi\u001b[0m*\r\n",
      "\u001b[01;32mpairddrad_wmerge_example_R1_.fastq.gz\u001b[0m*  \u001b[01;32mrad_example_R1_.fastq.gz\u001b[0m*\r\n",
      "\u001b[01;32mpairddrad_wmerge_example_R2_.fastq.gz\u001b[0m*\r\n"
     ]
    }
   ],
   "source": [
    "ls ipsimdata/"
   ]
  },
  {
   "cell_type": "code",
   "execution_count": 13,
   "metadata": {
    "collapsed": false
   },
   "outputs": [
    {
     "name": "stdout",
     "output_type": "stream",
     "text": [
      "@lane1_locus0_2G_0_0 1:N:0:\r\n",
      "CTCCAATCCTGCAGTTTAACTGTTCAAGTTGGCAAGATCAAGTCGTCCCTAGCCCCCGCGTCCGTTTTTACCTGGTCGCGGTCCCGACCCAGCTGCCCCC\r\n",
      "+\r\n",
      "BBBBBBBBBBBBBBBBBBBBBBBBBBBBBBBBBBBBBBBBBBBBBBBBBBBBBBBBBBBBBBBBBBBBBBBBBBBBBBBBBBBBBBBBBBBBBBBBBBBB\r\n",
      "@lane1_locus0_2G_0_1 1:N:0:\r\n",
      "CTCCAATCCTGCAGTTTAACTGTTCAAGTTGGCAAGATCAAGTCGTCCCTAGCCCCCGCGTCCGTTTTTACCTGGTCGCGGTCCCCACCCAGCTGCCCCC\r\n",
      "+\r\n",
      "BBBBBBBBBBBBBBBBBBBBBBBBBBBBBBBBBBBBBBBBBBBBBBBBBBBBBBBBBBBBBBBBBBBBBBBBBBBBBBBBBBBBBBBBBBBBBBBBBBBB\r\n",
      "@lane1_locus0_2G_0_2 1:N:0:\r\n",
      "CTCCAATCCTGCAGTTTAACTGTTCAAGTTGGCAAGATCAAGTCGTCCCTAGCCCCCGCGTCCGTTTTTACCTGGTCGCGGTCCCGACCCAGCTGCCCCC\r\n",
      "+\r\n",
      "BBBBBBBBBBBBBBBBBBBBBBBBBBBBBBBBBBBBBBBBBBBBBBBBBBBBBBBBBBBBBBBBBBBBBBBBBBBBBBBBBBBBBBBBBBBBBBBBBBBB\r\n",
      "\r\n",
      "gzip: stdout: Broken pipe\r\n"
     ]
    }
   ],
   "source": [
    "# look at first three reads\n",
    "!gunzip -c ./ipsimdata/rad_example_R1_.fastq.gz | head -n 12"
   ]
  },
  {
   "cell_type": "code",
   "execution_count": 15,
   "metadata": {
    "collapsed": false
   },
   "outputs": [
    {
     "name": "stdout",
     "output_type": "stream",
     "text": [
      "1A_0\tCATCATCAT\r\n",
      "1B_0\tCCAGTGATA\r\n",
      "1C_0\tTGGCCTAGT\r\n",
      "1D_0\tGGGAAAAAC\r\n",
      "2E_0\tGTGGATATC\r\n",
      "2F_0\tAGAGCCGAG\r\n",
      "2G_0\tCTCCAATCC\r\n",
      "2H_0\tCTCACTGCA\r\n",
      "3I_0\tGGCGCATAC\r\n",
      "3J_0\tCCTTATGTC\r\n",
      "3K_0\tACGTGTGTG\r\n",
      "3L_0\tTTACTAACA\r\n"
     ]
    }
   ],
   "source": [
    "# look at barcodes file\n",
    "!cat ./ipsimdata/rad_example_barcodes.txt"
   ]
  },
  {
   "cell_type": "markdown",
   "metadata": {},
   "source": [
    "#### 2. Make params file"
   ]
  },
  {
   "cell_type": "code",
   "execution_count": 16,
   "metadata": {
    "collapsed": false
   },
   "outputs": [
    {
     "name": "stdout",
     "output_type": "stream",
     "text": [
      "\r\n",
      "  New file 'params-iptest.txt' created in /mnt/hgfs/SHARED_FOLDER/Learn_iPyrad\r\n",
      "\r\n"
     ]
    }
   ],
   "source": [
    "!ipyrad -n iptest"
   ]
  },
  {
   "cell_type": "code",
   "execution_count": 17,
   "metadata": {
    "collapsed": false
   },
   "outputs": [
    {
     "name": "stdout",
     "output_type": "stream",
     "text": [
      "------- ipyrad params file (v.0.6.20)-------------------------------------------\r\n",
      "iptest                         ## [0] [assembly_name]: Assembly name. Used to name output directories for assembly steps\r\n",
      "./                             ## [1] [project_dir]: Project dir (made in curdir if not present)\r\n",
      "                               ## [2] [raw_fastq_path]: Location of raw non-demultiplexed fastq files\r\n",
      "                               ## [3] [barcodes_path]: Location of barcodes file\r\n",
      "                               ## [4] [sorted_fastq_path]: Location of demultiplexed/sorted fastq files\r\n",
      "denovo                         ## [5] [assembly_method]: Assembly method (denovo, reference, denovo+reference, denovo-reference)\r\n",
      "                               ## [6] [reference_sequence]: Location of reference sequence file\r\n",
      "rad                            ## [7] [datatype]: Datatype (see docs): rad, gbs, ddrad, etc.\r\n",
      "TGCAG,                         ## [8] [restriction_overhang]: Restriction overhang (cut1,) or (cut1, cut2)\r\n",
      "5                              ## [9] [max_low_qual_bases]: Max low quality base calls (Q<20) in a read\r\n",
      "33                             ## [10] [phred_Qscore_offset]: phred Q score offset (33 is default and very standard)\r\n",
      "6                              ## [11] [mindepth_statistical]: Min depth for statistical base calling\r\n",
      "6                              ## [12] [mindepth_majrule]: Min depth for majority-rule base calling\r\n",
      "10000                          ## [13] [maxdepth]: Max cluster depth within samples\r\n",
      "0.85                           ## [14] [clust_threshold]: Clustering threshold for de novo assembly\r\n",
      "0                              ## [15] [max_barcode_mismatch]: Max number of allowable mismatches in barcodes\r\n",
      "0                              ## [16] [filter_adapters]: Filter for adapters/primers (1 or 2=stricter)\r\n",
      "35                             ## [17] [filter_min_trim_len]: Min length of reads after adapter trim\r\n",
      "2                              ## [18] [max_alleles_consens]: Max alleles per site in consensus sequences\r\n",
      "5, 5                           ## [19] [max_Ns_consens]: Max N's (uncalled bases) in consensus (R1, R2)\r\n",
      "8, 8                           ## [20] [max_Hs_consens]: Max Hs (heterozygotes) in consensus (R1, R2)\r\n",
      "4                              ## [21] [min_samples_locus]: Min # samples per locus for output\r\n",
      "20, 20                         ## [22] [max_SNPs_locus]: Max # SNPs per locus (R1, R2)\r\n",
      "8, 8                           ## [23] [max_Indels_locus]: Max # of indels per locus (R1, R2)\r\n",
      "0.5                            ## [24] [max_shared_Hs_locus]: Max # heterozygous sites per locus (R1, R2)\r\n",
      "0, 0, 0, 0                     ## [25] [trim_reads]: Trim raw read edges (R1>, <R1, R2>, <R2) (see docs)\r\n",
      "0, 0, 0, 0                     ## [26] [trim_loci]: Trim locus edges (see docs) (R1>, <R1, R2>, <R2)\r\n",
      "p, s, v                        ## [27] [output_formats]: Output formats (see docs)\r\n",
      "                               ## [28] [pop_assign_file]: Path to population assignment file"
     ]
    }
   ],
   "source": [
    ">>> cat params-iptest.txt"
   ]
  },
  {
   "cell_type": "code",
   "execution_count": null,
   "metadata": {
    "collapsed": true
   },
   "outputs": [],
   "source": []
  },
  {
   "cell_type": "code",
   "execution_count": null,
   "metadata": {
    "collapsed": true
   },
   "outputs": [],
   "source": []
  }
 ],
 "metadata": {
  "kernelspec": {
   "display_name": "Python 2",
   "language": "python",
   "name": "python2"
  },
  "language_info": {
   "codemirror_mode": {
    "name": "ipython",
    "version": 2
   },
   "file_extension": ".py",
   "mimetype": "text/x-python",
   "name": "python",
   "nbconvert_exporter": "python",
   "pygments_lexer": "ipython2",
   "version": "2.7.13"
  }
 },
 "nbformat": 4,
 "nbformat_minor": 2
}
