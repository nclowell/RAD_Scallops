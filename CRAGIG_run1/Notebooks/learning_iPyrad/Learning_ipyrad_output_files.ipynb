{
 "cells": [
  {
   "cell_type": "markdown",
   "metadata": {},
   "source": [
    "### Learning ipyrad output files\n",
    "\n",
    "**20170517**\n",
    "\n",
    "I want to get the hang of navigating and plotting things from the output files in ipyrad.\n",
    "\n"
   ]
  },
  {
   "cell_type": "code",
   "execution_count": 4,
   "metadata": {
    "collapsed": false
   },
   "outputs": [
    {
     "name": "stdout",
     "output_type": "stream",
     "text": [
      "/mnt/hgfs/SHARED_FOLDER/Learn_iPyrad/CRAGIG_RUN1_py\n"
     ]
    }
   ],
   "source": [
    "cd /mnt/hgfs/SHARED_FOLDER/Learn_iPyrad/CRAGIG_RUN1_py"
   ]
  },
  {
   "cell_type": "markdown",
   "metadata": {},
   "source": [
    "First, I can get the summary stats and paths to all the output files using the ``-r`` flag:"
   ]
  },
  {
   "cell_type": "code",
   "execution_count": 5,
   "metadata": {
    "collapsed": false
   },
   "outputs": [
    {
     "name": "stdout",
     "output_type": "stream",
     "text": [
      "\n",
      "Summary stats of Assembly cragig002\n",
      "------------------------------------------------\n",
      "         state  reads_raw  reads_passed_filter  clusters_total  \\\n",
      "FG001        6    4496623              4496623           28719   \n",
      "FG009        6    5828500              5828500           31799   \n",
      "FG100_B      6    4191123              4191123           27072   \n",
      "FG102_B      6    3757306              3757306           32437   \n",
      "FG205        6    4762949              4762949           28809   \n",
      "FG212        6    4163068              4163068            1568   \n",
      "Q314         6    3797205              3797205           32843   \n",
      "Q324         6    4203350              4203350           47166   \n",
      "Q330         6    3683576              3683576           63309   \n",
      "Q339         6    6057345              6057345          142327   \n",
      "\n",
      "         clusters_hidepth  hetero_est  error_est  reads_consens  \n",
      "FG001               18878    0.021602   0.002395          16813  \n",
      "FG009               19670    0.021421   0.002188          17458  \n",
      "FG100_B             18151    0.022895   0.002237          16048  \n",
      "FG102_B             18407    0.021645   0.001982          16410  \n",
      "FG205               18786    0.022490   0.002163          16665  \n",
      "FG212                1550    0.018168   0.001776           1405  \n",
      "Q314                19094    0.023120   0.002253          17022  \n",
      "Q324                22765    0.026930   0.003639          19433  \n",
      "Q330                30700    0.015597   0.002452          28035  \n",
      "Q339                45676    0.015476   0.002377          40805  \n",
      "\n",
      "\n",
      "Full stats files\n",
      "------------------------------------------------\n",
      "step 1: ./cragig001_s1_demultiplex_stats.txt\n",
      "step 2: ./cragig001_edits/s2_rawedit_stats.txt\n",
      "step 3: ./cragig002_clust_0.82/s3_cluster_stats.txt\n",
      "step 4: ./cragig002_clust_0.82/s4_joint_estimate.txt\n",
      "step 5: ./cragig002_consens/s5_consens_stats.txt\n",
      "step 6: ./cragig002_consens/s6_cluster_stats.txt\n",
      "step 7: ./cragig002_outfiles/cragig002_stats.txt\n",
      "\n",
      "\n"
     ]
    }
   ],
   "source": [
    "!ipyrad -p params-cragig002.txt -r"
   ]
  },
  {
   "cell_type": "markdown",
   "metadata": {},
   "source": [
    "Clustering is one of the most important and sensitive steps. So it's worth understanding what's in the s3_cluster_stats.txt files. I talked to Katherine on the phone to help make sense of the headers, because the documentation is not extremely thorough (the cost of the writers making everything sleek and simple!). So, here's the file:"
   ]
  },
  {
   "cell_type": "code",
   "execution_count": 6,
   "metadata": {
    "collapsed": false
   },
   "outputs": [
    {
     "name": "stdout",
     "output_type": "stream",
     "text": [
      "        clusters_total  hidepth_min clusters_hidepth avg_depth_total avg_depth_mj avg_depth_stat sd_depth_total sd_depth_mj sd_depth_stat filtered_bad_align\r\n",
      "FG001            28719         10.0            18878          140.59       212.31         212.31        1057.95     1299.12       1299.12                  0\r\n",
      "FG009            31799         10.0            19670          164.59       264.19         264.19        1525.65     1933.09       1933.09                  0\r\n",
      "FG100_B          27072         10.0            18151          140.58       208.32         208.32         666.99      805.98        805.98                  0\r\n",
      "FG102_B          32437         10.0            18407          103.80       180.36         180.36         877.05     1158.43       1158.43                  0\r\n",
      "FG205            28809         10.0            18786          148.52       226.15         226.15        1278.66     1577.97       1577.97                  0\r\n",
      "FG212             1568         10.0             1550          333.15       336.95         336.95        3951.17     3973.89       3973.89                  0\r\n",
      "Q314             32843         10.0            19094          104.75       177.80         177.80         646.92      840.90        840.90                  0\r\n",
      "Q324             47166         10.0            22765           79.79       161.41         161.41         605.97      864.82        864.82                  0\r\n",
      "Q330             63309         10.0            30700           53.00       104.52         104.52         470.61      671.98        671.98                  0\r\n"
     ]
    }
   ],
   "source": [
    "!head ./cragig002_clust_0.82/s3_cluster_stats.txt"
   ]
  },
  {
   "cell_type": "code",
   "execution_count": null,
   "metadata": {
    "collapsed": true
   },
   "outputs": [],
   "source": []
  }
 ],
 "metadata": {
  "kernelspec": {
   "display_name": "Python 2",
   "language": "python",
   "name": "python2"
  },
  "language_info": {
   "codemirror_mode": {
    "name": "ipython",
    "version": 2
   },
   "file_extension": ".py",
   "mimetype": "text/x-python",
   "name": "python",
   "nbconvert_exporter": "python",
   "pygments_lexer": "ipython2",
   "version": "2.7.13"
  }
 },
 "nbformat": 4,
 "nbformat_minor": 2
}
