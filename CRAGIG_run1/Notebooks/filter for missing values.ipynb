{
 "cells": [
  {
   "cell_type": "markdown",
   "metadata": {
    "deletable": true,
    "editable": true
   },
   "source": [
    "**20170313**\n",
    "\n",
    "This script takes a transposed genepop file CSV, the population map from ``Stacks``, a string for the name of the file to store kept loci, a string for the name of the file to store lost loci, and a floating point number for the threshold to filter missing values. Then, it filters out loci where the missing value frequency hits the threshold or goes above the threshold in any population. It produces two text files that store kept and lost loci respectively. Lastly it reports back the number of kept and lost loci.\n",
    "\n",
    "This script is based off of Eleni's script for filtering based on missing values. I changed it so that it uses the ``Stacks`` population map to get the indeces of each population in the transposed CSV.\n",
    "\n",
    "The script lives [here](https://github.com/nclowell/RAD_Scallops/blob/master/CRAGIG_run1/Scripts/filter_missval.py).\n",
    "\n",
    "Example usage:"
   ]
  },
  {
   "cell_type": "code",
   "execution_count": 2,
   "metadata": {
    "collapsed": false,
    "deletable": true,
    "editable": true
   },
   "outputs": [
    {
     "name": "stdout",
     "output_type": "stream",
     "text": [
      "/mnt/hgfs/SHARED_FOLDER/Git_repo/CRAGIG_run1/Scripts\n"
     ]
    }
   ],
   "source": [
    "cd /mnt/hgfs/SHARED_FOLDER/Git_repo/CRAGIG_run1/Scripts"
   ]
  },
  {
   "cell_type": "code",
   "execution_count": 11,
   "metadata": {
    "collapsed": false,
    "deletable": true,
    "editable": true
   },
   "outputs": [
    {
     "name": "stdout",
     "output_type": "stream",
     "text": [
      "\r\n",
      "This script filtered out 11035 loci, out of a total of 82264 loci.\r\n",
      "\r\n",
      "Your keptloci file should have 71229 loci, and your lostloci file should have 11035 loci.\r\n",
      "\r\n",
      "You retained 86.5% of your loci after filtering for missing values.\r\n"
     ]
    }
   ],
   "source": [
    "!python filter_missval.py \\\n",
    "-g ../../../WorkingFolder/transposed_genepop.csv \\\n",
    "-p ../../../WorkingFolder/popmap_cragigrun1.txt \\\n",
    "-k ../../../WorkingFolder/Stacks_2/keptloci_20170313.csv \\\n",
    "-l ../../../WorkingFolder/Stacks_2/lostloci_20170313.csv \\\n",
    "-t .2"
   ]
  },
  {
   "cell_type": "code",
   "execution_count": null,
   "metadata": {
    "collapsed": true
   },
   "outputs": [],
   "source": []
  }
 ],
 "metadata": {
  "kernelspec": {
   "display_name": "Python 2",
   "language": "python",
   "name": "python2"
  },
  "language_info": {
   "codemirror_mode": {
    "name": "ipython",
    "version": 2
   },
   "file_extension": ".py",
   "mimetype": "text/x-python",
   "name": "python",
   "nbconvert_exporter": "python",
   "pygments_lexer": "ipython2",
   "version": "2.7.12"
  }
 },
 "nbformat": 4,
 "nbformat_minor": 2
}
