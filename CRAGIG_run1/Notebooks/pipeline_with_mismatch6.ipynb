{
 "cells": [
  {
   "cell_type": "markdown",
   "metadata": {},
   "source": [
    "# Downstream effect of mismatch parameter 6\n",
    "\n",
    "**20170323**\n",
    "\n",
    "I'm going to run the pipeline identically to how I ran it in my CRAGIG run1 notebook, except I'm changing the mismatch parameter to test it's effect. Here, 6 mismatches allowed in ``ustacks``."
   ]
  },
  {
   "cell_type": "markdown",
   "metadata": {},
   "source": [
    "### ``ustacks``"
   ]
  },
  {
   "cell_type": "markdown",
   "metadata": {},
   "source": [
    "I used my ``easy_ustacks`` script to run ``ustacks``, but outside of the notebook because it's interactive in the terminal."
   ]
  },
  {
   "cell_type": "code",
   "execution_count": 3,
   "metadata": {
    "collapsed": false
   },
   "outputs": [
    {
     "name": "stdout",
     "output_type": "stream",
     "text": [
      "/mnt/hgfs/SHARED_FOLDER/Git_repo/CRAGIG_run1/Scripts\n"
     ]
    }
   ],
   "source": [
    "cd /mnt/hgfs/SHARED_FOLDER/Git_repo/CRAGIG_run1/Scripts"
   ]
  },
  {
   "cell_type": "code",
   "execution_count": 5,
   "metadata": {
    "collapsed": false,
    "scrolled": true
   },
   "outputs": [
    {
     "name": "stdout",
     "output_type": "stream",
     "text": [
      "usage: easy_ustacks.py [-h] -t TYPE -i INPUTDIR [-r] [-d] [-o OUT]\r\n",
      "                       [-m MINDEPTH] [-M MAXDIS] [-p THREADS] [-x STARTID] -c\r\n",
      "                       COUNT [-P POPMAP]\r\n",
      "\r\n",
      "Write and call a ustacks shell script, and plot results\r\n",
      "\r\n",
      "optional arguments:\r\n",
      "  -h, --help            show this help message and exit\r\n",
      "  -t TYPE, --type TYPE  input file type; supported types: fasta, fastq,\r\n",
      "                        gzfasta, gzfastsq\r\n",
      "  -i INPUTDIR, --inputdir INPUTDIR\r\n",
      "                        relative path to directory with samples for ustacks\r\n",
      "  -r, --removal         enable the removal algorithm to drop highly-repetitive\r\n",
      "                        stacks\r\n",
      "  -d, --delever         enable the deleveraging algortih for resolving merged\r\n",
      "                        tags\r\n",
      "  -o OUT, --out OUT     output path to write results\r\n",
      "  -m MINDEPTH, --mindepth MINDEPTH\r\n",
      "                        minimum depth of coverage required to create a stack;\r\n",
      "                        default 2\r\n",
      "  -M MAXDIS, --maxdis MAXDIS\r\n",
      "                        maximum distance in nucleotides allowed between stacks\r\n",
      "  -p THREADS, --threads THREADS\r\n",
      "                        allow parallel execution with p num threads\r\n",
      "  -x STARTID, --startID STARTID\r\n",
      "                        starting number for SQL ID intger if not starting at\r\n",
      "                        001\r\n",
      "  -c COUNT, --count COUNT\r\n",
      "                        name of text file that will store unique loci count\r\n",
      "                        data\r\n",
      "  -P POPMAP, --popmap POPMAP\r\n",
      "                        population map\r\n"
     ]
    }
   ],
   "source": [
    "!python easy_ustacks.py --help"
   ]
  },
  {
   "cell_type": "markdown",
   "metadata": {},
   "source": [
    "Running easy_ustacks looked like:\n",
    "<br>\n",
    "<br>\n",
    "``$ python easy_ustacks.py -t fastq  -i ../../../WorkingFolder/Stacks -r -d -o ../../../WorkingFolder/Stacks_6m -m 10 -M 6 -p 10 -c ustacks_locicounts_20170323.txt -P ../../../WorkingFolder/popmap_cragigrun1.txt -r -d``\n",
    "\n",
    "Example line of code from generated bash script:\n",
    "<br>\n",
    "<br>\n",
    "``stacks ustacks -f ../../../WorkingFolder/Stacks/FG009.fq -i 0 -m 10 -t fastq -o ../../../WorkingFolder/Stacks_6m -p 10 -M 6 -r -d ``\n",
    "\n",
    "What the program looks like when it's running:\n",
    "<br>\n",
    "<br>\n",
    "``Script verified. Program continuing.\n",
    "Min depth of coverage to create a stack: 10\n",
    "Max distance allowed between stacks: 6\n",
    "Max distance allowed to align secondary reads: 8\n",
    "Max number of stacks allowed per de novo locus: 3\n",
    "Deleveraging algorithm: enabled\n",
    "Removal algorithm: enabled\n",
    "Model type: SNP\n",
    "Alpha significance level for model: 0.05\n",
    "Parsing ../../../WorkingFolder/Stacks/FG009.fq\n",
    "Loaded 5828500 RAD-Tags; inserted 561046 elements into the RAD-Tags hash map.\n",
    "  0 reads contained uncalled nucleotides that were modified.\n",
    "  Mean coverage depth is 147; Std Dev: 404.24 Max: 53825\n",
    "Coverage mean: 147; stdev: 404.24\n",
    "Deleveraging trigger: 551; Removal trigger: 955\n",
    "Calculating distance for removing repetitive stacks.\n",
    "  Distance allowed between stacks: 1\n",
    "  Using a k-mer length of 69\n",
    "  Number of kmers per sequence: 71\n",
    "  Minimum number of k-mers to define a match: 2\n",
    "Removing repetitive stacks.\n",
    "  Removed 728 stacks.\n",
    "  34999 stacks remain for merging.\n",
    "Calculating distance between stacks...\n",
    "  Distance allowed between stacks: 6\n",
    "  Using a k-mer length of 19\n",
    "  Number of kmers per sequence: 121\n",
    "  Minimum number of k-mers to define a match: 7\n",
    "Merging stacks, maximum allowed distance: 6 nucleotide(s)``"
   ]
  },
  {
   "cell_type": "markdown",
   "metadata": {},
   "source": [
    "## ``cstacks``\n",
    "\n",
    "Running ``cstacks`` with the same individuals as my first iteration of the pipeline.\n",
    "\n",
    "Running easy_ustacks looked like:\n",
    "<br>\n",
    "<br>\n",
    "\n",
    "Example line of code from generated bash script:\n",
    "<br>\n",
    "<br>\n",
    "\n",
    "What the program looks like when it's running:\n",
    "<br>\n",
    "<br>\n",
    "\n"
   ]
  },
  {
   "cell_type": "markdown",
   "metadata": {},
   "source": [
    "## ``sstacks``\n",
    "\n",
    "Running ``sstacks``.\n",
    "\n",
    "Running easy_sstacks looked like:\n",
    "<br>\n",
    "<br>\n",
    "\n",
    "Example line of code from generated bash script:\n",
    "<br>\n",
    "<br>\n",
    "\n",
    "What the program looks like when it's running:\n",
    "<br>\n",
    "<br>\n"
   ]
  },
  {
   "cell_type": "markdown",
   "metadata": {},
   "source": [
    "## ``populations``\n",
    "\n",
    "Running ``populations``.\n"
   ]
  },
  {
   "cell_type": "markdown",
   "metadata": {},
   "source": [
    "## Bowtie + BLAST filtering"
   ]
  },
  {
   "cell_type": "markdown",
   "metadata": {},
   "source": []
  }
 ],
 "metadata": {
  "kernelspec": {
   "display_name": "Python 2",
   "language": "python",
   "name": "python2"
  },
  "language_info": {
   "codemirror_mode": {
    "name": "ipython",
    "version": 2
   },
   "file_extension": ".py",
   "mimetype": "text/x-python",
   "name": "python",
   "nbconvert_exporter": "python",
   "pygments_lexer": "ipython2",
   "version": "2.7.12"
  }
 },
 "nbformat": 4,
 "nbformat_minor": 2
}
