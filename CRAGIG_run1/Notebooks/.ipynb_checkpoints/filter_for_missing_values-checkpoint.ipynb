{
 "cells": [
  {
   "cell_type": "markdown",
   "metadata": {},
   "source": [
    "20170313\n",
    "\n",
    "This script takes a transposed genepop file CSV, the population map from ``Stacks``, a string for the name of the file to store kept loci, a string for the name of the file to store lost loci, and a floating point number for the threshold to filter missing values. Then, it filters out loci where the missing value frequency hits the threshold or goes above the threshold in any population. It produces two text files that store kept and lost loci respectively. Lastly it reports back the number of kept and lost loci.\n",
    "\n",
    "This script is based off of Eleni's script for filtering based on missing values. I changed it so that it uses the ``Stacks`` population map"
   ]
  }
 ],
 "metadata": {
  "kernelspec": {
   "display_name": "Python 2",
   "language": "python",
   "name": "python2"
  },
  "language_info": {
   "codemirror_mode": {
    "name": "ipython",
    "version": 2
   },
   "file_extension": ".py",
   "mimetype": "text/x-python",
   "name": "python",
   "nbconvert_exporter": "python",
   "pygments_lexer": "ipython2",
   "version": "2.7.12"
  }
 },
 "nbformat": 4,
 "nbformat_minor": 2
}
