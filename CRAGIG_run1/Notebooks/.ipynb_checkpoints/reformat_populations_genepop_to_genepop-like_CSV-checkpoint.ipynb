{
 "cells": [
  {
   "cell_type": "markdown",
   "metadata": {},
   "source": [
    "## ``populations`` genepop file to genepop-like CSV file for filtering steps\n",
    "\n",
    "This script takes a genepop file straight out of ``populations`` and reformats so that it can be fed into our lab's post Stacks filtering scripts. More specifically, it makes a CSV file where the sample names are column headers, the loci are listed down column 1, genotypes are in the rest of the cells, and cell [1,1] says \"sample.\"\n",
    "\n",
    "Click [here](https://github.com/nclowell/RAD_Scallops/blob/master/CRAGIG_run1/Scripts/pop_gp_to_csv_gp.py) for a link to the script.\n",
    "\n",
    "The script works has three major blocks. The first is writing a list of lists that resembles the desired array. The second is making a ``numpy`` array out of the list of lists, and the third is writing the array to a CSV.\n"
   ]
  },
  {
   "cell_type": "code",
   "execution_count": null,
   "metadata": {
    "collapsed": true
   },
   "outputs": [],
   "source": []
  }
 ],
 "metadata": {
  "kernelspec": {
   "display_name": "Python 2",
   "language": "python",
   "name": "python2"
  },
  "language_info": {
   "codemirror_mode": {
    "name": "ipython",
    "version": 2
   },
   "file_extension": ".py",
   "mimetype": "text/x-python",
   "name": "python",
   "nbconvert_exporter": "python",
   "pygments_lexer": "ipython2",
   "version": "2.7.12"
  }
 },
 "nbformat": 4,
 "nbformat_minor": 2
}
