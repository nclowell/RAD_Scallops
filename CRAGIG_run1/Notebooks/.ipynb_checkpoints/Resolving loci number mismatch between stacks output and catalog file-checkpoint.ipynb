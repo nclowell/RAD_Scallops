{
 "cells": [
  {
   "cell_type": "markdown",
   "metadata": {},
   "source": [
    "## Issue: # loci in Genepop > # loci in catalog\n",
    "\n",
    "This shouldn't be possible! I double-checked that I used the output of ``pstacks`` (and not back to ``ustacks``) for the second round of ``Stacks`` with my reference genome, but couldn't find the error. One thing that it could be is when I ran ``cstacks`` the second time, I used a ``-g`` and an ``-n`` value, which I found out from Dan may confuse the program. It's supposed to receive either/or, depending on whether using a reference genome. Second round of ``cstacks`` - my catalog had 27,460 loci, second round of ``populations`` - my Genepop file had 82,265 loci.\n",
    "\n",
    "**Hypothesis**\n",
    "\n",
    "When I fed ``cstacks`` a ``-g`` and a ``-n``, it confused the program and it assumed I wasn't using a reference genome.\n",
    "\n",
    "To test this, I'll rerun the second round of ``cstacks`` in the same way, except without the ``-n`` argument.\n",
    "\n"
   ]
  },
  {
   "cell_type": "markdown",
   "metadata": {},
   "source": [
    "## Testing the second round ``cstacks``\n",
    "\n",
    "I'm going to use my ``easy_cstacks.py`` script. Notice that now we have two tags, snps, and alleles files, one set from ustacks and one now from pstacks. I moved all the pstacks ones into their own directory (called Stacks_2).\n",
    "\n",
    "\n",
    "This is what the bash script looked like when I used a ``-g`` and ``-n``:\n",
    "```\n",
    "This is what your cstacks shell looks like.\n",
    "stacks cstacks -b 100 -g -s pstacks/Q324 -s pstacks/Q318 -s pstacks/Q326 -s pstacks/Q314 -s pstacks/Q316 -s pstacks/Q323 -s pstacks/Q325 -s pstacks/Q351 -s pstacks/Q352 -s pstacks/Q332 -s pstacks/Q339 -s pstacks/Q334 -s pstacks/Q347 -s pstacks/Q356 -s pstacks/Q330 -s pstacks/Q355 -s pstacks/Q354 -s pstacks/FG009 -s pstacks/FG033 -s pstacks/FG002 -s pstacks/FG027 -s pstacks/FG021 -s pstacks/FG013 -s pstacks/FG001 -s pstacks/FG005 -s pstacks/FG014 -s pstacks/FG006 -s pstacks/FG101_A -s pstacks/FG102_A -s pstacks/FG100_B -s pstacks/FG106 -s pstacks/FG107 -s pstacks/FG109 -s pstacks/FG104_A -s pstacks/FG111 -s pstacks/FG108 -s pstacks/FG103_A -s pstacks/FG210 -s pstacks/FG205 -s pstacks/FG211 -s pstacks/FG212 -s pstacks/FG201 -s pstacks/FG209 -s pstacks/FG206 -s pstacks/FG204 -s pstacks/FG202 -s pstacks/FG203 -o pstacks -n 3 -p 5 \n",
    "```\n",
    "\n",
    "Going to use the same ``easy_cstacks.py`` script."
   ]
  },
  {
   "cell_type": "code",
   "execution_count": 3,
   "metadata": {
    "collapsed": false
   },
   "outputs": [
    {
     "name": "stdout",
     "output_type": "stream",
     "text": [
      "/mnt/hgfs/SHARED_FOLDER/Git_repo/CRAGIG_run1/Scripts\n"
     ]
    }
   ],
   "source": [
    "cd /mnt/hgfs/SHARED_FOLDER/Git_repo/CRAGIG_run1/Scripts"
   ]
  },
  {
   "cell_type": "code",
   "execution_count": 5,
   "metadata": {
    "collapsed": false
   },
   "outputs": [
    {
     "name": "stdout",
     "output_type": "stream",
     "text": [
      "usage: easy_cstacks.py [-h] [-p THREADS] -b BATCH -s SAMPLES -o OUTPUT -n\r\n",
      "                       MISMATCH [-i INPUT]\r\n",
      "\r\n",
      "Write and call a cstacks shell script\r\n",
      "\r\n",
      "optional arguments:\r\n",
      "  -h, --help            show this help message and exit\r\n",
      "  -p THREADS, --threads THREADS\r\n",
      "                        enable parallel execution with num_threads threads\r\n",
      "  -b BATCH, --batch BATCH\r\n",
      "                        batch number\r\n",
      "  -s SAMPLES, --samples SAMPLES\r\n",
      "                        text file with names of each sample to include in\r\n",
      "                        cstacks on its own line and without file extension\r\n",
      "  -o OUTPUT, --output OUTPUT\r\n",
      "                        output path to write results\r\n",
      "  -n MISMATCH, --mismatch MISMATCH\r\n",
      "                        number of mismatches allowed between sample tags when\r\n",
      "                        generating the catalog\r\n",
      "  -i INPUT, --input INPUT\r\n",
      "                        relative path to directory with input sample files,\r\n",
      "                        required only if program file is not in directory with\r\n",
      "                        sample files\r\n"
     ]
    }
   ],
   "source": [
    "!python easy_cstacks.py -h"
   ]
  },
  {
   "cell_type": "code",
   "execution_count": null,
   "metadata": {
    "collapsed": true
   },
   "outputs": [],
   "source": [
    "!python easy_ctacks.py \\\n",
    "-p 3 \\\n",
    "-b 100 \\\n",
    "-s ../../../WorkingFolder/samples_for_cstacks.txt \\\n",
    "-o ../../../WorkingFolder/Cstacks2_Take2 \\\n",
    "-i ../../../WorkingFolder/Stacks_2 \\\n",
    "-g\n"
   ]
  }
 ],
 "metadata": {
  "kernelspec": {
   "display_name": "Python 2",
   "language": "python",
   "name": "python2"
  },
  "language_info": {
   "codemirror_mode": {
    "name": "ipython",
    "version": 2
   },
   "file_extension": ".py",
   "mimetype": "text/x-python",
   "name": "python",
   "nbconvert_exporter": "python",
   "pygments_lexer": "ipython2",
   "version": "2.7.12"
  }
 },
 "nbformat": 4,
 "nbformat_minor": 2
}
