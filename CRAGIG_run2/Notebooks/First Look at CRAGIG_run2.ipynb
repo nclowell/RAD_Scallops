{
 "cells": [
  {
   "cell_type": "markdown",
   "metadata": {
    "deletable": true,
    "editable": true
   },
   "source": [
    "## Verify successful download using md5 check sum"
   ]
  },
  {
   "cell_type": "code",
   "execution_count": 9,
   "metadata": {
    "collapsed": false,
    "deletable": true,
    "editable": true
   },
   "outputs": [
    {
     "name": "stdout",
     "output_type": "stream",
     "text": [
      "/mnt/hgfs/Data/CRAGIG_RUN2/CRAGIG_RUN2_rawdata\n"
     ]
    }
   ],
   "source": [
    "cd /mnt/hgfs/Data/CRAGIG_RUN2/CRAGIG_RUN2_rawdata/"
   ]
  },
  {
   "cell_type": "code",
   "execution_count": 10,
   "metadata": {
    "collapsed": false,
    "deletable": true,
    "editable": true
   },
   "outputs": [
    {
     "name": "stdout",
     "output_type": "stream",
     "text": [
      "\u001b[0m\u001b[01;32mCRAGIG_RUN2_1.fq.gz\u001b[0m*  \u001b[01;32mCRAGIG_RUN2_2.fq.gz\u001b[0m*\r\n"
     ]
    }
   ],
   "source": [
    "ls"
   ]
  },
  {
   "cell_type": "code",
   "execution_count": 12,
   "metadata": {
    "collapsed": false,
    "deletable": true,
    "editable": true
   },
   "outputs": [
    {
     "name": "stdout",
     "output_type": "stream",
     "text": [
      "e2bd90ef0c1fb34fa24bd42611cc2fd1  CRAGIG_RUN2_1.fq.gz\r\n"
     ]
    }
   ],
   "source": [
    "!md5sum CRAGIG_RUN2_1.fq.gz"
   ]
  },
  {
   "cell_type": "markdown",
   "metadata": {
    "deletable": true,
    "editable": true
   },
   "source": [
    "From the md5.txt file:\n",
    "\n",
    "``e2bd90ef0c1fb34fa24bd42611cc2fd1  raw/CRAGIG_RUN2/CRAGIG_RUN2_1.fq.gz``\n",
    "\n",
    "Forward reads successful downloaded!"
   ]
  },
  {
   "cell_type": "code",
   "execution_count": 13,
   "metadata": {
    "collapsed": false,
    "deletable": true,
    "editable": true
   },
   "outputs": [
    {
     "name": "stdout",
     "output_type": "stream",
     "text": [
      "0bc993a9ade4edb86b859ff1daee1990  CRAGIG_RUN2_2.fq.gz\r\n"
     ]
    }
   ],
   "source": [
    "!md5sum CRAGIG_RUN2_2.fq.gz"
   ]
  },
  {
   "cell_type": "markdown",
   "metadata": {
    "deletable": true,
    "editable": true
   },
   "source": [
    "From the md5.txt file:\n",
    "\n",
    "``0bc993a9ade4edb86b859ff1daee1990  raw/CRAGIG_RUN2/CRAGIG_RUN2_2.fq.gz``\n",
    "\n",
    "Reverse reads successfully downloaded!"
   ]
  },
  {
   "cell_type": "markdown",
   "metadata": {
    "collapsed": true,
    "deletable": true,
    "editable": true
   },
   "source": [
    "## Check quality using FastQC\n",
    "\n",
    "**20170613**\n",
    "\n",
    "I jumped right into trying to analyze both lanes of scallop data in ipyrad, and have been having some issues. I wondered if the sequencing run went well and realized I never actually checked. So I'm going to run a bunch of the fastq files through it and report back here.\n",
    "\n"
   ]
  }
 ],
 "metadata": {
  "kernelspec": {
   "display_name": "Python 2",
   "language": "python",
   "name": "python2"
  },
  "language_info": {
   "codemirror_mode": {
    "name": "ipython",
    "version": 2
   },
   "file_extension": ".py",
   "mimetype": "text/x-python",
   "name": "python",
   "nbconvert_exporter": "python",
   "pygments_lexer": "ipython2",
   "version": "2.7.13"
  }
 },
 "nbformat": 4,
 "nbformat_minor": 2
}
